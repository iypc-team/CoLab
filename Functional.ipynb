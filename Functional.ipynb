{
  "nbformat": 4,
  "nbformat_minor": 0,
  "metadata": {
    "colab": {
      "name": "Functional.ipynb",
      "provenance": [],
      "private_outputs": true,
      "collapsed_sections": [],
      "include_colab_link": true
    },
    "kernelspec": {
      "name": "python3",
      "display_name": "Python 3"
    }
  },
  "cells": [
    {
      "cell_type": "markdown",
      "metadata": {
        "id": "view-in-github",
        "colab_type": "text"
      },
      "source": [
        "<a href=\"https://colab.research.google.com/github/iypc-team/CoLab/blob/master/Functional.ipynb\" target=\"_parent\"><img src=\"https://colab.research.google.com/assets/colab-badge.svg\" alt=\"Open In Colab\"/></a>"
      ]
    },
    {
      "cell_type": "code",
      "metadata": {
        "id": "wMgNNMYSSA9v",
        "colab_type": "code",
        "colab": {}
      },
      "source": [
        "print(\"4/rwEEiAhDgBFAkkozvn_wauNpGAvyG_AIp6IuVevPwXpbgF_WvOceaBE\", '\\n')\n",
        "from google.colab import drive\n",
        "drive.mount('/content/drive')"
      ],
      "execution_count": 0,
      "outputs": []
    },
    {
      "cell_type": "code",
      "metadata": {
        "id": "LHU_Q51NUdfn",
        "colab_type": "code",
        "colab": {}
      },
      "source": [
        "help(drive)"
      ],
      "execution_count": 0,
      "outputs": []
    },
    {
      "cell_type": "code",
      "metadata": {
        "id": "tvIjw4IxeaW9",
        "colab_type": "code",
        "colab": {}
      },
      "source": [
        "from IPython.display import clear_output\n",
        "%pip install tensorflow==2.0\n",
        "\n",
        "clear_output()\n",
        "print(\"All installs completed.\")"
      ],
      "execution_count": 0,
      "outputs": []
    },
    {
      "cell_type": "code",
      "metadata": {
        "id": "4PEoqSj59Oln",
        "colab_type": "code",
        "colab": {}
      },
      "source": [
        "from __future__ import absolute_import, division, print_function, unicode_literals\n",
        "import tensorflow as tf\n",
        "import numpy as np\n",
        "\n",
        "print(\"tensorflow:\", tf.__version__)\n",
        "print(\"numpy:\", np.__version__)"
      ],
      "execution_count": 0,
      "outputs": []
    },
    {
      "cell_type": "code",
      "metadata": {
        "colab_type": "code",
        "id": "Z5fULpFe8_mE",
        "colab": {}
      },
      "source": [
        "# dir(tf.function)"
      ],
      "execution_count": 0,
      "outputs": []
    },
    {
      "cell_type": "code",
      "metadata": {
        "id": "ShhtoPXwa9Ab",
        "colab_type": "code",
        "colab": {}
      },
      "source": [
        "# help(tf.function)\n",
        "# print(help(tf.function))"
      ],
      "execution_count": 0,
      "outputs": []
    },
    {
      "cell_type": "code",
      "metadata": {
        "id": "G4sue-dT6noJ",
        "colab_type": "code",
        "colab": {}
      },
      "source": [
        "def f(x, y):\n",
        "    return tf.reduce_mean(tf.multiply(x ** 2, 3) + y)\n",
        "\n",
        "g = tf.function(f)\n",
        "x = tf.Variable([[2.0, 3.0]])\n",
        "y = tf.Variable([[3.0, -2.0]])\n",
        "\n",
        "#  F and G will return the same value,  \n",
        "#  but G will be returned as a TensorFlow graph.\n",
        "assert f(x, y).numpy() == g(x, y).numpy()\n",
        "\n"
      ],
      "execution_count": 0,
      "outputs": []
    },
    {
      "cell_type": "code",
      "metadata": {
        "id": "-XMpGTpzzbRS",
        "colab_type": "code",
        "colab": {}
      },
      "source": [
        "print(\"f(x, y) = \", f(x, y).numpy())\n",
        "print(\"g(x, y) = \", g(x, y).numpy())"
      ],
      "execution_count": 0,
      "outputs": []
    },
    {
      "cell_type": "code",
      "metadata": {
        "id": "u_ZHDkxNexzt",
        "colab_type": "code",
        "colab": {}
      },
      "source": [
        "state=[]\n",
        "\n",
        "@tf.function\n",
        "def fn(x):\n",
        "    if not state:\n",
        "        state.append(tf.Variable(2.0 * x))\n",
        "    return state[0] \n",
        "\n",
        "value=fn(tf.constant(4.0))\n",
        "print('\\n', value)"
      ],
      "execution_count": 0,
      "outputs": []
    }
  ]
}