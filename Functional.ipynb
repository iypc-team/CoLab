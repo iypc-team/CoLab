{
  "nbformat": 4,
  "nbformat_minor": 0,
  "metadata": {
    "colab": {
      "name": "Functional.ipynb",
      "provenance": [],
      "private_outputs": true,
      "collapsed_sections": [],
      "include_colab_link": true
    },
    "kernelspec": {
      "name": "python3",
      "display_name": "Python 3"
    }
  },
  "cells": [
    {
      "cell_type": "markdown",
      "metadata": {
        "id": "view-in-github",
        "colab_type": "text"
      },
      "source": [
        "<a href=\"https://colab.research.google.com/github/iypc-team/CoLab/blob/master/Functional.ipynb\" target=\"_parent\"><img src=\"https://colab.research.google.com/assets/colab-badge.svg\" alt=\"Open In Colab\"/></a>"
      ]
    },
    {
      "cell_type": "code",
      "metadata": {
        "id": "tvIjw4IxeaW9",
        "colab_type": "code",
        "colab": {}
      },
      "source": [
        "from IPython.display import clear_output\n",
        "%pip install tensorflow==2.0\n",
        "clear_output()\n",
        "import tensorflow as tf\n",
        "print(\"tf version:\", tf.__version__)"
      ],
      "execution_count": 0,
      "outputs": []
    },
    {
      "cell_type": "code",
      "metadata": {
        "id": "u_ZHDkxNexzt",
        "colab_type": "code",
        "colab": {}
      },
      "source": [
        "state=[]\n",
        "\n",
        "@tf.function\n",
        "def fn(x):\n",
        "    if not state:\n",
        "        state.append(tf.Variable(2.0 * x))\n",
        "    return state[0] \n",
        "\n",
        "value=fn(tf.constant(3.0))\n",
        "value= fn(4.0)\n",
        "print(value)"
      ],
      "execution_count": 0,
      "outputs": []
    }
  ]
}