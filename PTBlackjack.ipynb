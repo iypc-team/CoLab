{
  "nbformat": 4,
  "nbformat_minor": 0,
  "metadata": {
    "colab": {
      "name": "PTBlackjack.ipynb",
      "provenance": [],
      "collapsed_sections": [],
      "machine_shape": "hm",
      "authorship_tag": "ABX9TyND8l+knNW6vhlh5eyIM3H/",
      "include_colab_link": true
    },
    "kernelspec": {
      "name": "python3",
      "display_name": "Python 3"
    },
    "accelerator": "TPU"
  },
  "cells": [
    {
      "cell_type": "markdown",
      "metadata": {
        "id": "view-in-github",
        "colab_type": "text"
      },
      "source": [
        "<a href=\"https://colab.research.google.com/github/iypc-team/CoLab/blob/master/PTBlackjack.ipynb\" target=\"_parent\"><img src=\"https://colab.research.google.com/assets/colab-badge.svg\" alt=\"Open In Colab\"/></a>"
      ]
    },
    {
      "cell_type": "code",
      "metadata": {
        "id": "F1XpVvp9vn7L",
        "colab": {
          "base_uri": "https://localhost:8080/"
        },
        "outputId": "2d91775b-a352-4d15-9e29-e503258ed493"
      },
      "source": [
        "from __future__ import absolute_import\n",
        "import glob, os, shutil\n",
        "from os.path import *\n",
        "from pathlib import Path\n",
        "from google.colab import drive\n",
        "\n",
        "drive.flush_and_unmount()\n",
        "drive.mount('/content/drive', force_remount=True)\n",
        "contentPth=str(Path.cwd())\n",
        "os.chdir('/content/drive/My Drive/PythonFiles')"
      ],
      "execution_count": 1,
      "outputs": [
        {
          "output_type": "stream",
          "text": [
            "Mounted at /content/drive\n"
          ],
          "name": "stdout"
        }
      ]
    },
    {
      "cell_type": "code",
      "metadata": {
        "id": "9kpyz72AiUFO"
      },
      "source": [
        "import ImportDriveFiles\n",
        "from BashColors import C\n",
        "from GetTPU import *\n",
        "# gt.startTPU()\n",
        "tpuStrategy=gt.tpu_strategy\n"
      ],
      "execution_count": 2,
      "outputs": []
    },
    {
      "cell_type": "code",
      "metadata": {
        "id": "ytzyJDai1-Ia",
        "colab": {
          "base_uri": "https://localhost:8080/"
        },
        "outputId": "9e18da7d-9f85-401f-9585-d3a3d7a27d1d"
      },
      "source": [
        "\n",
        "os.chdir('/content/drive/My Drive/PT/Fundamentals')\n",
        "dirList=glob.glob('*.py')\n",
        "pth=None\n",
        "pathList=[]\n",
        "projectDict={}\n",
        "counter=0\n",
        "for filName in dirList:\n",
        "    fullPath=abspath(filName)\n",
        "    if fullPath.__contains__('blackJack'):\n",
        "        counter+=1\n",
        "        projectDict[counter]=fullPath\n",
        "        pathList.append(fullPath)\n",
        "        # print(f'{counter}. {C.Green}{fullPath}{C.White}')\n",
        "for pth in sorted(pathList):\n",
        "    bn=basename(pth)\n",
        "    name=os.path.splitext(bn)\n",
        "    thisModule=name[0]\n",
        "    print(f'{thisModule}')\n",
        "    \n",
        "import control_blackJack_no_es\n",
        "import main_control_blackJack_no_es\n",
        "import main_prediction_blackJack as mmain\n",
        "import prediction_blackJack\n",
        "\n",
        "os.chdir('/content')"
      ],
      "execution_count": 3,
      "outputs": [
        {
          "output_type": "stream",
          "text": [
            "control_blackJack_no_es\n",
            "main_control_blackJack_no_es\n",
            "main_prediction_blackJack\n",
            "prediction_blackJack\n"
          ],
          "name": "stdout"
        }
      ]
    },
    {
      "cell_type": "code",
      "metadata": {
        "id": "CDUL9Y1OCINC",
        "colab": {
          "base_uri": "https://localhost:8080/"
        },
        "outputId": "0ac5b405-59dc-4cd1-e37a-3f715d892aa5"
      },
      "source": [
        "def copyToContent(path_list):\n",
        "    os.chdir('/content')\n",
        "    print(f'{C.Green}Copied to \"/content\" directory:{C.White}')\n",
        "    for pth in path_list:\n",
        "        sourcePath=pth\n",
        "        destinationPath= os.path.join('/content', basename(pth))\n",
        "        shutil.copy(sourcePath, destinationPath)\n",
        "        print(basename(destinationPath))\n",
        "copyToContent(path_list=pathList)"
      ],
      "execution_count": 4,
      "outputs": [
        {
          "output_type": "stream",
          "text": [
            "\u001b[0;32mCopied to \"/content\" directory:\u001b[0;37m\n",
            "control_blackJack_no_es.py\n",
            "main_control_blackJack_no_es.py\n",
            "main_prediction_blackJack.py\n",
            "prediction_blackJack.py\n"
          ],
          "name": "stdout"
        }
      ]
    },
    {
      "cell_type": "code",
      "metadata": {
        "id": "-k29VXCaPKRq",
        "colab": {
          "base_uri": "https://localhost:8080/",
          "height": 671
        },
        "outputId": "809c327d-49c4-427b-d70f-1af8cf32c325"
      },
      "source": [
        "import gym\n",
        "import matplotlib.pyplot as plt\n",
        "from control_blackJack_no_es import Agent\n",
        "import FunctionTimer\n",
        "from FunctionTimer import ft\n",
        "startTime=ft.getTimeStamp()\n",
        "\n",
        "if __name__=='__main__':\n",
        "    env=gym.make('Blackjack-v0')\n",
        "    agent=Agent(eps=0.001) # default eps=0.001\n",
        "    n_episodes=250001\n",
        "    win_loose_draw={-1:0, 0:0, 1:0}\n",
        "    win_rates=[]\n",
        "    for i in range(n_episodes):\n",
        "        if i > 0 and i % 1000==0:\n",
        "            pct=win_loose_draw[1] / i\n",
        "            pct=pct*100\n",
        "            win_rates.append(pct)\n",
        "            # print(f'{C.Green}{round(pct,1)} percent{C.ColorOff}')\n",
        "        \n",
        "        if i % 25000 == 0:\n",
        "            rates=win_rates[-1] if win_rates else 0.0\n",
        "            print(f'episode: {i} win rate {round(rates,1)} percent')\n",
        "        observation=env.reset()\n",
        "        done=False\n",
        "        while not done:\n",
        "            action=agent.choose_action(state=observation)\n",
        "            observation_, reward, done, info = env.step(action=action)\n",
        "            agent.memory.append((observation, action, reward))\n",
        "            observation=observation_\n",
        "        agent.update_Q()\n",
        "        win_loose_draw[reward]+=1\n",
        "    plt.plot(win_rates)\n",
        "    plt.show\n",
        "\n",
        "endTime=ft.getTimeStamp()\n",
        "print(f'playing {C.BIPurple}{n_episodes-1} games took...')\n",
        "ft.tpuTiming(start=startTime, end=endTime)\n",
        "print(f'{C.ColorOff}')"
      ],
      "execution_count": 5,
      "outputs": [
        {
          "output_type": "stream",
          "text": [
            "episode: 0 win rate 0.0 percent\n",
            "episode: 25000 win rate 40.1 percent\n",
            "episode: 50000 win rate 40.7 percent\n",
            "episode: 75000 win rate 40.8 percent\n",
            "episode: 100000 win rate 40.9 percent\n",
            "episode: 125000 win rate 41.0 percent\n",
            "episode: 150000 win rate 41.0 percent\n",
            "episode: 175000 win rate 41.1 percent\n",
            "episode: 200000 win rate 41.2 percent\n",
            "episode: 225000 win rate 41.2 percent\n",
            "episode: 250000 win rate 41.3 percent\n",
            "playing \u001b[1;95m250000 games took...\n",
            "tpu elapse time: 128.46590924263\n",
            "\u001b[0m\n"
          ],
          "name": "stdout"
        },
        {
          "output_type": "display_data",
          "data": {
            "image/png": "[encoded data removed]",
            "text/plain": [
              "<Figure size 432x288 with 1 Axes>"
            ]
          },
          "metadata": {
            "tags": [],
            "needs_background": "light"
          }
        }
      ]
    }
  ]
}