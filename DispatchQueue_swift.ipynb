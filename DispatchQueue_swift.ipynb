{
  "nbformat": 4,
  "nbformat_minor": 0,
  "metadata": {
    "colab": {
      "name": "DispatchQueue_swift.ipynb",
      "version": "0.3.2",
      "provenance": [],
      "collapsed_sections": []
    },
    "kernelspec": {
      "name": "swift",
      "display_name": "Swift"
    }
  },
  "cells": [
    {
      "cell_type": "code",
      "metadata": {
        "id": "EgI0gsf6IuoT",
        "colab_type": "code",
        "outputId": "659056cf-7823-43d9-db88-ae899fe945b6",
        "colab": {
          "base_uri": "https://localhost:8080/",
          "height": 227
        }
      },
      "source": [
        "//  Begin\n",
        "import TensorFlow\n",
        "import Foundation\n",
        "import Dispatch\n",
        "import Python\n",
        "\n",
        "var globalQueue = DispatchQueue.init(label: \"com.iypc.globalQueue\", qos: .default, attributes: .concurrent, autoreleaseFrequency: .inherit, target: nil)\n",
        "print(globalQueue.label, \"\\n\")\n",
        "\n",
        "var x: Double\n",
        "var y: Double!\n",
        "var z: String!\n",
        "\n",
        "globalQueue.sync {\n",
        "  x = Double.pi\n",
        "  print(\"pi:\",x)\n",
        "\n",
        "  y = M_E\n",
        "  print(\"E:\",y!)\n",
        "\n",
        "  z = \"😎\"\n",
        "  print(\"Happy:\",z!)\n",
        "}\n",
        "\n",
        "\n",
        "\n"
      ],
      "execution_count": 48,
      "outputs": [
        {
          "output_type": "error",
          "ename": "",
          "evalue": "ignored",
          "traceback": [
            "error: <Cell 48>:14:18: error: variable 'x' captured by a closure before being initialized\nglobalQueue.sync {\n                 ^\n\n<Cell 48>:10:5: note: variable defined here\nvar x: Double\n    ^\n\n"
          ]
        }
      ]
    }
  ]
}