{
  "nbformat": 4,
  "nbformat_minor": 0,
  "metadata": {
    "colab": {
      "name": "DispatchQueue_swift.ipynb",
      "version": "0.3.2",
      "provenance": [],
      "collapsed_sections": [],
      "include_colab_link": true
    },
    "kernelspec": {
      "name": "swift",
      "display_name": "Swift"
    }
  },
  "cells": [
    {
      "cell_type": "markdown",
      "metadata": {
        "id": "view-in-github",
        "colab_type": "text"
      },
      "source": [
        "<a href=\"https://colab.research.google.com/github/iypc-team/CoLab/blob/master/DispatchQueue_swift.ipynb\" target=\"_parent\"><img src=\"https://colab.research.google.com/assets/colab-badge.svg\" alt=\"Open In Colab\"/></a>"
      ]
    },
    {
      "cell_type": "code",
      "metadata": {
        "id": "EgI0gsf6IuoT",
        "colab_type": "code",
        "outputId": "1b62be6a-97c7-473d-8738-cf4e97f14c8d",
        "colab": {
          "base_uri": "https://localhost:8080/",
          "height": 225
        }
      },
      "source": [
        "//  Begin\n",
        "import TensorFlow\n",
        "import Foundation\n",
        "import Dispatch\n",
        "import Python\n",
        "\n",
        "var globalQueue = DispatchQueue.init(label: \"com.iypc.globalQueue\", qos: .default, attributes: .concurrent, autoreleaseFrequency: .inherit, target: nil)\n",
        "print(globalQueue.label, \"\\n\")\n",
        "\n",
        "var x: Double!\n",
        "var y: Double!\n",
        "var z: String!\n",
        "var f: \n",
        "\n",
        "globalQueue.sync {\n",
        "  \n",
        "  \n",
        "  print(x as Any)\n",
        "  print()\n",
        "}\n",
        "\n",
        "\n",
        "globalQueue.sync {\n",
        "  x = Double.pi\n",
        "  print(\"pi:\",x!)\n",
        "  y = Double(M_E)\n",
        "  print(\"E:\",y!)\n",
        "  z = \"😎\"\n",
        "  print(\"Happy:\",z!)\n",
        "}\n",
        "\n",
        "func fact(factorialNumber: UInt64) -> UInt64 {\n",
        "  if factorialNumber == 0 {\n",
        "    let value = UInt64(1)\n",
        "    return value\n",
        "  }\n",
        "  else {\n",
        "    return factorialNumber * (factorialNumber - 1)\n",
        "  }\n",
        "}\n",
        "\n"
      ],
      "execution_count": 2,
      "outputs": [
        {
          "output_type": "error",
          "ename": "",
          "evalue": "ignored",
          "traceback": [
            "error: <Cell 2>:15:17: error: missing argument for parameter 'factorialNumber' in call\n  x = factorial()\n                ^\n                factorialNumber: <#UInt64#>\n\n<Cell 2>:31:6: note: 'factorial(factorialNumber:)' declared here\nfunc factorial(factorialNumber: UInt64) -> UInt64 {\n     ^\n\n"
          ]
        }
      ]
    }
  ]
}