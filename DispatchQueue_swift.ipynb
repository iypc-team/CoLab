{
  "nbformat": 4,
  "nbformat_minor": 0,
  "metadata": {
    "colab": {
      "name": "DispatchQueue_swift.ipynb",
      "version": "0.3.2",
      "provenance": [],
      "collapsed_sections": [],
      "include_colab_link": true
    },
    "kernelspec": {
      "name": "swift",
      "display_name": "Swift"
    }
  },
  "cells": [
    {
      "cell_type": "markdown",
      "metadata": {
        "id": "view-in-github",
        "colab_type": "text"
      },
      "source": [
        "<a href=\"https://colab.research.google.com/github/iypc-team/CoLab/blob/master/DispatchQueue_swift.ipynb\" target=\"_parent\"><img src=\"https://colab.research.google.com/assets/colab-badge.svg\" alt=\"Open In Colab\"/></a>"
      ]
    },
    {
      "cell_type": "code",
      "metadata": {
        "id": "EgI0gsf6IuoT",
        "colab_type": "code",
        "outputId": "96b9efbd-9ca1-4b44-ac39-979b73c47116",
        "colab": {
          "base_uri": "https://localhost:8080/",
          "height": 143
        }
      },
      "source": [
        "//  Begin\n",
        "import TensorFlow\n",
        "import Foundation\n",
        "import Dispatch\n",
        "import Python\n",
        "\n",
        "var globalQueue = DispatchQueue.init(label: \"com.iypc.globalQueue\", qos: .default, attributes: .concurrent, autoreleaseFrequency: .inherit, target: nil)\n",
        "print(globalQueue.label, \"\\n\")\n",
        "\n",
        "var x: Double!\n",
        "var y: Double!\n",
        "var z: String!\n",
        "\n",
        "globalQueue.sync {\n",
        "  x = 42.0\n",
        "  print(x)\n",
        "  print()\n",
        "}\n",
        "\n",
        "\n",
        "globalQueue.sync {\n",
        "  x = M_PI\n",
        "  print(\"pi:\",x!)\n",
        "  y = M_E\n",
        "  print(\"E:\",y!)\n",
        "  z = \"😎\"\n",
        "  print(\"Happy:\",z!)\n",
        "}\n",
        "\n",
        "\n",
        "\n"
      ],
      "execution_count": 1,
      "outputs": [
        {
          "output_type": "stream",
          "text": [
            "com.iypc.globalQueue \r\n",
            "\r\n",
            "Optional(42.0)\r\n",
            "\r\n",
            "pi: 3.141592653589793\r\n",
            "E: 2.718281828459045\r\n",
            "Happy: 😎\r\n"
          ],
          "name": "stdout"
        }
      ]
    }
  ]
}