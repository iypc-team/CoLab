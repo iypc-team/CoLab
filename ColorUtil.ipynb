{
  "nbformat": 4,
  "nbformat_minor": 0,
  "metadata": {
    "colab": {
      "name": "ColorUtil.ipynb",
      "provenance": [],
      "private_outputs": true,
      "collapsed_sections": [],
      "include_colab_link": true
    },
    "kernelspec": {
      "display_name": "Python 3",
      "language": "python",
      "name": "python3"
    },
    "language_info": {
      "codemirror_mode": {
        "name": "ipython",
        "version": 3
      },
      "file_extension": ".py",
      "mimetype": "text/x-python",
      "name": "python",
      "nbconvert_exporter": "python",
      "pygments_lexer": "ipython3",
      "version": "3.7.6"
    }
  },
  "cells": [
    {
      "cell_type": "markdown",
      "metadata": {
        "id": "view-in-github",
        "colab_type": "text"
      },
      "source": [
        "<a href=\"https://colab.research.google.com/github/iypc-team/CoLab/blob/master/ColorUtil.ipynb\" target=\"_parent\"><img src=\"https://colab.research.google.com/assets/colab-badge.svg\" alt=\"Open In Colab\"/></a>"
      ]
    },
    {
      "cell_type": "code",
      "metadata": {
        "colab_type": "code",
        "id": "zHjz9sT6QQ-t",
        "colab": {}
      },
      "source": [
        "# %%writefile ColorUtil.py\n",
        "class ColorUtil:\n",
        "    def __init__(C):\n",
        "        self.C = C\n",
        "\n",
        "    LITE = '\\033[90m'\n",
        "    RED = '\\033[91m'\n",
        "    GREEN = '\\033[92m'\n",
        "    YELLOW = '\\033[93m'\n",
        "    BLUE = '\\033[94m'\n",
        "    HEADER = '\\033[95m'\n",
        "    WHITE = '\\033[0m'\n",
        "    DARK = '\\033[4m'\n",
        "    BACKGROUND = '\\033[7m'\n",
        "    UNDERLINE = '\\033[4m'\n",
        "    BOLD = '\\033[1m'\n",
        "    BACKGROUND = '\\033[7m'\n",
        "\n",
        "C = ColorUtil"
      ],
      "execution_count": null,
      "outputs": []
    },
    {
      "cell_type": "code",
      "metadata": {
        "colab_type": "code",
        "id": "MTSyNmijBGJn",
        "colab": {}
      },
      "source": [
        "from IPython.display import clear_output\n",
        "from ColorUtil import C\n",
        "\n",
        "print(f'{C.GREEN}')\n",
        "!pip3 install GitPython\n",
        "print(f'{C.BLUE}')\n",
        "!pip3 install Google\n",
        "clear_output()"
      ],
      "execution_count": null,
      "outputs": []
    },
    {
      "cell_type": "code",
      "metadata": {
        "id": "WKfsltQSwcPf",
        "colab_type": "code",
        "colab": {}
      },
      "source": [
        "\n",
        "def setSystemPath(newPath:str, quiet=True):\n",
        "    systemPathList = sys.path.copy()\n",
        "    thisPath = realpath(newPath)\n",
        "    if newPath == None:\n",
        "        pass\n",
        "    elif not thisPath in systemPathList:\n",
        "        sys.path.append(thisPath)\n",
        "        print(f'{C.RED}{thisPath}')\n",
        "    else: pass\n",
        "    if not quiet:\n",
        "        systemPathList = sys.path.copy()\n",
        "        count = 0\n",
        "        for pth in sorted(systemPathList):\n",
        "            count += 1\n",
        "            print(f'{C.WHITE}{count}. {C.BLUE}{pth}')"
      ],
      "execution_count": null,
      "outputs": []
    },
    {
      "cell_type": "code",
      "metadata": {
        "id": "B1XkC8T5uYXm",
        "colab_type": "code",
        "colab": {}
      },
      "source": [
        "# from google.colab import drive\n",
        "# G = drive.mount('/content/drive')"
      ],
      "execution_count": null,
      "outputs": []
    },
    {
      "cell_type": "code",
      "metadata": {
        "id": "bQhoD32n_RhM",
        "colab_type": "code",
        "colab": {}
      },
      "source": [
        "from __future__ import absolute_import, division\n",
        "from __future__ import print_function, unicode_literals\n",
        "\n",
        "import glob, os, pathlib, sys\n",
        "from os.path import *\n",
        "from pathlib import Path\n",
        "\n",
        "cwdPath = Path.cwd()\n",
        "setSystemPath(cwdPath)\n",
        "\n",
        "allFiles = glob.glob('**', recursive=True)\n",
        "allFiles = sorted(allFiles)\n",
        "allFilesDict = {}\n",
        "fileCount = 0\n",
        "print(f'{C.BLUE}{cwdPath}')\n",
        "for fil in allFiles:\n",
        "    fullPath = Path(realpath(fil))\n",
        "    realPath = realpath(fil)\n",
        "    if isdir(fullPath) and not realPath.__contains__('__pycache__'):\n",
        "        setSystemPath(newPath=realPath)\n",
        "        print(f'{C.BLUE}{fullPath}')\n",
        "    elif isfile(fullPath) and not realPath.__contains__('__pycache__'):\n",
        "        fileCount += 1\n",
        "        allFilesDict[fileCount] = fullPath\n",
        "        print(f'{C.WHITE}{fileCount}. {fullPath.name}')"
      ],
      "execution_count": null,
      "outputs": []
    },
    {
      "cell_type": "code",
      "metadata": {
        "id": "PHrDrw7hmOVA",
        "colab_type": "code",
        "colab": {}
      },
      "source": [
        "setSystemPath(newPath=cwdPath ,quiet=False)"
      ],
      "execution_count": null,
      "outputs": []
    }
  ]
}