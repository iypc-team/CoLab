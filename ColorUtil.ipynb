{
  "nbformat": 4,
  "nbformat_minor": 0,
  "metadata": {
    "colab": {
      "name": "ColorUtil.ipynb",
      "provenance": [],
      "private_outputs": true,
      "collapsed_sections": [],
      "include_colab_link": true
    },
    "kernelspec": {
      "display_name": "Python 3",
      "language": "python",
      "name": "python3"
    },
    "language_info": {
      "codemirror_mode": {
        "name": "ipython",
        "version": 3
      },
      "file_extension": ".py",
      "mimetype": "text/x-python",
      "name": "python",
      "nbconvert_exporter": "python",
      "pygments_lexer": "ipython3",
      "version": "3.7.6"
    }
  },
  "cells": [
    {
      "cell_type": "markdown",
      "metadata": {
        "id": "view-in-github",
        "colab_type": "text"
      },
      "source": [
        "<a href=\"https://colab.research.google.com/github/iypc-team/CoLab/blob/master/ColorUtil.ipynb\" target=\"_parent\"><img src=\"https://colab.research.google.com/assets/colab-badge.svg\" alt=\"Open In Colab\"/></a>"
      ]
    },
    {
      "cell_type": "code",
      "metadata": {
        "colab_type": "code",
        "id": "zHjz9sT6QQ-t",
        "colab": {}
      },
      "source": [
        "# %%writefile ColorUtil.py\n",
        "class ColorUtil:\n",
        "    def __init__(C):\n",
        "        self.C = C\n",
        "\n",
        "    LITE = '\\033[90m'\n",
        "    RED = '\\033[91m'\n",
        "    GREEN = '\\033[92m'\n",
        "    YELLOW = '\\033[93m'\n",
        "    BLUE = '\\033[94m'\n",
        "    HEADER = '\\033[95m'\n",
        "    WHITE = '\\033[0m'\n",
        "    DARK = '\\033[4m'\n",
        "    BACKGROUND = '\\033[7m'\n",
        "    UNDERLINE = '\\033[4m'\n",
        "    BOLD = '\\033[1m'\n",
        "    BACKGROUND = '\\033[7m'\n",
        "\n",
        "C = ColorUtil\n",
        "\n",
        "print(f'{C.GREEN}OK')"
      ],
      "execution_count": null,
      "outputs": []
    },
    {
      "cell_type": "code",
      "metadata": {
        "colab_type": "code",
        "id": "MTSyNmijBGJn",
        "colab": {}
      },
      "source": [
        "from IPython.display import clear_output\n",
        "!pip3 install GitPython\n",
        "print(f'{C.GREEN}')\n",
        "!pip3 install google\n",
        "print(f'{C.BLUE}')\n",
        "!pip3 install Google\n",
        "clear_output()"
      ],
      "execution_count": null,
      "outputs": []
    },
    {
      "cell_type": "code",
      "metadata": {
        "id": "WKfsltQSwcPf",
        "colab_type": "code",
        "colab": {}
      },
      "source": [
        "import sys\n",
        "def setSystemPath(newPath=None, quiet=True):\n",
        "    systemPathList = sys.path.copy()\n",
        "    if not newPath in systemPathList and newPath != None:\n",
        "        # sys.path.append()\n",
        "        print(f'{C.RED}{newPath}')\n",
        "    else: pass\n",
        "    if not quiet:\n",
        "        systemPathList = sys.path.copy()\n",
        "        count = 0\n",
        "        for pth in systemPathList:\n",
        "            count += 1\n",
        "            print(f'{C.WHITE}{count}. {C.BLUE}{pth}')\n",
        "\n",
        "path = os.curdir()\n",
        "pth = os.path.realPath(path)\n",
        "setSystemPath(newPath=path, quiet=False)"
      ],
      "execution_count": null,
      "outputs": []
    },
    {
      "cell_type": "code",
      "metadata": {
        "id": "B1XkC8T5uYXm",
        "colab_type": "code",
        "colab": {}
      },
      "source": [
        "from google.colab import drive\n",
        "drive.mount('/content/drive')"
      ],
      "execution_count": null,
      "outputs": []
    },
    {
      "cell_type": "code",
      "metadata": {
        "id": "bQhoD32n_RhM",
        "colab_type": "code",
        "colab": {}
      },
      "source": [
        "from __future__ import absolute_import, division\n",
        "from __future__ import print_function, unicode_literals\n",
        "\n",
        "import glob, os, pathlib, sys\n",
        "from os.path import *\n",
        "from pathlib import Path\n",
        "\n",
        "cwdPath = Path.cwd()\n",
        "\n",
        "allFiles = glob.glob('**', recursive=True)\n",
        "allFiles = sorted(allFiles)\n",
        "allFilesDict = {}\n",
        "fileCount = 0\n",
        "print(f'{C.BLUE}{cwdPath}')\n",
        "for fil in allFiles:\n",
        "    fullPath = Path(realpath(fil))\n",
        "    if isdir(fullPath):\n",
        "        sysPathsCopy = sys.path.copy()\n",
        "        realPath = realpath(fullPath)\n",
        "\n",
        "        if not realPath in sysPathsCopy:\n",
        "            sys.path.append(realPath)\n",
        "            # print(f'{C.HEADER}{realPath}')\n",
        "        print(f'\\n{C.BLUE}{fullPath}')\n",
        "\n",
        "    elif isfile(fullPath):\n",
        "        fileCount += 1\n",
        "        allFilesDict[fileCount] = fullPath\n",
        "        print(f'{C.WHITE}{fileCount}. {fullPath.name}')\n"
      ],
      "execution_count": null,
      "outputs": []
    },
    {
      "cell_type": "code",
      "metadata": {
        "id": "af-z025WGZjZ",
        "colab_type": "code",
        "colab": {}
      },
      "source": [
        "import sys\n",
        "sysPathsCopy = sys.path.copy()\n",
        "sysPathsCopy = sorted(sysPathsCopy)\n",
        "count = 0\n",
        "for pth in sysPathsCopy:\n",
        "    count += 1\n",
        "    print(f'{count}. {pth}')"
      ],
      "execution_count": null,
      "outputs": []
    }
  ]
}