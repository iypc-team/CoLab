{
  "nbformat": 4,
  "nbformat_minor": 0,
  "metadata": {
    "colab": {
      "name": "Get_TPU.ipynb",
      "provenance": [],
      "private_outputs": true,
      "collapsed_sections": [],
      "include_colab_link": true
    },
    "kernelspec": {
      "display_name": "Python 3",
      "name": "python3"
    },
    "accelerator": "TPU"
  },
  "cells": [
    {
      "cell_type": "markdown",
      "metadata": {
        "id": "view-in-github",
        "colab_type": "text"
      },
      "source": [
        "<a href=\"https://colab.research.google.com/github/iypc-team/CoLab/blob/master/Get_TPU.ipynb\" target=\"_parent\"><img src=\"https://colab.research.google.com/assets/colab-badge.svg\" alt=\"Open In Colab\"/></a>"
      ]
    },
    {
      "cell_type": "code",
      "metadata": {
        "id": "_KjBhYzJGnlQ"
      },
      "source": [
        "import os\n",
        "from google.colab import drive\n",
        "drive.mount('/content/drive', force_remount=True)\n",
        "os.chdir('/content/drive/My Drive')"
      ],
      "execution_count": null,
      "outputs": []
    },
    {
      "cell_type": "code",
      "metadata": {
        "id": "i-oiGMhvlpPq"
      },
      "source": [
        "%%writefile GetTPU.py\n",
        "# 11/04/2020-3\n",
        "from __future__ import absolute_import, print_function\n",
        "from IPython.display import clear_output\n",
        "import os\n",
        "from pathlib import Path\n",
        "import tensorflow as tf\n",
        "\n",
        "class GetTPU:\n",
        "    '''Initializes Colab TPU Cluster'''\n",
        "    from google.colab import drive\n",
        "    from pathlib import Path\n",
        "    import os\n",
        "    import tensorflow as tf\n",
        "\n",
        "    def __init__(self):\n",
        "        '''Initialize class GetTPU'''\n",
        "        self.contentPath = '/content'\n",
        "        self.myDrivePath = '/content/drive/My Drive'\n",
        "        self.gt = None\n",
        "        self.tpu = None\n",
        "        self.tpu_strategy = None\n",
        "        \n",
        "    def getMyDrive(self):\n",
        "        '''Changes directory to /content/drive/My Drive'''\n",
        "        os.chdir(self.myDrivePath)\n",
        "\n",
        "    def mountGoogleDrive(self):\n",
        "        '''Mount Google Drive at /content/drive'''\n",
        "        from google.colab import drive\n",
        "        drive.mount('/content/drive', force_remount=True)\n",
        "\n",
        "    def copyToContent(self):\n",
        "        from shutil import copyfile\n",
        "        from os.path import exists, join\n",
        "        os.chdir(self.myDrivePath)\n",
        "        sourcePath = join(self.myDrivePath, 'BashColors.py')\n",
        "        destinationPath = join(self.contentPath, 'BashColors.py')\n",
        "        if exists(sourcePath):\n",
        "            # print(f'source: {sourcePath}\\ndestination: {destinationPath}')\n",
        "            copyfile(sourcePath, destinationPath)\n",
        "        \n",
        "\n",
        "    def startTPU(self, clearOutput=True):\n",
        "        '''start TPU cluster  '''\n",
        "        self.tpu = tf.distribute.cluster_resolver.TPUClusterResolver()\n",
        "        tf.config.experimental_connect_to_cluster(self.tpu)\n",
        "        tf.tpu.experimental.initialize_tpu_system(self.tpu)\n",
        "        self.tpu_strategy = tf.distribute.TPUStrategy(self.tpu)\n",
        "        if clearOutput:\n",
        "            clear_output(wait=0)\n",
        "\n",
        "    def getTPUStrategy(self):\n",
        "        '''returns TPU strategy '''\n",
        "        return self.tpu_strategy\n",
        "\n",
        "    def stopTPU(self):\n",
        "        '''stops TPU cluster '''\n",
        "        tf.tpu.experimental.shutdown_tpu_system()\n",
        "\n",
        "gt = GetTPU()\n",
        "gt.mountGoogleDrive()\n",
        "gt.copyToContent()"
      ],
      "execution_count": null,
      "outputs": []
    }
  ]
}