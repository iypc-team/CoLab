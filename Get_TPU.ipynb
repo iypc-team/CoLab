{
  "nbformat": 4,
  "nbformat_minor": 0,
  "metadata": {
    "colab": {
      "name": "Get_TPU.ipynb",
      "provenance": [],
      "private_outputs": true,
      "collapsed_sections": [],
      "include_colab_link": true
    },
    "kernelspec": {
      "display_name": "Python 3",
      "name": "python3"
    },
    "accelerator": "TPU"
  },
  "cells": [
    {
      "cell_type": "markdown",
      "metadata": {
        "id": "view-in-github",
        "colab_type": "text"
      },
      "source": [
        "<a href=\"https://colab.research.google.com/github/iypc-team/CoLab/blob/master/Get_TPU.ipynb\" target=\"_parent\"><img src=\"https://colab.research.google.com/assets/colab-badge.svg\" alt=\"Open In Colab\"/></a>"
      ]
    },
    {
      "cell_type": "code",
      "metadata": {
        "id": "QOSbRjMnLWkz"
      },
      "source": [
        "import os\n",
        "from google.colab import drive\n",
        "from pathlib import Path\n",
        "drive.mount('/gdrive', force_remount=True)\n",
        "os.chdir('/gdrive/My Drive')\n",
        "from BashColors import C\n",
        "print(f'cwd: {C.IGreen}{Path.cwd()}')"
      ],
      "execution_count": null,
      "outputs": []
    },
    {
      "cell_type": "code",
      "metadata": {
        "id": "i-oiGMhvlpPq"
      },
      "source": [
        "%%writefile GetTPU.py\n",
        "# 10/23/2020\n",
        "import tensorflow as tf\n",
        "class GetTPU:\n",
        "    '''Initializes Colab TPU Cluster'''\n",
        "    import tensorflow as tf\n",
        "    def __init__(self):\n",
        "        '''__init__'''\n",
        "        self.gt = None\n",
        "        self.tpu = None\n",
        "        self.tpu_strategy = None\n",
        "\n",
        "    def startTPU(self, clearOutput=True):\n",
        "        ''' start TPU cluster  '''\n",
        "        self.tpu = tf.distribute.cluster_resolver.TPUClusterResolver()\n",
        "        tf.config.experimental_connect_to_cluster(self.tpu)\n",
        "        tf.tpu.experimental.initialize_tpu_system(self.tpu)\n",
        "        self.tpu_strategy = tf.distribute.TPUStrategy(self.tpu)\n",
        "        if clearOutput:\n",
        "            clear_output(wait=0)\n",
        "\n",
        "    def getTPUStrategy(self):\n",
        "        '''returns TPU strategy '''\n",
        "        return self.tpu_strategy\n",
        "\n",
        "    def stopTPU(self):\n",
        "        '''stops TPU cluster '''\n",
        "        tf.tpu.experimental.shutdown_tpu_system()\n",
        "\n",
        "    \n",
        "gt = GetTPU()"
      ],
      "execution_count": null,
      "outputs": []
    },
    {
      "cell_type": "code",
      "metadata": {
        "id": "Qz0CPshKdto2"
      },
      "source": [
        "from IPython.display import clear_output\n",
        "import GetTPU\n",
        "from GetTPU import *\n",
        "gt.startTPU(clearOutput=False)"
      ],
      "execution_count": null,
      "outputs": []
    },
    {
      "cell_type": "code",
      "metadata": {
        "id": "DqCW1BO4dusa"
      },
      "source": [
        "tpuStrategy = gt.getTPUStrategy()\n",
        "with tpuStrategy.scope():\n",
        "    print('ok')"
      ],
      "execution_count": null,
      "outputs": []
    },
    {
      "cell_type": "code",
      "metadata": {
        "id": "LACNjoJcnT_B"
      },
      "source": [
        "gt.stopTPU()"
      ],
      "execution_count": null,
      "outputs": []
    },
    {
      "cell_type": "code",
      "metadata": {
        "id": "o3W1A_D3n_EX"
      },
      "source": [
        ""
      ],
      "execution_count": null,
      "outputs": []
    }
  ]
}