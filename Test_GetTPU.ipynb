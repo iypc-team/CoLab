{
  "nbformat": 4,
  "nbformat_minor": 0,
  "metadata": {
    "accelerator": "TPU",
    "colab": {
      "name": "Test_GetTPU.ipynb",
      "provenance": [],
      "collapsed_sections": [],
      "include_colab_link": true
    },
    "kernelspec": {
      "display_name": "Python 3",
      "language": "python",
      "name": "python3"
    },
    "language_info": {
      "codemirror_mode": {
        "name": "ipython",
        "version": 3
      },
      "file_extension": ".py",
      "mimetype": "text/x-python",
      "name": "python",
      "nbconvert_exporter": "python",
      "pygments_lexer": "ipython3",
      "version": "3.7.8"
    }
  },
  "cells": [
    {
      "cell_type": "markdown",
      "metadata": {
        "id": "view-in-github",
        "colab_type": "text"
      },
      "source": [
        "<a href=\"https://colab.research.google.com/github/iypc-team/CoLab/blob/master/Test_GetTPU.ipynb\" target=\"_parent\"><img src=\"https://colab.research.google.com/assets/colab-badge.svg\" alt=\"Open In Colab\"/></a>"
      ]
    },
    {
      "cell_type": "code",
      "metadata": {
        "id": "iHid5vlbHEAg",
        "outputId": "c0d1b05b-3398-4f85-dc7d-bba92c6e2614",
        "colab": {
          "base_uri": "https://localhost:8080/",
          "height": 71
        }
      },
      "source": [
        "import os, pathlib\n",
        "from google.colab import drive\n",
        "drive.mount('/gdrive', force_remount=True)\n",
        "os.chdir('/gdrive/My Drive/')\n",
        "print(pathlib.Path.cwd(), '\\n')"
      ],
      "execution_count": null,
      "outputs": [
        {
          "output_type": "stream",
          "text": [
            "Mounted at /gdrive\n",
            "/gdrive/My Drive \n",
            "\n"
          ],
          "name": "stdout"
        }
      ]
    },
    {
      "cell_type": "code",
      "metadata": {
        "id": "HqGBD9wkuKxj"
      },
      "source": [
        "from BashColors import C\n",
        "import GetTPU\n",
        "from GetTPU import *\n"
      ],
      "execution_count": null,
      "outputs": []
    },
    {
      "cell_type": "code",
      "metadata": {
        "id": "XRZ4kMoxBNND",
        "outputId": "dc46e480-00c2-40b0-f520-372869ff21f1",
        "colab": {
          "base_uri": "https://localhost:8080/",
          "height": 533
        }
      },
      "source": [
        "\n",
        "# Manual device placement\n",
        "# Places the computation on a single TPU device\n",
        "tf.random.set_seed(5000.0)\n",
        "a = tf.constant([[1.0, 2.0], [4.0, 5.0]])\n",
        "b = tf.constant([[1.0, 2.0], [3.0, 4.0]])\n",
        "c = tf.constant_initializer(0)\n",
        "d = tf.random.normal([2,2], 0, 50, tf.float32)\n",
        "print(f'd: {C.BGreen}{d}{C.BWhite}\\n')\n",
        "e = tf.random.normal([2,2], 0, 55, tf.float32)\n",
        "print(f'e: {C.BGreen}{e}{C.BWhite}\\n')\n",
        "with tf.device('/TPU:0'):\n",
        "    print(f'on: {C.Green}{tf.device}')\n",
        "    c = tf.matmul(e, a)\n",
        "    print(f'c: {C.BGreen}{c}{C.BWhite}\\n')\n",
        "\n",
        "with tpu.strategy.scope():\n",
        "    deviceName = tf.device.\n",
        "    sum = tf.add(a, b)\n",
        "    sum = tf.add(sum, c)\n",
        "    print(f'on: {C.Blue}{sum.device(device_name)}{C.BWhite}')\n",
        "    print(f'sum: {C.BGreen}{sum}')\n",
        "\n"
      ],
      "execution_count": null,
      "outputs": [
        {
          "output_type": "stream",
          "text": [
            "d: \u001b[1;32m[[ 30.754486  -11.1473875]\n",
            " [-25.979095   73.74887  ]]\u001b[1;37m\n",
            "\n",
            "e: \u001b[1;32m[[-19.245914 -23.982508]\n",
            " [-20.820116  87.60046 ]]\u001b[1;37m\n",
            "\n",
            "on: \u001b[0;32m<function device_v2 at 0x7f7bd1943730>\n",
            "c: \u001b[1;32m[[-115.25  -158.5  ]\n",
            " [ 329.125  395.75 ]]\u001b[1;37m\n",
            "\n"
          ],
          "name": "stdout"
        },
        {
          "output_type": "error",
          "ename": "NameError",
          "evalue": "ignored",
          "traceback": [
            "\u001b[0;31m---------------------------------------------------------------------------\u001b[0m",
            "\u001b[0;31mNameError\u001b[0m                                 Traceback (most recent call last)",
            "\u001b[0;32m<ipython-input-9-3d18d86b91ac>\u001b[0m in \u001b[0;36m<module>\u001b[0;34m()\u001b[0m\n\u001b[1;32m     16\u001b[0m \u001b[0;34m\u001b[0m\u001b[0m\n\u001b[1;32m     17\u001b[0m \u001b[0;32mwith\u001b[0m \u001b[0mtpu\u001b[0m\u001b[0;34m.\u001b[0m\u001b[0mstrategy\u001b[0m\u001b[0;34m.\u001b[0m\u001b[0mscope\u001b[0m\u001b[0;34m(\u001b[0m\u001b[0;34m)\u001b[0m\u001b[0;34m:\u001b[0m\u001b[0;34m\u001b[0m\u001b[0;34m\u001b[0m\u001b[0m\n\u001b[0;32m---> 18\u001b[0;31m     \u001b[0mdeviceName\u001b[0m \u001b[0;34m=\u001b[0m \u001b[0mtf\u001b[0m\u001b[0;34m.\u001b[0m\u001b[0mdevice\u001b[0m\u001b[0;34m(\u001b[0m\u001b[0mdevice_name\u001b[0m\u001b[0;34m)\u001b[0m\u001b[0;34m\u001b[0m\u001b[0;34m\u001b[0m\u001b[0m\n\u001b[0m\u001b[1;32m     19\u001b[0m     \u001b[0msum\u001b[0m \u001b[0;34m=\u001b[0m \u001b[0mtf\u001b[0m\u001b[0;34m.\u001b[0m\u001b[0madd\u001b[0m\u001b[0;34m(\u001b[0m\u001b[0ma\u001b[0m\u001b[0;34m,\u001b[0m \u001b[0mb\u001b[0m\u001b[0;34m)\u001b[0m\u001b[0;34m\u001b[0m\u001b[0;34m\u001b[0m\u001b[0m\n\u001b[1;32m     20\u001b[0m     \u001b[0msum\u001b[0m \u001b[0;34m=\u001b[0m \u001b[0mtf\u001b[0m\u001b[0;34m.\u001b[0m\u001b[0madd\u001b[0m\u001b[0;34m(\u001b[0m\u001b[0msum\u001b[0m\u001b[0;34m,\u001b[0m \u001b[0mc\u001b[0m\u001b[0;34m)\u001b[0m\u001b[0;34m\u001b[0m\u001b[0;34m\u001b[0m\u001b[0m\n",
            "\u001b[0;31mNameError\u001b[0m: name 'device_name' is not defined"
          ]
        }
      ]
    }
  ]
}