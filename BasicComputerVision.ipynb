{
  "nbformat": 4,
  "nbformat_minor": 0,
  "metadata": {
    "colab": {
      "name": "BasicComputerVision.ipynb",
      "provenance": [],
      "collapsed_sections": [],
      "include_colab_link": true
    },
    "kernelspec": {
      "name": "python3",
      "display_name": "Python 3"
    }
  },
  "cells": [
    {
      "cell_type": "markdown",
      "metadata": {
        "id": "view-in-github",
        "colab_type": "text"
      },
      "source": [
        "<a href=\"https://colab.research.google.com/github/iypc-team/CoLab/blob/master/BasicComputerVision.ipynb\" target=\"_parent\"><img src=\"https://colab.research.google.com/assets/colab-badge.svg\" alt=\"Open In Colab\"/></a>"
      ]
    },
    {
      "cell_type": "code",
      "metadata": {
        "id": "XHudOekuS37d",
        "colab_type": "code",
        "colab": {}
      },
      "source": [
        "from IPython.display import clear_output\n",
        "isInstalled = False"
      ],
      "execution_count": 0,
      "outputs": []
    },
    {
      "cell_type": "code",
      "metadata": {
        "id": "E1f8TmeZzEqL",
        "colab_type": "code",
        "colab": {}
      },
      "source": [
        "if isInstalled == False:\n",
        "    from IPython.display import clear_output\n",
        "    %pip install \"tensorflow==2.0.0\"\n",
        "    isInstalled = True\n",
        "clear_output()\n",
        "print(\"All installs completed\")"
      ],
      "execution_count": 0,
      "outputs": []
    },
    {
      "cell_type": "code",
      "metadata": {
        "id": "DCVotmkxzrO4",
        "colab_type": "code",
        "colab": {}
      },
      "source": [
        "from __future__ import absolute_import, division, print_function, unicode_literals\n",
        "import tensorflow as tf\n",
        "tf.keras.backend.clear_session()\n",
        "from tensorflow import keras\n",
        "import numpy as np\n",
        "print(\"tensorflow:\", tf.__version__)"
      ],
      "execution_count": 0,
      "outputs": []
    },
    {
      "cell_type": "code",
      "metadata": {
        "id": "MAUV3jwUr6-S",
        "colab_type": "code",
        "colab": {}
      },
      "source": [
        "dir(tf.keras.optimizers)\n",
        "clear_output()\n",
        "adamOptimizer = tf.compat.v2.keras.optimizers.Adam() # Defined the optimizer"
      ],
      "execution_count": 0,
      "outputs": []
    },
    {
      "cell_type": "code",
      "metadata": {
        "id": "S-k5artPWi4H",
        "colab_type": "code",
        "colab": {}
      },
      "source": [
        "fashionMnist = keras.datasets.fashion_mnist # Define the data set\n",
        "(train_images, train_labels), (test_images, test_labels) = fashionMnist.load_data()\n",
        "print(train_labels)\n",
        "print(test_labels)\n",
        "print(train_images.__class__)\n",
        "print(train_images.shape)\n",
        "print(test_images.__class__)\n",
        "print(test_images.shape)\n",
        "clear_output()\n"
      ],
      "execution_count": 0,
      "outputs": []
    },
    {
      "cell_type": "code",
      "metadata": {
        "id": "HJ5p0zXCK2Tx",
        "colab_type": "code",
        "colab": {}
      },
      "source": [
        "# Model definitions\n",
        "model = keras.Sequential([keras.layers.Flatten(input_shape=(28,28)),\n",
        "                          keras.layers.Dense(128, activation=tf.nn.relu),\n",
        "                          keras.layers.Dense(10, activation=tf.nn.softmax)])\n",
        "\n",
        "model.compile(optimizer=adamOptimizer, loss='sparse_categorical_crossentropy')\n",
        "model.fit(train_images, train_labels, epochs=5)\n",
        "clear_output()\n",
        "print(\"Model is trained\")"
      ],
      "execution_count": 0,
      "outputs": []
    },
    {
      "cell_type": "code",
      "metadata": {
        "id": "RdN0e40d_Z3I",
        "colab_type": "code",
        "colab": {}
      },
      "source": [
        "model.evaluate(test_images, test_labels, batch_size=32, verbose=1)\n",
        "\n",
        "help(model.evaluate)\n",
        "# test_loss, test_acc = model.evaluate(test_images, test_labels)\n"
      ],
      "execution_count": 0,
      "outputs": []
    }
  ]
}