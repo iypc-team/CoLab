{
  "nbformat": 4,
  "nbformat_minor": 0,
  "metadata": {
    "kernelspec": {
      "display_name": "Python 3",
      "language": "python",
      "name": "python3"
    },
    "language_info": {
      "codemirror_mode": {
        "name": "ipython",
        "version": 3
      },
      "file_extension": ".py",
      "mimetype": "text/x-python",
      "name": "python",
      "nbconvert_exporter": "python",
      "pygments_lexer": "ipython3",
      "version": "3.7.6"
    },
    "colab": {
      "name": "PhilTaborSetup.ipynb",
      "provenance": [],
      "include_colab_link": true
    }
  },
  "cells": [
    {
      "cell_type": "markdown",
      "metadata": {
        "id": "view-in-github",
        "colab_type": "text"
      },
      "source": [
        "<a href=\"https://colab.research.google.com/github/iypc-team/CoLab/blob/master/PhilTaborSetup.ipynb\" target=\"_parent\"><img src=\"https://colab.research.google.com/assets/colab-badge.svg\" alt=\"Open In Colab\"/></a>"
      ]
    },
    {
      "cell_type": "code",
      "metadata": {
        "id": "2Q9yYPf34LFn",
        "colab_type": "code",
        "colab": {}
      },
      "source": [
        "from __future__ import absolute_import, division\n",
        "from __future__ import print_function, unicode_literals\n",
        "from IPython.display import clear_output\n",
        "from ColorUtil_2 import C\n",
        "%pip install tensorflow\n",
        "%pip install matplotlib\n",
        "%pip install gym\n",
        "clear_output()\n",
        "print(f'{C.GREEN}Installs OK')\n",
        "\n",
        "import glob, os, pathlib, sys\n",
        "from os.path import *\n",
        "from pathlib import Path\n",
        "cwdPath = Path.cwd()\n",
        "\n",
        "import tensorflow as tf\n",
        "print(tf.__version__)\n",
        "import matplotlib\n",
        "print(matplotlib.__version__)"
      ],
      "execution_count": null,
      "outputs": []
    },
    {
      "cell_type": "code",
      "metadata": {
        "id": "G7TBDBzt4LFt",
        "colab_type": "code",
        "colab": {}
      },
      "source": [
        "allFiles = glob.glob('**', recursive=True)\n",
        "allFilesDict = {}\n",
        "fileCount = 0\n",
        "print(f'{C.BLUE}{cwdPath}')\n",
        "for fil in allFiles:\n",
        "    fullPath = Path(realpath(fil))\n",
        "    if fil.__contains__('__pycache__') or fil.__contains__('.index'):\n",
        "        continue\n",
        "    elif isdir(fullPath):\n",
        "        realPath = realpath(fullPath)\n",
        "        sysPaths = sys.path.copy()\n",
        "        if not realPath in sysPaths:\n",
        "            print(f'{C.HEADER}{realPath}')\n",
        "            sys.path.append(realPath)\n",
        "        \n",
        "        print(f'{C.BLUE}{fullPath}')\n",
        "    elif isfile(fullPath):\n",
        "        fileCount += 1\n",
        "        allFilesDict[fileCount] = fullPath\n",
        "        print(f'{C.WHITE}{fileCount}. {fullPath.name}')"
      ],
      "execution_count": null,
      "outputs": []
    },
    {
      "cell_type": "code",
      "metadata": {
        "id": "kcCVqI0i4LFx",
        "colab_type": "code",
        "colab": {}
      },
      "source": [
        "pth = allFilesDict[4]\n",
        "print(f'# %%writefile {pth.name}\\n# {pth}\\n')\n",
        "with open(pth, 'r') as openFile:\n",
        "    txt = openFile.read()\n",
        "    print(f'{txt}')"
      ],
      "execution_count": null,
      "outputs": []
    }
  ]
}