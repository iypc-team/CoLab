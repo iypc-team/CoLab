{
  "nbformat": 4,
  "nbformat_minor": 0,
  "metadata": {
    "accelerator": "GPU",
    "colab": {
      "name": "Create_MobileNet_V2.ipynb",
      "private_outputs": true,
      "provenance": [],
      "collapsed_sections": [],
      "machine_shape": "hm",
      "include_colab_link": true
    },
    "kernelspec": {
      "display_name": "Python 3",
      "language": "python",
      "name": "python3"
    },
    "language_info": {
      "codemirror_mode": {
        "name": "ipython",
        "version": 3
      },
      "file_extension": ".py",
      "mimetype": "text/x-python",
      "name": "python",
      "nbconvert_exporter": "python",
      "pygments_lexer": "ipython3",
      "version": "3.7.10"
    }
  },
  "cells": [
    {
      "cell_type": "markdown",
      "metadata": {
        "id": "view-in-github",
        "colab_type": "text"
      },
      "source": [
        "<a href=\"https://colab.research.google.com/github/iypc-team/CoLab/blob/master/Create_MobileNet_V2.ipynb\" target=\"_parent\"><img src=\"https://colab.research.google.com/assets/colab-badge.svg\" alt=\"Open In Colab\"/></a>"
      ]
    },
    {
      "cell_type": "code",
      "metadata": {
        "id": "eXLcLOpWMNaA"
      },
      "source": [
        "from IPython.display import display, clear_output\n",
        "import time\n",
        "def sleepyTime():\n",
        "    count=0\n",
        "    try:\n",
        "        while count <= 120:\n",
        "            print(f'sleeping for {count} minutes')\n",
        "            time.sleep(60)\n",
        "            count+=1\n",
        "    except KeyboardInterrupt:\n",
        "        clear_output()\n",
        "# sleepyTime()"
      ],
      "execution_count": null,
      "outputs": []
    },
    {
      "cell_type": "code",
      "metadata": {
        "id": "oOK917uEYPSo"
      },
      "source": [
        "from __future__ import absolute_import\n",
        "from IPython.display import display, clear_output\n",
        "try:\n",
        "    import tensorflow as tf\n",
        "    print(f'tensorflow: {tf.__version__}')\n",
        "except ModuleNotFoundError as err:\n",
        "    %pip install tensorflow\n",
        "    import tensorflow as tf\n",
        "    print(f'\\ntensorflow: {tf.__version__}')\n",
        "\n",
        "from tensorflow import keras\n",
        "from tensorflow.keras.preprocessing import image\n",
        "from IPython.display import Image, display, clear_output\n",
        "from tensorflow.keras.applications import imagenet_utils\n",
        "import numpy as np\n",
        "\n",
        "import glob, os, shutil, tarfile\n",
        "from os.path import *\n",
        "import numpy as np\n",
        "\n",
        "contentPth = os.getcwd()\n",
        "# deletePth = join(contentPth, 'sample_data')\n",
        "if exists(join(contentPth, 'sample_data')):\n",
        "    shutil.rmtree(join(contentPth, 'sample_data'))\n",
        "    # deletePth=None\n",
        "if contentPth == '/content':\n",
        "    gdrivePth = join(contentPth, 'gdrive')\n",
        "    myDrivePth = join(gdrivePth, 'My Drive')\n",
        "    modelPth = join(myDrivePth, 'TensorflowModels')\n",
        "    imgPth = join(myDrivePth, 'TensorflowImages')\n",
        "    imgDirectoryPth = join(contentPth, 'Defcon_Images')\n",
        "else:\n",
        "    imgPth = join(contentPth, 'TensorflowImages')\n",
        "    modelPth = join(contentPth, 'TensorflowModels')\n",
        "\n",
        "try: import matplotlib.image as mpimg\n",
        "except ModuleNotFoundError:\n",
        "    %pip install matplotlib\n",
        "    import matplotlib.image as mpimg\n",
        "    \n",
        "try:\n",
        "    from google.colab import drive, files\n",
        "    drive.flush_and_unmount()\n",
        "    drive.mount('/content/gdrive', force_remount=True)\n",
        "except: pass\n",
        "\n",
        "try:\n",
        "    os.chdir(myDrivePth)\n",
        "    from BashColors import C\n",
        "    from TarfileFunctions import tff\n",
        "except Exception as err:\n",
        "    # print(err)\n",
        "    os.chdir(contentPth)\n",
        "    from BashColors import C\n",
        "    from TarfileFunctions import tff\n",
        "    if not exists(imgPth):\n",
        "        tff.listTarfiles()\n",
        "        tff.extractTarfiles('Defcon_Images.tar.gz')\n",
        "    else: print(f'{C.IBlue}{imgPth}{C.ColorOff} exists')\n",
        "        \n",
        "mobilenet_v2=None\n",
        "imagePathList=[]\n",
        "os.chdir(contentPth)\n",
        "print(f'cwd: {C.Blue}{os.getcwd()}')"
      ],
      "execution_count": null,
      "outputs": []
    },
    {
      "cell_type": "code",
      "metadata": {
        "id": "HYYJLzzJ4qnd"
      },
      "source": [
        "be='''\n",
        "if exists(imgPth):\n",
        "    print(imgPth)\n",
        "    os.chdir(imgPth)\n",
        "    print(f'cwd: {C.IBlue}{os.getcwd()}')\n",
        "    if not exists(imgDirectoryPth):\n",
        "        shutil.copytree(imgPth, imgDirectoryPth)\n",
        "'''"
      ],
      "execution_count": null,
      "outputs": []
    },
    {
      "cell_type": "code",
      "metadata": {
        "id": "6pz9DbWg58PA"
      },
      "source": [
        "# from tensorflow import keras\n",
        "from tensorflow.keras import callbacks\n",
        "early_stop = callbacks.EarlyStopping(\n",
        "    patience=2,\n",
        "    restore_best_weights=True)\n",
        "\n",
        "save_callback = tf.keras.callbacks.ModelCheckpoint(\n",
        "    'checkpoints/',\n",
        "    save_weights_only=False,\n",
        "    monitor='accuracy',\n",
        "    save_best_only=True)"
      ],
      "execution_count": null,
      "outputs": []
    },
    {
      "cell_type": "code",
      "metadata": {
        "id": "usXr-4SzfTAG"
      },
      "source": [
        "def normalizeImage(set_image):\n",
        "    print('Normalized')\n",
        "    return tf.cast(set_image, dtype=tf.float32) / 255, labels\n",
        "\n",
        "def augmentData(thisImage):\n",
        "    print(thisImage)\n",
        "    resize_rescale = tf.keras.Sequential([\n",
        "            tf.keras.layers.experimental.preprocessing.Resizing(224, 224),\n",
        "            tf.keras.layers.experimental.preprocessing.Rescaling(1.0/225) ])\n",
        "    result = resize_rescale(thisImage)\n",
        "    return result"
      ],
      "execution_count": null,
      "outputs": []
    },
    {
      "cell_type": "code",
      "metadata": {
        "id": "WxsvRpoYJ4s0"
      },
      "source": [
        "def showImage(thisImagePath, newWidth=64, newHeight=64):\n",
        "    if exists(thisImagePath):\n",
        "        image_name=basename(thisImagePath)\n",
        "        # print(f'{C.IGreen}{thisImagePath}')\n",
        "        print(f'{C.IWhite}{image_name}')\n",
        "\n",
        "        thisImage = image.load_img(path=thisImagePath, \n",
        "                                       target_size=(newWidth, \n",
        "                                                    newHeight))\n",
        "        imgArray = image.img_to_array(img=thisImage)\n",
        "        imgArrayExpandDims = np.expand_dims(a=imgArray, axis=0)\n",
        "        result = tf.keras.applications.mobilenet_v2.preprocess_input(imgArrayExpandDims)\n",
        "        show = Image(filename=thisImagePath, width=newWidth,height=newHeight)\n",
        "        display(show)"
      ],
      "execution_count": null,
      "outputs": []
    },
    {
      "cell_type": "code",
      "metadata": {
        "id": "6ZNH5cm_CCgP"
      },
      "source": [
        "imageFileListGlob=[]\n",
        "os.chdir(imgPth)\n",
        "imageFileListGlob=glob.glob('**', recursive=True)\n",
        "print(len(imageFileListGlob))\n",
        "\n",
        "for fil in sorted(imageFileListGlob):\n",
        "    fullPath = abspath(fil)\n",
        "    if isdir(fil):\n",
        "        print(f'\\n{C.IBlue}{fullPath}{C.ColorOff}')\n",
        "    if not fullPath in imagePathList:\n",
        "        imagePathList.append(fullPath)\n",
        "    elif isfile(fil):\n",
        "        try:\n",
        "            showImage(thisImagePath=fullPath,\n",
        "                      newWidth=128, newHeight=128)\n",
        "        except: \n",
        "            print(f'{C.BRed}{abspath(fil)}{C.ColorOff}')\n",
        "            imagePathList.remove(fullPath)\n",
        "# clear_output()\n",
        "print(len(imagePathList),'images')"
      ],
      "execution_count": null,
      "outputs": []
    },
    {
      "cell_type": "code",
      "metadata": {
        "id": "_ZiriFw7iz7g"
      },
      "source": [
        "print(len(imagePathList))\n",
        "print(len(imageFileListGlob))\n",
        "\n",
        "for item in imageFileListGlob:\n",
        "    if item.endswith('.png'):\n",
        "        pass\n",
        "    else: print(item)"
      ],
      "execution_count": null,
      "outputs": []
    },
    {
      "cell_type": "code",
      "metadata": {
        "id": "M5IMNOyjYPTQ"
      },
      "source": [
        "mobilenet_v2 = tf.keras.applications.MobileNetV2(input_shape=None,\n",
        "                                                 alpha=1.0,\n",
        "                                                 include_top=False,\n",
        "                                                 weights=None,\n",
        "                                                 input_tensor=None, \n",
        "                                                 pooling=None,\n",
        "                                                 classes=1000,\n",
        "                                                 classifier_activation='softmax')\n",
        "\n",
        "mobilenet_v2.compile(optimizer='Adam')\n",
        "# mobilenet_v2.summary()\n",
        "\n",
        "modelName = mobilenet_v2.name + '_no_weights_no_top.h5'\n",
        "modelSavePth = join(contentPth, modelName)\n",
        "\n",
        "if exists(contentPth):\n",
        "    mobilenet_v2.save(modelSavePth)\n",
        "    print(f'saved: {C.Green}{modelSavePth}{C.ColorOff}')"
      ],
      "execution_count": null,
      "outputs": []
    },
    {
      "cell_type": "code",
      "metadata": {
        "id": "Fd3klIT9rYG4"
      },
      "source": [
        "from tensorflow import keras\n",
        "loadModelPth = join(contentPth, 'mobilenetv2_1.00_None_no_weights_no_top.h5')\n",
        "re_model = keras.models.load_model(loadModelPth)\n",
        "re_model.compile()\n",
        "# re_model.summary()\n",
        "re_model.fit()\n",
        "re_model.fit( ,callbacks=['early_stop', 'save_callback'])"
      ],
      "execution_count": null,
      "outputs": []
    },
    {
      "cell_type": "code",
      "metadata": {
        "id": "iNZDUClFNb2M"
      },
      "source": [
        "configDict = re_model.get_config()\n",
        "\n",
        "for item in configDict:\n",
        "    print(f'{C.Blue}{item}:{C.ColorOff}')\n",
        "    # print(configDict[item], '\\n\\n')"
      ],
      "execution_count": null,
      "outputs": []
    },
    {
      "cell_type": "code",
      "metadata": {
        "id": "1ddybJvs4ive"
      },
      "source": [
        "try: import matplotlib.image as mpimg\n",
        "except ModuleNotFoundError:\n",
        "    %pip install matplotlib\n",
        "    import matplotlib.image as mpimg\n",
        "\n",
        "for newPath in sorted(imagePathList):\n",
        "    if isfile(newPath) and newPath.endswith('.png'):\n",
        "        showImage(newPath, newWidth=64, newHeight=64)\n",
        "        img = image.load_img(path=newPath, target_size=(224,244))\n",
        "        imageArray = image.img_to_array(img)\n",
        "        imageArrayExpandDims = np.expand_dims(imageArray, axis=0)\n",
        "    else:\n",
        "        imagePathList.remove(newPath)\n",
        "    "
      ],
      "execution_count": null,
      "outputs": []
    },
    {
      "cell_type": "code",
      "metadata": {
        "id": "xVAKM8k42pwN"
      },
      "source": [
        "os.chdir(imgDirectoryPth)\n",
        "\n",
        "# tarfilePth=''\n",
        "finder=glob.glob('**', recursive=True)\n",
        "for fil in sorted(finder):\n",
        "    tarfilePth=abspath(fil)\n",
        "    print(tarfilePth)"
      ],
      "execution_count": null,
      "outputs": []
    },
    {
      "cell_type": "code",
      "metadata": {
        "id": "_l77dKPNDhZO"
      },
      "source": [
        "os.chdir(contentPth)\n",
        "os.chdir(myDrivePth)\n",
        "# print(tarfilePth)\n",
        "\n",
        "tar = tarfile.open(name='GDrive_Defcon_Images.tar.gz',\n",
        "                   mode='w:gz',\n",
        "                   fileobj=None,\n",
        "                   bufsize=10240)\n",
        "tar.add(name=imgDirectoryPth,\n",
        "        arcname=None,\n",
        "        recursive=True,\n",
        "        filter=None)\n",
        "\n"
      ],
      "execution_count": null,
      "outputs": []
    },
    {
      "cell_type": "code",
      "metadata": {
        "id": "QC2bgyv8G-5C"
      },
      "source": [
        ""
      ],
      "execution_count": null,
      "outputs": []
    },
    {
      "cell_type": "code",
      "metadata": {
        "id": "Ta3dZqRF2pwU"
      },
      "source": [
        "help(tarfile.open)"
      ],
      "execution_count": null,
      "outputs": []
    }
  ]
}