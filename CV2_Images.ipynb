{
  "nbformat": 4,
  "nbformat_minor": 5,
  "metadata": {
    "kernelspec": {
      "display_name": "Python 3",
      "language": "python",
      "name": "python3"
    },
    "language_info": {
      "codemirror_mode": {
        "name": "ipython",
        "version": 3
      },
      "file_extension": ".py",
      "mimetype": "text/x-python",
      "name": "python",
      "nbconvert_exporter": "python",
      "pygments_lexer": "ipython3",
      "version": "3.7.10"
    },
    "colab": {
      "name": "CV2_Images.ipynb",
      "provenance": [],
      "collapsed_sections": [],
      "include_colab_link": true
    }
  },
  "cells": [
    {
      "cell_type": "markdown",
      "metadata": {
        "id": "view-in-github",
        "colab_type": "text"
      },
      "source": [
        "<a href=\"https://colab.research.google.com/github/iypc-team/CoLab/blob/master/CV2_Images.ipynb\" target=\"_parent\"><img src=\"https://colab.research.google.com/assets/colab-badge.svg\" alt=\"Open In Colab\"/></a>"
      ]
    },
    {
      "cell_type": "code",
      "metadata": {
        "colab": {
          "base_uri": "https://localhost:8080/"
        },
        "id": "increased-occasions",
        "outputId": "c8578f25-e065-4c4d-b305-11b02978eba2"
      },
      "source": [
        "# 07/26/2021-1\n",
        "from __future__ import absolute_import\n",
        "from IPython.display import clear_output\n",
        "\n",
        "import glob, os, shutil\n",
        "from os.path import *\n",
        "\n",
        "try: \n",
        "    from google.colab import drive, files\n",
        "    from google.colab.patches import cv2_imshow\n",
        "except Exception as err:\n",
        "    pass\n",
        "\n",
        "try: \n",
        "    from matplotlib import pyplot as plt\n",
        "except Exception as err:\n",
        "    %pip install matplotlib\n",
        "    from matplotlib import pyplot as plt\n",
        "\n",
        "try: \n",
        "    import cv2\n",
        "    from cv2 import COLOR_BGR2RGBA\n",
        "except Exception as err:\n",
        "    print(err)\n",
        "    %pip install opencv-python-headless # works.\n",
        "    # %pip install opencv-contrib-python-headless\n",
        "    import cv2\n",
        "    from cv2 import COLOR_BGR2RGBA, IMREAD_UNCHANGED\n",
        "\n",
        "import numpy as np\n",
        "\n",
        "if exists('/content/sample_data'):\n",
        "    shutil.rmtree('/content/sample_data')\n",
        "\n",
        "contentPth = os.getcwd()\n",
        "tensorflowImagesPath = join(contentPth, 'TensorflowImages')\n",
        "resizedImagesPath = join(contentPth, 'TensorflowResizedImages')\n",
        "\n",
        "if exists(resizedImagesPath):\n",
        "    pass\n",
        "    shutil.rmtree(resizedImagesPath)\n",
        "\n",
        "try:\n",
        "    drive.flush_and_unmount()\n",
        "    drive.mount('/content/gdrive/', force_remount=True)\n",
        "    mydrivePth = '/content/gdrive/MyDrive'\n",
        "    os.chdir(mydrivePth)\n",
        "    gdriveTFImagesPth = join(mydrivePth, 'TensorflowImages')\n",
        "    gdriveResizedImagesPth = join(mydrivePth, 'TensorflowResizedImages')\n",
        "    \n",
        "    os.chdir(mydrivePth)\n",
        "    from TarfileFunctions import *\n",
        "    from BashColors import C\n",
        "    \n",
        "    if not exists(tensorflowImagesPath):\n",
        "        shutil.copytree(gdriveResizedImagesPth, tensorflowImagesPath)\n",
        "        # tff.listTarfiles()\n",
        "        os.chdir(contentPth)\n",
        "        # tff.extractTarfiles('Juno_Original_Images.tar.gz')\n",
        "\n",
        "    gdrive_resized_images = '/content/gdrive/MyDrive/TensorflowResizedImages'\n",
        "    if not exists(resizedImagesPath): # and not exists(resizedImagesPath):\n",
        "        # print('from:', gdrive_resized_images)\n",
        "        # print('to:', resizedImagesPath)\n",
        "        try: shutil.copytree(gdrive_resized_images, resizedImagesPath)\n",
        "        except Exception as err:\n",
        "            print(err)\n",
        "\n",
        "    os.chdir(contentPth)\n",
        "\n",
        "except Exception as err:\n",
        "    # print(err)\n",
        "    os.chdir(contentPth)\n",
        "    from TarfileFunctions import *\n",
        "    from BashColors import C\n",
        "    tarfilePath=join(contentPth, 'Juno_Original_Images.tar.gz')\n",
        "    if exists(tarfilePath) and not exists(tensorflowImagesPath):\n",
        "        tff.extractTarfiles('Juno_Original_Images.tar.gz')\n",
        "\n",
        "rootPth = expanduser(\"~\")\n",
        "\n",
        "os.chdir(contentPth)\n",
        "print(f'cv2: {C.IBlue}{cv2.__version__}{C.ColorOff}')\n",
        "print(f'cwd: {C.IBlue}{os.getcwd()}')"
      ],
      "id": "increased-occasions",
      "execution_count": 1,
      "outputs": [
        {
          "output_type": "stream",
          "text": [
            "Drive not mounted, so nothing to flush and unmount.\n",
            "Mounted at /content/gdrive/\n",
            "cv2: \u001b[0;94m4.1.2\u001b[0m\n",
            "cwd: \u001b[0;94m/content\n"
          ],
          "name": "stdout"
        }
      ]
    },
    {
      "cell_type": "code",
      "metadata": {
        "colab": {
          "base_uri": "https://localhost:8080/"
        },
        "id": "o-cnh6Glha57",
        "outputId": "90dac4fe-bdfc-4ce1-971f-a722a961bfee"
      },
      "source": [
        "os.chdir(tensorflowImagesPath)\n",
        "imageGlob = glob.glob('**', recursive=True)\n",
        "pathList=[]\n",
        "count=0\n",
        "for path in sorted(imageGlob):\n",
        "    fullPath = abspath(path)\n",
        "    if isfile(path):\n",
        "        pathList.append(fullPath)\n",
        "        print(count, fullPath)\n",
        "        count+=1"
      ],
      "id": "o-cnh6Glha57",
      "execution_count": 11,
      "outputs": [
        {
          "output_type": "stream",
          "text": [
            "0 /content/TensorflowImages/Enemy/enemy_1.png\n",
            "1 /content/TensorflowImages/Enemy/horz_flip_enemy_1.png\n",
            "2 /content/TensorflowImages/Enemy/vert_flip_enemy_1.png\n",
            "3 /content/TensorflowImages/Friendly/friendly_10.png\n",
            "4 /content/TensorflowImages/Friendly/friendly_11.png\n",
            "5 /content/TensorflowImages/Friendly/friendly_2.png\n",
            "6 /content/TensorflowImages/Friendly/friendly_3.png\n",
            "7 /content/TensorflowImages/Friendly/friendly_4.png\n",
            "8 /content/TensorflowImages/Friendly/friendly_6.png\n",
            "9 /content/TensorflowImages/Friendly/friendly_8.png\n",
            "10 /content/TensorflowImages/Friendly/friendly_9.png\n",
            "11 /content/TensorflowImages/Friendly/horz_flip_friendly_10.png\n",
            "12 /content/TensorflowImages/Friendly/horz_flip_friendly_11.png\n",
            "13 /content/TensorflowImages/Friendly/horz_flip_friendly_2.png\n",
            "14 /content/TensorflowImages/Friendly/horz_flip_friendly_3.png\n",
            "15 /content/TensorflowImages/Friendly/horz_flip_friendly_4.png\n",
            "16 /content/TensorflowImages/Friendly/horz_flip_friendly_6.png\n",
            "17 /content/TensorflowImages/Friendly/horz_flip_friendly_8.png\n",
            "18 /content/TensorflowImages/Friendly/horz_flip_friendly_9.png\n",
            "19 /content/TensorflowImages/Friendly/vert_flip_friendly_10.png\n",
            "20 /content/TensorflowImages/Friendly/vert_flip_friendly_11.png\n",
            "21 /content/TensorflowImages/Friendly/vert_flip_friendly_2.png\n",
            "22 /content/TensorflowImages/Friendly/vert_flip_friendly_3.png\n",
            "23 /content/TensorflowImages/Friendly/vert_flip_friendly_4.png\n",
            "24 /content/TensorflowImages/Friendly/vert_flip_friendly_6.png\n",
            "25 /content/TensorflowImages/Friendly/vert_flip_friendly_8.png\n",
            "26 /content/TensorflowImages/Friendly/vert_flip_friendly_9.png\n",
            "27 /content/TensorflowImages/backgroundImage224.png\n"
          ],
          "name": "stdout"
        }
      ]
    },
    {
      "cell_type": "code",
      "metadata": {
        "colab": {
          "base_uri": "https://localhost:8080/",
          "height": 259
        },
        "id": "W00Kkm0NmYi6",
        "outputId": "62dcd676-c0e5-4a47-e45e-28ec733295f3"
      },
      "source": [
        "bgImagePath = pathList[27]\n",
        "zeroPx = [64,64,64,255]\n",
        "bgImage = cv2.imread(bgImagePath, cv2.IMREAD_UNCHANGED)\n",
        "for px in bgImage:\n",
        "    bgImage[:] = zeroPx\n",
        "plt.imshow(bgImage)\n",
        "type(bgImage)\n",
        "cv2_imshow(bgImage)\n",
        "cv2.waitKey(500)\n",
        "cv2.destroyAllWindows()\n",
        "\n",
        "print(f'shape: {bgImage.shape}')"
      ],
      "id": "W00Kkm0NmYi6",
      "execution_count": 23,
      "outputs": [
        {
          "output_type": "display_data",
          "data": {
            "image/png": "[encoded data removed]",
            "text/plain": [
              "<PIL.Image.Image image mode=RGBA size=224x224 at 0x7FAB495CEC90>"
            ]
          },
          "metadata": {
            "tags": []
          }
        },
        {
          "output_type": "stream",
          "text": [
            "shape: (224, 224, 4)\n"
          ],
          "name": "stdout"
        }
      ]
    },
    {
      "cell_type": "code",
      "metadata": {
        "colab": {
          "base_uri": "https://localhost:8080/",
          "height": 543
        },
        "id": "pleased-formation",
        "outputId": "aab77cd6-ce15-48bf-f12f-55fd8789c634"
      },
      "source": [
        "def create_blank(width, height, rgb_color=(0, 0, 0)):\n",
        "    \"\"\"Create new image(numpy array) filled with certain color in RGB\"\"\"\n",
        "    # Create black blank image\n",
        "    image = np.zeros((height, width, 3), np.uint8)\n",
        "\n",
        "    # Since OpenCV uses BGR, convert the color first\n",
        "    color = tuple(reversed(rgb_color))\n",
        "    # Fill image with color\n",
        "    image[:] = color\n",
        "    return image\n",
        "\n",
        "# Create new blank 300x300 blue image\n",
        "width1, height1 = 224, 224\n",
        "blue = (255, 0, 0)\n",
        "image = create_blank(width1, height1, rgb_color=blue)\n",
        "\n",
        "try:\n",
        "    print(image.shape)\n",
        "    cv2_imshow(image)\n",
        "    plt.imshow(imagep)\n",
        "\n",
        "except: plt.imshow(image)\n",
        "print(type(image))\n",
        "cv2.imwrite('blue.jpg', image)\n",
        "\n",
        "try:\n",
        "    cv2.waitKey(0)\n",
        "    cv2.destroyAllWindows()\n",
        "except: pass\n"
      ],
      "id": "pleased-formation",
      "execution_count": null,
      "outputs": [
        {
          "output_type": "stream",
          "text": [
            "(224, 224, 3)\n"
          ],
          "name": "stdout"
        },
        {
          "output_type": "display_data",
          "data": {
            "image/png": "[encoded data removed]",
            "text/plain": [
              "<PIL.Image.Image image mode=RGB size=224x224 at 0x7FB733CFEF10>"
            ]
          },
          "metadata": {
            "tags": []
          }
        },
        {
          "output_type": "stream",
          "text": [
            "<class 'numpy.ndarray'>\n"
          ],
          "name": "stdout"
        },
        {
          "output_type": "display_data",
          "data": {
            "image/png": "[encoded data removed]",
            "text/plain": [
              "<Figure size 432x288 with 1 Axes>"
            ]
          },
          "metadata": {
            "tags": [],
            "needs_background": "light"
          }
        }
      ]
    },
    {
      "cell_type": "code",
      "metadata": {
        "colab": {
          "base_uri": "https://localhost:8080/",
          "height": 511
        },
        "id": "yellow-superintendent",
        "outputId": "1c5d2054-9945-4b89-e8c8-5ff6a9fb1af9"
      },
      "source": [
        "def create_blank(width, height, rgb_color=(0, 0, 0)):\n",
        "    \"\"\"Create new image(numpy array) filled with certain color in RGB\"\"\"\n",
        "    # Create black blank image\n",
        "    image = np.zeros((height, width, 3), np.uint8)\n",
        "\n",
        "    # Since OpenCV uses BGR, convert the color first\n",
        "    color = tuple(reversed(rgb_color))\n",
        "    # Fill image with color\n",
        "    image[:] = color\n",
        "    return image\n",
        "\n",
        "# Create new blank 300x300 gray image\n",
        "width1, height1 = 224, 224\n",
        "gray = (64,64,64)\n",
        "image = create_blank(width1, height1, rgb_color=gray)\n",
        "try: cv2.imshow(image)\n",
        "except: plt.imshow(image)\n",
        "print(type(image))\n",
        "savePath= join(contentPth, 'gray.jpg')\n",
        "cv2.imwrite(savePath, image)\n",
        "img = cv2.imread(savePath)\n",
        "try:\n",
        "    cv2.waitKey(0)\n",
        "    cv2.destroyAllWindows()\n",
        "except: pass\n",
        "cv2_imshow(img)"
      ],
      "id": "yellow-superintendent",
      "execution_count": null,
      "outputs": [
        {
          "output_type": "stream",
          "text": [
            "<class 'numpy.ndarray'>\n"
          ],
          "name": "stdout"
        },
        {
          "output_type": "display_data",
          "data": {
            "image/png": "[encoded data removed]",
            "text/plain": [
              "<PIL.Image.Image image mode=RGB size=224x224 at 0x7FB7340E01D0>"
            ]
          },
          "metadata": {
            "tags": []
          }
        },
        {
          "output_type": "display_data",
          "data": {
            "image/png": "[encoded data removed]",
            "text/plain": [
              "<Figure size 432x288 with 1 Axes>"
            ]
          },
          "metadata": {
            "tags": [],
            "needs_background": "light"
          }
        }
      ]
    },
    {
      "cell_type": "code",
      "metadata": {
        "colab": {
          "base_uri": "https://localhost:8080/"
        },
        "id": "requested-hydrogen",
        "outputId": "3b6db347-f059-4ee6-ada7-6bfd45b2eb54"
      },
      "source": [
        "bgPath = join(contentPth, 'gray.png')\n",
        "\n",
        "img = cv2.imread(bgPath)\n",
        "newImg = cv2.getThreadNum()\n",
        "newImg"
      ],
      "id": "requested-hydrogen",
      "execution_count": null,
      "outputs": [
        {
          "output_type": "execute_result",
          "data": {
            "text/plain": [
              "1694799744"
            ]
          },
          "metadata": {
            "tags": []
          },
          "execution_count": 30
        }
      ]
    }
  ]
}