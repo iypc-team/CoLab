{
  "nbformat": 4,
  "nbformat_minor": 5,
  "metadata": {
    "colab": {
      "name": "CV2_Images.ipynb",
      "private_outputs": true,
      "provenance": [],
      "collapsed_sections": [],
      "include_colab_link": true
    },
    "kernelspec": {
      "display_name": "Python 3",
      "language": "python",
      "name": "python3"
    },
    "language_info": {
      "codemirror_mode": {
        "name": "ipython",
        "version": 3
      },
      "file_extension": ".py",
      "mimetype": "text/x-python",
      "name": "python",
      "nbconvert_exporter": "python",
      "pygments_lexer": "ipython3",
      "version": "3.7.10"
    }
  },
  "cells": [
    {
      "cell_type": "markdown",
      "metadata": {
        "id": "view-in-github",
        "colab_type": "text"
      },
      "source": [
        "<a href=\"https://colab.research.google.com/github/iypc-team/CoLab/blob/master/CV2_Images.ipynb\" target=\"_parent\"><img src=\"https://colab.research.google.com/assets/colab-badge.svg\" alt=\"Open In Colab\"/></a>"
      ]
    },
    {
      "cell_type": "code",
      "metadata": {
        "id": "increased-occasions"
      },
      "source": [
        "# 07/30/2021-1\n",
        "from __future__ import absolute_import\n",
        "from IPython.display import clear_output\n",
        "\n",
        "import glob, os, shutil\n",
        "from os.path import *\n",
        "\n",
        "try: \n",
        "    from google.colab import drive, files\n",
        "    from google.colab.patches import cv2_imshow\n",
        "except Exception as err:\n",
        "    pass\n",
        "\n",
        "try: \n",
        "    from matplotlib import pyplot as plt\n",
        "except Exception as err:\n",
        "    %pip install matplotlib\n",
        "    from matplotlib import pyplot as plt\n",
        "\n",
        "try: \n",
        "    import cv2\n",
        "    from cv2 import COLOR_BGR2RGBA\n",
        "except Exception as err:\n",
        "    print(err)\n",
        "    %pip install opencv-python-headless # works.\n",
        "    # %pip install opencv-contrib-python-headless\n",
        "    import cv2\n",
        "    from cv2 import COLOR_BGR2RGBA, IMREAD_UNCHANGED\n",
        "\n",
        "import numpy as np\n",
        "\n",
        "if exists('/content/sample_data'):\n",
        "    shutil.rmtree('/content/sample_data')\n",
        "\n",
        "contentPth = os.getcwd()\n",
        "tensorflowImagesPath = join(contentPth, 'TensorflowImages')\n",
        "resizedImagesPath = join(contentPth, 'TensorflowResizedImages')\n",
        "\n",
        "if exists(resizedImagesPath):\n",
        "    pass\n",
        "    shutil.rmtree(resizedImagesPath)\n",
        "\n",
        "try:\n",
        "    drive.flush_and_unmount()\n",
        "    drive.mount('/content/gdrive/', force_remount=True)\n",
        "    mydrivePth = '/content/gdrive/MyDrive'\n",
        "    os.chdir(mydrivePth)\n",
        "    gdriveTFImagesPth = join(mydrivePth, 'TensorflowImages')\n",
        "    gdriveResizedImagesPth = join(mydrivePth, 'TensorflowResizedImages')\n",
        "    \n",
        "    os.chdir(mydrivePth)\n",
        "    from TarfileFunctions import *\n",
        "    from BashColors import C\n",
        "    \n",
        "    if not exists(tensorflowImagesPath):\n",
        "        shutil.copytree(gdriveTFImagesPth, tensorflowImagesPath)\n",
        "        # tff.listTarfiles()\n",
        "        os.chdir(contentPth)\n",
        "        # tff.extractTarfiles('Juno_Original_Images.tar.gz')\n",
        "\n",
        "    gdrive_resized_images = '/content/gdrive/MyDrive/TensorflowResizedImages'\n",
        "    if not exists(resizedImagesPath):\n",
        "        try: shutil.copytree(gdrive_resized_images, resizedImagesPath)\n",
        "        except Exception as err:\n",
        "            print(err)\n",
        "\n",
        "    os.chdir(contentPth)\n",
        "\n",
        "except Exception as err:\n",
        "    # print(err)\n",
        "    os.chdir(contentPth)\n",
        "    from TarfileFunctions import *\n",
        "    from BashColors import C\n",
        "    tarfilePath=join(contentPth, 'Juno_Original_Images.tar.gz')\n",
        "    if exists(tarfilePath) and not exists(tensorflowImagesPath):\n",
        "        tff.extractTarfiles('Juno_Original_Images.tar.gz')\n",
        "\n",
        "rootPth = expanduser(\"~\")\n",
        "\n",
        "os.chdir(contentPth)\n",
        "print(f'cv2: {C.IBlue}{cv2.__version__}{C.ColorOff}')\n",
        "print(f'cwd: {C.IBlue}{os.getcwd()}')"
      ],
      "id": "increased-occasions",
      "execution_count": null,
      "outputs": []
    },
    {
      "cell_type": "code",
      "metadata": {
        "id": "o-cnh6Glha57"
      },
      "source": [
        "os.chdir(tensorflowImagesPath)\n",
        "imageGlob = glob.glob('**', recursive=True)\n",
        "pathList=[]\n",
        "count=0\n",
        "for path in sorted(imageGlob):\n",
        "    fullPath = abspath(path)\n",
        "    if isfile(path) and not path.__contains__('backgroundImage224.png'):\n",
        "        pathList.append(fullPath)\n",
        "        print(count, fullPath)\n",
        "        count+=1\n",
        "clear_output()"
      ],
      "id": "o-cnh6Glha57",
      "execution_count": null,
      "outputs": []
    },
    {
      "cell_type": "code",
      "metadata": {
        "id": "W00Kkm0NmYi6"
      },
      "source": [
        "def matPlotCompareTwoImages(thisImage, compareImage):\n",
        "    thisImage = cv2.cvtColor(thisImage, cv2.COLOR_BGR2BGRA)\n",
        "    compareImage = cv2.cvtColor(compareImage, cv2.COLOR_BGR2BGRA)\n",
        "    # Plot the images\n",
        "    fig=plt.figure()\n",
        "    ax1 = fig.add_subplot(1,2,1)\n",
        "    ax1.imshow(thisImage)\n",
        "    ax1.axis('off')\n",
        "    ax1.set_title('Original Image')\n",
        "\n",
        "    ax2 = fig.add_subplot(1,2,2)\n",
        "    ax2.imshow(compareImage)\n",
        "    ax2.axis('off')\n",
        "    ax2.set_title('New Image')\n",
        "    plt.show()\n",
        "\n",
        "def cv2ResizeImage(thisImage, newSize=(224,224)):\n",
        "    resized_image = cv2.resize(thisImage,newSize,interpolation=cv2.INTER_CUBIC)\n",
        "    return resized_image\n",
        "\n",
        "def cv2CreateImageWithColor(pxColor, silent=True):\n",
        "    bgImagePath = join(contentPth, 'TensorflowImages/backgroundImage224.png')\n",
        "    bgImage = cv2.imread(bgImagePath, cv2.IMREAD_UNCHANGED)\n",
        "    save_path = join(contentPth, 'bgImage.png')\n",
        "    # print(save_path)\n",
        "    bgImage = np.copy(bgImage)\n",
        "\n",
        "    for px in bgImage:\n",
        "        bgImage[:] = pxColor\n",
        "        cv2.waitKey(100)\n",
        "        \n",
        "    cv2.imwrite(save_path, bgImage)\n",
        "    if not silent:\n",
        "        print(f'shape: {bgImage.shape}')\n",
        "        # cv2_imshow(bgImage)\n",
        "        matPlotCompareTwoImages(bgImage, bgImage)\n",
        "    return save_path\n",
        "\n",
        "def cv2ZoomOutImage(imagePath):\n",
        "    img = cv2.imread(imagePath, cv2.IMREAD_UNCHANGED)\n",
        "\n",
        "\n",
        "def cv2Rotation(thisImage, angle=0, rotPoint=None, newScale=1, silent=True):\n",
        "    ''''''\n",
        "    thisImage = np.copy(thisImage)\n",
        "    zeroPixel = thisImage[[0][0]]\n",
        "    width, height = thisImage.shape[:2]\n",
        "    if rotPoint == None:\n",
        "        rotPoint = width//2, height//2\n",
        "        rotMat = cv2.getRotationMatrix2D(rotPoint, angle, scale=newScale)\n",
        "        dimentions = width, height\n",
        "        rotImage = cv2.warpAffine(thisImage, rotMat, dimentions)\n",
        "        rotImageZeroPixel = rotImage[0][0]\n",
        "        if not silent:\n",
        "            print('cv2Rotation()')\n",
        "            matPlotCompareTwoImages(thisImage, rotImage)\n",
        "            cv2.waitKey(100)\n",
        "        cv2.waitKey(100)\n",
        "        cv2.destroyAllWindows()\n",
        "        return rotImage\n",
        "\n",
        "    def cv2Translate(thisImage, x=0, y=0, silent=True):\n",
        "        ''''''\n",
        "        thisImage = np.copy(thisImage)\n",
        "        translateMatrix = np.float32([[1,0,x],[0,1,y]])\n",
        "        dimentions = (thisImage.shape[1], thisImage.shape[0])\n",
        "        newImage = cv2.warpAffine(thisImage, translateMatrix, dimentions)\n",
        "        if not silent:\n",
        "            print('cv2Translate()')\n",
        "            matPlotCompareTwoImages(thisImage, newImage)\n",
        "            cv2.waitKey(100)\n",
        "        cv2.waitKey(100)\n",
        "        cv2.destroyAllWindows()\n",
        "        return newImage\n",
        "\n",
        "\n",
        "originalImage = cv2.imread(pathList[0], cv2.IMREAD_UNCHANGED)\n",
        "originalImage = cv2ResizeImage(originalImage)\n",
        "zoomImage = cv2ZoomOutImage(pathList[0])\n",
        "\n",
        "# _ = cv2Translate(zoomImage)\n",
        "\n",
        "cv2.waitKey(100)\n",
        "cv2.destroyAllWindows()"
      ],
      "id": "W00Kkm0NmYi6",
      "execution_count": null,
      "outputs": []
    },
    {
      "cell_type": "code",
      "metadata": {
        "id": "N1PEjuflprG5"
      },
      "source": [
        "help(cv2Rotation)"
      ],
      "id": "N1PEjuflprG5",
      "execution_count": null,
      "outputs": []
    },
    {
      "cell_type": "code",
      "metadata": {
        "id": "E0hplmLnyeBE"
      },
      "source": [
        "_ = cv"
      ],
      "id": "E0hplmLnyeBE",
      "execution_count": null,
      "outputs": []
    },
    {
      "cell_type": "code",
      "metadata": {
        "id": "requested-hydrogen"
      },
      "source": [
        "count=0\n",
        "for pth in sorted(pathList):\n",
        "    imagePath = pth\n",
        "    enemyImage = cv2.imread(imagePath, cv2.IMREAD_UNCHANGED)\n",
        "    enemyImage = cv2.resize(enemyImage, (224, 224), \n",
        "                            interpolation=cv2.INTER_CUBIC)\n",
        "    print(f'pathList[{count}]')\n",
        "    count+=1\n",
        "    print(imagePath)\n",
        "\n",
        "    zeroPixel = enemyImage[0][0]\n",
        "\n",
        "    bgImagePath = cv2CreateImageWithColor(pxColor=zeroPixel)\n",
        "    bgImage = cv2.imread(bgImagePath, cv2.IMREAD_UNCHANGED)\n",
        "    cv2_imshow(enemyImage)\n",
        "\n",
        "    imageSecondary = cv2.hconcat([bgImage,bgImage,bgImage])\n",
        "    imagePrimary = cv2.hconcat([bgImage,enemyImage,bgImage])\n",
        "    zoomImage = cv2.vconcat([imageSecondary,imagePrimary,imageSecondary])\n",
        "    zoomImage = cv2ResizeImage(thisImage=zoomImage)\n",
        "\n",
        "    print(zoomImage.shape)\n",
        "    cv2_imshow(zoomImage)\n",
        "    matPlotCompareTwoImages(enemyImage, zoomImage)\n",
        "    cv2.waitKey(500)\n",
        "    cv2.destroyAllWindows()\n",
        "    print()"
      ],
      "id": "requested-hydrogen",
      "execution_count": null,
      "outputs": []
    },
    {
      "cell_type": "code",
      "metadata": {
        "id": "RYX_MBpyVhKZ"
      },
      "source": [
        "_=cv2Rotation(thisImage=originalImage, silent=False)"
      ],
      "id": "RYX_MBpyVhKZ",
      "execution_count": null,
      "outputs": []
    },
    {
      "cell_type": "code",
      "metadata": {
        "id": "_Cv3i19NHEWK"
      },
      "source": [
        ""
      ],
      "id": "_Cv3i19NHEWK",
      "execution_count": null,
      "outputs": []
    }
  ]
}