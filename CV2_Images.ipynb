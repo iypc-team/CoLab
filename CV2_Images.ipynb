{
  "nbformat": 4,
  "nbformat_minor": 5,
  "metadata": {
    "kernelspec": {
      "display_name": "Python 3",
      "language": "python",
      "name": "python3"
    },
    "language_info": {
      "codemirror_mode": {
        "name": "ipython",
        "version": 3
      },
      "file_extension": ".py",
      "mimetype": "text/x-python",
      "name": "python",
      "nbconvert_exporter": "python",
      "pygments_lexer": "ipython3",
      "version": "3.7.10"
    },
    "colab": {
      "name": "CV2_Images.ipynb",
      "provenance": [],
      "collapsed_sections": [],
      "include_colab_link": true
    }
  },
  "cells": [
    {
      "cell_type": "markdown",
      "metadata": {
        "id": "view-in-github",
        "colab_type": "text"
      },
      "source": [
        "<a href=\"https://colab.research.google.com/github/iypc-team/CoLab/blob/master/CV2_Images.ipynb\" target=\"_parent\"><img src=\"https://colab.research.google.com/assets/colab-badge.svg\" alt=\"Open In Colab\"/></a>"
      ]
    },
    {
      "cell_type": "code",
      "metadata": {
        "colab": {
          "base_uri": "https://localhost:8080/"
        },
        "id": "increased-occasions",
        "outputId": "d1ccf862-cccd-4774-b8c0-d37b519b7416"
      },
      "source": [
        "# 07/26/2021-2\n",
        "from __future__ import absolute_import\n",
        "from IPython.display import clear_output\n",
        "\n",
        "import glob, os, shutil\n",
        "from os.path import *\n",
        "\n",
        "try: \n",
        "    from google.colab import drive, files\n",
        "    from google.colab.patches import cv2_imshow\n",
        "except Exception as err:\n",
        "    pass\n",
        "\n",
        "try: \n",
        "    from matplotlib import pyplot as plt\n",
        "except Exception as err:\n",
        "    %pip install matplotlib\n",
        "    from matplotlib import pyplot as plt\n",
        "\n",
        "try: \n",
        "    import cv2\n",
        "    from cv2 import COLOR_BGR2RGBA\n",
        "except Exception as err:\n",
        "    print(err)\n",
        "    %pip install opencv-python-headless # works.\n",
        "    # %pip install opencv-contrib-python-headless\n",
        "    import cv2\n",
        "    from cv2 import COLOR_BGR2RGBA, IMREAD_UNCHANGED\n",
        "\n",
        "import numpy as np\n",
        "\n",
        "if exists('/content/sample_data'):\n",
        "    shutil.rmtree('/content/sample_data')\n",
        "\n",
        "contentPth = os.getcwd()\n",
        "tensorflowImagesPath = join(contentPth, 'TensorflowImages')\n",
        "resizedImagesPath = join(contentPth, 'TensorflowResizedImages')\n",
        "\n",
        "if exists(resizedImagesPath):\n",
        "    pass\n",
        "    shutil.rmtree(resizedImagesPath)\n",
        "\n",
        "try:\n",
        "    drive.flush_and_unmount()\n",
        "    drive.mount('/content/gdrive/', force_remount=True)\n",
        "    mydrivePth = '/content/gdrive/MyDrive'\n",
        "    os.chdir(mydrivePth)\n",
        "    gdriveTFImagesPth = join(mydrivePth, 'TensorflowImages')\n",
        "    gdriveResizedImagesPth = join(mydrivePth, 'TensorflowResizedImages')\n",
        "    \n",
        "    os.chdir(mydrivePth)\n",
        "    from TarfileFunctions import *\n",
        "    from BashColors import C\n",
        "    \n",
        "    if not exists(tensorflowImagesPath):\n",
        "        shutil.copytree(gdriveResizedImagesPth, tensorflowImagesPath)\n",
        "        # tff.listTarfiles()\n",
        "        os.chdir(contentPth)\n",
        "        # tff.extractTarfiles('Juno_Original_Images.tar.gz')\n",
        "\n",
        "    gdrive_resized_images = '/content/gdrive/MyDrive/TensorflowResizedImages'\n",
        "    if not exists(resizedImagesPath): # and not exists(resizedImagesPath):\n",
        "        # print('from:', gdrive_resized_images)\n",
        "        # print('to:', resizedImagesPath)\n",
        "        try: shutil.copytree(gdrive_resized_images, resizedImagesPath)\n",
        "        except Exception as err:\n",
        "            print(err)\n",
        "\n",
        "    os.chdir(contentPth)\n",
        "\n",
        "except Exception as err:\n",
        "    # print(err)\n",
        "    os.chdir(contentPth)\n",
        "    from TarfileFunctions import *\n",
        "    from BashColors import C\n",
        "    tarfilePath=join(contentPth, 'Juno_Original_Images.tar.gz')\n",
        "    if exists(tarfilePath) and not exists(tensorflowImagesPath):\n",
        "        tff.extractTarfiles('Juno_Original_Images.tar.gz')\n",
        "\n",
        "rootPth = expanduser(\"~\")\n",
        "\n",
        "os.chdir(contentPth)\n",
        "print(f'cv2: {C.IBlue}{cv2.__version__}{C.ColorOff}')\n",
        "print(f'cwd: {C.IBlue}{os.getcwd()}')"
      ],
      "id": "increased-occasions",
      "execution_count": 1,
      "outputs": [
        {
          "output_type": "stream",
          "text": [
            "Mounted at /content/gdrive/\n",
            "cv2: \u001b[0;94m4.1.2\u001b[0m\n",
            "cwd: \u001b[0;94m/content\n"
          ],
          "name": "stdout"
        }
      ]
    },
    {
      "cell_type": "code",
      "metadata": {
        "id": "o-cnh6Glha57"
      },
      "source": [
        "os.chdir(tensorflowImagesPath)\n",
        "imageGlob = glob.glob('**', recursive=True)\n",
        "pathList=[]\n",
        "count=0\n",
        "for path in sorted(imageGlob):\n",
        "    fullPath = abspath(path)\n",
        "    if isfile(path):\n",
        "        pathList.append(fullPath)\n",
        "        print(count, fullPath)\n",
        "        count+=1\n",
        "clear_output()"
      ],
      "id": "o-cnh6Glha57",
      "execution_count": 2,
      "outputs": []
    },
    {
      "cell_type": "code",
      "metadata": {
        "colab": {
          "base_uri": "https://localhost:8080/"
        },
        "id": "W00Kkm0NmYi6",
        "outputId": "b8c0ea67-c058-445d-82d8-3c72bf730646"
      },
      "source": [
        "def matPlotCompareTwoImages(thisImage, compareImage=None):\n",
        "    if compareImage == 'None':\n",
        "        compareImage = np.copy(thisImage)\n",
        "    \n",
        "\n",
        "\n",
        "def cv2ResizeImage(thisImage):\n",
        "    pass\n",
        "\n",
        "def cv2CreateImageWithColor(pxColor, silent=True):\n",
        "    bgImagePath = join(contentPth, 'TensorflowImages/backgroundImage224.png')\n",
        "    save_path = join(contentPth, 'bgImage.png')\n",
        "    print(save_path)\n",
        "    bgImage = cv2.imread(bgImagePath, cv2.IMREAD_UNCHANGED)\n",
        "    cv2.imwrite(save_path, bgImage)\n",
        "    for px in bgImage:\n",
        "        bgImage[:] = pxColor\n",
        "        cv2.waitKey(500)\n",
        "        cv2.destroyAllWindows()\n",
        "    if not silent:\n",
        "        print(f'shape: {bgImage.shape}')\n",
        "        cv2_imshow(bgImage)\n",
        "    return save_path\n",
        "\n",
        "def cv2ZoomOutImage(imagePath):\n",
        "    img = cv2.imread(imagePath, cv2.IMREAD_UNCHANGED)\n",
        "\n",
        "bgImagePath=cv2CreateImageWithColor(pxColor=[0, 0, 255, 255])\n"
      ],
      "id": "W00Kkm0NmYi6",
      "execution_count": 3,
      "outputs": [
        {
          "output_type": "stream",
          "text": [
            "/content/bgImage.png\n"
          ],
          "name": "stdout"
        }
      ]
    },
    {
      "cell_type": "code",
      "metadata": {
        "colab": {
          "base_uri": "https://localhost:8080/",
          "height": 501
        },
        "id": "requested-hydrogen",
        "outputId": "0c273da0-ce41-44c6-d60a-810fc9920863"
      },
      "source": [
        "bgImage= cv2.imread(bgImagePath, cv2.IMREAD_UNCHANGED)\n",
        "imagePath = pathList[0]\n",
        "enemyImage = cv2.imread(imagePath, cv2.IMREAD_UNCHANGED)\n",
        "zeroPixel = enemyImage[0][0]\n",
        "bgImagePath = cv2CreateImageWithColor(pxColor=zeroPixel,silent=False)\n",
        "cv2_imshow(enemyImage)\n"
      ],
      "id": "requested-hydrogen",
      "execution_count": 4,
      "outputs": [
        {
          "output_type": "stream",
          "text": [
            "/content/bgImage.png\n",
            "shape: (224, 224, 4)\n"
          ],
          "name": "stdout"
        },
        {
          "output_type": "display_data",
          "data": {
            "image/png": "[encoded data removed]",
            "text/plain": [
              "<PIL.Image.Image image mode=RGBA size=224x224 at 0x7FD53F2F3550>"
            ]
          },
          "metadata": {
            "tags": []
          }
        },
        {
          "output_type": "display_data",
          "data": {
            "image/png": "[encoded data removed]",
            "text/plain": [
              "<PIL.Image.Image image mode=RGBA size=224x224 at 0x7FD53D2A6A90>"
            ]
          },
          "metadata": {
            "tags": []
          }
        }
      ]
    }
  ]
}