{
  "nbformat": 4,
  "nbformat_minor": 0,
  "metadata": {
    "kernelspec": {
      "display_name": "Python 3",
      "language": "python",
      "name": "python3"
    },
    "language_info": {
      "codemirror_mode": {
        "name": "ipython",
        "version": 3
      },
      "file_extension": ".py",
      "mimetype": "text/x-python",
      "name": "python",
      "nbconvert_exporter": "python",
      "pygments_lexer": "ipython3",
      "version": "3.7.6"
    },
    "colab": {
      "name": "PyTorch_GPU.ipynb",
      "private_outputs": true,
      "provenance": [],
      "collapsed_sections": [],
      "machine_shape": "hm",
      "include_colab_link": true
    },
    "accelerator": "GPU"
  },
  "cells": [
    {
      "cell_type": "markdown",
      "metadata": {
        "id": "view-in-github",
        "colab_type": "text"
      },
      "source": [
        "<a href=\"https://colab.research.google.com/github/iypc-team/CoLab/blob/master/PyTorch_GPU.ipynb\" target=\"_parent\"><img src=\"https://colab.research.google.com/assets/colab-badge.svg\" alt=\"Open In Colab\"/></a>"
      ]
    },
    {
      "cell_type": "code",
      "metadata": {
        "id": "hLivwqqi7_QF"
      },
      "source": [
        "import time\r\n",
        "\r\n",
        "def functionTimer(start) -> None:\r\n",
        "    start_time = start\r\n",
        "    end_time = time.time()\r\n",
        "    # end_time = end\r\n",
        "    elapse_time = end_time - start_time\r\n",
        "    print(f'\\n{elapse_time} seconds total')\r\n",
        "    if elapse_time >= 60.0:\r\n",
        "        minutes = elapse_time // 60\r\n",
        "        # seconds = elapse_time - minutes * 60\r\n",
        "        seconds = elapse_time % 60\r\n",
        "        seconds = round(seconds, 1)\r\n",
        "        print(f'{minutes } minutes {seconds} seconds')"
      ],
      "execution_count": null,
      "outputs": []
    },
    {
      "cell_type": "code",
      "metadata": {
        "id": "l3OO2lKkopNK"
      },
      "source": [
        "from __future__ import absolute_import\r\n",
        "import torch\r\n",
        "\r\n",
        "if torch.cuda.is_available():\r\n",
        "    print(torch.cuda.memory_stats_as_nested_dict())\r\n",
        "    print(f'{torch.cuda.get_device_name()} is_available: {torch.cuda.is_available()}')\r\n",
        "    gpuDevice = torch.device('cuda')\r\n",
        "    cpuDevice = torch.device('cpu')\r\n",
        "else: cpuDevice = torch.device('cpu')"
      ],
      "execution_count": null,
      "outputs": []
    },
    {
      "cell_type": "code",
      "metadata": {
        "id": "0GASd1eephuV"
      },
      "source": [
        ""
      ],
      "execution_count": null,
      "outputs": []
    },
    {
      "cell_type": "code",
      "metadata": {
        "id": "W24zqTmY-Gc3"
      },
      "source": [
        "print(torch.rand(10, device=gpuDevice))\r\n",
        "print(torch.rand(10, device=cpuDevice))"
      ],
      "execution_count": null,
      "outputs": []
    },
    {
      "cell_type": "code",
      "metadata": {
        "id": "xk9UKuPYt0w7"
      },
      "source": [
        "import typing\n",
        "import torch\n",
        "from torch import nn\n",
        "\n",
        "QNetwork = nn.Module\n",
        "\n",
        "class LambdaLayer(nn.Module):\n",
        "    \n",
        "    def __init__(self, f):\n",
        "        super().__init__()\n",
        "        self._f = f\n",
        "        \n",
        "    def forward(self, X):\n",
        "        return self._f(X)\n",
        "\n",
        "def make_deep_q_network_fn(action_size: int) -> typing.Callable[[], QNetwork]:\n",
        "    \n",
        "    def deep_q_network_fn() -> QNetwork:\n",
        "        q_network = nn.Sequential(\n",
        "            nn.Conv2d(in_channels=4, out_channels=32, kernel_size=8, stride=4),\n",
        "            nn.ReLU(),\n",
        "            nn.Conv2d(in_channels=32, out_channels=64, kernel_size=4, stride=2),\n",
        "            nn.ReLU(),\n",
        "            nn.Conv2d(in_channels=64, out_channels=64, kernel_size=2, stride=1),\n",
        "            nn.ReLU(),\n",
        "            LambdaLayer(lambda tensor: tensor.view(tensor.size(0), -1)),\n",
        "            nn.Linear(in_features=25024, out_features=512),\n",
        "            nn.ReLU(),\n",
        "            nn.Linear(in_features=512, out_features=action_size)\n",
        "        )\n",
        "        return q_network\n",
        "    \n",
        "    return deep_q_network_fn"
      ],
      "execution_count": null,
      "outputs": []
    },
    {
      "cell_type": "code",
      "metadata": {
        "id": "oi-c8DX2t0xO"
      },
      "source": [
        "import collections\n",
        "import typing\n",
        "import numpy as np\n",
        "\n",
        "_field_names = [\n",
        "    \"state\",\n",
        "    \"action\",\n",
        "    \"reward\",\n",
        "    \"next_state\",\n",
        "    \"done\" ]\n",
        "\n",
        "Experience = collections.namedtuple(\"Experience\", field_names=_field_names)\n",
        "\n",
        "class ExperienceReplayBuffer:\n",
        "    \"\"\"Fixed-size buffer to store experience tuples.\"\"\"\n",
        "\n",
        "    def __init__(self,\n",
        "                 batch_size: int,\n",
        "                 buffer_size: int = None,\n",
        "                 random_state: np.random.RandomState = None) -> None:\n",
        "        \"\"\"\n",
        "        Initialize an ExperienceReplayBuffer object.\n",
        "        Parameters:\n",
        "        buffer_size (int): maximum size of buffer\n",
        "        batch_size (int): size of each training batch\n",
        "        seed (int): random seed\n",
        "        \"\"\"\n",
        "        self._batch_size = batch_size\n",
        "        self._buffer_size = buffer_size\n",
        "        self._buffer = collections.deque(maxlen=buffer_size)\n",
        "        self._random_state = np.random.RandomState() if random_state is None else random_state\n",
        "        \n",
        "    def __len__(self) -> int:\n",
        "        return len(self._buffer)\n",
        "    \n",
        "    @property\n",
        "    def batch_size(self) -> int:\n",
        "        return self._batch_size\n",
        "    \n",
        "    @property\n",
        "    def buffer_size(self) -> int:\n",
        "        return self._buffer_size\n",
        "\n",
        "    def is_full(self) -> bool:\n",
        "        return len(self._buffer) == self._buffer_size\n",
        "    \n",
        "    def append(self, experience: Experience) -> None:\n",
        "        \"\"\"Add a new experience to memory.\"\"\"\n",
        "        self._buffer.append(experience)\n",
        "    \n",
        "    def sample(self) -> typing.List[Experience]:\n",
        "        \"\"\"Randomly sample a batch of experiences from memory.\"\"\"\n",
        "        idxs = self._random_state.randint(len(self._buffer), size=self._batch_size)\n",
        "        experiences = [self._buffer[idx] for idx in idxs]\n",
        "        return experiences\n"
      ],
      "execution_count": null,
      "outputs": []
    },
    {
      "cell_type": "markdown",
      "metadata": {
        "id": "0tf9BZELt0xc"
      },
      "source": [
        "### Google Colab Preamble\n",
        "\n",
        "If you are playing around with this notebook on Google Colab, then you will need to run the following cell in order to install the required OpenAI dependencies into the environment."
      ]
    },
    {
      "cell_type": "code",
      "metadata": {
        "id": "xZzupToxt0xe"
      },
      "source": [
        "%%bash\n",
        "# install required system dependencies\n",
        "apt-get install -y xvfb x11-utils\n",
        "\n",
        "# install required python dependencies (might need to install additional gym extras depending)\n",
        "pip install gym[box2d]==0.17.* pyvirtualdisplay==0.2.* PyOpenGL==3.1.* PyOpenGL-accelerate==3.1.*"
      ],
      "execution_count": null,
      "outputs": []
    },
    {
      "cell_type": "code",
      "metadata": {
        "id": "6mqOvlT9t0xk"
      },
      "source": [
        "import pyvirtualdisplay\n",
        "\n",
        "_display = pyvirtualdisplay.Display(visible=False, size=(1400, 900)) # use False with Xvfb\n",
        "_ = _display.start()"
      ],
      "execution_count": null,
      "outputs": []
    },
    {
      "cell_type": "markdown",
      "metadata": {
        "id": "CswEWdEGt0xu"
      },
      "source": [
        "### Creating the Gym environment"
      ]
    },
    {
      "cell_type": "code",
      "metadata": {
        "id": "erTBo_Lft0xw"
      },
      "source": [
        "import gym\n",
        "\n",
        "env = gym.make('LunarLander-v2')\n",
        "_ = env.seed(42)\n"
      ],
      "execution_count": null,
      "outputs": []
    },
    {
      "cell_type": "markdown",
      "metadata": {
        "id": "xNVJb44it0xx"
      },
      "source": [
        "### Defining a generic `Agent` and `train` loop\n",
        "\n",
        "In the cell below I define a fairly generic training loop for training and `Agent` to solve a task in a given `gym.Env` environment.\n",
        "\n",
        "I found myself writing similar code over and over again to train the agent to solve a task. This is my first attempt to write something that I might be able to reuse on the course going forward."
      ]
    },
    {
      "cell_type": "code",
      "metadata": {
        "id": "P2LwFItot0xz"
      },
      "source": [
        "class Agent:\n",
        "    \n",
        "    def choose_action(self, state: np.array) -> int:\n",
        "        \"\"\"Rule for choosing an action given the current state of the environment.\"\"\"\n",
        "        raise NotImplementedError\n",
        "        \n",
        "    def save(self, filepath) -> None:\n",
        "        \"\"\"Save any important agent state to a file.\"\"\"\n",
        "        raise NotImplementedError\n",
        "        \n",
        "    def step(self,\n",
        "             state: np.array,\n",
        "             action: int,\n",
        "             reward: float,\n",
        "             next_state: np.array,\n",
        "             done: bool) -> None:\n",
        "        \"\"\"Update agent's state after observing the effect of its action on the environment.\"\"\"\n",
        "        raise NotImplmentedError\n"
      ],
      "execution_count": null,
      "outputs": []
    },
    {
      "cell_type": "code",
      "metadata": {
        "id": "zqdcOTfEt0x1"
      },
      "source": [
        "def _train_for_at_most(agent: Agent, env: gym.Env, max_timesteps: int) -> int:\n",
        "    \"\"\"Train agent for a maximum number of timesteps.\"\"\"\n",
        "    state = env.reset()\n",
        "    score = 0\n",
        "    for t in range(max_timesteps):\n",
        "        action = agent.choose_action(state)\n",
        "        next_state, reward, done, _ = env.step(action)\n",
        "        agent.step(state, action, reward, next_state, done)\n",
        "        state = next_state\n",
        "        score += reward\n",
        "        if done:\n",
        "            break\n",
        "    return score\n",
        "\n",
        "                \n",
        "def _train_until_done(agent: Agent, env: gym.Env) -> float:\n",
        "    \"\"\"Train the agent until the current episode is complete.\"\"\"\n",
        "    state = env.reset()\n",
        "    score = 0\n",
        "    done = False\n",
        "    while not done:\n",
        "        action = agent.choose_action(state)\n",
        "        next_state, reward, done, _ = env.step(action)\n",
        "        agent.step(state, action, reward, next_state, done)\n",
        "        state = next_state\n",
        "        score += reward\n",
        "    return score\n",
        "\n",
        "def train(agent: Agent,\n",
        "          env: gym.Env,\n",
        "          checkpoint_filepath: str,\n",
        "          target_score: float,\n",
        "          number_episodes: int,\n",
        "          maximum_timesteps=None) -> typing.List[float]:\n",
        "    \"\"\"\n",
        "    Reinforcement learning training loop.\n",
        "    \n",
        "    Parameters:\n",
        "    agent (Agent): an agent to train.\n",
        "    env (gym.Env): an environment in which to train the agent.\n",
        "    checkpoint_filepath (str): filepath used to save the state of the trained agent.\n",
        "    number_episodes (int): maximum number of training episodes.\n",
        "    maximum_timsteps (int): maximum number of timesteps per episode.\n",
        "    \n",
        "    Returns:\n",
        "    scores (list): collection of episode scores from training.\n",
        "    \n",
        "    \"\"\"\n",
        "    scores = []\n",
        "    most_recent_scores = collections.deque(maxlen=100)\n",
        "    for i in range(number_episodes):\n",
        "        if maximum_timesteps is None:\n",
        "            score = _train_until_done(agent, env)\n",
        "        else:\n",
        "            score = _train_for_at_most(agent, env, maximum_timesteps)         \n",
        "        scores.append(score)\n",
        "        most_recent_scores.append(score)\n",
        "        \n",
        "        average_score = sum(most_recent_scores) / len(most_recent_scores)\n",
        "        if average_score >= target_score:\n",
        "            print(f\"\\nEnvironment solved in {i:d} episodes!\\tAverage Score: {average_score:.2f}\")\n",
        "            agent.save(checkpoint_filepath)\n",
        "            break\n",
        "        if (i + 1) % 100 == 0:\n",
        "            print(f\"\\rEpisode {i + 1}\\tAverage Score: {average_score:.2f}\")\n",
        "\n",
        "    return scores"
      ],
      "execution_count": null,
      "outputs": []
    },
    {
      "cell_type": "code",
      "metadata": {
        "id": "igphpSpzt0yA"
      },
      "source": [
        "from torch import optim\n",
        "from torch.nn import functional as F\n",
        "\n",
        "class DeepQAgent(Agent):\n",
        "\n",
        "    def __init__(self,\n",
        "                 state_size: int,\n",
        "                 action_size: int,\n",
        "                 number_hidden_units: int,\n",
        "                 optimizer_fn: typing.Callable[[typing.Iterable[torch.nn.Parameter]], optim.Optimizer],\n",
        "                 batch_size: int,\n",
        "                 buffer_size: int,\n",
        "                 epsilon_decay_schedule: typing.Callable[[int], float],\n",
        "                 alpha: float,\n",
        "                 gamma: float,\n",
        "                 update_frequency: int,\n",
        "                 seed: int = None) -> None:\n",
        "        \"\"\"\n",
        "        Initialize a DeepQAgent.\n",
        "        \n",
        "        Parameters\n",
        "        state_size (int): the size of the state space.\n",
        "        action_size (int): the size of the action space.\n",
        "        number_hidden_units (int): number of units in the hidden layers.\n",
        "        optimizer_fn (callable): function that takes Q-network parameters and returns an optimizer.\n",
        "        batch_size (int): number of experience tuples in each mini-batch.\n",
        "        buffer_size (int): maximum number of experience tuples stored in the replay buffer.\n",
        "        epsilon_decay_schdule (callable): function that takes episode number and returns epsilon.\n",
        "        alpha (float): rate at which the target q-network parameters are updated.\n",
        "        gamma (float): Controls how much that agent discounts future rewards (0 < gamma <= 1).\n",
        "        update_frequency (int): frequency (measured in time steps) with which q-network parameters are updated.\n",
        "        seed (int): random seed\n",
        "        \n",
        "        \"\"\"\n",
        "        self._state_size = state_size\n",
        "        self._action_size = action_size\n",
        "        self._device = torch.device(\"cuda\" if torch.cuda.is_available() else \"cpu\")\n",
        "        \n",
        "        # set seeds for reproducibility\n",
        "        self._random_state = np.random.RandomState() if seed is None else np.random.RandomState(seed)\n",
        "        if seed is not None:\n",
        "            torch.manual_seed(seed)\n",
        "        if torch.cuda.is_available():\n",
        "            torch.backends.cudnn.deterministic = True\n",
        "            torch.backends.cudnn.benchmark = False\n",
        "        \n",
        "        # initialize agent hyperparameters\n",
        "        self._experience_replay_buffer = ExperienceReplayBuffer(batch_size, buffer_size, seed)\n",
        "        self._epsilon_decay_schedule = epsilon_decay_schedule\n",
        "        self._alpha = alpha\n",
        "        self._gamma = gamma\n",
        "        \n",
        "        # initialize Q-Networks\n",
        "        self._update_frequency = update_frequency\n",
        "        self._local_q_network = self._initialize_q_network(number_hidden_units)\n",
        "        self._target_q_network = self._initialize_q_network(number_hidden_units)\n",
        "        self._synchronize_q_networks()\n",
        "        \n",
        "        # send the networks to the device\n",
        "        self._local_q_network.to(self._device)\n",
        "        self._target_q_network.to(self._device)\n",
        "        \n",
        "        # initialize the optimizer\n",
        "        self._optimizer = optimizer_fn(self._local_q_network.parameters())\n",
        "\n",
        "        # initialize some counters\n",
        "        self._number_episodes = 0\n",
        "        self._number_timesteps = 0\n",
        "        self._number_parameter_updates = 0\n",
        "        \n",
        "    def _initialize_q_network(self, number_hidden_units: int) -> nn.Module:\n",
        "        \"\"\"Create a neural network for approximating the action-value function.\"\"\"\n",
        "        q_network = nn.Sequential(\n",
        "            nn.Linear(in_features=self._state_size, out_features=number_hidden_units),\n",
        "            nn.ReLU(),\n",
        "            nn.Linear(in_features=number_hidden_units, out_features=number_hidden_units),\n",
        "            nn.ReLU(),\n",
        "            nn.Linear(in_features=number_hidden_units, out_features=self._action_size)\n",
        "        )\n",
        "        return q_network\n",
        "        \n",
        "    def _learn_from(self, experiences: typing.List[Experience]) -> None:\n",
        "        \"\"\"Heart of the Deep Q-learning algorithm.\"\"\"\n",
        "        states, actions, rewards, next_states, dones = (torch.Tensor(vs).to(self._device) for vs in zip(*experiences))\n",
        "        \n",
        "        # get max predicted Q values (for next states) from target model\n",
        "        next_target_q_values, _ = (self._target_q_network(next_states)\n",
        "                                       .detach()\n",
        "                                       .max(dim=1))\n",
        "        \n",
        "        # compute the new Q' values using the Q-learning formula\n",
        "        target_q_values = rewards + (self._gamma * next_target_q_values * (1 - dones))\n",
        "        \n",
        "        # get expected Q values from local model\n",
        "        _index = (actions.long()\n",
        "                         .unsqueeze(dim=1))\n",
        "        expected_q_values = (self._local_q_network(states)\n",
        "                                 .gather(dim=1, index=_index))\n",
        "        # compute the mean squared loss\n",
        "        loss = F.mse_loss(expected_q_values, target_q_values.unsqueeze(dim=1))\n",
        "        \n",
        "        # agent updates the parameters theta of Q using gradient descent\n",
        "        self._optimizer.zero_grad()\n",
        "        loss.backward()\n",
        "        self._optimizer.step()\n",
        "        \n",
        "        self._soft_update_target_q_network_parameters()\n",
        "                 \n",
        "    def _soft_update_target_q_network_parameters(self) -> None:\n",
        "        \"\"\"Soft-update of target q-network parameters with the local q-network parameters.\"\"\"\n",
        "        for target_param, local_param in zip(self._target_q_network.parameters(), self._local_q_network.parameters()):\n",
        "            target_param.data.copy_(self._alpha * local_param.data + (1 - self._alpha) * target_param.data)\n",
        "    \n",
        "    def _synchronize_q_networks(self) -> None:\n",
        "        \"\"\"Synchronize the target_q_network and the local_q_network.\"\"\"\n",
        "        _ = self._target_q_network.load_state_dict(self._local_q_network.state_dict())\n",
        "           \n",
        "    def _uniform_random_policy(self, state: torch.Tensor) -> int:\n",
        "        \"\"\"Choose an action uniformly at random.\"\"\"\n",
        "        return self._random_state.randint(self._action_size)\n",
        "        \n",
        "    def _greedy_policy(self, state: torch.Tensor) -> int:\n",
        "        \"\"\"Choose an action that maximizes the action_values given the current state.\"\"\"\n",
        "        # evaluate the network to compute the action values\n",
        "        self._local_q_network.eval()\n",
        "        with torch.no_grad():\n",
        "            action_values = self._local_q_network(state)\n",
        "        self._local_q_network.train()\n",
        "        \n",
        "        # choose the greedy action\n",
        "        action = (action_values.cpu()  # action_values might reside on the GPU!\n",
        "                               .argmax()\n",
        "                               .item())\n",
        "        return action\n",
        "    \n",
        "    def _epsilon_greedy_policy(self, state: torch.Tensor, epsilon: float) -> int:\n",
        "        \"\"\"With probability epsilon explore randomly; otherwise exploit knowledge optimally.\"\"\"\n",
        "        if self._random_state.random() < epsilon:\n",
        "            action = self._uniform_random_policy(state)\n",
        "        else:\n",
        "            action = self._greedy_policy(state)\n",
        "        return action\n",
        "\n",
        "    def choose_action(self, state: np.array) -> int:\n",
        "        \"\"\"\n",
        "        Return the action for given state as per current policy.\n",
        "        Parameters:\n",
        "        state (np.array): current state of the environment.\n",
        "        \n",
        "        Return:\n",
        "        action (int): an integer representing the chosen action.\n",
        "\n",
        "        \"\"\"\n",
        "        # need to reshape state array and convert to tensor\n",
        "        state_tensor = (torch.from_numpy(state)\n",
        "                             .unsqueeze(dim=0)\n",
        "                             .to(self._device))\n",
        "            \n",
        "        # choose uniform at random if agent has insufficient experience\n",
        "        if not self.has_sufficient_experience():\n",
        "            action = self._uniform_random_policy(state_tensor)\n",
        "        else:\n",
        "            epsilon = self._epsilon_decay_schedule(self._number_episodes)\n",
        "            action = self._epsilon_greedy_policy(state_tensor, epsilon)\n",
        "        return action\n",
        "    \n",
        "    def has_sufficient_experience(self) -> bool:\n",
        "        \"\"\"True if agent has enough experience to train on a batch of samples; \n",
        "        False otherwise.\"\"\"\n",
        "        return len(self._experience_replay_buffer) >= self._experience_replay_buffer.batch_size\n",
        "    \n",
        "    def save(self, filepath: str) -> None:\n",
        "        \"\"\"\n",
        "        Saves the state of the DeepQAgent.\n",
        "        \n",
        "        Parameters:\n",
        "        filepath (str): filepath where the serialized state should be saved.\n",
        "        \n",
        "        Notes:\n",
        "        The method uses `torch.save` to serialize the state of the q-network, \n",
        "        the optimizer, as well as the dictionary of agent hyperparameters.\n",
        "        \n",
        "        \"\"\"\n",
        "        checkpoint = {\n",
        "            \"q-network-state\": self._local_q_network.state_dict(),\n",
        "            \"optimizer-state\": self._optimizer.state_dict(),\n",
        "            \"agent-hyperparameters\": {\n",
        "                \"alpha\": self._alpha,\n",
        "                \"batch_size\": self._experience_replay_buffer.batch_size,\n",
        "                \"buffer_size\": self._experience_replay_buffer.buffer_size,\n",
        "                \"gamma\": self._gamma,\n",
        "                \"update_frequency\": self._update_frequency\n",
        "            }\n",
        "        }\n",
        "        torch.save(checkpoint, filepath)\n",
        "        \n",
        "    def step(self, state: np.array, action: int, reward: float, next_state: np.array, done: bool) -> None:\n",
        "        \"\"\"\n",
        "        Updates the agent's state based on feedback received from the environment.\n",
        "        Parameters:\n",
        "        \n",
        "        state (np.array): the previous state of the environment.\n",
        "        action (int): the action taken by the agent in the previous state.\n",
        "        reward (float): the reward received from the environment.\n",
        "        next_state (np.array): the resulting state of the environment following the action.\n",
        "        done (bool): True is the training episode is finised; false otherwise.\n",
        "        \n",
        "        \"\"\"\n",
        "        # save experience in the experience replay buffer\n",
        "        experience = Experience(state, action, reward, next_state, done)\n",
        "        self._experience_replay_buffer.append(experience)\n",
        "            \n",
        "        if done:\n",
        "            self._number_episodes += 1\n",
        "        else:\n",
        "            self._number_timesteps += 1\n",
        "            \n",
        "            # every so often the agent should learn from experiences\n",
        "            if self._number_timesteps % self._update_frequency == 0 and self.has_sufficient_experience():\n",
        "                experiences = self._experience_replay_buffer.sample()\n",
        "                self._learn_from(experiences)\n"
      ],
      "execution_count": null,
      "outputs": []
    },
    {
      "cell_type": "code",
      "metadata": {
        "id": "rIJrkmOHt0yU"
      },
      "source": [
        "def linear_decay_schedule(episode_number: int,\n",
        "                          slope: float,\n",
        "                          minimum_epsilon: float) -> float:\n",
        "    \"\"\"Simple linear decay schedule used in the Deepmind paper.\"\"\"\n",
        "    return max(1 - slope * episode_number, minimum_epsilon)\n",
        "\n",
        "def power_decay_schedule(episode_number: int,\n",
        "                         decay_factor: float,\n",
        "                         minimum_epsilon: float) -> float:\n",
        "    \"\"\"Power decay schedule found in other practical applications.\"\"\"\n",
        "    return max(decay_factor**episode_number, minimum_epsilon)\n",
        "\n",
        "_epsilon_decay_schedule_kwargs = {\n",
        "    \"decay_factor\": 0.995,\n",
        "    \"minimum_epsilon\": 1e-2,\n",
        "}\n",
        "epsilon_decay_schedule = lambda n: power_decay_schedule(n, **_epsilon_decay_schedule_kwargs)"
      ],
      "execution_count": null,
      "outputs": []
    },
    {
      "cell_type": "code",
      "metadata": {
        "id": "3wtjrtfHt0ya"
      },
      "source": [
        "_optimizer_kwargs = {\n",
        "    \"lr\": 1e-2,\n",
        "    \"alpha\": 0.99,\n",
        "    \"eps\": 1e-08,\n",
        "    \"weight_decay\": 0,\n",
        "    \"momentum\": 0,\n",
        "    \"centered\": False\n",
        "}\n",
        "optimizer_fn = lambda parameters: optim.RMSprop(parameters, **_optimizer_kwargs)"
      ],
      "execution_count": null,
      "outputs": []
    },
    {
      "cell_type": "markdown",
      "metadata": {
        "id": "FbB_QEnIt0ye"
      },
      "source": [
        "At this point I am ready to create an instance of the `DeepQAgent`."
      ]
    },
    {
      "cell_type": "code",
      "metadata": {
        "id": "gj9gTWO9t0yf"
      },
      "source": [
        "_agent_kwargs = {\n",
        "    \"state_size\": env.observation_space.shape[0],\n",
        "    \"action_size\": env.action_space.n, \n",
        "    \"number_hidden_units\": 64,\n",
        "    \"optimizer_fn\": optimizer_fn,\n",
        "    \"epsilon_decay_schedule\": epsilon_decay_schedule,\n",
        "    \"batch_size\": 32,\n",
        "    \"buffer_size\": 1000000,\n",
        "    \"alpha\": 1e-3,\n",
        "    \"gamma\": 0.99,\n",
        "    \"update_frequency\": 4,\n",
        "    \"seed\": None,\n",
        "}\n",
        "deep_q_agent = DeepQAgent(**_agent_kwargs)\n",
        "untrained_deep_q_agent = deep_q_agent"
      ],
      "execution_count": null,
      "outputs": []
    },
    {
      "cell_type": "code",
      "metadata": {
        "id": "lQtIsiABt0yk"
      },
      "source": [
        "import matplotlib.pyplot as plt\n",
        "from IPython import display\n",
        "\n",
        "def simulate(agent: Agent, env: gym.Env, ax: plt.Axes) -> None:\n",
        "    state = env.reset()\n",
        "    img = ax.imshow(env.render(mode='rgb_array'))\n",
        "    done = False\n",
        "    while not done:\n",
        "        action = agent.choose_action(state)\n",
        "        img.set_data(env.render(mode='rgb_array')) \n",
        "        plt.axis('off')\n",
        "        display.display(plt.gcf())\n",
        "        display.clear_output(wait=True)\n",
        "        state, reward, done, _ = env.step(action)       \n",
        "    env.close()\n",
        "    \n"
      ],
      "execution_count": null,
      "outputs": []
    },
    {
      "cell_type": "markdown",
      "metadata": {
        "id": "PZg9N4XAt0yo"
      },
      "source": [
        "The untrained agent behaves erratically (not quite randomly!) and performs poorly. Lots of room for improvement!"
      ]
    },
    {
      "cell_type": "code",
      "metadata": {
        "id": "pyJhhuIbt0ys"
      },
      "source": [
        "_, ax = plt.subplots(1, 1, figsize=( 6,4 ))\n",
        "simulate(untrained_deep_q_agent, env, ax)"
      ],
      "execution_count": null,
      "outputs": []
    },
    {
      "cell_type": "code",
      "metadata": {
        "id": "WuWRTkLmt0y0"
      },
      "source": [
        "startTime=time.time()\r\n",
        "scores = train(deep_q_agent, env, \"checkpoint.pth\",\r\n",
        "               number_episodes=2000, target_score=200)\r\n",
        "functionTimer(startTime)"
      ],
      "execution_count": null,
      "outputs": []
    },
    {
      "cell_type": "markdown",
      "metadata": {
        "id": "taK1eu2Ot0y3"
      },
      "source": [
        "### Analyzing `DeepQAgent` performance\n",
        "\n",
        "Now that I have trained the agent, let's re-run the simulation to see the difference in performance. You should see that the agent is able to pilot the lunar lander to successful landing inside the landing area (or nearby)."
      ]
    },
    {
      "cell_type": "code",
      "metadata": {
        "id": "ptLPTkIIt0y6"
      },
      "source": [
        "\n",
        "_, ax = plt.subplots(1, 1, figsize=( 6,4 ))\n",
        "simulate(deep_q_agent, env, ax)"
      ],
      "execution_count": null,
      "outputs": []
    },
    {
      "cell_type": "markdown",
      "metadata": {
        "id": "Z6-1mkvkt0y8"
      },
      "source": [
        "#### Plotting the time series of scores\n",
        "\n",
        "I can use [Pandas](https://pandas.pydata.org/) to quickly plot the time series of scores along with a 100 episode moving average. Note that training stops as soon as the rolling average crosses the target score."
      ]
    },
    {
      "cell_type": "code",
      "metadata": {
        "id": "LsCRjT-Ot0y-"
      },
      "source": [
        "import pandas as pd\n",
        "import matplotlib.pyplot as plt\n",
        "%matplotlib inline"
      ],
      "execution_count": null,
      "outputs": []
    },
    {
      "cell_type": "code",
      "metadata": {
        "id": "Gp-tkmiJt0zA"
      },
      "source": [
        "scores = pd.Series(scores, name=\"scores\")"
      ],
      "execution_count": null,
      "outputs": []
    },
    {
      "cell_type": "code",
      "metadata": {
        "id": "t1pWFDY_t0zC"
      },
      "source": [
        "scores.describe()"
      ],
      "execution_count": null,
      "outputs": []
    },
    {
      "cell_type": "code",
      "metadata": {
        "id": "pmSyCRN6t0zF"
      },
      "source": [
        "fig, ax = plt.subplots(1, 1)\n",
        "_ = scores.plot(ax=ax, label=\"Scores\")\n",
        "_ = (scores.rolling(window=100)\n",
        "           .mean()\n",
        "           .rename(\"Rolling Average\")\n",
        "           .plot(ax=ax))\n",
        "ax.axhline(200, color='k', linestyle=\"dashed\", label=\"Target Score\")\n",
        "ax.legend()\n",
        "_ = ax.set_xlabel(\"Episode Number\")\n",
        "_ = ax.set_ylabel(\"Score\")\n"
      ],
      "execution_count": null,
      "outputs": []
    },
    {
      "cell_type": "markdown",
      "metadata": {
        "id": "jcA0CXuJt0zI"
      },
      "source": [
        "#### Kernel density plot of the scores\n",
        "\n",
        "Kernel density plot of scores is bimodal with one mode less than -100 and a second mode greater than 200. The negative mode corresponds to those training episodes where the agent crash landed and thus scored at most -100; the positive mode corresponds to those training episodes where the agent \"solved\" the task. The kernel density or scores typically exhibits negative skewness (i.e., a fat left tail): there are lots of ways in which landing the lander can go horribly wrong (resulting in the agent getting a very low score) and only relatively few paths to a gentle landing (and a high score)."
      ]
    },
    {
      "cell_type": "code",
      "metadata": {
        "id": "DnvBQHbUt0zN"
      },
      "source": [
        "fig, ax = plt.subplots(1,1)\n",
        "_ = scores.plot(kind=\"kde\", ax=ax)\n",
        "_ = ax.set_xlabel(\"Score\")"
      ],
      "execution_count": null,
      "outputs": []
    },
    {
      "cell_type": "markdown",
      "metadata": {
        "id": "7bfOcnv0t0zT"
      },
      "source": [
        "## Where to go from here?\n",
        "\n",
        "I am a bit frustrated by lack of stability that I am seeing in my implmentation of the Deep Q algorithm: sometimes the algorithm converges and sometimes not. Perhaps more tuning of hyper-parameters or use of a different optimization algorithm would exhibit better convergence. I have already spent more time than I had allocated on playing around with this agorithm so I am not going to try and fine-tune the hyperparamters or explore alternative optimization algorithms for now.\n",
        "\n",
        "Rather than spending time tuning hyperparameters I think it would be better use of my time to explore algorithmic improvements. In future posts I plan to cover the following extensions of the DQN algorithm: [Double Q-Learning](https://arxiv.org/abs/1509.06461), [Prioritized Experience Replay](https://arxiv.org/abs/1509.06461), and [Dueling Network Architectures](https://arxiv.org/abs/1511.06581)"
      ]
    }
  ]
}