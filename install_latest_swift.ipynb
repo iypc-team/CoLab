{
  "nbformat": 4,
  "nbformat_minor": 0,
  "metadata": {
    "colab": {
      "name": "install_latest_swift.ipynb",
      "version": "0.3.2",
      "provenance": [],
      "private_outputs": true,
      "collapsed_sections": [],
      "include_colab_link": true
    },
    "kernelspec": {
      "name": "python2",
      "display_name": "Python 2"
    }
  },
  "cells": [
    {
      "cell_type": "markdown",
      "metadata": {
        "id": "view-in-github",
        "colab_type": "text"
      },
      "source": [
        "<a href=\"https://colab.research.google.com/github/iypc-team/CoLab/blob/master/install_latest_swift.ipynb\" target=\"_parent\"><img src=\"https://colab.research.google.com/assets/colab-badge.svg\" alt=\"Open In Colab\"/></a>"
      ]
    },
    {
      "cell_type": "code",
      "metadata": {
        "id": "gulRnqbf5lP2",
        "colab_type": "code",
        "colab": {}
      },
      "source": [
        "!echo \"The currently installed Swift build is:\"\n",
        "!/swift/toolchain/usr/bin/swift --version\n",
        "!echo \"\"\n",
        "!echo \"Installing the latest Swift build...\"\n",
        "!echo \"\"\n",
        "\n",
        "# Delete the current Swift installation\n",
        "!rm -rf /swift\n",
        "\n",
        "# Download and extract the swift toolchain\n",
        "!mkdir -p /swift/toolchain\n",
        "!wget -nv -O- https://storage.googleapis.com/s4tf-kokoro-artifact-testing/latest/swift-tensorflow-DEVELOPMENT-cuda10.0-cudnn7-ubuntu18.04.tar.gz | tar xzf - -C /swift/toolchain\n",
        "\n",
        "# Download and register the swift kernel\n",
        "!wget -nv -O- https://storage.googleapis.com/s4tf-kokoro-artifact-testing/latest/swift-jupyter.tar.gz | tar xzf - -C /swift\n",
        "!python3 /swift/swift-jupyter/register.py --swift-toolchain /swift/toolchain\n",
        "\n",
        "# Need to install libblocksruntime-dev for package installation to work\n",
        "!sudo apt-get install libblocksruntime-dev\n",
        "\n",
        "!echo \"\"\n",
        "!echo \"The newly installed Swift build is:\"\n",
        "!/swift/toolchain/usr/bin/swift --version"
      ],
      "execution_count": 0,
      "outputs": []
    }
  ]
}