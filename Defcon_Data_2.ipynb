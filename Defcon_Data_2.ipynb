{
  "nbformat": 4,
  "nbformat_minor": 5,
  "metadata": {
    "kernelspec": {
      "display_name": "Python 3",
      "language": "python",
      "name": "python3"
    },
    "language_info": {
      "codemirror_mode": {
        "name": "ipython",
        "version": 3
      },
      "file_extension": ".py",
      "mimetype": "text/x-python",
      "name": "python",
      "nbconvert_exporter": "python",
      "pygments_lexer": "ipython3",
      "version": "3.7.10"
    },
    "colab": {
      "name": "Defcon_Data_2.ipynb",
      "private_outputs": true,
      "provenance": [],
      "include_colab_link": true
    }
  },
  "cells": [
    {
      "cell_type": "markdown",
      "metadata": {
        "id": "view-in-github",
        "colab_type": "text"
      },
      "source": [
        "<a href=\"https://colab.research.google.com/github/iypc-team/CoLab/blob/master/Defcon_Data_2.ipynb\" target=\"_parent\"><img src=\"https://colab.research.google.com/assets/colab-badge.svg\" alt=\"Open In Colab\"/></a>"
      ]
    },
    {
      "cell_type": "code",
      "metadata": {
        "id": "ordinary-morning"
      },
      "source": [
        "%%writefile BashColors.py\n",
        "# 09/08/2020\n",
        "\n",
        "class Colors:\n",
        "    def __init__(self):\n",
        "        self.C = Colors\n",
        "\n",
        "    # Reset\n",
        "    ColorOff='\\033[0m'\n",
        "    \n",
        "    # Regular Colors\n",
        "    Black='\\033[0;30m'\n",
        "    Red='\\033[0;31m'\n",
        "    Green='\\033[0;32m'\n",
        "    Yellow='\\033[0;33m'\n",
        "    Blue='\\033[0;34m'\n",
        "    Purple='\\033[0;35m'\n",
        "    Cyan='\\033[0;36m'\n",
        "    White='\\033[0;37m'\n",
        "    \n",
        "    # Bold\n",
        "    BBlack='\\033[1;30m'\n",
        "    BRed='\\033[1;31m'\n",
        "    BGreen='\\033[1;32m'\n",
        "    BYellow='\\033[1;33m'\n",
        "    BBlue='\\033[1;34m'\n",
        "    BPurple='\\033[1;35m'\n",
        "    BCyan='\\033[1;36m'\n",
        "    BWhite='\\033[1;37m'\n",
        "    \n",
        "    # Underline\n",
        "    UBlack='\\033[4;30m'\n",
        "    URed='\\033[4;31m'\n",
        "    UGreen='\\033[4;32m'\n",
        "    UYellow='\\033[4;33m'\n",
        "    UBlue='\\033[4;34m'\n",
        "    UPurple='\\033[4;35m'\n",
        "    UCyan='\\033[4;36m'\n",
        "    UWhite='\\033[4;37m'\n",
        "    \n",
        "    # Background\n",
        "    OnBlack='\\033[40m'\n",
        "    OnRed='\\033[41m'\n",
        "    OnGreen='\\033[42m'\n",
        "    OnYellow='\\033[43m'\n",
        "    OnBlue='\\033[44m'\n",
        "    OnPurple='\\033[45m'\n",
        "    OnCyan='\\033[46m'\n",
        "    OnWhite='\\033[47m'\n",
        "    \n",
        "    # High Intensity\n",
        "    IBlack='\\033[0;90m'\n",
        "    IRed='\\033[0;91m'\n",
        "    IGreen='\\033[0;92m'\n",
        "    IYellow='\\033[0;93m'\n",
        "    IBlue='\\033[0;94m'\n",
        "    IPurple='\\033[0;95m'\n",
        "    ICyan='\\033[0;96m'\n",
        "    IWhite='\\033[0;97m'\n",
        "    \n",
        "    # Bold High Intensity\n",
        "    BIBlack='\\033[1;90m'\n",
        "    BIRed='\\033[1;91m'\n",
        "    BIGreen='\\033[1;92m'\n",
        "    BIYellow='\\033[1;93m'\n",
        "    BIBlue='\\033[1;94m'\n",
        "    BIPurple='\\033[1;95m'\n",
        "    BICyan='\\033[1;96m'\n",
        "    BIWhite='\\033[1;97m'\n",
        "    \n",
        "    # High Intensity backgrounds\n",
        "    OnIBlack='\\033[0;100m'\n",
        "    OnIRed='\\033[0;101m'\n",
        "    OnIGreen='\\033[0;102m'\n",
        "    OnIYellow='\\033[0;103m'\n",
        "    OnIBlue='\\033[0;104m'\n",
        "    OnIPurple='\\033[0;105m'\n",
        "    OnICyan='\\033[0;106m'\n",
        "    OnIWhite='\\033[0;107m'\n",
        "\n",
        "C = Colors()"
      ],
      "id": "ordinary-morning",
      "execution_count": null,
      "outputs": []
    },
    {
      "cell_type": "code",
      "metadata": {
        "id": "chicken-tribute"
      },
      "source": [
        "import glob, os, shutil\n",
        "from os.path import *\n",
        "from BashColors import C\n",
        "try: import tensorflow as tf\n",
        "except ModuleNotFoundError:\n",
        "    %pip install tensorflow\n",
        "    import tensorflow as tf\n",
        "print(f'tensorflow: {C.BIBlue}{tf.__version__}')"
      ],
      "id": "chicken-tribute",
      "execution_count": null,
      "outputs": []
    },
    {
      "cell_type": "code",
      "metadata": {
        "id": "searching-communist"
      },
      "source": [
        "rootDir = os.getcwd()\n",
        "dataDir = join(rootDir, 'data')\n",
        "friendlyDir = join(dataDir, 'Friendly')\n",
        "if exists(dataDir):\n",
        "    print(dataDir)\n",
        "    print(friendlyDir)\n",
        "else:\n",
        "    os.makedirs(dataDir)\n",
        "    os.makedirs(friendlyDir)\n",
        "    "
      ],
      "id": "searching-communist",
      "execution_count": null,
      "outputs": []
    },
    {
      "cell_type": "code",
      "metadata": {
        "id": "moderate-story"
      },
      "source": [
        "os.chdir(rootDir)\n",
        "imageFiles = glob.glob('*.png', recursive=True)\n",
        "counter = 0\n",
        "for imgName in sorted(imageFiles):\n",
        "    counter += 1\n",
        "    newName = 'fighter_00' + str(counter)\n",
        "    newNamePth = join(friendlyDir, newName)\n",
        "    # print(newName)\n",
        "    img_pth=join(rootDir, imgName)\n",
        "    shutil.copy2(src=img_pth, dst=newNamePth)"
      ],
      "id": "moderate-story",
      "execution_count": null,
      "outputs": []
    },
    {
      "cell_type": "code",
      "metadata": {
        "id": "retained-shanghai"
      },
      "source": [
        "print(dataDir)\n",
        "dataset = tf.keras.preprocessing.image_dataset_from_directory(\n",
        "    dataDir,\n",
        "    labels=\"inferred\",\n",
        "    label_mode=\"int\",\n",
        "    class_names=None,\n",
        "    color_mode=\"rgb\",\n",
        "    batch_size=1,\n",
        "    image_size=(256, 256),\n",
        "    shuffle=True,\n",
        "    seed=None,\n",
        "    validation_split=None,\n",
        "    subset=None,\n",
        "    interpolation=\"bilinear\",\n",
        "    follow_links=False,\n",
        ")\n"
      ],
      "id": "retained-shanghai",
      "execution_count": null,
      "outputs": []
    },
    {
      "cell_type": "code",
      "metadata": {
        "id": "cross-garage"
      },
      "source": [
        "import time\n",
        "count = 0\n",
        "while count < 60:\n",
        "    count+=1\n",
        "    print(count)\n",
        "    time.sleep(60)\n",
        "print('done')"
      ],
      "id": "cross-garage",
      "execution_count": null,
      "outputs": []
    },
    {
      "cell_type": "code",
      "metadata": {
        "id": "flexible-twins"
      },
      "source": [
        ""
      ],
      "id": "flexible-twins",
      "execution_count": null,
      "outputs": []
    },
    {
      "cell_type": "code",
      "metadata": {
        "id": "suited-saint"
      },
      "source": [
        ""
      ],
      "id": "suited-saint",
      "execution_count": null,
      "outputs": []
    }
  ]
}