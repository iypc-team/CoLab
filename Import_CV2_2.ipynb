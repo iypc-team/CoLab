{
  "nbformat": 4,
  "nbformat_minor": 5,
  "metadata": {
    "colab": {
      "name": "Import_CV2_2.ipynb",
      "private_outputs": true,
      "provenance": [],
      "collapsed_sections": [],
      "include_colab_link": true
    },
    "kernelspec": {
      "display_name": "Python 3",
      "language": "python",
      "name": "python3"
    },
    "language_info": {
      "codemirror_mode": {
        "name": "ipython",
        "version": 3
      },
      "file_extension": ".py",
      "mimetype": "text/x-python",
      "name": "python",
      "nbconvert_exporter": "python",
      "pygments_lexer": "ipython3",
      "version": "3.7.10"
    }
  },
  "cells": [
    {
      "cell_type": "markdown",
      "metadata": {
        "id": "view-in-github",
        "colab_type": "text"
      },
      "source": [
        "<a href=\"https://colab.research.google.com/github/iypc-team/CoLab/blob/master/Import_CV2_2.ipynb\" target=\"_parent\"><img src=\"https://colab.research.google.com/assets/colab-badge.svg\" alt=\"Open In Colab\"/></a>"
      ]
    },
    {
      "cell_type": "code",
      "metadata": {
        "id": "improving-pioneer"
      },
      "source": [
        "# 07/15/2021-2\n",
        "from __future__ import absolute_import\n",
        "\n",
        "import glob, os, shutil\n",
        "from os.path import *\n",
        "\n",
        "try: \n",
        "    from google.colab import drive\n",
        "    from google.colab.patches import cv2_imshow\n",
        "except Exception as err:\n",
        "    pass\n",
        "\n",
        "try: \n",
        "    from matplotlib import pyplot as plt\n",
        "except Exception as err:\n",
        "    %pip install matplotlib\n",
        "    from matplotlib import pyplot as plt\n",
        "\n",
        "try: \n",
        "    import cv2\n",
        "    from cv2 import COLOR_BGR2RGBA\n",
        "except Exception as err:\n",
        "    print(err)\n",
        "    %pip install opencv-python-headless # works.\n",
        "    # %pip install opencv-contrib-python-headless\n",
        "    import cv2\n",
        "    from cv2 import COLOR_BGR2RGBA\n",
        "\n",
        "import numpy as np\n",
        "\n",
        "if exists('/content/sample_data'):\n",
        "    shutil.rmtree('/content/sample_data')\n",
        "\n",
        "contentPth = os.getcwd()\n",
        "tensorflowImagesPath = join(contentPth, 'TensorflowImages')\n",
        "\n",
        "try:\n",
        "    drive.flush_and_unmount()\n",
        "    drive.mount('/content/gdrive/', force_remount=True)\n",
        "    mydrivePth = '/content/gdrive/MyDrive'\n",
        "    os.chdir(mydrivePth)\n",
        "    gdriveTFImagesPth = join(mydrivePth, 'TensorflowImages')\n",
        "    \n",
        "    os.chdir(mydrivePth)\n",
        "    if not exists(tensorflowImagesPath):\n",
        "        shutil.copytree(gdriveTFImagesPth,tensorflowImagesPath)\n",
        "\n",
        "    from TarfileFunctions import *\n",
        "    from BashColors import C\n",
        "\n",
        "    os.chdir(contentPth)\n",
        "except Exception as err:\n",
        "    print(err)\n",
        "    os.chdir(contentPth)\n",
        "    from TarfileFunctions import *\n",
        "    from BashColors import C\n",
        "\n",
        "rootPth = expanduser(\"~\")\n",
        "tensorflowImagesPath = join(contentPth, 'TensorflowImages')\n",
        "print(tensorflowImagesPath)\n",
        "\n",
        "os.chdir(contentPth)\n",
        "print(f'cv2: {C.IBlue}{cv2.__version__}')\n",
        "print(f'{os.getcwd()}')"
      ],
      "id": "improving-pioneer",
      "execution_count": null,
      "outputs": []
    },
    {
      "cell_type": "code",
      "metadata": {
        "id": "medical-china"
      },
      "source": [
        "imagePathList=[]\n",
        "\n",
        "try: os.chdir(tensorflowImagesPath)\n",
        "except FileNotFoundError:\n",
        "    tff.extractTarfiles('Juno_Original_Images.tar.gz')\n",
        "    os.chdir(tensorflowImagesPath)\n",
        "    \n",
        "globImageList=glob.glob('**', recursive=True)\n",
        "for fil in sorted(globImageList):\n",
        "    if isfile(fil):\n",
        "        fullPath=abspath(fil)\n",
        "        imagePathList.append(fullPath)\n",
        "        print(fullPath)\n",
        "print(len(globImageList), 'images')\n",
        "os.chdir(contentPth)"
      ],
      "id": "medical-china",
      "execution_count": null,
      "outputs": []
    },
    {
      "cell_type": "code",
      "metadata": {
        "id": "RUslJ5nnDw2J"
      },
      "source": [
        "#  Create backgroundImg.png\n",
        "backgroundImg = np.zeros(shape=(56,56,4))\n",
        "# plt.imshow(backgroundImg)\n",
        "# print(backgroundImg)\n",
        "backgroundImgPath = join(tensorflowImagesPath, 'backgroundImage.png')\n",
        "bgImg = cv2.imwrite(backgroundImgPath, backgroundImg)\n",
        "\n",
        "bgImg = cv2.imread(backgroundImgPath, cv2.IMREAD_UNCHANGED)\n",
        "zeroPixel = bgImg[0][0]\n",
        "type(bgImg)"
      ],
      "id": "RUslJ5nnDw2J",
      "execution_count": null,
      "outputs": []
    },
    {
      "cell_type": "code",
      "metadata": {
        "id": "mhlBf8XEr3n-"
      },
      "source": [
        "imagePth = imagePathList[0]\n",
        "img = cv2.imread(imagePth, cv2.IMREAD_UNCHANGED)\n",
        "img = cv2.cvtColor(img, COLOR_BGR2RGBA)\n",
        "print(type(img))\n",
        "print('original image:',img.shape)\n",
        "# plt.imshow(img)\n",
        "print()\n",
        "img = cv2.resize(img, (56,56), cv2.INTER_CUBIC) # INTER_AREA\n",
        "# resized = cv2.resize(img, dim, interpolation = cv2.INTER_AREA)\n",
        "\n",
        "# img[64,64,64] = 0\n",
        "print('resized image:',img.shape)\n",
        "\n",
        "\n",
        "plt.imshow(img)\n",
        "print('bgImg:', bgImg.shape)\n",
        "plt.imshow(bgImg)\n",
        "\n",
        "# zoomImg = cv2.hconcat(backgroundImgPath)\n"
      ],
      "id": "mhlBf8XEr3n-",
      "execution_count": null,
      "outputs": []
    },
    {
      "cell_type": "code",
      "metadata": {
        "id": "mdoGvaqc-HPc"
      },
      "source": [
        "\n",
        "plt.imshow(img)\n",
        "bgPixel = img[1][1]\n",
        "print(bgPixel.shape)\n",
        "count1=0\n",
        "count2=0\n",
        "for i in range(img.shape[0]):\n",
        "    for j in range(img.shape[1]):\n",
        "        thisPixel = img[i][j]\n",
        "\n",
        "        if thisPixel.all() == bgPixel.all():\n",
        "            count1+=1\n",
        "\n",
        "        if thisPixel[0] == 64:\n",
        "            thisPixel[0] = 0\n",
        "\n",
        "        elif thisPixel[1] == 64:\n",
        "            count1+=1\n",
        "            thisPixel[1] = 0\n",
        "\n",
        "        elif thisPixel[2] == 64:\n",
        "            thisPixel[2] = 0\n",
        "\n",
        "        if thisPixel.all() == bgPixel.all():\n",
        "            count2+=1\n",
        "            # print(a[3])\n",
        "        else: pass\n",
        "\n",
        "        #print(img[i][j])\n",
        "        \n",
        "print('count1:', count1)\n",
        "print('count2:', count2)\n",
        "print('img.size:', img.size)\n",
        "print(thisPixel.shape)"
      ],
      "id": "mdoGvaqc-HPc",
      "execution_count": null,
      "outputs": []
    },
    {
      "cell_type": "code",
      "metadata": {
        "id": "8UWxyQ1Wumee"
      },
      "source": [
        "import cv2\n",
        "b,g,r,a = cv2.split(img)\n",
        "t=(b,g,r,a)\n",
        "\n",
        "newImg = cv2.merge([b,g,r,a])\n",
        "plt.imshow(newImg)\n",
        "\n",
        "for px in newImg:\n",
        "    pass\n",
        "\n",
        "newImgPath = join(contentPth, 'newEnemy.png')\n",
        "cv2.imwrite(\n",
        "    filename=newImgPath,\n",
        "    img=newImg\n",
        ")\n",
        "\n",
        "try: \n",
        "    gdriveNewImgPath = join(mydrivePth, 'newEnemy.png')\n",
        "    cv2.imwrite(gdriveNewImgPath, newImg)\n",
        "except: pass\n",
        "\n"
      ],
      "id": "8UWxyQ1Wumee",
      "execution_count": null,
      "outputs": []
    },
    {
      "cell_type": "code",
      "metadata": {
        "id": "distinguished-provider"
      },
      "source": [
        ""
      ],
      "id": "distinguished-provider",
      "execution_count": null,
      "outputs": []
    },
    {
      "cell_type": "code",
      "metadata": {
        "id": "Ts3lyzWZgkXK"
      },
      "source": [
        "\n",
        "\n",
        "imgZeroPixel=img[0][0]\n",
        "bgCount=0\n",
        "pxCount=0\n",
        "print(f'bgPixel: {imgZeroPixel}')\n",
        "plt.imshow(img)"
      ],
      "id": "Ts3lyzWZgkXK",
      "execution_count": null,
      "outputs": []
    }
  ]
}