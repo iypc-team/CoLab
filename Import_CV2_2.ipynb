{
  "nbformat": 4,
  "nbformat_minor": 5,
  "metadata": {
    "colab": {
      "name": "Import_CV2_2.ipynb",
      "private_outputs": true,
      "provenance": [],
      "collapsed_sections": [],
      "include_colab_link": true
    },
    "kernelspec": {
      "display_name": "Python 3",
      "language": "python",
      "name": "python3"
    },
    "language_info": {
      "codemirror_mode": {
        "name": "ipython",
        "version": 3
      },
      "file_extension": ".py",
      "mimetype": "text/x-python",
      "name": "python",
      "nbconvert_exporter": "python",
      "pygments_lexer": "ipython3",
      "version": "3.7.10"
    }
  },
  "cells": [
    {
      "cell_type": "markdown",
      "metadata": {
        "id": "view-in-github",
        "colab_type": "text"
      },
      "source": [
        "<a href=\"https://colab.research.google.com/github/iypc-team/CoLab/blob/master/Import_CV2_2.ipynb\" target=\"_parent\"><img src=\"https://colab.research.google.com/assets/colab-badge.svg\" alt=\"Open In Colab\"/></a>"
      ]
    },
    {
      "cell_type": "code",
      "metadata": {
        "id": "improving-pioneer"
      },
      "source": [
        "# 07/19/2021-3\n",
        "from __future__ import absolute_import\n",
        "from IPython.display import clear_output\n",
        "\n",
        "import glob, os, shutil\n",
        "from os.path import *\n",
        "\n",
        "try: \n",
        "    from google.colab import drive, files\n",
        "    from google.colab.patches import cv2_imshow\n",
        "except Exception as err:\n",
        "    import google\n",
        "    from google.colab.patches import cv2_imshow\n",
        "\n",
        "try: \n",
        "    from matplotlib import pyplot as plt\n",
        "except Exception as err:\n",
        "    %pip install matplotlib\n",
        "    from matplotlib import pyplot as plt\n",
        "\n",
        "try: \n",
        "    import cv2\n",
        "    from cv2 import COLOR_BGR2RGBA\n",
        "except Exception as err:\n",
        "    print(err)\n",
        "    %pip install opencv-python-headless # works.\n",
        "    # %pip install opencv-contrib-python-headless\n",
        "    import cv2\n",
        "    from cv2 import COLOR_BGR2RGBA, IMREAD_UNCHANGED\n",
        "\n",
        "import numpy as np\n",
        "\n",
        "if exists('/content/sample_data'):\n",
        "    shutil.rmtree('/content/sample_data')\n",
        "\n",
        "contentPth = os.getcwd()\n",
        "tensorflowImagesPath = join(contentPth, 'TensorflowImages')\n",
        "resizedImagesPath = join(contentPth, 'TensorflowResizedImages')\n",
        "\n",
        "if exists(tensorflowImagesPath):\n",
        "    pass\n",
        "    # shutil.rmtree(tensorflowImagesPath)\n",
        "\n",
        "try:\n",
        "    drive.flush_and_unmount()\n",
        "    drive.mount('/content/gdrive/', force_remount=True)\n",
        "    mydrivePth = '/content/gdrive/MyDrive'\n",
        "    os.chdir(mydrivePth)\n",
        "    gdriveTFImagesPth = join(mydrivePth, 'TensorflowImages')\n",
        "    gdriveResizedImagesPth = join(mydrivePth, 'TensorflowResizedImages')\n",
        "    \n",
        "    os.chdir(mydrivePth)\n",
        "    from TarfileFunctions import *\n",
        "    from BashColors import C\n",
        "    \n",
        "    if not exists(tensorflowImagesPath):\n",
        "        shutil.copytree(gdriveResizedImagesPth, tensorflowImagesPath)\n",
        "        # tff.listTarfiles()\n",
        "        os.chdir(contentPth)\n",
        "        # tff.extractTarfiles('Juno_Original_Images.tar.gz')\n",
        "\n",
        "    gdrive_resized_images = '/content/gdrive/MyDrive/TensorflowResizedImages'\n",
        "    if not exists(resizedImagesPath): # and not exists(resizedImagesPath):\n",
        "        print('from:', gdrive_resized_images)\n",
        "        print('to:', resizedImagesPath)\n",
        "        try: shutil.copytree(gdrive_resized_images, resizedImagesPath)\n",
        "        except Exception as err:\n",
        "            print(err)\n",
        "\n",
        "    os.chdir(contentPth)\n",
        "\n",
        "except Exception as err:\n",
        "    # print(err)\n",
        "    os.chdir(contentPth)\n",
        "    from TarfileFunctions import *\n",
        "    from BashColors import C\n",
        "    tarfilePath=join(contentPth, 'Juno_Original_Images.tar.gz')\n",
        "    if exists(tarfilePath) and not exists(tensorflowImagesPath):\n",
        "        tff.extractTarfiles('Juno_Original_Images.tar.gz')\n",
        "\n",
        "rootPth = expanduser(\"~\")\n",
        "\n",
        "os.chdir(contentPth)\n",
        "print(f'cv2: {C.IBlue}{cv2.__version__}{C.ColorOff}')\n",
        "print(f'cwd: {C.IBlue}{os.getcwd()}')"
      ],
      "id": "improving-pioneer",
      "execution_count": null,
      "outputs": []
    },
    {
      "cell_type": "code",
      "metadata": {
        "id": "inyueZV-pJHp"
      },
      "source": [
        "os.chdir(contentPth)\n",
        "\n",
        "directoryList=[]\n",
        "fileList=[]\n",
        "dirCount=0\n",
        "fileCount=0\n",
        "globList = glob.glob('**', recursive=True)\n",
        "for fil in sorted(globList):\n",
        "    fullPath = abspath(fil)\n",
        "    if isdir(fullPath):\n",
        "        dirCount+=1\n",
        "        print(f'\\n{C.IBlue}{fullPath}{C.ColorOff}')\n",
        "        directoryList.append(fullPath)\n",
        "    elif isfile(fullPath) and fullPath.endswith('.png'):\n",
        "        fileCount+=1\n",
        "        print(fileCount, fullPath)\n",
        "        fileList.append(fullPath)\n",
        "clear_output()"
      ],
      "id": "inyueZV-pJHp",
      "execution_count": null,
      "outputs": []
    },
    {
      "cell_type": "code",
      "metadata": {
        "id": "RUslJ5nnDw2J"
      },
      "source": [
        "#  Create backgroundImg.png\n",
        "backgroundImg = np.zeros(shape=(224,224,4))\n",
        "backgroundImgSavePath = join('/content/gdrive/MyDrive/TensorflowResizedImages',\n",
        "                             'backgroundImage224.png')\n",
        "bgImg = cv2.imwrite(backgroundImgSavePath, backgroundImg)\n",
        "bgImg = cv2.imread(backgroundImgSavePath, cv2.IMREAD_UNCHANGED)\n",
        "\n",
        "cv2.waitKey(1)\n",
        "cv2.destroyAllWindows()\n",
        "\n",
        "for px in bgImg:\n",
        "    print(px.ndim, px.shape, px.strides)\n",
        "print(basename(backgroundImgSavePath))\n",
        "cv2_imshow(bgImg)\n",
        "cv2.waitKey(2500)\n",
        "bgImgZeroPixel = bgImg[0][0]\n",
        "# print(bgImgZeroPixel, bgImg.shape)\n",
        "clear_output()"
      ],
      "id": "RUslJ5nnDw2J",
      "execution_count": null,
      "outputs": []
    },
    {
      "cell_type": "code",
      "metadata": {
        "id": "M7UeofBOy1b0"
      },
      "source": [
        "os.chdir(resizedImagesPath)\n",
        "imageGlob= glob.glob('**', recursive=True)\n",
        "imageGlobPathList=[]\n",
        "count = 0\n",
        "for path in sorted(imageGlob):\n",
        "    path=abspath(path)\n",
        "    if path.endswith('.png'):\n",
        "        imageGlobPathList.append(path)\n",
        "        count += 1\n",
        "        print(f'{count}. {basename(path)}')\n",
        "        # print(path)\n",
        "        img = cv2.imread(path, cv2.IMREAD_UNCHANGED)\n",
        "\n",
        "        cv2_imshow(img)\n",
        "        cv2.waitKey(2500)\n",
        "        print(img.shape)\n",
        "        cv2.destroyAllWindows()\n",
        "\n",
        "imageGlobPathList=sorted(imageGlobPathList)\n"
      ],
      "id": "M7UeofBOy1b0",
      "execution_count": null,
      "outputs": []
    },
    {
      "cell_type": "code",
      "metadata": {
        "id": "mhlBf8XEr3n-"
      },
      "source": [
        "\n",
        "print(len(imageGlobPathList), 'files')\n",
        "count=0\n",
        "for path in sorted(imageGlobPathList):\n",
        "    count+=1\n",
        "    imagePath = abspath(path)\n",
        "    # print(imagePath)\n",
        "    imageName = basename(imagePath)\n",
        "    \n",
        "    img = cv2.imread(imagePath, cv2.IMREAD_UNCHANGED)\n",
        "    # print(type(img))\n",
        "    # print('original image:',img.shape)\n",
        "    \n",
        "    zoomImg_H = cv2.hconcat([bgImg, img, bgImg])\n",
        "    bgImg_H = cv2.hconcat([bgImg, bgImg, bgImg])\n",
        "    \n",
        "    newImg = cv2.vconcat([bgImg_H, zoomImg_H, bgImg_H])\n",
        "    newImg = cv2.resize(newImg, (224, 224), cv2.INTER_CUBIC)\n",
        "    \n",
        "    imageName = 'zoom_' + imageName\n",
        "    saveImagePath = join(contentPth, imageName)\n",
        "    # print('saveImagePath:', saveImagePath)\n",
        "    \n",
        "    cv2.imwrite(saveImagePath, newImg)\n",
        "    newImg = cv2.imread(saveImagePath, cv2.IMREAD_UNCHANGED)\n",
        "\n",
        "    print(f'\\n{count}. {imageName}')\n",
        "    cv2_imshow(newImg)\n",
        "    cv2.waitKey(1500)\n",
        "    cv2.destroyAllWindows()\n",
        "    print('ndim:', newImg.ndim, 'shape:', newImg.shape, 'size:', newImg.size)"
      ],
      "id": "mhlBf8XEr3n-",
      "execution_count": null,
      "outputs": []
    },
    {
      "cell_type": "code",
      "metadata": {
        "id": "mdoGvaqc-HPc"
      },
      "source": [
        "q\n",
        "cv2_imshow(img)\n",
        "plt.imshow(img)\n",
        "bgPixel = img[1][1]\n",
        "print(bgPixel.shape)\n",
        "count1=0\n",
        "count2=0\n",
        "for i in range(img.shape[0]):\n",
        "    for j in range(img.shape[1]):\n",
        "        thisPixel = img[i][j]\n",
        "\n",
        "        if thisPixel.all() == bgPixel.all():\n",
        "            count1+=1\n",
        "\n",
        "        if thisPixel[0] == 64:\n",
        "            thisPixel[0] = 0\n",
        "\n",
        "        elif thisPixel[1] == 64:\n",
        "            count1+=1\n",
        "            thisPixel[1] = 0\n",
        "\n",
        "        elif thisPixel[2] == 64:\n",
        "            thisPixel[2] = 0\n",
        "\n",
        "        if thisPixel.all() == bgPixel.all():\n",
        "            count2+=1\n",
        "            # print(a[3])\n",
        "        else: pass\n",
        "\n",
        "        #print(img[i][j])\n",
        "        \n",
        "print('count1:', count1)\n",
        "print('count2:', count2)\n",
        "print('img.size:', img.size)\n",
        "print(thisPixel.shape)"
      ],
      "id": "mdoGvaqc-HPc",
      "execution_count": null,
      "outputs": []
    },
    {
      "cell_type": "code",
      "metadata": {
        "id": "8UWxyQ1Wumee"
      },
      "source": [
        "import cv2\n",
        "b,g,r,a = cv2.split(img)\n",
        "t=(b,g,r,a)\n",
        "\n",
        "newImg = cv2.merge([b,g,r,a])\n",
        "plt.imshow(newImg)\n",
        "\n",
        "for px in newImg:\n",
        "    pass\n",
        "\n",
        "newImgPath = join(contentPth, 'newEnemy.png')\n",
        "cv2.imwrite(\n",
        "    filename=newImgPath,\n",
        "    img=newImg\n",
        ")\n",
        "\n",
        "try: \n",
        "    gdriveNewImgPath = join(mydrivePth, 'newEnemy.png')\n",
        "    cv2.imwrite(gdriveNewImgPath, newImg)\n",
        "except: pass\n",
        "\n"
      ],
      "id": "8UWxyQ1Wumee",
      "execution_count": null,
      "outputs": []
    },
    {
      "cell_type": "code",
      "metadata": {
        "id": "distinguished-provider"
      },
      "source": [
        ""
      ],
      "id": "distinguished-provider",
      "execution_count": null,
      "outputs": []
    },
    {
      "cell_type": "code",
      "metadata": {
        "id": "Ts3lyzWZgkXK"
      },
      "source": [
        "\n",
        "\n",
        "imgZeroPixel=img[0][0]\n",
        "bgCount=0\n",
        "pxCount=0\n",
        "print(f'bgPixel: {imgZeroPixel}')\n",
        "plt.imshow(img)"
      ],
      "id": "Ts3lyzWZgkXK",
      "execution_count": null,
      "outputs": []
    }
  ]
}