{
  "nbformat": 4,
  "nbformat_minor": 0,
  "metadata": {
    "accelerator": "TPU",
    "colab": {
      "name": "ImportDriveFiles.ipynb",
      "provenance": [],
      "private_outputs": true,
      "collapsed_sections": [],
      "machine_shape": "hm",
      "include_colab_link": true
    },
    "kernelspec": {
      "display_name": "Python 3",
      "name": "python3"
    }
  },
  "cells": [
    {
      "cell_type": "markdown",
      "metadata": {
        "id": "view-in-github",
        "colab_type": "text"
      },
      "source": [
        "<a href=\"https://colab.research.google.com/github/iypc-team/CoLab/blob/master/ImportDriveFiles.ipynb\" target=\"_parent\"><img src=\"https://colab.research.google.com/assets/colab-badge.svg\" alt=\"Open In Colab\"/></a>"
      ]
    },
    {
      "cell_type": "code",
      "metadata": {
        "id": "W653uRDOVjVQ"
      },
      "source": [
        "import os, pathlib\n",
        "from google.colab import drive\n",
        "drive.mount('/content/drive', force_remount=True)\n",
        "os.chdir('/content/drive/My Drive/PythonFiles')\n",
        "print(f'cwd: {pathlib.Path.cwd()}')\n",
        "import ImportDriveFiles\n",
        "from ImportDriveFiles import idf"
      ],
      "execution_count": null,
      "outputs": []
    },
    {
      "cell_type": "code",
      "metadata": {
        "id": "oKZqCw-cUZao"
      },
      "source": [
        "%%writefile ImportDriveFiles.py\n",
        "# 11/10/2020\n",
        "import glob, os, shutil\n",
        "from pathlib import Path\n",
        "from os.path import abspath\n",
        "from google.colab import drive\n",
        "\n",
        "class ImportDriveFiles:\n",
        "    '''Import files to Colab Google Drive'''\n",
        "    def __init__(self):\n",
        "        # self.idf=None\n",
        "        self.contentPath='/content'\n",
        "        self.drivePath='/content/drive'\n",
        "        self.myDrivePath='/content/drive/My Drive'\n",
        "        self.pythonFilesPath='/content/drive/My Drive/PythonFiles'\n",
        "        self.importFileList=None\n",
        "        if os.path.exists(self.pythonFilesPath):\n",
        "            os.chdir(self.pythonFilesPath)\n",
        "            self.importFileList=glob.glob('*.py')\n",
        "            self.importFiles()\n",
        "            os.chdir(self.contentPath)\n",
        "        else:\n",
        "            print('path not exist\\nMounting google drive')\n",
        "            drive.mount(self.drivePath, force_remount=True)\n",
        "            os.chdir(self.pythonFilesPath)\n",
        "            self.importFileList=glob.glob('*.py')\n",
        "            self.importFiles()\n",
        "            os.chdir(self.contentPath)\n",
        "\n",
        "    def importFiles(self):\n",
        "        for fil in sorted(self.importFileList):\n",
        "            sourcePath=abspath(fil)\n",
        "            destinationPath=os.path.join(self.contentPath, fil)\n",
        "            shutil.copy(sourcePath, destinationPath)\n",
        "\n",
        "idf=ImportDriveFiles()"
      ],
      "execution_count": null,
      "outputs": []
    },
    {
      "cell_type": "code",
      "metadata": {
        "id": "ByNsp4VqqEfa"
      },
      "source": [
        "import GetTPU\n",
        "from GetTPU import gt\n",
        "from BashColors import C\n",
        "import FunctionTimer as ft\n",
        "from FunctionTimer import *\n",
        "from pathlib import Path\n",
        "import tensorflow as tf\n",
        "import numpy as np\n",
        "\n",
        "os.chdir(idf.drivePath)\n",
        "print(Path.cwd())\n",
        "startTime=ft.getTimeStamp()\n",
        "gt.startTPU(clearOutput=True)\n",
        "endTime=ft.getTimeStamp()\n",
        "ft.tpuTiming(startTime, end=endTime)\n",
        "tpuStrategy=gt.tpu_strategy\n",
        "print(f'{C.Green}tpu started\\n{C.Red}')"
      ],
      "execution_count": null,
      "outputs": []
    },
    {
      "cell_type": "code",
      "metadata": {
        "id": "-MevVJtSXxbO"
      },
      "source": [
        "with tpuStrategy.scope():\n",
        "    gt.stopTPU()"
      ],
      "execution_count": null,
      "outputs": []
    }
  ]
}