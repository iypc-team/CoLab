{
  "nbformat": 4,
  "nbformat_minor": 0,
  "metadata": {
    "kernelspec": {
      "display_name": "Python 3",
      "language": "python",
      "name": "python3"
    },
    "language_info": {
      "codemirror_mode": {
        "name": "ipython",
        "version": 3
      },
      "file_extension": ".py",
      "mimetype": "text/x-python",
      "name": "python",
      "nbconvert_exporter": "python",
      "pygments_lexer": "ipython3",
      "version": "3.7.8"
    },
    "colab": {
      "name": "Bash_Colors.ipynb",
      "provenance": [],
      "collapsed_sections": [],
      "include_colab_link": true
    }
  },
  "cells": [
    {
      "cell_type": "markdown",
      "metadata": {
        "id": "view-in-github",
        "colab_type": "text"
      },
      "source": [
        "<a href=\"https://colab.research.google.com/github/iypc-team/CoLab/blob/master/Bash_Colors.ipynb\" target=\"_parent\"><img src=\"https://colab.research.google.com/assets/colab-badge.svg\" alt=\"Open In Colab\"/></a>"
      ]
    },
    {
      "cell_type": "code",
      "metadata": {
        "id": "OTPNhKMjnM9l",
        "colab_type": "code",
        "colab": {}
      },
      "source": [
        "from __future__ import absolute_import\n",
        "from google.colab import drive, files\n",
        "import os\n",
        "\n",
        "drive.mount(\"/gdrive/\", force_remount=True, timeout_ms=600000)\n",
        "os.chdir(\"/gdrive/My Drive\")\n",
        "%pwd"
      ],
      "execution_count": null,
      "outputs": []
    },
    {
      "cell_type": "code",
      "metadata": {
        "id": "0zq4__qrUkhM",
        "colab_type": "code",
        "colab": {}
      },
      "source": [
        "%%writefile BashColors.py\n",
        "# 09/08/2020\n",
        "\n",
        "class Colors:\n",
        "    def __init__(self):\n",
        "        self.C = Colors\n",
        "\n",
        "    # Reset\n",
        "    ColorOff='\\033[0m'\n",
        "    \n",
        "    # Regular Colors\n",
        "    Black='\\033[0;30m'\n",
        "    Red='\\033[0;31m'\n",
        "    Green='\\033[0;32m'\n",
        "    Yellow='\\033[0;33m'\n",
        "    Blue='\\033[0;34m'\n",
        "    Purple='\\033[0;35m'\n",
        "    Cyan='\\033[0;36m'\n",
        "    White='\\033[0;37m'\n",
        "    \n",
        "    # Bold\n",
        "    BBlack='\\033[1;30m'\n",
        "    BRed='\\033[1;31m'\n",
        "    BGreen='\\033[1;32m'\n",
        "    BYellow='\\033[1;33m'\n",
        "    BBlue='\\033[1;34m'\n",
        "    BPurple='\\033[1;35m'\n",
        "    BCyan='\\033[1;36m'\n",
        "    BWhite='\\033[1;37m'\n",
        "    \n",
        "    # Underline\n",
        "    UBlack='\\033[4;30m'\n",
        "    URed='\\033[4;31m'\n",
        "    UGreen='\\033[4;32m'\n",
        "    UYellow='\\033[4;33m'\n",
        "    UBlue='\\033[4;34m'\n",
        "    UPurple='\\033[4;35m'\n",
        "    UCyan='\\033[4;36m'\n",
        "    UWhite='\\033[4;37m'\n",
        "    \n",
        "    # Background\n",
        "    OnBlack='\\033[40m'\n",
        "    OnRed='\\033[41m'\n",
        "    OnGreen='\\033[42m'\n",
        "    OnYellow='\\033[43m'\n",
        "    OnBlue='\\033[44m'\n",
        "    OnPurple='\\033[45m'\n",
        "    OnCyan='\\033[46m'\n",
        "    OnWhite='\\033[47m'\n",
        "    \n",
        "    # High Intensity\n",
        "    IBlack='\\033[0;90m'\n",
        "    IRed='\\033[0;91m'\n",
        "    IGreen='\\033[0;92m'\n",
        "    IYellow='\\033[0;93m'\n",
        "    IBlue='\\033[0;94m'\n",
        "    IPurple='\\033[0;95m'\n",
        "    ICyan='\\033[0;96m'\n",
        "    IWhite='\\033[0;97m'\n",
        "    \n",
        "    # Bold High Intensity\n",
        "    BIBlack='\\033[1;90m'\n",
        "    BIRed='\\033[1;91m'\n",
        "    BIGreen='\\033[1;92m'\n",
        "    BIYellow='\\033[1;93m'\n",
        "    BIBlue='\\033[1;94m'\n",
        "    BIPurple='\\033[1;95m'\n",
        "    BICyan='\\033[1;96m'\n",
        "    BIWhite='\\033[1;97m'\n",
        "    \n",
        "    # High Intensity backgrounds\n",
        "    OnIBlack='\\033[0;100m'\n",
        "    OnIRed='\\033[0;101m'\n",
        "    OnIGreen='\\033[0;102m'\n",
        "    OnIYellow='\\033[0;103m'\n",
        "    OnIBlue='\\033[0;104m'\n",
        "    OnIPurple='\\033[0;105m'\n",
        "    OnICyan='\\033[0;106m'\n",
        "    OnIWhite='\\033[0;107m'\n",
        "\n",
        "C = Colors()"
      ],
      "execution_count": null,
      "outputs": []
    },
    {
      "cell_type": "code",
      "metadata": {
        "id": "HSwvjFxiQdoD",
        "colab_type": "code",
        "colab": {}
      },
      "source": [
        "from BashColors import C\n",
        "pth = '/gdrive/My Drive/BashColors.py'\n",
        "if os.path.exists(pth):\n",
        "    print(os.path.basename(pth))\n",
        "    print(f'{C.IGreen}{pth}{C.IWhite}')\n",
        "    "
      ],
      "execution_count": null,
      "outputs": []
    },
    {
      "cell_type": "code",
      "metadata": {
        "id": "z3awaDJjZiMF",
        "colab_type": "code",
        "colab": {}
      },
      "source": [
        "with open(pth, 'r') as openFile:\n",
        "    print(openFile.read())"
      ],
      "execution_count": null,
      "outputs": []
    }
  ]
}