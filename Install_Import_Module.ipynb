{
  "nbformat": 4,
  "nbformat_minor": 0,
  "metadata": {
    "colab": {
      "name": "Install_Import_Module.ipynb",
      "provenance": [],
      "collapsed_sections": [],
      "authorship_tag": "ABX9TyMDBcR/z6K7Gziqfb0OCz/J",
      "include_colab_link": true
    },
    "kernelspec": {
      "name": "python3",
      "display_name": "Python 3"
    }
  },
  "cells": [
    {
      "cell_type": "markdown",
      "metadata": {
        "id": "view-in-github",
        "colab_type": "text"
      },
      "source": [
        "<a href=\"https://colab.research.google.com/github/iypc-team/CoLab/blob/master/Install_Import_Module.ipynb\" target=\"_parent\"><img src=\"https://colab.research.google.com/assets/colab-badge.svg\" alt=\"Open In Colab\"/></a>"
      ]
    },
    {
      "cell_type": "code",
      "metadata": {
        "id": "eZukD6Ivz1W4",
        "colab_type": "code",
        "colab": {}
      },
      "source": [
        "import sys\n",
        "# from google.colab import drive\n",
        "# drive.mount('/gdrive', force_remount=True)\n",
        "# os.chdir('/gdrive/My Drive')\n",
        "# from FileUtilities import *\n",
        "# %pip list\n",
        "# help('modules')\n",
        "\n",
        "systemModuleDict = {}\n",
        "modules = sys.modules.items()\n",
        "print(len(modules), modules.__class__)\n",
        "counter = 0\n",
        "# for mod in sorted(modules):\n",
        "    # systemModuleDict[counter] = mod"
      ],
      "execution_count": null,
      "outputs": []
    },
    {
      "cell_type": "code",
      "metadata": {
        "id": "7jkKWRM3IuYZ",
        "colab_type": "code",
        "colab": {}
      },
      "source": [
        "for item in systemModuleDict.items(): \n",
        "    print(systemModuleDict[item])"
      ],
      "execution_count": null,
      "outputs": []
    }
  ]
}