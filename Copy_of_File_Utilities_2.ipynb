{
  "nbformat": 4,
  "nbformat_minor": 0,
  "metadata": {
    "colab": {
      "name": "Copy of File_Utilities_2.ipynb",
      "provenance": [],
      "collapsed_sections": [],
      "include_colab_link": true
    },
    "kernelspec": {
      "display_name": "Python 3",
      "language": "python",
      "name": "python3"
    },
    "language_info": {
      "codemirror_mode": {
        "name": "ipython",
        "version": 3
      },
      "file_extension": ".py",
      "mimetype": "text/x-python",
      "name": "python",
      "nbconvert_exporter": "python",
      "pygments_lexer": "ipython3",
      "version": "3.7.6"
    }
  },
  "cells": [
    {
      "cell_type": "markdown",
      "metadata": {
        "id": "view-in-github",
        "colab_type": "text"
      },
      "source": [
        "<a href=\"https://colab.research.google.com/github/iypc-team/CoLab/blob/master/Copy_of_File_Utilities_2.ipynb\" target=\"_parent\"><img src=\"https://colab.research.google.com/assets/colab-badge.svg\" alt=\"Open In Colab\"/></a>"
      ]
    },
    {
      "cell_type": "code",
      "metadata": {
        "cellView": "both",
        "colab_type": "code",
        "id": "zQNbWtCEs1eT",
        "colab": {
          "base_uri": "https://localhost:8080/",
          "height": 307
        },
        "outputId": "ab0234cb-952f-46d7-fe6b-cd6d4760dd1a"
      },
      "source": [
        "# %%writefile FileUtilities.py\n",
        "import glob, os, pathlib, sys\n",
        "from os.path import *\n",
        "from pathlib import Path\n",
        "\n",
        "class ColorOutput:\n",
        "    LITE = '\\033[96m'; HEADER = '\\033[95m'; BLUE = '\\033[94m';\n",
        "    WARNING = '\\033[93m'; GREEN = '\\033[92m'; RED = '\\033[91m'; \n",
        "    DARK = '\\033[90m'; UNDERLINE = '\\033[4m';BOLD = '\\033[1m'; \n",
        "    WHITE = '\\033[0m'\n",
        "global C\n",
        "C = ColorOutput()\n",
        "\n",
        "class AllFileUtilities(ColorOutput):\n",
        "    def __init__(self):\n",
        "        self.C = ColorOutput\n",
        "        self.homePath = Path.home()\n",
        "        self.cwdPath = Path.cwd()\n",
        "        self.allFiles = glob.glob('**', recursive=True)\n",
        "        self.allFilesDict = {}\n",
        "\n",
        "    def listAllFiles(self):\n",
        "        tempDict = self.allFilesDict\n",
        "        fileCount = 0\n",
        "        print(f'{C.BLUE}{self.cwdPath}')\n",
        "        for fil in self.allFiles:\n",
        "            fullPath = Path(realpath(fil)) # POSIX path\n",
        "            realPath = realpath(fullPath) # String path\n",
        "            if isdir(fullPath) and not realPath.__contains__('__pycache__'):  \n",
        "                print(f'\\n{C.BLUE}{fullPath}')\n",
        "            elif isfile(fullPath) and not realPath.__contains__('__pycache__'): \n",
        "                fileCount += 1\n",
        "                tempDict[fileCount] = fullPath\n",
        "                print(f'{C.WHITE}{fileCount}. {fullPath.name}') \n",
        "\n",
        "    def inspectFile(self, selection):\n",
        "        if selection <= len(self.allFilesDict):  \n",
        "            try:\n",
        "                pth = self.allFilesDict[selection]  \n",
        "                with open(pth, 'r') as openFile:  \n",
        "                    print(f'# %%writefile {pth.name}\\n')  \n",
        "                    print(openFile.read())\n",
        "\n",
        "            except:\n",
        "                print(f'{C.RED}BULLSHIT')\n",
        "\n",
        "afu = AllFileUtilities()\n",
        "afu.listAllFiles()"
      ],
      "execution_count": 20,
      "outputs": [
        {
          "output_type": "stream",
          "text": [
            "\u001b[94m/content\n",
            "\u001b[0m1. FileUtilities.py\n",
            "\n",
            "\u001b[94m/content/sample_data\n",
            "\u001b[0m2. README.md\n",
            "\u001b[0m3. anscombe.json\n",
            "\u001b[0m4. mnist_train_small.csv\n",
            "\u001b[0m5. mnist_test.csv\n",
            "\u001b[0m6. california_housing_train.csv\n",
            "\u001b[0m7. california_housing_test.csv\n"
          ],
          "name": "stdout"
        }
      ]
    },
    {
      "cell_type": "code",
      "metadata": {
        "id": "s0fcXlx0kPZ_",
        "colab_type": "code",
        "colab": {
          "base_uri": "https://localhost:8080/",
          "height": 939
        },
        "outputId": "7ea721c3-e02f-45a3-eff7-f2e7ed06811e"
      },
      "source": [
        "afu.inspectFile(selection= 1 )"
      ],
      "execution_count": 21,
      "outputs": [
        {
          "output_type": "stream",
          "text": [
            "# %%writefile FileUtilities.py\n",
            "\n",
            "import glob, os, pathlib, sys\n",
            "from os.path import *\n",
            "from pathlib import Path\n",
            "\n",
            "class ColorOutput:\n",
            "    LITE = '\\033[96m'; HEADER = '\\033[95m'; BLUE = '\\033[94m';\n",
            "    WARNING = '\\033[93m'; GREEN = '\\033[92m'; RED = '\\033[91m'; \n",
            "    DARK = '\\033[90m'; UNDERLINE = '\\033[4m';BOLD = '\\033[1m'; \n",
            "    WHITE = '\\033[0m'\n",
            "global C\n",
            "C = ColorOutput()\n",
            "\n",
            "class AllFileUtilities(ColorOutput):\n",
            "    def __init__(self):\n",
            "        self.C = ColorOutput\n",
            "        self.homePath = Path.home()\n",
            "        self.cwdPath = Path.cwd()\n",
            "        self.allFiles = glob.glob('**', recursive=True)\n",
            "        self.allFilesDict = {}\n",
            "\n",
            "    def listAllFiles(self):\n",
            "        tempDict = self.allFilesDict\n",
            "        fileCount = 0\n",
            "        print(f'{C.BLUE}{self.cwdPath}')\n",
            "        for fil in self.allFiles:\n",
            "            fullPath = Path(realpath(fil)) # POSIX path\n",
            "            realPath = realpath(fullPath) # String path\n",
            "            if isdir(fullPath) and not realPath.__contains__('__pycache__'):  \n",
            "                print(f'\\n{C.BLUE}{fullPath}')\n",
            "            elif isfile(fullPath) and not realPath.__contains__('__pycache__'): \n",
            "                fileCount += 1\n",
            "                tempDict[fileCount] = fullPath\n",
            "                print(f'{C.WHITE}{fileCount}. {fullPath.name}') \n",
            "\n",
            "    def inspectFile(self, selection):\n",
            "        if selection <= len(self.allFilesDict):  \n",
            "            try:\n",
            "                pth = self.allFilesDict[selection]  \n",
            "                with open(pth, 'r') as openFile:  \n",
            "                    print(f'# %%writefile {pth.name}\\n')  \n",
            "                    print(openFile.read())\n",
            "\n",
            "            except:\n",
            "                print(f'{C.RED}BULLSHIT')\n",
            "\n",
            "afu = AllFileUtilities()\n",
            "afu.listAllFiles()\n"
          ],
          "name": "stdout"
        }
      ]
    },
    {
      "cell_type": "code",
      "metadata": {
        "id": "MYs-Xa4pcnKS",
        "colab_type": "code",
        "colab": {
          "base_uri": "https://localhost:8080/",
          "height": 646
        },
        "outputId": "a0335414-4d3a-4fab-e600-a69808872f1d"
      },
      "source": [
        "for item in afu.allFilesDict:\n",
        "    fullPath = afu.allFilesDict[item]\n",
        "    print(f'{C.BLUE}{fullPath.name}\\n{fullPath}\\n')"
      ],
      "execution_count": 2,
      "outputs": [
        {
          "output_type": "stream",
          "text": [
            "\u001b[94mFileUtilities.py\n",
            "/content/FileUtilities.py\n",
            "\n",
            "\u001b[94mREADME.md\n",
            "/content/sample_data/README.md\n",
            "\n",
            "\u001b[94manscombe.json\n",
            "/content/sample_data/anscombe.json\n",
            "\n",
            "\u001b[94mmnist_train_small.csv\n",
            "/content/sample_data/mnist_train_small.csv\n",
            "\n",
            "\u001b[94mmnist_test.csv\n",
            "/content/sample_data/mnist_test.csv\n",
            "\n",
            "\u001b[94mcalifornia_housing_train.csv\n",
            "/content/sample_data/california_housing_train.csv\n",
            "\n",
            "\u001b[94mcalifornia_housing_test.csv\n",
            "/content/sample_data/california_housing_test.csv\n",
            "\n"
          ],
          "name": "stdout"
        }
      ]
    }
  ]
}