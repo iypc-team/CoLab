{
  "nbformat": 4,
  "nbformat_minor": 0,
  "metadata": {
    "colab": {
      "name": "cartpole.ipynb",
      "provenance": [],
      "collapsed_sections": [],
      "include_colab_link": true
    },
    "kernelspec": {
      "display_name": "Python 3",
      "name": "python3"
    }
  },
  "cells": [
    {
      "cell_type": "markdown",
      "metadata": {
        "id": "view-in-github",
        "colab_type": "text"
      },
      "source": [
        "<a href=\"https://colab.research.google.com/github/iypc-team/CoLab/blob/master/cartpole.ipynb\" target=\"_parent\"><img src=\"https://colab.research.google.com/assets/colab-badge.svg\" alt=\"Open In Colab\"/></a>"
      ]
    },
    {
      "cell_type": "markdown",
      "metadata": {
        "id": "VYNA79KmgvbY",
        "colab_type": "text"
      },
      "source": [
        "Copyright 2019 The Dopamine Authors.\n",
        "\n",
        "Licensed under the Apache License, Version 2.0 (the \"License\"); you may not use this file except in compliance with the License. You may obtain a copy of the License at\n",
        "\n",
        "https://www.apache.org/licenses/LICENSE-2.0\n",
        "\n",
        "Unless required by applicable law or agreed to in writing, software distributed under the License is distributed on an \"AS IS\" BASIS, WITHOUT WARRANTIES OR CONDITIONS OF ANY KIND, either express or implied. See the License for the specific language governing permissions and limitations under the License."
      ]
    },
    {
      "cell_type": "markdown",
      "metadata": {
        "id": "emUEZEvldNyX",
        "colab_type": "text"
      },
      "source": [
        "# Dopamine: How to train an agent on Cartpole\n",
        "\n",
        "This colab demonstrates how to train the DQN and C51 on Cartpole, based on the default configurations provided.\n",
        "\n",
        "The hyperparameters chosen are by no mean optimal. The purpose of this colab is to illustrate how to train two\n",
        "agents on a non-Atari gym environment: cartpole.\n",
        "\n",
        "We also include default configurations for Acrobot in our repository: https://github.com/google/dopamine\n",
        "\n",
        "Run all the cells below in order."
      ]
    },
    {
      "cell_type": "code",
      "metadata": {
        "id": "Ckq6WG-seC7F",
        "colab_type": "code",
        "cellView": "form",
        "outputId": "d58b2b80-d5f7-4857-c75c-a49ec6b66fc5",
        "colab": {
          "base_uri": "https://localhost:8080/",
          "height": 655
        }
      },
      "source": [
        "# @title Install necessary packages.\n",
        "!pip install --upgrade --no-cache-dir dopamine-rl\n",
        "!pip install gin-config"
      ],
      "execution_count": 0,
      "outputs": [
        {
          "output_type": "stream",
          "text": [
            "Collecting dopamine-rl\n",
            "\u001b[?25l  Downloading https://files.pythonhosted.org/packages/f1/a8/7cf1fe1b5b11a7165c8901bc50091e3fa68f97f48fb4035f31cf6fc675f2/dopamine_rl-3.0.1-py3-none-any.whl (84kB)\n",
            "\r\u001b[K     |███▉                            | 10kB 15.1MB/s eta 0:00:01\r\u001b[K     |███████▊                        | 20kB 3.3MB/s eta 0:00:01\r\u001b[K     |███████████▋                    | 30kB 4.7MB/s eta 0:00:01\r\u001b[K     |███████████████▍                | 40kB 3.1MB/s eta 0:00:01\r\u001b[K     |███████████████████▎            | 51kB 3.8MB/s eta 0:00:01\r\u001b[K     |███████████████████████▏        | 61kB 4.5MB/s eta 0:00:01\r\u001b[K     |███████████████████████████     | 71kB 5.2MB/s eta 0:00:01\r\u001b[K     |██████████████████████████████▉ | 81kB 5.8MB/s eta 0:00:01\r\u001b[K     |████████████████████████████████| 92kB 6.5MB/s \n",
            "\u001b[?25hRequirement already satisfied, skipping upgrade: Pillow>=5.4.1 in /usr/local/lib/python3.6/dist-packages (from dopamine-rl) (6.2.2)\n",
            "Requirement already satisfied, skipping upgrade: opencv-python>=3.4.1.15 in /usr/local/lib/python3.6/dist-packages (from dopamine-rl) (4.1.2.30)\n",
            "Requirement already satisfied, skipping upgrade: gym>=0.10.5 in /usr/local/lib/python3.6/dist-packages (from dopamine-rl) (0.15.4)\n",
            "Requirement already satisfied, skipping upgrade: absl-py>=0.2.2 in /usr/local/lib/python3.6/dist-packages (from dopamine-rl) (0.9.0)\n",
            "Requirement already satisfied, skipping upgrade: gin-config>=0.1.1 in /usr/local/lib/python3.6/dist-packages (from dopamine-rl) (0.3.0)\n",
            "Requirement already satisfied, skipping upgrade: numpy>=1.11.3 in /usr/local/lib/python3.6/dist-packages (from opencv-python>=3.4.1.15->dopamine-rl) (1.17.5)\n",
            "Requirement already satisfied, skipping upgrade: scipy in /usr/local/lib/python3.6/dist-packages (from gym>=0.10.5->dopamine-rl) (1.4.1)\n",
            "Requirement already satisfied, skipping upgrade: pyglet<=1.3.2,>=1.2.0 in /usr/local/lib/python3.6/dist-packages (from gym>=0.10.5->dopamine-rl) (1.3.2)\n",
            "Requirement already satisfied, skipping upgrade: six in /usr/local/lib/python3.6/dist-packages (from gym>=0.10.5->dopamine-rl) (1.12.0)\n",
            "Requirement already satisfied, skipping upgrade: cloudpickle~=1.2.0 in /usr/local/lib/python3.6/dist-packages (from gym>=0.10.5->dopamine-rl) (1.2.2)\n",
            "Requirement already satisfied, skipping upgrade: future in /usr/local/lib/python3.6/dist-packages (from pyglet<=1.3.2,>=1.2.0->gym>=0.10.5->dopamine-rl) (0.16.0)\n",
            "Installing collected packages: dopamine-rl\n",
            "  Found existing installation: dopamine-rl 1.0.5\n",
            "    Uninstalling dopamine-rl-1.0.5:\n",
            "      Successfully uninstalled dopamine-rl-1.0.5\n",
            "Successfully installed dopamine-rl-3.0.1\n",
            "Requirement already satisfied: gin-config in /usr/local/lib/python3.6/dist-packages (0.3.0)\n",
            "Requirement already satisfied: six>=1.10.0 in /usr/local/lib/python3.6/dist-packages (from gin-config) (1.12.0)\n"
          ],
          "name": "stdout"
        }
      ]
    },
    {
      "cell_type": "code",
      "metadata": {
        "id": "WzwZoRKxdFov",
        "colab_type": "code",
        "cellView": "form",
        "outputId": "a99410d8-4c43-4bd1-d2a2-022cdfac22e7",
        "colab": {
          "base_uri": "https://localhost:8080/",
          "height": 164
        }
      },
      "source": [
        "# @title Necessary imports and globals.\n",
        "\n",
        "import numpy as np\n",
        "import os\n",
        "from dopamine.discrete_domains import run_experiment\n",
        "from dopamine.colab import utils as colab_utils\n",
        "from absl import flags\n",
        "import gin.tf\n",
        "\n",
        "BASE_PATH = '/tmp/colab_dopamine_run'  # @param"
      ],
      "execution_count": 0,
      "outputs": [
        {
          "output_type": "display_data",
          "data": {
            "text/html": [
              "<p style=\"color: red;\">\n",
              "The default version of TensorFlow in Colab will soon switch to TensorFlow 2.x.<br>\n",
              "We recommend you <a href=\"https://www.tensorflow.org/guide/migrate\" target=\"_blank\">upgrade</a> now \n",
              "or ensure your notebook will continue to use TensorFlow 1.x via the <code>%tensorflow_version 1.x</code> magic:\n",
              "<a href=\"https://colab.research.google.com/notebooks/tensorflow_version.ipynb\" target=\"_blank\">more info</a>.</p>\n"
            ],
            "text/plain": [
              "<IPython.core.display.HTML object>"
            ]
          },
          "metadata": {
            "tags": []
          }
        }
      ]
    },
    {
      "cell_type": "markdown",
      "metadata": {
        "id": "bidurBV0djGi",
        "colab_type": "text"
      },
      "source": [
        "## Train DQN"
      ]
    },
    {
      "cell_type": "code",
      "metadata": {
        "id": "PUBRSmX6dfa3",
        "colab_type": "code",
        "colab": {}
      },
      "source": [
        "# @title Load the configuration for DQN.\n",
        "\n",
        "DQN_PATH = os.path.join(BASE_PATH, 'dqn')\n",
        "# Modified from dopamine/agents/dqn/config/dqn_cartpole.gin\n",
        "dqn_config = \"\"\"\n",
        "# Hyperparameters for a simple DQN-style Cartpole agent. The hyperparameters\n",
        "# chosen achieve reasonable performance.\n",
        "import dopamine.discrete_domains.gym_lib\n",
        "import dopamine.discrete_domains.run_experiment\n",
        "import dopamine.agents.dqn.dqn_agent\n",
        "import dopamine.replay_memory.circular_replay_buffer\n",
        "import gin.tf.external_configurables\n",
        "\n",
        "DQNAgent.observation_shape = %gym_lib.CARTPOLE_OBSERVATION_SHAPE\n",
        "DQNAgent.observation_dtype = %gym_lib.CARTPOLE_OBSERVATION_DTYPE\n",
        "DQNAgent.stack_size = %gym_lib.CARTPOLE_STACK_SIZE\n",
        "DQNAgent.network = @gym_lib.CartpoleDQNNetwork\n",
        "DQNAgent.gamma = 0.99\n",
        "DQNAgent.update_horizon = 1\n",
        "DQNAgent.min_replay_history = 500\n",
        "DQNAgent.update_period = 4\n",
        "DQNAgent.target_update_period = 100\n",
        "DQNAgent.epsilon_fn = @dqn_agent.identity_epsilon\n",
        "DQNAgent.tf_device = '/gpu:0'  # use '/cpu:*' for non-GPU version\n",
        "DQNAgent.optimizer = @tf.train.AdamOptimizer()\n",
        "\n",
        "tf.train.AdamOptimizer.learning_rate = 0.001\n",
        "tf.train.AdamOptimizer.epsilon = 0.0003125\n",
        "\n",
        "create_gym_environment.environment_name = 'CartPole'\n",
        "create_gym_environment.version = 'v0'\n",
        "create_agent.agent_name = 'dqn'\n",
        "TrainRunner.create_environment_fn = @gym_lib.create_gym_environment\n",
        "Runner.num_iterations = 50\n",
        "Runner.training_steps = 1000\n",
        "Runner.evaluation_steps = 1000\n",
        "Runner.max_steps_per_episode = 200  # Default max episode length.\n",
        "\n",
        "WrappedReplayBuffer.replay_capacity = 50000\n",
        "WrappedReplayBuffer.batch_size = 128\n",
        "\"\"\"\n",
        "gin.parse_config(dqn_config, skip_unknown=False)"
      ],
      "execution_count": 0,
      "outputs": []
    },
    {
      "cell_type": "code",
      "metadata": {
        "id": "WuWFGwGHfkFp",
        "colab_type": "code",
        "outputId": "517c7164-7cc0-40a3-d542-00e0ddd48506",
        "colab": {
          "base_uri": "https://localhost:8080/",
          "height": 1000
        }
      },
      "source": [
        "# @title Train DQN on Cartpole\n",
        "dqn_runner = run_experiment.create_runner(DQN_PATH, schedule='continuous_train')\n",
        "print('Will train DQN agent, please be patient, may be a while...')\n",
        "dqn_runner.run_experiment()\n",
        "print('Done training!')"
      ],
      "execution_count": 0,
      "outputs": [
        {
          "output_type": "stream",
          "text": [
            "INFO:tensorflow:Creating TrainRunner ...\n",
            "INFO:tensorflow:Creating DQNAgent agent with the following parameters:\n",
            "INFO:tensorflow:\t gamma: 0.990000\n",
            "INFO:tensorflow:\t update_horizon: 1.000000\n",
            "INFO:tensorflow:\t min_replay_history: 500\n",
            "INFO:tensorflow:\t update_period: 4\n",
            "INFO:tensorflow:\t target_update_period: 100\n",
            "INFO:tensorflow:\t epsilon_train: 0.010000\n",
            "INFO:tensorflow:\t epsilon_eval: 0.001000\n",
            "INFO:tensorflow:\t epsilon_decay_period: 250000\n",
            "INFO:tensorflow:\t tf_device: /gpu:0\n",
            "INFO:tensorflow:\t use_staging: True\n",
            "INFO:tensorflow:\t optimizer: <tensorflow.python.training.adam.AdamOptimizer object at 0x7fee75fd2080>\n",
            "INFO:tensorflow:\t max_tf_checkpoints_to_keep: 4\n",
            "INFO:tensorflow:Creating a OutOfGraphReplayBuffer replay memory with the following parameters:\n",
            "INFO:tensorflow:\t observation_shape: (4, 1)\n",
            "INFO:tensorflow:\t observation_dtype: <class 'numpy.float64'>\n",
            "INFO:tensorflow:\t terminal_dtype: <class 'numpy.uint8'>\n",
            "INFO:tensorflow:\t stack_size: 1\n",
            "INFO:tensorflow:\t replay_capacity: 50000\n",
            "INFO:tensorflow:\t batch_size: 128\n",
            "INFO:tensorflow:\t update_horizon: 1\n",
            "INFO:tensorflow:\t gamma: 0.990000\n",
            "WARNING:tensorflow:From /usr/local/lib/python3.6/dist-packages/dopamine/replay_memory/circular_replay_buffer.py:821: py_func (from tensorflow.python.ops.script_ops) is deprecated and will be removed in a future version.\n",
            "Instructions for updating:\n",
            "tf.py_func is deprecated in TF V2. Instead, there are two\n",
            "    options available in V2.\n",
            "    - tf.py_function takes a python function which manipulates tf eager\n",
            "    tensors instead of numpy arrays. It's easy to convert a tf eager tensor to\n",
            "    an ndarray (just call tensor.numpy()) but having access to eager tensors\n",
            "    means `tf.py_function`s can use accelerators such as GPUs as well as\n",
            "    being differentiable using a gradient tape.\n",
            "    - tf.numpy_function maintains the semantics of the deprecated tf.py_func\n",
            "    (it is not differentiable, and manipulates numpy arrays). It drops the\n",
            "    stateful argument making all functions stateful.\n",
            "    \n",
            "WARNING:tensorflow:From /usr/local/lib/python3.6/dist-packages/tensorflow_core/python/ops/resource_variable_ops.py:1630: calling BaseResourceVariable.__init__ (from tensorflow.python.ops.resource_variable_ops) with constraint is deprecated and will be removed in a future version.\n",
            "Instructions for updating:\n",
            "If using Keras pass *_constraint arguments to layers.\n",
            "WARNING:tensorflow:From /usr/local/lib/python3.6/dist-packages/tensorflow_core/python/ops/math_grad.py:1424: where (from tensorflow.python.ops.array_ops) is deprecated and will be removed in a future version.\n",
            "Instructions for updating:\n",
            "Use tf.where in 2.0, which has the same broadcast rule as np.where\n",
            "WARNING:tensorflow:From /usr/local/lib/python3.6/dist-packages/dopamine/agents/dqn/dqn_agent.py:206: all_variables (from tensorflow.python.ops.variables) is deprecated and will be removed after 2017-03-02.\n",
            "Instructions for updating:\n",
            "Please use tf.global_variables instead.\n",
            "INFO:tensorflow:legacy_checkpoint_load: False\n",
            "Will train DQN agent, please be patient, may be a while...\n",
            "INFO:tensorflow:Beginning training...\n",
            "INFO:tensorflow:Average undiscounted return per training episode: 14.41\n",
            "INFO:tensorflow:Average training steps per second: 231.34\n",
            "INFO:tensorflow:Average undiscounted return per training episode: 9.73\n",
            "INFO:tensorflow:Average training steps per second: 146.11\n",
            "INFO:tensorflow:Average undiscounted return per training episode: 60.29\n",
            "INFO:tensorflow:Average training steps per second: 165.40\n",
            "INFO:tensorflow:Average undiscounted return per training episode: 184.00\n",
            "INFO:tensorflow:Average training steps per second: 167.64\n",
            "INFO:tensorflow:Average undiscounted return per training episode: 181.50\n",
            "INFO:tensorflow:Average training steps per second: 167.82\n",
            "WARNING:tensorflow:From /usr/local/lib/python3.6/dist-packages/tensorflow_core/python/training/saver.py:963: remove_checkpoint (from tensorflow.python.training.checkpoint_management) is deprecated and will be removed in a future version.\n",
            "Instructions for updating:\n",
            "Use standard file APIs to delete files with this prefix.\n",
            "INFO:tensorflow:Average undiscounted return per training episode: 186.67\n",
            "INFO:tensorflow:Average training steps per second: 168.46\n",
            "INFO:tensorflow:Average undiscounted return per training episode: 149.57\n",
            "INFO:tensorflow:Average training steps per second: 168.37\n",
            "INFO:tensorflow:Average undiscounted return per training episode: 190.00\n",
            "INFO:tensorflow:Average training steps per second: 166.83\n",
            "INFO:tensorflow:Average undiscounted return per training episode: 179.83\n",
            "INFO:tensorflow:Average training steps per second: 164.44\n",
            "INFO:tensorflow:Average undiscounted return per training episode: 159.43\n",
            "INFO:tensorflow:Average training steps per second: 165.53\n",
            "INFO:tensorflow:Average undiscounted return per training episode: 130.50\n",
            "INFO:tensorflow:Average training steps per second: 163.96\n",
            "INFO:tensorflow:Average undiscounted return per training episode: 88.42\n",
            "INFO:tensorflow:Average training steps per second: 164.29\n",
            "INFO:tensorflow:Average undiscounted return per training episode: 164.86\n",
            "INFO:tensorflow:Average training steps per second: 166.14\n",
            "INFO:tensorflow:Average undiscounted return per training episode: 150.57\n",
            "INFO:tensorflow:Average training steps per second: 166.21\n",
            "INFO:tensorflow:Average undiscounted return per training episode: 196.33\n",
            "INFO:tensorflow:Average training steps per second: 165.17\n",
            "INFO:tensorflow:Average undiscounted return per training episode: 200.00\n",
            "INFO:tensorflow:Average training steps per second: 162.49\n",
            "INFO:tensorflow:Average undiscounted return per training episode: 200.00\n",
            "INFO:tensorflow:Average training steps per second: 165.63\n",
            "INFO:tensorflow:Average undiscounted return per training episode: 200.00\n",
            "INFO:tensorflow:Average training steps per second: 165.77\n",
            "INFO:tensorflow:Average undiscounted return per training episode: 200.00\n",
            "INFO:tensorflow:Average training steps per second: 166.84\n",
            "INFO:tensorflow:Average undiscounted return per training episode: 200.00\n",
            "INFO:tensorflow:Average training steps per second: 166.01\n",
            "INFO:tensorflow:Average undiscounted return per training episode: 200.00\n",
            "INFO:tensorflow:Average training steps per second: 166.23\n",
            "INFO:tensorflow:Average undiscounted return per training episode: 200.00\n",
            "INFO:tensorflow:Average training steps per second: 165.26\n",
            "INFO:tensorflow:Average undiscounted return per training episode: 200.00\n",
            "INFO:tensorflow:Average training steps per second: 166.51\n",
            "INFO:tensorflow:Average undiscounted return per training episode: 200.00\n",
            "INFO:tensorflow:Average training steps per second: 166.35\n",
            "INFO:tensorflow:Average undiscounted return per training episode: 200.00\n",
            "INFO:tensorflow:Average training steps per second: 164.03\n",
            "INFO:tensorflow:Average undiscounted return per training episode: 200.00\n",
            "INFO:tensorflow:Average training steps per second: 164.30\n",
            "INFO:tensorflow:Average undiscounted return per training episode: 200.00\n",
            "INFO:tensorflow:Average training steps per second: 163.85\n",
            "INFO:tensorflow:Average undiscounted return per training episode: 200.00\n",
            "INFO:tensorflow:Average training steps per second: 166.17\n",
            "INFO:tensorflow:Average undiscounted return per training episode: 27.46\n",
            "INFO:tensorflow:Average training steps per second: 153.86\n",
            "INFO:tensorflow:Average undiscounted return per training episode: 45.96\n",
            "INFO:tensorflow:Average training steps per second: 160.06\n",
            "INFO:tensorflow:Average undiscounted return per training episode: 118.78\n",
            "INFO:tensorflow:Average training steps per second: 164.04\n",
            "INFO:tensorflow:Average undiscounted return per training episode: 68.87\n",
            "INFO:tensorflow:Average training steps per second: 164.95\n",
            "INFO:tensorflow:Average undiscounted return per training episode: 125.67\n",
            "INFO:tensorflow:Average training steps per second: 167.28\n",
            "INFO:tensorflow:Average undiscounted return per training episode: 173.50\n",
            "INFO:tensorflow:Average training steps per second: 166.69\n",
            "INFO:tensorflow:Average undiscounted return per training episode: 62.50\n",
            "INFO:tensorflow:Average training steps per second: 163.18\n",
            "INFO:tensorflow:Average undiscounted return per training episode: 54.84\n",
            "INFO:tensorflow:Average training steps per second: 159.76\n",
            "INFO:tensorflow:Average undiscounted return per training episode: 119.89\n",
            "INFO:tensorflow:Average training steps per second: 164.69\n",
            "INFO:tensorflow:Average undiscounted return per training episode: 84.92\n",
            "INFO:tensorflow:Average training steps per second: 163.16\n",
            "INFO:tensorflow:Average undiscounted return per training episode: 44.00\n",
            "INFO:tensorflow:Average training steps per second: 161.36\n",
            "INFO:tensorflow:Average undiscounted return per training episode: 55.20\n",
            "INFO:tensorflow:Average training steps per second: 161.76\n",
            "INFO:tensorflow:Average undiscounted return per training episode: 93.67\n",
            "INFO:tensorflow:Average training steps per second: 162.20\n",
            "INFO:tensorflow:Average undiscounted return per training episode: 118.33\n",
            "INFO:tensorflow:Average training steps per second: 165.34\n",
            "INFO:tensorflow:Average undiscounted return per training episode: 140.75\n",
            "INFO:tensorflow:Average training steps per second: 166.64\n",
            "INFO:tensorflow:Average undiscounted return per training episode: 200.00\n",
            "INFO:tensorflow:Average training steps per second: 166.72\n",
            "INFO:tensorflow:Average undiscounted return per training episode: 200.00\n",
            "INFO:tensorflow:Average training steps per second: 164.72\n",
            "INFO:tensorflow:Average undiscounted return per training episode: 200.00\n",
            "INFO:tensorflow:Average training steps per second: 165.78\n",
            "INFO:tensorflow:Average undiscounted return per training episode: 200.00\n",
            "INFO:tensorflow:Average training steps per second: 166.13\n",
            "INFO:tensorflow:Average undiscounted return per training episode: 200.00\n",
            "INFO:tensorflow:Average training steps per second: 167.58\n",
            "INFO:tensorflow:Average undiscounted return per training episode: 200.00\n",
            "INFO:tensorflow:Average training steps per second: 169.11\n",
            "INFO:tensorflow:Average undiscounted return per training episode: 200.00\n",
            "INFO:tensorflow:Average training steps per second: 171.78\n",
            "Done training!\n"
          ],
          "name": "stdout"
        }
      ]
    },
    {
      "cell_type": "markdown",
      "metadata": {
        "id": "aRkvG1Nr6Etc",
        "colab_type": "text"
      },
      "source": [
        "# Train C51"
      ]
    },
    {
      "cell_type": "code",
      "metadata": {
        "id": "s5o3a8HX6G2A",
        "colab_type": "code",
        "colab": {}
      },
      "source": [
        "# @title Load the configuration for C51.\n",
        "\n",
        "C51_PATH = os.path.join(BASE_PATH, 'c51')\n",
        "# Modified from dopamine/agents/rainbow/config/c51_cartpole.gin\n",
        "c51_config = \"\"\"\n",
        "# Hyperparameters for a simple C51-style Cartpole agent. The hyperparameters\n",
        "# chosen achieve reasonable performance.\n",
        "import dopamine.agents.dqn.dqn_agent\n",
        "import dopamine.agents.rainbow.rainbow_agent\n",
        "import dopamine.discrete_domains.gym_lib\n",
        "import dopamine.discrete_domains.run_experiment\n",
        "import dopamine.replay_memory.prioritized_replay_buffer\n",
        "import gin.tf.external_configurables\n",
        "\n",
        "RainbowAgent.observation_shape = %gym_lib.CARTPOLE_OBSERVATION_SHAPE\n",
        "RainbowAgent.observation_dtype = %gym_lib.CARTPOLE_OBSERVATION_DTYPE\n",
        "RainbowAgent.stack_size = %gym_lib.CARTPOLE_STACK_SIZE\n",
        "RainbowAgent.network = @gym_lib.CartpoleRainbowNetwork\n",
        "RainbowAgent.num_atoms = 51\n",
        "RainbowAgent.vmax = 10.\n",
        "RainbowAgent.gamma = 0.99\n",
        "RainbowAgent.update_horizon = 1\n",
        "RainbowAgent.min_replay_history = 500\n",
        "RainbowAgent.update_period = 4\n",
        "RainbowAgent.target_update_period = 100\n",
        "RainbowAgent.epsilon_fn = @dqn_agent.identity_epsilon\n",
        "RainbowAgent.replay_scheme = 'uniform'\n",
        "RainbowAgent.tf_device = '/gpu:0'  # use '/cpu:*' for non-GPU version\n",
        "RainbowAgent.optimizer = @tf.train.AdamOptimizer()\n",
        "\n",
        "tf.train.AdamOptimizer.learning_rate = 0.001\n",
        "tf.train.AdamOptimizer.epsilon = 0.0003125\n",
        "\n",
        "create_gym_environment.environment_name = 'CartPole'\n",
        "create_gym_environment.version = 'v0'\n",
        "create_agent.agent_name = 'rainbow'\n",
        "Runner.create_environment_fn = @gym_lib.create_gym_environment\n",
        "Runner.num_iterations = 50\n",
        "Runner.training_steps = 1000\n",
        "Runner.evaluation_steps = 1000\n",
        "Runner.max_steps_per_episode = 200  # Default max episode length.\n",
        "\n",
        "WrappedPrioritizedReplayBuffer.replay_capacity = 50000\n",
        "WrappedPrioritizedReplayBuffer.batch_size = 128\n",
        "\"\"\"\n",
        "gin.parse_config(c51_config, skip_unknown=False)"
      ],
      "execution_count": 0,
      "outputs": []
    },
    {
      "cell_type": "code",
      "metadata": {
        "id": "VI_v9lm66jzq",
        "colab_type": "code",
        "outputId": "defb213f-17a3-4a5c-c38a-21421352e187",
        "colab": {
          "base_uri": "https://localhost:8080/",
          "height": 1000
        }
      },
      "source": [
        "# @title Train C51 on Cartpole\n",
        "c51_runner = run_experiment.create_runner(C51_PATH, schedule='continuous_train')\n",
        "print('Will train agent, please be patient, may be a while...')\n",
        "c51_runner.run_experiment()\n",
        "print('Done training!')"
      ],
      "execution_count": 0,
      "outputs": [
        {
          "output_type": "stream",
          "text": [
            "INFO:tensorflow:Creating TrainRunner ...\n",
            "INFO:tensorflow:Creating RainbowAgent agent with the following parameters:\n",
            "INFO:tensorflow:\t gamma: 0.990000\n",
            "INFO:tensorflow:\t update_horizon: 1.000000\n",
            "INFO:tensorflow:\t min_replay_history: 500\n",
            "INFO:tensorflow:\t update_period: 4\n",
            "INFO:tensorflow:\t target_update_period: 100\n",
            "INFO:tensorflow:\t epsilon_train: 0.010000\n",
            "INFO:tensorflow:\t epsilon_eval: 0.001000\n",
            "INFO:tensorflow:\t epsilon_decay_period: 250000\n",
            "INFO:tensorflow:\t tf_device: /gpu:0\n",
            "INFO:tensorflow:\t use_staging: True\n",
            "INFO:tensorflow:\t optimizer: <tensorflow.python.training.adam.AdamOptimizer object at 0x7fee6f30bd30>\n",
            "INFO:tensorflow:\t max_tf_checkpoints_to_keep: 4\n",
            "INFO:tensorflow:Creating a OutOfGraphPrioritizedReplayBuffer replay memory with the following parameters:\n",
            "INFO:tensorflow:\t observation_shape: (4, 1)\n",
            "INFO:tensorflow:\t observation_dtype: <class 'numpy.float64'>\n",
            "INFO:tensorflow:\t terminal_dtype: <class 'numpy.uint8'>\n",
            "INFO:tensorflow:\t stack_size: 1\n",
            "INFO:tensorflow:\t replay_capacity: 50000\n",
            "INFO:tensorflow:\t batch_size: 128\n",
            "INFO:tensorflow:\t update_horizon: 1\n",
            "INFO:tensorflow:\t gamma: 0.990000\n",
            "WARNING:tensorflow:From /usr/local/lib/python3.6/dist-packages/dopamine/agents/rainbow/rainbow_agent.py:230: to_int64 (from tensorflow.python.ops.math_ops) is deprecated and will be removed in a future version.\n",
            "Instructions for updating:\n",
            "Use `tf.cast` instead.\n",
            "WARNING:tensorflow:From /usr/local/lib/python3.6/dist-packages/dopamine/agents/rainbow/rainbow_agent.py:261: softmax_cross_entropy_with_logits (from tensorflow.python.ops.nn_ops) is deprecated and will be removed in a future version.\n",
            "Instructions for updating:\n",
            "\n",
            "Future major versions of TensorFlow will allow gradients to flow\n",
            "into the labels input on backprop by default.\n",
            "\n",
            "See `tf.nn.softmax_cross_entropy_with_logits_v2`.\n",
            "\n",
            "INFO:tensorflow:legacy_checkpoint_load: False\n",
            "Will train agent, please be patient, may be a while...\n",
            "INFO:tensorflow:Beginning training...\n",
            "INFO:tensorflow:Average undiscounted return per training episode: 136.50\n",
            "INFO:tensorflow:Average training steps per second: 222.67\n",
            "INFO:tensorflow:Average undiscounted return per training episode: 25.54\n",
            "INFO:tensorflow:Average training steps per second: 139.99\n",
            "INFO:tensorflow:Average undiscounted return per training episode: 82.62\n",
            "INFO:tensorflow:Average training steps per second: 147.84\n",
            "INFO:tensorflow:Average undiscounted return per training episode: 91.91\n",
            "INFO:tensorflow:Average training steps per second: 147.20\n",
            "INFO:tensorflow:Average undiscounted return per training episode: 174.67\n",
            "INFO:tensorflow:Average training steps per second: 146.84\n",
            "INFO:tensorflow:Average undiscounted return per training episode: 192.17\n",
            "INFO:tensorflow:Average training steps per second: 148.56\n",
            "INFO:tensorflow:Average undiscounted return per training episode: 200.00\n",
            "INFO:tensorflow:Average training steps per second: 149.72\n",
            "INFO:tensorflow:Average undiscounted return per training episode: 200.00\n",
            "INFO:tensorflow:Average training steps per second: 150.17\n",
            "INFO:tensorflow:Average undiscounted return per training episode: 187.00\n",
            "INFO:tensorflow:Average training steps per second: 149.99\n",
            "INFO:tensorflow:Average undiscounted return per training episode: 197.50\n",
            "INFO:tensorflow:Average training steps per second: 150.33\n",
            "INFO:tensorflow:Average undiscounted return per training episode: 194.67\n",
            "INFO:tensorflow:Average training steps per second: 148.79\n",
            "INFO:tensorflow:Average undiscounted return per training episode: 193.00\n",
            "INFO:tensorflow:Average training steps per second: 147.59\n",
            "INFO:tensorflow:Average undiscounted return per training episode: 176.50\n",
            "INFO:tensorflow:Average training steps per second: 150.54\n",
            "INFO:tensorflow:Average undiscounted return per training episode: 193.67\n",
            "INFO:tensorflow:Average training steps per second: 148.62\n",
            "INFO:tensorflow:Average undiscounted return per training episode: 200.00\n",
            "INFO:tensorflow:Average training steps per second: 148.46\n",
            "INFO:tensorflow:Average undiscounted return per training episode: 190.67\n",
            "INFO:tensorflow:Average training steps per second: 148.49\n",
            "INFO:tensorflow:Average undiscounted return per training episode: 190.83\n",
            "INFO:tensorflow:Average training steps per second: 149.93\n",
            "INFO:tensorflow:Average undiscounted return per training episode: 199.00\n",
            "INFO:tensorflow:Average training steps per second: 149.61\n",
            "INFO:tensorflow:Average undiscounted return per training episode: 200.00\n",
            "INFO:tensorflow:Average training steps per second: 148.93\n",
            "INFO:tensorflow:Average undiscounted return per training episode: 197.83\n",
            "INFO:tensorflow:Average training steps per second: 147.67\n",
            "INFO:tensorflow:Average undiscounted return per training episode: 200.00\n",
            "INFO:tensorflow:Average training steps per second: 151.44\n",
            "INFO:tensorflow:Average undiscounted return per training episode: 188.50\n",
            "INFO:tensorflow:Average training steps per second: 149.32\n",
            "INFO:tensorflow:Average undiscounted return per training episode: 199.83\n",
            "INFO:tensorflow:Average training steps per second: 142.96\n",
            "INFO:tensorflow:Average undiscounted return per training episode: 200.00\n",
            "INFO:tensorflow:Average training steps per second: 148.65\n",
            "INFO:tensorflow:Average undiscounted return per training episode: 200.00\n",
            "INFO:tensorflow:Average training steps per second: 149.37\n",
            "INFO:tensorflow:Average undiscounted return per training episode: 194.83\n",
            "INFO:tensorflow:Average training steps per second: 148.83\n",
            "INFO:tensorflow:Average undiscounted return per training episode: 173.83\n",
            "INFO:tensorflow:Average training steps per second: 147.91\n",
            "INFO:tensorflow:Average undiscounted return per training episode: 200.00\n",
            "INFO:tensorflow:Average training steps per second: 150.59\n",
            "INFO:tensorflow:Average undiscounted return per training episode: 200.00\n",
            "INFO:tensorflow:Average training steps per second: 150.86\n",
            "INFO:tensorflow:Average undiscounted return per training episode: 200.00\n",
            "INFO:tensorflow:Average training steps per second: 150.32\n",
            "INFO:tensorflow:Average undiscounted return per training episode: 184.17\n",
            "INFO:tensorflow:Average training steps per second: 149.91\n",
            "INFO:tensorflow:Average undiscounted return per training episode: 198.83\n",
            "INFO:tensorflow:Average training steps per second: 150.06\n",
            "INFO:tensorflow:Average undiscounted return per training episode: 194.50\n",
            "INFO:tensorflow:Average training steps per second: 150.79\n",
            "INFO:tensorflow:Average undiscounted return per training episode: 166.83\n",
            "INFO:tensorflow:Average training steps per second: 149.22\n",
            "INFO:tensorflow:Average undiscounted return per training episode: 189.67\n",
            "INFO:tensorflow:Average training steps per second: 149.53\n",
            "INFO:tensorflow:Average undiscounted return per training episode: 184.17\n",
            "INFO:tensorflow:Average training steps per second: 149.71\n",
            "INFO:tensorflow:Average undiscounted return per training episode: 200.00\n",
            "INFO:tensorflow:Average training steps per second: 148.37\n",
            "INFO:tensorflow:Average undiscounted return per training episode: 200.00\n",
            "INFO:tensorflow:Average training steps per second: 150.31\n",
            "INFO:tensorflow:Average undiscounted return per training episode: 196.67\n",
            "INFO:tensorflow:Average training steps per second: 148.68\n",
            "INFO:tensorflow:Average undiscounted return per training episode: 197.00\n",
            "INFO:tensorflow:Average training steps per second: 150.02\n",
            "INFO:tensorflow:Average undiscounted return per training episode: 200.00\n",
            "INFO:tensorflow:Average training steps per second: 148.60\n",
            "INFO:tensorflow:Average undiscounted return per training episode: 200.00\n",
            "INFO:tensorflow:Average training steps per second: 142.21\n",
            "INFO:tensorflow:Average undiscounted return per training episode: 200.00\n",
            "INFO:tensorflow:Average training steps per second: 146.55\n",
            "INFO:tensorflow:Average undiscounted return per training episode: 200.00\n",
            "INFO:tensorflow:Average training steps per second: 148.62\n",
            "INFO:tensorflow:Average undiscounted return per training episode: 200.00\n",
            "INFO:tensorflow:Average training steps per second: 148.20\n",
            "INFO:tensorflow:Average undiscounted return per training episode: 200.00\n",
            "INFO:tensorflow:Average training steps per second: 147.65\n",
            "INFO:tensorflow:Average undiscounted return per training episode: 200.00\n",
            "INFO:tensorflow:Average training steps per second: 150.60\n",
            "INFO:tensorflow:Average undiscounted return per training episode: 200.00\n",
            "INFO:tensorflow:Average training steps per second: 156.86\n",
            "INFO:tensorflow:Average undiscounted return per training episode: 200.00\n",
            "INFO:tensorflow:Average training steps per second: 157.50\n",
            "INFO:tensorflow:Average undiscounted return per training episode: 200.00\n",
            "INFO:tensorflow:Average training steps per second: 156.57\n",
            "Done training!\n"
          ],
          "name": "stdout"
        }
      ]
    },
    {
      "cell_type": "markdown",
      "metadata": {
        "id": "hqBe5Yad63FT",
        "colab_type": "text"
      },
      "source": [
        "# Plot the results"
      ]
    },
    {
      "cell_type": "code",
      "metadata": {
        "id": "IknanILXX4Zz",
        "colab_type": "code",
        "outputId": "489b163f-6579-4780-d5d0-7187b9618ac8",
        "colab": {
          "base_uri": "https://localhost:8080/",
          "height": 53
        }
      },
      "source": [
        "# @title Load the training logs.\n",
        "data = colab_utils.read_experiment(DQN_PATH, verbose=True,\n",
        "                                   summary_keys=['train_episode_returns'])\n",
        "data['agent'] = 'DQN'\n",
        "data['run'] = 1\n",
        "c51_data = colab_utils.read_experiment(C51_PATH, verbose=True,\n",
        "                                       summary_keys=['train_episode_returns'])\n",
        "c51_data['agent'] = 'C51'\n",
        "c51_data['run'] = 1\n",
        "data = data.merge(c51_data, how='outer')"
      ],
      "execution_count": 0,
      "outputs": [
        {
          "output_type": "stream",
          "text": [
            "Reading statistics from: /tmp/colab_dopamine_run/dqn//logs/log_49\n",
            "Reading statistics from: /tmp/colab_dopamine_run/c51//logs/log_49\n"
          ],
          "name": "stdout"
        }
      ]
    },
    {
      "cell_type": "code",
      "metadata": {
        "id": "mSOVFUKN-kea",
        "colab_type": "code",
        "outputId": "4bd43859-d75f-4372-e7af-0da765d9d1fd",
        "colab": {
          "base_uri": "https://localhost:8080/",
          "height": 589
        }
      },
      "source": [
        "# @title Plot training results.\n",
        "\n",
        "import seaborn as sns\n",
        "import matplotlib.pyplot as plt\n",
        "\n",
        "fig, ax = plt.subplots(figsize=(16,8))\n",
        "sns.tsplot(data=data, time='iteration', unit='run',\n",
        "           condition='agent', value='train_episode_returns', ax=ax)\n",
        "plt.title('Cartpole')\n",
        "plt.show()"
      ],
      "execution_count": 0,
      "outputs": [
        {
          "output_type": "stream",
          "text": [
            "/usr/local/lib/python3.6/dist-packages/seaborn/timeseries.py:183: UserWarning: The `tsplot` function is deprecated and will be removed in a future release. Please update your code to use the new `lineplot` function.\n",
            "  warnings.warn(msg, UserWarning)\n"
          ],
          "name": "stderr"
        },
        {
          "output_type": "display_data",
          "data": {
            "image/png": "[encoded data removed]",
            "text/plain": [
              "<Figure size 1152x576 with 1 Axes>"
            ]
          },
          "metadata": {
            "tags": []
          }
        }
      ]
    }
  ]
}