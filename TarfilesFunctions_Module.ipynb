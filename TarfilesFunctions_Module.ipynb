{
  "nbformat": 4,
  "nbformat_minor": 5,
  "metadata": {
    "colab": {
      "name": "TarfilesFunctions_Module.ipynb",
      "private_outputs": true,
      "provenance": [],
      "collapsed_sections": [],
      "machine_shape": "hm",
      "include_colab_link": true
    },
    "kernelspec": {
      "display_name": "Python 3",
      "language": "python",
      "name": "python3"
    },
    "language_info": {
      "codemirror_mode": {
        "name": "ipython",
        "version": 3
      },
      "file_extension": ".py",
      "mimetype": "text/x-python",
      "name": "python",
      "nbconvert_exporter": "python",
      "pygments_lexer": "ipython3",
      "version": "3.7.10"
    }
  },
  "cells": [
    {
      "cell_type": "markdown",
      "metadata": {
        "id": "view-in-github",
        "colab_type": "text"
      },
      "source": [
        "<a href=\"https://colab.research.google.com/github/iypc-team/CoLab/blob/master/TarfilesFunctions_Module.ipynb\" target=\"_parent\"><img src=\"https://colab.research.google.com/assets/colab-badge.svg\" alt=\"Open In Colab\"/></a>"
      ]
    },
    {
      "cell_type": "code",
      "metadata": {
        "id": "varied-moscow"
      },
      "source": [
        "from IPython.display import clear_output\n",
        "import time\n",
        "def sleepyTime():\n",
        "    count=0\n",
        "    try:\n",
        "        while count <= 120:\n",
        "            print(f'sleeping for {count} minutes')\n",
        "            time.sleep(60)\n",
        "            count+=1\n",
        "            if count % 5 == 0:\n",
        "                clear_output()\n",
        "    except KeyboardInterrupt:\n",
        "        clear_output()\n",
        "# sleepyTime()"
      ],
      "id": "varied-moscow",
      "execution_count": null,
      "outputs": []
    },
    {
      "cell_type": "code",
      "metadata": {
        "id": "2IPirPEO9-if"
      },
      "source": [
        "# from __future__ import absolute_import\n",
        "import glob, os, shutil, tarfile\n",
        "import os.path\n",
        "from os.path import *\n",
        "\n",
        "contentPth = os.getcwd()\n",
        "\n",
        "if exists('/content/sample_data'):\n",
        "    shutil.rmtree('/content/sample_data')\n",
        "try: \n",
        "    from google.colab import drive, files\n",
        "    if os.path.exists('/content/sample_data'):\n",
        "        shutil.rmtree('/content/sample_data')\n",
        "    drive.flush_and_unmount()\n",
        "    drive.mount('/content/gdrive', force_remount=True)\n",
        "    myDrivePth = os.path.join(contentPth, 'gdrive/My Drive')\n",
        "    if exists(myDrivePth):\n",
        "        print(myDrivePth)\n",
        "        os.chdir(myDrivePth)\n",
        "        from BashColors import C\n",
        "except Exception as err:\n",
        "    print(err)\n",
        "    os.chdir(contentPth)\n",
        "    from BashColors import C\n",
        "os.chdir(contentPth)\n",
        "if exists(myDrivePth):\n",
        "    os.chdir(myDrivePth)\n",
        "print(f'cwd: {C.IBlue}{os.getcwd()}')"
      ],
      "id": "2IPirPEO9-if",
      "execution_count": null,
      "outputs": []
    },
    {
      "cell_type": "code",
      "metadata": {
        "id": "complimentary-editing"
      },
      "source": [
        "\n",
        "%%writefile TarfileFunctions.py\n",
        "\n",
        "# from __future__ import absolute_import\n",
        "from IPython.display import clear_output\n",
        "from BashColors import C\n",
        "import glob, os, shutil, tarfile\n",
        "import os.path\n",
        "\n",
        "class TarfileFunctions:\n",
        "    from IPython.display import clear_output\n",
        "    from BashColors import C\n",
        "    import glob, os, shutil, tarfile\n",
        "    # from os.path import os.path.abspath, os.path.basename\n",
        "\n",
        "    __all__ = ['listTarfiles', 'inspectTarfile', 'extractTarfiles', 'tarfileFromDirectory']\n",
        "    global tff\n",
        "    \n",
        "    def __init__(self):\n",
        "        # self.tff = None\n",
        "        self.tff = TarfileFunctions\n",
        "        self.rootPth=os.getcwd()\n",
        "        self.tarfileList=list()\n",
        "        self.tarfilePathList=list()\n",
        "        \n",
        "    def listTarfiles(self):\n",
        "        print(f'Available tar files:')\n",
        "        tarfile_list = glob.glob('**', recursive=True)\n",
        "        for fil in sorted(tarfile_list):\n",
        "            if fil.endswith('.gz'):\n",
        "                fil=os.path.basename(fil)\n",
        "                fullPth = os.path.abspath(fil)\n",
        "                print(f'{C.IPurple}{fil}{C.ColorOff}')\n",
        "                print(f'{C.Green}{fullPth}{C.ColorOff}\\n')\n",
        "                self.tarfileList.append(fil)\n",
        "                self.tarfilePathList.append(fullPth)\n",
        "            \n",
        "    def tarfileFromDirectory(self,\n",
        "                                   output_filename, source_dir):\n",
        "        print(source_dir)\n",
        "        print(os.path.basename(source_dir))\n",
        "        with tarfile.open(output_filename, \"w:gz\") as tar:\n",
        "            # pass\n",
        "            tar.add(source_dir, arcname=os.path.basename(source_dir))\n",
        "\n",
        "    def extractTarfiles(self, fileName):\n",
        "        fil=os.path.basename(fileName)\n",
        "        print(f'extracting: {fil}')\n",
        "        tar = tarfile.open(fil, 'r:gz')\n",
        "        tar.extractall()\n",
        "        tar.close()\n",
        "\n",
        "    def inspectTarfile(self, named):\n",
        "        named=str(named)\n",
        "        named=os.path.basename(named)\n",
        "        print(named)\n",
        "        tar = tarfile.open(named, \"r:gz\")\n",
        "        for tarinfo in tar:\n",
        "            print(f'{C.IPurple}{tarinfo.name}{C.ColorOff}')\n",
        "            print('type:', tarinfo.type)\n",
        "            print('chksum:', tarinfo.chksum)\n",
        "            print('size:', tarinfo.size)\n",
        "            bs='''\n",
        "            print(tarinfo.name, \"is\", tarinfo.size, \"bytes in size and is \", end=\"\")\n",
        "            if tarinfo.isreg():\n",
        "                print(\"a regular file.\")\n",
        "            elif tarinfo.isdir():\n",
        "                print(\"a directory.\")\n",
        "            else:\n",
        "                print(\"something else.\")\n",
        "                '''\n",
        "            print()\n",
        "        tar.close()\n",
        "\n",
        "tff = TarfileFunctions()\n",
        "tff.listTarfiles()"
      ],
      "id": "complimentary-editing",
      "execution_count": null,
      "outputs": []
    },
    {
      "cell_type": "code",
      "metadata": {
        "id": "general-franchise"
      },
      "source": [
        "os.chdir(contentPth)\n",
        "dirStructure=glob.glob('**', recursive=True)\n",
        "                       \n",
        "for item in sorted(dirStructure):        \n",
        "    if isdir(item) and not item.__contains__('__pycache__'):\n",
        "        fullPth=abspath(item)\n",
        "        print(fullPth)"
      ],
      "id": "general-franchise",
      "execution_count": null,
      "outputs": []
    },
    {
      "cell_type": "code",
      "metadata": {
        "id": "joint-entrance"
      },
      "source": [
        "source = join(contentPth,'TensorflowImages')\n",
        "destination = join(contentPth, 'TensorflowImages')\n",
        "\n",
        "if not exists(destination):\n",
        "    print(f'{destination}{C.IRed} does not exist')\n",
        "    print()\n",
        "    try:\n",
        "        shutil.copytree(source, destination)\n",
        "    except FileNotFoundError as err:\n",
        "        print(err)"
      ],
      "id": "joint-entrance",
      "execution_count": null,
      "outputs": []
    },
    {
      "cell_type": "code",
      "metadata": {
        "id": "greatest-newport"
      },
      "source": [
        "source = join(contentPth, 'TensorflowImages')\n",
        "from TarfileFunctions import *\n",
        "\n",
        "tff = TarfileFunctions()\n",
        "if exists(source):\n",
        "    tff.tarfileFromDirectory(source_dir=source,output_filename='Defcon_Images.tar.gz')\n",
        "    tff.inspectTarfile(named='Defcon_Images.tar.gz')"
      ],
      "id": "greatest-newport",
      "execution_count": null,
      "outputs": []
    },
    {
      "cell_type": "code",
      "metadata": {
        "id": "fitted-competition"
      },
      "source": [
        "# sleepyTime()"
      ],
      "id": "fitted-competition",
      "execution_count": null,
      "outputs": []
    }
  ]
}