{
  "nbformat": 4,
  "nbformat_minor": 0,
  "metadata": {
    "colab": {
      "name": "tensorflow/datasets.ipynb",
      "private_outputs": true,
      "provenance": [],
      "collapsed_sections": [],
      "include_colab_link": true
    },
    "kernelspec": {
      "display_name": "Python 3",
      "env": {
        "TF_CPP_MIN_LOG_LEVEL": "1"
      },
      "name": "python3"
    }
  },
  "cells": [
    {
      "cell_type": "markdown",
      "metadata": {
        "id": "view-in-github",
        "colab_type": "text"
      },
      "source": [
        "<a href=\"https://colab.research.google.com/github/iypc-team/CoLab/blob/master/tensorflow_datasets.ipynb\" target=\"_parent\"><img src=\"https://colab.research.google.com/assets/colab-badge.svg\" alt=\"Open In Colab\"/></a>"
      ]
    },
    {
      "cell_type": "code",
      "metadata": {
        "id": "vJLAsn1c0Hxu"
      },
      "source": [
        "%%capture\n",
        "%env TF_CPP_MIN_LOG_LEVEL=1  # Disable logs on TF import"
      ],
      "execution_count": null,
      "outputs": []
    },
    {
      "cell_type": "markdown",
      "metadata": {
        "id": "uo-yMd3Zrm_K"
      },
      "source": [
        "## Installation\n",
        "\n",
        "The CLI tool is installed with `tensorflow-datasets` (or `tfds-nightly`)."
      ]
    },
    {
      "cell_type": "code",
      "metadata": {
        "id": "jeV8_FpsiDwH"
      },
      "source": [
        "!pip install -q tfds-nightly\n",
        "!tfds --version"
      ],
      "execution_count": null,
      "outputs": []
    },
    {
      "cell_type": "markdown",
      "metadata": {
        "id": "hdZiDNR1ijRH"
      },
      "source": [
        "For the list of all CLI commands:"
      ]
    },
    {
      "cell_type": "code",
      "metadata": {
        "id": "CCJPO_Akij0U"
      },
      "source": [
        "!tfds --help"
      ],
      "execution_count": null,
      "outputs": []
    },
    {
      "cell_type": "markdown",
      "metadata": {
        "id": "fJrFRBDKj0sO"
      },
      "source": [
        "## `tfds new`: Implementing a new Dataset\n",
        "\n",
        "This command will help you kickstart writing your new Python dataset by creating\n",
        "a `<dataset_name>/` directory containing default implementation files.\n",
        "\n",
        "Usage:"
      ]
    },
    {
      "cell_type": "code",
      "metadata": {
        "id": "c0Bm7yFCk91Q"
      },
      "source": [
        "!tfds new my_dataset"
      ],
      "execution_count": null,
      "outputs": []
    },
    {
      "cell_type": "markdown",
      "metadata": {
        "id": "OZaDtK0elimF"
      },
      "source": [
        "Will create:"
      ]
    },
    {
      "cell_type": "code",
      "metadata": {
        "id": "CwSPLFRfli8I"
      },
      "source": [
        "ls -1 my_dataset/"
      ],
      "execution_count": null,
      "outputs": []
    },
    {
      "cell_type": "markdown",
      "metadata": {
        "id": "rUsoDbi0moyK"
      },
      "source": [
        "See our [writing dataset guide](https://www.tensorflow.org/datasets/add_dataset)\n",
        "for more info.\n",
        "\n",
        "Available options:"
      ]
    },
    {
      "cell_type": "code",
      "metadata": {
        "id": "pAWCw-fDkwky"
      },
      "source": [
        "!tfds new --help"
      ],
      "execution_count": null,
      "outputs": []
    },
    {
      "cell_type": "markdown",
      "metadata": {
        "id": "x7996uhD1-GP"
      },
      "source": [
        "## `tfds build`: Download and prepare a dataset\n",
        "\n",
        "Use `tfds build <my_dataset>` to generate a new dataset. `<my_dataset>` can be:\n",
        "\n",
        "* A path to `dataset/` folder or `dataset.py` file (empty for current directory):\n",
        "  * `tfds build datasets/my_dataset/`\n",
        "  * `cd datasets/my_dataset/ && tfds build`\n",
        "  * `cd datasets/my_dataset/ && tfds build my_dataset`\n",
        "  * `cd datasets/my_dataset/ && tfds build my_dataset.py`\n",
        "\n",
        "* A registered dataset:\n",
        "\n",
        "  * `tfds build mnist`\n",
        "  * `tfds build my_dataset --imports my_project.datasets`\n",
        "\n",
        "Note: `tfds build` has useful flags to help prototyping and debuging. See the `Debug & tests:` section bellow.\n",
        "\n",
        "Available options:"
      ]
    },
    {
      "cell_type": "code",
      "metadata": {
        "id": "IGAl6dw62KNO"
      },
      "source": [
        "!tfds build --help"
      ],
      "execution_count": null,
      "outputs": []
    }
  ]
}