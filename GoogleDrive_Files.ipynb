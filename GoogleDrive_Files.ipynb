{
  "nbformat": 4,
  "nbformat_minor": 0,
  "metadata": {
    "colab": {
      "name": "GoogleDrive_Files.ipynb",
      "provenance": [],
      "private_outputs": true,
      "collapsed_sections": [],
      "include_colab_link": true
    },
    "kernelspec": {
      "display_name": "Python 3",
      "language": "python",
      "name": "python3"
    },
    "language_info": {
      "codemirror_mode": {
        "name": "ipython",
        "version": 3
      },
      "file_extension": ".py",
      "mimetype": "text/x-python",
      "name": "python",
      "nbconvert_exporter": "python",
      "pygments_lexer": "ipython3",
      "version": "3.7.6"
    }
  },
  "cells": [
    {
      "cell_type": "markdown",
      "metadata": {
        "id": "view-in-github",
        "colab_type": "text"
      },
      "source": [
        "<a href=\"https://colab.research.google.com/github/iypc-team/CoLab/blob/master/GoogleDrive_Files.ipynb\" target=\"_parent\"><img src=\"https://colab.research.google.com/assets/colab-badge.svg\" alt=\"Open In Colab\"/></a>"
      ]
    },
    {
      "cell_type": "code",
      "metadata": {
        "colab_type": "code",
        "id": "1ZoVYKlko6sv",
        "colab": {}
      },
      "source": [
        "import sys\n",
        "def addSysPath(path=None, quiet=True):\n",
        "    sysPaths = sys.path.copy()\n",
        "    counter = 0\n",
        "    if not path==None and not path in sysPaths:\n",
        "        sys.path.append(path)\n",
        "\n",
        "    if not quiet:\n",
        "        for pth in sysPaths:\n",
        "            counter += 1\n",
        "            print(f'{counter}. {pth}')\n",
        "addSysPath()"
      ],
      "execution_count": null,
      "outputs": []
    },
    {
      "cell_type": "code",
      "metadata": {
        "colab_type": "code",
        "id": "3IULW-9ympr5",
        "colab": {}
      },
      "source": [
        "from __future__ import absolute_import\n",
        "from IPython.display import clear_output\n",
        "import glob, os, pathlib, sys\n",
        "from os.path import *\n",
        "from pathlib import Path\n",
        "from google.colab import drive\n",
        "\n",
        "drive.mount('/content/gdrive', timeout_ms=600000, force_remount=True)\n",
        "\n",
        "# import FileUtilities\n",
        "\n",
        "homePath = Path.home()\n",
        "cwdPath = Path.cwd()\n",
        "\n",
        "allFiles = glob.glob('**', recursive=True) \n",
        "allFilesDict = {}\n",
        "print(f'{len(allFiles)} files\\n')\n",
        "counter = 0\n",
        "for fil in sorted(allFiles):\n",
        "    realPath = realpath(fil)\n",
        "    if isdir(realPath):\n",
        "        addSysPath(path=realPath)\n",
        "        print(f'{realPath}')\n",
        "    elif isfile(realPath):\n",
        "        counter += 1\n",
        "        print(f'{counter}. {basename(realPath)}')\n",
        "        pass\n",
        "# clear_output()\n"
      ],
      "execution_count": null,
      "outputs": []
    },
    {
      "cell_type": "code",
      "metadata": {
        "colab_type": "code",
        "id": "RilKVJutQnGg",
        "colab": {}
      },
      "source": [
        "\n",
        "from google.colab import drive\n",
        "\n",
        "allFiles = glob.glob('**', recursive=True) \n",
        "for fil in sorted(allFiles):\n",
        "    if fil.__contains__('.py') and not fil.__contains__('__pycache__'):\n",
        "        print(basename(fil))\n",
        "        print(f'{fil}\\n')\n"
      ],
      "execution_count": null,
      "outputs": []
    },
    {
      "cell_type": "code",
      "metadata": {
        "colab_type": "code",
        "id": "VKarVku7Qxa5",
        "colab": {}
      },
      "source": [
        "from google.colab import files\n",
        "uploaded = {}\n",
        "def uploadFilesToGdrive():\n",
        "    uploaded = files.upload()\n",
        "if not 'FileUtilities.py' in allFiles:\n",
        "    print('not in allFiles')\n",
        "    uploadFilesToGdrive()\n",
        "else: print('exists')\n",
        "print(f'{len(uploaded)}')\n",
        "for fn in uploaded.keys():\n",
        "    print('User uploaded file \"{name}\" with length {length} bytes'.format(name=fn, length=len(uploaded[fn])))"
      ],
      "execution_count": null,
      "outputs": []
    },
    {
      "cell_type": "code",
      "metadata": {
        "colab_type": "code",
        "id": "ZSYfeSTsVRxb",
        "colab": {}
      },
      "source": [
        "from google.colab import files\n",
        "\n",
        "with open('example.txt', 'w') as f:\n",
        "  f.write('some content')\n",
        "\n",
        "files.download('example.txt')"
      ],
      "execution_count": null,
      "outputs": []
    },
    {
      "cell_type": "code",
      "metadata": {
        "colab_type": "code",
        "id": "71cQ37XBV2Sf",
        "colab": {}
      },
      "source": [
        "import FileUtilities\n",
        "from FileUtilities import *\n",
        "\n",
        "s.chdir('/gdrive/My Drive')\n",
        "# %cd /gdrive\n",
        "# clear_output()\n",
        "# %cd My Drive\n",
        "pth = curdir\n",
        "print(pth)\n",
        "# Clone the entire repo.\n",
        "if not exists(pth):\n",
        "    !git clone -l -s git://github.com/iypc-team/CurrentProject.git cloned-repo\n",
        "%cd cloned-repo\n",
        "print(os.curdir)\n",
        "!ls"
      ],
      "execution_count": null,
      "outputs": []
    },
    {
      "cell_type": "code",
      "metadata": {
        "colab_type": "code",
        "id": "aQVQF9QnV2RY",
        "colab": {}
      },
      "source": [
        "# Fetch a single <1MB file using the raw GitHub URL.\n",
        "!curl --remote-name \\\n",
        "     -H 'Accept: application/vnd.github.v3.raw' \\\n",
        "     --location https://api.github.com/repos/jakevdp/PythonDataScienceHandbook/contents/notebooks/data/california_cities.csv"
      ],
      "execution_count": null,
      "outputs": []
    }
  ]
}