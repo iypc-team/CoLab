{
  "nbformat": 4,
  "nbformat_minor": 0,
  "metadata": {
    "colab": {
      "private_outputs": true,
      "provenance": [],
      "collapsed_sections": [],
      "authorship_tag": "ABX9TyMY5qkqsatY3SWGQm7R/zYB",
      "include_colab_link": true
    },
    "kernelspec": {
      "name": "python3",
      "display_name": "Python 3"
    },
    "language_info": {
      "name": "python"
    }
  },
  "cells": [
    {
      "cell_type": "markdown",
      "metadata": {
        "id": "view-in-github",
        "colab_type": "text"
      },
      "source": [
        "<a href=\"https://colab.research.google.com/github/iypc-team/CoLab/blob/master/Exception_Handeler.ipynb\" target=\"_parent\"><img src=\"https://colab.research.google.com/assets/colab-badge.svg\" alt=\"Open In Colab\"/></a>"
      ]
    },
    {
      "cell_type": "code",
      "source": [
        "print('Updated: 10/25/2022-1')"
      ],
      "metadata": {
        "id": "VaPt2JXm2B_f"
      },
      "execution_count": null,
      "outputs": []
    },
    {
      "cell_type": "code",
      "execution_count": null,
      "metadata": {
        "id": "y1zCuCX5IV6t"
      },
      "outputs": [],
      "source": [
        "# %%writefile ExceptionHandeler.py\n",
        "# Updated: 10/25/2022\n",
        "# fall back to 10/16/2022\n",
        "\n",
        "from __future__ import absolute_import\n",
        "from google.colab import drive, files\n",
        "import glob, logging, os, re, time, traceback, shutil, sys\n",
        "os.environ['TF_CPP_MIN_LOG_LEVEL'] = '2'\n",
        "from os.path import abspath, basename, exists, join\n",
        "from pathlib import Path\n",
        "\n",
        "import tensorflow as tf\n",
        "from tensorflow.python.profiler import profiler_client\n",
        "# from tensorflow.python.platform.tf_logging import log\n",
        "import numpy as np\n",
        "np.set_printoptions(4)\n",
        "from matplotlib import pyplot as plt\n",
        "\n",
        "contentPath=os.getcwd()\n",
        "\n",
        "try: shutil.rmtree('/content/sample_data')\n",
        "except: pass\n",
        "\n",
        "if not exists('/content/drive'):\n",
        "    drive.mount('/content/drive', force_remount=True)\n",
        "\n",
        "shutil.copy2('/content/drive/MyDrive/BashColors.py', contentPath)\n",
        "from BashColors import C\n",
        "\n",
        "AUTO = tf.data.experimental.AUTOTUNE\n",
        "\n",
        "class File(object):\n",
        "    \"\"\" \"\"\"\n",
        "    def __init__(self, filename, method):\n",
        "        self.file=open(filename, method)\n",
        "\n",
        "    def __enter__(self):\n",
        "        print(f'{C.BGreen}Enter{C.ColorOff}')\n",
        "        return self.file\n",
        "\n",
        "    def __exit__(self, type, value, traceback):\n",
        "        print(f'{type}, {value}, {traceback}')\n",
        "        print(f'{C.BIRed}Exit{C.ColorOff}')\n",
        "        self.file.close()\n",
        "        if type == Exception:\n",
        "            return True\n",
        "\n",
        "    def __str__(self):\n",
        "        return \"%s(%r)\" % (self.__class__, self.__dict__)\n",
        "print('ok')"
      ]
    },
    {
      "cell_type": "code",
      "source": [
        "with File('file.txt', 'w') as f:\n",
        "    print(f'{C.BIPurple}middle{C.ColorOff}')\n",
        "    f.write(\"bullshit\")\n",
        "    raise Exception(\"Test\")"
      ],
      "metadata": {
        "id": "tEM15RnNOewE"
      },
      "execution_count": null,
      "outputs": []
    },
    {
      "cell_type": "code",
      "source": [
        "try:\n",
        "    do_something()\n",
        "except:\n",
        "    # How can I log my exception here, complete with its traceback?\n",
        "    import traceback\n",
        "    traceback.format_exc() # this will print a complete trace to stout."
      ],
      "metadata": {
        "id": "HDAAJmRlzlFi"
      },
      "execution_count": null,
      "outputs": []
    },
    {
      "cell_type": "code",
      "source": [
        "import sys\n",
        "import logging\n",
        "\n",
        "logging.basicConfig(level=\"DEBUG\")\n",
        "\n",
        "def do_something():\n",
        "    raise ValueError(\":(\")\n",
        "\n",
        "try:\n",
        "    do_something()\n",
        "except Exception:\n",
        "    logging.debug(\"Something went wrong\", exc_info=sys.exc_info())"
      ],
      "metadata": {
        "id": "nlbdBCBX1AO3"
      },
      "execution_count": null,
      "outputs": []
    },
    {
      "cell_type": "code",
      "source": [
        "import sys\n",
        "import logging\n",
        "\n",
        "# logging.basicConfig(filename='/tmp/foobar.log')\n",
        "logSavePath=join(contentPath, 'AFU.log')\n",
        "logging.basicConfig(filename=logSavePath)\n",
        "\n",
        "def exception_hook(exc_type, exc_value, exc_traceback):\n",
        "    logging.error(\n",
        "        \"Uncaught exception\",\n",
        "        exc_info=(exc_type, exc_value, exc_traceback)\n",
        "    )\n",
        "\n",
        "sys.excepthook = exception_hook\n",
        "\n",
        "try: x=1/0\n",
        "except Exception as err:\n",
        "    print(type(err))\n",
        "    # exception_hook()\n",
        "# raise Exception('shit')"
      ],
      "metadata": {
        "id": "7SfOzApl1bIY"
      },
      "execution_count": null,
      "outputs": []
    },
    {
      "cell_type": "code",
      "source": [
        "import traceback\n",
        "import sys\n",
        "\n",
        "try:\n",
        "    do_stuff()\n",
        "except Exception:\n",
        "    print(traceback.format_exc())\n",
        "    # or\n",
        "    print(sys.exc_info()[2])\n",
        "    "
      ],
      "metadata": {
        "id": "95NJ6WYcCwKq"
      },
      "execution_count": null,
      "outputs": []
    },
    {
      "cell_type": "code",
      "source": [
        "class MyCustomError(Exception):\n",
        "    def __init__(self, err):\n",
        "        Exception.__init__(self)\n",
        "        self.error = err\n",
        "    def __str__(self):\n",
        "        return \"%r\" % self.error\n",
        "\n",
        "a = 1\n",
        "try:\n",
        "    if a != 0:\n",
        "        raise MyCustomError(\"This is an Error!\")\n",
        "except MyCustomError as err:\n",
        "    print(err)"
      ],
      "metadata": {
        "id": "R2GqiglB60VQ"
      },
      "execution_count": null,
      "outputs": []
    },
    {
      "cell_type": "code",
      "source": [
        "import logging\n",
        "\n",
        "logging.basicConfig(level=logging.DEBUG)\n",
        "\n",
        "logger = logging.getLogger(__name__)\n",
        "\n",
        "\n",
        "def SendAlert(ErrorMessage):\n",
        "    try:\n",
        "        # send email alert with error message\n",
        "        # [...]\n",
        "        pass\n",
        "    # what kind of exceptions may occur while sending email?\n",
        "    except Exception as err:\n",
        "        logger.exception('Error while sending email')\n",
        "        # we're not receiving values from this function\n",
        "        raise err\n",
        "\n",
        "\n",
        "def ParentFunction():\n",
        "    try:\n",
        "        # call ChildFunction\n",
        "        ChildResult = ChildFunction()\n",
        "\n",
        "        ParentResult = ChildResult\n",
        "        # do stuff with ChildResult\n",
        "        # [...]\n",
        "        return ParentResult\n",
        "    # FIXME: we should avoid catching too broad exception\n",
        "    except Exception as err:\n",
        "        # this will log full error traceback\n",
        "        # including `ChildFunction`\n",
        "        logger.exception('Error in ParentFunction')\n",
        "        ErrorMessage = str(err)\n",
        "        SendAlert(ErrorMessage)"
      ],
      "metadata": {
        "id": "BqTO4Nop68YV"
      },
      "execution_count": null,
      "outputs": []
    }
  ]
}