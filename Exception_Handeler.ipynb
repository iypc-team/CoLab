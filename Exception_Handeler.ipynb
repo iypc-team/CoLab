{
  "nbformat": 4,
  "nbformat_minor": 0,
  "metadata": {
    "colab": {
      "private_outputs": true,
      "provenance": [],
      "collapsed_sections": [],
      "authorship_tag": "ABX9TyPPfY5SUYPB6XSQj4kOLMg6",
      "include_colab_link": true
    },
    "kernelspec": {
      "name": "python3",
      "display_name": "Python 3"
    },
    "language_info": {
      "name": "python"
    }
  },
  "cells": [
    {
      "cell_type": "markdown",
      "metadata": {
        "id": "view-in-github",
        "colab_type": "text"
      },
      "source": [
        "<a href=\"https://colab.research.google.com/github/iypc-team/CoLab/blob/master/Exception_Handeler.ipynb\" target=\"_parent\"><img src=\"https://colab.research.google.com/assets/colab-badge.svg\" alt=\"Open In Colab\"/></a>"
      ]
    },
    {
      "cell_type": "code",
      "source": [
        "print('Updated: 10/25/2022-2')"
      ],
      "metadata": {
        "id": "VaPt2JXm2B_f"
      },
      "execution_count": null,
      "outputs": []
    },
    {
      "cell_type": "code",
      "source": [
        "dir(traceback)"
      ],
      "metadata": {
        "id": "vEr-Rb1HbxoB"
      },
      "execution_count": null,
      "outputs": []
    },
    {
      "cell_type": "code",
      "execution_count": null,
      "metadata": {
        "id": "y1zCuCX5IV6t"
      },
      "outputs": [],
      "source": [
        "# %%writefile ExceptionHandeler.py\n",
        "# Updated: 10/25/2022\n",
        "# fall back to 10/16/2022\n",
        "\n",
        "from __future__ import absolute_import\n",
        "from google.colab import drive, files\n",
        "import glob, logging, os, re, time, traceback, shutil, sys\n",
        "from traceback import *\n",
        "os.environ['TF_CPP_MIN_LOG_LEVEL'] = '2'\n",
        "from os.path import abspath, basename, exists, join\n",
        "from pathlib import Path\n",
        "\n",
        "import tensorflow as tf\n",
        "from tensorflow.python.profiler import profiler_client\n",
        "# from tensorflow.python.platform.tf_logging import log\n",
        "import numpy as np\n",
        "np.set_printoptions(4)\n",
        "from matplotlib import pyplot as plt\n",
        "\n",
        "contentPath=os.getcwd()\n",
        "\n",
        "try: shutil.rmtree('/content/sample_data')\n",
        "except: pass\n",
        "\n",
        "if not exists('/content/drive'):\n",
        "    drive.mount('/content/drive', force_remount=True)\n",
        "\n",
        "shutil.copy2('/content/drive/MyDrive/BashColors.py', contentPath)\n",
        "from BashColors import C\n",
        "\n",
        "AUTO = tf.data.experimental.AUTOTUNE\n",
        "\n",
        "class File(object):\n",
        "    \"\"\" \"\"\"\n",
        "    def __init__(self, filename, method):\n",
        "        self.file=open(filename, method)\n",
        "\n",
        "    def __enter__(self):\n",
        "        print(f'{C.BGreen}Enter{C.ColorOff}')\n",
        "        return self.file\n",
        "\n",
        "    def __exit__(self, type, value, traceback):\n",
        "        print(f'{type}, {value}, {traceback}')\n",
        "        print(f'{C.BIRed}Exit{C.ColorOff}')\n",
        "        self.file.close()\n",
        "        if type == Exception:\n",
        "            return True\n",
        "\n",
        "    def __str__(self):\n",
        "        return \"%s(%r)\" % (self.__class__, self.__dict__)\n",
        "print('ok')"
      ]
    },
    {
      "cell_type": "code",
      "source": [
        "with File('file.txt', 'w') as f:\n",
        "    print(f'{C.BIPurple}middle{C.ColorOff}')\n",
        "    f.write(\"bullshit\")\n",
        "    raise Exception(\"Test\")"
      ],
      "metadata": {
        "id": "tEM15RnNOewE"
      },
      "execution_count": null,
      "outputs": []
    },
    {
      "cell_type": "code",
      "source": [
        "try:\n",
        "    do_stuff()\n",
        "except Exception:\n",
        "    print(traceback.format_exc())\n",
        "    # or\n",
        "    # print(sys.exc_info()[2])\n",
        "\n",
        "try: f= 1/0\n",
        "except Exception:\n",
        "    print(traceback.format_exc())\n",
        "    # or\n",
        "    # print(sys.exc_info()[2])\n",
        "\n",
        "try:\n",
        "    name=max(int)\n",
        "except Exception:\n",
        "    print(traceback.format_exc())"
      ],
      "metadata": {
        "id": "wk94f4k9WifM"
      },
      "execution_count": null,
      "outputs": []
    },
    {
      "cell_type": "code",
      "source": [
        "class MyCustomError(Exception):\n",
        "    def __init__(self, err):\n",
        "        Exception.__init__(self)\n",
        "        self.error = err\n",
        "    def __str__(self):\n",
        "        return \"%r\" % self.error\n",
        "\n",
        "a = 1\n",
        "try:\n",
        "    if a != 0:\n",
        "        raise MyCustomError(\"This is an Error!\")\n",
        "except MyCustomError as err:\n",
        "    print(err)"
      ],
      "metadata": {
        "id": "R2GqiglB60VQ"
      },
      "execution_count": null,
      "outputs": []
    }
  ]
}