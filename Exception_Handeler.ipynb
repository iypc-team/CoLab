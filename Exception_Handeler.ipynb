{
  "nbformat": 4,
  "nbformat_minor": 0,
  "metadata": {
    "colab": {
      "private_outputs": true,
      "provenance": [],
      "collapsed_sections": [],
      "authorship_tag": "ABX9TyMcodaBHyXVVXNhD5UftHA0",
      "include_colab_link": true
    },
    "kernelspec": {
      "name": "python3",
      "display_name": "Python 3"
    },
    "language_info": {
      "name": "python"
    }
  },
  "cells": [
    {
      "cell_type": "markdown",
      "metadata": {
        "id": "view-in-github",
        "colab_type": "text"
      },
      "source": [
        "<a href=\"https://colab.research.google.com/github/iypc-team/CoLab/blob/master/Exception_Handeler.ipynb\" target=\"_parent\"><img src=\"https://colab.research.google.com/assets/colab-badge.svg\" alt=\"Open In Colab\"/></a>"
      ]
    },
    {
      "cell_type": "code",
      "source": [
        "print('Updated: 10/26/2022-1')"
      ],
      "metadata": {
        "id": "VaPt2JXm2B_f"
      },
      "execution_count": null,
      "outputs": []
    },
    {
      "cell_type": "code",
      "execution_count": null,
      "metadata": {
        "id": "y1zCuCX5IV6t"
      },
      "outputs": [],
      "source": [
        "# %%writefile ExceptionHandeler.py\n",
        "# Updated: 10/26/2022\n",
        "# fall back to 10/16/2022\n",
        "\n",
        "from __future__ import absolute_import\n",
        "from google.colab import drive, files\n",
        "import glob, logging, os, re, time, traceback, shutil, sys\n",
        "from traceback import *\n",
        "os.environ['TF_CPP_MIN_LOG_LEVEL'] = '2'\n",
        "from os.path import abspath, basename, exists, join\n",
        "from pathlib import Path\n",
        "\n",
        "import tensorflow as tf\n",
        "from tensorflow.python.profiler import profiler_client\n",
        "# from tensorflow.python.platform.tf_logging import log\n",
        "import numpy as np\n",
        "np.set_printoptions(4)\n",
        "from matplotlib import pyplot as plt\n",
        "\n",
        "contentPath=os.getcwd()\n",
        "\n",
        "try: shutil.rmtree('/content/sample_data')\n",
        "except: pass\n",
        "\n",
        "if not exists('/content/drive'):\n",
        "    drive.mount('/content/drive', force_remount=True)\n",
        "\n",
        "shutil.copy2('/content/drive/MyDrive/BashColors.py', contentPath)\n",
        "from BashColors import C\n",
        "\n",
        "AUTO = tf.data.experimental.AUTOTUNE\n",
        "\n",
        "class File(object):\n",
        "    \"\"\" \"\"\"\n",
        "    def __init__(self, filename, method):\n",
        "        self.file=open(filename, method)\n",
        "\n",
        "    def __enter__(self):\n",
        "        print(f'{C.BGreen}Enter{C.ColorOff}')\n",
        "        return self.file\n",
        "\n",
        "    def __exit__(self, type, value, traceback):\n",
        "        # tb= traceback.print_tb\n",
        "        print(f'{type}, {value}, {traceback}')\n",
        "        # print(tb)\n",
        "        print(f'{C.BIRed}Exit{C.ColorOff}')\n",
        "        self.file.close()\n",
        "        if type == Exception:\n",
        "            return True\n",
        "\n",
        "    def __str__(self):\n",
        "        return \"%s(%r)\" % (self.__class__, self.__dict__)\n",
        "print('ok')"
      ]
    },
    {
      "cell_type": "code",
      "source": [
        "dir(traceback)"
      ],
      "metadata": {
        "id": "vEr-Rb1HbxoB"
      },
      "execution_count": null,
      "outputs": []
    },
    {
      "cell_type": "code",
      "source": [
        "with File('file.txt', 'w') as f:\n",
        "    print(f'{C.BIPurple}middle{C.ColorOff}')\n",
        "    f.write(\"bullshit\")\n",
        "    raise Exception(\"Test\")"
      ],
      "metadata": {
        "id": "tEM15RnNOewE"
      },
      "execution_count": null,
      "outputs": []
    },
    {
      "cell_type": "code",
      "source": [
        "import sys, traceback\n",
        "\n",
        "def print_exc_plus():\n",
        "    \"\"\"\n",
        "    print(the usual traceback information, followed by a listing of all the\n",
        "    local variables in each frame.\n",
        "    \"\"\"\n",
        "    tb = sys.exc_info()[2]\n",
        "    while 1:\n",
        "        if not tb.tb_next:\n",
        "            break\n",
        "        tb = tb.tb_next\n",
        "    stack = []\n",
        "    f = tb.tb_frame\n",
        "    while f:\n",
        "        stack.append(f)\n",
        "        f = f.f_back\n",
        "    stack.reverse()\n",
        "    traceback.print_exc()\n",
        "    print(f\"{C.BIPurple}Locals by frame, innermost last\")\n",
        "    for frame in stack:\n",
        "        print(f'{C.ColorOff}')\n",
        "        print(\"Frame %s in %s at line %s\" % (frame.f_code.co_name,\n",
        "                                             frame.f_code.co_filename,\n",
        "                                             frame.f_lineno))\n",
        "        for key, value in frame.f_locals.items():\n",
        "            print(\"\\t%20s = \" % key,)\n",
        "            # We have to be VERY careful not to cause a new error in our error\n",
        "            # printer! Calling str() on an unknown object could cause an\n",
        "            # error we don't want, so we must use try/except to catch it --\n",
        "            # we can't stop it from happening, but we can and should\n",
        "            # stop it from propagating if it does happen!\n",
        "            try:\n",
        "                print(value)\n",
        "            except:\n",
        "                print(\"<ERROR WHILE PRINTING VALUE>\")\n"
      ],
      "metadata": {
        "id": "2WQMBrvHpy3d"
      },
      "execution_count": null,
      "outputs": []
    },
    {
      "cell_type": "code",
      "source": [
        "data = [\"1\", \"2\", 3, \"4\"]     # Typo: we 'forget' the quotes on data[2]\n",
        "def pad4(seq):\n",
        "    \"\"\"\n",
        "    Pad each string in seq with zeros up to four places. Note that there\n",
        "    is no reason to actually write this function; Python already\n",
        "    does this sort of thing much better. It's just an example!\n",
        "    \"\"\"\n",
        "    return_value = []\n",
        "    for thing in seq:\n",
        "        return_value.append(\"0\" * (4 - len(thing)) + thing)\n",
        "    return return_value"
      ],
      "metadata": {
        "id": "SOsql9a1tFC2"
      },
      "execution_count": null,
      "outputs": []
    },
    {
      "cell_type": "code",
      "source": [
        "try: pad4(data)\n",
        "except: print_exc_plus()"
      ],
      "metadata": {
        "id": "WCwZmjibtJiz"
      },
      "execution_count": null,
      "outputs": []
    },
    {
      "cell_type": "code",
      "source": [
        "import gc\n",
        "try:\n",
        "    calc = 10 / 0\n",
        "    # myfunc()\n",
        "except Exception:\n",
        "    type, val, tb = sys.exc_info()\n",
        "    traceback.clear_frames(tb)\n",
        "    raise type(val).with_traceback(tb)\n",
        "    if type == Exception:\n",
        "        pass\n",
        "        # return True\n",
        "bs=\"\"\"\n",
        "finally:\n",
        "    # cleanup code in here\n",
        "    print('collecting garbage')\n",
        "    gc.collect()\n",
        "\"\"\""
      ],
      "metadata": {
        "id": "HpNRCctH9R3W"
      },
      "execution_count": null,
      "outputs": []
    },
    {
      "cell_type": "code",
      "source": [
        "try:\n",
        "    do_stuff()\n",
        "except Exception:\n",
        "    print(traceback.format_exc())\n",
        "    # or\n",
        "    # print(sys.exc_info()[2])\n",
        "\n",
        "try: f= 1/0\n",
        "except Exception:\n",
        "    print(traceback.format_exc())\n",
        "    # or\n",
        "    # print(sys.exc_info()[2])\n",
        "\n",
        "try:\n",
        "    n=''\n",
        "    n+='1'\n",
        "\n",
        "    print(n)\n",
        "except Exception:\n",
        "    print(traceback.format_exc())"
      ],
      "metadata": {
        "id": "wk94f4k9WifM"
      },
      "execution_count": null,
      "outputs": []
    },
    {
      "cell_type": "code",
      "source": [
        "class MyCustomError(Exception):\n",
        "    def __init__(self, err):\n",
        "        Exception.__init__(self)\n",
        "        self.error = err\n",
        "    def __str__(self):\n",
        "        return \"%r\" % self.error\n",
        "\n",
        "a = 1\n",
        "try:\n",
        "    if a != 0:\n",
        "        raise MyCustomError(\"This is an Error!\")\n",
        "except MyCustomError as err:\n",
        "    print(err)"
      ],
      "metadata": {
        "id": "R2GqiglB60VQ"
      },
      "execution_count": null,
      "outputs": []
    },
    {
      "cell_type": "code",
      "source": [
        "import traceback\n",
        "def another_function():\n",
        "    try: z=0/0\n",
        "    except: lumberstack()\n",
        "\n",
        "def lumberstack():\n",
        "    traceback.print_stack()\n",
        "    extractStack=repr(traceback.extract_stack())\n",
        "    print(f'{C.BGreen}{extractStack}{C.ColorOff}')\n",
        "    # print(repr(traceback.extract_stack()))\n",
        "    formatStack=repr(traceback.format_stack())\n",
        "    print(f'\\n{C.BIPurple}{formatStack}{C.ColorOff}')\n",
        "\n",
        "another_function()"
      ],
      "metadata": {
        "id": "PyX5iVxTDhEY"
      },
      "execution_count": null,
      "outputs": []
    },
    {
      "cell_type": "code",
      "source": [
        "import sys, traceback\n",
        "\n",
        "def run_user_code(envdir):\n",
        "    source = input(\">>> \")\n",
        "    try:\n",
        "        exec(source, envdir)\n",
        "    except Exception:\n",
        "        print(\"Exception in user code:\")\n",
        "        print(\"-\"*60)\n",
        "        traceback.print_exc(file=sys.stdout)\n",
        "        print(\"-\"*60)\n",
        "\n",
        "envdir = {}\n",
        "while True:\n",
        "    run_user_code(envdir)"
      ],
      "metadata": {
        "id": "jWIei7monL1R"
      },
      "execution_count": null,
      "outputs": []
    },
    {
      "cell_type": "code",
      "source": [
        "import sys, traceback\n",
        "\n",
        "def lumberjack():\n",
        "    bright_side_of_life()\n",
        "\n",
        "def bright_side_of_life():\n",
        "    return tuple()[0]\n",
        "\n",
        "try:\n",
        "    lumberjack()\n",
        "except IndexError:\n",
        "    exc_type, exc_value, exc_traceback = sys.exc_info()\n",
        "    print(\"*** print_tb:\")\n",
        "    traceback.print_tb(exc_traceback, limit=1, file=sys.stdout)\n",
        "    print(\"*** print_exception:\")\n",
        "    traceback.print_exception(exc_value, limit=2, file=sys.stdout)\n",
        "    print(\"*** print_exc:\")\n",
        "    traceback.print_exc(limit=2, file=sys.stdout)\n",
        "    print(\"*** format_exc, first and last line:\")\n",
        "    formatted_lines = traceback.format_exc().splitlines()\n",
        "    print(formatted_lines[0])\n",
        "    print(formatted_lines[-1])\n",
        "    print(\"*** format_exception:\")\n",
        "    print(repr(traceback.format_exception(exc_value)))\n",
        "    print(\"*** extract_tb:\")\n",
        "    print(repr(traceback.extract_tb(exc_traceback)))\n",
        "    print(\"*** format_tb:\")\n",
        "    print(repr(traceback.format_tb(exc_traceback)))\n",
        "    print(\"*** tb_lineno:\", exc_traceback.tb_lineno)"
      ],
      "metadata": {
        "id": "jK_az_GmfAhs"
      },
      "execution_count": null,
      "outputs": []
    }
  ]
}