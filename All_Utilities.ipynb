{
  "nbformat": 4,
  "nbformat_minor": 0,
  "metadata": {
    "colab": {
      "name": "All_Utilities.ipynb",
      "provenance": [],
      "collapsed_sections": [],
      "include_colab_link": true
    },
    "kernelspec": {
      "display_name": "Python 3",
      "language": "python",
      "name": "python3"
    },
    "language_info": {
      "codemirror_mode": {
        "name": "ipython",
        "version": 3
      },
      "file_extension": ".py",
      "mimetype": "text/x-python",
      "name": "python",
      "nbconvert_exporter": "python",
      "pygments_lexer": "ipython3",
      "version": "3.7.6"
    }
  },
  "cells": [
    {
      "cell_type": "markdown",
      "metadata": {
        "id": "view-in-github",
        "colab_type": "text"
      },
      "source": [
        "<a href=\"https://colab.research.google.com/github/iypc-team/CoLab/blob/master/All_Utilities.ipynb\" target=\"_parent\"><img src=\"https://colab.research.google.com/assets/colab-badge.svg\" alt=\"Open In Colab\"/></a>"
      ]
    },
    {
      "cell_type": "code",
      "metadata": {
        "id": "6CK3OX-_1lFR",
        "outputId": "cc4ae9d1-0fb6-4dd2-e0bf-8fa011a7881b",
        "colab": {
          "base_uri": "https://localhost:8080/",
          "height": 35
        }
      },
      "source": [
        "%%writefile AllUtilities.py\n",
        "# 09/28/2020\n",
        "from __future__ import absolute_import\n",
        "\n",
        "import os\n",
        "from os.path import isfile, isdir, realpath\n",
        "from pathlib import Path\n",
        "from google.colab import drive, files\n",
        "\n",
        "class AllImports:\n",
        "    def __init__(self):\n",
        "        # self.gdrive = self.getGDrive()\n",
        "        # self.myDrive = getMyDrive()\n",
        "        pass\n",
        "\n",
        "    def getGDrive(self):\n",
        "        drive.mount('/gdrive/', force_remount=True)\n",
        "        os.chdir(\"/gdrive/My Drive\")\n",
        "        print(Path.cwd())\n",
        "\n",
        "    def importUtilities(self):\n",
        "        import BashColors\n",
        "        import FileUtilities\n",
        "        import TZInfo\n",
        "\n",
        "AllImports().getGDrive()\n",
        "print()\n",
        "# AllImports().importUtilities()"
      ],
      "execution_count": 1,
      "outputs": [
        {
          "output_type": "stream",
          "text": [
            "Overwriting AllUtilities.py\n"
          ],
          "name": "stdout"
        }
      ]
    },
    {
      "cell_type": "code",
      "metadata": {
        "id": "zhfJmExl7A6A",
        "outputId": "24ec0b19-48bd-4150-8019-260ee7da785f",
        "colab": {
          "base_uri": "https://localhost:8080/",
          "height": 71
        }
      },
      "source": [
        "import AllUtilities\n",
        "from BashColors import C\n",
        "from FileUtilities import *\n"
      ],
      "execution_count": 2,
      "outputs": [
        {
          "output_type": "stream",
          "text": [
            "Mounted at /gdrive/\n",
            "/gdrive/My Drive\n",
            "\n"
          ],
          "name": "stdout"
        }
      ]
    },
    {
      "cell_type": "code",
      "metadata": {
        "id": "H4DKsoMvrR7-",
        "outputId": "51f460b3-ea3e-4f79-f7b1-0f033bef7805",
        "colab": {
          "base_uri": "https://localhost:8080/",
          "height": 1000
        }
      },
      "source": [
        "# Import PyDrive and associated libraries.\n",
        "# This only needs to be done once per notebook.\n",
        "import pydrive\n",
        "from pydrive.auth import GoogleAuth\n",
        "from pydrive.drive import GoogleDrive\n",
        "from google.colab import auth\n",
        "from oauth2client.client import GoogleCredentials\n",
        "\n",
        "# Authenticate and create the PyDrive client.\n",
        "# This only needs to be done once per notebook.\n",
        "auth.authenticate_user()\n",
        "gauth = GoogleAuth()\n",
        "gauth.credentials = GoogleCredentials.get_application_default()\n",
        "gdrive = GoogleDrive(gauth)\n",
        "directoryDict = {}\n",
        "filesDict = {}\n",
        "# List .txt files in the root.\n",
        "# Search query reference:\n",
        "# https://developers.google.com/drive/v2/web/search-parameters\n",
        "listed = gdrive.ListFile({'q': \"title contains '*.*' and 'root' in parents\"}).GetList()\n",
        "for file in listed:\n",
        "    title = file['title']\n",
        "    fileId = file['id']\n",
        "    realPath = realpath(title)\n",
        "\n",
        "    if isdir(realPath) and not realPath.__contains__('__pycache__'):\n",
        "        directoryDict[title] = (realPath, fileId)\n",
        "        print(f'{C.Blue}{title}{C.ColorOff}')\n",
        "        print(f'path: {realPath}')\n",
        "        print(f'id: {fileId}\\n')\n",
        "    if isfile(realPath):\n",
        "        filesDict[title] = (realPath, fileId)\n",
        "        print(f'{C.Green}{title}{C.ColorOff}')\n",
        "        print(f'path: {realPath}')\n",
        "        print(f'id: {fileId}\\n')"
      ],
      "execution_count": 10,
      "outputs": [
        {
          "output_type": "stream",
          "text": [
            "\u001b[0;32mAllUtilities.py\u001b[0m\n",
            "path: /gdrive/My Drive/AllUtilities.py\n",
            "id: 1-0wAjNdED4sQZAfeabowa15Ul0RgZUb4\n",
            "\n",
            "\u001b[0;32mImportAllUtilities.py\u001b[0m\n",
            "path: /gdrive/My Drive/ImportAllUtilities.py\n",
            "id: 1ss0E-QNklFPIWTjMuJ-OPih3NURWR9Hi\n",
            "\n",
            "\u001b[0;32mGetTPU.py\u001b[0m\n",
            "path: /gdrive/My Drive/GetTPU.py\n",
            "id: 1gj5UYdXj3MmgovsCmgKJAOhFsVxY4MKC\n",
            "\n",
            "\u001b[0;32mGithubRepos.py\u001b[0m\n",
            "path: /gdrive/My Drive/GithubRepos.py\n",
            "id: 1amWEVqGDNtx0saJlYw9oP8aWQDbIAtgI\n",
            "\n",
            "\u001b[0;32mPT_Fundamentals_Cartpole.ipynb\u001b[0m\n",
            "path: /gdrive/My Drive/PT_Fundamentals_Cartpole.ipynb\n",
            "id: 1bgbqAIr7Gn-t6VQxHczMHpPlV7ug2Ews\n",
            "\n",
            "\u001b[0;32mmodel.h5\u001b[0m\n",
            "path: /gdrive/My Drive/model.h5\n",
            "id: 1hgJDh22SgtmzbyAdsQooy02rSGB9-Y3f\n",
            "\n",
            "\u001b[0;32mTPU.ipynb\u001b[0m\n",
            "path: /gdrive/My Drive/TPU.ipynb\n",
            "id: 1AI7dcQRuak0UvwCT2IEzersrVRZrcNJ6\n",
            "\n",
            "\u001b[0;34mPT\u001b[0m\n",
            "path: /gdrive/My Drive/PT\n",
            "id: 1u_gH6P3uHh7X5bX4e4q1fIAmf9c_qnA2\n",
            "\n",
            "\u001b[0;32mBashColors.py\u001b[0m\n",
            "path: /gdrive/My Drive/BashColors.py\n",
            "id: 1fzYKMsEsjvYP9orVJgzN9caMFg7TWEQk\n",
            "\n",
            "\u001b[0;32mTZInfo.py\u001b[0m\n",
            "path: /gdrive/My Drive/TZInfo.py\n",
            "id: 1bPKxKGdMJH0ZNxypirZ5oFzq3Bo5bac5\n",
            "\n",
            "\u001b[0;32mFileUtilities.py\u001b[0m\n",
            "path: /gdrive/My Drive/FileUtilities.py\n",
            "id: 1Vb4BtGfE1e2rl9IiLIG59prFJDw5dl8G\n",
            "\n",
            "\u001b[0;34mCurrentProject\u001b[0m\n",
            "path: /gdrive/My Drive/CurrentProject\n",
            "id: 14_AktnGoqDJvjGvTZdooufWaR53nmq1m\n",
            "\n",
            "\u001b[0;34mCoLab\u001b[0m\n",
            "path: /gdrive/My Drive/CoLab\n",
            "id: 1xv4ODqH_JKNiDK7WymVQPfQ9gtkv41V6\n",
            "\n",
            "\u001b[0;32mBash_Colors.ipynb\u001b[0m\n",
            "path: /gdrive/My Drive/Bash_Colors.ipynb\n",
            "id: 1JiyPq4XEE1fsk0idqBRdf52M0M6oCMVl\n",
            "\n",
            "\u001b[0;34mPythonFiles\u001b[0m\n",
            "path: /gdrive/My Drive/PythonFiles\n",
            "id: 1lT4BXbrPWKY_pBV4PrWeJHJvAjz8a0zv\n",
            "\n",
            "\u001b[0;32mFile_Utilities_2.ipynb\u001b[0m\n",
            "path: /gdrive/My Drive/File_Utilities_2.ipynb\n",
            "id: 1ALtWbZHMJL-02WsuUazD0YbVxdRLCcBl\n",
            "\n",
            "\u001b[0;34mColab Notebooks\u001b[0m\n",
            "path: /gdrive/My Drive/Colab Notebooks\n",
            "id: 1peTs5vCXHTHgb_6QrKgj2NHTH1x4VCv7\n",
            "\n",
            "\u001b[0;34mImages\u001b[0m\n",
            "path: /gdrive/My Drive/Images\n",
            "id: 19hE4JAlcj7TxdrdAqfhOQSuV1i9YZYbE\n",
            "\n",
            "\u001b[0;34mSwift\u001b[0m\n",
            "path: /gdrive/My Drive/Swift\n",
            "id: 1-ZqppCTessl49Jp9dZQIwvJoXFoF4Vx2\n",
            "\n"
          ],
          "name": "stdout"
        }
      ]
    }
  ]
}