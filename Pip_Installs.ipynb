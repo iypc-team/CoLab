{
  "nbformat": 4,
  "nbformat_minor": 0,
  "metadata": {
    "colab": {
      "name": "Pip Installs",
      "provenance": [],
      "private_outputs": true,
      "collapsed_sections": [],
      "include_colab_link": true
    },
    "kernelspec": {
      "name": "python3",
      "display_name": "Python 3"
    }
  },
  "cells": [
    {
      "cell_type": "markdown",
      "metadata": {
        "id": "view-in-github",
        "colab_type": "text"
      },
      "source": [
        "<a href=\"https://colab.research.google.com/github/iypc-team/CoLab/blob/master/Pip_Installs.ipynb\" target=\"_parent\"><img src=\"https://colab.research.google.com/assets/colab-badge.svg\" alt=\"Open In Colab\"/></a>"
      ]
    },
    {
      "cell_type": "code",
      "metadata": {
        "id": "PaqWKKdlhH64",
        "colab_type": "code",
        "colab": {}
      },
      "source": [
        "!pip3 install GitPython\n",
        "print()\n",
        "!pip3 install google\n",
        "print()\n",
        "!pip3 install google.colab\n",
        "print()"
      ],
      "execution_count": null,
      "outputs": []
    },
    {
      "cell_type": "code",
      "metadata": {
        "id": "-aGqrxxWXK4l",
        "colab_type": "code",
        "colab": {}
      },
      "source": [
        "from __future__ import absolute_import, division\n",
        "from __future__ import print_function, unicode_literals\n",
        "from IPython.display import clear_output\n",
        "\n",
        "import glob, os, pathlib, sys\n",
        "from os.path import *\n",
        "from pathlib import Path\n",
        "from git import Repo\n",
        "\n",
        "cwdDir = Path.cwd()\n",
        "repoGithub = 'https://github.com/iypc-team/CoLab'\n",
        "repoDirectory = (join(Path.cwd(), 'Repos_Directory'))\n",
        "if not exists(repoDirectory):\n",
        "    Repo.clone_from(repoGithub, repoDirectory)\n",
        "\n",
        "allFiles = glob.glob('**', recursive=True)\n",
        "\n",
        "fileCount = len(allFiles)\n",
        "print(f'{fileCount} files\\nOK')\n",
        "os.chdir(cwdDir)"
      ],
      "execution_count": null,
      "outputs": []
    },
    {
      "cell_type": "code",
      "metadata": {
        "id": "HfgCf7TLvHB6",
        "colab_type": "code",
        "colab": {}
      },
      "source": [
        "allFilesDict = {}\n",
        "fileCount = 0\n",
        "for fil in allFiles:\n",
        "    fullPath = Path(realpath(fil))\n",
        "    sysPth = realpath(fil)\n",
        "    if isdir(fullPath):\n",
        "        setSystemPath(sysPth)\n",
        "        print(f'\\n{fullPath}')\n",
        "    elif isfile(fullPath):\n",
        "        fileCount += 1\n",
        "        allFilesDict[fileCount] = fullPath\n",
        "        print(f'{fileCount}. {fullPath.name}')"
      ],
      "execution_count": null,
      "outputs": []
    },
    {
      "cell_type": "code",
      "metadata": {
        "id": "f2KYNa2cHA3I",
        "colab_type": "code",
        "colab": {}
      },
      "source": [
        "def setSystemPath(newPath=None):\n",
        "    sysPaths = sys.path.copy()\n",
        "    if not newPath in sysPaths:\n",
        "        sys.path.append(realpath(newPath))\n",
        "    else: pass\n",
        "\n",
        "\n",
        "def printSystemPaths():\n",
        "    pathCount = 0\n",
        "    sysPaths = sys.path.copy()\n",
        "    for pth in sysPaths:\n",
        "        pathCount += 1\n",
        "        print(f'{pathCount}. {pth}')\n",
        "\n",
        "printSystemPaths()"
      ],
      "execution_count": null,
      "outputs": []
    }
  ]
}