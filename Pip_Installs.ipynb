{
  "nbformat": 4,
  "nbformat_minor": 0,
  "metadata": {
    "kernelspec": {
      "display_name": "Python 3 (system-wide)",
      "language": "python",
      "name": "python3"
    },
    "language_info": {
      "codemirror_mode": {
        "name": "ipython",
        "version": 3
      },
      "file_extension": ".py",
      "mimetype": "text/x-python",
      "name": "python",
      "nbconvert_exporter": "python",
      "pygments_lexer": "ipython3",
      "version": "3.6.9"
    },
    "colab": {
      "name": "Copy of Pip_Installs.ipynb",
      "provenance": [],
      "private_outputs": true,
      "collapsed_sections": [],
      "include_colab_link": true
    }
  },
  "cells": [
    {
      "cell_type": "markdown",
      "metadata": {
        "id": "view-in-github",
        "colab_type": "text"
      },
      "source": [
        "<a href=\"https://colab.research.google.com/github/iypc-team/CoLab/blob/master/Pip_Installs.ipynb\" target=\"_parent\"><img src=\"https://colab.research.google.com/assets/colab-badge.svg\" alt=\"Open In Colab\"/></a>"
      ]
    },
    {
      "cell_type": "code",
      "metadata": {
        "id": "zHjz9sT6QQ-t",
        "colab_type": "code",
        "colab": {}
      },
      "source": [
        "# 06/29/2020\n",
        "class ColorUtil:\n",
        "    LITE = '\\033[90m'\n",
        "    HEADER = '\\033[95m'\n",
        "    BLUE = '\\033[94m'\n",
        "    YELLOW = '\\033[93m'\n",
        "    GREEN = '\\033[92m'\n",
        "    RED = '\\033[91m'\n",
        "    WHITE = '\\033[0m'\n",
        "    DARK = '\\033[4m'\n",
        "    UNDERLINE = '\\033[4m'\n",
        "    BOLD = '\\033[1m'\n",
        "\n",
        "    test = '\\033[7m'\n",
        "\n",
        "C = ColorUtil\n",
        "print(f'{C.GREEN}OK')"
      ],
      "execution_count": null,
      "outputs": []
    },
    {
      "cell_type": "code",
      "metadata": {
        "id": "MTSyNmijBGJn",
        "colab_type": "code",
        "colab": {}
      },
      "source": [
        "\n",
        "!pip3 install numpy\n",
        "print(f'{C.GREEN} installed numpy OK{C.WHITE}\\n')\n",
        "!pip3 install matplotlib\n",
        "print(f'{C.GREEN}installed matplotlib OK{C.WHITE}\\n')\n",
        "!pip3 install gym\n",
        "print(f'{C.GREEN}installed gym OK{C.WHITE}\\n')\n",
        "\n",
        "!pip3 install GitPython\n",
        "print(f'{C.GREEN}installed GitPython OK{C.WHITE}\\n')\n",
        "!pip3 install google\n",
        "print(f'{C.GREEN}installed google OK{C.WHITE}\\n')\n",
        "!pip3 install google.colab\n",
        "print(f'{C.GREEN}installed google.colab OK{C.WHITE}\\n')\n",
        "!pip3 install tensorflow\n",
        "print(f'{C.GREEN}installed tensorflow OK{C.WHITE}\\n')"
      ],
      "execution_count": null,
      "outputs": []
    },
    {
      "cell_type": "code",
      "metadata": {
        "id": "nGNYL60Ne3Tk",
        "colab_type": "code",
        "colab": {}
      },
      "source": [
        "\n",
        "import git, glob, os, pathlib, sys\n",
        "from pathlib import Path\n",
        "from os.path import *\n",
        "from google.colab import drive\n",
        "from git import Repo\n",
        "\n",
        "cwdPath = Path.cwd()\n",
        "\n",
        "allFiles = glob.glob('**', recursive=True)\n",
        "\n",
        "allFilesDict = {}\n",
        "fileCount = 0\n",
        "for fil in sorted(allFiles):\n",
        "    fullPath = Path(realpath(fil))  # PosixPath\n",
        "    if isdir(fullPath):\n",
        "        sys.path.append(realpath(fil))\n",
        "        print(f'\\n{C.BLUE}{fullPath}')\n",
        "    \n",
        "    elif isfile(fullPath):\n",
        "        fileCount += 1\n",
        "        allFilesDict[fileCount] = fullPath\n",
        "        print(f'{C.WHITE}{fileCount}. {fullPath.name}') \n",
        "        "
      ],
      "execution_count": null,
      "outputs": []
    }
  ]
}