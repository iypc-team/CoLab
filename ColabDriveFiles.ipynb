{
  "nbformat": 4,
  "nbformat_minor": 0,
  "metadata": {
    "colab": {
      "name": "ColabDriveFiles.ipynb",
      "private_outputs": true,
      "provenance": [],
      "collapsed_sections": [],
      "machine_shape": "hm",
      "include_colab_link": true
    },
    "kernelspec": {
      "display_name": "Python 3",
      "name": "python3"
    },
    "gpuClass": "standard"
  },
  "cells": [
    {
      "cell_type": "markdown",
      "metadata": {
        "id": "view-in-github",
        "colab_type": "text"
      },
      "source": [
        "<a href=\"https://colab.research.google.com/github/iypc-team/CoLab/blob/master/ColabDriveFiles.ipynb\" target=\"_parent\"><img src=\"https://colab.research.google.com/assets/colab-badge.svg\" alt=\"Open In Colab\"/></a>"
      ]
    },
    {
      "cell_type": "code",
      "source": [
        "import os, shutil\n",
        "from os.path import *\n",
        "\n",
        "contentPath=os.getcwd()\n",
        "print(contentPath)\n",
        "bullshitPath = join(contentPath,'sample_data')\n",
        "if exists(bullshitPath):\n",
        "    shutil.rmtree(bullshitPath)"
      ],
      "metadata": {
        "id": "OjvrcN60P5-e"
      },
      "execution_count": null,
      "outputs": []
    },
    {
      "cell_type": "code",
      "metadata": {
        "id": "W653uRDOVjVQ"
      },
      "source": [
        "import os\n",
        "from pathlib import Path\n",
        "from google.colab import drive\n",
        "drive.mount('/content/drive', force_remount=True)\n",
        "os.chdir('/content/drive/My Drive/PythonFiles')\n",
        "print(f'cwd: {Path.cwd()}')\n",
        "%ls -l\n",
        "os.chdir(contentPath)"
      ],
      "execution_count": null,
      "outputs": []
    },
    {
      "cell_type": "code",
      "metadata": {
        "id": "M63MiB75IY3K"
      },
      "source": [
        "print(contentPath)\n",
        "impPath = '/content/drive/MyDrive/BashColors.py'\n",
        "print(impPath)\n",
        "shutil.copy2(impPath, contentPath)\n",
        "# import ColabDriveFiles"
      ],
      "execution_count": null,
      "outputs": []
    },
    {
      "cell_type": "code",
      "metadata": {
        "id": "qviA-Kg6erBO"
      },
      "source": [
        "%%writefile ColabDriveFiles.py\n",
        "# created: 12/05/2020\n",
        "# updated: 08/08/2022\n",
        "from __future__ import absolute_import\n",
        "import os, shutil, sys\n",
        "from os.path import *\n",
        "from glob import glob\n",
        "from pathlib import Path\n",
        "from BashColors import C\n",
        "\n",
        "class ColabDriveFiles:\n",
        "    '''List all files in Collab '''\n",
        "    def __init__(self):\n",
        "        self.cdf=None\n",
        "        self.contentPth='/content'\n",
        "        self.drivePth='/content/drive'\n",
        "        self.myDrivePth='/content/drive/My Drive'\n",
        "        self.pythonFilesPth='/content/drive/My Drive/PythonFiles'\n",
        "\n",
        "        self.allDirectoriesDict={}\n",
        "        self.allFilesDict={}\n",
        "        self.allFiles=self.updateFileList().copy()\n",
        "\n",
        "    def clearAllCaches(self):\n",
        "        '''clear all __pycache__ and content'''\n",
        "        all_files = self.allFiles\n",
        "        for fil in all_files:\n",
        "            if isdir(fil) and fil.__contains__('__pycache__'):\n",
        "                cache_pth=realpath(fil)\n",
        "                print(f'{C.IRed}{cache_pth}')\n",
        "                shutil.rmtree(fil)\n",
        "            else: pass\n",
        "\n",
        "    def cleanDrive(self):\n",
        "        '''removes sample_data directory and contents'''\n",
        "        os.chdir('/content')\n",
        "        delete_path='/content/sample_data'\n",
        "        if exists(delete_path):\n",
        "            shutil.rmtree(delete_path)\n",
        "            self.updateFileList()\n",
        "        else: pass\n",
        "\n",
        "    def updateFileList(self):\n",
        "        '''Updates self.allFiles'''\n",
        "        os.chdir('/content')\n",
        "        file_list=glob('**', recursive=True)\n",
        "        return file_list\n",
        "\n",
        "    def listColabFiles(self, silent=False):\n",
        "        '''List all files available in Collab\n",
        "        populate self.allDirectoriesDict\n",
        "        populate self.allFilesDict'''\n",
        "        dirCount=1\n",
        "        dirDict={}\n",
        "        fileCount=0\n",
        "        fileDict={}\n",
        "        self.updateFileList()\n",
        "        if not '/content' in sys.path.copy():\n",
        "            sys.path.append('/content')\n",
        "        if dirCount==1 and dirDict=={}:\n",
        "            dirDict[1]='/content'\n",
        "        else: pass\n",
        "        if not silent:\n",
        "            print(f'{C.Blue}{Path.cwd()}')\n",
        "        for fil in sorted(self.allFiles):\n",
        "            fullPath=abspath(fil)\n",
        "            if isdir(fullPath) and not fullPath.__contains__('__pycache__'):\n",
        "                if not fullPath in sys.path.copy():\n",
        "                    sys.path.append(fullPath)\n",
        "                dirCount+=1\n",
        "                dirDict[dirCount]=fullPath\n",
        "                if not silent:\n",
        "                    print(f'\\n{C.Blue}{fullPath}')\n",
        "            elif isfile(fullPath) and not fullPath.__contains__('__pycache__'):\n",
        "                fileCount+=1\n",
        "                fileDict[fileCount]=fullPath\n",
        "                if not silent:\n",
        "                    print(f'{C.White}{fileCount}. {basename(fullPath)}')\n",
        "        self.allDirectoriesDict=dirDict.copy()\n",
        "        self.allFilesDict=fileDict.copy()\n",
        "\n",
        "    def printSystemPaths(self):\n",
        "        '''list system paths'''\n",
        "        pathCount=0\n",
        "        sysPaths=sys.path.copy()\n",
        "        sysPaths=sorted(sysPaths)\n",
        "        for pth in sysPaths:\n",
        "            pathCount+=1\n",
        "            print(f'{pathCount}. {C.Blue}{pth}')\n",
        "\n",
        "cdf=ColabDriveFiles()"
      ],
      "execution_count": null,
      "outputs": []
    },
    {
      "cell_type": "code",
      "source": [
        "from ColabDriveFiles import *\n",
        "cdf.listColabFiles()"
      ],
      "metadata": {
        "id": "5VhYzOjif-fb"
      },
      "execution_count": null,
      "outputs": []
    }
  ]
}