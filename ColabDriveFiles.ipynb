{
  "nbformat": 4,
  "nbformat_minor": 0,
  "metadata": {
    "accelerator": "TPU",
    "colab": {
      "name": "ColabDriveFiles.ipynb",
      "private_outputs": true,
      "provenance": [],
      "collapsed_sections": [],
      "machine_shape": "hm",
      "include_colab_link": true
    },
    "kernelspec": {
      "display_name": "Python 3",
      "name": "python3"
    }
  },
  "cells": [
    {
      "cell_type": "markdown",
      "metadata": {
        "id": "view-in-github",
        "colab_type": "text"
      },
      "source": [
        "<a href=\"https://colab.research.google.com/github/iypc-team/CoLab/blob/master/ColabDriveFiles.ipynb\" target=\"_parent\"><img src=\"https://colab.research.google.com/assets/colab-badge.svg\" alt=\"Open In Colab\"/></a>"
      ]
    },
    {
      "cell_type": "code",
      "metadata": {
        "id": "W653uRDOVjVQ"
      },
      "source": [
        "import os\n",
        "from pathlib import Path\n",
        "from google.colab import drive\n",
        "drive.mount('/content/drive', force_remount=True)\n",
        "os.chdir('/content/drive/My Drive/PythonFiles')\n",
        "print(f'cwd: {Path.cwd()}')"
      ],
      "execution_count": null,
      "outputs": []
    },
    {
      "cell_type": "code",
      "metadata": {
        "id": "qviA-Kg6erBO"
      },
      "source": [
        "%%writefile ColabDriveFiles.py\n",
        "# 11/14/2020\n",
        "from __future__ import absolute_import\n",
        "import os, sys\n",
        "from os.path import *\n",
        "from glob import glob\n",
        "from pathlib import Path\n",
        "from BashColors import C\n",
        "\n",
        "class ColabDriveFiles:\n",
        "    '''List all files in Collab '''\n",
        "    def __init__(self):\n",
        "        self.cdf=None\n",
        "        self.allDirectoriesDict={}\n",
        "        self.allFilesDict={}\n",
        "        self.allFiles=self.updateFileList()\n",
        "\n",
        "    def updateFileList(self):\n",
        "        '''Updates self.allFiles'''\n",
        "        os.chdir('/content')\n",
        "        fileList=glob('**', recursive=True)\n",
        "        return fileList\n",
        "\n",
        "    def listColabFiles(self, silent=False):\n",
        "        '''List all files available in Collab\n",
        "        populate self.allDirectoriesDict\n",
        "        populate self.allFilesDict'''\n",
        "        dirCount=1\n",
        "        dirDict={}\n",
        "        fileCount=0\n",
        "        fileDict={}\n",
        "        self.updateFileList()\n",
        "        if not '/content' in sys.path.copy():\n",
        "            sys.path.append('/content')\n",
        "        if dirCount==1 and dirDict=={}:\n",
        "            dirDict[1]='/content'\n",
        "        else: pass\n",
        "        if not silent:\n",
        "            print(f'{C.Blue}{Path.cwd()}')\n",
        "        for fil in sorted(self.allFiles):\n",
        "            fullPath=abspath(fil)\n",
        "            if isdir(fullPath) and not fullPath.__contains__('__pycache__'):\n",
        "                if not fullPath in sys.path.copy():\n",
        "                    sys.path.append(fullPath)\n",
        "                dirCount+=1\n",
        "                dirDict[dirCount]=fullPath\n",
        "                if not silent:\n",
        "                    print(f'\\n{C.Blue}{fullPath}')\n",
        "            elif isfile(fullPath) and not fullPath.__contains__('__pycache__'):\n",
        "                fileCount+=1\n",
        "                fileDict[fileCount]=fullPath\n",
        "                if not silent:\n",
        "                    print(f'{C.White}{fileCount}. {basename(fullPath)}')\n",
        "        self.allDirectoriesDict=dirDict.copy()\n",
        "        self.allFilesDict=fileDict.copy()\n",
        "\n",
        "    def printSystemPaths(self):\n",
        "        pathCount=0\n",
        "        sysPaths=sys.path.copy()\n",
        "        sysPaths=sorted(sysPaths)\n",
        "        for pth in sysPaths:\n",
        "            pathCount+=1\n",
        "            print(f'{C.Blue}{pathCount}. {pth}')\n",
        "\n",
        "cdf=ColabDriveFiles()\n",
        "cdf.listColabFiles(silent=True)"
      ],
      "execution_count": null,
      "outputs": []
    },
    {
      "cell_type": "code",
      "metadata": {
        "id": "YvDSB41PpqJZ"
      },
      "source": [
        "import ImportDriveFiles\n",
        "from ColabDriveFiles import *\n",
        "cdf.allDirectoriesDict"
      ],
      "execution_count": null,
      "outputs": []
    }
  ]
}