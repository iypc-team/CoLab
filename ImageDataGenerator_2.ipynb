{
  "nbformat": 4,
  "nbformat_minor": 5,
  "metadata": {
    "kernelspec": {
      "display_name": "Python 3",
      "language": "python",
      "name": "python3"
    },
    "language_info": {
      "codemirror_mode": {
        "name": "ipython",
        "version": 3
      },
      "file_extension": ".py",
      "mimetype": "text/x-python",
      "name": "python",
      "nbconvert_exporter": "python",
      "pygments_lexer": "ipython3",
      "version": "3.7.9"
    },
    "colab": {
      "name": "ImageDataGenerator_2.ipynb",
      "private_outputs": true,
      "provenance": [],
      "collapsed_sections": [],
      "include_colab_link": true
    }
  },
  "cells": [
    {
      "cell_type": "markdown",
      "metadata": {
        "id": "view-in-github",
        "colab_type": "text"
      },
      "source": [
        "<a href=\"https://colab.research.google.com/github/iypc-team/CoLab/blob/master/ImageDataGenerator_2.ipynb\" target=\"_parent\"><img src=\"https://colab.research.google.com/assets/colab-badge.svg\" alt=\"Open In Colab\"/></a>"
      ]
    },
    {
      "cell_type": "code",
      "metadata": {
        "id": "significant-texas"
      },
      "source": [
        "import os, shutil\n",
        "import tensorflow as tf\n",
        "import tensorflow.keras as keras\n",
        "import PIL\n",
        "from os.path import *\n",
        "from google.colab import drive, files\n",
        "\n",
        "contentPth=os.getcwd()\n",
        "deletePth = join(contentPth, 'sample_data')\n",
        "if exists(deletePth):\n",
        "    shutil.rmtree(deletePth)\n",
        "drive.mount('/content/gdrive', force_remount=True)\n",
        "myDrivePth = join('/content/gdrive/MyDrive')\n",
        "imagePth = join(myDrivePth, 'Tensorflow Images')\n",
        "destinationPth = join(contentPth, 'img')\n",
        "shutil.copytree(src=imagePth, dst=destinationPth)\n",
        "files.view(contentPth)"
      ],
      "id": "significant-texas",
      "execution_count": null,
      "outputs": []
    },
    {
      "cell_type": "code",
      "metadata": {
        "id": "confirmed-bulletin"
      },
      "source": [
        "from tensorflow.keras.preprocessing.image import ImageDataGenerator\n",
        "\n",
        "datagen = ImageDataGenerator(\n",
        "        rotation_range=40,\n",
        "        width_shift_range=0.2,\n",
        "        height_shift_range=0.2,\n",
        "        rescale=1./255,\n",
        "        shear_range=0.2,\n",
        "        zoom_range=0.2,\n",
        "        horizontal_flip=True,\n",
        "        fill_mode='nearest')"
      ],
      "id": "confirmed-bulletin",
      "execution_count": null,
      "outputs": []
    },
    {
      "cell_type": "code",
      "metadata": {
        "id": "qualified-spider"
      },
      "source": [
        "from tensorflow.keras.preprocessing.image import ImageDataGenerator, array_to_img, img_to_array, load_img\n",
        "\n",
        "datagen = ImageDataGenerator(\n",
        "        rotation_range=40,\n",
        "        width_shift_range=0.2,\n",
        "        height_shift_range=0.2,\n",
        "        shear_range=0.2,\n",
        "        zoom_range=0.2,\n",
        "        horizontal_flip=True,\n",
        "        fill_mode='nearest')\n",
        "\n",
        "# img = load_img('data/train/cats/cat.0.jpg')  # this is a PIL image\n",
        "imagePth = os.path.join(os.getcwd(), 'Friendly1.png')\n",
        "img = load_img(path=imagePth,\n",
        "               grayscale=False,\n",
        "               color_mode='rgb',\n",
        "               target_size=(224, 224),\n",
        "               interpolation='nearest')\n",
        "x = img_to_array(img)  # this is a Numpy array with shape (3, 150, 150)\n",
        "x = x.reshape((1,) + x.shape)  # this is a Numpy array with shape (1, 3, 150, 150)\n",
        "\n",
        "# the .flow() command below generates batches of randomly transformed images\n",
        "# and saves the results to the `preview/` directory\n",
        "i = 0\n",
        "for batch in datagen.flow(x,\n",
        "                          batch_size=1,\n",
        "                          save_to_dir=os.path.join(os.getcwd(), 'preview'),\n",
        "                          save_prefix='friendly',\n",
        "                          save_format='png'):\n",
        "    i += 1\n",
        "    if i > 20:\n",
        "        break  # otherwise the generator would loop indefinitely"
      ],
      "id": "qualified-spider",
      "execution_count": null,
      "outputs": []
    },
    {
      "cell_type": "code",
      "metadata": {
        "id": "zmyjUL65VxtN"
      },
      "source": [
        "help(load_img)\r\n",
        "\r\n",
        "PIL.Image.ImageMode.getmode()"
      ],
      "id": "zmyjUL65VxtN",
      "execution_count": null,
      "outputs": []
    }
  ]
}