{
  "nbformat": 4,
  "nbformat_minor": 5,
  "metadata": {
    "kernelspec": {
      "display_name": "Python 3",
      "language": "python",
      "name": "python3"
    },
    "language_info": {
      "codemirror_mode": {
        "name": "ipython",
        "version": 3
      },
      "file_extension": ".py",
      "mimetype": "text/x-python",
      "name": "python",
      "nbconvert_exporter": "python",
      "pygments_lexer": "ipython3",
      "version": "3.7.9"
    },
    "colab": {
      "name": "ImageDataGenerator_2.ipynb",
      "private_outputs": true,
      "provenance": [],
      "collapsed_sections": [],
      "include_colab_link": true
    }
  },
  "cells": [
    {
      "cell_type": "markdown",
      "metadata": {
        "id": "view-in-github",
        "colab_type": "text"
      },
      "source": [
        "<a href=\"https://colab.research.google.com/github/iypc-team/CoLab/blob/master/ImageDataGenerator_2.ipynb\" target=\"_parent\"><img src=\"https://colab.research.google.com/assets/colab-badge.svg\" alt=\"Open In Colab\"/></a>"
      ]
    },
    {
      "cell_type": "code",
      "metadata": {
        "id": "significant-texas"
      },
      "source": [
        "import glob, imageio, os, shutil\n",
        "import tensorflow as tf\n",
        "import tensorflow.keras as keras\n",
        "import PIL\n",
        "from os.path import *\n",
        "from google.colab import drive, files\n",
        "\n",
        "contentPth=os.getcwd()\n",
        "deletePth = join(contentPth, 'sample_data')\n",
        "if exists(deletePth):\n",
        "    shutil.rmtree(deletePth)\n",
        "drive.mount('/content/gdrive', force_remount=True)\n",
        "myDrivePth = join('/content/gdrive/MyDrive')\n",
        "imagePth = join(myDrivePth, 'Tensorflow Images')\n",
        "destinationPth = join(contentPth, 'images')\n",
        "if not exists(destinationPth):\n",
        "    shutil.copytree(src=imagePth, dst=destinationPth)\n",
        "# files.view(os.getcwd())"
      ],
      "id": "significant-texas",
      "execution_count": null,
      "outputs": []
    },
    {
      "cell_type": "code",
      "metadata": {
        "id": "confirmed-bulletin"
      },
      "source": [
        "from tensorflow.keras.preprocessing.image import ImageDataGenerator\n",
        "\n",
        "datagen = ImageDataGenerator(\n",
        "        rotation_range=90,\n",
        "        width_shift_range=0.2,\n",
        "        height_shift_range=0.2,\n",
        "        rescale=1./255,\n",
        "        shear_range=0.2,\n",
        "        zoom_range=0.2,\n",
        "        horizontal_flip=True,\n",
        "        fill_mode='nearest')"
      ],
      "id": "confirmed-bulletin",
      "execution_count": null,
      "outputs": []
    },
    {
      "cell_type": "code",
      "metadata": {
        "id": "qualified-spider"
      },
      "source": [
        "from tensorflow.keras.preprocessing.image import ImageDataGenerator\n",
        "from tensorflow.keras.preprocessing.image import array_to_img, img_to_array, load_img\n",
        "\n",
        "datagen = ImageDataGenerator(\n",
        "        rotation_range=180,\n",
        "        width_shift_range=0.2,\n",
        "        height_shift_range=0.2,\n",
        "        shear_range=0.2,\n",
        "        zoom_range=0.2,\n",
        "        horizontal_flip=True,\n",
        "        fill_mode='nearest')\n",
        "\n",
        "# img = load_img('data/train/cats/cat.0.jpg')  # this is a PIL image\n",
        "imagePth = join('/content/images/Friendly/000_friendly.png')\n",
        "originalFileName = basename(imagePth)\n",
        "newFileName = splitext(originalFileName)[0] + '_augmented'\n",
        "# print(newFileName)\n",
        "\n",
        "img = load_img(path=imagePth,\n",
        "               grayscale=False,\n",
        "               color_mode='rgb',\n",
        "               target_size=(150, 150),\n",
        "               interpolation='nearest')\n",
        "x = img_to_array(img)  # this is a Numpy array with shape (3, 150, 150)\n",
        "x = x.reshape((1,) + x.shape)  # this is a Numpy array with shape (1, 3, 150, 150)\n",
        "\n",
        "# the .flow() command below generates batches of randomly transformed images\n",
        "# and saves the results to the `preview/` directory\n",
        "i = 0\n",
        "for batch in datagen.flow(x,\n",
        "                          batch_size=1,\n",
        "                          save_to_dir = contentPth,\n",
        "                          save_prefix = newFileName,\n",
        "                          save_format = 'png'):\n",
        "    # print(batch)\n",
        "    i += 1\n",
        "    if i > 20:\n",
        "        break  # otherwise the generator would loop indefinitely"
      ],
      "id": "qualified-spider",
      "execution_count": null,
      "outputs": []
    },
    {
      "cell_type": "code",
      "metadata": {
        "id": "sF_LO0GS7BZj"
      },
      "source": [
        "augmentedImageList = glob.glob('*.png')\r\n",
        "counter=0\r\n",
        "for img in sorted(augmentedImageList):\r\n",
        "    filePth = abspath(img)\r\n",
        "    if isdir(filePth):\r\n",
        "        pass\r\n",
        "    elif isfile(filePth) and exists(filePth):\r\n",
        "        counter+=1\r\n",
        "        print(f'{counter}. {filePth}')\r\n",
        "        # os.remove(filePth)\r\n"
      ],
      "id": "sF_LO0GS7BZj",
      "execution_count": null,
      "outputs": []
    },
    {
      "cell_type": "code",
      "metadata": {
        "id": "YTLtxcDETwo5"
      },
      "source": [
        "for fil in augmentedImageList:\r\n",
        "    sourcePth = abspath(fil)\r\n",
        "    datasetDirectory = join(contentPth, 'dataset')\r\n",
        "    if not exists(datasetDirectory):\r\n",
        "        os.makedirs(datasetDirectory)\r\n",
        "\r\n",
        "    shutil.copy2(src=sourcePth,\r\n",
        "                 dst=datasetDirectory)\r\n",
        "    os.remove(sourcePth)\r\n",
        "files.view(datasetDirectory)"
      ],
      "id": "YTLtxcDETwo5",
      "execution_count": null,
      "outputs": []
    },
    {
      "cell_type": "code",
      "metadata": {
        "id": "c5cXSLuWiZIn"
      },
      "source": [
        "imgPth = join(contentPth, 'images')\r\n",
        "print(f'{imgPth}\\n')\r\n",
        "\r\n",
        "train_ds = keras.preprocessing.image_dataset_from_directory(\r\n",
        "    imgPth,\r\n",
        ")\r\n",
        "print(train_ds.class_names[0])\r\n",
        "print(train_ds.class_names[1])"
      ],
      "id": "c5cXSLuWiZIn",
      "execution_count": null,
      "outputs": []
    }
  ]
}