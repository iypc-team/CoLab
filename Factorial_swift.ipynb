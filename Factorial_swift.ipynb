{
  "nbformat": 4,
  "nbformat_minor": 0,
  "metadata": {
    "colab": {
      "name": "Factorial_swift.ipynb",
      "version": "0.3.2",
      "provenance": [],
      "collapsed_sections": [],
      "include_colab_link": true
    },
    "kernelspec": {
      "name": "swift",
      "display_name": "Swift"
    }
  },
  "cells": [
    {
      "cell_type": "markdown",
      "metadata": {
        "id": "view-in-github",
        "colab_type": "text"
      },
      "source": [
        "<a href=\"https://colab.research.google.com/github/iypc-team/CoLab/blob/master/Factorial_swift.ipynb\" target=\"_parent\"><img src=\"https://colab.research.google.com/assets/colab-badge.svg\" alt=\"Open In Colab\"/></a>"
      ]
    },
    {
      "cell_type": "code",
      "metadata": {
        "id": "EgI0gsf6IuoT",
        "colab_type": "code",
        "outputId": "79e246ca-88c2-4097-a9b2-6a8deab58813",
        "colab": {
          "base_uri": "https://localhost:8080/",
          "height": 107
        }
      },
      "source": [
        "\n",
        "import Foundation\n",
        "import Dispatch\n",
        "\n",
        "var globalQueue = DispatchQueue.init(label: \"com.iypc.globalQueue\", qos: .default, attributes: .concurrent, autoreleaseFrequency: .inherit, target: nil)\n",
        "\n",
        "//. print(globalQueue.label, \"\\n\")\n",
        "\n",
        "var x: Double!\n",
        "var y: Double!\n",
        "var z: String!\n",
        "var f: UInt64\n",
        "\n",
        "func fact(factorialNumber: UInt64) -> UInt64 {\n",
        "  var  value:UInt64 = 0\n",
        "  var tempValue = value\n",
        "  if factorialNumber == 0 {\n",
        "    value = UInt64(1)\n",
        "  }\n",
        "  else if factorialNumber > 0 {\n",
        "    value = 0\n",
        "    for increment in 1...factorialNumber - 1 {\n",
        "      print(\"increment:\",increment,\" \", value)\n",
        "      tempValue = (factorialNumber * (factorialNumber - increment))\n",
        "      value = factorialNumber * tempValue\n",
        "    }\n",
        "  }\n",
        "  return value\n",
        "}\n",
        "\n",
        "var num = fact(factorialNumber: 5)\n",
        "print(num)\n"
      ],
      "execution_count": 0,
      "outputs": [
        {
          "output_type": "stream",
          "text": [
            "increment: 1   0\r\n",
            "increment: 2   100\r\n",
            "increment: 3   75\r\n",
            "increment: 4   50\r\n",
            "25\r\n"
          ],
          "name": "stdout"
        }
      ]
    }
  ]
}