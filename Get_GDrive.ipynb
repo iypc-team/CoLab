{
  "nbformat": 4,
  "nbformat_minor": 0,
  "metadata": {
    "colab": {
      "name": "Get_GDrive.ipynb",
      "provenance": [],
      "private_outputs": true,
      "collapsed_sections": [],
      "include_colab_link": true
    },
    "kernelspec": {
      "display_name": "Python 3",
      "name": "python3"
    },
    "accelerator": "TPU"
  },
  "cells": [
    {
      "cell_type": "markdown",
      "metadata": {
        "id": "view-in-github",
        "colab_type": "text"
      },
      "source": [
        "<a href=\"https://colab.research.google.com/github/iypc-team/CoLab/blob/master/Get_GDrive.ipynb\" target=\"_parent\"><img src=\"https://colab.research.google.com/assets/colab-badge.svg\" alt=\"Open In Colab\"/></a>"
      ]
    },
    {
      "cell_type": "code",
      "metadata": {
        "id": "WMWprPfoleFF"
      },
      "source": [
        "%%writefile GetGDrive.py\n",
        "# 10/23/2020\n",
        "import os\n",
        "from google.colab import drive, files\n",
        "from pathlib import Path\n",
        "class GetGDrive:\n",
        "    '''Initialize Google Drive'''\n",
        "    import os\n",
        "    from google.colab import drive, files\n",
        "    from pathlib import Path\n",
        "\n",
        "    def __init__(self):\n",
        "        '''initialization'''\n",
        "        self.getGD = None\n",
        "        self.gDrive = self.getDrive()\n",
        "\n",
        "    def getDrive(self):\n",
        "        '''mount Google drive at /gdrive/'''\n",
        "        self.gDrive = drive.mount('/gdrive', force_remount=True)\n",
        "\n",
        "    def getMy_Drive(self):\n",
        "        '''Changes directory to  /gdrive/My Drive/'''\n",
        "        os.chdir('/gdrive/My Drive')\n",
        "        print(f'cwd: {Path.cwd()}')\n",
        "\n",
        "getGD = GetGDrive()"
      ],
      "execution_count": null,
      "outputs": []
    },
    {
      "cell_type": "code",
      "metadata": {
        "id": "cUA-xGTLnL2U"
      },
      "source": [
        "import GetGDrive\n",
        "from GetGDrive import *\n",
        "getGD.getDrive()\n",
        "getGD.getMy_Drive()"
      ],
      "execution_count": null,
      "outputs": []
    },
    {
      "cell_type": "code",
      "metadata": {
        "id": "o3W1A_D3n_EX"
      },
      "source": [
        ""
      ],
      "execution_count": null,
      "outputs": []
    }
  ]
}