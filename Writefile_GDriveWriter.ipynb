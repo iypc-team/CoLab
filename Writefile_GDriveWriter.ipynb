{
  "cells": [
    {
      "cell_type": "markdown",
      "metadata": {
        "id": "view-in-github",
        "colab_type": "text"
      },
      "source": [
        "<a href=\"https://colab.research.google.com/github/iypc-team/CoLab/blob/master/Writefile_GDriveWriter.ipynb\" target=\"_parent\"><img src=\"https://colab.research.google.com/assets/colab-badge.svg\" alt=\"Open In Colab\"/></a>"
      ]
    },
    {
      "cell_type": "code",
      "execution_count": 1,
      "id": "74435392",
      "metadata": {
        "id": "74435392"
      },
      "outputs": [],
      "source": [
        "# %pip install exporters"
      ]
    },
    {
      "cell_type": "code",
      "execution_count": 3,
      "id": "d7b948ca",
      "metadata": {
        "colab": {
          "base_uri": "https://localhost:8080/",
          "height": 695
        },
        "id": "d7b948ca",
        "outputId": "b59ab40a-8a8d-4f81-a023-9488d493edf4"
      },
      "outputs": [
        {
          "output_type": "stream",
          "name": "stdout",
          "text": [
            "Looking in indexes: https://pypi.org/simple, https://us-python.pkg.dev/colab-wheels/public/simple/\n",
            "Collecting exporters\n",
            "  Downloading exporters-0.7.0.tar.gz (59 kB)\n",
            "\u001b[K     |████████████████████████████████| 59 kB 3.5 MB/s \n",
            "\u001b[?25hRequirement already satisfied: six in /usr/local/lib/python3.7/dist-packages (from exporters) (1.15.0)\n",
            "Collecting retrying\n",
            "  Downloading retrying-1.3.3.tar.gz (10 kB)\n",
            "Requirement already satisfied: requests in /usr/local/lib/python3.7/dist-packages (from exporters) (2.23.0)\n",
            "Requirement already satisfied: PyYAML in /usr/local/lib/python3.7/dist-packages (from exporters) (6.0)\n",
            "Requirement already satisfied: decorator in /usr/local/lib/python3.7/dist-packages (from exporters) (4.4.2)\n",
            "Requirement already satisfied: idna<3,>=2.5 in /usr/local/lib/python3.7/dist-packages (from requests->exporters) (2.10)\n",
            "Requirement already satisfied: certifi>=2017.4.17 in /usr/local/lib/python3.7/dist-packages (from requests->exporters) (2022.6.15)\n",
            "Requirement already satisfied: urllib3!=1.25.0,!=1.25.1,<1.26,>=1.21.1 in /usr/local/lib/python3.7/dist-packages (from requests->exporters) (1.24.3)\n",
            "Requirement already satisfied: chardet<4,>=3.0.2 in /usr/local/lib/python3.7/dist-packages (from requests->exporters) (3.0.4)\n",
            "Building wheels for collected packages: exporters, retrying\n",
            "  Building wheel for exporters (setup.py) ... \u001b[?25l\u001b[?25hdone\n",
            "  Created wheel for exporters: filename=exporters-0.7.0-py3-none-any.whl size=102832 sha256=6a2c0650466f3e2601523dcad6a3ff429812c9cbe15aab2ce17d234fd74cb078\n",
            "  Stored in directory: /root/.cache/pip/wheels/5a/89/59/99a43eebf35663359c4bed93ada1232dc52f41a3883fadab5a\n",
            "  Building wheel for retrying (setup.py) ... \u001b[?25l\u001b[?25hdone\n",
            "  Created wheel for retrying: filename=retrying-1.3.3-py3-none-any.whl size=11447 sha256=d7a8e4302f82b5f65234e24767cb0aed626d9ff647810c1d3c01c5d6267f64ba\n",
            "  Stored in directory: /root/.cache/pip/wheels/f9/8d/8d/f6af3f7f9eea3553bc2fe6d53e4b287dad18b06a861ac56ddf\n",
            "Successfully built exporters retrying\n",
            "Installing collected packages: retrying, exporters\n",
            "Successfully installed exporters-0.7.0 retrying-1.3.3\n"
          ]
        },
        {
          "output_type": "error",
          "ename": "NameError",
          "evalue": "ignored",
          "traceback": [
            "\u001b[0;31m---------------------------------------------------------------------------\u001b[0m",
            "\u001b[0;31mNameError\u001b[0m                                 Traceback (most recent call last)",
            "\u001b[0;32m<ipython-input-3-90eee87ec532>\u001b[0m in \u001b[0;36m<module>\u001b[0;34m\u001b[0m\n\u001b[1;32m     14\u001b[0m \u001b[0;34m\u001b[0m\u001b[0m\n\u001b[1;32m     15\u001b[0m \u001b[0;34m\u001b[0m\u001b[0m\n\u001b[0;32m---> 16\u001b[0;31m \u001b[0;32mclass\u001b[0m \u001b[0mGDriveWriter\u001b[0m\u001b[0;34m(\u001b[0m\u001b[0mFilebaseBaseWriter\u001b[0m\u001b[0;34m)\u001b[0m\u001b[0;34m:\u001b[0m\u001b[0;34m\u001b[0m\u001b[0;34m\u001b[0m\u001b[0m\n\u001b[0m\u001b[1;32m     17\u001b[0m     \"\"\"\n\u001b[1;32m     18\u001b[0m     \u001b[0mWrites\u001b[0m \u001b[0mitems\u001b[0m \u001b[0mto\u001b[0m \u001b[0mGoogle\u001b[0m \u001b[0mDrive\u001b[0m \u001b[0maccount\u001b[0m\u001b[0;34m.\u001b[0m\u001b[0;34m\u001b[0m\u001b[0;34m\u001b[0m\u001b[0m\n",
            "\u001b[0;31mNameError\u001b[0m: name 'FilebaseBaseWriter' is not defined"
          ]
        }
      ],
      "source": [
        "# from IPython.utils.path import expand_path\n",
        "from __future__ import absolute_import\n",
        "import json\n",
        "import os\n",
        "import shutil\n",
        "import tempfile\n",
        "from collections import Counter\n",
        "try:\n",
        "    from exporters.default_retries import retry_long\n",
        "    from exporters.writers.filebase_base_writer import FilebaseBaseWriter\n",
        "    from exporters.writers.base_writer import InconsistentWriteState\n",
        "except ModuleNotFoundError:\n",
        "    %pip install exporters\n",
        "\n",
        "\n",
        "class GDriveWriter(FilebaseBaseWriter):\n",
        "    \"\"\"\n",
        "    Writes items to Google Drive account.\n",
        "    It is a File Based writer, so it has filebase\n",
        "\n",
        "        - client_secret (object)\n",
        "            JSON object containing client secrets (client-secret.json) file\n",
        "            obtained when creating the google drive API key.\n",
        "\n",
        "        - credentials (object)\n",
        "            JSON object containing credentials, obtained by authenticating the\n",
        "            application using the bin/get_gdrive_credentials.py ds script\n",
        "\n",
        "        - filebase (str)\n",
        "            Path to store the exported files\n",
        "    \"\"\"\n",
        "\n",
        "    supported_options = {\n",
        "        'credentials': {'type': object},\n",
        "        'client_secret': {'type': object},\n",
        "    }\n",
        "\n",
        "    def __init__(self, *args, **kwargs):\n",
        "        super(GDriveWriter, self).__init__(*args, **kwargs)\n",
        "        from pydrive.auth import GoogleAuth\n",
        "        from pydrive.drive import GoogleDrive\n",
        "        gauth = GoogleAuth()\n",
        "        files_tmp_path = tempfile.mkdtemp()\n",
        "        client_secret_file = os.path.join(files_tmp_path, 'secret.json')\n",
        "        with open(client_secret_file, 'w') as f:\n",
        "            f.write(json.dumps(self.read_option('client_secret')))\n",
        "        gauth.LoadClientConfigFile(client_secret_file)\n",
        "        credentials_file = os.path.join(files_tmp_path, 'credentials.json')\n",
        "        with open(credentials_file, 'w') as f:\n",
        "            f.write(json.dumps(self.read_option('credentials')))\n",
        "        gauth.LoadCredentialsFile(credentials_file)\n",
        "        shutil.rmtree(files_tmp_path)\n",
        "        self.drive = GoogleDrive(gauth)\n",
        "        self.set_metadata('files_counter', Counter())\n",
        "        self.set_metadata('files_written', [])\n",
        "        \n",
        "    def get_file_suffix(self, path, prefix):\n",
        "        \"\"\"\n",
        "        Gets a valid filename\n",
        "        \"\"\"\n",
        "        parent = self._ensure_folder_path(path)\n",
        "\n",
        "        file_list = self.drive.ListFile({\n",
        "            'q': \"'{}' in parents and trashed=false and title contains '{}'\".format(\n",
        "                parent['id'], prefix)}).GetList()\n",
        "        try:\n",
        "            number_of_files = len(file_list)\n",
        "        except:\n",
        "            number_of_files = 0\n",
        "        return '{0:04}'.format(number_of_files)\n",
        "\n",
        "    def _ensure_folder_path(self, filebase_path):\n",
        "        \"\"\"Creates the directory for the path given, recursively creating\n",
        "        parent directories when needed\"\"\"\n",
        "        folders = filebase_path.split('/')\n",
        "        parent = {\"id\": \"root\"}\n",
        "        for folder in folders:\n",
        "            file_list = self.drive.ListFile(\n",
        "                {'q': \"'{}' in parents and trashed=false and title = '{}'\".format(\n",
        "                    parent['id'], folder)}).GetList()\n",
        "            if not len(file_list):\n",
        "                f = self.drive.CreateFile({'title': folder, 'parents': [parent], 'mimeType': 'application/vnd.google-apps.folder'})\n",
        "                f.Upload()\n",
        "            else:\n",
        "                parent = {\"id\": file_list[-1][\"id\"]}\n",
        "        return parent\n",
        "\n",
        "    @retry_long\n",
        "    def write(self, dump_path, group_key=None, file_name=None):\n",
        "        if group_key is None:\n",
        "            group_key = []\n",
        "        filebase_path, filename = self.create_filebase_name(group_key, file_name=file_name)\n",
        "        parent = self._ensure_folder_path(filebase_path)\n",
        "        file = self.drive.CreateFile({'title': filename, 'parents': [parent]})\n",
        "        file.SetContentFile(dump_path)\n",
        "        file.Upload()\n",
        "        self._update_metadata(dump_path, file)\n",
        "        self.logger.info('Uploaded file {}'.format(file['title']))\n",
        "\n",
        "    def _update_metadata(self, dump_path, file):\n",
        "        buffer_info = self.write_buffer.get_metadata(dump_path)\n",
        "        key_info = {\n",
        "            'size': buffer_info['size'],\n",
        "            'remote_size': file['fileSize'],\n",
        "            'hash': buffer_info['file_hash'],\n",
        "            'remote_hash': file['md5Checksum'],\n",
        "            'title': file['title'],\n",
        "        }\n",
        "        self.get_metadata('files_written').append(key_info)\n",
        "\n",
        "    def _check_write_consistency(self):\n",
        "        for file_info in self.get_metadata('files_written'):\n",
        "            if str(file_info['size']) != str(file_info['remote_size']):\n",
        "                msg = 'Unexpected size of file {title}. Expected {size} - got {remote_size}'\n",
        "                raise InconsistentWriteState(msg.format(**file_info))\n",
        "            if file_info['hash'] != file_info['remote_hash']:\n",
        "                msg = 'Unexpected hash of file {title}. Expected {hash} - got {remote_hash}'\n",
        "                raise InconsistentWriteState(msg.format(**file_info))"
      ]
    }
  ],
  "metadata": {
    "kernelspec": {
      "display_name": "Python 3 (ipykernel)",
      "language": "python",
      "name": "python3"
    },
    "language_info": {
      "codemirror_mode": {
        "name": "ipython",
        "version": 3
      },
      "file_extension": ".py",
      "mimetype": "text/x-python",
      "name": "python",
      "nbconvert_exporter": "python",
      "pygments_lexer": "ipython3",
      "version": "3.7.12"
    },
    "colab": {
      "name": "Writefile_GDriveWriter.ipynb",
      "provenance": [],
      "collapsed_sections": [],
      "include_colab_link": true
    }
  },
  "nbformat": 4,
  "nbformat_minor": 5
}