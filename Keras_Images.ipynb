{
  "nbformat": 4,
  "nbformat_minor": 0,
  "metadata": {
    "colab": {
      "private_outputs": true,
      "provenance": [],
      "collapsed_sections": [],
      "authorship_tag": "ABX9TyPQO/Hog6f19WuNmC/TsJV9",
      "include_colab_link": true
    },
    "kernelspec": {
      "name": "python3",
      "display_name": "Python 3"
    },
    "language_info": {
      "name": "python"
    }
  },
  "cells": [
    {
      "cell_type": "markdown",
      "metadata": {
        "id": "view-in-github",
        "colab_type": "text"
      },
      "source": [
        "<a href=\"https://colab.research.google.com/github/iypc-team/CoLab/blob/master/Keras_Images.ipynb\" target=\"_parent\"><img src=\"https://colab.research.google.com/assets/colab-badge.svg\" alt=\"Open In Colab\"/></a>"
      ]
    },
    {
      "cell_type": "code",
      "source": [
        "print('Updated: 09/28/2022-2')"
      ],
      "metadata": {
        "id": "9ftkz_j89-C7"
      },
      "execution_count": null,
      "outputs": []
    },
    {
      "cell_type": "code",
      "source": [
        "def getConcatHoriz(im1, im2):\n",
        "    \"\"\" \"\"\"\n",
        "    dst = Image.new('RGB', (im1.width + im2.width, min(im1.height, im2.height)))\n",
        "    dst.paste(im1, (0, 0))\n",
        "    dst.paste(im2, (im1.width, 0))\n",
        "    # display(dst)\n",
        "    return dst\n",
        "\n",
        "def getConcatVert(im1, im2):\n",
        "    \"\"\" \"\"\"\n",
        "    dst = Image.new('RGB', (min(im1.width, im2.width), im1.height + im2.height))\n",
        "    dst.paste(im1, (0, 0))\n",
        "    dst.paste(im2, (0, im1.height))\n",
        "    # display(dst)\n",
        "    return dst"
      ],
      "metadata": {
        "id": "h2eShbS23bi1"
      },
      "execution_count": null,
      "outputs": []
    },
    {
      "cell_type": "code",
      "source": [
        "def checkForArtifacts(pilImage, displayOrientation:str):\n",
        "    \"\"\"\\ndisplayOrientation:str = H or V\"\"\"\n",
        "    # displayOrientation=displayOrientation.upper()\n",
        "    try: imcopy=pilImage.copy()\n",
        "    except Exception as err:\n",
        "        print(err)\n",
        "        imcopy = Image.open(pilImage, 'r').convert('RGB')\n",
        "\n",
        "    img_gray = imcopy.convert(\"L\")\n",
        "    edges = img_gray.filter(ImageFilter.FIND_EDGES)\n",
        "    \n",
        "    img_gray_smooth = edges.filter(ImageFilter.SMOOTH)\n",
        "    edges_smooth = img_gray_smooth.filter(ImageFilter.FIND_EDGES)\n",
        "    # display(edges_smooth)\n",
        "\n",
        "    if displayOrientation.__contains__('H'):\n",
        "        concatImgH=getConcatHoriz(im1=imcopy, im2=edges_smooth)\n",
        "        display(concatImgH)\n",
        "\n",
        "    if displayOrientation.__contains__('V'):\n",
        "        concatImgV=getConcatVert(im1=imcopy, im2=edges_smooth)\n",
        "        display(concatImgV)\n",
        "\n",
        "    imcopy.close()\n",
        "    img_gray.close()\n",
        "    edges.close()"
      ],
      "metadata": {
        "id": "NyqOUSw73oaC"
      },
      "execution_count": null,
      "outputs": []
    },
    {
      "cell_type": "code",
      "source": [
        "from __future__ import absolute_import\n",
        "from IPython.display import clear_output\n",
        "import cv2, glob, os, shutil, tarfile\n",
        "from google.colab.patches import cv2_imshow as show\n",
        "import numpy as np\n",
        "\n",
        "from os.path import abspath, basename, exists, join, splitext\n",
        "os.environ['TF_CPP_MIN_LOG_LEVEL'] = '5'\n",
        "\n",
        "from google.colab import drive, files\n",
        "import numpy as np\n",
        "import matplotlib.pyplot as plt\n",
        "# from TarfileFunctions import *\n",
        "\n",
        "contentPath=os.getcwd()\n",
        "baseEnemySavePath='/content/DataGenerator/Enemy'\n",
        "\n",
        "if exists('/content/sample_data'):\n",
        "    shutil.rmtree('/content/sample_data')\n",
        "\n",
        "# clearContentPath()\n",
        "# clearDataGeneratorEnemyDirectory()\n",
        "\n",
        "drive.mount('/content/drive', force_remount=True)\n",
        "\n",
        "# import required modules\n",
        "if not exists('BashColors.py'):\n",
        "    shutil.copy2(src='/content/drive/MyDrive/PythonFiles/BashColors.py',\n",
        "                 dst=contentPath)\n",
        "    \n",
        "if not exists('TarfileFunctions.py'):\n",
        "    shutil.copy2(src='/content/drive/MyDrive/TarfileFunctions.py',\n",
        "                 dst=contentPath)\n",
        "\n",
        "if not exists('GetTPU.py'):\n",
        "    shutil.copy2(src='/content/drive/MyDrive/PythonFiles/GetTPU.py',\n",
        "                 dst=contentPath)\n",
        "    \n",
        "if not exists('/content/DataGenerator6.tar.gz'):\n",
        "    shutil.copy2('/content/drive/MyDrive/DataGenerator6.tar.gz',\n",
        "                 contentPath)\n",
        "    \n",
        "if not exists('/content/enemy_1.png'):\n",
        "    shutil.copy2(\n",
        "        src='/content/drive/MyDrive/TensorflowImages/Enemy/enemy_1.png'\n",
        "        ,dst=contentPath)\n",
        "    \n",
        "from TarfileFunctions import *\n",
        "\n",
        "if not exists('/content/DataGenerator'):\n",
        "    os.chdir(contentPath)\n",
        "    tff.extractTarfiles('/content/DataGenerator6.tar.gz')\n",
        "    \n",
        "from BashColors import C\n",
        "from TarfileFunctions import *\n",
        "\n",
        "imagePath='/content/drive/MyDrive/TensorflowImages/Enemy/enemy_1.png'\n",
        "img=cv2.imread(imagePath).astype(np.float32)\n",
        "savePath='/content/drive/MyDrive/TensorflowImages/Enemy/enemyCv2FP32.png'\n",
        "# print(imagePath)\n",
        "print(savePath)\n",
        "cv2.imwrite(savePath, img)\n",
        "cv2.destroyAllWindows()\n",
        "\n",
        "rangeList=[]\n",
        "xs = (x * 5.625 for x in range(1, 359))\n",
        "for x in xs:\n",
        "    if x > 359:\n",
        "        break\n",
        "    elif x == 90 or x== 180:\n",
        "        pass\n",
        "    else:\n",
        "        # print(x)\n",
        "        rangeList.append(x)\n",
        "\n",
        "def checkPackageVersion():\n",
        "    \"\"\"checks Pillow package version \"\"\"\n",
        "    # https://gist.github.com/parente/b6ee0efe141822dfa18b6feeda0a45e5\n",
        "    pkg=!pip show Pillow\n",
        "    version=pkg[1]\n",
        "    if version != 'Version: 9.2.0':\n",
        "        !pip install -U Pillow\n",
        "    else: print(f'Pillow {C.BIBlue}{version}{C.ColorOff}')\n",
        "    # print(type(pkg))\n",
        "    # print(pkg)\n",
        "    # print(pkg.nlstr)\n",
        "    # print(pkg.spstr)\n",
        "checkPackageVersion()\n",
        "\n",
        "from BashColors import C\n",
        "import PIL\n",
        "from PIL import Image, ImageFilter"
      ],
      "metadata": {
        "id": "Fi9zECRBG6oE"
      },
      "execution_count": null,
      "outputs": []
    },
    {
      "cell_type": "code",
      "source": [
        "from numpy import expand_dims\n",
        "from keras.preprocessing.image import img_to_array\n",
        "from keras.preprocessing.image import ImageDataGenerator #image data generator.\n",
        "\n",
        "pth='/content/drive/MyDrive/TensorflowImages/Enemy/enemyCv2FP32.png'\n",
        "image = Image.open(pth, 'r').convert('RGB')\n",
        "data = img_to_array(image)\n",
        "samples = expand_dims(data, 0)\n",
        "datagen = ImageDataGenerator(zoom_range=[0.2,1.0])\n",
        "it = datagen.flow(samples, batch_size=1)\n",
        "for i in range(9):\n",
        "    plt.subplot(330 + 1 + i)\n",
        "    batch = it.next()\n",
        "    result = batch[0].astype('uint8')\n",
        "    plt.imshow(result)\n",
        "plt.show()"
      ],
      "metadata": {
        "id": "u4gDMjW07F91"
      },
      "execution_count": null,
      "outputs": []
    },
    {
      "cell_type": "code",
      "source": [
        "q"
      ],
      "metadata": {
        "id": "IwfF90Ha8Q70"
      },
      "execution_count": null,
      "outputs": []
    },
    {
      "cell_type": "code",
      "source": [
        "import matplotlib.pyplot as plt #For plotting our visualizations\n",
        "from keras.preprocessing.image import ImageDataGenerator #Keras dataset generator class.\n",
        "from numpy import expand_dims\n",
        "from keras.preprocessing.image import load_img\n",
        "from keras.preprocessing.image import img_to_array\n",
        "import cv2\n",
        "from PIL import Image\n",
        "\n",
        "shutil.copy2(src='/content/drive/MyDrive/TensorflowImages/Enemy/enemyCv2FP32.png',dst=contentPath)\n",
        "image = Image.open('/content/enemyCv2FP32.png', 'r').convert('RGB')\n",
        "image = image.resize((224,224), Image.Resampling.LANCZOS) # resizes to 224x224\n",
        "\n",
        "print(f'original image size : {image.size}')\n",
        "display(image)"
      ],
      "metadata": {
        "id": "isVvlv6jzy96"
      },
      "execution_count": null,
      "outputs": []
    },
    {
      "cell_type": "code",
      "source": [
        "image = Image.open('dog.jpg')\n",
        "\n",
        "data = img_to_array(image)\n",
        "samples = expand_dims(data, 0)\n",
        "datagen = ImageDataGenerator(zoom_range=[0.2,1.0])\n",
        "it = datagen.flow(samples, batch_size=1)\n",
        "for i in range(9):\n",
        "    plt.subplot(330 + 1 + i)\n",
        "    batch = it.next()\n",
        "    result = batch[0].astype('uint8')\n",
        "    plt.imshow(result)\n",
        "plt.show()"
      ],
      "metadata": {
        "id": "FjwjRaIB-h2A"
      },
      "execution_count": null,
      "outputs": []
    },
    {
      "cell_type": "code",
      "source": [
        "data = img_to_array(image)\n",
        "samples = expand_dims(data, 0)\n",
        "data_generated = ImageDataGenerator(rotation_range=90)  #Here we specify angle of rotation as 90\n",
        "it = data_generated.flow(samples, batch_size=1)\n",
        "\n",
        "for i in range(9):\n",
        "    # plt.subplot(330 + 1 + i)\n",
        "    batch = it.next()\n",
        "    result = batch[0].astype('uint8')\n",
        "    \n",
        "    im = Image.fromarray(np.uint8(result)).convert('RGB')\n",
        "    # im = Image.open(result, 'b').convert('RGB')\n",
        "    print(im.size)\n",
        "    display(im)\n",
        "# plt.show()"
      ],
      "metadata": {
        "id": "YXKgo7q41zs-"
      },
      "execution_count": null,
      "outputs": []
    },
    {
      "cell_type": "code",
      "source": [],
      "metadata": {
        "id": "xMWD-Krk0TSq"
      },
      "execution_count": null,
      "outputs": []
    }
  ]
}