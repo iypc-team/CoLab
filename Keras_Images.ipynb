{
  "nbformat": 4,
  "nbformat_minor": 0,
  "metadata": {
    "colab": {
      "private_outputs": true,
      "provenance": [],
      "collapsed_sections": [],
      "authorship_tag": "ABX9TyNvtH2Vk1AHztT1jFwQx1Gc",
      "include_colab_link": true
    },
    "kernelspec": {
      "name": "python3",
      "display_name": "Python 3"
    },
    "language_info": {
      "name": "python"
    },
    "accelerator": "TPU"
  },
  "cells": [
    {
      "cell_type": "markdown",
      "metadata": {
        "id": "view-in-github",
        "colab_type": "text"
      },
      "source": [
        "<a href=\"https://colab.research.google.com/github/iypc-team/CoLab/blob/master/Keras_Images.ipynb\" target=\"_parent\"><img src=\"https://colab.research.google.com/assets/colab-badge.svg\" alt=\"Open In Colab\"/></a>"
      ]
    },
    {
      "cell_type": "code",
      "source": [
        "print('Updated: 09/30/2022-2')"
      ],
      "metadata": {
        "id": "9ftkz_j89-C7"
      },
      "execution_count": null,
      "outputs": []
    },
    {
      "cell_type": "code",
      "source": [
        "def getConcatHoriz(im1, im2):\n",
        "    \"\"\" \"\"\"\n",
        "    dst = Image.new('RGB', (im1.width + im2.width, min(im1.height, im2.height)))\n",
        "    print(f'dst size: {dst.size}')\n",
        "    dst.paste(im1, (0, 0))\n",
        "    dst.paste(im2, (im1.width, 0))\n",
        "    # display(dst)\n",
        "    return dst\n",
        "\n",
        "def getConcatVert(im1, im2):\n",
        "    \"\"\" \"\"\"\n",
        "    dst = Image.new('RGB', (min(im1.width, im2.width), im1.height + im2.height))\n",
        "    print(f'dst size: {dst.size}')\n",
        "    dst.paste(im1, (0, 0))\n",
        "    dst.paste(im2, (0, im1.height))\n",
        "    # display(dst)\n",
        "    return dst"
      ],
      "metadata": {
        "id": "h2eShbS23bi1"
      },
      "execution_count": null,
      "outputs": []
    },
    {
      "cell_type": "code",
      "source": [
        "def checkForArtifacts(pilImage, displayOrientation:str):\n",
        "    \"\"\"\\ndisplayOrientation:str = H or V\"\"\"\n",
        "    # displayOrientation=displayOrientation.upper()\n",
        "    try: imcopy=pilImage.copy()\n",
        "    except Exception as err:\n",
        "        print(err)\n",
        "        imcopy = Image.open(pilImage, 'r').convert('RGB')\n",
        "\n",
        "    img_gray = imcopy.convert(\"L\")\n",
        "    edges = img_gray.filter(ImageFilter.FIND_EDGES)\n",
        "    \n",
        "    img_gray_smooth = edges.filter(ImageFilter.SMOOTH)\n",
        "    edges_smooth = img_gray_smooth.filter(ImageFilter.FIND_EDGES)\n",
        "    # display(edges_smooth)\n",
        "\n",
        "    if displayOrientation.__contains__('H'):\n",
        "        concatImgH=getConcatHoriz(im1=imcopy, im2=edges_smooth)\n",
        "        display(concatImgH)\n",
        "\n",
        "    if displayOrientation.__contains__('V'):\n",
        "        concatImgV=getConcatVert(im1=imcopy, im2=edges_smooth)\n",
        "        display(concatImgV)\n",
        "\n",
        "    imcopy.close()\n",
        "    img_gray.close()\n",
        "    edges.close()"
      ],
      "metadata": {
        "id": "NyqOUSw73oaC"
      },
      "execution_count": null,
      "outputs": []
    },
    {
      "cell_type": "code",
      "source": [
        "def checkPackageVersion():\n",
        "    \"\"\"checks Pillow package version \"\"\"\n",
        "    # https://gist.github.com/parente/b6ee0efe141822dfa18b6feeda0a45e5\n",
        "    pkg=!pip show Pillow\n",
        "    version=pkg[1]\n",
        "    if version != 'Version: 9.2.0':\n",
        "        !pip install -U Pillow\n",
        "    else: print(f'Pillow {C.BIBlue}{version}{C.ColorOff}')\n",
        "    # print(type(pkg))\n",
        "    # print(pkg)\n",
        "    # print(pkg.nlstr)\n",
        "    # print(pkg.spstr)"
      ],
      "metadata": {
        "id": "Mx_17c2mMV_f"
      },
      "execution_count": null,
      "outputs": []
    },
    {
      "cell_type": "code",
      "source": [
        "from __future__ import absolute_import\n",
        "from IPython.display import clear_output\n",
        "import cv2, glob, os, shutil, tarfile\n",
        "pass\n",
        "from google.colab.patches import cv2_imshow as show\n",
        "import numpy as np\n",
        "\n",
        "from os.path import abspath, basename, exists, join, splitext\n",
        "os.environ['TF_CPP_MIN_LOG_LEVEL'] = '5'\n",
        "\n",
        "from google.colab import drive, files\n",
        "import numpy as np\n",
        "import matplotlib.pyplot as plt\n",
        "# from TarfileFunctions import *\n",
        "\n",
        "contentPath=os.getcwd()\n",
        "baseEnemySavePath='/content/DataGenerator/Enemy'\n",
        "\n",
        "if exists('/content/sample_data'):\n",
        "    shutil.rmtree('/content/sample_data')\n",
        "\n",
        "# clearContentPath()\n",
        "# clearDataGeneratorEnemyDirectory()\n",
        "\n",
        "drive.mount('/content/drive', force_remount=True)\n",
        "\n",
        "# import required modules\n",
        "if not exists('BashColors.py'):\n",
        "    shutil.copy2(src='/content/drive/MyDrive/PythonFiles/BashColors.py',\n",
        "                 dst=contentPath)\n",
        "    \n",
        "if not exists('TarfileFunctions.py'):\n",
        "    shutil.copy2(src='/content/drive/MyDrive/TarfileFunctions.py',\n",
        "                 dst=contentPath)\n",
        "\n",
        "if not exists('GetTPU.py'):\n",
        "    shutil.copy2(src='/content/drive/MyDrive/PythonFiles/GetTPU.py',\n",
        "                 dst=contentPath)\n",
        "    \n",
        "if not exists('/content/DataGenerator6.tar.gz'):\n",
        "    shutil.copy2('/content/drive/MyDrive/DataGenerator6.tar.gz',\n",
        "                 contentPath)\n",
        "    \n",
        "if not exists('/content/enemy_1.png'):\n",
        "    shutil.copy2(\n",
        "        src='/content/drive/MyDrive/TensorflowImages/Enemy/enemy_1.png'\n",
        "        ,dst=contentPath)\n",
        "    \n",
        "from TarfileFunctions import *\n",
        "\n",
        "if not exists('/content/DataGenerator'):\n",
        "    os.chdir(contentPath)\n",
        "    tff.extractTarfiles('/content/DataGenerator6.tar.gz')\n",
        "    \n",
        "from BashColors import C\n",
        "from TarfileFunctions import *\n",
        "\n",
        "imagePath='/content/drive/MyDrive/TensorflowImages/Enemy/enemy_1.png'\n",
        "img=cv2.imread(imagePath).astype(np.float32)\n",
        "savePath='/content/drive/MyDrive/TensorflowImages/Enemy/enemyCv2FP32.png'\n",
        "# print(imagePath)\n",
        "print(savePath)\n",
        "cv2.imwrite(savePath, img)\n",
        "cv2.destroyAllWindows()\n",
        "\n",
        "rangeList=[]\n",
        "xs = (x * 5.625 for x in range(1, 359))\n",
        "for x in xs:\n",
        "    if x > 359:\n",
        "        break\n",
        "    elif x == 90 or x == 180 or x == 270:\n",
        "        pass\n",
        "    else:\n",
        "        # print(x)\n",
        "        rangeList.append(x)\n",
        "\n",
        "from BashColors import C\n",
        "\n",
        "pkg=!pip show Pillow\n",
        "version=pkg[1]\n",
        "if version != 'Version: 9.2.0':\n",
        "    !pip install -U Pillow\n",
        "else:\n",
        "    pass\n",
        "    # print(f'Pillow {C.BIBlue}{version}{C.ColorOff}')\n",
        "\n",
        "checkPackageVersion()\n",
        "import PIL\n",
        "from PIL import Image, ImageFilter"
      ],
      "metadata": {
        "id": "Fi9zECRBG6oE"
      },
      "execution_count": null,
      "outputs": []
    },
    {
      "cell_type": "code",
      "source": [
        "import matplotlib.pyplot as plt #For plotting our visualizations\n",
        "from keras.preprocessing.image import ImageDataGenerator #Keras dataset generator class.\n",
        "from numpy import expand_dims\n",
        "from keras.preprocessing.image import load_img\n",
        "from keras.preprocessing.image import img_to_array\n",
        "import cv2\n",
        "from PIL import Image\n",
        "\n",
        "shutil.copy2(src='/content/drive/MyDrive/TensorflowImages/Enemy/enemyCv2FP32.png',dst=contentPath)\n",
        "image = Image.open('/content/enemyCv2FP32.png', 'r').convert('RGB')\n",
        "image = image.resize((224,224), Image.Resampling.LANCZOS) # resizes to 224x224\n",
        "\n",
        "print(f'original image size : {image.size}')\n",
        "checkForArtifacts(pilImage=image, displayOrientation='H')"
      ],
      "metadata": {
        "id": "isVvlv6jzy96"
      },
      "execution_count": null,
      "outputs": []
    },
    {
      "cell_type": "code",
      "source": [
        "q\n",
        "help(ImageDataGenerator.standardize)"
      ],
      "metadata": {
        "id": "O6IcJWZujyjH"
      },
      "execution_count": null,
      "outputs": []
    },
    {
      "cell_type": "code",
      "source": [
        "datagen = ImageDataGenerator(\n",
        "    featurewise_center=True,\n",
        "    featurewise_std_normalization=True,\n",
        "    rotation_range=20,\n",
        "    width_shift_range=0.2,\n",
        "    height_shift_range=0.2,\n",
        "    horizontal_flip=True,\n",
        "    validation_split=0.2)"
      ],
      "metadata": {
        "id": "Cipsk2A3grpV"
      },
      "execution_count": null,
      "outputs": []
    },
    {
      "cell_type": "code",
      "source": [
        "from numpy import expand_dims\n",
        "from keras.preprocessing.image import img_to_array\n",
        "from keras.preprocessing.image import ImageDataGenerator #image data generator.\n",
        "from numpy import expand_dims\n",
        "from keras.preprocessing.image import load_img\n",
        "from keras.preprocessing.image import img_to_array\n",
        "import cv2\n",
        "from PIL import Image\n",
        "\n",
        "pth='/content/drive/MyDrive/TensorflowImages/Enemy/enemyCv2FP32.png'\n",
        "image = Image.open(pth, 'r').convert('RGB')\n",
        "image = image.resize((224,224), Image.Resampling.LANCZOS) # resizes to 224x224\n",
        "display(image)\n",
        "\n",
        "data = img_to_array(image)\n",
        "samples = expand_dims(data, 0)\n",
        "\n",
        "datagen = ImageDataGenerator(zoom_range=[2.0, -2.0])\n",
        "\n",
        "it = datagen.flow(samples, batch_size=1)\n",
        "\n",
        "for i in range(99):\n",
        "    batch = it.next()\n",
        "    result = batch[0].astype('uint8')\n",
        "    image = Image.fromarray(np.uint8(result)).convert('RGB')\n",
        "    \n",
        "    print(image.size)\n",
        "    print(f'iteration: {i}')\n",
        "    checkForArtifacts(pilImage=image, displayOrientation='H')\n",
        "    \n",
        "\n"
      ],
      "metadata": {
        "id": "u4gDMjW07F91"
      },
      "execution_count": null,
      "outputs": []
    },
    {
      "cell_type": "code",
      "source": [
        "pth='/content/drive/MyDrive/TensorflowImages/Enemy/enemyCv2FP32.png'\n",
        "image = Image.open(pth)\n",
        "\n",
        "data = img_to_array(image)\n",
        "samples = expand_dims(data, 0)\n",
        "datagen = ImageDataGenerator(zoom_range=[0.0,2.0])\n",
        "it = datagen.flow(samples, batch_size=1)\n",
        "for i in range(99):\n",
        "    \n",
        "    batch = it.next()\n",
        "    result = batch[0].astype('uint8')\n",
        "    image = Image.fromarray(np.uint8(result)).convert('RGB')\n",
        "    image = image.resize((224,224), Image.Resampling.LANCZOS)\n",
        "    \n",
        "    print(image.size)\n",
        "    checkForArtifacts(pilImage=image, displayOrientation='H')\n",
        "\n",
        "\n"
      ],
      "metadata": {
        "id": "FjwjRaIB-h2A"
      },
      "execution_count": null,
      "outputs": []
    },
    {
      "cell_type": "code",
      "source": [
        "data = img_to_array(image)\n",
        "samples = expand_dims(data, 0)\n",
        "data_generated = ImageDataGenerator(rotation_range=360)  #Here we specify angle of rotation as 90\n",
        "it = data_generated.flow(samples, batch_size=1)\n",
        "\n",
        "for i in range(99):\n",
        "    \n",
        "    batch = it.next()\n",
        "    result = batch[0].astype('uint8')\n",
        "    \n",
        "    im = Image.fromarray(np.uint8(result)).convert('RGB')\n",
        "    \n",
        "    print(im.size)\n",
        "    print(f'iteration: {i}')\n",
        "    checkForArtifacts(pilImage=image, displayOrientation='H')\n"
      ],
      "metadata": {
        "id": "YXKgo7q41zs-"
      },
      "execution_count": null,
      "outputs": []
    },
    {
      "cell_type": "code",
      "source": [
        "data = img_to_array(image)\n",
        "samples = expand_dims(data, 0)\n",
        "\n",
        "# datagen = ImageDataGenerator(vertical_flip=True)\n",
        "datagen = ImageDataGenerator(\n",
        "    # featurewise_center=True,\n",
        "    # featurewise_std_normalization=True,\n",
        "    # rotation_range=359,\n",
        "    width_shift_range=0.2)\n",
        "    # height_shift_range=0.2,\n",
        "    # horizontal_flip=True,)\n",
        "    # validation_split=0.2)\n",
        "clear_output()\n",
        "it = datagen.flow(samples, batch_size=1)\n",
        "for i in range(9):\n",
        "    batch = it.next()\n",
        "    result = batch[0].astype('uint8')\n",
        "    print(f'iteration: {i}')\n",
        "    checkForArtifacts(pilImage=image, displayOrientation='H')\n"
      ],
      "metadata": {
        "id": "xMWD-Krk0TSq"
      },
      "execution_count": null,
      "outputs": []
    }
  ]
}