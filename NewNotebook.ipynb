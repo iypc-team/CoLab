{
  "nbformat": 4,
  "nbformat_minor": 0,
  "metadata": {
    "colab": {
      "name": "NewNotebook.ipynb",
      "private_outputs": true,
      "provenance": [],
      "collapsed_sections": [],
      "machine_shape": "hm",
      "authorship_tag": "ABX9TyPmAGXBvu8pYVzNspL1GeC9",
      "include_colab_link": true
    },
    "kernelspec": {
      "name": "python3",
      "display_name": "Python 3"
    },
    "accelerator": "TPU"
  },
  "cells": [
    {
      "cell_type": "markdown",
      "metadata": {
        "id": "view-in-github",
        "colab_type": "text"
      },
      "source": [
        "<a href=\"https://colab.research.google.com/github/iypc-team/CoLab/blob/master/NewNotebook.ipynb\" target=\"_parent\"><img src=\"https://colab.research.google.com/assets/colab-badge.svg\" alt=\"Open In Colab\"/></a>"
      ]
    },
    {
      "cell_type": "code",
      "metadata": {
        "id": "F1XpVvp9vn7L"
      },
      "source": [
        "from __future__ import absolute_import\n",
        "import glob, os, shutil\n",
        "from os.path import *\n",
        "from pathlib import Path\n",
        "from google.colab import drive\n",
        "\n",
        "drive.flush_and_unmount()\n",
        "drive.mount('/content/drive', force_remount=True)\n",
        "contentPth = os.getcwd()\n",
        "drivePth = '/content/drive'\n",
        "myDrivePth = '/content/drive/My Drive'\n",
        "pyFilesPth = '/content/drive/My Drive/PythonFiles'\n",
        "\n",
        "\n",
        "\n",
        "os.chdir(pyFilesPth)\n",
        "print(os.getcwd())\n",
        "\n",
        "import ImportDriveFiles\n",
        "from BashColors import C\n"
      ],
      "execution_count": null,
      "outputs": []
    },
    {
      "cell_type": "code",
      "metadata": {
        "id": "FgvHZhUdW4Ow"
      },
      "source": [
        "os.environ"
      ],
      "execution_count": null,
      "outputs": []
    }
  ]
}