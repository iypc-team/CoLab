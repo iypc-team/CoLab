{
  "nbformat": 4,
  "nbformat_minor": 0,
  "metadata": {
    "colab": {
      "name": "NewNotebook.ipynb",
      "private_outputs": true,
      "provenance": [],
      "collapsed_sections": [],
      "machine_shape": "hm",
      "authorship_tag": "ABX9TyN4DCHw0mYgRhsk5twnHBkm",
      "include_colab_link": true
    },
    "kernelspec": {
      "name": "python3",
      "display_name": "Python 3"
    },
    "accelerator": "TPU"
  },
  "cells": [
    {
      "cell_type": "markdown",
      "metadata": {
        "id": "view-in-github",
        "colab_type": "text"
      },
      "source": [
        "<a href=\"https://colab.research.google.com/github/iypc-team/CoLab/blob/master/NewNotebook.ipynb\" target=\"_parent\"><img src=\"https://colab.research.google.com/assets/colab-badge.svg\" alt=\"Open In Colab\"/></a>"
      ]
    },
    {
      "cell_type": "code",
      "metadata": {
        "id": "F1XpVvp9vn7L"
      },
      "source": [
        "from __future__ import absolute_import\n",
        "import os\n",
        "from pathlib import Path\n",
        "from google.colab import drive\n",
        "drive.flush_and_unmount()\n",
        "drive.mount('/content/drive', force_remount=True)\n",
        "os.chdir('/content/drive/My Drive/PythonFiles')\n",
        "\n",
        "from BashColors import C\n",
        "from GetTPU import gt as gtp\n",
        "import tensorflow as tf\n",
        "import numpy as np\n"
      ],
      "execution_count": null,
      "outputs": []
    },
    {
      "cell_type": "code",
      "metadata": {
        "id": "sy7LqVOkzOvi"
      },
      "source": [
        "gtp.startTPU(clearOutput=False)\n",
        "tpuStrategy=gtp.tpu_strategy"
      ],
      "execution_count": null,
      "outputs": []
    },
    {
      "cell_type": "code",
      "metadata": {
        "id": "DnamzrouP8rn"
      },
      "source": [
        " # from tensorflow.device import *\n",
        " with tpuStrategy.scope():\n",
        "     for power in range(0,51):\n",
        "         x=2**power\n",
        "         print(f'{power}. {x}')\n",
        "         print()"
      ],
      "execution_count": null,
      "outputs": []
    },
    {
      "cell_type": "code",
      "metadata": {
        "id": "FgvHZhUdW4Ow"
      },
      "source": [
        "os.environ."
      ],
      "execution_count": null,
      "outputs": []
    }
  ]
}