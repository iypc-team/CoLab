{
  "nbformat": 4,
  "nbformat_minor": 0,
  "metadata": {
    "colab": {
      "name": "NewNotebook.ipynb",
      "private_outputs": true,
      "provenance": [],
      "collapsed_sections": [],
      "machine_shape": "hm"
    },
    "kernelspec": {
      "display_name": "Python 3",
      "language": "python",
      "name": "python3"
    },
    "language_info": {
      "codemirror_mode": {
        "name": "ipython",
        "version": 3
      },
      "file_extension": ".py",
      "mimetype": "text/x-python",
      "name": "python",
      "nbconvert_exporter": "python",
      "pygments_lexer": "ipython3",
      "version": "3.7.10"
    }
  },
  "cells": [
    {
      "cell_type": "code",
      "metadata": {
        "id": "6U7AH2sUbp_W"
      },
      "source": [
        "from IPython.display import display, clear_output\n",
        "try: import tensorflow as tf\n",
        "except ModuleNotFoundError:\n",
        "    %pip install tensorflow\n",
        "    import tensorflow as tf\n",
        "\n",
        "try: import matplotlib.pyplot as plt\n",
        "except ModuleNotFoundError:\n",
        "    %pip install matplotlib\n",
        "    import matplotlib.pyplot as plt\n",
        "\n",
        "try: import pandas as pd\n",
        "except ModuleNotFoundError:\n",
        "    %pip install pandas\n",
        "    import pandas as pd\n",
        "\n",
        "try: \n",
        "    import numpy as np\n",
        "    np.set_printoptions(precision=4)\n",
        "except ModuleNotFoundError:\n",
        "    %pip install numpy\n",
        "    import numpy as np\n",
        "    np.set_printoptions(precision=4)\n",
        "\n",
        "try: import PIL.Image\n",
        "except Exception as err:\n",
        "    print(err)\n",
        "    %pip install pillow\n",
        "    import PIL.Image\n",
        "\n",
        "try: import scipy.ndimage as ndimage\n",
        "except Exception as err:\n",
        "    print(err)\n",
        "    %pip install SciPy\n",
        "    import scipy.ndimage as ndimage\n",
        "\n",
        "import glob\n",
        "import pathlib\n",
        "import os\n",
        "from os.path import *\n",
        "import shutil\n",
        "\n",
        "contentPth = os.getcwd()\n",
        "\n",
        "if contentPth == '/content':\n",
        "    gdrivePth = join(contentPth, 'gdrive')\n",
        "    myDrivePth = join(gdrivePth, 'My Drive')\n",
        "    tfImagesPth = join(myDrivePth, 'TensorflowImages')\n",
        "    contentImagesPth = join(contentPth, 'TensorflowImages')\n",
        "    if exists(tfImagesPth) and not exists('/content/TensorflowImages'):\n",
        "        print('nogo')\n",
        "        shutil.copytree(src=tfImagesPth, dst=contentPth)\n",
        "else: \n",
        "    tfImagesPth = join(contentPth, 'TensorflowImages')\n",
        "\n",
        "if os.path.exists('/content/sample_data'):\n",
        "    shutil.rmtree('/content/sample_data')\n",
        "\n",
        "try:\n",
        "    from google.colab import drive\n",
        "    drive.flush_and_unmount()\n",
        "    drive.mount('/content/gdrive', force_remount=True)\n",
        "    os.chdir(myDrivePth)\n",
        "    from BashColors import C\n",
        "    from TarfileFunctions import tff\n",
        "    os.chdir(contentPth)\n",
        "    \n",
        "except ModuleNotFoundError:\n",
        "    os.chdir(contentPth)\n",
        "    from BashColors import C\n",
        "    from TarfileFunctions import tff\n",
        "    tfImagesPth = join(contentPth, 'TensorflowImages')\n",
        "\n",
        "if not exists(tfImagesPth):\n",
        "    try:\n",
        "        tff.listTarfiles()\n",
        "        tff.extractTarfiles('Defcon_Images.tar.gz')\n",
        "    except FileNotFoundError as err:\n",
        "        print(err)\n",
        "else: print(f'{C.Green}/content/TensorflowImages: exists{C.ColorOff}')\n",
        "    \n",
        "print(f'cwd: {C.IBlue}{pathlib.Path.cwd()}')"
      ],
      "execution_count": null,
      "outputs": []
    },
    {
      "cell_type": "code",
      "metadata": {
        "id": "FgvHZhUdW4Ow"
      },
      "source": [
        "print(f'{os.environ}\\n')\n",
        "keys = os.environ.keys()\n",
        "for k in sorted(keys):\n",
        "    print(k)"
      ],
      "execution_count": null,
      "outputs": []
    }
  ]
}