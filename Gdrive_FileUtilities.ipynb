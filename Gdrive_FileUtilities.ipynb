{
  "nbformat": 4,
  "nbformat_minor": 0,
  "metadata": {
    "colab": {
      "name": "Gdrive_FileUtilities.ipynb",
      "provenance": [],
      "private_outputs": true,
      "collapsed_sections": [],
      "authorship_tag": "ABX9TyPPqbDwbq6IR7BDGuN6J5k8",
      "include_colab_link": true
    },
    "kernelspec": {
      "name": "python3",
      "display_name": "Python 3"
    }
  },
  "cells": [
    {
      "cell_type": "markdown",
      "metadata": {
        "id": "view-in-github",
        "colab_type": "text"
      },
      "source": [
        "<a href=\"https://colab.research.google.com/github/iypc-team/CoLab/blob/master/Gdrive_FileUtilities.ipynb\" target=\"_parent\"><img src=\"https://colab.research.google.com/assets/colab-badge.svg\" alt=\"Open In Colab\"/></a>"
      ]
    },
    {
      "cell_type": "code",
      "metadata": {
        "id": "X1sSMAo203Hj",
        "colab_type": "code",
        "colab": {}
      },
      "source": [
        "# 09/16/2020"
      ],
      "execution_count": null,
      "outputs": []
    },
    {
      "cell_type": "code",
      "metadata": {
        "id": "ZTv8rSUI5JHv",
        "colab_type": "code",
        "colab": {}
      },
      "source": [
        "# Import PyDrive and associated libraries.\n",
        "# This only needs to be done once per notebook.\n",
        "from pydrive.auth import GoogleAuth\n",
        "from pydrive.drive import GoogleDrive\n",
        "from google.colab import auth\n",
        "from oauth2client.client import GoogleCredentials\n",
        "\n",
        "# Authenticate and create the PyDrive client.\n",
        "# This only needs to be done once per notebook.\n",
        "auth.authenticate_user()\n",
        "gauth = GoogleAuth()\n",
        "gauth.credentials = GoogleCredentials.get_application_default()\n",
        "gdrive = GoogleDrive(gauth)\n",
        "\n",
        "fileIdDict = {}\n",
        "\n",
        "def searchGoogleDriveFiles(directory='/gdrive/My Drive/Images'):\n",
        "    os.chdir(directory)\n",
        "    # List .txt files in the root.\n",
        "    # Search query reference:\n",
        "    # https://developers.google.com/drive/v2/web/search-parameters\n",
        "    fileCount = 0\n",
        "    listed = gdrive.ListFile({'q': \"title contains '*.JPG' and 'root' in parents\"}).GetList() \n",
        "    for fil in listed:\n",
        "        fileCount += 1\n",
        "        title = fil['title']\n",
        "        fileId = fil['id']\n",
        "        print(f'{fileCount}. {title}')\n",
        "\n",
        "def listAllFilesIn(directory='/gdrive/My Drive', silent=True):\n",
        "    %cd {directory}\n",
        "    fileCount = 0\n",
        "    listed = gdrive.ListFile().GetList()\n",
        "    for fil in listed:\n",
        "        fileCount += 1\n",
        "        title = fil['title']\n",
        "        fileId = fil['id']\n",
        "        fileIdDict[title] = fileId\n",
        "        if not silent:\n",
        "            print(f'{fileCount}. {title}  id: {fileId}')\n",
        "            # print('title {}, id {}'.format(file['title'], file['id'])"
      ],
      "execution_count": null,
      "outputs": []
    },
    {
      "cell_type": "code",
      "metadata": {
        "id": "CLDfT0NN1p1n",
        "colab_type": "code",
        "colab": {}
      },
      "source": [
        "# Open files from google Drive\n",
        "from google.colab import drive\n",
        "drive.mount('/gdrive', force_remount=True)\n",
        "%cd '/gdrive/My Drive'"
      ],
      "execution_count": null,
      "outputs": []
    },
    {
      "cell_type": "code",
      "metadata": {
        "id": "bfX-3xkM69Nl",
        "colab_type": "code",
        "colab": {}
      },
      "source": [
        "def createFileInGoogleDrive(fileName:str, addTextString:str):\n",
        "    '''Create & upload a text file.'''\n",
        "    newFile = gdrive.CreateFile({'title': fileName})\n",
        "    # Add Content to file\n",
        "    newFile.SetContentString(addTextString)\n",
        "    newFile.Upload()\n",
        "    print('newFile ID {}'.format(newFile.get('id')))"
      ],
      "execution_count": null,
      "outputs": []
    },
    {
      "cell_type": "code",
      "metadata": {
        "id": "1lvo_2aEprUp",
        "colab_type": "code",
        "colab": {}
      },
      "source": [
        "def downloadGoogleDriveFile(file_id):\n",
        "    '''Download a file based on its file ID.'''\n",
        "    downloaded = drive.CreateFile({'id': file_id})\n",
        "    # print('Downloaded content \"{}\"'.format(downloaded.GetContentString()))\n",
        "    return downloaded"
      ],
      "execution_count": null,
      "outputs": []
    },
    {
      "cell_type": "code",
      "metadata": {
        "id": "BOEXOuMwDj-w",
        "colab_type": "code",
        "colab": {}
      },
      "source": [
        "from FileUtilities import *\n",
        "from IPython.display import *\n",
        "from IPython.core.display import *\n",
        "listAllFilesIn(directory='/gdrive/My Drive/Images')\n",
        "\n",
        "print(len(fileIdDict))\n",
        "fileCount = 0\n",
        "for item in fileIdDict:\n",
        "    realPath = realpath(item)\n",
        "    if isdir(item):\n",
        "        print(f'{C.BBlue}{item}')\n",
        "    elif isfile(item):\n",
        "        fileCount += 1\n",
        "        print(f'{C.BWhite}{fileCount}. {item}')\n",
        "        print(f'{C.BWhite}{fileIdDict[item]}')\n",
        "\n",
        "realPath = realpath()\n",
        "# imageFile = downloadGoogleDriveFile(file_id)\n",
        "imageData = Image(url=imageURL, embed=True, width=800, height=800)\n",
        "displayImage = DisplayObject(url=imageURL)\n",
        "\n",
        "print(f'{C.BGreen}{basename(imageURL)}{C.ColorOff}\\n')\n",
        "\n",
        "imageData.reload() # Image object\n",
        "print(displayImage)\n",
        "print(imageData)\n",
        "display(displayImage)\n"
      ],
      "execution_count": null,
      "outputs": []
    },
    {
      "cell_type": "code",
      "metadata": {
        "id": "ULVPghkcpw63",
        "colab_type": "code",
        "colab": {}
      },
      "source": [
        "import IPython\n",
        "from IPython.display import *\n",
        "js_code='''\n",
        "document.querySelector(\"#output-area\").appendChild(document.createTextNode(\"WTF?\")) \n",
        "'''\n",
        "# display(Javascript(js_code))"
      ],
      "execution_count": null,
      "outputs": []
    }
  ]
}