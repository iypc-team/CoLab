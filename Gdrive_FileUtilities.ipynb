{
  "nbformat": 4,
  "nbformat_minor": 0,
  "metadata": {
    "colab": {
      "name": "Gdrive_FileUtilities.ipynb",
      "provenance": [],
      "private_outputs": true,
      "collapsed_sections": [],
      "include_colab_link": true
    },
    "kernelspec": {
      "display_name": "Python 3",
      "language": "python",
      "name": "python3"
    },
    "language_info": {
      "codemirror_mode": {
        "name": "ipython",
        "version": 3
      },
      "file_extension": ".py",
      "mimetype": "text/x-python",
      "name": "python",
      "nbconvert_exporter": "python",
      "pygments_lexer": "ipython3",
      "version": "3.7.8"
    }
  },
  "cells": [
    {
      "cell_type": "markdown",
      "metadata": {
        "id": "view-in-github",
        "colab_type": "text"
      },
      "source": [
        "<a href=\"https://colab.research.google.com/github/iypc-team/CoLab/blob/master/Gdrive_FileUtilities.ipynb\" target=\"_parent\"><img src=\"https://colab.research.google.com/assets/colab-badge.svg\" alt=\"Open In Colab\"/></a>"
      ]
    },
    {
      "cell_type": "code",
      "metadata": {
        "colab_type": "code",
        "id": "X1sSMAo203Hj",
        "colab": {}
      },
      "source": [
        "# 09/19/2020\n",
        "\n",
        "# Open files from google Drive\n",
        "from google.colab import drive\n",
        "drive.mount('/gdrive', force_remount=True)\n",
        "%cd '/gdrive/My Drive'\n",
        "from BashColors import C\n",
        "\n",
        "# Import PyDrive and associated libraries.\n",
        "# This only needs to be done once per notebook.\n",
        "from pydrive.auth import GoogleAuth\n",
        "from pydrive.drive import GoogleDrive\n",
        "from google.colab import auth\n",
        "from oauth2client.client import GoogleCredentials\n",
        "\n",
        "# Authenticate and create the PyDrive client.\n",
        "# This only needs to be done once per notebook.\n",
        "auth.authenticate_user()\n",
        "gauth = GoogleAuth()\n",
        "gauth.credentials = GoogleCredentials.get_application_default()\n",
        "gdrive = GoogleDrive(gauth)\n",
        "\n",
        "fileIdDict = {}\n",
        "searchFilesDict = {}\n",
        "listed = None\n",
        "\n",
        "def searchGoogleDriveFiles(searchTerm='', silent=False):\n",
        "    '''Returns searchFilesDict silent=False lists found files'''\n",
        "    # searchFilesDict = {}\n",
        "    listed = gdrive.ListFile().GetList()\n",
        "    fileCount = 0\n",
        "\n",
        "    for fil in listed:\n",
        "        fileCount += 1\n",
        "        title = fil['title']\n",
        "        fileId = fil['id']\n",
        "\n",
        "        if title.__contains__(searchTerm):\n",
        "            searchFilesDict[fileCount] = (title, fileId)\n",
        "            if not silent:\n",
        "                print(f'{fileCount}. {title}  id: {fileId}')\n",
        "    return searchFilesDict.copy()\n",
        "\n",
        "def listAllFilesInGoogleDrive(silent=True):\n",
        "    '''Returns fileIdDict silent=False prints all files in Google Drive'''\n",
        "    fileCount = 0\n",
        "    listed = gdrive.ListFile().GetList()\n",
        "    for fil in listed:\n",
        "        fileCount += 1\n",
        "        title = fil['title']\n",
        "        fileId = fil['id']\n",
        "        fileIdDict[fileCount] = (title, fileId)\n",
        "        if not silent:\n",
        "            print(f'{fileCount}. {title}  id: {fileId}')\n",
        "    return fileIdDict.copy()\n",
        "    \n",
        "\n",
        "def createFileInGoogleDrive(fileName:str, addTextString:str):\n",
        "    '''Create & upload a text file.'''\n",
        "    newFile = gdrive.CreateFile({'title': fileName})\n",
        "    # Add Content to file\n",
        "    newFile.SetContentString(addTextString)\n",
        "    newFile.Upload()\n",
        "    print('newFile ID {}'.format(newFile.get('id')))\n",
        "\n",
        "def downloadGoogleDriveFile(file_id):\n",
        "    '''Returns download file based on its file ID.'''\n",
        "    downloaded = gdrive.CreateFile({'id': file_id})\n",
        "    print('Downloaded content \"{}\"'.format(downloaded.GetContentString()))\n",
        "    return downloaded\n",
        "\n",
        "def getGdriveFileList():\n",
        "    '''Returns list of all files in Google Drive'''\n",
        "    listed = gdrive.ListFile().GetList()\n",
        "    return listed"
      ],
      "execution_count": null,
      "outputs": []
    },
    {
      "cell_type": "code",
      "metadata": {
        "colab_type": "code",
        "id": "BOEXOuMwDj-w",
        "colab": {}
      },
      "source": [
        "from IPython.display import *\n",
        "from IPython.core.display import *\n",
        "\n",
        "foundFiles = searchGoogleDriveFiles(searchTerm='.JPG', silent=True)\n",
        "selection = foundFiles[374]\n",
        "fileId = selection[1]\n",
        "print(fileId)\n",
        "\n",
        "# realPath = realpath()\n",
        "imageFile = downloadGoogleDriveFile(fileId)\n",
        "# imageData = Image(url=imageURL, embed=True, width=800, height=800)\n",
        "# displayImage = DisplayObject(url=imageURL)\n"
      ],
      "execution_count": null,
      "outputs": []
    },
    {
      "cell_type": "code",
      "metadata": {
        "colab_type": "code",
        "id": "ULVPghkcpw63",
        "colab": {}
      },
      "source": [
        "import IPython\n",
        "from IPython.display import *\n",
        "js_code='''\n",
        "document.querySelector(\"#output-area\").appendChild(document.createTextNode(\"WTF?\")) \n",
        "'''\n",
        "# display(Javascript(js_code))"
      ],
      "execution_count": null,
      "outputs": []
    }
  ]
}