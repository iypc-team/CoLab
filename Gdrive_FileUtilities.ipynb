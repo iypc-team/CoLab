{
  "nbformat": 4,
  "nbformat_minor": 0,
  "metadata": {
    "colab": {
      "name": "Gdrive_FileUtilities.ipynb",
      "provenance": [],
      "private_outputs": true,
      "collapsed_sections": [],
      "include_colab_link": true
    },
    "kernelspec": {
      "display_name": "Python 3",
      "language": "python",
      "name": "python3"
    },
    "language_info": {
      "codemirror_mode": {
        "name": "ipython",
        "version": 3
      },
      "file_extension": ".py",
      "mimetype": "text/x-python",
      "name": "python",
      "nbconvert_exporter": "python",
      "pygments_lexer": "ipython3",
      "version": "3.7.8"
    }
  },
  "cells": [
    {
      "cell_type": "markdown",
      "metadata": {
        "id": "view-in-github",
        "colab_type": "text"
      },
      "source": [
        "<a href=\"https://colab.research.google.com/github/iypc-team/CoLab/blob/master/Gdrive_FileUtilities.ipynb\" target=\"_parent\"><img src=\"https://colab.research.google.com/assets/colab-badge.svg\" alt=\"Open In Colab\"/></a>"
      ]
    },
    {
      "cell_type": "code",
      "metadata": {
        "colab_type": "code",
        "id": "CLDfT0NN1p1n",
        "colab": {}
      },
      "source": [
        "# 09/16/2020\n",
        "# Open files from google Drive\n",
        "from google.colab import drive\n",
        "import glob, os\n",
        "from os.path import *\n",
        "drive.mount('/content/gdrive/', force_remount=True)\n",
        "os.chdir('/content/gdrive/My Drive/')\n",
        "\n",
        "from BashColors import C\n",
        "from pathlib import Path\n",
        "# from FileUtilities import *\n",
        "print(f'{C.OnIRed}{C.BIYellow}cwd: {Path.cwd()}')"
      ],
      "execution_count": null,
      "outputs": []
    },
    {
      "cell_type": "code",
      "metadata": {
        "colab_type": "code",
        "id": "X1sSMAo203Hj",
        "colab": {}
      },
      "source": [
        "# Import PyDrive and associated libraries.\n",
        "# This only needs to be done once per notebook.\n",
        "from pydrive.auth import GoogleAuth\n",
        "from pydrive.drive import GoogleDrive\n",
        "from google.colab import auth, drive, files\n",
        "from oauth2client.client import GoogleCredentials\n",
        "\n",
        "# Authenticate and create the PyDrive client.\n",
        "# This only needs to be done once per notebook.\n",
        "auth.authenticate_user()\n",
        "gauth = GoogleAuth()\n",
        "gauth.credentials = GoogleCredentials.get_application_default()\n",
        "gdrive = GoogleDrive(gauth)\n",
        "\n",
        "from pathlib import Path\n",
        "print(Path.cwd())\n",
        "\n",
        "allFiles = glob.glob('**', recursive=False)\n",
        "directoryDict = {}\n",
        "filesDict = {}\n",
        "for fil in sorted(allFiles):\n",
        "    realPath = realpath(fil)\n",
        "    posixPath = Path(realPath)\n",
        "    dirCount = 0\n",
        "    filCount = 0\n",
        "    if exists(realPath) and isdir(realPath):\n",
        "        dirCount += 1\n",
        "        directoryDict[dirCount] = realPath\n",
        "        print(f'{C.BIBlue}{realPath}')\n",
        "    elif exists(realPath) and isfile(realPath):\n",
        "        filCount += 1\n",
        "        filesDict[filCount] = realPath\n",
        "        print(f'{C.IWhite}{filCount}. {basename(realPath)}')"
      ],
      "execution_count": null,
      "outputs": []
    },
    {
      "cell_type": "code",
      "metadata": {
        "colab_type": "code",
        "id": "bfX-3xkM69Nl",
        "colab": {}
      },
      "source": [
        "def searchGoogleDriveFiles():\n",
        "    # List .txt files in the root.\n",
        "    # Search query reference:\n",
        "    # https://developers.google.com/drive/v2/web/search-parameters\n",
        "    fileCount = 0\n",
        "    listed = gdrive.ListFile({'q': \"title contains '*.*' and 'root' in parents\"}).GetList() \n",
        "    for fil in listed:\n",
        "        fileCount += 1\n",
        "        title = fil['title']\n",
        "        fileId = fil['id']\n",
        "        print(f'{fileCount}. {title}')\n",
        "\n",
        "\n",
        "def listAllFiles(fromDirectory:str='', silent=True):\n",
        "    %cd {fromDirectory}\n",
        "    fileCount = 0\n",
        "    listed = gdrive.ListFile().GetList()\n",
        "    for fil in listed:\n",
        "        fileCount += 1\n",
        "        title = fil['title']\n",
        "        fileId = fil['id']\n",
        "        if not silent:\n",
        "            print(f'{fileCount}. {title}  id: {fileId}')\n",
        "            # print('title {}, id {}'.format(file['title'], file['id']))\n",
        "\n",
        "def createFileInGoogleDrive(fileName:str, addTextString:str):\n",
        "    '''Create & upload a text file.'''\n",
        "    newFile = gdrive.CreateFile({'title': fileName})\n",
        "    # Add Content to file\n",
        "    newFile.SetContentString(addTextString)\n",
        "    newFile.Upload()\n",
        "    print('newFile ID {}'.format(newFile.get('id')))\n",
        "\n",
        "def downloadGoogleDriveFile(file_id):\n",
        "    '''Download a file based on its file ID.'''\n",
        "    file_id = 'REPLACE_WITH_YOUR_FILE_ID'\n",
        "    downloaded = drive.CreateFile({'id': file_id})\n",
        "    print('Downloaded content \"{}\"'.format(downloaded.GetContentString()))"
      ],
      "execution_count": null,
      "outputs": []
    },
    {
      "cell_type": "code",
      "metadata": {
        "colab_type": "code",
        "id": "ULVPghkcpw63",
        "colab": {}
      },
      "source": [
        "import IPython\n",
        "js_code='''\n",
        "document.querySelector(\"#output-area\").appendChild(document.createTextNode(\"WTF\")) \n",
        "'''\n",
        "display(IPython.display.Javascript(js_code))"
      ],
      "execution_count": null,
      "outputs": []
    }
  ]
}