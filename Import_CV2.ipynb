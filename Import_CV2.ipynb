{
  "nbformat": 4,
  "nbformat_minor": 5,
  "metadata": {
    "kernelspec": {
      "display_name": "Python 3",
      "language": "python",
      "name": "python3"
    },
    "language_info": {
      "codemirror_mode": {
        "name": "ipython",
        "version": 3
      },
      "file_extension": ".py",
      "mimetype": "text/x-python",
      "name": "python",
      "nbconvert_exporter": "python",
      "pygments_lexer": "ipython3",
      "version": "3.7.10"
    },
    "colab": {
      "name": "Import_CV2.ipynb",
      "private_outputs": true,
      "provenance": [],
      "collapsed_sections": [],
      "include_colab_link": true
    }
  },
  "cells": [
    {
      "cell_type": "markdown",
      "metadata": {
        "id": "view-in-github",
        "colab_type": "text"
      },
      "source": [
        "<a href=\"https://colab.research.google.com/github/iypc-team/CoLab/blob/master/Import_CV2.ipynb\" target=\"_parent\"><img src=\"https://colab.research.google.com/assets/colab-badge.svg\" alt=\"Open In Colab\"/></a>"
      ]
    },
    {
      "cell_type": "code",
      "metadata": {
        "id": "improving-pioneer"
      },
      "source": [
        "# 07/06/2021-2\n",
        "from __future__ import absolute_import\n",
        "\n",
        "try: \n",
        "    from google.colab import drive\n",
        "    from google.colab.patches import cv2_imshow\n",
        "except Exception as err:\n",
        "    print(err)\n",
        "\n",
        "try: import cv2\n",
        "except Exception as err:\n",
        "    print(err)\n",
        "    print()\n",
        "    # %pip install opencv-python-headless # works.\n",
        "    %pip install opencv-contrib-python-headless\n",
        "\n",
        "import numpy as np\n",
        "import glob, os, shutil\n",
        "from os.path import *\n",
        "\n",
        "if exists('/content/sample_data'):\n",
        "    shutil.rmtree('/content/sample_data')\n",
        "\n",
        "contentPth = os.getcwd()\n",
        "tensorflowImagesPath = join(contentPth, 'TensorflowImages')\n",
        "\n",
        "try:\n",
        "    drive.flush_and_unmount()\n",
        "    drive.mount('/content/gdrive/', force_remount=True)\n",
        "    mydrivePth = '/content/gdrive/MyDrive'\n",
        "    os.chdir(mydrivePth)\n",
        "    gdriveTFImagesPth = join(mydrivePth, 'TensorflowImages')\n",
        "    # os.chdir(gdriveTFImagesPth)\n",
        "    if not exists(tensorflowImagesPath):\n",
        "        shutil.copytree(gdriveTFImagesPth,tensorflowImagesPath)\n",
        "\n",
        "    from TarfileFunctions import *\n",
        "    from BashColors import C\n",
        "    os.chdir(contentPth)\n",
        "except:\n",
        "    os.chdir(contentPth)\n",
        "    from TarfileFunctions import *\n",
        "    from BashColors import C\n",
        "\n",
        "rootPth = expanduser(\"~\")\n",
        "tensorflowImagesPath = join(contentPth, 'TensorflowImages')\n",
        "print(tensorflowImagesPath)\n",
        "\n",
        "os.chdir(contentPth)\n",
        "print(f'cv2: {C.IBlue}{cv2.__version__}')\n",
        "print(f'{os.getcwd()}')"
      ],
      "id": "improving-pioneer",
      "execution_count": null,
      "outputs": []
    },
    {
      "cell_type": "code",
      "metadata": {
        "id": "medical-china"
      },
      "source": [
        "imagePathList=[]\n",
        "os.chdir(tensorflowImagesPath)\n",
        "globImageList=glob.glob('**', recursive=True)\n",
        "for fil in sorted(globImageList):\n",
        "    if isfile(fil):\n",
        "        fullPath=abspath(fil)\n",
        "        imagePathList.append(fullPath)\n",
        "        print(fullPath)\n",
        "os.chdir(contentPth)"
      ],
      "id": "medical-china",
      "execution_count": null,
      "outputs": []
    },
    {
      "cell_type": "code",
      "metadata": {
        "id": "mhlBf8XEr3n-"
      },
      "source": [
        "imagePth = imagePathList[0]\n",
        "img = cv2.imread(imagePth, cv2.IMREAD_UNCHANGED)\n",
        "print(img.shape)\n",
        "cv2_imshow(img)\n",
        "print()\n",
        "img = cv2.resize(img, (22,22), cv2.INTER_AREA)\n",
        "print(img.shape)\n",
        "cv2.waitKey(1)\n",
        "cv2.destroyAllWindows()\n",
        "cv2_imshow(img)\n",
        "print(img.size)\n",
        "print()"
      ],
      "id": "mhlBf8XEr3n-",
      "execution_count": null,
      "outputs": []
    },
    {
      "cell_type": "code",
      "metadata": {
        "id": "mdoGvaqc-HPc"
      },
      "source": [
        "bgPixel = img[0][0]\n",
        "bgPixel.__class__"
      ],
      "id": "mdoGvaqc-HPc",
      "execution_count": null,
      "outputs": []
    },
    {
      "cell_type": "code",
      "metadata": {
        "id": "8UWxyQ1Wumee"
      },
      "source": [
        "\n",
        "b,g,r,a = cv2.split(img)\n",
        "\n",
        "newImg = cv2.merge([b,g,r,a])\n",
        "cv2_imshow(newImg)"
      ],
      "id": "8UWxyQ1Wumee",
      "execution_count": null,
      "outputs": []
    }
  ]
}