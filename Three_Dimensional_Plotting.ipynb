{
  "nbformat": 4,
  "nbformat_minor": 0,
  "metadata": {
    "anaconda-cloud": {},
    "kernelspec": {
      "name": "python3",
      "display_name": "Python 3"
    },
    "language_info": {
      "codemirror_mode": {
        "name": "ipython",
        "version": 3
      },
      "file_extension": ".py",
      "mimetype": "text/x-python",
      "name": "python",
      "nbconvert_exporter": "python",
      "pygments_lexer": "ipython3",
      "version": "3.5.1"
    },
    "colab": {
      "name": "Three-Dimensional-Plotting.ipynb",
      "version": "0.3.2",
      "provenance": [],
      "private_outputs": true,
      "collapsed_sections": [],
      "include_colab_link": true
    }
  },
  "cells": [
    {
      "cell_type": "markdown",
      "metadata": {
        "id": "view-in-github",
        "colab_type": "text"
      },
      "source": [
        "<a href=\"https://colab.research.google.com/github/iypc-team/CoLab/blob/master/Three_Dimensional_Plotting.ipynb\" target=\"_parent\"><img src=\"https://colab.research.google.com/assets/colab-badge.svg\" alt=\"Open In Colab\"/></a>"
      ]
    },
    {
      "cell_type": "markdown",
      "metadata": {
        "id": "Gg_hWVSqCm-9",
        "colab_type": "text"
      },
      "source": [
        "# Three-Dimensional Plotting in Matplotlib"
      ]
    },
    {
      "cell_type": "code",
      "metadata": {
        "id": "CXKwLDshCm_e",
        "colab_type": "code",
        "colab": {}
      },
      "source": [
        "from mpl_toolkits import mplot3d"
      ],
      "execution_count": 0,
      "outputs": []
    },
    {
      "cell_type": "code",
      "metadata": {
        "id": "W-InWcboCnA3",
        "colab_type": "code",
        "colab": {}
      },
      "source": [
        "%matplotlib inline\n",
        "import numpy as np\n",
        "import matplotlib.pyplot as plt"
      ],
      "execution_count": 0,
      "outputs": []
    },
    {
      "cell_type": "code",
      "metadata": {
        "id": "zMqqk7WJCnBC",
        "colab_type": "code",
        "colab": {}
      },
      "source": [
        "fig = plt.figure()\n",
        "ax = plt.axes(projection='3d')"
      ],
      "execution_count": 0,
      "outputs": []
    },
    {
      "cell_type": "markdown",
      "metadata": {
        "id": "ZtzfFxFVCnCG",
        "colab_type": "text"
      },
      "source": [
        "With this three-dimensional axes enabled, we can now plot a variety of three-dimensional plot types. \n",
        "Three-dimensional plotting is one of the functionalities that benefits immensely from viewing figures interactively rather than statically in the notebook; recall that to use interactive figures, you can use ``%matplotlib notebook`` rather than ``%matplotlib inline`` when running this code."
      ]
    },
    {
      "cell_type": "markdown",
      "metadata": {
        "id": "ng9i81_ICnCd",
        "colab_type": "text"
      },
      "source": [
        "## Three-dimensional Points and Lines\n",
        "\n",
        "The most basic three-dimensional plot is a line or collection of scatter plot created from sets of (x, y, z) triples.\n",
        "In analogy with the more common two-dimensional plots discussed earlier, these can be created using the ``ax.plot3D`` and ``ax.scatter3D`` functions.\n",
        "The call signature for these is nearly identical to that of their two-dimensional counterparts, so you can refer to [Simple Line Plots](04.01-Simple-Line-Plots.ipynb) and [Simple Scatter Plots](04.02-Simple-Scatter-Plots.ipynb) for more information on controlling the output.\n",
        "Here we'll plot a trigonometric spiral, along with some points drawn randomly near the line:"
      ]
    },
    {
      "cell_type": "code",
      "metadata": {
        "id": "WHWUwz2VCnCi",
        "colab_type": "code",
        "colab": {}
      },
      "source": [
        "ax = plt.axes(projection='3d')\n",
        "\n",
        "# Data for a three-dimensional line\n",
        "zline = np.linspace(0, 15, 1000)\n",
        "xline = np.sin(zline)\n",
        "yline = np.cos(zline)\n",
        "ax.plot3D(xline, yline, zline, 'gray')\n",
        "\n",
        "# Data for three-dimensional scattered points\n",
        "zdata = 15 * np.random.random(100)\n",
        "xdata = np.sin(zdata) + 0.1 * np.random.randn(100)\n",
        "ydata = np.cos(zdata) + 0.1 * np.random.randn(100)\n",
        "ax.scatter3D(xdata, ydata, zdata, c=zdata, cmap='Greens');"
      ],
      "execution_count": 0,
      "outputs": []
    },
    {
      "cell_type": "markdown",
      "metadata": {
        "id": "kSaW9PcxCnDK",
        "colab_type": "text"
      },
      "source": [
        "Notice that by default, the scatter points have their transparency adjusted to give a sense of depth on the page.\n",
        "While the three-dimensional effect is sometimes difficult to see within a static image, an interactive view can lead to some nice intuition about the layout of the points."
      ]
    },
    {
      "cell_type": "markdown",
      "metadata": {
        "id": "tFpYCHwECnDM",
        "colab_type": "text"
      },
      "source": [
        "## Three-dimensional Contour Plots\n",
        "\n",
        "Analogous to the contour plots we explored in [Density and Contour Plots](04.04-Density-and-Contour-Plots.ipynb), ``mplot3d`` contains tools to create three-dimensional relief plots using the same inputs.\n",
        "Like two-dimensional ``ax.contour`` plots, ``ax.contour3D`` requires all the input data to be in the form of two-dimensional regular grids, with the Z data evaluated at each point.\n",
        "Here we'll show a three-dimensional contour diagram of a three-dimensional sinusoidal function:"
      ]
    },
    {
      "cell_type": "code",
      "metadata": {
        "id": "zSOxL3KaCnDP",
        "colab_type": "code",
        "colab": {}
      },
      "source": [
        "def f(x, y):\n",
        "    return np.sin(np.sqrt(x ** 2 + y ** 2))\n",
        "\n",
        "x = np.linspace(-6, 6, 30)\n",
        "y = np.linspace(-6, 6, 30)\n",
        "\n",
        "X, Y = np.meshgrid(x, y)\n",
        "Z = f(X, Y)"
      ],
      "execution_count": 0,
      "outputs": []
    },
    {
      "cell_type": "code",
      "metadata": {
        "id": "TlLKmyQTCnDj",
        "colab_type": "code",
        "colab": {}
      },
      "source": [
        "fig = plt.figure()\n",
        "ax = plt.axes(projection='3d')\n",
        "ax.contour3D(X, Y, Z, 50, cmap='binary')\n",
        "ax.set_xlabel('x')\n",
        "ax.set_ylabel('y')\n",
        "ax.set_zlabel('z');"
      ],
      "execution_count": 0,
      "outputs": []
    },
    {
      "cell_type": "markdown",
      "metadata": {
        "id": "xgI2SkluCnDq",
        "colab_type": "text"
      },
      "source": [
        "Sometimes the default viewing angle is not optimal, in which case we can use the ``view_init`` method to set the elevation and azimuthal angles. In the following example, we'll use an elevation of 60 degrees (that is, 60 degrees above the x-y plane) and an azimuth of 35 degrees (that is, rotated 35 degrees counter-clockwise about the z-axis):"
      ]
    },
    {
      "cell_type": "code",
      "metadata": {
        "id": "pBf7chtPCnDs",
        "colab_type": "code",
        "colab": {}
      },
      "source": [
        "ax.view_init(60, 35)\n",
        "fig"
      ],
      "execution_count": 0,
      "outputs": []
    },
    {
      "cell_type": "markdown",
      "metadata": {
        "id": "IuqZKXFDCnD-",
        "colab_type": "text"
      },
      "source": [
        "Again, note that this type of rotation can be accomplished interactively by clicking and dragging when using one of Matplotlib's interactive backends."
      ]
    },
    {
      "cell_type": "markdown",
      "metadata": {
        "id": "TIdDcaNcCnEA",
        "colab_type": "text"
      },
      "source": [
        "## Wireframes and Surface Plots\n",
        "\n",
        "Two other types of three-dimensional plots that work on gridded data are wireframes and surface plots.\n",
        "These take a grid of values and project it onto the specified three-dimensional surface, and can make the resulting three-dimensional forms quite easy to visualize.\n",
        "Here's an example of using a wireframe:"
      ]
    },
    {
      "cell_type": "code",
      "metadata": {
        "id": "GOMHHa-DCnEC",
        "colab_type": "code",
        "colab": {}
      },
      "source": [
        "fig = plt.figure()\n",
        "ax = plt.axes(projection='3d')\n",
        "ax.plot_wireframe(X, Y, Z, color='black')\n",
        "ax.set_title('wireframe');"
      ],
      "execution_count": 0,
      "outputs": []
    },
    {
      "cell_type": "markdown",
      "metadata": {
        "id": "yHFqhki8CnEV",
        "colab_type": "text"
      },
      "source": [
        "A surface plot is like a wireframe plot, but each face of the wireframe is a filled polygon.\n",
        "Adding a colormap to the filled polygons can aid perception of the topology of the surface being visualized:"
      ]
    },
    {
      "cell_type": "code",
      "metadata": {
        "id": "biSd9x3ZCnEX",
        "colab_type": "code",
        "colab": {}
      },
      "source": [
        "ax = plt.axes(projection='3d')\n",
        "ax.plot_surface(X, Y, Z, rstride=1, cstride=1,\n",
        "                cmap='viridis', edgecolor='none')\n",
        "ax.set_title('surface');"
      ],
      "execution_count": 0,
      "outputs": []
    },
    {
      "cell_type": "markdown",
      "metadata": {
        "id": "Ydi34cU0CnEe",
        "colab_type": "text"
      },
      "source": [
        "Note that though the grid of values for a surface plot needs to be two-dimensional, it need not be rectilinear.\n",
        "Here is an example of creating a partial polar grid, which when used with the ``surface3D`` plot can give us a slice into the function we're visualizing:"
      ]
    },
    {
      "cell_type": "code",
      "metadata": {
        "id": "z8LQk7-ZCnEg",
        "colab_type": "code",
        "colab": {}
      },
      "source": [
        "r = np.linspace(0, 6, 20)\n",
        "theta = np.linspace(-0.9 * np.pi, 0.8 * np.pi, 40)\n",
        "r, theta = np.meshgrid(r, theta)\n",
        "\n",
        "X = r * np.sin(theta)\n",
        "Y = r * np.cos(theta)\n",
        "Z = f(X, Y)\n",
        "\n",
        "ax = plt.axes(projection='3d')\n",
        "ax.plot_surface(X, Y, Z, rstride=1, cstride=1,\n",
        "                cmap='viridis', edgecolor='none');"
      ],
      "execution_count": 0,
      "outputs": []
    },
    {
      "cell_type": "markdown",
      "metadata": {
        "id": "LW9LvrhkCnEo",
        "colab_type": "text"
      },
      "source": [
        "## Surface Triangulations\n",
        "\n",
        "For some applications, the evenly sampled grids required by the above routines is overly restrictive and inconvenient.\n",
        "In these situations, the triangulation-based plots can be very useful.\n",
        "What if rather than an even draw from a Cartesian or a polar grid, we instead have a set of random draws?"
      ]
    },
    {
      "cell_type": "code",
      "metadata": {
        "id": "GTN4x8czCnEq",
        "colab_type": "code",
        "colab": {}
      },
      "source": [
        "theta = 2 * np.pi * np.random.random(1000)\n",
        "r = 6 * np.random.random(1000)\n",
        "x = np.ravel(r * np.sin(theta))\n",
        "y = np.ravel(r * np.cos(theta))\n",
        "z = f(x, y)"
      ],
      "execution_count": 0,
      "outputs": []
    },
    {
      "cell_type": "markdown",
      "metadata": {
        "id": "Wjn-eMa5CnEt",
        "colab_type": "text"
      },
      "source": [
        "We could create a scatter plot of the points to get an idea of the surface we're sampling from:"
      ]
    },
    {
      "cell_type": "code",
      "metadata": {
        "id": "g2lRcSF3CnEv",
        "colab_type": "code",
        "colab": {}
      },
      "source": [
        "ax = plt.axes(projection='3d')\n",
        "ax.scatter(x, y, z, c=z, cmap='viridis', linewidth=0.5);"
      ],
      "execution_count": 0,
      "outputs": []
    },
    {
      "cell_type": "markdown",
      "metadata": {
        "id": "k5IvNcvyCnE3",
        "colab_type": "text"
      },
      "source": [
        "This leaves a lot to be desired.\n",
        "The function that will help us in this case is ``ax.plot_trisurf``, which creates a surface by first finding a set of triangles formed between adjacent points (remember that x, y, and z here are one-dimensional arrays):"
      ]
    },
    {
      "cell_type": "code",
      "metadata": {
        "id": "R320oCI5CnE4",
        "colab_type": "code",
        "colab": {}
      },
      "source": [
        "ax = plt.axes(projection='3d')\n",
        "ax.plot_trisurf(x, y, z,\n",
        "                cmap='viridis', edgecolor='none');"
      ],
      "execution_count": 0,
      "outputs": []
    },
    {
      "cell_type": "markdown",
      "metadata": {
        "id": "U9mbgbVuCnFB",
        "colab_type": "text"
      },
      "source": [
        "The result is certainly not as clean as when it is plotted with a grid, but the flexibility of such a triangulation allows for some really interesting three-dimensional plots.\n",
        "For example, it is actually possible to plot a three-dimensional Möbius strip using this, as we'll see next."
      ]
    },
    {
      "cell_type": "markdown",
      "metadata": {
        "id": "hGh3NEHyCnFE",
        "colab_type": "text"
      },
      "source": [
        "### Example: Visualizing a Möbius strip\n",
        "\n",
        "A Möbius strip is similar to a strip of paper glued into a loop with a half-twist.\n",
        "Topologically, it's quite interesting because despite appearances it has only a single side!\n",
        "Here we will visualize such an object using Matplotlib's three-dimensional tools.\n",
        "The key to creating the Möbius strip is to think about it's parametrization: it's a two-dimensional strip, so we need two intrinsic dimensions. Let's call them $\\theta$, which ranges from $0$ to $2\\pi$ around the loop, and $w$ which ranges from -1 to 1 across the width of the strip:"
      ]
    },
    {
      "cell_type": "code",
      "metadata": {
        "id": "QXZl5Yn5CnFG",
        "colab_type": "code",
        "colab": {}
      },
      "source": [
        "theta = np.linspace(0, 2 * np.pi, 30)\n",
        "w = np.linspace(-0.25, 0.25, 8)\n",
        "w, theta = np.meshgrid(w, theta)"
      ],
      "execution_count": 0,
      "outputs": []
    },
    {
      "cell_type": "markdown",
      "metadata": {
        "id": "plzNReVsCnFa",
        "colab_type": "text"
      },
      "source": [
        "Now from this parametrization, we must determine the *(x, y, z)* positions of the embedded strip.\n",
        "\n",
        "Thinking about it, we might realize that there are two rotations happening: one is the position of the loop about its center (what we've called $\\theta$), while the other is the twisting of the strip about its axis (we'll call this $\\phi$). For a Möbius strip, we must have the strip makes half a twist during a full loop, or $\\Delta\\phi = \\Delta\\theta/2$."
      ]
    },
    {
      "cell_type": "code",
      "metadata": {
        "id": "-v22IeiXCnFe",
        "colab_type": "code",
        "colab": {}
      },
      "source": [
        "phi = 0.5 * theta"
      ],
      "execution_count": 0,
      "outputs": []
    },
    {
      "cell_type": "markdown",
      "metadata": {
        "id": "QSTeMBBFCnFw",
        "colab_type": "text"
      },
      "source": [
        "Now we use our recollection of trigonometry to derive the three-dimensional embedding.\n",
        "We'll define $r$, the distance of each point from the center, and use this to find the embedded $(x, y, z)$ coordinates:"
      ]
    },
    {
      "cell_type": "code",
      "metadata": {
        "id": "ClVNIhcCCnF0",
        "colab_type": "code",
        "colab": {}
      },
      "source": [
        "# radius in x-y plane\n",
        "r = 1 + w * np.cos(phi)\n",
        "\n",
        "x = np.ravel(r * np.cos(theta))\n",
        "y = np.ravel(r * np.sin(theta))\n",
        "z = np.ravel(w * np.sin(phi))"
      ],
      "execution_count": 0,
      "outputs": []
    },
    {
      "cell_type": "markdown",
      "metadata": {
        "id": "E_7njjxcCnF8",
        "colab_type": "text"
      },
      "source": [
        "Finally, to plot the object, we must make sure the triangulation is correct. The best way to do this is to define the triangulation *within the underlying parametrization*, and then let Matplotlib project this triangulation into the three-dimensional space of the Möbius strip.\n",
        "This can be accomplished as follows:"
      ]
    },
    {
      "cell_type": "code",
      "metadata": {
        "id": "t9YIZZ9lCnF-",
        "colab_type": "code",
        "colab": {}
      },
      "source": [
        "# triangulate in the underlying parametrization\n",
        "from matplotlib.tri import Triangulation\n",
        "tri = Triangulation(np.ravel(w), np.ravel(theta))\n",
        "\n",
        "ax = plt.axes(projection='3d')\n",
        "ax.plot_trisurf(x, y, z, triangles=tri.triangles,\n",
        "                cmap='viridis', linewidths=0.2);\n",
        "\n",
        "ax.set_xlim(-1, 1); ax.set_ylim(-1, 1); ax.set_zlim(-1, 1);"
      ],
      "execution_count": 0,
      "outputs": []
    },
    {
      "cell_type": "markdown",
      "metadata": {
        "id": "qusl3OtpCnGH",
        "colab_type": "text"
      },
      "source": [
        "Combining all of these techniques, it is possible to create and display a wide variety of three-dimensional objects and patterns in Matplotlib."
      ]
    },
    {
      "cell_type": "markdown",
      "metadata": {
        "id": "3ivCwnSjCnGJ",
        "colab_type": "text"
      },
      "source": [
        "<!--NAVIGATION-->\n",
        "< [Customizing Matplotlib: Configurations and Stylesheets](04.11-Settings-and-Stylesheets.ipynb) | [Contents](Index.ipynb) | [Geographic Data with Basemap](04.13-Geographic-Data-With-Basemap.ipynb) >\n",
        "\n",
        "<a href=\"https://colab.research.google.com/github/jakevdp/PythonDataScienceHandbook/blob/master/notebooks/04.12-Three-Dimensional-Plotting.ipynb\"><img align=\"left\" src=\"https://colab.research.google.com/assets/colab-badge.svg\" alt=\"Open in Colab\" title=\"Open and Execute in Google Colaboratory\"></a>\n"
      ]
    }
  ]
}