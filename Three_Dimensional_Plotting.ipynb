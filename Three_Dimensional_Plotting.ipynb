{
  "nbformat": 4,
  "nbformat_minor": 0,
  "metadata": {
    "anaconda-cloud": {},
    "kernelspec": {
      "name": "python3",
      "display_name": "Python 3"
    },
    "language_info": {
      "codemirror_mode": {
        "name": "ipython",
        "version": 3
      },
      "file_extension": ".py",
      "mimetype": "text/x-python",
      "name": "python",
      "nbconvert_exporter": "python",
      "pygments_lexer": "ipython3",
      "version": "3.5.1"
    },
    "colab": {
      "name": "Three-Dimensional-Plotting.ipynb",
      "version": "0.3.2",
      "provenance": [],
      "private_outputs": true,
      "collapsed_sections": [],
      "include_colab_link": true
    }
  },
  "cells": [
    {
      "cell_type": "markdown",
      "metadata": {
        "id": "view-in-github",
        "colab_type": "text"
      },
      "source": [
        "<a href=\"https://colab.research.google.com/github/iypc-team/CoLab/blob/master/Three_Dimensional_Plotting.ipynb\" target=\"_parent\"><img src=\"https://colab.research.google.com/assets/colab-badge.svg\" alt=\"Open In Colab\"/></a>"
      ]
    },
    {
      "cell_type": "markdown",
      "metadata": {
        "id": "Gg_hWVSqCm-9",
        "colab_type": "text"
      },
      "source": [
        "# Three-Dimensional Plotting in Matplotlib"
      ]
    },
    {
      "cell_type": "code",
      "metadata": {
        "id": "CXKwLDshCm_e",
        "colab_type": "code",
        "colab": {}
      },
      "source": [
        "from mpl_toolkits import mplot3d"
      ],
      "execution_count": 0,
      "outputs": []
    },
    {
      "cell_type": "code",
      "metadata": {
        "id": "W-InWcboCnA3",
        "colab_type": "code",
        "colab": {}
      },
      "source": [
        "%matplotlib inline\n",
        "import numpy as np\n",
        "import matplotlib.pyplot as plt"
      ],
      "execution_count": 0,
      "outputs": []
    },
    {
      "cell_type": "code",
      "metadata": {
        "id": "zMqqk7WJCnBC",
        "colab_type": "code",
        "colab": {}
      },
      "source": [
        "fig = plt.figure()\n",
        "ax = plt.axes(projection='3d')"
      ],
      "execution_count": 0,
      "outputs": []
    },
    {
      "cell_type": "markdown",
      "metadata": {
        "id": "ng9i81_ICnCd",
        "colab_type": "text"
      },
      "source": [
        "## Three-dimensional Points and Lines"
      ]
    },
    {
      "cell_type": "code",
      "metadata": {
        "id": "WHWUwz2VCnCi",
        "colab_type": "code",
        "colab": {}
      },
      "source": [
        "ax = plt.axes(projection='3d')\n",
        "\n",
        "# Data for a three-dimensional line\n",
        "zline = np.linspace(0, 15, 1000)\n",
        "xline = np.sin(zline)\n",
        "yline = np.cos(zline)\n",
        "ax.plot3D(xline, yline, zline, 'gray')\n",
        "\n",
        "# Data for three-dimensional scattered points\n",
        "zdata = 15 * np.random.random(100)\n",
        "xdata = np.sin(zdata) + 0.1 * np.random.randn(100)\n",
        "ydata = np.cos(zdata) + 0.1 * np.random.randn(100)\n",
        "ax.scatter3D(xdata, ydata, zdata, c=zdata, cmap='Greens');"
      ],
      "execution_count": 0,
      "outputs": []
    },
    {
      "cell_type": "markdown",
      "metadata": {
        "id": "tFpYCHwECnDM",
        "colab_type": "text"
      },
      "source": [
        "## Three-dimensional Contour Plot"
      ]
    },
    {
      "cell_type": "code",
      "metadata": {
        "id": "zSOxL3KaCnDP",
        "colab_type": "code",
        "colab": {}
      },
      "source": [
        "def f(x, y):\n",
        "    return np.sin(np.sqrt(x ** 2 + y ** 2))\n",
        "\n",
        "x = np.linspace(-6, 6, 30)\n",
        "y = np.linspace(-6, 6, 30)\n",
        "\n",
        "X, Y = np.meshgrid(x, y)\n",
        "Z = f(X, Y)"
      ],
      "execution_count": 0,
      "outputs": []
    },
    {
      "cell_type": "code",
      "metadata": {
        "id": "TlLKmyQTCnDj",
        "colab_type": "code",
        "colab": {}
      },
      "source": [
        "fig = plt.figure()\n",
        "ax = plt.axes(projection='3d')\n",
        "ax.contour3D(X, Y, Z, 50, cmap='binary')\n",
        "ax.set_xlabel('x')\n",
        "ax.set_ylabel('y')\n",
        "ax.set_zlabel('z');"
      ],
      "execution_count": 0,
      "outputs": []
    },
    {
      "cell_type": "code",
      "metadata": {
        "id": "pBf7chtPCnDs",
        "colab_type": "code",
        "colab": {}
      },
      "source": [
        "ax.view_init(60, 35)\n",
        "fig"
      ],
      "execution_count": 0,
      "outputs": []
    },
    {
      "cell_type": "markdown",
      "metadata": {
        "id": "TIdDcaNcCnEA",
        "colab_type": "text"
      },
      "source": [
        "## Wireframes and Surface Plots"
      ]
    },
    {
      "cell_type": "code",
      "metadata": {
        "id": "GOMHHa-DCnEC",
        "colab_type": "code",
        "colab": {}
      },
      "source": [
        "fig = plt.figure()\n",
        "ax = plt.axes(projection='3d')\n",
        "ax.plot_wireframe(X, Y, Z, color='black')\n",
        "ax.set_title('wireframe');"
      ],
      "execution_count": 0,
      "outputs": []
    },
    {
      "cell_type": "code",
      "metadata": {
        "id": "biSd9x3ZCnEX",
        "colab_type": "code",
        "colab": {}
      },
      "source": [
        "ax = plt.axes(projection='3d')\n",
        "ax.plot_surface(X, Y, Z, rstride=1, cstride=1,\n",
        "                cmap='viridis', edgecolor='none')\n",
        "ax.set_title('surface');"
      ],
      "execution_count": 0,
      "outputs": []
    },
    {
      "cell_type": "code",
      "metadata": {
        "id": "z8LQk7-ZCnEg",
        "colab_type": "code",
        "colab": {}
      },
      "source": [
        "r = np.linspace(0, 6, 20)\n",
        "theta = np.linspace(-0.9 * np.pi, 0.8 * np.pi, 40)\n",
        "r, theta = np.meshgrid(r, theta)\n",
        "\n",
        "X = r * np.sin(theta)\n",
        "Y = r * np.cos(theta)\n",
        "Z = f(X, Y)\n",
        "\n",
        "ax = plt.axes(projection='3d')\n",
        "ax.plot_surface(X, Y, Z, rstride=1, cstride=1,\n",
        "                cmap='viridis', edgecolor='none');"
      ],
      "execution_count": 0,
      "outputs": []
    },
    {
      "cell_type": "markdown",
      "metadata": {
        "id": "LW9LvrhkCnEo",
        "colab_type": "text"
      },
      "source": [
        "## Surface Triangulations"
      ]
    },
    {
      "cell_type": "code",
      "metadata": {
        "id": "GTN4x8czCnEq",
        "colab_type": "code",
        "colab": {}
      },
      "source": [
        "theta = 2 * np.pi * np.random.random(1000)\n",
        "r = 6 * np.random.random(1000)\n",
        "x = np.ravel(r * np.sin(theta))\n",
        "y = np.ravel(r * np.cos(theta))\n",
        "z = f(x, y)"
      ],
      "execution_count": 0,
      "outputs": []
    },
    {
      "cell_type": "code",
      "metadata": {
        "id": "g2lRcSF3CnEv",
        "colab_type": "code",
        "colab": {}
      },
      "source": [
        "ax = plt.axes(projection='3d')\n",
        "ax.scatter(x, y, z, c=z, cmap='viridis', linewidth=0.5);"
      ],
      "execution_count": 0,
      "outputs": []
    },
    {
      "cell_type": "code",
      "metadata": {
        "id": "R320oCI5CnE4",
        "colab_type": "code",
        "colab": {}
      },
      "source": [
        "ax = plt.axes(projection='3d')\n",
        "ax.plot_trisurf(x, y, z,\n",
        "                cmap='viridis', edgecolor='none');"
      ],
      "execution_count": 0,
      "outputs": []
    },
    {
      "cell_type": "markdown",
      "metadata": {
        "id": "hGh3NEHyCnFE",
        "colab_type": "text"
      },
      "source": [
        "### Example: Visualizing a Möbius strip\n"
      ]
    },
    {
      "cell_type": "code",
      "metadata": {
        "id": "QXZl5Yn5CnFG",
        "colab_type": "code",
        "colab": {}
      },
      "source": [
        "theta = np.linspace(0, 2 * np.pi, 30)\n",
        "w = np.linspace(-0.25, 0.25, 8)\n",
        "w, theta = np.meshgrid(w, theta)"
      ],
      "execution_count": 0,
      "outputs": []
    },
    {
      "cell_type": "code",
      "metadata": {
        "id": "-v22IeiXCnFe",
        "colab_type": "code",
        "colab": {}
      },
      "source": [
        "phi = 0.5 * theta"
      ],
      "execution_count": 0,
      "outputs": []
    },
    {
      "cell_type": "code",
      "metadata": {
        "id": "ClVNIhcCCnF0",
        "colab_type": "code",
        "colab": {}
      },
      "source": [
        "# radius in x-y plane\n",
        "r = 1 + w * np.cos(phi)\n",
        "\n",
        "x = np.ravel(r * np.cos(theta))\n",
        "y = np.ravel(r * np.sin(theta))\n",
        "z = np.ravel(w * np.sin(phi))"
      ],
      "execution_count": 0,
      "outputs": []
    },
    {
      "cell_type": "code",
      "metadata": {
        "id": "t9YIZZ9lCnF-",
        "colab_type": "code",
        "colab": {}
      },
      "source": [
        "# triangulate in the underlying parametrization\n",
        "from matplotlib.tri import Triangulation\n",
        "tri = Triangulation(np.ravel(w), np.ravel(theta))\n",
        "\n",
        "ax = plt.axes(projection='3d')\n",
        "ax.plot_trisurf(x, y, z, triangles=tri.triangles,\n",
        "                cmap='viridis', linewidths=0.2);\n",
        "\n",
        "ax.set_xlim(-1, 1); ax.set_ylim(-1, 1); ax.set_zlim(-1, 1);"
      ],
      "execution_count": 0,
      "outputs": []
    }
  ]
}