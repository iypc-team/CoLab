{
  "nbformat": 4,
  "nbformat_minor": 5,
  "metadata": {
    "colab": {
      "name": "Jovyan_Tar_Files.ipynb",
      "private_outputs": true,
      "provenance": [],
      "collapsed_sections": [],
      "machine_shape": "hm",
      "include_colab_link": true
    },
    "kernelspec": {
      "display_name": "Python 3",
      "language": "python",
      "name": "python3"
    },
    "language_info": {
      "codemirror_mode": {
        "name": "ipython",
        "version": 3
      },
      "file_extension": ".py",
      "mimetype": "text/x-python",
      "name": "python",
      "nbconvert_exporter": "python",
      "pygments_lexer": "ipython3",
      "version": "3.7.10"
    }
  },
  "cells": [
    {
      "cell_type": "markdown",
      "metadata": {
        "id": "view-in-github",
        "colab_type": "text"
      },
      "source": [
        "<a href=\"https://colab.research.google.com/github/iypc-team/CoLab/blob/master/Jovyan_Tar_Files.ipynb\" target=\"_parent\"><img src=\"https://colab.research.google.com/assets/colab-badge.svg\" alt=\"Open In Colab\"/></a>"
      ]
    },
    {
      "cell_type": "code",
      "metadata": {
        "id": "educated-printer"
      },
      "source": [
        "import glob, os, shutil, tarfile\n",
        "from os.path import *\n",
        "try:\n",
        "    import tensorflow as tf\n",
        "    print(f'tensorflow: {tf.__version__}')\n",
        "except ModuleNotFoundError:\n",
        "    %pip install tensorflow\n",
        "    import tensorflow as tf\n",
        "    print(f'tensorflow: {tf.__version__}')\n",
        "\n",
        "contentPth = os.getcwd()\n",
        "defconImageList=[]\n",
        "\n",
        "if exists('/content/sample_data'):\n",
        "    shutil.rmtree('/content/sample_data')\n",
        "\n",
        "try:\n",
        "    from google.colab import drive\n",
        "    gdrivePth = '/content/gdrive'\n",
        "    myDrivePth = join(gdrivePth, 'My Drive')\n",
        "    tfImagePth = join(myDrivePth, 'TensorflowImages')\n",
        "    drive.flush_and_unmount()\n",
        "    drive.mount(gdrivePth, force_remount=True)\n",
        "    if exists(myDrivePth):\n",
        "        os.chdir(myDrivePth)\n",
        "        from BashColors import C\n",
        "        print(f'myDrivePth: {C.Blue}{myDrivePth}{C.ColorOff}')\n",
        "    if exists(tfImagePth):\n",
        "        os.chdir(tfImagePth)\n",
        "        print(f'tfImagePth: {C.Blue}{tfImagePth}{C.ColorOff}')\n",
        "\n",
        "except ModuleNotFoundError as err:\n",
        "    os.chdir(contentPth)\n",
        "    print(glob.glob('*.gz'))\n",
        "    print(f'cwd: {os.getcwd()}')\n",
        "    # print(err)\n",
        "    \n",
        "try: \n",
        "    from BashColors import C\n",
        "    print(f'{C.Green}ok')\n",
        "except: pass"
      ],
      "id": "educated-printer",
      "execution_count": null,
      "outputs": []
    },
    {
      "cell_type": "code",
      "metadata": {
        "id": "popular-community"
      },
      "source": [
        "\n",
        "fp = tarfile.open('Original_Defcon_Images.tar.gz', 'r:gz')\n",
        "fp.extractall()\n",
        "fp.close()\n",
        "print('ok')"
      ],
      "id": "popular-community",
      "execution_count": null,
      "outputs": []
    },
    {
      "cell_type": "code",
      "metadata": {
        "id": "verbal-vector"
      },
      "source": [
        "sourcePth='/home/jovyan/content/gdrive/My Drive/TensorflowImages'\n",
        "destinationPth=join(contentPth, 'TensorflowImages')\n",
        "if not exists(destinationPth):\n",
        "    shutil.copytree(src=sourcePth, dst=destinationPth)\n",
        "    \n",
        "delPth=join(contentPth, 'content')\n",
        "if exists(delPth):\n",
        "    shutil.rmtree(delPth)\n",
        "print('ok')"
      ],
      "id": "verbal-vector",
      "execution_count": null,
      "outputs": []
    },
    {
      "cell_type": "code",
      "metadata": {
        "id": "6Qw_heXDykbl"
      },
      "source": [
        "if exists(destinationPth):\n",
        "    os.chdir(destinationPth)\n",
        "    defconImageList = glob.glob('**', recursive=True)\n",
        "    for item in sorted(defconImageList):\n",
        "        fullPth = abspath(item)\n",
        "        print(fullPth)\n",
        "        if fullPth.endswith('.gz'):\n",
        "            pass\n",
        "            #shutil.copy2(src=fullPth, dst=contentPth)\n",
        "\n",
        "os.chdir(contentPth)"
      ],
      "id": "6Qw_heXDykbl",
      "execution_count": null,
      "outputs": []
    },
    {
      "cell_type": "code",
      "metadata": {
        "id": "adverse-chase"
      },
      "source": [
        "os.chdir(destinationPth)\n",
        "print(f'cwd: {C.BBlue}{os.getcwd()}{C.ColorOff}\\n')\n",
        "\n",
        "bashPath=join(contentPth, 'BashColors.py')\n",
        "# create a tar consisting of all files in current directory\n",
        "fp=tarfile.open('Juno_Original_Defcon_Images.tar.gz','w:gz')\n",
        "if exists(bashPath):\n",
        "    fp.add(bashPath)\n",
        "for fil in sorted(glob.glob('**', recursive=True)):\n",
        "    fullPth=abspath(fil)\n",
        "    if fullPth.endswith('.gz'):\n",
        "        print(f'pass: {C.BRed}{fullPth}{C.ColorOff}')\n",
        "    else:\n",
        "        print(fullPth)\n",
        "        fp.add(fullPth)\n",
        "fp.close()\n",
        "print('ok')"
      ],
      "id": "adverse-chase",
      "execution_count": null,
      "outputs": []
    },
    {
      "cell_type": "code",
      "metadata": {
        "id": "proof-millennium"
      },
      "source": [
        "# NotebookApp.iopub_data_rate_limit=20000000\n",
        "import os, sys\n",
        "import tensorflow as tf\n",
        "fileCount=0\n",
        "for fil in tarfile.open('Juno_Original_Defcon_Images.tar.gz', 'r:gz'):\n",
        "    fileCount+=1\n",
        "    print(fil.name)\n",
        "    # bytes_=fil.mode.to_bytes(length=fil.size, byteorder=sys.byteorder)\n",
        "    print('type:', fil.type)\n",
        "    print('chksum:', fil.chksum)\n",
        "    print('size:', fil.size)\n",
        "    \n",
        "    print()"
      ],
      "id": "proof-millennium",
      "execution_count": null,
      "outputs": []
    },
    {
      "cell_type": "code",
      "metadata": {
        "id": "maritime-coral"
      },
      "source": [
        "print(fileCount)"
      ],
      "id": "maritime-coral",
      "execution_count": null,
      "outputs": []
    },
    {
      "cell_type": "code",
      "metadata": {
        "id": "impressed-appendix"
      },
      "source": [
        "\n",
        "gzFile=glob.glob('*.gz', recursive=True)\n",
        "for fil in gzFile:\n",
        "    fullPth=abspath(fil)\n",
        "    print(f'{C.Green}{fullPth}{C.ColorOff}')\n",
        "    if exists(fullPth):\n",
        "        try:\n",
        "            shutil.copy2(fullPth, contentPth)\n",
        "        except Exception as err:\n",
        "            print(err)"
      ],
      "id": "impressed-appendix",
      "execution_count": null,
      "outputs": []
    }
  ]
}