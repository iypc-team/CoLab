{
  "nbformat": 4,
  "nbformat_minor": 0,
  "metadata": {
    "colab": {
      "name": "GPU_distributed_training.ipynb",
      "provenance": [],
      "private_outputs": true,
      "collapsed_sections": [],
      "include_colab_link": true
    },
    "kernelspec": {
      "display_name": "Python 3",
      "language": "python",
      "name": "python3"
    },
    "language_info": {
      "codemirror_mode": {
        "name": "ipython",
        "version": 3
      },
      "file_extension": ".py",
      "mimetype": "text/x-python",
      "name": "python",
      "nbconvert_exporter": "python",
      "pygments_lexer": "ipython3",
      "version": "3.7.0"
    },
    "accelerator": "GPU"
  },
  "cells": [
    {
      "cell_type": "markdown",
      "metadata": {
        "id": "view-in-github",
        "colab_type": "text"
      },
      "source": [
        "<a href=\"https://colab.research.google.com/github/iypc-team/CoLab/blob/master/GPU_distributed_training.ipynb\" target=\"_parent\"><img src=\"https://colab.research.google.com/assets/colab-badge.svg\" alt=\"Open In Colab\"/></a>"
      ]
    },
    {
      "cell_type": "code",
      "metadata": {
        "id": "cSVeIuuU92Bl"
      },
      "source": [
        "import tensorflow as tf\n",
        "from tensorflow import keras"
      ],
      "execution_count": null,
      "outputs": []
    },
    {
      "cell_type": "code",
      "metadata": {
        "id": "3hUtCRiq92CM"
      },
      "source": [
        "\n",
        "def get_compiled_model():\n",
        "    # Make a simple 2-layer densely-connected neural network.\n",
        "    inputs = keras.Input(shape=(784,))\n",
        "    x = keras.layers.Dense(256, activation=\"relu\")(inputs)\n",
        "    x = keras.layers.Dense(256, activation=\"relu\")(x)\n",
        "    outputs = keras.layers.Dense(10)(x)\n",
        "    model = keras.Model(inputs, outputs)\n",
        "    model.compile(\n",
        "        optimizer=keras.optimizers.Adam(),\n",
        "        loss=keras.losses.SparseCategoricalCrossentropy(from_logits=True),\n",
        "        metrics=[keras.metrics.SparseCategoricalAccuracy()], )\n",
        "    return model\n",
        "\n",
        "\n",
        "def get_dataset():\n",
        "    batch_size = 32\n",
        "    num_val_samples = 10000\n",
        "\n",
        "    # Return the MNIST dataset in the form of a `tf.data.Dataset`.\n",
        "    (x_train, y_train), (x_test, y_test) = keras.datasets.mnist.load_data()\n",
        "    ds=keras.datasets.mnist.load_data()\n",
        "\n",
        "    # Preprocess the data (these are Numpy arrays)\n",
        "    x_train = x_train.reshape(-1, 784).astype(\"float32\") / 255\n",
        "    x_test = x_test.reshape(-1, 784).astype(\"float32\") / 255\n",
        "    y_train = y_train.astype(\"float32\")\n",
        "    y_test = y_test.astype(\"float32\")\n",
        "\n",
        "    # Reserve num_val_samples samples for validation\n",
        "    x_val = x_train[-num_val_samples:]\n",
        "    y_val = y_train[-num_val_samples:]\n",
        "    x_train = x_train[:-num_val_samples]\n",
        "    y_train = y_train[:-num_val_samples]\n",
        "    return (\n",
        "        tf.data.Dataset.from_tensor_slices((x_train, y_train)).batch(batch_size),\n",
        "        tf.data.Dataset.from_tensor_slices((x_val, y_val)).batch(batch_size),\n",
        "        tf.data.Dataset.from_tensor_slices((x_test, y_test)).batch(batch_size),\n",
        "    )\n",
        "\n",
        "\n",
        "# Create a MirroredStrategy.\n",
        "strategy = tf.distribute.MirroredStrategy()\n",
        "print(\"Number of devices: {}\".format(strategy.num_replicas_in_sync)) \n",
        "physical_devices = tf.config.list_physical_devices()\n",
        "print()\n",
        "for dev in physical_devices:\n",
        "    print(dev.name)\n",
        "print()\n",
        "\n",
        "# Open a strategy scope.\n",
        "with strategy.scope():\n",
        "    # Everything that creates variables should be under the strategy scope.\n",
        "    # In general this is only model construction & `compile()`.\n",
        "    model = get_compiled_model()\n",
        "\n",
        "# Train the model on all available devices.\n",
        "train_dataset, val_dataset, test_dataset = get_dataset()\n",
        "model.fit(train_dataset, epochs=1, validation_data=val_dataset)\n",
        "\n",
        "# Test the model on all available devices.\n",
        "model.evaluate(test_dataset)"
      ],
      "execution_count": null,
      "outputs": []
    },
    {
      "cell_type": "code",
      "metadata": {
        "id": "n0rG6ESG92Cp"
      },
      "source": [
        "import os\n",
        "from tensorflow import keras\n",
        "\n",
        "# Prepare a directory to store all the checkpoints.\n",
        "checkpoint_dir = \"./ckpt_2\"\n",
        "if not os.path.exists(checkpoint_dir):\n",
        "    os.makedirs(checkpoint_dir)\n",
        "\n",
        "\n",
        "def make_or_restore_model():\n",
        "    # Either restore the latest model, or create a fresh one\n",
        "    # if there is no checkpoint available.\n",
        "    checkpoints = [checkpoint_dir + \"/\" + name for name in os.listdir(checkpoint_dir)]\n",
        "    if checkpoints:\n",
        "        latest_checkpoint = max(checkpoints, key=os.path.getctime)\n",
        "        print(\"Restoring from\", latest_checkpoint)\n",
        "        return keras.models.load_model(latest_checkpoint)\n",
        "    print(\"Creating a new model\")\n",
        "    return get_compiled_model()\n",
        "\n",
        "\n",
        "def run_training(epochs=1):\n",
        "    # Create a MirroredStrategy.\n",
        "    strategy = tf.distribute.MirroredStrategy()\n",
        "\n",
        "    # Open a strategy scope and create/restore the model\n",
        "    with strategy.scope():\n",
        "        model = make_or_restore_model()\n",
        "\n",
        "    callbacks = [\n",
        "        # This callback saves a SavedModel every epoch\n",
        "        # We include the current epoch in the folder name.\n",
        "        keras.callbacks.ModelCheckpoint(\n",
        "            filepath=checkpoint_dir + \"/ckpt-{epoch}\", save_freq=\"epoch\"\n",
        "        )\n",
        "    ]\n",
        "    model.fit(\n",
        "        train_dataset,\n",
        "        epochs=epochs,\n",
        "        callbacks=callbacks,\n",
        "        validation_data=val_dataset,\n",
        "        verbose=2,\n",
        "    )\n",
        "\n",
        "\n",
        "# Running the first time creates the model\n",
        "run_training(epochs=1)\n",
        "\n",
        "# Calling the same function again will resume from where we left off\n",
        "run_training(epochs=1)"
      ],
      "execution_count": null,
      "outputs": []
    }
  ]
}