{
  "nbformat": 4,
  "nbformat_minor": 0,
  "metadata": {
    "colab": {
      "name": "FunctionTimer.ipynb",
      "private_outputs": true,
      "provenance": [],
      "collapsed_sections": [],
      "authorship_tag": "ABX9TyPlOwaBKeeNvPBwXEANfc46",
      "include_colab_link": true
    },
    "kernelspec": {
      "name": "python3",
      "display_name": "Python 3"
    }
  },
  "cells": [
    {
      "cell_type": "markdown",
      "metadata": {
        "id": "view-in-github",
        "colab_type": "text"
      },
      "source": [
        "<a href=\"https://colab.research.google.com/github/iypc-team/CoLab/blob/master/FunctionTimer.ipynb\" target=\"_parent\"><img src=\"https://colab.research.google.com/assets/colab-badge.svg\" alt=\"Open In Colab\"/></a>"
      ]
    },
    {
      "cell_type": "code",
      "metadata": {
        "id": "4CflsL0N4to-"
      },
      "source": [
        "from __future__ import absolute_import\r\n",
        "import time\r\n",
        "class FunctionTimer:\r\n",
        "\r\n",
        "    def __init__(self):\r\n",
        "        pass\r\n",
        "\r\n",
        "    def functionTimer(self, start:float, roundTo=False) -> float:\r\n",
        "        start_time = start\r\n",
        "        elapse_time = time.time() - start_time\r\n",
        "\r\n",
        "        elapse_time += 3600\r\n",
        "        print(f'{elapse_time}')\r\n",
        "\r\n",
        "        if elapse_time >= 3600:\r\n",
        "            hours = int(elapse_time // 3600)\r\n",
        "            minutes = elapse_time - hours * 3600\r\n",
        "            minutes = int(minutes // 60)\r\n",
        "            seconds = elapse_time % 60\r\n",
        "            if roundTo:\r\n",
        "                seconds = round(seconds, 2)\r\n",
        "            print(f'{hours} hour {minutes} minutes {seconds} seconds')\r\n",
        "        elif elapse_time >= 60:\r\n",
        "            minutes = int(elapse_time // 60)\r\n",
        "            seconds = elapse_time % 60\r\n",
        "            print(f'{minutes} minutes {seconds} seconds')\r\n",
        "        elif elapse_time < 60:\r\n",
        "            print(f'{elapse_time} seconds')\r\n",
        "        return elapse_time\r\n",
        "\r\n",
        "\r\n",
        "ft=FunctionTimer()\r\n",
        "# startTime = time.time()\r\n",
        "# time.sleep(10)\r\n",
        "returnTime=ft.functionTimer(start=startTime)\r\n",
        "returnTime"
      ],
      "execution_count": null,
      "outputs": []
    },
    {
      "cell_type": "code",
      "metadata": {
        "id": "Xh5ngER75lLz"
      },
      "source": [
        ""
      ],
      "execution_count": null,
      "outputs": []
    }
  ]
}