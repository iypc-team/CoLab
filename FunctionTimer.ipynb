{
  "nbformat": 4,
  "nbformat_minor": 0,
  "metadata": {
    "colab": {
      "name": "FunctionTimer.ipynb",
      "private_outputs": true,
      "provenance": [],
      "collapsed_sections": [],
      "authorship_tag": "ABX9TyNC5svnuDqr5MlDj1lTBs/r",
      "include_colab_link": true
    },
    "kernelspec": {
      "name": "python3",
      "display_name": "Python 3"
    }
  },
  "cells": [
    {
      "cell_type": "markdown",
      "metadata": {
        "id": "view-in-github",
        "colab_type": "text"
      },
      "source": [
        "<a href=\"https://colab.research.google.com/github/iypc-team/CoLab/blob/master/FunctionTimer.ipynb\" target=\"_parent\"><img src=\"https://colab.research.google.com/assets/colab-badge.svg\" alt=\"Open In Colab\"/></a>"
      ]
    },
    {
      "cell_type": "code",
      "metadata": {
        "id": "k3fFEFGyiztV"
      },
      "source": [
        "import os, shutil\n",
        "from os.path import *\n",
        "from google.colab import drive\n",
        "\n",
        "drive.mount('/content/drive', force_remount=True)\n",
        "contentPth = os.getcwd()\n",
        "print(contentPth)\n",
        "removePth = '/content/sample_data'\n",
        "\n",
        "bs='''\n",
        "if exists(removePth):\n",
        "    shutil.rmtree(removePth)\n",
        "print(f'cwd: {os.getcwd()}')\n",
        "'''\n",
        "\n",
        "pythonFilesPth = '/content/drive/My Drive/PythonFiles'\n",
        "os.chdir(pythonFilesPth)\n",
        "\n",
        "from CleanDrive import cd\n",
        "cd.cleanDrive()\n",
        "import ImportDriveFiles\n",
        "\n",
        "os.chdir(pythonFilesPth)\n",
        "print(f'cwd: {os.getcwd()}')"
      ],
      "execution_count": null,
      "outputs": []
    },
    {
      "cell_type": "code",
      "metadata": {
        "id": "4CflsL0N4to-"
      },
      "source": [
        "%%writefile FunctionTimer.py\r\n",
        "# 01/02/2021\r\n",
        "from __future__ import absolute_import\r\n",
        "import time\r\n",
        "from BashColors import C\r\n",
        "\r\n",
        "class FunctionTimer:\r\n",
        "    \"\"\"FunctionTimer class\"\"\"\r\n",
        "    global ft\r\n",
        "    def __init__(self):\r\n",
        "        \"\"\"initialize ft\"\"\"\r\n",
        "        self.ft=None\r\n",
        "\r\n",
        "    def functionTimer(self, start:float, roundedTo=-1) -> None:\r\n",
        "        \"\"\"prints hours, minutes and seconds\"\"\"\r\n",
        "        start_time = start\r\n",
        "        elapse_time = time.time() - start_time\r\n",
        "        # print(f'elapse_time: {elapse_time}')\r\n",
        "\r\n",
        "        if elapse_time >= 3600.0:\r\n",
        "            hours = int(elapse_time // 3600)\r\n",
        "            minutes = elapse_time - hours * 3600\r\n",
        "            minutes = int(minutes // 60)\r\n",
        "            seconds = elapse_time % 60\r\n",
        "            if roundedTo > -1:\r\n",
        "                seconds = round(seconds, roundedTo)\r\n",
        "            print(f'\\n{C.IBlue}{hours} hour {minutes} minutes {seconds} seconds{C.ColorOff}')\r\n",
        "            \r\n",
        "        elif elapse_time >= 60.0:\r\n",
        "            minutes = int(elapse_time // 60)\r\n",
        "            seconds = elapse_time % 60\r\n",
        "            if roundedTo > -1:\r\n",
        "                seconds = round(seconds, roundedTo)\r\n",
        "            print(f'\\n{C.IBlue}{minutes} minutes {seconds} seconds{C.ColorOff}')\r\n",
        "\r\n",
        "        elif elapse_time < 60.0:\r\n",
        "            seconds = elapse_time\r\n",
        "            if roundedTo > -1 :\r\n",
        "                seconds = round(seconds, roundedTo)\r\n",
        "            print(f'\\n{C.IBlue}{seconds} seconds{C.ColorOff}')\r\n",
        "\r\n",
        "ft=FunctionTimer()"
      ],
      "execution_count": null,
      "outputs": []
    },
    {
      "cell_type": "code",
      "metadata": {
        "id": "Xh5ngER75lLz"
      },
      "source": [
        "os.chdir('/content')\r\n",
        "print(f'cwd: {os.getcwd()}')\r\n",
        "import time\r\n",
        "startTime=time.time()\r\n",
        "time.sleep(1)\r\n",
        "# import ImportDriveFiles\r\n",
        "# import ColabDriveFiles\r\n",
        "from ColabDriveFiles import cdf\r\n",
        "cdf.clearAllCaches()\r\n",
        "from FunctionTimer import ft\r\n",
        "\r\n",
        "# startTime=time.time()\r\n",
        "# time.sleep(1)\r\n",
        "\r\n",
        "ft.functionTimer(startTime, 2)\r\n"
      ],
      "execution_count": null,
      "outputs": []
    }
  ]
}