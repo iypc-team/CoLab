{
  "nbformat": 4,
  "nbformat_minor": 0,
  "metadata": {
    "colab": {
      "name": "iCloud.ipynb",
      "provenance": [],
      "collapsed_sections": [],
      "include_colab_link": true
    },
    "kernelspec": {
      "name": "python3",
      "display_name": "Python 3"
    }
  },
  "cells": [
    {
      "cell_type": "markdown",
      "metadata": {
        "id": "view-in-github",
        "colab_type": "text"
      },
      "source": [
        "<a href=\"https://colab.research.google.com/github/iypc-team/CoLab/blob/master/iCloud.ipynb\" target=\"_parent\"><img src=\"https://colab.research.google.com/assets/colab-badge.svg\" alt=\"Open In Colab\"/></a>"
      ]
    },
    {
      "cell_type": "code",
      "metadata": {
        "id": "E1f8TmeZzEqL",
        "colab_type": "code",
        "outputId": "b4ff9463-307f-4f93-e9ac-b2f69a1f5ca5",
        "colab": {
          "base_uri": "https://localhost:8080/",
          "height": 35
        }
      },
      "source": [
        "from __future__ import absolute_import, division, print_function, unicode_literals\n",
        "from IPython.display import clear_output\n",
        "isInstalled = True\n",
        "if isInstalled == False or isInstalled == None:\n",
        "    from IPython.display import clear_output\n",
        "    print(\"Installing\")\n",
        "    %pip install \"tensorflow==2.1.0\"\n",
        "    isInstalled = True\n",
        "clear_output()\n",
        "print('all installs completed')"
      ],
      "execution_count": 1,
      "outputs": [
        {
          "output_type": "stream",
          "text": [
            "all installs completed\n"
          ],
          "name": "stdout"
        }
      ]
    },
    {
      "cell_type": "code",
      "metadata": {
        "id": "DCVotmkxzrO4",
        "colab_type": "code",
        "outputId": "bd5dbff1-2bee-411d-eaee-2e174b040efd",
        "colab": {
          "base_uri": "https://localhost:8080/",
          "height": 35
        }
      },
      "source": [
        "import os, sys, pathlib, glob\n",
        "import tensorflow as tf\n",
        "import numpy as np\n",
        "from os.path import exists, isfile, isdir\n",
        "from pathlib import Path\n",
        "from glob import glob, glob0, glob1\n",
        "\n",
        "print(\"tensorflow:\", tf.__version__)"
      ],
      "execution_count": 2,
      "outputs": [
        {
          "output_type": "stream",
          "text": [
            "tensorflow: 2.1.0\n"
          ],
          "name": "stdout"
        }
      ]
    },
    {
      "cell_type": "code",
      "metadata": {
        "id": "slVG_q2aU8oR",
        "colab_type": "code",
        "outputId": "f217124d-274e-47e8-b7f5-df88931e4d0a",
        "colab": {
          "base_uri": "https://localhost:8080/",
          "height": 71
        }
      },
      "source": [
        "allDirectories = []\n",
        "allFiles = []\n",
        "pth =Path.cwd()\n",
        "\n",
        "def getAllFiles():\n",
        "    pth = Path.cwd()\n",
        "    print(pth, '\\n')\n",
        "    allDirectories = []\n",
        "    allFiles = glob('**') # list\n",
        "    for fil in glob('**'):\n",
        "        if os.path.isdir(fil):\n",
        "            allDirectories.append(fil)\n",
        "            print('dir:', fil)\n",
        "        elif isfile(fil):\n",
        "            print('file:', fil)\n",
        "getAllFiles()"
      ],
      "execution_count": 33,
      "outputs": [
        {
          "output_type": "stream",
          "text": [
            "/content \n",
            "\n",
            "dir: sample_data\n"
          ],
          "name": "stdout"
        }
      ]
    },
    {
      "cell_type": "code",
      "metadata": {
        "id": "HJ5p0zXCK2Tx",
        "colab_type": "code",
        "colab": {
          "base_uri": "https://localhost:8080/",
          "height": 35
        },
        "outputId": "cc9c0e62-0b0e-4c28-d572-ae9beabf9d51"
      },
      "source": [
        "print(allDirectories)\n",
        "if not allDirectories == []:\n",
        "    for dr in allDirectories:\n",
        "        newPath = os.path.join(Path.cwd(), fil)\n",
        "        if exists(newPath):\n",
        "            os.chdir(newPath)\n",
        "            print(Path.cwd())\n",
        "        else: print(' no go ')\n",
        "\n",
        "# getAllFiles()"
      ],
      "execution_count": 34,
      "outputs": [
        {
          "output_type": "stream",
          "text": [
            "[]\n"
          ],
          "name": "stdout"
        }
      ]
    }
  ]
}