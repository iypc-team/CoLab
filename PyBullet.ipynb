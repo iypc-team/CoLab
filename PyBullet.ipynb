{
  "nbformat": 4,
  "nbformat_minor": 0,
  "metadata": {
    "kernelspec": {
      "display_name": "Python 3",
      "language": "python",
      "name": "python3"
    },
    "language_info": {
      "codemirror_mode": {
        "name": "ipython",
        "version": 3
      },
      "file_extension": ".py",
      "mimetype": "text/x-python",
      "name": "python",
      "nbconvert_exporter": "python",
      "pygments_lexer": "ipython3",
      "version": "3.7.8"
    },
    "colab": {
      "name": "PyBullet.ipynb",
      "provenance": [],
      "include_colab_link": true
    }
  },
  "cells": [
    {
      "cell_type": "markdown",
      "metadata": {
        "id": "view-in-github",
        "colab_type": "text"
      },
      "source": [
        "<a href=\"https://colab.research.google.com/github/iypc-team/CoLab/blob/master/PyBullet.ipynb\" target=\"_parent\"><img src=\"https://colab.research.google.com/assets/colab-badge.svg\" alt=\"Open In Colab\"/></a>"
      ]
    },
    {
      "cell_type": "code",
      "metadata": {
        "colab": {
          "base_uri": "https://localhost:8080/"
        },
        "id": "ntYnelq5koMr",
        "outputId": "115d2afe-4abb-44e1-f94d-0070c1d52c2b"
      },
      "source": [
        "from __future__ import absolute_import\n",
        "try: import pybullet as p\n",
        "except ModuleNotFoundError as err:\n",
        "    print(err)\n",
        "    %pip install pybullet\n",
        "    import pybullet as p\n",
        "import time\n",
        "import pybullet_data\n",
        "physicsClient = p.connect(p.DIRECT) # p.GUI or p.DIRECT for non-graphical version\n",
        "p.setAdditionalSearchPath(pybullet_data.getDataPath()) #optionally\n",
        "p.setGravity(0,0,-10)\n",
        "planeId = p.loadURDF(\"plane.urdf\")\n",
        "startPos = [0,0,1]\n",
        "startOrientation = p.getQuaternionFromEuler([0,0,0])\n",
        "boxId = p.loadURDF(\"r2d2.urdf\",startPos, startOrientation)\n",
        "# set the center of mass frame (loadURDF sets base link frame) startPos/Ornp.resetBasePositionAndOrientation(boxId, startPos, startOrientation)\n",
        "for i in range (10000):\n",
        "    p.stepSimulation()\n",
        "    time.sleep(1./240.)\n",
        "cubePos, cubeOrn = p.getBasePositionAndOrientation(boxId)\n",
        "print(cubePos, '\\n', cubeOrn)\n",
        "p.disconnect()\n"
      ],
      "execution_count": null,
      "outputs": [
        {
          "output_type": "stream",
          "text": [
            "(-7.823620068274749e-06, 0.003534642259821745, 0.47082210145102393) \n",
            " (-1.0846782107509767e-05, 2.3272776924259616e-06, -5.3058132803229845e-05, 0.9999999985308828)\n"
          ],
          "name": "stdout"
        }
      ]
    },
    {
      "cell_type": "code",
      "metadata": {
        "id": "JyxwHrprpKSv"
      },
      "source": [
        "physicsClient = p.connect(p.GUI)"
      ],
      "execution_count": null,
      "outputs": []
    }
  ]
}