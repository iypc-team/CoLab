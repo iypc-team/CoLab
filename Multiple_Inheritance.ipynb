{
  "nbformat": 4,
  "nbformat_minor": 5,
  "metadata": {
    "kernelspec": {
      "display_name": "Python 3",
      "language": "python",
      "name": "python3"
    },
    "language_info": {
      "codemirror_mode": {
        "name": "ipython",
        "version": 3
      },
      "file_extension": ".py",
      "mimetype": "text/x-python",
      "name": "python",
      "nbconvert_exporter": "python",
      "pygments_lexer": "ipython3",
      "version": "3.7.10"
    },
    "colab": {
      "name": "Multiple_Inheritance.ipynb",
      "private_outputs": true,
      "provenance": [],
      "collapsed_sections": [],
      "include_colab_link": true
    }
  },
  "cells": [
    {
      "cell_type": "markdown",
      "metadata": {
        "id": "view-in-github",
        "colab_type": "text"
      },
      "source": [
        "<a href=\"https://colab.research.google.com/github/iypc-team/CoLab/blob/master/Multiple_Inheritance.ipynb\" target=\"_parent\"><img src=\"https://colab.research.google.com/assets/colab-badge.svg\" alt=\"Open In Colab\"/></a>"
      ]
    },
    {
      "cell_type": "code",
      "metadata": {
        "id": "645a2ac2"
      },
      "source": [
        "\n",
        "from __future__ import absolute_import\n",
        "\n",
        "import os, sys\n",
        "from os.path import *\n",
        "\n",
        "try:  from google.colab import drive, files\n",
        "except BaseException as err: print(err)\n",
        "\n",
        "# from BashColors import C\n",
        "\n",
        "try: import numpy as np\n",
        "except ModuleNotFoundError:\n",
        "    %pip install numpy\n",
        "    import numpy as np\n",
        "\n",
        "class BaseSetup:\n",
        "    ''' '''\n",
        "    def __init__(self):\n",
        "        ''' '''\n",
        "        self.cwd = os.getcwd()\n",
        "        self.tfImagesPath = '/content/TensorflowImages'\n",
        "        # self.getGDrive()\n",
        "\n",
        "    def getGDrive(self):\n",
        "        ''' '''\n",
        "        print('Back in my day...')\n",
        "        drive.flush_and_unmount()\n",
        "        drive.mount('/content/gdrive', force_remount=True)\n",
        "\n",
        "\n",
        "# Create a child class that inherits from Parent\n",
        "class CV2_Utils(BaseSetup):\n",
        "    ''' '''\n",
        "    def __init__(self):\n",
        "        super().__init__()\n",
        "        self.cvu = CV2_Utils()\n",
        "\n",
        "# cvu = CV2_Utils()"
      ],
      "id": "645a2ac2",
      "execution_count": null,
      "outputs": []
    },
    {
      "cell_type": "code",
      "metadata": {
        "id": "2824fe71"
      },
      "source": [
        "\n",
        "from CV2_Utils import *\n",
        "\n",
        "\n",
        "# Show attributes and methods of child class\n",
        "# print(child.child_attribute)\n",
        "# print(child.parent_attribute)\n",
        "# child.parent_method()"
      ],
      "id": "2824fe71",
      "execution_count": null,
      "outputs": []
    }
  ]
}