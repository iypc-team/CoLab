{
  "nbformat": 4,
  "nbformat_minor": 5,
  "metadata": {
    "kernelspec": {
      "display_name": "Python 3",
      "language": "python",
      "name": "python3"
    },
    "language_info": {
      "codemirror_mode": {
        "name": "ipython",
        "version": 3
      },
      "file_extension": ".py",
      "mimetype": "text/x-python",
      "name": "python",
      "nbconvert_exporter": "python",
      "pygments_lexer": "ipython3",
      "version": "3.7.10"
    },
    "colab": {
      "name": "CV2_Utilities.ipynb",
      "provenance": [],
      "collapsed_sections": [],
      "include_colab_link": true
    }
  },
  "cells": [
    {
      "cell_type": "markdown",
      "metadata": {
        "id": "view-in-github",
        "colab_type": "text"
      },
      "source": [
        "<a href=\"https://colab.research.google.com/github/iypc-team/CoLab/blob/master/CV2_Utilities.ipynb\" target=\"_parent\"><img src=\"https://colab.research.google.com/assets/colab-badge.svg\" alt=\"Open In Colab\"/></a>"
      ]
    },
    {
      "cell_type": "code",
      "metadata": {
        "colab": {
          "base_uri": "https://localhost:8080/"
        },
        "id": "substantial-responsibility",
        "outputId": "d1c7b33e-e5ce-4b6d-a39c-62894a4ebfd9"
      },
      "source": [
        "# 08/17/2021-1\n",
        "from __future__ import absolute_import\n",
        "from IPython.display import clear_output, display\n",
        "import glob, os, shutil, sys\n",
        "from os.path import *\n",
        "\n",
        "try:\n",
        "    from google.colab import drive, files\n",
        "    from google.colab.patches import cv2_imshow\n",
        "except Exception as err:\n",
        "    pass\n",
        "\n",
        "try: \n",
        "    from matplotlib import pyplot as plt\n",
        "except Exception as err:\n",
        "    %pip install matplotlib\n",
        "    from matplotlib import pyplot as plt\n",
        "\n",
        "try: \n",
        "    import cv2\n",
        "    from cv2 import COLOR_BGR2RGBA\n",
        "except Exception as err:\n",
        "    print(err)\n",
        "    %pip install opencv-python-headless # works.\n",
        "    # %pip install opencv-contrib-python-headless\n",
        "    import cv2\n",
        "    from cv2 import COLOR_BGR2RGBA, IMREAD_UNCHANGED\n",
        "\n",
        "import numpy as np\n",
        "\n",
        "if exists('/content/sample_data'):\n",
        "    shutil.rmtree('/content/sample_data')\n",
        "\n",
        "contentPth = os.getcwd()\n",
        "tensorflowImagesPath = join(contentPth, 'TensorflowImages')\n",
        "resizedImagesPath = join(contentPth, 'TensorflowResizedImages')\n",
        "\n",
        "if exists(resizedImagesPath):\n",
        "    pass\n",
        "    shutil.rmtree(resizedImagesPath)\n",
        "\n",
        "try:\n",
        "    drive.flush_and_unmount()\n",
        "    drive.mount('/content/gdrive/', force_remount=True)\n",
        "    mydrivePth = '/content/gdrive/MyDrive'\n",
        "    os.chdir(mydrivePth)\n",
        "    gdriveTFImagesPth = join(mydrivePth, 'TensorflowImages')\n",
        "    gdriveResizedImagesPth = join(mydrivePth, 'TensorflowResizedImages')\n",
        "    \n",
        "    os.chdir(mydrivePth)\n",
        "    from TarfileFunctions import *\n",
        "    from BashColors import C\n",
        "    \n",
        "    if not exists(tensorflowImagesPath):\n",
        "        shutil.copytree(gdriveTFImagesPth, tensorflowImagesPath)\n",
        "        # tff.listTarfiles()\n",
        "        os.chdir(contentPth)\n",
        "        # tff.extractTarfiles('Juno_Original_Images.tar.gz')\n",
        "\n",
        "    gdrive_resized_images = '/content/gdrive/MyDrive/TensorflowResizedImages'\n",
        "    if not exists(resizedImagesPath):\n",
        "        try: shutil.copytree(gdrive_resized_images, resizedImagesPath)\n",
        "        except Exception as err:\n",
        "            print(err)\n",
        "\n",
        "    os.chdir(contentPth)\n",
        "\n",
        "except Exception as err:\n",
        "    # print(err)\n",
        "    os.chdir(contentPth)\n",
        "    from TarfileFunctions import *\n",
        "    from BashColors import C\n",
        "    tarfilePath=join(contentPth, 'Juno_Original_Images.tar.gz')\n",
        "    if exists(tarfilePath) and not exists(tensorflowImagesPath):\n",
        "        tff.extractTarfiles('Juno_Original_Images.tar.gz')\n",
        "\n",
        "rootPth = expanduser(\"~\")\n",
        "\n",
        "os.chdir(contentPth)\n",
        "print(f'cv2: {C.IBlue}{cv2.__version__}{C.ColorOff}')\n",
        "print(f'cwd: {C.IBlue}{os.getcwd()}')"
      ],
      "id": "substantial-responsibility",
      "execution_count": 1,
      "outputs": [
        {
          "output_type": "stream",
          "text": [
            "Mounted at /content/gdrive/\n",
            "cv2: \u001b[0;94m4.1.2\u001b[0m\n",
            "cwd: \u001b[0;94m/content\n"
          ],
          "name": "stdout"
        }
      ]
    },
    {
      "cell_type": "code",
      "metadata": {
        "id": "sophisticated-magazine"
      },
      "source": [
        "zeroPixel:np.ndarray\n",
        "originalImageZeroPixel:np.ndarray\n",
        "\n",
        "def matPlotShowSingleImage(thisImage):\n",
        "    thisImage = cvtColor(thisImage, cv2.COLOR_BGR2RGBA)\n",
        "    fig=plt.figure()\n",
        "    ax1=fig.add_subplot(1,1,1)\n",
        "    ax1.imshow(thisImage)\n",
        "    ax1.axis('off')\n",
        "    pass\n",
        "\n",
        "def matPlotCompareTwoImages(thisImage, compareImage):\n",
        "    thisImage = cv2.cvtColor(thisImage, cv2.COLOR_BGR2RGBA)\n",
        "    compareImage = cv2.cvtColor(compareImage, cv2.COLOR_BGR2RGBA)\n",
        "    # Plot the images\n",
        "    fig=plt.figure()\n",
        "    ax1 = fig.add_subplot(1,2,1)\n",
        "    ax1.imshow(thisImage)\n",
        "    ax1.axis('off')\n",
        "    ax1.set_title('Original Image')\n",
        "\n",
        "    ax2 = fig.add_subplot(1,2,2)\n",
        "    ax2.imshow(compareImage)\n",
        "    ax2.axis('off')\n",
        "    ax2.set_title('New Image')\n",
        "    plt.show()\n",
        "\n",
        "def cv2ResizeImage(thisImage, newSize=(224,224)):\n",
        "    resized_image = cv2.resize(thisImage,newSize,interpolation=cv2.INTER_CUBIC)\n",
        "    return resized_image\n",
        "\n",
        "def cv2CreateImageWithColor(pxColor=[0,0,0,0], silent=True):\n",
        "    '''return save_path'''\n",
        "    bgImagePath = join(contentPth, 'TensorflowImages/backgroundImage224.png')\n",
        "    bgImage = cv2.imread(bgImagePath, cv2.IMREAD_UNCHANGED)\n",
        "    save_path = join(contentPth, 'bgImage.png')\n",
        "    # print(save_path)\n",
        "    bgImage = np.copy(bgImage)\n",
        "    print(bgImage[0][0])\n",
        "\n",
        "    for px in bgImage:\n",
        "        bgImage[:] = pxColor\n",
        "        cv2.waitKey(100)\n",
        "        \n",
        "    cv2.imwrite(save_path, bgImage)\n",
        "    if not silent:\n",
        "        print(f'shape: {bgImage.shape}')\n",
        "        # cv2_imshow(bgImage)\n",
        "        matPlotCompareTwoImages(bgImage, bgImage)\n",
        "    return save_path\n",
        "\n",
        "def cv2ZoomImage(thisImage, newScale=1, silent=True):\n",
        "    '''return zoomImage'''\n",
        "    zeroPixel = thisImage[0][0]\n",
        "    angle = 0\n",
        "    width, height, _ = thisImage.shape\n",
        "    rotPoint = width//2, height //2\n",
        "    dimentions = width, height\n",
        "    rotPoint = width//2, height//2\n",
        "    rotMatrix = cv2.getRotationMatrix2D(rotPoint, angle, scale=newScale)\n",
        "    zoomImage = cv2.warpAffine(thisImage, rotMatrix, dimentions)\n",
        "    matPlotCompareTwoImages(thisImage, zoomImage)\n",
        "    return zoomImage\n",
        "\n",
        "def cv2Rotation(thisImage, angle=0, rotPoint=None, newScale=1, silent=True):\n",
        "    ''''''\n",
        "    thisImage = np.copy(thisImage)\n",
        "    zeroPixel = thisImage[[0][0]]\n",
        "    width, height, _ = thisImage.shape\n",
        "    if rotPoint == None:\n",
        "        rotPoint = width//2, height//2\n",
        "        rotMat = cv2.getRotationMatrix2D(rotPoint, angle, scale=newScale)\n",
        "        dimentions = width, height\n",
        "        rotImage = cv2.warpAffine(thisImage, rotMat, dimentions)\n",
        "        rotImageZeroPixel = rotImage[0][0]\n",
        "        if not silent:\n",
        "            print('cv2Rotation()')\n",
        "            matPlotCompareTwoImages(thisImage, rotImage)\n",
        "            cv2.waitKey(100)\n",
        "        cv2.waitKey(100)\n",
        "        cv2.destroyAllWindows()\n",
        "        return rotImage\n",
        "\n",
        "def cv2Translate(thisImage, x=0, y=0, silent=True):\n",
        "    '''-x shift left -y shift up\\nx shift right y shift down'''\n",
        "    thisImage = np.copy(thisImage)\n",
        "    zeroPixel=thisImage[0][0]\n",
        "    translateMatrix = np.float32([[1,0,x],[0,1,y]])\n",
        "    dimentions = (thisImage.shape[1], thisImage.shape[0])\n",
        "    newImage = cv2.warpAffine(thisImage, translateMatrix, dimentions)\n",
        "    if not silent:\n",
        "        print('cv2Translate()')\n",
        "        matPlotCompareTwoImages(thisImage, newImage)\n",
        "        cv2.waitKey(100)\n",
        "    cv2.waitKey(100)\n",
        "    cv2.destroyAllWindows()\n",
        "    return newImage\n",
        "\n",
        "def cv2EdgeDetection(thisImage, t1=50, t2=50):\n",
        "    ''''''\n",
        "    canny = cv2.Canny(thisImage, t1, t2)\n",
        "    matPlotCompareTwoImages(thisImage, canny)\n",
        "    cv2.waitKey(100)\n",
        "    cv2.destroyAllWindows()\n",
        "    return canny\n",
        "\n",
        "def changeBackgroundColors(path, image=None):\n",
        "    '''returns newImg'''\n",
        "    splitPath = split(path)\n",
        "    filePath = splitPath[0]\n",
        "    fileName = splitPath[1]\n",
        "    fileName = 'new_' + fileName\n",
        "    print(filePath)\n",
        "    print(fileName)\n",
        "    saveImagePath = join(contentPth, fileName)\n",
        "\n",
        "    print(f'saveImagePath: {saveImagePath}')\n",
        "    original_image = cv2.imread(path, cv2.IMREAD_UNCHANGED)\n",
        "    originalZeroPixel = originalImage[0][0]\n",
        "    plt.imshow(original_image)\n",
        "    newImg = np.copy(original_image)\n",
        "\n",
        "    zeroPixel = newImg[0][0]\n",
        "    print('newImg zeroPixel:', zeroPixel)\n",
        "    print('originalZeroPixel:', originalZeroPixel)\n",
        "\n",
        "    width, height, channels = original_image.shape\n",
        "    print(width, height, channels)\n",
        "\n",
        "    for x in range(0, width):\n",
        "        for y in range(0, height):\n",
        "            channels_xy = newImg[y][x]\n",
        "            # print(channels_xy)\n",
        "            if all(channels_xy == zeroPixel):\n",
        "                newImg[y][x] = originalZeroPixel\n",
        "                \n",
        "    cv2.imwrite(saveImagePath, newImg)\n",
        "    newImg = cv2.imread(saveImagePath, -1)\n",
        "    return newImg\n"
      ],
      "id": "sophisticated-magazine",
      "execution_count": 2,
      "outputs": []
    },
    {
      "cell_type": "code",
      "metadata": {
        "colab": {
          "base_uri": "https://localhost:8080/"
        },
        "id": "sustained-joining",
        "outputId": "bdf9a242-3080-40b9-f0e9-d61b7eaa9ef1"
      },
      "source": [
        "import cv2\n",
        "def cv2AddTwoImages(imagePath1, imagePath2):\n",
        "    # read two imagePaths\n",
        "    src1 = cv2.imread(imagePath1)\n",
        "    src2 = cv2.imread(imagePath2)\n",
        "    try:\n",
        "        # add or blend the imagePaths\n",
        "        dst = cv2.addWeighted(src1, 1, src2, 1, 0.0)\n",
        "        # save the output imagePath\n",
        "        # cv2.imwrite('image.png', dst)\n",
        "        return dst\n",
        "    except Exception as err:\n",
        "        print(f'{C.IRed}{err}')\n",
        "\n",
        "ip1=join(contentPth,'enemy_1.png')\n",
        "ip2=cv2CreateImageWithColor(pxColor=[64,64,64,255])\n",
        "img = cv2AddTwoImages(ip1, ip2)\n"
      ],
      "id": "sustained-joining",
      "execution_count": 3,
      "outputs": [
        {
          "output_type": "stream",
          "text": [
            "[0 0 0 0]\n",
            "\u001b[0;91mOpenCV(4.1.2) /io/opencv/modules/core/src/arithm.cpp:663: error: (-209:Sizes of input arguments do not match) The operation is neither 'array op array' (where arrays have the same size and the same number of channels), nor 'array op scalar', nor 'scalar op array' in function 'arithm_op'\n",
            "\n"
          ],
          "name": "stdout"
        }
      ]
    },
    {
      "cell_type": "code",
      "metadata": {
        "colab": {
          "base_uri": "https://localhost:8080/",
          "height": 259
        },
        "id": "_uC6Fwf2-XRc",
        "outputId": "230fd113-28da-4d04-cf02-9ce30f41a48b"
      },
      "source": [
        "\n",
        "pth = join(tensorflowImagesPath, 'Enemy')\n",
        "pth = join(pth, 'enemy_1.png')\n",
        "shutil.copy2(pth, contentPth)\n",
        "\n",
        "enemyPath = join(contentPth, 'enemy_1.png')\n",
        "enemyImg = cv2.imread(enemyPath, cv2.IMREAD_UNCHANGED)\n",
        "enemyImg = cv2ResizeImage(enemyImg)\n",
        "print(enemyImg.shape)\n",
        "cv2_imshow(enemyImg)\n",
        "try:\n",
        "    cv2.waitKey(100)\n",
        "    cv2.destroyAllWindows()\n",
        "except: matPlotShowSingleImage(enemyImg)"
      ],
      "id": "_uC6Fwf2-XRc",
      "execution_count": 4,
      "outputs": [
        {
          "output_type": "stream",
          "text": [
            "(224, 224, 4)\n"
          ],
          "name": "stdout"
        },
        {
          "output_type": "display_data",
          "data": {
            "image/png": "[encoded data removed]",
            "text/plain": [
              "<PIL.Image.Image image mode=RGBA size=224x224 at 0x7FA316AA4790>"
            ]
          },
          "metadata": {
            "tags": []
          }
        }
      ]
    },
    {
      "cell_type": "code",
      "metadata": {
        "id": "correct-basketball",
        "colab": {
          "base_uri": "https://localhost:8080/",
          "height": 681
        },
        "outputId": "268dd3d2-2822-4c59-cc4f-06b9ac752b67"
      },
      "source": [
        "# Read Image\n",
        "img = cv2.imread(enemyPath)\n",
        "# Create Mask\n",
        "mask = np.zeros(img.shape[:2], np.uint8)\n",
        "# Create zero-filled foreground and background\n",
        "bgdModel = np.zeros((1,65),np.uint8)\n",
        "fgdModel = np.zeros((1,65),np.uint8)\n",
        "\n",
        "# Define a crop image rectangle size\n",
        "rect = (0,img.shape[0],0,img.shape[1])\n",
        "# GrabCut algorithm specifying the empty models and mask\n",
        "cv2.grabCut(img, mask, rect, bgdModel, fgdModel,5, cv2.GC_INIT_WITH_RECT)\n",
        "# The values, 0 and 2, will be converted into zeros, and 1-3 into ones, and stored into mask2\n",
        "mask2 = np.where((mask==2)|(mask==0),0,1).astype('uint8')\n",
        "img = img*mask2[:,:,np.newaxis]\n",
        "# Store image as Grabcut.jpg\n",
        "cv2.imwrite(\"fill_enemy.png\", img)"
      ],
      "id": "correct-basketball",
      "execution_count": 9,
      "outputs": [
        {
          "output_type": "error",
          "ename": "error",
          "evalue": "ignored",
          "traceback": [
            "\u001b[0;31m---------------------------------------------------------------------------\u001b[0m",
            "\u001b[0;31merror\u001b[0m                                     Traceback (most recent call last)",
            "\u001b[0;32m<ipython-input-9-1d86783c346a>\u001b[0m in \u001b[0;36m<module>\u001b[0;34m()\u001b[0m\n\u001b[1;32m     10\u001b[0m \u001b[0mrect\u001b[0m \u001b[0;34m=\u001b[0m \u001b[0;34m(\u001b[0m\u001b[0;36m0\u001b[0m\u001b[0;34m,\u001b[0m\u001b[0mimg\u001b[0m\u001b[0;34m.\u001b[0m\u001b[0mshape\u001b[0m\u001b[0;34m[\u001b[0m\u001b[0;36m0\u001b[0m\u001b[0;34m]\u001b[0m\u001b[0;34m,\u001b[0m\u001b[0;36m0\u001b[0m\u001b[0;34m,\u001b[0m\u001b[0mimg\u001b[0m\u001b[0;34m.\u001b[0m\u001b[0mshape\u001b[0m\u001b[0;34m[\u001b[0m\u001b[0;36m1\u001b[0m\u001b[0;34m]\u001b[0m\u001b[0;34m)\u001b[0m\u001b[0;34m\u001b[0m\u001b[0;34m\u001b[0m\u001b[0m\n\u001b[1;32m     11\u001b[0m \u001b[0;31m# GrabCut algorithm specifying the empty models and mask\u001b[0m\u001b[0;34m\u001b[0m\u001b[0;34m\u001b[0m\u001b[0;34m\u001b[0m\u001b[0m\n\u001b[0;32m---> 12\u001b[0;31m \u001b[0mcv2\u001b[0m\u001b[0;34m.\u001b[0m\u001b[0mgrabCut\u001b[0m\u001b[0;34m(\u001b[0m\u001b[0mimg\u001b[0m\u001b[0;34m,\u001b[0m \u001b[0mmask\u001b[0m\u001b[0;34m,\u001b[0m \u001b[0mrect\u001b[0m\u001b[0;34m,\u001b[0m \u001b[0mbgdModel\u001b[0m\u001b[0;34m,\u001b[0m \u001b[0mfgdModel\u001b[0m\u001b[0;34m,\u001b[0m\u001b[0;36m5\u001b[0m\u001b[0;34m,\u001b[0m \u001b[0mcv2\u001b[0m\u001b[0;34m.\u001b[0m\u001b[0mGC_INIT_WITH_RECT\u001b[0m\u001b[0;34m)\u001b[0m\u001b[0;34m\u001b[0m\u001b[0;34m\u001b[0m\u001b[0m\n\u001b[0m\u001b[1;32m     13\u001b[0m \u001b[0;31m# The values, 0 and 2, will be converted into zeros, and 1-3 into ones, and stored into mask2\u001b[0m\u001b[0;34m\u001b[0m\u001b[0;34m\u001b[0m\u001b[0;34m\u001b[0m\u001b[0m\n\u001b[1;32m     14\u001b[0m \u001b[0mmask2\u001b[0m \u001b[0;34m=\u001b[0m \u001b[0mnp\u001b[0m\u001b[0;34m.\u001b[0m\u001b[0mwhere\u001b[0m\u001b[0;34m(\u001b[0m\u001b[0;34m(\u001b[0m\u001b[0mmask\u001b[0m\u001b[0;34m==\u001b[0m\u001b[0;36m2\u001b[0m\u001b[0;34m)\u001b[0m\u001b[0;34m|\u001b[0m\u001b[0;34m(\u001b[0m\u001b[0mmask\u001b[0m\u001b[0;34m==\u001b[0m\u001b[0;36m0\u001b[0m\u001b[0;34m)\u001b[0m\u001b[0;34m,\u001b[0m\u001b[0;36m0\u001b[0m\u001b[0;34m,\u001b[0m\u001b[0;36m1\u001b[0m\u001b[0;34m)\u001b[0m\u001b[0;34m.\u001b[0m\u001b[0mastype\u001b[0m\u001b[0;34m(\u001b[0m\u001b[0;34m'uint8'\u001b[0m\u001b[0;34m)\u001b[0m\u001b[0;34m\u001b[0m\u001b[0;34m\u001b[0m\u001b[0m\n",
            "\u001b[0;31merror\u001b[0m: OpenCV(4.1.2) /io/opencv/modules/imgproc/src/grabcut.cpp:99: error: (-5:Bad argument) _model must have CV_64FC1 type, rows == 1 and cols == 13*componentsCount in function 'GMM'\n"
          ]
        }
      ]
    }
  ]
}