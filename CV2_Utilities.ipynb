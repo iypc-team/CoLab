{
  "nbformat": 4,
  "nbformat_minor": 5,
  "metadata": {
    "kernelspec": {
      "display_name": "Python 3",
      "language": "python",
      "name": "python3"
    },
    "language_info": {
      "codemirror_mode": {
        "name": "ipython",
        "version": 3
      },
      "file_extension": ".py",
      "mimetype": "text/x-python",
      "name": "python",
      "nbconvert_exporter": "python",
      "pygments_lexer": "ipython3",
      "version": "3.7.10"
    },
    "colab": {
      "name": "CV2_Utilities.ipynb",
      "provenance": [],
      "collapsed_sections": [],
      "include_colab_link": true
    }
  },
  "cells": [
    {
      "cell_type": "markdown",
      "metadata": {
        "id": "view-in-github",
        "colab_type": "text"
      },
      "source": [
        "<a href=\"https://colab.research.google.com/github/iypc-team/CoLab/blob/master/CV2_Utilities.ipynb\" target=\"_parent\"><img src=\"https://colab.research.google.com/assets/colab-badge.svg\" alt=\"Open In Colab\"/></a>"
      ]
    },
    {
      "cell_type": "code",
      "metadata": {
        "colab": {
          "base_uri": "https://localhost:8080/"
        },
        "id": "substantial-responsibility",
        "outputId": "672e38d6-97a3-4846-c0ff-0b585547d824"
      },
      "source": [
        "# 08/18/2021-2\n",
        "from __future__ import absolute_import\n",
        "from IPython.display import clear_output, display\n",
        "import glob, os, shutil, sys\n",
        "from os.path import *\n",
        "\n",
        "try:\n",
        "    from google.colab import drive, files\n",
        "    from google.colab.patches import cv2_imshow\n",
        "except Exception as err:\n",
        "    pass\n",
        "\n",
        "try: \n",
        "    from matplotlib import pyplot as plt\n",
        "except Exception as err:\n",
        "    %pip install matplotlib\n",
        "    from matplotlib import pyplot as plt\n",
        "\n",
        "try: \n",
        "    import cv2\n",
        "    from cv2 import COLOR_BGR2RGBA\n",
        "except Exception as err:\n",
        "    print(err)\n",
        "    %pip install opencv-python-headless # works.\n",
        "    # %pip install opencv-contrib-python-headless\n",
        "    import cv2\n",
        "    from cv2 import COLOR_BGR2RGBA, IMREAD_UNCHANGED\n",
        "\n",
        "import numpy as np\n",
        "\n",
        "if exists('/content/sample_data'):\n",
        "    shutil.rmtree('/content/sample_data')\n",
        "\n",
        "contentPth = os.getcwd()\n",
        "tensorflowImagesPath = join(contentPth, 'TensorflowImages')\n",
        "resizedImagesPath = join(contentPth, 'TensorflowResizedImages')\n",
        "\n",
        "if exists(resizedImagesPath):\n",
        "    pass\n",
        "    shutil.rmtree(resizedImagesPath)\n",
        "\n",
        "try:\n",
        "    drive.flush_and_unmount()\n",
        "    drive.mount('/content/gdrive/', force_remount=True)\n",
        "    mydrivePth = '/content/gdrive/MyDrive'\n",
        "    os.chdir(mydrivePth)\n",
        "    gdriveTFImagesPth = join(mydrivePth, 'TensorflowImages')\n",
        "    gdriveResizedImagesPth = join(mydrivePth, 'TensorflowResizedImages')\n",
        "    \n",
        "    os.chdir(mydrivePth)\n",
        "    from TarfileFunctions import *\n",
        "    from BashColors import C\n",
        "    \n",
        "    if not exists(tensorflowImagesPath):\n",
        "        shutil.copytree(gdriveTFImagesPth, tensorflowImagesPath)\n",
        "        # tff.listTarfiles()\n",
        "        os.chdir(contentPth)\n",
        "        # tff.extractTarfiles('Juno_Original_Images.tar.gz')\n",
        "\n",
        "    gdrive_resized_images = '/content/gdrive/MyDrive/TensorflowResizedImages'\n",
        "    if not exists(resizedImagesPath):\n",
        "        try: shutil.copytree(gdrive_resized_images, resizedImagesPath)\n",
        "        except Exception as err:\n",
        "            print(err)\n",
        "\n",
        "    os.chdir(contentPth)\n",
        "\n",
        "except Exception as err:\n",
        "    # print(err)\n",
        "    os.chdir(contentPth)\n",
        "    from TarfileFunctions import *\n",
        "    from BashColors import C\n",
        "    tarfilePath=join(contentPth, 'Juno_Original_Images.tar.gz')\n",
        "    if exists(tarfilePath) and not exists(tensorflowImagesPath):\n",
        "        tff.extractTarfiles('Juno_Original_Images.tar.gz')\n",
        "\n",
        "rootPth = expanduser(\"~\")\n",
        "\n",
        "os.chdir(contentPth)\n",
        "print(f'cv2: {C.IBlue}{cv2.__version__}{C.ColorOff}')\n",
        "print(f'cwd: {C.IBlue}{os.getcwd()}')"
      ],
      "id": "substantial-responsibility",
      "execution_count": 1,
      "outputs": [
        {
          "output_type": "stream",
          "text": [
            "Mounted at /content/gdrive/\n",
            "cv2: \u001b[0;94m4.1.2\u001b[0m\n",
            "cwd: \u001b[0;94m/content\n"
          ],
          "name": "stdout"
        }
      ]
    },
    {
      "cell_type": "code",
      "metadata": {
        "id": "sustained-joining"
      },
      "source": [
        "import cv2\n",
        "def cv2AddTwoImages(imagePath1, imagePath2):\n",
        "    '''return  addImage'''\n",
        "    # read two imagePaths\n",
        "    src1 = cv2.imread(imagePath1)\n",
        "    src2 = cv2.imread(imagePath2)\n",
        "    try:\n",
        "        # add or blend the imagePaths\n",
        "        addImage = cv2.addWeighted(src1, 1, src2, 1, 0.0)\n",
        "        # save the output imagePath\n",
        "        # cv2.imwrite('image.png', dst)\n",
        "        return addImage\n",
        "    except Exception as err:\n",
        "        print(f'{C.IRed}{err}')\n",
        "\n",
        "    \n"
      ],
      "id": "sustained-joining",
      "execution_count": 2,
      "outputs": []
    },
    {
      "cell_type": "code",
      "metadata": {
        "id": "sophisticated-magazine"
      },
      "source": [
        "zeroPixel:np.ndarray\n",
        "originalImageZeroPixel:np.ndarray\n",
        "\n",
        "def matPlotShowSingleImage(thisImage):\n",
        "    thisImage = cv2.cvtColor(thisImage, cv2.COLOR_BGR2RGBA)\n",
        "    # pth = abspath(thisImage)\n",
        "    # print(pth)\n",
        "    fig=plt.figure()\n",
        "    ax1=fig.add_subplot(1,1,1)\n",
        "    ax1.imshow(thisImage)\n",
        "    ax1.axis('off')\n",
        "    pass\n",
        "\n",
        "def matPlotCompareTwoImages(thisImage, compareImage):\n",
        "    thisImage = cv2.cvtColor(thisImage, cv2.COLOR_BGR2RGBA)\n",
        "    # thisPth = abspath(thisImage)\n",
        "    # print(thisPth)\n",
        "    compareImage = cv2.cvtColor(compareImage, cv2.COLOR_BGR2RGBA)\n",
        "    # comparePth = abspath(compareImage)\n",
        "    # print(comparePth)\n",
        "    # Plot the images\n",
        "    fig=plt.figure()\n",
        "    ax1 = fig.add_subplot(1,2,1)\n",
        "    ax1.imshow(thisImage)\n",
        "    ax1.axis('off')\n",
        "    ax1.set_title('Original Image')\n",
        "\n",
        "    ax2 = fig.add_subplot(1,2,2)\n",
        "    ax2.imshow(compareImage)\n",
        "    ax2.axis('off')\n",
        "    ax2.set_title('New Image')\n",
        "    plt.show()\n",
        "\n",
        "def cv2ResizeImage(thisImage, newSize=(224,224)):\n",
        "    '''return resized_image'''\n",
        "    resized_image = cv2.resize(thisImage,newSize,interpolation=cv2.INTER_CUBIC)\n",
        "    return resized_image\n",
        "\n",
        "def cv2CreateImageWithColor(pxColor=[0,0,0,0], silent=True):\n",
        "    '''return save_path'''\n",
        "    bgImagePath = join(contentPth, 'TensorflowImages/backgroundImage224.png')\n",
        "    bgImage = cv2.imread(bgImagePath, cv2.IMREAD_UNCHANGED)\n",
        "    save_path = join(contentPth, 'bgImage.png')\n",
        "    # print(save_path)\n",
        "    bgImage = np.copy(bgImage)\n",
        "    # print(bgImage[0][0])\n",
        "\n",
        "    for px in bgImage:\n",
        "        bgImage[:] = pxColor\n",
        "        cv2.waitKey(100)\n",
        "        \n",
        "    cv2.imwrite(save_path, bgImage)\n",
        "    if not silent:\n",
        "        print(f'shape: {bgImage.shape}')\n",
        "        # cv2_imshow(bgImage)\n",
        "        matPlotCompareTwoImages(bgImage, bgImage)\n",
        "    return save_path\n",
        "\n",
        "def cv2ZoomImage(thisImage, newScale=1, silent=True):\n",
        "    '''return zoomImage'''\n",
        "    zeroPixel = thisImage[0][0]\n",
        "    angle = 0\n",
        "    width, height, _ = thisImage.shape\n",
        "    rotPoint = width//2, height //2\n",
        "    dimentions = width, height\n",
        "    rotPoint = width//2, height//2\n",
        "    rotMatrix = cv2.getRotationMatrix2D(rotPoint, angle, scale=newScale)\n",
        "    zoomImage = cv2.warpAffine(thisImage, rotMatrix, dimentions)\n",
        "    if not silent:\n",
        "        print('cv2ZoomImage()')\n",
        "        matPlotCompareTwoImages(thisImage, zoomImage)\n",
        "    return zoomImage\n",
        "\n",
        "def cv2Rotation(thisImage, angle=0, rotPoint=None, newScale=1, silent=True):\n",
        "    '''return rotImage'''\n",
        "    thisImage = np.copy(thisImage)\n",
        "    zeroPixel = thisImage[[0][0]]\n",
        "    width, height, _ = thisImage.shape\n",
        "    if rotPoint == None:\n",
        "        rotPoint = width//2, height//2\n",
        "        rotMat = cv2.getRotationMatrix2D(rotPoint, angle, scale=newScale)\n",
        "        dimentions = width, height\n",
        "        rotImage = cv2.warpAffine(thisImage, rotMat, dimentions)\n",
        "        rotImageZeroPixel = rotImage[0][0]\n",
        "        if not silent:\n",
        "            print('cv2Rotation()')\n",
        "            matPlotCompareTwoImages(thisImage, rotImage)\n",
        "            cv2.waitKey(100)\n",
        "        cv2.waitKey(100)\n",
        "        cv2.destroyAllWindows()\n",
        "        return rotImage\n",
        "\n",
        "def cv2Translate(thisImage, x=0, y=0, silent=True):\n",
        "    '''-x shift left -y shift up\\nx shift right y shift down\\n\n",
        "    return newImage'''\n",
        "    thisImage = np.copy(thisImage)\n",
        "    zeroPixel=thisImage[0][0]\n",
        "    translateMatrix = np.float32([[1,0,x],[0,1,y]])\n",
        "    dimentions = (thisImage.shape[1], thisImage.shape[0])\n",
        "    newImage = cv2.warpAffine(thisImage, translateMatrix, dimentions)\n",
        "\n",
        "    if not silent:\n",
        "        print('cv2Translate()')\n",
        "        matPlotCompareTwoImages(thisImage, newImage)\n",
        "\n",
        "    try:\n",
        "        cv2.waitKey(100)\n",
        "        cv2.destroyAllWindows()\n",
        "    except: pass\n",
        "    return newImage\n",
        "\n",
        "def cv2EdgeDetection(thisImage, t1=50, t2=50, silent=True):\n",
        "    '''return canny'''\n",
        "    canny = cv2.Canny(thisImage, t1, t2)\n",
        "    if not silent:\n",
        "        matPlotCompareTwoImages(thisImage, canny)\n",
        "    try:\n",
        "        cv2.waitKey(100)\n",
        "        cv2.destroyAllWindows()\n",
        "    except: pass\n",
        "    return canny\n",
        "\n",
        "def changeBackgroundColors(path, image=None):\n",
        "    '''returns newImg'''\n",
        "    splitPath = split(path)\n",
        "    filePath = splitPath[0]\n",
        "    fileName = splitPath[1]\n",
        "    fileName = 'new_' + fileName\n",
        "    print(filePath)\n",
        "    print(fileName)\n",
        "    saveImagePath = join(contentPth, fileName)\n",
        "\n",
        "    print(f'saveImagePath: {saveImagePath}')\n",
        "    original_image = cv2.imread(path, cv2.IMREAD_UNCHANGED)\n",
        "    originalZeroPixel = originalImage[0][0]\n",
        "    plt.imshow(original_image)\n",
        "    newImg = np.copy(original_image)\n",
        "\n",
        "    zeroPixel = newImg[0][0]\n",
        "    print('newImg zeroPixel:', zeroPixel)\n",
        "    print('originalZeroPixel:', originalZeroPixel)\n",
        "\n",
        "    width, height, channels = original_image.shape\n",
        "    print(width, height, channels)\n",
        "\n",
        "    for x in range(0, width):\n",
        "        for y in range(0, height):\n",
        "            channels_xy = newImg[y][x]\n",
        "            # print(channels_xy)\n",
        "            if all(channels_xy == zeroPixel):\n",
        "                newImg[y][x] = originalZeroPixel\n",
        "                \n",
        "    cv2.imwrite(saveImagePath, newImg)\n",
        "    newImg = cv2.imread(saveImagePath, -1)\n",
        "    try:\n",
        "        cv2.waitKey(100)\n",
        "        cv2.destroyAllWindows()\n",
        "    except: pass\n",
        "    return newImg\n",
        "\n",
        "def cv2FillImage(thisImage, silent=True):\n",
        "    print(thisImage.shape)"
      ],
      "id": "sophisticated-magazine",
      "execution_count": 3,
      "outputs": []
    },
    {
      "cell_type": "code",
      "metadata": {
        "colab": {
          "base_uri": "https://localhost:8080/",
          "height": 199
        },
        "id": "_uC6Fwf2-XRc",
        "outputId": "b9315870-f24f-4d76-a276-78ce331341db"
      },
      "source": [
        "\n",
        "pth = join(tensorflowImagesPath, 'Enemy')\n",
        "pth = join(pth, 'enemy_1.png')\n",
        "shutil.copy2(pth, contentPth)\n",
        "\n",
        "enemyPath = join(contentPth, 'enemy_1.png')\n",
        "enemyImg = cv2.imread(enemyPath, cv2.IMREAD_UNCHANGED)\n",
        "enemyImg = cv2ResizeImage(enemyImg)\n",
        "enemyImg = cv2ZoomImage(enemyImg, newScale=0.5, silent=True)\n",
        "\n",
        "imagePath = join(contentPth, 'zoom_enemy.png')\n",
        "cv2.imwrite(imagePath, enemyImg)\n",
        "\n",
        "try:\n",
        "    cv2.waitKey(100)\n",
        "    cv2.destroyAllWindows()\n",
        "except: pass\n",
        "\n",
        "bgImagePath = cv2CreateImageWithColor([64, 64, 64, 255])\n",
        "bgImage = cv2.imread(bgImagePath, cv2.IMREAD_UNCHANGED)\n",
        "\n",
        "try: cv2_imshow()\n",
        "except: matPlotCompareTwoImages(enemyImg, bgImage)"
      ],
      "id": "_uC6Fwf2-XRc",
      "execution_count": 4,
      "outputs": [
        {
          "output_type": "display_data",
          "data": {
            "image/png": "[encoded data removed]",
            "text/plain": [
              "<Figure size 432x288 with 2 Axes>"
            ]
          },
          "metadata": {
            "tags": [],
            "needs_background": "light"
          }
        }
      ]
    },
    {
      "cell_type": "code",
      "metadata": {
        "id": "lr5J1ChqSOsI",
        "colab": {
          "base_uri": "https://localhost:8080/",
          "height": 665
        },
        "outputId": "705b1c26-d150-4796-9449-c13a9c117b79"
      },
      "source": [
        "img1 = cv2.imread('zoom_enemy.png', cv2.IMREAD_UNCHANGED)\n",
        "img2 = cv2.imread(bgImagePath, cv2.IMREAD_UNCHANGED)\n",
        "bitwiseAnd = cv2.bitwise_or(img1, img2)\n",
        "matPlotCompareTwoImages(img1, bitwiseAnd)\n",
        "\n",
        "edgeImg=cv2EdgeDetection(bitwiseAnd)\n",
        "print(edgeImg.shape)\n",
        "cv2_imshow(bitwiseAnd)\n",
        "cv2_imshow(edgeImg)"
      ],
      "id": "lr5J1ChqSOsI",
      "execution_count": 5,
      "outputs": [
        {
          "output_type": "display_data",
          "data": {
            "image/png": "[encoded data removed]",
            "text/plain": [
              "<Figure size 432x288 with 2 Axes>"
            ]
          },
          "metadata": {
            "tags": [],
            "needs_background": "light"
          }
        },
        {
          "output_type": "stream",
          "text": [
            "(224, 224)\n"
          ],
          "name": "stdout"
        },
        {
          "output_type": "display_data",
          "data": {
            "image/png": "[encoded data removed]",
            "text/plain": [
              "<PIL.Image.Image image mode=RGBA size=224x224 at 0x7FD5E0306CD0>"
            ]
          },
          "metadata": {
            "tags": []
          }
        },
        {
          "output_type": "display_data",
          "data": {
            "image/png": "[encoded data removed]",
            "text/plain": [
              "<PIL.Image.Image image mode=L size=224x224 at 0x7FD5E02DAD50>"
            ]
          },
          "metadata": {
            "tags": []
          }
        }
      ]
    },
    {
      "cell_type": "code",
      "metadata": {
        "id": "n8hgzdq9kGB0"
      },
      "source": [
        ""
      ],
      "id": "n8hgzdq9kGB0",
      "execution_count": 5,
      "outputs": []
    }
  ]
}