{
  "nbformat": 4,
  "nbformat_minor": 0,
  "metadata": {
    "colab": {
      "name": "Test_swift.ipynb",
      "version": "0.3.2",
      "provenance": [],
      "collapsed_sections": [],
      "include_colab_link": true
    },
    "kernelspec": {
      "name": "swift",
      "display_name": "Swift"
    }
  },
  "cells": [
    {
      "cell_type": "markdown",
      "metadata": {
        "id": "view-in-github",
        "colab_type": "text"
      },
      "source": [
        "<a href=\"https://colab.research.google.com/github/iypc-team/CoLab/blob/master/Test_swift.ipynb\" target=\"_parent\"><img src=\"https://colab.research.google.com/assets/colab-badge.svg\" alt=\"Open In Colab\"/></a>"
      ]
    },
    {
      "cell_type": "code",
      "metadata": {
        "id": "kZRlD4utdPuX",
        "colab_type": "code",
        "colab": {
          "base_uri": "https://localhost:8080/",
          "height": 119
        },
        "outputId": "dee86d1e-bd41-45a4-e388-dd96a9ab2e66"
      },
      "source": [
        "import Foundation\n",
        "import Dispatch\n",
        "import Python\n",
        "\n",
        "let mainQueue = DispatchQueue.main\n",
        "let globalQueue = DispatchQueue.init(label: \"com.iypc.global\", qos: .userInitiated, attributes: .concurrent, autoreleaseFrequency: .inherit, target: mainQueue)\n",
        "\n",
        "let x = 2 as Double\n",
        "\n",
        "for increment in 1...10 {\n",
        "\n",
        "}\n",
        "\n",
        "globalQueue.sync {\n",
        "  let x = 2\n",
        "  print(x)\n",
        "  }\n",
        "\n"
      ],
      "execution_count": 45,
      "outputs": [
        {
          "output_type": "error",
          "ename": "",
          "evalue": "ignored",
          "traceback": [
            "error: Execution was interrupted, reason: signal SIGILL: illegal instruction operand.\nThe process has been left at the point where it was interrupted, use \"thread return -x\" to return to the state before expression evaluation.\n"
          ]
        }
      ]
    }
  ]
}