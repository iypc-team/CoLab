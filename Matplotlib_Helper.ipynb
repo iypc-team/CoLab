{
  "nbformat": 4,
  "nbformat_minor": 0,
  "metadata": {
    "kernelspec": {
      "display_name": "Python 3",
      "language": "python",
      "name": "python3"
    },
    "language_info": {
      "codemirror_mode": {
        "name": "ipython",
        "version": 3
      },
      "file_extension": ".py",
      "mimetype": "text/x-python",
      "name": "python",
      "nbconvert_exporter": "python",
      "pygments_lexer": "ipython3",
      "version": "3.7.8"
    },
    "colab": {
      "name": "Matplotlib_Helper.ipynb",
      "private_outputs": true,
      "provenance": [],
      "include_colab_link": true
    }
  },
  "cells": [
    {
      "cell_type": "markdown",
      "metadata": {
        "id": "view-in-github",
        "colab_type": "text"
      },
      "source": [
        "<a href=\"https://colab.research.google.com/github/iypc-team/CoLab/blob/master/Matplotlib_Helper.ipynb\" target=\"_parent\"><img src=\"https://colab.research.google.com/assets/colab-badge.svg\" alt=\"Open In Colab\"/></a>"
      ]
    },
    {
      "cell_type": "code",
      "metadata": {
        "id": "S7QNKKUitXGI"
      },
      "source": [
        "import matplotlib.pyplot as plt\n",
        "import numpy as np\n",
        "from numpy.random import randn\n",
        "data = np.clip(randn(250,250),-1,1)\n",
        "data = np.ma.masked_where(data > 0.5, data)\n",
        "\n",
        "\n",
        "fig, ax1 = plt.subplots(1,1)\n",
        "\n",
        "im = ax1.imshow(data, interpolation='nearest')\n",
        "cb = plt.colorbar(im)\n",
        "\n",
        "fg_color = 'white'\n",
        "bg_color = 'black'\n",
        "\n",
        "# IMSHOW    \n",
        "# set title plus title color\n",
        "ax1.set_title('ax1 title', color=fg_color)\n",
        "\n",
        "# set figure facecolor\n",
        "ax1.patch.set_facecolor(bg_color)\n",
        "\n",
        "# set tick and ticklabel color\n",
        "im.axes.tick_params(color=fg_color, labelcolor=fg_color)\n",
        "\n",
        "# set imshow outline\n",
        "for spine in im.axes.spines.values():\n",
        "    spine.set_edgecolor(fg_color)    \n",
        "\n",
        "# COLORBAR\n",
        "# set colorbar label plus label color\n",
        "cb.set_label('colorbar label', color=fg_color)\n",
        "\n",
        "# set colorbar tick color\n",
        "cb.ax.yaxis.set_tick_params(color=fg_color)\n",
        "\n",
        "# set colorbar edgecolor \n",
        "cb.outline.set_edgecolor(fg_color)\n",
        "\n",
        "# set colorbar ticklabels\n",
        "plt.setp(plt.getp(cb.ax.axes, 'yticklabels'), color=fg_color)\n",
        "\n",
        "fig.patch.set_facecolor(bg_color)    \n",
        "plt.tight_layout()\n",
        "plt.show()\n",
        "plt.savefig('pic.png', dpi=200, facecolor=bg_color)\n"
      ],
      "execution_count": null,
      "outputs": []
    }
  ]
}