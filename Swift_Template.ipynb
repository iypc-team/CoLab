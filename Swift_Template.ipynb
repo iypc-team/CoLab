{
  "nbformat": 4,
  "nbformat_minor": 0,
  "metadata": {
    "colab": {
      "provenance": [],
      "private_outputs": true,
      "machine_shape": "hm",
      "include_colab_link": true
    },
    "kernelspec": {
      "display_name": "Swift",
      "name": "swift"
    },
    "gpuClass": "standard"
  },
  "cells": [
    {
      "cell_type": "markdown",
      "metadata": {
        "id": "view-in-github",
        "colab_type": "text"
      },
      "source": [
        "<a href=\"https://colab.research.google.com/github/iypc-team/CoLab/blob/master/Swift_Template.ipynb\" target=\"_parent\"><img src=\"https://colab.research.google.com/assets/colab-badge.svg\" alt=\"Open In Colab\"/></a>"
      ]
    },
    {
      "cell_type": "code",
      "source": [
        "import shutil\n",
        "try: shutil.rmtree(\"/content/sample_data\")\n",
        "except: pass\n",
        "print(\"Updated: 11/22/2022-1\")"
      ],
      "metadata": {
        "id": "NlIPow7h7h7L"
      },
      "execution_count": null,
      "outputs": []
    },
    {
      "cell_type": "code",
      "execution_count": null,
      "metadata": {
        "id": "sFBKc2ZP3EJk"
      },
      "outputs": [],
      "source": [
        "!curl \"https://raw.githubusercontent.com/philipturner/swift-colab/release/latest/install_swift.sh\" --output \"install_swift.sh\"\n",
        "!bash \"install_swift.sh\" \"5.7\" #// Replace '5.7' with newest Swift version."
      ]
    },
    {
      "cell_type": "code",
      "source": [
        "// https://github.com/philipturner/swift-colab"
      ],
      "metadata": {
        "id": "DDDV6MpQuEay"
      },
      "execution_count": null,
      "outputs": []
    },
    {
      "cell_type": "code",
      "source": [
        "import os; import sys; sys.stdout.flush(); os.kill(os.getpid(), 9)"
      ],
      "metadata": {
        "id": "HFI2djA98exk"
      },
      "execution_count": null,
      "outputs": []
    },
    {
      "cell_type": "code",
      "source": [
        "Int.bitWidth\n",
        "// Output: (you can include this comment in the cell; it doesn't count as the \"last line\")\n",
        "// 64"
      ],
      "metadata": {
        "id": "t43E6YNHqKKe"
      },
      "execution_count": null,
      "outputs": []
    },
    {
      "cell_type": "code",
      "source": [
        "Int.bitWidth\n",
        "Int.bitWidth\n",
        "// Output:\n",
        "// 64"
      ],
      "metadata": {
        "id": "aSTZrszzrNtQ"
      },
      "execution_count": null,
      "outputs": []
    },
    {
      "cell_type": "code",
      "source": [
        "print(Int.bitWidth)\n",
        "Int.bitWidth"
      ],
      "metadata": {
        "id": "474aHnJzrO29"
      },
      "execution_count": null,
      "outputs": []
    },
    {
      "cell_type": "code",
      "source": [
        "%install '.package(url: \"https://github.com/pvieito/PythonKit\", .branch(\"master\"))' PythonKit"
      ],
      "metadata": {
        "id": "D3WZcwJZrtoB"
      },
      "execution_count": null,
      "outputs": []
    },
    {
      "cell_type": "code",
      "source": [
        "%install '.package(url: \"https://github.com/pvieito/PythonKit\", .branch(\"master\"))' PythonKit\n",
        "%install '.package(url: \"https://github.com/pvieito/PythonKit\", .branch(\"master\"))' PythonKit"
      ],
      "metadata": {
        "id": "NdGwvD7rsHLW"
      },
      "execution_count": null,
      "outputs": []
    },
    {
      "cell_type": "code",
      "source": [
        "%install '.package(url: \"https://github.com/pvieito/PythonKit\", .branch(\"master\"))' PythonKit\n",
        "%install '.package(url: \"https://github.com/KarthikRIyer/swiftplot\", .branch(\"master\"))' SwiftPlot AGGRenderer\n",
        "%include \"EnableIPythonDisplay.swift\""
      ],
      "metadata": {
        "id": "z5vL40CcspKV"
      },
      "execution_count": null,
      "outputs": []
    },
    {
      "cell_type": "code",
      "source": [
        "// This cell is here to display plots inside a Jupyter Notebook.\n",
        "// Do not copy it into another environment.\n",
        "%include \"EnableIPythonDisplay.swift\"\n",
        "print(IPythonDisplay.shell.enable_matplotlib(\"inline\"))"
      ],
      "metadata": {
        "id": "NVim27wbQLaL"
      },
      "execution_count": null,
      "outputs": []
    },
    {
      "cell_type": "code",
      "source": [
        "import PythonKit\n",
        "print(Python.version)\n",
        "import SwiftPlot\n",
        "\n",
        "import AGGRenderer"
      ],
      "metadata": {
        "id": "gVDKA7kMruE3"
      },
      "execution_count": null,
      "outputs": []
    },
    {
      "cell_type": "code",
      "source": [
        "let np = Python.import(\"numpy\")\n",
        "let plt = Python.import(\"matplotlib.pyplot\")\n",
        "\n",
        "let time = np.arange(0, 10, 0.01)\n",
        "let amplitude = np.exp(-0.1 * time)\n",
        "let position = amplitude * np.sin(3 * time)\n",
        "\n",
        "plt.figure(figsize: [15, 10])\n",
        "\n",
        "plt.plot(time, position)\n",
        "plt.plot(time, amplitude)\n",
        "plt.plot(time, -amplitude)\n",
        "\n",
        "plt.xlabel(\"Time (s)\")\n",
        "plt.ylabel(\"Position (m)\")\n",
        "plt.title(\"Oscillations\")\n",
        "\n",
        "// plt.show()"
      ],
      "metadata": {
        "id": "9V7XUU3DQR3h"
      },
      "execution_count": null,
      "outputs": []
    },
    {
      "cell_type": "code",
      "source": [
        "// Convert standard Swift types to Python.\n",
        "let pythonInt: PythonObject = 1\n",
        "let pythonFloat: PythonObject = 3.0\n",
        "let pythonString: PythonObject = \"Hello Python!\"\n",
        "let pythonRange: PythonObject = PythonObject(5..<10)\n",
        "let pythonArray: PythonObject = [1, 2, 3, 4]\n",
        "let pythonDict: PythonObject = [\"foo\": [0], \"bar\": [1, 2, 3]]\n",
        "\n",
        "// Perform standard operations on Python objects.\n",
        "print(pythonInt)\n",
        "print(pythonFloat)\n",
        "print(pythonString[0..<6])\n",
        "print(pythonRange)\n",
        "print(pythonArray[2])\n",
        "print(pythonDict[\"bar\"])"
      ],
      "metadata": {
        "id": "tPficjPectNj"
      },
      "execution_count": null,
      "outputs": []
    },
    {
      "cell_type": "code",
      "source": [
        "// Convert Python objects back to Swift.\n",
        "let int = Int(pythonInt)!\n",
        "let float = Float(pythonFloat)!\n",
        "let string = String(pythonString)!\n",
        "let range = Range<Int>(pythonRange)!\n",
        "let array: [Int] = Array(pythonArray)!\n",
        "let dict: [String: [Int]] = Dictionary(pythonDict)!\n",
        "\n",
        "// Perform standard operations.\n",
        "// Outputs are the same as Python!\n",
        "print(Float(int))\n",
        "print(float)\n",
        "print(string.prefix(6))\n",
        "print(range)\n",
        "print(array[2])\n",
        "print(dict[\"bar\"]!)"
      ],
      "metadata": {
        "id": "Vz--ocyvcuaw"
      },
      "execution_count": null,
      "outputs": []
    },
    {
      "cell_type": "code",
      "source": [
        "import tfcoreml\n",
        "import coremltools //# as ct\n",
        "\n",
        "var model = coremltools.convert(\n",
        "    source_model=\"/content/MobileNet_model.h5\"\n",
        ")"
      ],
      "metadata": {
        "id": "39J-SwzO72cU"
      },
      "execution_count": null,
      "outputs": []
    }
  ]
}