{
  "nbformat": 4,
  "nbformat_minor": 0,
  "metadata": {
    "kernelspec": {
      "display_name": "Python 3",
      "language": "python",
      "name": "python3"
    },
    "language_info": {
      "codemirror_mode": {
        "name": "ipython",
        "version": 3
      },
      "file_extension": ".py",
      "mimetype": "text/x-python",
      "name": "python",
      "nbconvert_exporter": "python",
      "pygments_lexer": "ipython3",
      "version": "3.7.8"
    },
    "colab": {
      "name": "MobileNet_V2.ipynb",
      "private_outputs": true,
      "provenance": [],
      "collapsed_sections": [],
      "machine_shape": "hm",
      "include_colab_link": true
    },
    "accelerator": "GPU"
  },
  "cells": [
    {
      "cell_type": "markdown",
      "metadata": {
        "id": "view-in-github",
        "colab_type": "text"
      },
      "source": [
        "<a href=\"https://colab.research.google.com/github/iypc-team/CoLab/blob/master/MobileNet_V2.ipynb\" target=\"_parent\"><img src=\"https://colab.research.google.com/assets/colab-badge.svg\" alt=\"Open In Colab\"/></a>"
      ]
    },
    {
      "cell_type": "code",
      "metadata": {
        "id": "oOK917uEYPSo"
      },
      "source": [
        "from __future__ import absolute_import, division\n",
        "try:\n",
        "    import tensorflow as tf\n",
        "    print(f'tensorflow: {tf.__version__}')\n",
        "except ModuleNotFoundError as err:\n",
        "    %pip install tensorflow\n",
        "    import tensorflow as tf\n",
        "    print(f'\\ntensorflow: {tf.__version__}')\n",
        "\n",
        "from tensorflow import keras\n",
        "from tensorflow.keras.preprocessing import image\n",
        "from IPython.display import Image, display, clear_output\n",
        "from tensorflow.keras.applications import imagenet_utils\n",
        "import numpy as np\n",
        "\n",
        "\n",
        "import glob, os, shutil, time\n",
        "from os.path import *\n",
        "import numpy as np\n",
        "from google.colab import drive, files\n",
        "\n",
        "drive.flush_and_unmount()\n",
        "drive.mount('/content/gdrive', force_remount=True)\n",
        "\n",
        "contentPth = abspath('/content')\n",
        "gdrivePth = join(contentPth, 'gdrive')\n",
        "myDrivePth = join(gdrivePth, 'My Drive')\n",
        "modelPth = join(myDrivePth, 'TensorflowModels')\n",
        "imgPth = join(myDrivePth, 'TensorflowImages')\n",
        "deletePth = join(contentPth, 'sample_data')\n",
        "\n",
        "if exists(deletePth):\n",
        "    shutil.rmtree(deletePth)\n",
        "    deletePth=None\n",
        "\n",
        "os.chdir(myDrivePth)\n",
        "from BashColors import C\n",
        "\n",
        "mobilenet_v2=None\n",
        "imagePathList=[]"
      ],
      "execution_count": null,
      "outputs": []
    },
    {
      "cell_type": "code",
      "metadata": {
        "id": "6pz9DbWg58PA"
      },
      "source": [
        "# from tensorflow import keras\n",
        "from tensorflow.keras import callbacks\n",
        "early_stop = callbacks.EarlyStopping(\n",
        "    patience=2,\n",
        "    restore_best_weights=True)\n",
        "\n",
        "save_callback = tf.keras.callbacks.ModelCheckpoint(\n",
        "    'checkpoints/',\n",
        "    save_weights_only=False,\n",
        "    monitor='accuracy',\n",
        "    save_best_only=True)\n",
        "\n",
        "def normalizeImage(set_image):\n",
        "    print('Normalized')\n",
        "    return tf.cast(set_image, dtype=tf.float32) / 255, labels\n",
        "\n",
        "def augmentData(thisImage):\n",
        "    print(thisImage)\n",
        "    resize_rescale = tf.keras.Sequential([\n",
        "            tf.keras.layers.experimental.preprocessing.Resizing(224, 224),\n",
        "            tf.keras.layers.experimental.preprocessing.Rescaling(1.0/225) ])\n",
        "    result = resize_rescale(thisImage)\n",
        "    return result"
      ],
      "execution_count": null,
      "outputs": []
    },
    {
      "cell_type": "code",
      "metadata": {
        "id": "opo8XD8po2MB"
      },
      "source": [
        "def showPhysicalDevices():\n",
        "    physicalDevices = tf.config.experimental.list_physical_devices('GPU')\n",
        "    print(f'{C.IWhite}{len(physicalDevices)} gpu available')\n",
        "    visableDevices=tf.config.get_visible_devices()\n",
        "    for device in visableDevices:\n",
        "        print(f'{device.device_type}: {device}')\n",
        "    tf.config.experimental.set_memory_growth(physicalDevices[0], True)\n",
        "\n",
        "showPhysicalDevices()"
      ],
      "execution_count": null,
      "outputs": []
    },
    {
      "cell_type": "code",
      "metadata": {
        "id": "WxsvRpoYJ4s0"
      },
      "source": [
        "def showImage(thisImagePath, newWidth=64, newHeight=64):\n",
        "    if exists(thisImagePath):\n",
        "        image_name=basename(thisImagePath)\n",
        "        # print(f'{C.IGreen}{thisImagePath}')\n",
        "        print(f'{C.IWhite}{image_name}')\n",
        "\n",
        "        thisImage = image.load_img(path=thisImagePath, target_size=(224,224))\n",
        "        imgArray = image.img_to_array(img=thisImage)\n",
        "        imgArrayExpandDims = np.expand_dims(a=imgArray, axis=0)\n",
        "        result = tf.keras.applications.mobilenet_v2.preprocess_input(imgArrayExpandDims)\n",
        "        show = Image(filename=thisImagePath, width=newWidth,height=newHeight)\n",
        "        display(show)"
      ],
      "execution_count": null,
      "outputs": []
    },
    {
      "cell_type": "code",
      "metadata": {
        "id": "6ZNH5cm_CCgP"
      },
      "source": [
        "fileListGlob=[]\n",
        "os.chdir(imgPth)\n",
        "fileListGlob=glob.glob('**', recursive=True)\n",
        "for fil in sorted(fileListGlob):\n",
        "    if isdir(fil):\n",
        "        print(f'\\n{C.IBlue}{fil}')\n",
        "    elif isfile(fil):\n",
        "        fullPath = abspath(fil)\n",
        "        showImage(thisImagePath=fullPath,\n",
        "                  newWidth=64, newHeight=64)\n",
        "        # print(abspath(fil))\n",
        "        if not fullPath in imagePathList:\n",
        "            imagePathList.append(fullPath)\n",
        "clear_output()\n",
        "print('\\n',len(imagePathList),'images ok')"
      ],
      "execution_count": null,
      "outputs": []
    },
    {
      "cell_type": "code",
      "metadata": {
        "id": "Fd3klIT9rYG4"
      },
      "source": [
        "from tensorflow import keras\n",
        "loadModelPth = join(modelPth, 'mobilenetv2_1.00_None_no_weights_no_top.h5')\n",
        "re_model = keras.models.load_model(loadModelPth)\n",
        "print()\n",
        "re_model.compile()\n",
        "# re_model.summary()\n",
        "# re_model.fit( ,callbacks=['early_stop', 'save_callback'])"
      ],
      "execution_count": null,
      "outputs": []
    },
    {
      "cell_type": "code",
      "metadata": {
        "id": "M5IMNOyjYPTQ"
      },
      "source": [
        "mobilenet_v2 = tf.keras.applications.MobileNetV2(input_shape=None,\n",
        "                                                 alpha=1.0,\n",
        "                                                 include_top=False,\n",
        "                                                 weights=None,\n",
        "                                                 input_tensor=None, \n",
        "                                                 pooling=None,\n",
        "                                                 classes=1000,\n",
        "                                                 classifier_activation='softmax')\n",
        "\n",
        "mobilenet_v2.compile\n",
        "# mobilenet_v2.summary()\n",
        "\n",
        "modelName = mobilenet_v2.name + '_no_weights_no_top.h5'\n",
        "# modelPth = join()\n",
        "\n",
        "print(f'saved: {C.Green}{modelName}{C.ColorOff}')\n",
        "if exists(modelPth):\n",
        "    os.chdir(contentPth)\n",
        "    mobilenet_v2.save(modelName)\n",
        "    os.chdir(contentPth)"
      ],
      "execution_count": null,
      "outputs": []
    },
    {
      "cell_type": "code",
      "metadata": {
        "id": "iNZDUClFNb2M"
      },
      "source": [
        "configDict = re_model.get_config()\n",
        "\n",
        "for item in configDict:\n",
        "    print(item)\n",
        "    print(configDict[item], '\\n')\n"
      ],
      "execution_count": null,
      "outputs": []
    },
    {
      "cell_type": "code",
      "metadata": {
        "id": "1ddybJvs4ive"
      },
      "source": [
        "import matplotlib.image as mpimg\n",
        "for newPath in imagePathList:\n",
        "    showImage(newPath)\n",
        "    img = image.load_img(path=newPath, target_size=(224,244))\n",
        "    imageArray = image.img_to_array(img)\n",
        "    imageArrayExpandDims = np.expand_dims(imageArray, axis=0)\n",
        "    "
      ],
      "execution_count": null,
      "outputs": []
    },
    {
      "cell_type": "code",
      "metadata": {
        "id": "eXLcLOpWMNaA"
      },
      "source": [
        "timeCounter=0\n",
        "q\n",
        "try:\n",
        "    while timeCounter < 100:\n",
        "        drive.mount(gdrivePth, force_remount=True)\n",
        "        print(timeCounter, 'minutes')\n",
        "        showImage(thisImagePath=imagePathList[4])\n",
        "        time.sleep(60)\n",
        "        timeCounter+=1\n",
        "except: clear_output()"
      ],
      "execution_count": null,
      "outputs": []
    }
  ]
}