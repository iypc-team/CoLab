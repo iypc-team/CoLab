{
  "nbformat": 4,
  "nbformat_minor": 0,
  "metadata": {
    "kernelspec": {
      "display_name": "Python 3",
      "language": "python",
      "name": "python3"
    },
    "language_info": {
      "codemirror_mode": {
        "name": "ipython",
        "version": 3
      },
      "file_extension": ".py",
      "mimetype": "text/x-python",
      "name": "python",
      "nbconvert_exporter": "python",
      "pygments_lexer": "ipython3",
      "version": "3.7.8"
    },
    "colab": {
      "name": "MobileNet_V2.ipynb",
      "private_outputs": true,
      "provenance": [],
      "collapsed_sections": [],
      "machine_shape": "hm",
      "include_colab_link": true
    },
    "accelerator": "GPU"
  },
  "cells": [
    {
      "cell_type": "markdown",
      "metadata": {
        "id": "view-in-github",
        "colab_type": "text"
      },
      "source": [
        "<a href=\"https://colab.research.google.com/github/iypc-team/CoLab/blob/master/MobileNet_V2.ipynb\" target=\"_parent\"><img src=\"https://colab.research.google.com/assets/colab-badge.svg\" alt=\"Open In Colab\"/></a>"
      ]
    },
    {
      "cell_type": "code",
      "metadata": {
        "id": "oOK917uEYPSo"
      },
      "source": [
        "from __future__ import absolute_import, division\n",
        "try: \n",
        "    import tensorflow as tf\n",
        "    print(f'tensorflow: {tf.__version__}')\n",
        "except ModuleNotFoundError as err:\n",
        "    %pip install tensorflow\n",
        "    try: \n",
        "        import tensorflow as tf\n",
        "        print(f'\\ntensorflow: {tf.__version__}')\n",
        "    except Exception as err:\n",
        "        print(err)\n",
        "import glob, os, shutil\n",
        "from os.path import *\n",
        "import numpy as np\n",
        "from google.colab import drive, files\n",
        "\n",
        "contentPth = os.getcwd()\n",
        "myDrivePth = '/content/drive/My Drive'\n",
        "deletePth = '/content/sample_data'\n",
        "if exists(deletePth):\n",
        "    shutil.rmtree(deletePth)\n",
        "    deletePth=None\n",
        "\n",
        "drive.mount('/content/drive', force_remount=True)\n",
        "\n",
        "os.chdir(myDrivePth)\n",
        "from BashColors import C\n",
        "os.chdir(contentPth)\n",
        "\n",
        "mobilenet_v2=None"
      ],
      "execution_count": null,
      "outputs": []
    },
    {
      "cell_type": "code",
      "metadata": {
        "id": "opo8XD8po2MB"
      },
      "source": [
        "physicalDevices = tf.config.experimental.list_physical_devices('GPU')\r\n",
        "print(f'{len(physicalDevices)} gpu is available')\r\n",
        "tf.config.experimental.set_memory_growth(physicalDevices[0], True)"
      ],
      "execution_count": null,
      "outputs": []
    },
    {
      "cell_type": "code",
      "metadata": {
        "id": "M5IMNOyjYPTQ"
      },
      "source": [
        "mobilenet_v2=tf.keras.applications.MobileNetV2(input_shape=None,\n",
        "                                               alpha=1.0,\n",
        "                                               include_top=True,\n",
        "                                               weights='imagenet',\n",
        "                                               input_tensor=None, \n",
        "                                               pooling=None,\n",
        "                                               classes=1000,\n",
        "                                               classifier_activation='softmax')\n",
        "\n",
        "# mobilenet_v2.summary()\n",
        "modelName = mobilenet_v2.name + '.h5'\n",
        "print('saved: ', modelName)\n",
        "mobilenet_v2.save(modelName)"
      ],
      "execution_count": null,
      "outputs": []
    },
    {
      "cell_type": "code",
      "metadata": {
        "id": "OGPbv7jkYPTU"
      },
      "source": [
        "sourcePth = abspath('mobilenetv2_1.00_224.h5')\r\n",
        "tfModelsPth = '/content/drive/My Drive/Tensorflow Models'\r\n",
        "destinationPth = join(tfModelsPth, basename(sourcePth))\r\n",
        "shutil.copy2(sourcePth, destinationPth)"
      ],
      "execution_count": null,
      "outputs": []
    },
    {
      "cell_type": "code",
      "metadata": {
        "id": "6pz9DbWg58PA"
      },
      "source": [
        "from tensorflow.keras.preprocessing import image"
      ],
      "execution_count": null,
      "outputs": []
    },
    {
      "cell_type": "code",
      "metadata": {
        "id": "dOIJqEN2ql7i"
      },
      "source": [
        "from IPython.display import Image, display\r\n",
        "from tensorflow.keras.applications import imagenet_utils\r\n",
        "import numpy as np\r\n",
        "\r\n",
        "imageList=None\r\n",
        "imgPth = '/content/drive/My Drive/Test Images'\r\n",
        "if exists(imgPth):\r\n",
        "    os.chdir(imgPth)\r\n",
        "    imageList=glob.glob('**')\r\n",
        "    counter=0\r\n",
        "\r\n",
        "for thisImage in sorted(imageList):\r\n",
        "    counter+=1\r\n",
        "    img=image.load_img(thisImage, target_size=(224,224))\r\n",
        "    img_array=image.img_to_array(img)\r\n",
        "    img_array_expanded_dims = np.expand_dims(img_array, axis=0)\r\n",
        "    result=tf.keras.applications.mobilenet.preprocess_input(img_array_expanded_dims)\r\n",
        "    print(f'{counter}. {C.Blue}{thisImage}{C.ColorOff}')\r\n",
        "    show=Image(filename=thisImage, width=112, height=113)\r\n",
        "    display(show)\r\n",
        "    thisPrediction = mobilenet_v2.predict(result)\r\n",
        "    thisResult = imagenet_utils.decode_predictions(thisPrediction)\r\n",
        "    print(f'{C.Purple}{thisResult[0]}{C.ColorOff}\\n')\r\n"
      ],
      "execution_count": null,
      "outputs": []
    }
  ]
}