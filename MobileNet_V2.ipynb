{
  "nbformat": 4,
  "nbformat_minor": 0,
  "metadata": {
    "kernelspec": {
      "display_name": "Python 3",
      "language": "python",
      "name": "python3"
    },
    "language_info": {
      "codemirror_mode": {
        "name": "ipython",
        "version": 3
      },
      "file_extension": ".py",
      "mimetype": "text/x-python",
      "name": "python",
      "nbconvert_exporter": "python",
      "pygments_lexer": "ipython3",
      "version": "3.7.8"
    },
    "colab": {
      "name": "MobileNet_V2.ipynb",
      "private_outputs": true,
      "provenance": [],
      "collapsed_sections": [],
      "machine_shape": "hm",
      "include_colab_link": true
    },
    "accelerator": "GPU"
  },
  "cells": [
    {
      "cell_type": "markdown",
      "metadata": {
        "id": "view-in-github",
        "colab_type": "text"
      },
      "source": [
        "<a href=\"https://colab.research.google.com/github/iypc-team/CoLab/blob/master/MobileNet_V2.ipynb\" target=\"_parent\"><img src=\"https://colab.research.google.com/assets/colab-badge.svg\" alt=\"Open In Colab\"/></a>"
      ]
    },
    {
      "cell_type": "code",
      "metadata": {
        "id": "oOK917uEYPSo"
      },
      "source": [
        "from __future__ import absolute_import, division\n",
        "try: \n",
        "    import tensorflow as tf\n",
        "    print(f'tensorflow: {tf.__version__}')\n",
        "except ModuleNotFoundError as err:\n",
        "    %pip install tensorflow\n",
        "    try: \n",
        "        import tensorflow as tf\n",
        "        print(f'\\ntensorflow: {tf.__version__}')\n",
        "    except Exception as err:\n",
        "        print(err)\n",
        "import os, shutil\n",
        "from os.path import *\n",
        "contentPth = os.getcwd()\n",
        "\n",
        "deletePth = '/content/sample_data'\n",
        "print(deletePth)\n",
        "if exists(deletePth):\n",
        "    shutil.rmtree(deletePth)\n",
        "    deletePth=None\n",
        "\n",
        "from google.colab import drive, files\n",
        "drive.mount('/content/drive', force_remount=True)\n",
        "\n",
        "mobilenet_v2=None"
      ],
      "execution_count": null,
      "outputs": []
    },
    {
      "cell_type": "code",
      "metadata": {
        "id": "M5IMNOyjYPTQ"
      },
      "source": [
        "mobilenet_v2=tf.keras.applications.MobileNetV2(input_shape=None,\n",
        "                                               alpha=1.0,\n",
        "                                               include_top=True,\n",
        "                                               weights='imagenet',\n",
        "                                               input_tensor=None, \n",
        "                                               pooling=None,\n",
        "                                               classes=1000,\n",
        "                                               classifier_activation='softmax')\n",
        "\n",
        "modelName = mobilenet_v2.name + '.h5'\n",
        "print('saved: ', modelName)\n",
        "mobilenet_v2.save(modelName)"
      ],
      "execution_count": null,
      "outputs": []
    },
    {
      "cell_type": "code",
      "metadata": {
        "id": "OGPbv7jkYPTU"
      },
      "source": [
        "sourcePth = abspath('mobilenetv2_1.00_224.h5')\r\n",
        "tfModelsPth = '/content/drive/My Drive/Tensorflow Models'\r\n",
        "destinationPth = join(tfModelsPth, basename(sourcePth))\r\n",
        "shutil.copy2(sourcePth, destinationPth)"
      ],
      "execution_count": null,
      "outputs": []
    },
    {
      "cell_type": "code",
      "metadata": {
        "id": "dOIJqEN2ql7i"
      },
      "source": [
        ""
      ],
      "execution_count": null,
      "outputs": []
    }
  ]
}