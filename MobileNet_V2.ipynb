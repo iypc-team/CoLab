{
  "nbformat": 4,
  "nbformat_minor": 0,
  "metadata": {
    "kernelspec": {
      "display_name": "Python 3",
      "language": "python",
      "name": "python3"
    },
    "language_info": {
      "codemirror_mode": {
        "name": "ipython",
        "version": 3
      },
      "file_extension": ".py",
      "mimetype": "text/x-python",
      "name": "python",
      "nbconvert_exporter": "python",
      "pygments_lexer": "ipython3",
      "version": "3.7.8"
    },
    "colab": {
      "name": "MobileNet_V2.ipynb",
      "private_outputs": true,
      "provenance": [],
      "collapsed_sections": [],
      "machine_shape": "hm",
      "include_colab_link": true
    },
    "accelerator": "GPU"
  },
  "cells": [
    {
      "cell_type": "markdown",
      "metadata": {
        "id": "view-in-github",
        "colab_type": "text"
      },
      "source": [
        "<a href=\"https://colab.research.google.com/github/iypc-team/CoLab/blob/master/MobileNet_V2.ipynb\" target=\"_parent\"><img src=\"https://colab.research.google.com/assets/colab-badge.svg\" alt=\"Open In Colab\"/></a>"
      ]
    },
    {
      "cell_type": "code",
      "metadata": {
        "id": "oOK917uEYPSo"
      },
      "source": [
        "from __future__ import absolute_import, division\n",
        "try: \n",
        "    import tensorflow as tf\n",
        "    print(f'tensorflow: {tf.__version__}')\n",
        "except ModuleNotFoundError as err:\n",
        "    %pip install tensorflow\n",
        "    try: \n",
        "        import tensorflow as tf\n",
        "        print(f'\\ntensorflow: {tf.__version__}')\n",
        "    except Exception as err:\n",
        "        print(err)\n",
        "        \n",
        "import glob, os, shutil\n",
        "from os.path import *\n",
        "import numpy as np\n",
        "from google.colab import drive, files\n",
        "\n",
        "contentPth = os.getcwd()\n",
        "myDrivePth = '/content/drive/My Drive'\n",
        "deletePth = '/content/sample_data'\n",
        "if exists(deletePth):\n",
        "    shutil.rmtree(deletePth)\n",
        "    deletePth=None\n",
        "\n",
        "drive.mount('/content/drive', force_remount=True)\n",
        "\n",
        "os.chdir(myDrivePth)\n",
        "from BashColors import C\n",
        "os.chdir(contentPth)\n",
        "\n",
        "mobilenet_v2=None"
      ],
      "execution_count": null,
      "outputs": []
    },
    {
      "cell_type": "code",
      "metadata": {
        "id": "opo8XD8po2MB"
      },
      "source": [
        "physicalDevices = tf.config.experimental.list_physical_devices('GPU')\r\n",
        "print(f'{C.Blue}{len(physicalDevices)} gpu available')\r\n",
        "visableDevices=tf.config.get_visible_devices()\r\n",
        "for device in visableDevices:\r\n",
        "    print(f'{device.device_type}: {device}')\r\n",
        "tf.config.experimental.set_memory_growth(physicalDevices[0], True)"
      ],
      "execution_count": null,
      "outputs": []
    },
    {
      "cell_type": "code",
      "metadata": {
        "id": "M5IMNOyjYPTQ"
      },
      "source": [
        "mobilenet_v2 = tf.keras.applications.MobileNetV2(input_shape=None,\n",
        "                                                 alpha=1.0,\n",
        "                                                 include_top=True,\n",
        "                                                 weights='imagenet',\n",
        "                                                 input_tensor=None, \n",
        "                                                 pooling=None,\n",
        "                                                 classes=1000,\n",
        "                                                 classifier_activation='softmax')\n",
        "\n",
        "mobilenet_v2.compile()\n",
        "modelName = mobilenet_v2.name + '.h5'\n",
        "print('saved: ', modelName)\n",
        "mobilenet_v2.save(modelName)"
      ],
      "execution_count": null,
      "outputs": []
    },
    {
      "cell_type": "code",
      "metadata": {
        "id": "OGPbv7jkYPTU"
      },
      "source": [
        "tfModelsPth = '/content/drive/My Drive/Tensorflow Models'\r\n",
        "os.chdir(tfModelsPth)\r\n",
        "%ls -l\r\n",
        "sourcePth = join(tfModelsPth, 'resnet152v2.h5')\r\n",
        "destinationPth = join(contentPth, 'resnet152v2.h5')\r\n",
        "shutil.copy2(sourcePth, destinationPth)"
      ],
      "execution_count": null,
      "outputs": []
    },
    {
      "cell_type": "code",
      "metadata": {
        "id": "Fd3klIT9rYG4"
      },
      "source": [
        "from tensorflow import keras\r\n",
        "re_model=keras.models.load_model(destinationPth)\r\n",
        "re_model.compile()"
      ],
      "execution_count": null,
      "outputs": []
    },
    {
      "cell_type": "code",
      "metadata": {
        "id": "6pz9DbWg58PA"
      },
      "source": [
        "from tensorflow.keras.preprocessing import image"
      ],
      "execution_count": null,
      "outputs": []
    },
    {
      "cell_type": "code",
      "metadata": {
        "id": "FS4ci3lUnwm1"
      },
      "source": [
        "\r\n",
        "def printResult(inputResult):\r\n",
        "    for item in result[0]:\r\n",
        "        percent=item[2] * 100\r\n",
        "        print(f'probability: {percent}%\\t {item[1]}')"
      ],
      "execution_count": null,
      "outputs": []
    },
    {
      "cell_type": "code",
      "metadata": {
        "id": "dOIJqEN2ql7i"
      },
      "source": [
        "from IPython.display import Image, display\r\n",
        "from tensorflow.keras.applications import imagenet_utils\r\n",
        "import numpy as np\r\n",
        "\r\n",
        "imageList=None\r\n",
        "imgPth = '/content/drive/My Drive/Test Images'\r\n",
        "if exists(imgPth):\r\n",
        "    os.chdir(imgPth)\r\n",
        "    imageList=glob.glob('**')\r\n",
        "    os.chdir(contentPth)\r\n",
        "\r\n",
        "counter=0\r\n",
        "for thisImage in sorted(imageList):\r\n",
        "    counter+=1\r\n",
        "    thisImage=join(imgPth, thisImage)\r\n",
        "    img = image.load_img(thisImage, target_size=(224,224))\r\n",
        "    img_array = image.img_to_array(img)\r\n",
        "    img_array_expanded_dims = np.expand_dims(img_array, axis=0)\r\n",
        "    result=tf.keras.applications.mobilenet.preprocess_input(img_array_expanded_dims)\r\n",
        "    print(f'{counter}. {C.IBlue}{basename(thisImage)}')\r\n",
        "    show=Image(filename=thisImage, width=224/2, height=224/2)\r\n",
        "    display(show)\r\n",
        "\r\n",
        "    thisPrediction = re_model.predict(result)\r\n",
        "    thisResult = imagenet_utils.decode_predictions(thisPrediction)\r\n",
        "    printResult(inputResult=thisResult)\r\n",
        "    _ = thisPrediction.max()\r\n",
        "    percent=thisPrediction.max()\r\n",
        "    print(f'{C.IBlue}{percent * 100} percent')\r\n",
        "    print(f'{C.IPurple}{thisResult[0]}{C.ColorOff}\\n')\r\n"
      ],
      "execution_count": null,
      "outputs": []
    },
    {
      "cell_type": "code",
      "metadata": {
        "id": "heQniKxvCXwR"
      },
      "source": [
        "import tensorflow_datasets as tfds\r\n",
        "tfds.list_builders()"
      ],
      "execution_count": null,
      "outputs": []
    },
    {
      "cell_type": "code",
      "metadata": {
        "id": "1A8IOGpeqqZx"
      },
      "source": [
        "import tensorflow_datasets as tfds\r\n",
        "builder = tfds.builder('fashion_mnist')\r\n",
        "info = builder.info\r\n",
        "print(info.name)\r\n",
        "print(info.full_name)"
      ],
      "execution_count": null,
      "outputs": []
    },
    {
      "cell_type": "code",
      "metadata": {
        "id": "UnaR-CC8qwOr"
      },
      "source": [
        "data,info = tfds.load('fashion_mnist', split='train', with_info=True)\r\n",
        "# tfds.visualization.show_examples(ds=data ,ds_info=info )\r\n",
        "print(f'data: {len(data)}')\r\n",
        "print(f'info: {info}')\r\n",
        "tfds.as_dataframe(data.take(9), info)"
      ],
      "execution_count": null,
      "outputs": []
    },
    {
      "cell_type": "code",
      "metadata": {
        "id": "FLV_kBvFfQIo"
      },
      "source": [
        "sourcePth = join(info.data_dir)\r\n",
        "destinationPth = join(contentPth, info.full_name)\r\n",
        "if not exists(destinationPth):\r\n",
        "    shutil.copytree(sourcePth, destinationPth)\r\n",
        "\r\n",
        "os.chdir(destinationPth)\r\n",
        "higgsStuff = glob.glob('**', recursive=True)\r\n",
        "for item in sorted(higgsStuff):\r\n",
        "    print(f'{C.IWhite}{item}')\r\n"
      ],
      "execution_count": null,
      "outputs": []
    },
    {
      "cell_type": "code",
      "metadata": {
        "id": "iqiSe2LN2_TT"
      },
      "source": [
        "\n",
        "sourcePth = destinationPth\n",
        "print(f'sourcePth: {sourcePth}')\n",
        "datasetsPth = '/content/drive/My Drive/Tensorflow Datasets/'\n",
        "datasetsDirectoryPth = join(datasetsPth, info.full_name)\n",
        "\n",
        "if not exists(datasetsDirectoryPth):\n",
        "    print(f'copy to {datasetsDirectoryPth}')\n",
        "    shutil.copytree(sourcePth, datasetsDirectoryPth)\n",
        "    files.view(datasetsDirectoryPth)\n",
        "else: print(f'{datasetsDirectoryPth} exists')"
      ],
      "execution_count": null,
      "outputs": []
    },
    {
      "cell_type": "code",
      "metadata": {
        "id": "cATlM-CIHeMs"
      },
      "source": [
        "files.view(datasetsDirectoryPth)"
      ],
      "execution_count": null,
      "outputs": []
    },
    {
      "cell_type": "code",
      "metadata": {
        "id": "mOOvkhAGIoEm"
      },
      "source": [
        "fig = tfds.show_examples(data, info)\r\n",
        "fig"
      ],
      "execution_count": null,
      "outputs": []
    }
  ]
}