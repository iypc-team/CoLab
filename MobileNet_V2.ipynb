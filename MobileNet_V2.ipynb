{
  "nbformat": 4,
  "nbformat_minor": 0,
  "metadata": {
    "kernelspec": {
      "display_name": "Python 3",
      "language": "python",
      "name": "python3"
    },
    "language_info": {
      "codemirror_mode": {
        "name": "ipython",
        "version": 3
      },
      "file_extension": ".py",
      "mimetype": "text/x-python",
      "name": "python",
      "nbconvert_exporter": "python",
      "pygments_lexer": "ipython3",
      "version": "3.7.8"
    },
    "colab": {
      "name": "MobileNet_V2.ipynb",
      "private_outputs": true,
      "provenance": [],
      "collapsed_sections": [],
      "machine_shape": "hm",
      "include_colab_link": true
    },
    "accelerator": "GPU"
  },
  "cells": [
    {
      "cell_type": "markdown",
      "metadata": {
        "id": "view-in-github",
        "colab_type": "text"
      },
      "source": [
        "<a href=\"https://colab.research.google.com/github/iypc-team/CoLab/blob/master/MobileNet_V2.ipynb\" target=\"_parent\"><img src=\"https://colab.research.google.com/assets/colab-badge.svg\" alt=\"Open In Colab\"/></a>"
      ]
    },
    {
      "cell_type": "code",
      "metadata": {
        "id": "oOK917uEYPSo"
      },
      "source": [
        "from __future__ import absolute_import, division\n",
        "try: \n",
        "    import tensorflow as tf\n",
        "    print(f'tensorflow: {tf.__version__}')\n",
        "except ModuleNotFoundError as err:\n",
        "    %pip install tensorflow\n",
        "    try: \n",
        "        import tensorflow as tf\n",
        "        print(f'\\ntensorflow: {tf.__version__}')\n",
        "    except Exception as err:\n",
        "        print(err)\n",
        "        \n",
        "import glob, os, shutil\n",
        "from os.path import *\n",
        "import numpy as np\n",
        "from google.colab import drive, files\n",
        "\n",
        "contentPth = os.getcwd()\n",
        "myDrivePth = '/content/drive/My Drive'\n",
        "deletePth = '/content/sample_data'\n",
        "if exists(deletePth):\n",
        "    shutil.rmtree(deletePth)\n",
        "    deletePth=None\n",
        "\n",
        "drive.mount('/content/drive', force_remount=True)\n",
        "\n",
        "os.chdir(myDrivePth)\n",
        "import ImportDriveFiles\n",
        "from BashColors import C\n",
        "\n",
        "\n",
        "mobilenet_v2=None"
      ],
      "execution_count": null,
      "outputs": []
    },
    {
      "cell_type": "code",
      "metadata": {
        "id": "m1pBjpKLmMf-"
      },
      "source": [
        "imgPth = join(myDrivePth, 'Tensorflow Images')\n",
        "if exists(imgPth):\n",
        "    print(imgPth)\n",
        "    fileList = glob.glob('**', recursive=True)\n",
        "for fil in sorted(fileList):\n",
        "    print(fil)\n",
        "len(fileList)"
      ],
      "execution_count": null,
      "outputs": []
    },
    {
      "cell_type": "code",
      "metadata": {
        "id": "opo8XD8po2MB"
      },
      "source": [
        "physicalDevices = tf.config.experimental.list_physical_devices('GPU')\n",
        "print(f'{C.Blue}{len(physicalDevices)} gpu available')\n",
        "visableDevices=tf.config.get_visible_devices()\n",
        "for device in visableDevices:\n",
        "    print(f'{device.device_type}: {device}')\n",
        "tf.config.experimental.set_memory_growth(physicalDevices[0], True)"
      ],
      "execution_count": null,
      "outputs": []
    },
    {
      "cell_type": "code",
      "metadata": {
        "id": "M5IMNOyjYPTQ"
      },
      "source": [
        "mobilenet_v2 = tf.keras.applications.MobileNetV2(input_shape=None,\n",
        "                                                 alpha=1.0,\n",
        "                                                 include_top=True,\n",
        "                                                 weights=None,\n",
        "                                                 input_tensor=None, \n",
        "                                                 pooling=None,\n",
        "                                                 classes=1000,\n",
        "                                                 classifier_activation='softmax')\n",
        "\n",
        "mobilenet_v2.compile()\n",
        "\n",
        "modelName = mobilenet_v2.name + '_no_weights.h5'\n",
        "\n",
        "print(f'saved: {C.IBlue}{modelName}')\n",
        "mobilenet_v2.save(modelName)"
      ],
      "execution_count": null,
      "outputs": []
    },
    {
      "cell_type": "code",
      "metadata": {
        "id": "OGPbv7jkYPTU"
      },
      "source": [
        "tfModelsPth = '/content/drive/My Drive/Tensorflow Models'\n",
        "sourcePth = join(contentPth, modelName)\n",
        "destinationPth = join(tfModelsPth, modelName)\n",
        "if exists(sourcePth) and exists(tfModelsPth):\n",
        "    print(sourcePth)\n",
        "    print(destinationPth)\n",
        "    shutil.copy2(sourcePth, destinationPth)\n",
        "\n",
        "files.view(tfModelsPth)"
      ],
      "execution_count": null,
      "outputs": []
    },
    {
      "cell_type": "code",
      "metadata": {
        "id": "Fd3klIT9rYG4"
      },
      "source": [
        "from tensorflow import keras\n",
        "re_model=keras.models.load_model(destinationPth)\n",
        "re_model.compile()\n",
        "\n",
        "\n",
        "re_model"
      ],
      "execution_count": null,
      "outputs": []
    },
    {
      "cell_type": "code",
      "metadata": {
        "id": "6pz9DbWg58PA"
      },
      "source": [
        "from tensorflow.keras.preprocessing import image"
      ],
      "execution_count": null,
      "outputs": []
    },
    {
      "cell_type": "code",
      "metadata": {
        "id": "dOIJqEN2ql7i"
      },
      "source": [
        "from IPython.display import Image, display\n",
        "from tensorflow.keras.applications import imagenet_utils\n",
        "import numpy as np\n",
        "\n",
        "imageList=None\n",
        "imgPth = '/content/drive/My Drive/Test Images'\n",
        "if exists(imgPth):\n",
        "    print(imgPth)\n",
        "    os.chdir(imgPth)\n",
        "    imageList=glob.glob('**')\n",
        "    os.chdir(contentPth)\n",
        "\n",
        "counter=0\n",
        "for thisImage in sorted(imageList):\n",
        "    counter+=1\n",
        "    thisImage=join(imgPth, thisImage)\n",
        "    img = image.load_img(thisImage, target_size=(224,224))\n",
        "    img_array = image.img_to_array(img)\n",
        "    img_array_expanded_dims = np.expand_dims(img_array, axis=0)\n",
        "    result=tf.keras.applications.mobilenet.preprocess_input(img_array_expanded_dims)\n",
        "    print(f'{counter}. {C.IBlue}{basename(thisImage)}')\n",
        "    show=Image(filename=thisImage, width=224, height=224)\n",
        "    display(show)\n",
        "\n",
        "    thisPrediction = re_model.predict(result)\n",
        "    thisResult = imagenet_utils.decode_predictions(thisPrediction)\n",
        "    printResult(inputResult=thisResult)\n",
        "    _ = thisPrediction.max()\n",
        "    percent=thisPrediction.max()\n",
        "    print(f'{C.IBlue}{percent * 100} percent')\n",
        "    print(f'{C.IPurple}{thisResult[0]}{C.ColorOff}\\n')\n"
      ],
      "execution_count": null,
      "outputs": []
    },
    {
      "cell_type": "code",
      "metadata": {
        "id": "FS4ci3lUnwm1"
      },
      "source": [
        "\n",
        "def printResult(inputResult):\n",
        "    for item in result[0]:\n",
        "        percent=item[2] * 100\n",
        "        print(f'probability: {percent}%\\t {item[1]}')"
      ],
      "execution_count": null,
      "outputs": []
    },
    {
      "cell_type": "code",
      "metadata": {
        "id": "heQniKxvCXwR"
      },
      "source": [
        "import tensorflow_datasets as tfds\n",
        "tfds.list_builders()"
      ],
      "execution_count": null,
      "outputs": []
    },
    {
      "cell_type": "code",
      "metadata": {
        "id": "1A8IOGpeqqZx"
      },
      "source": [
        "import tensorflow_datasets as tfds\n",
        "builder = tfds.builder('fashion_mnist')\n",
        "info = builder.info\n",
        "print(info.name)\n",
        "print(info.full_name)"
      ],
      "execution_count": null,
      "outputs": []
    },
    {
      "cell_type": "code",
      "metadata": {
        "id": "UnaR-CC8qwOr"
      },
      "source": [
        "data,info = tfds.load('fashion_mnist', split='train', with_info=True)\n",
        "# tfds.visualization.show_examples(ds=data ,ds_info=info )\n",
        "print(f'data: {len(data)}')\n",
        "print(f'info: {info}')\n",
        "tfds.as_dataframe(data.take(9), info)"
      ],
      "execution_count": null,
      "outputs": []
    },
    {
      "cell_type": "code",
      "metadata": {
        "id": "FLV_kBvFfQIo"
      },
      "source": [
        "sourcePth = join(info.data_dir)\n",
        "destinationPth = join(contentPth, info.full_name)\n",
        "if not exists(destinationPth):\n",
        "    shutil.copytree(sourcePth, destinationPth)\n",
        "\n",
        "os.chdir(destinationPth)\n",
        "higgsStuff = glob.glob('**', recursive=True)\n",
        "for item in sorted(higgsStuff):\n",
        "    print(f'{C.IWhite}{item}')\n"
      ],
      "execution_count": null,
      "outputs": []
    },
    {
      "cell_type": "code",
      "metadata": {
        "id": "iqiSe2LN2_TT"
      },
      "source": [
        "\n",
        "sourcePth = destinationPth\n",
        "print(f'sourcePth: {sourcePth}')\n",
        "datasetsPth = '/content/drive/My Drive/Tensorflow Datasets/'\n",
        "datasetsDirectoryPth = join(datasetsPth, info.full_name)\n",
        "\n",
        "if not exists(datasetsDirectoryPth):\n",
        "    print(f'copy to {datasetsDirectoryPth}')\n",
        "    shutil.copytree(sourcePth, datasetsDirectoryPth)\n",
        "    files.view(datasetsDirectoryPth)\n",
        "else: print(f'{datasetsDirectoryPth} exists')"
      ],
      "execution_count": null,
      "outputs": []
    },
    {
      "cell_type": "code",
      "metadata": {
        "id": "cATlM-CIHeMs"
      },
      "source": [
        "files.view(datasetsDirectoryPth)"
      ],
      "execution_count": null,
      "outputs": []
    },
    {
      "cell_type": "code",
      "metadata": {
        "id": "mOOvkhAGIoEm"
      },
      "source": [
        "fig = tfds.show_examples(data, info)\n",
        "fig"
      ],
      "execution_count": null,
      "outputs": []
    }
  ]
}