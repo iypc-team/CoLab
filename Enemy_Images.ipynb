{
  "nbformat": 4,
  "nbformat_minor": 0,
  "metadata": {
    "colab": {
      "private_outputs": true,
      "provenance": [],
      "collapsed_sections": [],
      "authorship_tag": "ABX9TyMidCRKG3OWjqimYjuvQ7D+",
      "include_colab_link": true
    },
    "kernelspec": {
      "name": "python3",
      "display_name": "Python 3"
    },
    "language_info": {
      "name": "python"
    }
  },
  "cells": [
    {
      "cell_type": "markdown",
      "metadata": {
        "id": "view-in-github",
        "colab_type": "text"
      },
      "source": [
        "<a href=\"https://colab.research.google.com/github/iypc-team/CoLab/blob/master/Enemy_Images.ipynb\" target=\"_parent\"><img src=\"https://colab.research.google.com/assets/colab-badge.svg\" alt=\"Open In Colab\"/></a>"
      ]
    },
    {
      "cell_type": "code",
      "source": [
        "print('Updated: 09/18/2022')"
      ],
      "metadata": {
        "id": "xv2rKMKCwWSL"
      },
      "execution_count": null,
      "outputs": []
    },
    {
      "cell_type": "code",
      "source": [
        "from __future__ import absolute_import\n",
        "from IPython.display import clear_output\n",
        "import cv2, glob, os, shutil, tarfile\n",
        "from google.colab.patches import cv2_imshow as show\n",
        "import numpy as np\n",
        "\n",
        "from os.path import abspath, basename, exists, join\n",
        "os.environ['TF_CPP_MIN_LOG_LEVEL'] = '5'\n",
        "\n",
        "from google.colab import drive, files\n",
        "import numpy as np\n",
        "import matplotlib.pyplot as plt\n",
        "\n",
        "contentPath=os.getcwd()\n",
        "\n",
        "if exists('/content/sample_data'):\n",
        "    shutil.rmtree('/content/sample_data')\n",
        "\n",
        "drive.mount('/content/drive', force_remount=True)\n",
        "\n",
        "# import required modules\n",
        "if not exists('BashColors.py'):\n",
        "    shutil.copy2(src='/content/drive/MyDrive/PythonFiles/BashColors.py',\n",
        "                 dst=contentPath)\n",
        "    \n",
        "if not exists('TarfileFunctions.py'):\n",
        "    shutil.copy2(src='/content/drive/MyDrive/TarfileFunctions.py',\n",
        "                 dst=contentPath)\n",
        "\n",
        "if not exists('GetTPU.py'):\n",
        "    shutil.copy2(src='/content/drive/MyDrive/PythonFiles/GetTPU.py',\n",
        "                 dst=contentPath)\n",
        "    \n",
        "if not exists('/content/DataGenerator6.tar.gz'):\n",
        "    shutil.copy2('/content/drive/MyDrive/DataGenerator6.tar.gz',\n",
        "                 contentPath)\n",
        "    \n",
        "from BashColors import C\n",
        "from TarfileFunctions import *\n",
        "\n",
        "os.chdir(contentPath)\n",
        "tff.extractTarfiles('/content/DataGenerator6.tar.gz')\n",
        "\n",
        "shutil.copy2(src='/content/DataGenerator/Enemy/enemy.png',\n",
        "             dst=contentPath)\n",
        "shutil.copy2(src='/content/drive/MyDrive/TensorflowImages/Enemy/enemy_1.png',\n",
        "             dst=contentPath)\n"
      ],
      "metadata": {
        "id": "0--aiJk9_7p5"
      },
      "execution_count": null,
      "outputs": []
    },
    {
      "cell_type": "code",
      "source": [
        "pth='/content/drive/MyDrive/TensorflowImages/Enemy/enemy_1.png'\n",
        "img=cv2.imread(pth).astype(np.float32)\n",
        "# img=img.astype(np.float32)\n",
        "print(basename(pth))\n",
        "print(img.dtype)\n",
        "print(img.shape)\n",
        "# show(img)\n",
        "\n",
        "print('Original Dimensions : ',img.shape)\n",
        "\n",
        "xscale_percent = 42\n",
        "width = int(img.shape[1] * xscale_percent // 100)\n",
        "height = int(img.shape[0] * xscale_percent // 100)\n",
        "\n",
        "dim = (width, height)\n",
        "resized = cv2.resize(img, dim, interpolation = cv2.INTER_AREA)\n",
        "\n",
        "print('Resized Dimentions:', resized.shape)\n",
        "\n",
        "show(resized)\n",
        "\n",
        "cv2.waitKey(1000)\n",
        "\n",
        "cv2.destroyAllWindows()"
      ],
      "metadata": {
        "id": "x9mkrIelZ-Er"
      },
      "execution_count": null,
      "outputs": []
    },
    {
      "cell_type": "code",
      "source": [
        "import numpy as np\n",
        "import cv2\n",
        "\n",
        "def rotate_image(image, angle):\n",
        "    \"\"\" \"\"\"\n",
        "    image_center = tuple(np.array(image.shape[1::-1]) / 2)\n",
        "    rot_mat = cv2.getRotationMatrix2D(image_center, angle, 1.0)\n",
        "    result = cv2.warpAffine(image, rot_mat, image.shape[1::-1], flags=cv2.INTER_LINEAR)\n",
        "    return result"
      ],
      "metadata": {
        "id": "sVfJBuLtNtDL"
      },
      "execution_count": null,
      "outputs": []
    },
    {
      "cell_type": "code",
      "source": [
        "def squareImage(imagePath:str='/content/enemy_1.png'):\n",
        "    \"\"\" \"\"\"\n",
        "    img=cv2.imread(imagePath).astype(np.float32)\n",
        "    \n",
        "    height=img.shape[0]\n",
        "    width=img.shape[1]\n",
        "    # print(f'height: {height}\\nwidth: {width} ')\n",
        "    print(f'img: {img.shape}')\n",
        "\n",
        "    if height<width:\n",
        "        blank_image = np.zeros((width,width,3), np.float32)\n",
        "        blank_image[:,0:width] = (64.,64.,64.) # (B, G, R)\n",
        "        print(f'blank: {blank_image.shape}')\n",
        "        # add or blend the images\n",
        "        newImage = np.concatenate((blank_image, img), axis=0)\n",
        "\n",
        "        newImage = cv2.resize(newImage, (224,224), interpolation=cv2.INTER_AREA)\n",
        "        show(newImage)\n",
        "        print(newImage.shape)\n",
        "\n",
        "    cv2.destroyAllWindows()\n",
        "    return img\n",
        "_=squareImage()"
      ],
      "metadata": {
        "id": "XRQ6Ace9t0zY"
      },
      "execution_count": null,
      "outputs": []
    },
    {
      "cell_type": "code",
      "source": [
        "def saveImage(basePath, imageName, thisImage, saveImage:bool):\n",
        "    \"\"\" \"\"\"\n",
        "    imageName = '/' + imageName\n",
        "    if not imageName.endswith('.png'):\n",
        "        imageName = imageName + '.png'\n",
        "    print(imageName)\n",
        "    savePath = basePath + imageName\n",
        "    if not exists(savePath):\n",
        "        # cv2.imwrite(savePath, thisImage)\n",
        "        print(f'saved to: {C.BGreen}{savePath}{C.ColorOff}')\n",
        "        if saveImage:\n",
        "            cv2.imwrite(savePath, thisImage)"
      ],
      "metadata": {
        "id": "CmFSlj47GhjM"
      },
      "execution_count": null,
      "outputs": []
    },
    {
      "cell_type": "code",
      "source": [
        "def clearEnemyDirectory():\n",
        "    enemyPath='/content/DataGenerator/Enemy'\n",
        "    os.chdir(enemyPath)\n",
        "    globList=glob.glob('*.png')\n",
        "    print(len(globList), 'files') # 360 original files\n",
        "    for item in globList:\n",
        "        removePath=os.path.abspath(item)\n",
        "        if exists(removePath):\n",
        "            os.remove(removePath)\n",
        "    os.chdir(contentPath)\n",
        "clearEnemyDirectory()"
      ],
      "metadata": {
        "id": "T6GY61hx_9CU"
      },
      "execution_count": null,
      "outputs": []
    },
    {
      "cell_type": "code",
      "source": [
        "help(saveImage)"
      ],
      "metadata": {
        "id": "KE_C8KMzz2dF"
      },
      "execution_count": null,
      "outputs": []
    },
    {
      "cell_type": "code",
      "source": [
        "from google.colab.patches import cv2_imshow\n",
        "from os.path import abspath, basename\n",
        "from time import sleep\n",
        "os.chdir(contentPath)\n",
        "\n",
        "enemyPath='/content/DataGenerator/Enemy'\n",
        "fullPath='/content/enemy.png'\n",
        "if os.path.isfile(fullPath) and fullPath.endswith('.png'):\n",
        "    # print(fullPath)\n",
        "    # print(basename(fullPath))\n",
        "\n",
        "    img=cv2.imread(fullPath, cv2.IMREAD_COLOR)\n",
        "    img=np.copy(img).astype(np.float32)\n",
        "\n",
        "    imgR90=rotate_image(img, 90)\n",
        "    imgR180=rotate_image(img, 180)\n",
        "    imgR270=rotate_image(img, 270)\n",
        "\n",
        "    cv2_imshow(img)\n",
        "    saveImage(basePath=enemyPath, imageName=basename(fullPath),\n",
        "              thisImage=img, saveImage=True)\n",
        "    print(basename(fullPath))\n",
        "    cv2_imshow(imgR90)\n",
        "    saveImage(basePath=enemyPath, imageName='enemyR90',\n",
        "              thisImage=imgR90, saveImage=True)\n",
        "    print(basename(fullPath))\n",
        "    cv2_imshow(imgR180)\n",
        "    saveImage(basePath=enemyPath, imageName='enemyR180',\n",
        "              thisImage=imgR180, saveImage=True)\n",
        "    cv2_imshow(imgR270)\n",
        "    print(basename(fullPath))\n",
        "    saveImage(basePath=enemyPath, imageName='enemyR270',\n",
        "              thisImage=imgR270, saveImage=True)\n",
        "\n",
        "    img=None\n",
        "    imgR90=None\n",
        "    imgR180=None\n",
        "    imgR270=None\n",
        "    sleep(0.1)\n",
        "    print()\n",
        "    sleep(0.1)\n",
        "\n",
        "os.chdir(contentPath)\n",
        "# clear_output()"
      ],
      "metadata": {
        "id": "l3A1QkqhnZrn"
      },
      "execution_count": null,
      "outputs": []
    },
    {
      "cell_type": "code",
      "source": [
        "def getEnemyGlob():\n",
        "    os.chdir('/content/DataGenerator/Enemy')\n",
        "    enemyGlob=glob.glob('**')\n",
        "    print(len(enemyGlob))\n",
        "    os.chdir(contentPath)\n",
        "    return enemyGlob\n",
        "enemyGlob=getEnemyGlob()"
      ],
      "metadata": {
        "id": "wpULUGUPmd73"
      },
      "execution_count": null,
      "outputs": []
    },
    {
      "cell_type": "code",
      "source": [
        "for item in enemyGlob:\n",
        "    fullPath=abspath(item)\n",
        "    print(fullPath)\n",
        "    \n",
        "    img = cv2.imread(fullPath)\n",
        "    img = np.copy(img)\n",
        "\n",
        "    imgFlipH = cv2.flip(img, 0)\n",
        "    # cv2_imshow(imgFlipH)\n",
        "    splt = str.split(basename(fullPath), '.')\n",
        "    name = splt[0] + 'FH'\n",
        "    saveImage(basePath=enemyPath, imageName=name,\n",
        "              thisImage=imgFlipH, saveImage=True)\n",
        "\n",
        "    imgFlipV = cv2.flip(img, 1)\n",
        "    name = splt[0] + 'FV'\n",
        "    print(name)\n",
        "    saveImage(basePath=enemyPath, imageName=name,\n",
        "              thisImage=imgFlipV, saveImage=True)\n",
        "    # cv2_imshow(imgFlipV)\n",
        "\n",
        "    imgFlipB = cv2.flip(img, -1)\n",
        "    name = splt[0] + 'FB'\n",
        "    saveImage(basePath=enemyPath, imageName=name,\n",
        "              thisImage=imgFlipB, saveImage=True)\n",
        "    # cv2_imshow(imgFlipB)\n",
        "\n",
        "    # print(img.shape)\n",
        "    print()\n",
        "\n",
        "    #\n",
        "\n",
        "os.chdir(contentPath)"
      ],
      "metadata": {
        "id": "uQn7wyeMMc8e"
      },
      "execution_count": null,
      "outputs": []
    },
    {
      "cell_type": "code",
      "source": [
        "sorted(getEnemyGlob())"
      ],
      "metadata": {
        "id": "kCX6nnNirdhJ"
      },
      "execution_count": null,
      "outputs": []
    },
    {
      "cell_type": "code",
      "source": [
        "tff.tarfileFromDirectory(\n",
        "    output_filename='DataGenerator6.tar.gz',\n",
        "    source_dir='/content/DataGenerator')"
      ],
      "metadata": {
        "id": "DI__kAXc_CHm"
      },
      "execution_count": null,
      "outputs": []
    },
    {
      "cell_type": "code",
      "source": [
        "tff.inspectTarfile('DataGenerator6.tar.gz')\n",
        "\n",
        "\n"
      ],
      "metadata": {
        "id": "W_9S3BYCK4o8"
      },
      "execution_count": null,
      "outputs": []
    },
    {
      "cell_type": "code",
      "source": [
        "source='/content/DataGenerator6.tar.gz'\n",
        "destination='/content/drive/MyDrive'\n",
        "print()\n",
        "shutil.copy2(src='/content/DataGenerator6.tar.gz',\n",
        "             dst='/content/drive/MyDrive')"
      ],
      "metadata": {
        "id": "2SvbzfpkAoDe"
      },
      "execution_count": null,
      "outputs": []
    }
  ]
}