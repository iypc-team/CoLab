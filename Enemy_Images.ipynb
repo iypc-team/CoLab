{
  "nbformat": 4,
  "nbformat_minor": 0,
  "metadata": {
    "colab": {
      "private_outputs": true,
      "provenance": [],
      "collapsed_sections": [],
      "authorship_tag": "ABX9TyPVVtyoJKoo4clqTGZXFI5V",
      "include_colab_link": true
    },
    "kernelspec": {
      "name": "python3",
      "display_name": "Python 3"
    },
    "language_info": {
      "name": "python"
    }
  },
  "cells": [
    {
      "cell_type": "markdown",
      "metadata": {
        "id": "view-in-github",
        "colab_type": "text"
      },
      "source": [
        "<a href=\"https://colab.research.google.com/github/iypc-team/CoLab/blob/master/Enemy_Images.ipynb\" target=\"_parent\"><img src=\"https://colab.research.google.com/assets/colab-badge.svg\" alt=\"Open In Colab\"/></a>"
      ]
    },
    {
      "cell_type": "code",
      "source": [
        "print('Updated: 09/21/2022')"
      ],
      "metadata": {
        "id": "xv2rKMKCwWSL"
      },
      "execution_count": null,
      "outputs": []
    },
    {
      "cell_type": "code",
      "source": [
        "# !pip install -U Pillow"
      ],
      "metadata": {
        "id": "zPs9TzfjRJw5"
      },
      "execution_count": null,
      "outputs": []
    },
    {
      "cell_type": "code",
      "source": [
        "from __future__ import absolute_import\n",
        "from IPython.display import clear_output\n",
        "import cv2, glob, os, shutil, tarfile\n",
        "from google.colab.patches import cv2_imshow as show\n",
        "import numpy as np\n",
        "\n",
        "from os.path import abspath, basename, exists, join, splitext\n",
        "os.environ['TF_CPP_MIN_LOG_LEVEL'] = '5'\n",
        "\n",
        "from google.colab import drive, files\n",
        "import numpy as np\n",
        "import matplotlib.pyplot as plt\n",
        "\n",
        "import PIL\n",
        "from PIL import Image, ImageFilter\n",
        "\n",
        "contentPath=os.getcwd()\n",
        "\n",
        "if exists('/content/sample_data'):\n",
        "    shutil.rmtree('/content/sample_data')\n",
        "\n",
        "drive.mount('/content/drive', force_remount=True)\n",
        "\n",
        "# import required modules\n",
        "if not exists('BashColors.py'):\n",
        "    shutil.copy2(src='/content/drive/MyDrive/PythonFiles/BashColors.py',\n",
        "                 dst=contentPath)\n",
        "    \n",
        "if not exists('TarfileFunctions.py'):\n",
        "    shutil.copy2(src='/content/drive/MyDrive/TarfileFunctions.py',\n",
        "                 dst=contentPath)\n",
        "\n",
        "if not exists('GetTPU.py'):\n",
        "    shutil.copy2(src='/content/drive/MyDrive/PythonFiles/GetTPU.py',\n",
        "                 dst=contentPath)\n",
        "    \n",
        "if not exists('/content/DataGenerator6.tar.gz'):\n",
        "    shutil.copy2('/content/drive/MyDrive/DataGenerator6.tar.gz',\n",
        "                 contentPath)\n",
        "    \n",
        "from BashColors import C\n",
        "from TarfileFunctions import *\n",
        "\n",
        "os.chdir(contentPath)\n",
        "tff.extractTarfiles('/content/DataGenerator6.tar.gz')\n",
        "\n",
        "# shutil.copy2(src='/content/DataGenerator/Enemy/enemy.png',\n",
        "             # dst=contentPath)\n",
        "shutil.copy2(src='/content/drive/MyDrive/TensorflowImages/Enemy/enemy_1.png',\n",
        "             dst=contentPath)\n",
        "\n",
        "rangeList=[]\n",
        "xs = (x * 22.5 for x in range(1, 359))\n",
        "for x in xs:\n",
        "    if x > 359:\n",
        "        break\n",
        "    elif x == 90 or x== 180:\n",
        "        pass\n",
        "    else:\n",
        "        # print(x)\n",
        "        rangeList.append(x)"
      ],
      "metadata": {
        "id": "0--aiJk9_7p5"
      },
      "execution_count": null,
      "outputs": []
    },
    {
      "cell_type": "code",
      "source": [
        "from PIL import Image, ImageFilter\n",
        "\n",
        "im = Image.open('/content/enemy_1.png', 'r').convert('RGB')\n",
        "print(im.format_description)\n",
        "print(f'original size : {im.size}')\n",
        "\n",
        "im = im.resize([224,224], Image.Resampling.LANCZOS) # resizes to 224x224\n",
        "zeroPixel = im.getpixel((0,0))\n",
        "print(f'zeroPixel: {zeroPixel}')\n",
        "\n",
        "im.save('enemy.png')\n",
        "\n",
        "if exists('/content/enemy_1.png'):\n",
        "    os.remove('/content/enemy_1.png')\n",
        "\n",
        "print(im.mode)\n",
        "print(im.size)\n",
        "display(im)\n",
        "im.close()"
      ],
      "metadata": {
        "id": "ZdcmcUpG5ZrF"
      },
      "execution_count": null,
      "outputs": []
    },
    {
      "cell_type": "code",
      "source": [
        "im1  = Image.new(mode = \"RGB\",\n",
        "                     size = (448,448),\n",
        "                     # color = (200, 123, 193))\n",
        "                     color = zeroPixel)\n",
        "backgroundImagePath=join(contentPath, 'background.png')\n",
        "if not exists(backgroundImagePath):\n",
        "    print(backgroundImagePath)\n",
        "    im1.save(basename(backgroundImagePath))\n",
        "im1.close()\n",
        "im = Image.open(backgroundImagePath, 'r')\n",
        "# display(im)\n",
        "im.close()"
      ],
      "metadata": {
        "id": "lgbl-ISJ1aZM"
      },
      "execution_count": null,
      "outputs": []
    },
    {
      "cell_type": "code",
      "source": [
        "def getGlobList(silent=True):\n",
        "    \"\"\" \"\"\"\n",
        "    os.chdir(contentPath)\n",
        "    globList=[]\n",
        "    globList=glob.glob('*.png')\n",
        "    print(len(globList))\n",
        "    if not silent:\n",
        "        for item in sorted(globList):\n",
        "            fullPath=abspath(item)\n",
        "            print(f'{C.BIPurple}{fullPath}{C.ColorOff}')\n",
        "\n",
        "    return globList\n",
        "\n",
        "_=getGlobList(silent=False)"
      ],
      "metadata": {
        "id": "z-qOYVKXVk1S"
      },
      "execution_count": null,
      "outputs": []
    },
    {
      "cell_type": "code",
      "source": [
        "im2=None\n",
        "def sudoScaleImages(imagePath='/content/enemy.png', save=False):\n",
        "    \"\"\" \"\"\"\n",
        "    back_im = Image.open('/content/background.png', 'r')\n",
        "    im2 = Image.open(imagePath, 'r')\n",
        "    im2 = im2.resize([224,224], Image.Resampling.LANCZOS)\n",
        "\n",
        "    imagePosition = (im1.size[0] // 4, im1.size[1] // 4)\n",
        "    back_im.paste(im2, imagePosition)\n",
        "    back_im = back_im.resize([224,224], Image.Resampling.LANCZOS)\n",
        "    display(back_im)\n",
        "\n",
        "    splt = splitext(imagePath)\n",
        "    savePath = splt[0] + 'S50' + splt[1]\n",
        "    if save and not exists(savePath):\n",
        "        print(savePath)\n",
        "        back_im.save(savePath)\n",
        "\n",
        "    im2.close()\n",
        "    back_im.close()\n",
        "\n",
        "\n",
        "    back_im = Image.open('/content/background.png', 'r')\n",
        "    im2 = Image.open(imagePath, 'r')\n",
        "    im2 = im2.resize([112,112], Image.Resampling.LANCZOS)\n",
        "\n",
        "    imagePosition = (im1.size[0] // 4 + 56, im1.size[1] // 4 + 56)\n",
        "    back_im.paste(im2, imagePosition)\n",
        "    back_im = back_im.resize([224,224], Image.Resampling.LANCZOS)\n",
        "    display(back_im)\n",
        "\n",
        "    splt = splitext(imagePath)\n",
        "    savePath = splt[0] + 'S25' + splt[1]\n",
        "    if save and not exists(savePath):\n",
        "        print(savePath)\n",
        "        back_im.save(savePath)\n",
        "        \n",
        "    im2.close()\n",
        "    back_im.close()\n",
        "\n",
        "bs=\"\"\"\n",
        "    im2 = Image.open(imagePath, 'r')\n",
        "    im2 = im2.resize([112, 112], Image.Resampling.LANCZOS) \n",
        "    # print(im2.size)\n",
        "    back_im = im1.copy()\n",
        "    imagePosition = (im1.size[0] // 4 + 56, im1.size[1] // 4 + 56)\n",
        "    print(imagePosition)\n",
        "    back_im.paste(im2, imagePosition)\n",
        "    back_im = back_im.resize([224,224], Image.Resampling.LANCZOS) \n",
        "    display(back_im)\n",
        "    print(back_im.format)\n",
        "    print(back_im.size)\n",
        "    print(back_im.mode)\n",
        "\"\"\"\n",
        "\n",
        "sudoScaleImages(save=True)"
      ],
      "metadata": {
        "id": "ut80d_D3Tqnj"
      },
      "execution_count": null,
      "outputs": []
    },
    {
      "cell_type": "code",
      "source": [
        "\n",
        "def flipImages(imagePath, save=False):\n",
        "    \"\"\" \"\"\"\n",
        "    im = Image.open(imagePath, 'r')\n",
        "    flipped = im.transpose(Image.FLIP_LEFT_RIGHT)\n",
        "    display(flipped)\n",
        "    splt = splitext(im.filename)\n",
        "    savePath = splt[0] + 'FLR' + splt[1]\n",
        "    if not exists(savePath) and save:\n",
        "        flipped.save(savePath)\n",
        "    print(basename(savePath))\n",
        "    im.close()\n",
        "    flipped.close()\n",
        "\n",
        "    im = Image.open(imagePath, 'r')\n",
        "    flipped = im.transpose(Image.FLIP_TOP_BOTTOM)\n",
        "    display(flipped)\n",
        "    splt = splitext(im.filename)\n",
        "    savePath = splt[0] + 'FTB' + splt[1]\n",
        "    if not exists(savePath) and save:\n",
        "        flipped.save(savePath)\n",
        "    print(basename(savePath))\n",
        "    im.close()\n",
        "    flipped.close()\n",
        "\n",
        "    im = Image.open(imagePath, 'r')\n",
        "    flipped = im.transpose(Image.ROTATE_90)\n",
        "    display(flipped)\n",
        "    splt = splitext(im.filename)\n",
        "    savePath = splt[0] + 'R90' + splt[1]\n",
        "    if not exists(savePath) and save:\n",
        "        flipped.save(savePath)\n",
        "    print(basename(savePath))\n",
        "    im.close()\n",
        "    flipped.close()             \n",
        "\n",
        "    im = Image.open(imagePath, 'r')\n",
        "    flipped = im.transpose(Image.ROTATE_180)\n",
        "    display(flipped)\n",
        "    splt = splitext(im.filename)\n",
        "    savePath = splt[0] + 'R180' + splt[1]\n",
        "    if not exists(savePath) and save:\n",
        "        flipped.save(savePath)\n",
        "    print(basename(savePath))\n",
        "    im.close()\n",
        "    flipped.close()\n",
        "\n",
        "    im = Image.open(imagePath, 'r')\n",
        "    flipped = im.transpose(Image.ROTATE_270)\n",
        "    display(flipped)\n",
        "    \n",
        "    splt = splitext(im.filename)\n",
        "    savePath = splt[0] + 'R270' + splt[1]\n",
        "    if not exists(savePath) and save:\n",
        "        flipped.save(savePath)\n",
        "    print(basename(savePath))\n",
        "    im.close()\n",
        "    flipped.close()\n",
        "\n",
        "    im = Image.open(imagePath, 'r')\n",
        "    flipped = im.transpose(Image.TRANSVERSE)\n",
        "    display(flipped)\n",
        "    splt = splitext(im.filename)\n",
        "    savePath = splt[0] + 'TV' + splt[1]\n",
        "    if not exists(savePath) and save:\n",
        "        flipped.save(savePath)\n",
        "    print(basename(savePath))\n",
        "    im.close()\n",
        "    flipped.close()\n",
        "flipImages(imagePath='/content/enemy.png', save=True)"
      ],
      "metadata": {
        "id": "tcqTAHFO5zwE"
      },
      "execution_count": null,
      "outputs": []
    },
    {
      "cell_type": "code",
      "source": [
        "def checkForArtifacts(pilImage):\n",
        "    \"\"\" \"\"\"\n",
        "    imcopy=pilImage.copy()\n",
        "    img_gray = imcopy.convert(\"L\")\n",
        "    edges = img_gray.filter(ImageFilter.FIND_EDGES)\n",
        "    # display(edges)\n",
        "    \n",
        "    img_gray_smooth = edges.filter(ImageFilter.SMOOTH)\n",
        "    edges_smooth = img_gray_smooth.filter(ImageFilter.FIND_EDGES)\n",
        "    display(edges_smooth)\n",
        "\n",
        "    imcopy.close()\n",
        "    img_gray.close()\n",
        "    edges.close()\n",
        "    img_gray_smooth.close()\n",
        "    edges_smooth.close()\n",
        "# checkForArtifacts(pilImage=im)"
      ],
      "metadata": {
        "id": "fauUxb_dvnKy"
      },
      "execution_count": null,
      "outputs": []
    },
    {
      "cell_type": "code",
      "source": [
        "def arbitraryRotatation(imagePath, save=False):\n",
        "    \"\"\" \"\"\"\n",
        "    im1  = Image.new(mode = \"RGB\",\n",
        "                 size = (448,448),\n",
        "                 # color=(200,150,200))\n",
        "                 color = zeroPixel)\n",
        "\n",
        "    for rot in rangeList:\n",
        "        imcopy=Image.open(imagePath, 'r')\n",
        "        # savePath\n",
        "        splt=splitext(imcopy.filename)\n",
        "        rotString = str(rot)\n",
        "        rotString=rotString.translate({ord(i): None for i in '.'})\n",
        "        # rotString.replace('.', '')\n",
        "        savePath=splt[0] + str(rotString) + splt[1]\n",
        "\n",
        "        imcopy=imcopy.resize([224,224], Image.Resampling.LANCZOS) # resizes to 224x224\n",
        "        back_im = im1.copy()\n",
        "        back_im.paste(imcopy, (112,112))\n",
        "        back_im = back_im.rotate(rot, fillcolor=zeroPixel)\n",
        "        back_im = back_im.resize([224,224], Image.Resampling.LANCZOS) # resizes to 224x224\n",
        "\n",
        "        # print(imcopy.filename)\n",
        "        display(back_im)\n",
        "        print(savePath)\n",
        "        checkForArtifacts(back_im)\n",
        "        if not exists(savePath) and save:\n",
        "            print(savePath)\n",
        "            # back_im.save(savePath)\n",
        "\n",
        "        imcopy.close()\n",
        "        back_im.close()\n",
        "        print()\n",
        "    im1.close()\n",
        "\n",
        "arbitraryRotatation(imagePath='/content/enemy.png')"
      ],
      "metadata": {
        "id": "Xr4dAcGy8G9w"
      },
      "execution_count": null,
      "outputs": []
    },
    {
      "cell_type": "markdown",
      "source": [],
      "metadata": {
        "id": "OFKzWJK4eMDk"
      }
    },
    {
      "cell_type": "code",
      "source": [
        "os.chdir(contentPath)\n",
        "globList=[]\n",
        "globList=glob.glob('*.png')\n",
        "print(len(globList))\n",
        "for item in sorted(globList):\n",
        "    fullPath=abspath(item)\n",
        "    print(f'{C.BIPurple}{fullPath}{C.ColorOff}')\n",
        "    # arbitraryRotatation(imagePath=fullPath, save=True)"
      ],
      "metadata": {
        "id": "Q1l-YA5dY5D8"
      },
      "execution_count": null,
      "outputs": []
    },
    {
      "cell_type": "code",
      "source": [
        "q"
      ],
      "metadata": {
        "id": "wmnliG-Uqehx"
      },
      "execution_count": null,
      "outputs": []
    },
    {
      "cell_type": "code",
      "source": [
        "def getImageCenter(im1, im2=None):\n",
        "    im1_center:tuple\n",
        "    im1_center=(im1.height//2, im1.width//2)\n",
        "\n",
        "    if im2 != 'None':\n",
        "        im2_center:tuple\n",
        "        im2_center=(im2.height//2, im2.width)\n",
        "\n",
        "    display(im1)\n",
        "    print(f'im1_center: {C.BIPurple}{im1_center}{C.BIWhite}')\n",
        "    display(im2)\n",
        "    print(f'im2_center: {C.BIPurple}{im2_center}{C.ColorOff}')\n",
        "# getImageCenter(im1=im1, im2=im2)"
      ],
      "metadata": {
        "id": "T2YO4oFciHp5"
      },
      "execution_count": null,
      "outputs": []
    },
    {
      "cell_type": "code",
      "source": [
        "\n",
        "width = 224 * 2\n",
        "height = 224 * 2\n",
        "\n",
        "im1  = Image.new(mode = \"RGB\",\n",
        "                 size = (width, height),\n",
        "                 # color = (200, 123, 193))\n",
        "                 color = zeroPixel)\n",
        "im.save('background.png')\n",
        "\n",
        "im2 = Image.open('/content/enemy.png', 'r')\n",
        "print(im2)\n",
        "im2 = im2.resize([112,112], Image.Resampling.LANCZOS) # resizes to 224x224\n",
        "# getImageCenter(im1=im1, im2=im2)\n",
        "\n",
        "back_im = im1.copy()\n",
        "back_im.paste(im2, (224,224))\n",
        "back_im = back_im.resize([224,224], Image.Resampling.LANCZOS) # resizes to 224x224\n",
        "\n",
        "display(back_im)\n",
        "print(back_im.format)\n",
        "print(back_im.size)\n",
        "print(back_im.mode)\n",
        "\n",
        "checkForArtifacts(back_im)\n",
        "# back_im.save('data/dst/rocket_pillow_paste_out.jpg', quality=95)"
      ],
      "metadata": {
        "id": "-YbuZDl7Z4Oo"
      },
      "execution_count": null,
      "outputs": []
    },
    {
      "cell_type": "code",
      "source": [
        "dir(im2)"
      ],
      "metadata": {
        "id": "QssisoOWuy3n"
      },
      "execution_count": null,
      "outputs": []
    },
    {
      "cell_type": "code",
      "source": [
        "im = Image.open('/content/enemy_1.png', 'r')\n",
        "print(im.filename)\n",
        "display(im)\n",
        "flipped = im.transpose(Image.FLIP_LEFT_RIGHT)\n",
        "display(flipped)\n",
        "im.close()\n",
        "flipped.close()\n",
        "\n",
        "im = Image.open('/content/enemy_1.png', 'r')\n",
        "flipped = im.transpose(Image.FLIP_TOP_BOTTOM)\n",
        "display(flipped)\n",
        "im.close()\n",
        "flipped.close()\n",
        "\n",
        "im = Image.open('/content/enemy_1.png', 'r')\n",
        "flipped = im.transpose(Image.ROTATE_90)\n",
        "display(flipped)\n",
        "im.close()\n",
        "flipped.close()             \n",
        "\n",
        "im = Image.open('/content/enemy_1.png', 'r')\n",
        "flipped = im.transpose(Image.ROTATE_180)\n",
        "display(flipped)\n",
        "im.close()\n",
        "flipped.close()\n",
        "\n",
        "im = Image.open('/content/enemy_1.png', 'r')\n",
        "flipped = im.transpose(Image.ROTATE_270)\n",
        "display(flipped)\n",
        "im.close()\n",
        "flipped.close()\n",
        "\n",
        "im = Image.open('/content/enemy_1.png', 'r')\n",
        "flipped = im.transpose(Image.TRANSVERSE)\n",
        "display(flipped)\n",
        "im.close()\n",
        "flipped.close()"
      ],
      "metadata": {
        "id": "Hp_R_5fwkjAD"
      },
      "execution_count": null,
      "outputs": []
    },
    {
      "cell_type": "code",
      "source": [
        "q"
      ],
      "metadata": {
        "id": "P2sofE11VUlQ"
      },
      "execution_count": null,
      "outputs": []
    },
    {
      "cell_type": "code",
      "source": [
        "pth='/content/enemy_1_resized.png'\n",
        "with Image.open(pth) as im:\n",
        "    display(im)\n",
        "    print(im.info)\n",
        "    print(im.size)\n",
        "    transposed=im.transpose(\n",
        "        method=Image.Transpose.FLIP_LEFT_RIGHT)\n",
        "    display(transposed)"
      ],
      "metadata": {
        "id": "iDjxzaYRl0tT"
      },
      "execution_count": null,
      "outputs": []
    },
    {
      "cell_type": "code",
      "source": [
        "with Image.open(\"/content/enemy_1.png\") as im:\n",
        "    display(im)\n",
        "    # Flip the image from left to right\n",
        "    im_flipped = im.transpose.Image.FLIP_LEFT_RIGHT\n",
        "    # To flip the image from top to bottom,\n",
        "    # use the method \"Image.Transpose.FLIP_TOP_BOTTOM\""
      ],
      "metadata": {
        "id": "jQ91jpjSaf8f"
      },
      "execution_count": null,
      "outputs": []
    },
    {
      "cell_type": "code",
      "source": [
        "pth='/content/drive/MyDrive/TensorflowImages/Enemy/enemy_1.png'\n",
        "img=cv2.imread(pth).astype(np.float32)\n",
        "# img=img.astype(np.float32)\n",
        "print(basename(pth))\n",
        "print(img.dtype)\n",
        "print(img.shape)\n",
        "# show(img)\n",
        "\n",
        "print('Original Dimensions : ',img.shape)\n",
        "\n",
        "xscale_percent = 42\n",
        "width = int(img.shape[1] * xscale_percent // 100)\n",
        "height = int(img.shape[0] * xscale_percent // 100)\n",
        "\n",
        "dim = (width, height)\n",
        "resized = cv2.resize(img, dim, interpolation = cv2.INTER_AREA)\n",
        "\n",
        "print('Resized Dimentions:', resized.shape)\n",
        "\n",
        "show(resized)\n",
        "\n",
        "cv2.waitKey(1000)\n",
        "\n",
        "cv2.destroyAllWindows()"
      ],
      "metadata": {
        "id": "x9mkrIelZ-Er"
      },
      "execution_count": null,
      "outputs": []
    },
    {
      "cell_type": "code",
      "source": [
        "import numpy as np\n",
        "import cv2\n",
        "\n",
        "def rotate_image(image, angle):\n",
        "    \"\"\" \"\"\"\n",
        "    image_center = tuple(np.array(image.shape[1::-1]) / 2)\n",
        "    rot_mat = cv2.getRotationMatrix2D(image_center, angle, 1.0)\n",
        "    result = cv2.warpAffine(image, rot_mat, image.shape[1::-1], flags=cv2.INTER_LINEAR)\n",
        "    return result"
      ],
      "metadata": {
        "id": "sVfJBuLtNtDL"
      },
      "execution_count": null,
      "outputs": []
    },
    {
      "cell_type": "code",
      "source": [
        "def squareImage(imagePath:str='/content/enemy_1.png'):\n",
        "    \"\"\" \"\"\"\n",
        "    img=cv2.imread(imagePath).astype(np.float32)\n",
        "    \n",
        "    height=img.shape[0]\n",
        "    width=img.shape[1]\n",
        "    # print(f'height: {height}\\nwidth: {width} ')\n",
        "    print(f'img: {img.shape}')\n",
        "\n",
        "    if height<width:\n",
        "        blank_image = np.zeros((width,width,3), np.float32)\n",
        "        blank_image[:,0:width] = (64.,64.,64.) # (B, G, R)\n",
        "        print(f'blank: {blank_image.shape}')\n",
        "        # add or blend the images\n",
        "        newImage = np.concatenate((blank_image, img), axis=0)\n",
        "\n",
        "        newImage = cv2.resize(newImage, (224,224), interpolation=cv2.INTER_AREA)\n",
        "        show(newImage)\n",
        "        print(newImage.shape)\n",
        "\n",
        "    cv2.destroyAllWindows()\n",
        "    return img\n",
        "_=squareImage()"
      ],
      "metadata": {
        "id": "XRQ6Ace9t0zY"
      },
      "execution_count": null,
      "outputs": []
    },
    {
      "cell_type": "code",
      "source": [
        "def saveImage(basePath, imageName, thisImage, saveImage:bool):\n",
        "    \"\"\" \"\"\"\n",
        "    imageName = '/' + imageName\n",
        "    if not imageName.endswith('.png'):\n",
        "        imageName = imageName + '.png'\n",
        "    print(imageName)\n",
        "    savePath = basePath + imageName\n",
        "    if not exists(savePath):\n",
        "        # cv2.imwrite(savePath, thisImage)\n",
        "        print(f'saved to: {C.BGreen}{savePath}{C.ColorOff}')\n",
        "        if saveImage:\n",
        "            cv2.imwrite(savePath, thisImage)"
      ],
      "metadata": {
        "id": "CmFSlj47GhjM"
      },
      "execution_count": null,
      "outputs": []
    },
    {
      "cell_type": "code",
      "source": [
        "def clearEnemyDirectory():\n",
        "    enemyPath='/content/DataGenerator/Enemy'\n",
        "    os.chdir(enemyPath)\n",
        "    globList=glob.glob('*.png')\n",
        "    print(len(globList), 'files') # 360 original files\n",
        "    for item in globList:\n",
        "        removePath=os.path.abspath(item)\n",
        "        if exists(removePath):\n",
        "            os.remove(removePath)\n",
        "    os.chdir(contentPath)\n",
        "clearEnemyDirectory()"
      ],
      "metadata": {
        "id": "T6GY61hx_9CU"
      },
      "execution_count": null,
      "outputs": []
    },
    {
      "cell_type": "code",
      "source": [
        "help(saveImage)"
      ],
      "metadata": {
        "id": "KE_C8KMzz2dF"
      },
      "execution_count": null,
      "outputs": []
    },
    {
      "cell_type": "code",
      "source": [
        "from google.colab.patches import cv2_imshow\n",
        "from os.path import abspath, basename\n",
        "from time import sleep\n",
        "os.chdir(contentPath)\n",
        "\n",
        "enemyPath='/content/DataGenerator/Enemy'\n",
        "fullPath='/content/enemy.png'\n",
        "if os.path.isfile(fullPath) and fullPath.endswith('.png'):\n",
        "    # print(fullPath)\n",
        "    # print(basename(fullPath))\n",
        "\n",
        "    img=cv2.imread(fullPath, cv2.IMREAD_COLOR)\n",
        "    img=np.copy(img).astype(np.float32)\n",
        "\n",
        "    imgR90=rotate_image(img, 90)\n",
        "    imgR180=rotate_image(img, 180)\n",
        "    imgR270=rotate_image(img, 270)\n",
        "\n",
        "    cv2_imshow(img)\n",
        "    saveImage(basePath=enemyPath, imageName=basename(fullPath),\n",
        "              thisImage=img, saveImage=True)\n",
        "    print(basename(fullPath))\n",
        "    cv2_imshow(imgR90)\n",
        "    saveImage(basePath=enemyPath, imageName='enemyR90',\n",
        "              thisImage=imgR90, saveImage=True)\n",
        "    print(basename(fullPath))\n",
        "    cv2_imshow(imgR180)\n",
        "    saveImage(basePath=enemyPath, imageName='enemyR180',\n",
        "              thisImage=imgR180, saveImage=True)\n",
        "    cv2_imshow(imgR270)\n",
        "    print(basename(fullPath))\n",
        "    saveImage(basePath=enemyPath, imageName='enemyR270',\n",
        "              thisImage=imgR270, saveImage=True)\n",
        "\n",
        "    img=None\n",
        "    imgR90=None\n",
        "    imgR180=None\n",
        "    imgR270=None\n",
        "    sleep(0.1)\n",
        "    print()\n",
        "    sleep(0.1)\n",
        "\n",
        "os.chdir(contentPath)\n",
        "# clear_output()"
      ],
      "metadata": {
        "id": "l3A1QkqhnZrn"
      },
      "execution_count": null,
      "outputs": []
    },
    {
      "cell_type": "code",
      "source": [
        "def getEnemyGlob():\n",
        "    os.chdir('/content/DataGenerator/Enemy')\n",
        "    enemyGlob=glob.glob('**')\n",
        "    print(len(enemyGlob))\n",
        "    os.chdir(contentPath)\n",
        "    return enemyGlob\n",
        "enemyGlob=getEnemyGlob()"
      ],
      "metadata": {
        "id": "wpULUGUPmd73"
      },
      "execution_count": null,
      "outputs": []
    },
    {
      "cell_type": "code",
      "source": [
        "img = cv2.imread('/content/enemy.png').astype(np.float32)\n",
        "img = np.copy(img)\n",
        "flipVertical = cv2.flip(img, 0)\n",
        "flipHorizontal = cv2.flip(img, 1)\n",
        "# flipBoth = cv2.flip(img, -1)\n",
        " \n",
        "show(img)\n",
        "print(img.dtype, img.shape)\n",
        "# show(flipVertical)\n",
        "# show(flipHorizontal)\n",
        "# show(flipBoth)\n",
        " \n",
        " \n",
        "cv2.waitKey(0)\n",
        "cv2.destroyAllWindows()"
      ],
      "metadata": {
        "id": "4Tb674t9QVJv"
      },
      "execution_count": null,
      "outputs": []
    },
    {
      "cell_type": "code",
      "source": [
        "q"
      ],
      "metadata": {
        "id": "LHlnIotrVq32"
      },
      "execution_count": null,
      "outputs": []
    },
    {
      "cell_type": "code",
      "source": [
        "for item in enemyGlob:\n",
        "    fullPath=abspath(item)\n",
        "    print(fullPath)\n",
        "    \n",
        "    img = cv2.imread(fullPath)\n",
        "    img = np.copy(img)\n",
        "\n",
        "    imgFlipH = cv2.flip(img, 0)\n",
        "    # cv2_imshow(imgFlipH)\n",
        "    splt = str.split(basename(fullPath), '.')\n",
        "    name = splt[0] + 'FH'\n",
        "    saveImage(basePath=enemyPath, imageName=name,\n",
        "              thisImage=imgFlipH, saveImage=True)\n",
        "\n",
        "    imgFlipV = cv2.flip(img, 1)\n",
        "    name = splt[0] + 'FV'\n",
        "    print(name)\n",
        "    saveImage(basePath=enemyPath, imageName=name,\n",
        "              thisImage=imgFlipV, saveImage=True)\n",
        "    # cv2_imshow(imgFlipV)\n",
        "\n",
        "    imgFlipB = cv2.flip(img, -1)\n",
        "    name = splt[0] + 'FB'\n",
        "    saveImage(basePath=enemyPath, imageName=name,\n",
        "              thisImage=imgFlipB, saveImage=True)\n",
        "    # cv2_imshow(imgFlipB)\n",
        "\n",
        "    # print(img.shape)\n",
        "    print()\n",
        "\n",
        "    #\n",
        "\n",
        "os.chdir(contentPath)"
      ],
      "metadata": {
        "id": "uQn7wyeMMc8e"
      },
      "execution_count": null,
      "outputs": []
    },
    {
      "cell_type": "code",
      "source": [
        "sorted(getEnemyGlob())"
      ],
      "metadata": {
        "id": "kCX6nnNirdhJ"
      },
      "execution_count": null,
      "outputs": []
    },
    {
      "cell_type": "code",
      "source": [
        "tff.tarfileFromDirectory(\n",
        "    output_filename='DataGenerator6.tar.gz',\n",
        "    source_dir='/content/DataGenerator')"
      ],
      "metadata": {
        "id": "DI__kAXc_CHm"
      },
      "execution_count": null,
      "outputs": []
    },
    {
      "cell_type": "code",
      "source": [
        "tff.inspectTarfile('DataGenerator6.tar.gz')\n",
        "\n",
        "\n"
      ],
      "metadata": {
        "id": "W_9S3BYCK4o8"
      },
      "execution_count": null,
      "outputs": []
    },
    {
      "cell_type": "code",
      "source": [
        "source='/content/DataGenerator6.tar.gz'\n",
        "destination='/content/drive/MyDrive'\n",
        "print()\n",
        "shutil.copy2(src='/content/DataGenerator6.tar.gz',\n",
        "             dst='/content/drive/MyDrive')"
      ],
      "metadata": {
        "id": "2SvbzfpkAoDe"
      },
      "execution_count": null,
      "outputs": []
    }
  ]
}