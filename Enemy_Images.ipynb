{
  "nbformat": 4,
  "nbformat_minor": 0,
  "metadata": {
    "colab": {
      "private_outputs": true,
      "provenance": [],
      "collapsed_sections": [],
      "authorship_tag": "ABX9TyMl0848EqGP8E0c2ruaJC3+",
      "include_colab_link": true
    },
    "kernelspec": {
      "name": "python3",
      "display_name": "Python 3"
    },
    "language_info": {
      "name": "python"
    }
  },
  "cells": [
    {
      "cell_type": "markdown",
      "metadata": {
        "id": "view-in-github",
        "colab_type": "text"
      },
      "source": [
        "<a href=\"https://colab.research.google.com/github/iypc-team/CoLab/blob/master/Enemy_Images.ipynb\" target=\"_parent\"><img src=\"https://colab.research.google.com/assets/colab-badge.svg\" alt=\"Open In Colab\"/></a>"
      ]
    },
    {
      "cell_type": "code",
      "source": [
        "print('Updated: 09/15/2022')"
      ],
      "metadata": {
        "id": "xv2rKMKCwWSL"
      },
      "execution_count": null,
      "outputs": []
    },
    {
      "cell_type": "code",
      "source": [
        "from __future__ import absolute_import\n",
        "import cv2, glob, os, shutil, tarfile \n",
        "from os.path import exists, join\n",
        "os.environ['TF_CPP_MIN_LOG_LEVEL'] = '1'\n",
        "\n",
        "from google.colab import drive, files\n",
        "import numpy as np\n",
        "import matplotlib.pyplot as plt\n",
        "\n",
        "contentPath=os.getcwd()\n",
        "\n",
        "if exists('/content/sample_data'):\n",
        "    shutil.rmtree('/content/sample_data')\n",
        "\n",
        "drive.mount('/content/drive', force_remount=True)\n",
        "\n",
        "# import required modules\n",
        "if not exists('BashColors.py'):\n",
        "    shutil.copy2(src='/content/drive/MyDrive/PythonFiles/BashColors.py',\n",
        "                 dst=contentPath)\n",
        "    \n",
        "if not exists('TarfileFunctions.py'):\n",
        "    shutil.copy2(src='/content/drive/MyDrive/TarfileFunctions.py',\n",
        "                 dst=contentPath)\n",
        "\n",
        "if not exists('GetTPU.py'):\n",
        "    shutil.copy2(src='/content/drive/MyDrive/PythonFiles/GetTPU.py',\n",
        "                 dst=contentPath)\n",
        "    \n",
        "if not exists('/content/DataGenerator5.tar.gz'):\n",
        "    shutil.copy2('/content/drive/MyDrive/DataGenerator5.tar.gz',\n",
        "                 contentPath)\n",
        "    \n",
        "from BashColors import C\n",
        "from TarfileFunctions import *\n",
        "\n",
        "# tff.listTarfiles()\n",
        "tff.extractTarfiles('/content/DataGenerator5.tar.gz')\n",
        "\n",
        "enemyPath='/content/DataGenerator/Enemy'\n",
        "os.chdir(enemyPath)\n",
        "globList=glob.glob('*.png')\n",
        "print(len(globList))\n",
        "for item in globList:\n",
        "    removePath=os.path.abspath(item)\n",
        "    if exists(removePath):\n",
        "        print(removePath)\n",
        "        os.remove(removePath)\n",
        "\n",
        "os.chdir(contentPath)"
      ],
      "metadata": {
        "id": "IVY0-6KHm7tl"
      },
      "execution_count": null,
      "outputs": []
    },
    {
      "cell_type": "code",
      "source": [
        "import numpy as np\n",
        "import cv2\n",
        "\n",
        "def rotate_image(image, angle):\n",
        "  image_center = tuple(np.array(image.shape[1::-1]) / 2)\n",
        "  rot_mat = cv2.getRotationMatrix2D(image_center, angle, 1.0)\n",
        "  result = cv2.warpAffine(image, rot_mat, image.shape[1::-1], flags=cv2.INTER_LINEAR)\n",
        "  return result"
      ],
      "metadata": {
        "id": "4ckEedg-0iYw"
      },
      "execution_count": null,
      "outputs": []
    },
    {
      "cell_type": "code",
      "source": [
        "from google.colab.patches import cv2_imshow\n",
        "from os.path import abspath, basename\n",
        "from time import sleep\n",
        "os.chdir(contentPath)\n",
        "# dataGlob=glob.glob('**', recursive=False)\n",
        "# count=0\n",
        "\n",
        "fullPath='/content/enemy.png'\n",
        "if os.path.isfile(fullPath)and fullPath.endswith('.png'):\n",
        "    print(fullPath)\n",
        "    print(basename(fullPath))\n",
        "    img=cv2.imread(fullPath, cv2.IMREAD_COLOR)\n",
        "\n",
        "    img=np.copy(img)\n",
        "    print(img.shape)\n",
        "    imgR90=rotate_image(img, 90)\n",
        "    cv2.imwrite('/content/enemyR90.png', imgR90)\n",
        "\n",
        "    imgR180=rotate_image(img, 180)\n",
        "    cv2.imwrite('/content/enemyR180.png', imgR180)\n",
        "\n",
        "    imgR270=rotate_image(img, 270)\n",
        "    cv2.imwrite('/content/enemyR270.png', imgR270)\n",
        "\n",
        "\n",
        "    cv2_imshow(img)\n",
        "    cv2_imshow(imgR90)\n",
        "    cv2_imshow(imgR180)\n",
        "    cv2_imshow(imgR270)\n",
        "\n",
        "    img=None\n",
        "    imgR90=None\n",
        "    imgR180=None\n",
        "    print()\n",
        "os.chdir(contentPath)"
      ],
      "metadata": {
        "id": "l3A1QkqhnZrn"
      },
      "execution_count": null,
      "outputs": []
    },
    {
      "cell_type": "code",
      "source": [],
      "metadata": {
        "id": "KE_C8KMzz2dF"
      },
      "execution_count": null,
      "outputs": []
    }
  ]
}