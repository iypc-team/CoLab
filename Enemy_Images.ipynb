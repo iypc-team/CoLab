{
  "nbformat": 4,
  "nbformat_minor": 0,
  "metadata": {
    "colab": {
      "private_outputs": true,
      "provenance": [],
      "authorship_tag": "ABX9TyPbBn1sQpGEQ6f+hopzxi0m",
      "include_colab_link": true
    },
    "kernelspec": {
      "name": "python3",
      "display_name": "Python 3"
    },
    "language_info": {
      "name": "python"
    },
    "gpuClass": "standard"
  },
  "cells": [
    {
      "cell_type": "markdown",
      "metadata": {
        "id": "view-in-github",
        "colab_type": "text"
      },
      "source": [
        "<a href=\"https://colab.research.google.com/github/iypc-team/CoLab/blob/master/Enemy_Images.ipynb\" target=\"_parent\"><img src=\"https://colab.research.google.com/assets/colab-badge.svg\" alt=\"Open In Colab\"/></a>"
      ]
    },
    {
      "cell_type": "code",
      "source": [
        "import shutil\n",
        "try: shutil.rmtree(('/content/sample_data'))\n",
        "except: pass\n",
        "print('Updated: 11/17/2022-1')"
      ],
      "metadata": {
        "id": "xv2rKMKCwWSL"
      },
      "execution_count": null,
      "outputs": []
    },
    {
      "cell_type": "code",
      "source": [],
      "metadata": {
        "id": "qtUJbZ6_t_x8"
      },
      "execution_count": null,
      "outputs": []
    },
    {
      "cell_type": "code",
      "source": [
        "from __future__ import absolute_import\n",
        "from IPython.display import clear_output\n",
        "import cv2, glob, os, shutil, tarfile\n",
        "from google.colab.patches import cv2_imshow as show\n",
        "import numpy as np\n",
        "\n",
        "from os.path import abspath, basename, exists, join, splitext\n",
        "os.environ['TF_CPP_MIN_LOG_LEVEL'] = '5'\n",
        "\n",
        "from google.colab import drive, files\n",
        "import numpy as np\n",
        "import matplotlib.pyplot as plt\n",
        "\n",
        "contentPath=os.getcwd()\n",
        "baseEnemySavePath='/content/DataGenerator/Enemy'\n",
        "\n",
        "if exists('/content/sample_data'):\n",
        "    shutil.rmtree('/content/sample_data')\n",
        "\n",
        "# clearContentPath()\n",
        "# clearDataGeneratorEnemyDirectory()\n",
        "\n",
        "drive.mount('/content/drive', force_remount=True)\n",
        "\n",
        "# import required modules\n",
        "if not exists('BashColors.py'):\n",
        "    shutil.copy2(src='/content/drive/MyDrive/PythonFiles/BashColors.py',\n",
        "                 dst=contentPath)\n",
        "    \n",
        "if not exists('TarfileFunctions.py'):\n",
        "    shutil.copy2(src='/content/drive/MyDrive/TarfileFunctions.py',\n",
        "                 dst=contentPath)\n",
        "\n",
        "if not exists('GetTPU.py'):\n",
        "    shutil.copy2(src='/content/drive/MyDrive/PythonFiles/GetTPU.py',\n",
        "                 dst=contentPath)\n",
        "    \n",
        "if not exists('/content/DataGenerator7.tar.gz'):\n",
        "    shutil.copy2('/content/drive/MyDrive/DataGenerator7.tar.gz',\n",
        "                 contentPath)\n",
        "    \n",
        "if not exists('/content/enemy_1.png'):\n",
        "    shutil.copy2(\n",
        "        src='/content/drive/MyDrive/TensorflowImages/Enemy/enemy_1.png'\n",
        "        ,dst=contentPath)\n",
        "    \n",
        "from BashColors import C\n",
        "from TarfileFunctions import *\n",
        "    \n",
        "if not exists('/content/DataGenerator'):\n",
        "    os.chdir(contentPath)\n",
        "    tff.extractTarfiles('/content/DataGenerator7.tar.gz')\n",
        "    \n",
        "imagePath='/content/drive/MyDrive/TensorflowImages/Enemy/enemy_1.png'\n",
        "img=cv2.imread(imagePath).astype(np.float32)\n",
        "savePath='/content/drive/MyDrive/TensorflowImages/Enemy/enemyCv2FP32.png'\n",
        "# print(imagePath)\n",
        "print(savePath)\n",
        "cv2.imwrite(savePath, img)\n",
        "cv2.destroyAllWindows()\n",
        "\n",
        "rangeList=[]\n",
        "xs = (x * 5.625 for x in range(1, 359))\n",
        "for x in xs:\n",
        "    if x > 359:\n",
        "        break\n",
        "    elif x == 90 or x== 180:\n",
        "        pass\n",
        "    else:\n",
        "        # print(x)\n",
        "        rangeList.append(x)\n",
        "\n",
        "def checkPackageVersion():\n",
        "    \"\"\"checks Pillow package version \"\"\"\n",
        "    # https://gist.github.com/parente/b6ee0efe141822dfa18b6feeda0a45e5\n",
        "    pkg=!pip show Pillow\n",
        "    version=pkg[1]\n",
        "    if version != 'Version: 9.2.0':\n",
        "        !pip install -U Pillow\n",
        "    else: print(f'Pillow {C.BIBlue}{version}{C.ColorOff}')\n",
        "    # print(type(pkg))\n",
        "    # print(pkg)\n",
        "    # print(pkg.nlstr)\n",
        "    # print(pkg.spstr)\n",
        "\n",
        "checkPackageVersion()\n",
        "\n",
        "import PIL\n",
        "from PIL import Image, ImageFilter\n",
        "im1  = Image.new(mode = \"RGB\", size=(448,448), color=(64,64,64))"
      ],
      "metadata": {
        "id": "4QgoaGRefpva"
      },
      "execution_count": null,
      "outputs": []
    },
    {
      "cell_type": "code",
      "source": [
        "def getConcatHoriz(im1, im2):\n",
        "    \"\"\" \"\"\"\n",
        "    dst = Image.new('RGB', (im1.width + im2.width, min(im1.height, im2.height)))\n",
        "    dst.paste(im1, (0, 0))\n",
        "    dst.paste(im2, (im1.width, 0))\n",
        "    # display(dst)\n",
        "    return dst\n",
        "\n",
        "def getConcatVert(im1, im2):\n",
        "    \"\"\" \"\"\"\n",
        "    dst = Image.new('RGB', (min(im1.width, im2.width), im1.height + im2.height))\n",
        "    dst.paste(im1, (0, 0))\n",
        "    dst.paste(im2, (0, im1.height))\n",
        "    # display(dst)\n",
        "    return dst\n"
      ],
      "metadata": {
        "id": "NS69_M7quX3l"
      },
      "execution_count": null,
      "outputs": []
    },
    {
      "cell_type": "code",
      "source": [
        "def checkForArtifacts(pilImage, displayOrientation:str):\n",
        "    \"\"\"\\ndisplayOrientation:str = H or V\"\"\"\n",
        "    # displayOrientation=displayOrientation.upper()\n",
        "    try: imcopy=pilImage.copy()\n",
        "    except Exception as err:\n",
        "        print(err)\n",
        "        imcopy = Image.open(pilImage, 'r').convert('RGB')\n",
        "\n",
        "    img_gray = imcopy.convert(\"L\")\n",
        "    edges = img_gray.filter(ImageFilter.FIND_EDGES)\n",
        "    \n",
        "    img_gray_smooth = edges.filter(ImageFilter.SMOOTH)\n",
        "    edges_smooth = img_gray_smooth.filter(ImageFilter.FIND_EDGES)\n",
        "    # display(edges_smooth)\n",
        "\n",
        "    if displayOrientation.__contains__('H'):\n",
        "        concatImgH=getConcatHoriz(im1=imcopy, im2=edges_smooth)\n",
        "        display(concatImgH)\n",
        "\n",
        "    if displayOrientation.__contains__('V'):\n",
        "        concatImgV=getConcatVert(im1=imcopy, im2=edges_smooth)\n",
        "        display(concatImgV)\n",
        "\n",
        "    imcopy.close()\n",
        "    img_gray.close()\n",
        "    edges.close()\n",
        "\n",
        "    img_gray_smooth.close()\n",
        "    edges_smooth.close()"
      ],
      "metadata": {
        "id": "nEJMSUcOujoF"
      },
      "execution_count": null,
      "outputs": []
    },
    {
      "cell_type": "code",
      "source": [
        "def clearDataGeneratorEnemyDirectory():\n",
        "    \"\"\"clears content/DataGenerator/Enemy directory\"\"\"\n",
        "    os.chdir('/content/DataGenerator/Enemy')\n",
        "    enemyGlob=glob.glob('**')\n",
        "    \n",
        "    for fil in enemyGlob:\n",
        "        fullPath=abspath(fil)\n",
        "        print(fullPath)\n",
        "        if exists(fullPath)and not fullPath.__contains__('/content/enemy.png'):\n",
        "            os.remove(fullPath)\n",
        "\n",
        "    os.chdir(contentPath)\n",
        "    \n",
        "# clearDataGeneratorEnemyDirectory()"
      ],
      "metadata": {
        "id": "DqfeVkaGj0nB"
      },
      "execution_count": null,
      "outputs": []
    },
    {
      "cell_type": "code",
      "source": [
        "def clearContentPath():\n",
        "    \"\"\"remove all images from /content path \"\"\"\n",
        "    os.chdir('/content')\n",
        "    contentList=glob.glob('*.png')\n",
        "    \n",
        "    for fil in contentList:\n",
        "        fullPath=abspath(fil)\n",
        "        print(fullPath)\n",
        "        os.remove(fullPath)\n",
        "\n",
        "# clearContentPath()"
      ],
      "metadata": {
        "id": "N1bWy7sxhIwL"
      },
      "execution_count": null,
      "outputs": []
    },
    {
      "cell_type": "code",
      "source": [
        "def getContentGlobList(silent=True):\n",
        "    \"\"\" \"\"\"\n",
        "    os.chdir(contentPath)\n",
        "    globList=[]\n",
        "    globList=glob.glob('*.png')\n",
        "    if not silent:\n",
        "        for item in sorted(globList):\n",
        "            fullPath=abspath(item)\n",
        "            print(f'{C.BIPurple}{fullPath}{C.ColorOff}')\n",
        "\n",
        "    return sorted(globList)\n",
        "\n",
        "# _=getContentGlobList(silent=False)"
      ],
      "metadata": {
        "id": "z-qOYVKXVk1S"
      },
      "execution_count": null,
      "outputs": []
    },
    {
      "cell_type": "code",
      "source": [
        "def getEnemyPathGlob(silent=True):\n",
        "    \"\"\"returns list of /content/DataGenerator/Enemy directory\"\"\"\n",
        "    count=0\n",
        "    os.chdir('/content/DataGenerator/Enemy')\n",
        "    enemyPathGlob=glob.glob('*.png')\n",
        "    enemyPathGlob=sorted(enemyPathGlob)\n",
        "    if not silent:\n",
        "        for pth in enemyPathGlob:\n",
        "            fullPath=abspath(pth)\n",
        "            count+=1\n",
        "            print(f'{count}: {C.BIPurple}{fullPath}{C.ColorOff}')\n",
        "\n",
        "    os.chdir(contentPath)\n",
        "    return enemyPathGlob\n",
        "\n",
        "# getEnemyPathGlob()"
      ],
      "metadata": {
        "id": "_nVYebnyzwUZ"
      },
      "execution_count": null,
      "outputs": []
    },
    {
      "cell_type": "code",
      "source": [
        "from PIL import Image\n",
        "def createNewImage(imageSize:tuple, colorTuple:tuple,\n",
        "                   imageName='background.png', silent=True):\n",
        "    \"\"\" \"\"\"\n",
        "    zeroPixel=colorTuple\n",
        "    im1  = Image.new(mode = \"RGB\",\n",
        "                     size = imageSize,\n",
        "                     # color = (200, 123, 193))\n",
        "                     color = colorTuple)\n",
        "    if not silent:\n",
        "        display(im1)\n",
        "    backgroundImagePath=join(contentPath, imageName)\n",
        "    \n",
        "    if not exists(backgroundImagePath):\n",
        "        print(backgroundImagePath)\n",
        "        im1.save(imageName)\n",
        "    return im1\n",
        "createNewImage(imageSize=(448,448), colorTuple=(64,64,64))"
      ],
      "metadata": {
        "id": "lgbl-ISJ1aZM"
      },
      "execution_count": null,
      "outputs": []
    },
    {
      "cell_type": "code",
      "source": [
        "def sudoScaleImages(imagePath='/content/enemy_1.png', save=False):\n",
        "    \"\"\" \"\"\"\n",
        "    # backgroundImage = Image.open(backgroundImagePath, 'r')\n",
        "    backgroundImage = Image.new(mode = \"RGB\", size = (448,448), color = zeroPixel)\n",
        "\n",
        "    im2 = Image.open(imagePath, 'r')\n",
        "    im2 = im2.resize((336,336), Image.Resampling.LANCZOS)\n",
        "\n",
        "    imagePosition = (\n",
        "        backgroundImage.size[0] // 4 - 56, backgroundImage.size[1] // 4 - 56)\n",
        "    backgroundImage.paste(im2, imagePosition)\n",
        "    backgroundImage = backgroundImage.resize((224,224), Image.Resampling.LANCZOS)\n",
        "    display(backgroundImage)\n",
        "\n",
        "    splt = splitext(imagePath)\n",
        "    savePath = splt[0] + 'S75' + splt[1]\n",
        "    print(savePath)\n",
        "    if save and not exists(savePath):\n",
        "        # print(savePath)\n",
        "        backgroundImage.save(savePath)\n",
        "        shutil.copy2(src=savePath, dst='/content/DataGenerator/Enemy')\n",
        "\n",
        "    im2.close()\n",
        "    # backgroundImage.close()\n",
        "\n",
        "\n",
        "    backgroundImage = Image.open('/content/background.png', 'r')\n",
        "    im2 = Image.open(imagePath, 'r')\n",
        "    im2 = im2.resize((224,224), Image.Resampling.LANCZOS)\n",
        "\n",
        "    imagePosition = (backgroundImage.size[0] // 4, backgroundImage.size[1] // 4)\n",
        "    backgroundImage.paste(im2, imagePosition)\n",
        "    backgroundImage = backgroundImage.resize((224,224), Image.Resampling.LANCZOS)\n",
        "    display(backgroundImage)\n",
        "\n",
        "    splt = splitext(imagePath)\n",
        "    savePath = splt[0] + 'S50' + splt[1]\n",
        "    print(savePath)\n",
        "    if save and not exists(savePath):\n",
        "        # print(savePath)\n",
        "        backgroundImage.save(savePath)\n",
        "        shutil.copy2(src=savePath, dst='/content/DataGenerator/Enemy')\n",
        "\n",
        "    im2.close()\n",
        "    # backgroundImage.close()\n",
        "\n",
        "    backgroundImage = Image.open('/content/background.png', 'r')\n",
        "    im2 = Image.open(imagePath, 'r')\n",
        "    im2 = im2.resize((112,112) , Image.Resampling.LANCZOS)\n",
        "\n",
        "    imagePosition = (backgroundImage.size[0] // 4 + 56, backgroundImage.size[1] // 4 + 56)\n",
        "    backgroundImage.paste(im2, imagePosition)\n",
        "    backgroundImage = backgroundImage.resize((224,224), Image.Resampling.LANCZOS)\n",
        "    display(backgroundImage)\n",
        "\n",
        "    splt = splitext(imagePath)\n",
        "    savePath = splt[0] + 'S25' + splt[1]\n",
        "    print(savePath)\n",
        "    if save and not exists(savePath):\n",
        "        # print(savePath)\n",
        "        backgroundImage.save(savePath)\n",
        "        shutil.copy2(src=savePath, dst='/content/DataGenerator/Enemy')\n",
        "        \n",
        "    im2.close()\n",
        "    # backgroundImage.close()\n",
        "\n",
        "# sudoScaleImages(save=False)"
      ],
      "metadata": {
        "id": "ut80d_D3Tqnj"
      },
      "execution_count": null,
      "outputs": []
    },
    {
      "cell_type": "code",
      "source": [
        "def arbitraryRotatation(imagePath, save=False, silent=True):\n",
        "    \"\"\" \"\"\"\n",
        "    im1  = Image.new(mode = \"RGB\",\n",
        "                 size = (448,448),\n",
        "                 # color=(200,150,200))\n",
        "                 color = zeroPixel)\n",
        "\n",
        "    for rot in rangeList:\n",
        "        imcopy=Image.open(imagePath, 'r')\n",
        "        splt=splitext(imcopy.filename)\n",
        "        rotString = str(rot)\n",
        "        rotString=rotString.translate({ord(i): None for i in '0'})\n",
        "        rotString=rotString.translate({ord(i): None for i in '.'})\n",
        "        savePath=splt[0] + 'Rot' + str(rotString) + splt[1]\n",
        "\n",
        "        imcopy=imcopy.resize((224,224), Image.Resampling.LANCZOS)\n",
        "        backgroundImage = im1.copy()\n",
        "        backgroundImage.paste(imcopy, (112,112))\n",
        "        backgroundImage = backgroundImage.rotate(rot, fillcolor=zeroPixel)\n",
        "        backgroundImage = backgroundImage.resize((224,224), Image.Resampling.LANCZOS)\n",
        "\n",
        "        if not silent:\n",
        "            display(backgroundImage)\n",
        "            print(savePath)\n",
        "            # checkForArtifacts(backgroundImage)\n",
        "\n",
        "        if not exists(savePath) and save:\n",
        "            # print(savePath)\n",
        "            backgroundImage.save(savePath)\n",
        "            shutil.copy2(src=savePath, dst='/content/DataGenerator/Enemy')\n",
        "            print(f'saved: {savePath}\\n')\n",
        "\n",
        "        imcopy.close()\n",
        "        # backgroundImage.close()\n",
        "    im1.close()\n",
        "    _=getContentGlobList()\n",
        "\n",
        "# arbitraryRotatation(imagePath='/content/enemy.png', save=False, silent=False)"
      ],
      "metadata": {
        "id": "Xr4dAcGy8G9w"
      },
      "execution_count": null,
      "outputs": []
    },
    {
      "cell_type": "code",
      "source": [
        "print(baseEnemySavePath)\n",
        "shutil.copy2('/content/DataGenerator/Enemy/enemy.png', contentPath)"
      ],
      "metadata": {
        "id": "D90LMieJZmq2"
      },
      "execution_count": null,
      "outputs": []
    },
    {
      "cell_type": "code",
      "source": [
        "def flipImages(imagePath, save=False):\n",
        "    \"\"\" \"\"\"\n",
        "    baseEnemySavePath='/content/DataGenerator/Enemy'\n",
        "    im = Image.open(imagePath, 'r')\n",
        "    flipped = im.transpose(Image.Transpose.FLIP_LEFT_RIGHT)\n",
        "    display(flipped)\n",
        "    splt = splitext(imagePath)\n",
        "    savePath = splt[0] + 'FLR' + splt[1]\n",
        "    savePath = join(baseEnemySavePath, savePath)\n",
        "    print(f'{C.BIPurple}{savePath}{C.ColorOff}\\n')\n",
        "    if not exists(savePath) and save:\n",
        "        flipped.save(savePath)\n",
        "        shutil.copy2(src=savePath, dst='/content/DataGenerator/Enemy')\n",
        "    # print(savePath)\n",
        "    im.close()\n",
        "    flipped.close()\n",
        "\n",
        "    im = Image.open(imagePath, 'r')\n",
        "    flipped = im.transpose(Image.Transpose.FLIP_TOP_BOTTOM)\n",
        "    display(flipped)\n",
        "    splt = splitext(imagePath)\n",
        "    savePath = splt[0] + 'FTB' + splt[1]\n",
        "    savePath = join(baseEnemySavePath, savePath)\n",
        "    print(f'{C.BIPurple}{savePath}{C.ColorOff}\\n')\n",
        "\n",
        "    if not exists(savePath) and save:\n",
        "        flipped.save(savePath)\n",
        "        shutil.copy2(src=savePath, dst='/content/DataGenerator/Enemy')\n",
        "    \n",
        "    im.close()\n",
        "    flipped.close()\n",
        "\n",
        "    im = Image.open(imagePath, 'r')\n",
        "    flipped = im.transpose(Image.Transpose.ROTATE_90)\n",
        "    display(flipped)\n",
        "    splt = splitext(imagePath)\n",
        "    savePath = splt[0] + 'R90' + splt[1]\n",
        "    savePath = join(baseEnemySavePath, savePath)\n",
        "    print(f'{C.BIPurple}{savePath}{C.ColorOff}\\n')\n",
        "\n",
        "    if not exists(savePath) and save:\n",
        "        flipped.save(savePath)\n",
        "        shutil.copy2(src=savePath, dst='/content/DataGenerator/Enemy')\n",
        "    \n",
        "    im.close()\n",
        "    flipped.close()             \n",
        "\n",
        "    im = Image.open(imagePath, 'r')\n",
        "    flipped = im.transpose(Image.Transpose.ROTATE_180)\n",
        "    display(flipped)\n",
        "    splt = splitext(imagePath)\n",
        "    savePath = splt[0] + 'R180' + splt[1]\n",
        "    savePath = join(baseEnemySavePath, savePath)\n",
        "    print(f'{C.BIPurple}{savePath}{C.ColorOff}\\n')\n",
        "\n",
        "    if not exists(savePath) and save:\n",
        "        flipped.save(savePath)\n",
        "        shutil.copy2(src=savePath, dst='/content/DataGenerator/Enemy')\n",
        "    \n",
        "    im.close()\n",
        "    flipped.close()\n",
        "\n",
        "    im = Image.open(imagePath, 'r')\n",
        "    flipped = im.transpose(Image.Transpose.ROTATE_270)\n",
        "    display(flipped)\n",
        "    \n",
        "    splt = splitext(imagePath)\n",
        "    savePath = splt[0] + 'R270' + splt[1]\n",
        "    savePath = join(baseEnemySavePath, savePath)\n",
        "    print(f'{C.BIPurple}{savePath}{C.ColorOff}\\n')\n",
        "\n",
        "    if not exists(savePath) and save:\n",
        "        flipped.save(savePath)\n",
        "        shutil.copy2(src=savePath, dst='/content/DataGenerator/Enemy')\n",
        "    \n",
        "    im.close()\n",
        "    flipped.close()\n",
        "\n",
        "    im = Image.open(imagePath, 'r')\n",
        "    flipped = im.transpose(Image.Transpose.TRANSVERSE)\n",
        "    display(flipped)\n",
        "    splt = splitext(imagePath)\n",
        "    savePath = splt[0] + 'TV' + splt[1]\n",
        "    savePath = join(baseEnemySavePath, savePath)\n",
        "    print(f'{C.BIPurple}{savePath}{C.ColorOff}\\n')\n",
        "\n",
        "    if not exists(savePath) and save:\n",
        "        flipped.save(savePath)\n",
        "        shutil.copy2(src=savePath, dst='/content/DataGenerator/Enemy')\n",
        "    \n",
        "    im.close()\n",
        "    flipped.close()\n",
        "\n",
        "# flipImages(imagePath='/content/enemy.png', save=False)"
      ],
      "metadata": {
        "id": "tcqTAHFO5zwE"
      },
      "execution_count": null,
      "outputs": []
    },
    {
      "cell_type": "code",
      "source": [
        "def printInfo(arr):\n",
        "    \"\"\"arr = ndarray\"\"\"\n",
        "    print(f'{C.BIPurple}')\n",
        "    # print(type(arr))\n",
        "    print(\"dtype: \", arr.dtype)\n",
        "    print(\"range: \", f'({arr.min(), arr.max()})')\n",
        "    print(\"shape: \", arr.shape)\n",
        "    print(f'{C.ColorOff}')"
      ],
      "metadata": {
        "id": "hxqnoiOxPrp3"
      },
      "execution_count": null,
      "outputs": []
    },
    {
      "cell_type": "code",
      "source": [
        "def convertToFloat32(pilImage):\n",
        "    \"\"\"returns PIL image as Numpy ndarray\"\"\"\n",
        "    numpyArray = np.asarray(pilImage)\n",
        "    numpyArray = numpyArray.astype(np.float32)\n",
        "    print(numpyArray[0,0])\n",
        "    printInfo(numpyArray)\n",
        "    return numpyArray\n",
        "# convertToFloat32(im)"
      ],
      "metadata": {
        "id": "U_Au7m9rM-y7"
      },
      "execution_count": null,
      "outputs": []
    },
    {
      "cell_type": "code",
      "source": [
        "clearContentPath()\n",
        "clearDataGeneratorEnemyDirectory()\n",
        "\n",
        "shutil.copy2(src='/content/drive/MyDrive/TensorflowImages/Enemy/enemyCv2FP32.png',\n",
        "             dst=contentPath)\n",
        "\n",
        "im = Image.open('/content/enemyCv2FP32.png', 'r').convert('RGB')\n",
        "print(f'original image size : {im.size}')\n",
        "im = im.resize((224,224), Image.Resampling.LANCZOS) # resizes to 224x224\n",
        "convertToFloat32(im)\n",
        "zeroPixel = im.getpixel((0,0))\n",
        "\n",
        "createNewImage(imageSize=(448,448), colorTuple=zeroPixel, silent=True)\n",
        "\n",
        "\n",
        "savePath = join(baseEnemySavePath, 'enemy.png')\n",
        "print(f'{C.BIBlue}{savePath}{C.ColorOff}')\n",
        "if not exists(savePath):\n",
        "    im.save(savePath)\n",
        "\n",
        "shutil.copy2('/content/DataGenerator/Enemy/enemy.png', contentPath)\n",
        "\n",
        "print(f'current size: {im.size}')\n",
        "print(f'mode: {im.mode}')\n",
        "print(f'zeroPixel: {zeroPixel}')\n",
        "display(im)\n",
        "print(f'saved as: {C.BGreen}{savePath}{C.ColorOff}\\n')\n",
        "\n",
        "gl=[]\n",
        "gl=getEnemyPathGlob(silent=True)\n",
        "for fil in gl:\n",
        "    fullPath = abspath(fil)\n",
        "    print(fullPath)\n",
        "    sudoScaleImages(imagePath=fullPath, save=True)\n",
        "\n",
        "gl=getEnemyPathGlob(silent=True)\n",
        "for fil in gl:\n",
        "    fullPath = abspath(fil)\n",
        "    print(fullPath)\n",
        "    # flipImages(imagePath='/content/enemy.png', save=True)\n",
        "    flipImages(imagePath=fullPath, save=True)\n",
        "\n",
        "gl=getEnemyPathGlob(silent=True)\n",
        "for fil in gl:\n",
        "    fullPath = abspath(fil)\n",
        "    arbitraryRotatation(imagePath=fullPath, save=True, silent=True)\n",
        "    print(fullPath)\n",
        "    \n",
        "clear_output()\n",
        "gl=getEnemyPathGlob(silent=True)\n",
        "print(len(gl), 'enemy images')"
      ],
      "metadata": {
        "id": "ZdcmcUpG5ZrF"
      },
      "execution_count": null,
      "outputs": []
    },
    {
      "cell_type": "code",
      "source": [
        "from TarfileFunctions import *\n",
        "# dir(tff)"
      ],
      "metadata": {
        "id": "qNKnxKPZjFF0"
      },
      "execution_count": null,
      "outputs": []
    },
    {
      "cell_type": "code",
      "source": [
        "print(os.getcwd())\n",
        "# tff.listTarfiles()\n",
        "tff.tarfileFromDirectory('/content/DataGenerator6.tar.gz', '/content/DataGenerator')\n",
        "\n",
        "shutil.copy2(src='/content/DataGenerator6.tar.gz', dst='/content/drive/MyDrive/DataGenerator6.tar.gz')\n",
        "\n",
        "# tff.inspectTarfile('/content/DataGenerator6.tar.gz')\n",
        "\n",
        "\n"
      ],
      "metadata": {
        "id": "MPHDo2MLjv9C"
      },
      "execution_count": null,
      "outputs": []
    },
    {
      "cell_type": "code",
      "source": [
        "q"
      ],
      "metadata": {
        "id": "fiQfohRQpGY3"
      },
      "execution_count": null,
      "outputs": []
    },
    {
      "cell_type": "code",
      "source": [
        "os.chdir(contentPath)\n",
        "globList=[]\n",
        "globList=glob.glob('*.png')\n",
        "print(len(globList))\n",
        "for item in sorted(globList):\n",
        "    fullPath=abspath(item)\n",
        "    print(f'{C.BIPurple}{fullPath}{C.ColorOff}')\n",
        "    # arbitraryRotatation(imagePath=fullPath, save=True)"
      ],
      "metadata": {
        "id": "Q1l-YA5dY5D8"
      },
      "execution_count": null,
      "outputs": []
    },
    {
      "cell_type": "code",
      "source": [
        "q"
      ],
      "metadata": {
        "id": "wmnliG-Uqehx"
      },
      "execution_count": null,
      "outputs": []
    },
    {
      "cell_type": "code",
      "source": [
        "def getImageCenter(im1, im2=None):\n",
        "    im1_center:tuple\n",
        "    im1_center=(im1.height//2, im1.width//2)\n",
        "\n",
        "    if im2 != 'None':\n",
        "        im2_center:tuple\n",
        "        im2_center=(im2.height//2, im2.width)\n",
        "\n",
        "    display(im1)\n",
        "    print(f'im1_center: {C.BIPurple}{im1_center}{C.BIWhite}')\n",
        "    display(im2)\n",
        "    print(f'im2_center: {C.BIPurple}{im2_center}{C.ColorOff}')\n",
        "# getImageCenter(im1=im1, im2=im2)"
      ],
      "metadata": {
        "id": "T2YO4oFciHp5"
      },
      "execution_count": null,
      "outputs": []
    },
    {
      "cell_type": "code",
      "source": [
        "\n",
        "width = 224 * 2\n",
        "height = 224 * 2\n",
        "\n",
        "im1  = Image.new(mode = \"RGB\",\n",
        "                 size = (width, height),\n",
        "                 # color = (200, 123, 193))\n",
        "                 color = zeroPixel)\n",
        "im.save('background.png')\n",
        "\n",
        "im2 = Image.open('/content/enemy.png', 'r')\n",
        "print(im2)\n",
        "im2 = im2.resize((112,112), Image.Resampling.LANCZOS) # resizes to 224x224\n",
        "# getImageCenter(im1=im1, im2=im2)\n",
        "\n",
        "backgroundImage = im1.copy()\n",
        "backgroundImage.paste(im2, (224,224))\n",
        "backgroundImage = backgroundImage.resize((224,224), Image.Resampling.LANCZOS) # resizes to 224x224\n",
        "\n",
        "display(backgroundImage)\n",
        "print(backgroundImage.format)\n",
        "print(backgroundImage.size)\n",
        "print(backgroundImage.mode)\n",
        "\n",
        "checkForArtifacts(backgroundImage)\n",
        "# backgroundImage.save(\n",
        "    # 'data/dst/rocket_pillow_paste_out.jpg', quality=95)"
      ],
      "metadata": {
        "id": "-YbuZDl7Z4Oo"
      },
      "execution_count": null,
      "outputs": []
    },
    {
      "cell_type": "code",
      "source": [
        "dir(im2)"
      ],
      "metadata": {
        "id": "QssisoOWuy3n"
      },
      "execution_count": null,
      "outputs": []
    },
    {
      "cell_type": "code",
      "source": [
        "q"
      ],
      "metadata": {
        "id": "P2sofE11VUlQ"
      },
      "execution_count": null,
      "outputs": []
    },
    {
      "cell_type": "code",
      "source": [
        "pth='/content/enemy_1_resized.png'\n",
        "with Image.open(pth) as im:\n",
        "    display(im)\n",
        "    print(im.info)\n",
        "    print(im.size)\n",
        "    transposed=im.transpose(\n",
        "        method=Image.Transpose.FLIP_LEFT_RIGHT)\n",
        "    display(transposed)"
      ],
      "metadata": {
        "id": "iDjxzaYRl0tT"
      },
      "execution_count": null,
      "outputs": []
    },
    {
      "cell_type": "code",
      "source": [
        "with Image.open(\"/content/enemy_1.png\") as im:\n",
        "    display(im)\n",
        "    # Flip the image from left to right\n",
        "    im_flipped = im.transpose.Image.FLIP_LEFT_RIGHT\n",
        "    # To flip the image from top to bottom,\n",
        "    # use the method \"Image.Transpose.FLIP_TOP_BOTTOM\""
      ],
      "metadata": {
        "id": "jQ91jpjSaf8f"
      },
      "execution_count": null,
      "outputs": []
    },
    {
      "cell_type": "code",
      "source": [
        "pth='/content/drive/MyDrive/TensorflowImages/Enemy/enemy_1.png'\n",
        "img=cv2.imread(pth).astype(np.float32)\n",
        "# img=img.astype(np.float32)\n",
        "print(basename(pth))\n",
        "print(img.dtype)\n",
        "print(img.shape)\n",
        "# show(img)\n",
        "\n",
        "print('Original Dimensions : ',img.shape)\n",
        "\n",
        "xscale_percent = 42\n",
        "width = int(img.shape[1] * xscale_percent // 100)\n",
        "height = int(img.shape[0] * xscale_percent // 100)\n",
        "\n",
        "dim = (width, height)\n",
        "resized = cv2.resize(img, dim, interpolation = cv2.INTER_AREA)\n",
        "\n",
        "print('Resized Dimentions:', resized.shape)\n",
        "\n",
        "show(resized)\n",
        "\n",
        "cv2.waitKey(1000)\n",
        "\n",
        "cv2.destroyAllWindows()"
      ],
      "metadata": {
        "id": "x9mkrIelZ-Er"
      },
      "execution_count": null,
      "outputs": []
    },
    {
      "cell_type": "code",
      "source": [
        "import numpy as np\n",
        "import cv2\n",
        "\n",
        "def rotate_image(image, angle):\n",
        "    \"\"\" \"\"\"\n",
        "    image_center = tuple(np.array(image.shape[1::-1]) / 2)\n",
        "    rot_mat = cv2.getRotationMatrix2D(image_center, angle, 1.0)\n",
        "    result = cv2.warpAffine(image, rot_mat, image.shape[1::-1], flags=cv2.INTER_LINEAR)\n",
        "    return result"
      ],
      "metadata": {
        "id": "sVfJBuLtNtDL"
      },
      "execution_count": null,
      "outputs": []
    },
    {
      "cell_type": "code",
      "source": [
        "def squareImage(imagePath:str='/content/enemy_1.png'):\n",
        "    \"\"\" \"\"\"\n",
        "    img=cv2.imread(imagePath).astype(np.float32)\n",
        "    \n",
        "    height=img.shape[0]\n",
        "    width=img.shape[1]\n",
        "    # print(f'height: {height}\\nwidth: {width} ')\n",
        "    print(f'img: {img.shape}')\n",
        "\n",
        "    if height<width:\n",
        "        blank_image = np.zeros((width,width,3), np.float32)\n",
        "        blank_image[:,0:width] = (64.,64.,64.) # (B, G, R)\n",
        "        print(f'blank: {blank_image.shape}')\n",
        "        # add or blend the images\n",
        "        newImage = np.concatenate((blank_image, img), axis=0)\n",
        "\n",
        "        newImage = cv2.resize(newImage, (224,224), interpolation=cv2.INTER_AREA)\n",
        "        show(newImage)\n",
        "        print(newImage.shape)\n",
        "\n",
        "    cv2.destroyAllWindows()\n",
        "    return img\n",
        "_=squareImage()"
      ],
      "metadata": {
        "id": "XRQ6Ace9t0zY"
      },
      "execution_count": null,
      "outputs": []
    },
    {
      "cell_type": "code",
      "source": [
        "def saveImage(basePath, imageName, thisImage, saveImage:bool):\n",
        "    \"\"\" \"\"\"\n",
        "    imageName = '/' + imageName\n",
        "    if not imageName.endswith('.png'):\n",
        "        imageName = imageName + '.png'\n",
        "    print(imageName)\n",
        "    savePath = basePath + imageName\n",
        "    if not exists(savePath):\n",
        "        # cv2.imwrite(savePath, thisImage)\n",
        "        print(f'saved to: {C.BGreen}{savePath}{C.ColorOff}')\n",
        "        if saveImage:\n",
        "            cv2.imwrite(savePath, thisImage)"
      ],
      "metadata": {
        "id": "CmFSlj47GhjM"
      },
      "execution_count": null,
      "outputs": []
    },
    {
      "cell_type": "code",
      "source": [
        "def clearEnemyDirectory():\n",
        "\n",
        "    enemyPath='/content/DataGenerator/Enemy'\n",
        "    os.chdir(enemyPath)\n",
        "    globList=glob.glob('*.png')\n",
        "    print(len(globList), 'files') # 360 original files\n",
        "    for item in globList:\n",
        "        removePath=os.path.abspath(item)\n",
        "        if exists(removePath):\n",
        "            os.remove(removePath)\n",
        "    os.chdir(contentPath)\n",
        "# clearEnemyDirectory()"
      ],
      "metadata": {
        "id": "T6GY61hx_9CU"
      },
      "execution_count": null,
      "outputs": []
    },
    {
      "cell_type": "code",
      "source": [
        "help(saveImage)"
      ],
      "metadata": {
        "id": "KE_C8KMzz2dF"
      },
      "execution_count": null,
      "outputs": []
    },
    {
      "cell_type": "code",
      "source": [
        "from google.colab.patches import cv2_imshow\n",
        "from os.path import abspath, basename\n",
        "from time import sleep\n",
        "os.chdir(contentPath)\n",
        "\n",
        "enemyPath='/content/DataGenerator/Enemy'\n",
        "fullPath='/content/enemy.png'\n",
        "if os.path.isfile(fullPath) and fullPath.endswith('.png'):\n",
        "    # print(fullPath)\n",
        "    # print(basename(fullPath))\n",
        "\n",
        "    img=cv2.imread(fullPath, cv2.IMREAD_COLOR)\n",
        "    img=np.copy(img).astype(np.float32)\n",
        "\n",
        "    imgR90=rotate_image(img, 90)\n",
        "    imgR180=rotate_image(img, 180)\n",
        "    imgR270=rotate_image(img, 270)\n",
        "\n",
        "    cv2_imshow(img)\n",
        "    saveImage(basePath=enemyPath, imageName=basename(fullPath),\n",
        "              thisImage=img, saveImage=True)\n",
        "    print(basename(fullPath))\n",
        "    cv2_imshow(imgR90)\n",
        "    saveImage(basePath=enemyPath, imageName='enemyR90',\n",
        "              thisImage=imgR90, saveImage=True)\n",
        "    print(basename(fullPath))\n",
        "    cv2_imshow(imgR180)\n",
        "    saveImage(basePath=enemyPath, imageName='enemyR180',\n",
        "              thisImage=imgR180, saveImage=True)\n",
        "    cv2_imshow(imgR270)\n",
        "    print(basename(fullPath))\n",
        "    saveImage(basePath=enemyPath, imageName='enemyR270',\n",
        "              thisImage=imgR270, saveImage=True)\n",
        "\n",
        "    img=None\n",
        "    imgR90=None\n",
        "    imgR180=None\n",
        "    imgR270=None\n",
        "    sleep(0.1)\n",
        "    print()\n",
        "    sleep(0.1)\n",
        "\n",
        "os.chdir(contentPath)\n",
        "# clear_output()"
      ],
      "metadata": {
        "id": "l3A1QkqhnZrn"
      },
      "execution_count": null,
      "outputs": []
    },
    {
      "cell_type": "code",
      "source": [
        "q"
      ],
      "metadata": {
        "id": "LHlnIotrVq32"
      },
      "execution_count": null,
      "outputs": []
    },
    {
      "cell_type": "code",
      "source": [
        "def getEnemyGlob():\n",
        "    os.chdir('/content/DataGenerator/Enemy')\n",
        "    enemyGlob=glob.glob('**')\n",
        "    print(len(enemyGlob))\n",
        "    os.chdir(contentPath)\n",
        "    return enemyGlob\n",
        "    \n",
        "enemyGlob=getEnemyGlob()\n",
        "os.chdir(contentPath)"
      ],
      "metadata": {
        "id": "wpULUGUPmd73"
      },
      "execution_count": null,
      "outputs": []
    },
    {
      "cell_type": "code",
      "source": [
        "for item in enemyGlob:\n",
        "    fullPath=abspath(item)\n",
        "    print(fullPath)\n",
        "    \n",
        "    img = cv2.imread(fullPath)\n",
        "    img = np.copy(img)\n",
        "\n",
        "    imgFlipH = cv2.flip(img, 0)\n",
        "    # cv2_imshow(imgFlipH)\n",
        "    splt = str.split(basename(fullPath), '.')\n",
        "    name = splt[0] + 'FH'\n",
        "    saveImage(basePath=enemyPath, imageName=name,\n",
        "              thisImage=imgFlipH, saveImage=True)\n",
        "\n",
        "    imgFlipV = cv2.flip(img, 1)\n",
        "    name = splt[0] + 'FV'\n",
        "    print(name)\n",
        "    saveImage(basePath=enemyPath, imageName=name,\n",
        "              thisImage=imgFlipV, saveImage=True)\n",
        "    # cv2_imshow(imgFlipV)\n",
        "\n",
        "    imgFlipB = cv2.flip(img, -1)\n",
        "    name = splt[0] + 'FB'\n",
        "    saveImage(basePath=enemyPath, imageName=name,\n",
        "              thisImage=imgFlipB, saveImage=True)\n",
        "    # cv2_imshow(imgFlipB)\n",
        "\n",
        "    # print(img.shape)\n",
        "    print()\n",
        "\n",
        "    #\n",
        "\n",
        "os.chdir(contentPath)"
      ],
      "metadata": {
        "id": "uQn7wyeMMc8e"
      },
      "execution_count": null,
      "outputs": []
    },
    {
      "cell_type": "code",
      "source": [
        "os.chdir(contentPath)\n",
        "tff.tarfileFromDirectory(\n",
        "    output_filename='DataGenerator6.tar.gz',\n",
        "    source_dir='/content/DataGenerator')"
      ],
      "metadata": {
        "id": "DI__kAXc_CHm"
      },
      "execution_count": null,
      "outputs": []
    },
    {
      "cell_type": "code",
      "source": [
        "os.chdir(contentPath)\n",
        "searchGlob=glob.glob('**',recursive=True)\n",
        "print(len(searchGlob))\n",
        "for fil in sorted(searchGlob):\n",
        "    if fil.__contains__('DataGenerator6.tar.gz'):\n",
        "        fullPath=abspath(fil)\n",
        "        # print(fullPath)"
      ],
      "metadata": {
        "id": "3DapIa7yUteL"
      },
      "execution_count": null,
      "outputs": []
    },
    {
      "cell_type": "code",
      "source": [
        "tff.listTarfiles()"
      ],
      "metadata": {
        "id": "o5hY72dIRJxD"
      },
      "execution_count": null,
      "outputs": []
    },
    {
      "cell_type": "code",
      "source": [
        "tff.inspectTarfile('DataGenerator6.tar.gz')\n",
        "\n",
        "\n"
      ],
      "metadata": {
        "id": "W_9S3BYCK4o8"
      },
      "execution_count": null,
      "outputs": []
    },
    {
      "cell_type": "code",
      "source": [
        "\n",
        "source='/content/DataGenerator6.tar.gz'\n",
        "destination='/content/drive/MyDrive'\n",
        "print()\n",
        "shutil.copy2(src='/content/DataGenerator6.tar.gz',\n",
        "             dst='/content/drive/MyDrive')"
      ],
      "metadata": {
        "id": "2SvbzfpkAoDe"
      },
      "execution_count": null,
      "outputs": []
    }
  ]
}