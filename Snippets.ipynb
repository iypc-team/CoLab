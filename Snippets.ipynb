{
 "cells": [
  {
   "cell_type": "markdown",
   "metadata": {
    "colab_type": "text",
    "id": "view-in-github"
   },
   "source": [
    "<a href=\"https://colab.research.google.com/github/iypc-team/CoLab/blob/master/Snippets.ipynb\" target=\"_parent\"><img src=\"https://colab.research.google.com/assets/colab-badge.svg\" alt=\"Open In Colab\"/></a>"
   ]
  },
  {
   "cell_type": "code",
   "execution_count": null,
   "metadata": {
    "colab": {
     "base_uri": "https://localhost:8080/"
    },
    "id": "zxov7ZeSVX0t",
    "outputId": "ec44a128-481e-48fd-c0e5-72bfe292666b"
   },
   "outputs": [],
   "source": [
    "print('Updated: 08/24/2022')"
   ]
  },
  {
   "cell_type": "code",
   "execution_count": null,
   "metadata": {
    "id": "6Y7nNP4d1P_r"
   },
   "outputs": [],
   "source": [
    "def breaks():\n",
    "    while True:\n",
    "        try:\n",
    "            q\n",
    "        except:\n",
    "            break"
   ]
  },
  {
   "cell_type": "code",
   "execution_count": null,
   "metadata": {
    "id": "FSwOK5vb0e4B"
   },
   "outputs": [],
   "source": [
    "# Mounting Google Drive in your VM\n",
    "from __future__ import absolute_import, print_function\n",
    "import os, pprint, shutil, tarfile, time\n",
    "\n",
    "import io\n",
    "import google.auth\n",
    "from googleapiclient.discovery import build\n",
    "from googleapiclient.errors import HttpError\n",
    "from googleapiclient.http import MediaIoBaseDownload\n",
    "\n",
    "# This only needs to be done once in a notebook.\n",
    "from pydrive.auth import GoogleAuth\n",
    "from pydrive.drive import GoogleDrive\n",
    "from google.colab import auth\n",
    "from oauth2client.client import GoogleCredentials\n",
    "\n",
    "from os.path import exists, join\n",
    "pp=pprint.PrettyPrinter()\n",
    "\n",
    "# Authenticate and create the PyDrive client.\n",
    "# This only needs to be done once in a notebook.\n",
    "auth.authenticate_user()\n",
    "gauth = GoogleAuth()\n",
    "gauth.credentials = GoogleCredentials.get_application_default()\n",
    "drive = GoogleDrive(gauth)\n",
    "\n",
    "pathContent=os.getcwd()\n",
    "pathGDrive=join(pathContent, 'gdrive')\n",
    "print(pathGDrive)\n",
    "\n",
    "bullshitPath = join(pathContent,'sample_data')\n",
    "if exists(bullshitPath):\n",
    "    shutil.rmtree(bullshitPath)\n",
    "\n",
    "from google.colab import drive as gdrive\n",
    "gdrive.mount('/content/gdrive', force_remount=True)\n",
    "\n",
    "colorsPath = '/content/gdrive/BashColors.py'\n",
    "sourcePath = '/content/gdrive/MyDrive/BashColors.py'\n",
    "if not exists(colorsPath):\n",
    "    shutil.copy2(sourcePath, pathContent)\n",
    "    import BashColors\n",
    "    from BashColors import C\n",
    "else:\n",
    "    # print(f'{basename(colorsPath)} exists')\n",
    "    import BashColors\n",
    "    from BashColors import C"
   ]
  },
  {
   "cell_type": "code",
   "execution_count": null,
   "metadata": {
    "id": "to5f2q3wraat"
   },
   "outputs": [],
   "source": [
    "# Saving data to Google Drive\n",
    "# Import PyDrive and associated libraries.\n",
    "\n",
    "\n",
    "# # Create & upload a text file.\n",
    "# uploaded = drive.CreateFile({'title': 'Sample file.txt'})\n",
    "# uploaded.SetContentString('Sample upload file content')\n",
    "# uploaded.Upload()\n",
    "# print('Uploaded file with ID {}'.format(uploaded.get('id')))"
   ]
  },
  {
   "cell_type": "code",
   "execution_count": null,
   "metadata": {
    "id": "-f-hfkapsiPc"
   },
   "outputs": [],
   "source": [
    "# Listing files in Google Drive\n",
    "# Import PyDrive and associated libraries.\n",
    "\n",
    "bs=\"\"\"\n",
    "# This only needs to be done once per notebook.\n",
    "from pydrive.auth import GoogleAuth\n",
    "from pydrive.drive import GoogleDrive\n",
    "from google.colab import auth\n",
    "from oauth2client.client import GoogleCredentials\n",
    "\"\"\"\n",
    "\n",
    "# Authenticate and create the PyDrive client.\n",
    "# This only needs to be done once per notebook.\n",
    "auth.authenticate_user()\n",
    "gauth = GoogleAuth()\n",
    "gauth.credentials = GoogleCredentials.get_application_default()\n",
    "drive = GoogleDrive(gauth)\n",
    "from BashColors import C\n",
    "\n",
    "# List .txt files in the root.\n",
    "#\n",
    "# Search query reference:\n",
    "# https://developers.google.com/drive/v2/web/search-parameters\n",
    "listed = drive.ListFile({'q': \"title contains '.py' \"}).GetList()\n",
    "count=0\n",
    "for file in listed:\n",
    "    count+=1\n",
    "    name=format(file['title'])\n",
    "    id=format(file['id'])\n",
    "    # modified=format(file['created'])\n",
    "\n",
    "    print(f'{count}. title: {C.BGreen}{name}{C.ColorOff}')\n",
    "    print('id: {}\\n'.format(file['id']))\n",
    "    # print(modified)\n",
    "    "
   ]
  },
  {
   "cell_type": "code",
   "execution_count": null,
   "metadata": {
    "id": "av1zOdR6Ro0n"
   },
   "outputs": [],
   "source": [
    "bs=\"\"\"\n",
    "import io\n",
    "import google.auth\n",
    "from googleapiclient.discovery import build\n",
    "from googleapiclient.errors import HttpError\n",
    "from googleapiclient.http import MediaIoBaseDownload\n",
    "\"\"\"\n",
    "\n",
    "def download_file(real_file_id):\n",
    "    \"\"\"Downloads a file\n",
    "    Args:\n",
    "        real_file_id: ID of the file to download\n",
    "    Returns : IO object with location.\n",
    "\n",
    "    Load pre-authorized user credentials from the environment.\n",
    "    TODO(developer) - See https://developers.google.com/identity\n",
    "    for guides on implementing OAuth2 for the application.\n",
    "    \"\"\"\n",
    "    creds, _ = google.auth.default()\n",
    "\n",
    "    try:\n",
    "        # create drive api client\n",
    "        service = build('drive', 'v3', credentials=creds)\n",
    "\n",
    "        file_id = real_file_id\n",
    "\n",
    "        # pylint: disable=maybe-no-member\n",
    "        request = service.files().get_media(fileId=file_id)\n",
    "        file = io.BytesIO()\n",
    "        downloader = MediaIoBaseDownload(file, request)\n",
    "        done = False\n",
    "        while done is False:\n",
    "            status, done = downloader.next_chunk()\n",
    "            print(F'Download {int(status.progress() * 100)}.')\n",
    "\n",
    "    except HttpError as error:\n",
    "        print(F'An error occurred: {error}')\n",
    "        file = None\n",
    "\n",
    "    return file.getvalue()"
   ]
  },
  {
   "cell_type": "code",
   "execution_count": null,
   "metadata": {
    "id": "gELrUJo5Z28w"
   },
   "outputs": [],
   "source": [
    "fid='1gim3PgBafpbpaCsO64ZrBdFiORrMAzFX'\n",
    "f=download_file(real_file_id=fid)\n",
    "print(f)"
   ]
  },
  {
   "cell_type": "code",
   "execution_count": null,
   "metadata": {
    "id": "TbRbQAYqPTci"
   },
   "outputs": [],
   "source": [
    "# Downloading files or importing data # from Google Drive\n",
    "# https://pythonhosted.org/PyDrive/\n",
    "# https://developers.google.com/drive/v3/reference/\n",
    "\n",
    "# from pydrive.auth import GoogleAuth\n",
    "# from pydrive.drive import GoogleDrive\n",
    "# from google.colab import auth\n",
    "# from oauth2client.client import GoogleCredentials\n",
    "\n",
    "# Authenticate and create the PyDrive client.\n",
    "# This only needs to be done once in a notebook.\n",
    "auth.authenticate_user()\n",
    "gauth = GoogleAuth()\n",
    "gauth.credentials = GoogleCredentials.get_application_default()\n",
    "drive = GoogleDrive(gauth)\n",
    "\n",
    "# Download a file based on its file ID.\n",
    "#\n",
    "# A file ID looks like: laggVyWshwcyP6kEI-y_W3P8D26sz\n",
    "fid='1XYUNuIsiQdo_Bvfr4g1BITHpSJRcFfQw'\n",
    "\n",
    "file_id = fid\n",
    "downloaded = drive.CreateFile({'id': file_id})\n",
    "print('Downloaded content \"{}\"'.format(downloaded.GetContentString()))"
   ]
  },
  {
   "cell_type": "code",
   "execution_count": null,
   "metadata": {
    "id": "PJttjLLoaXtR"
   },
   "outputs": [],
   "source": [
    "\n",
    "\n",
    "downloaded"
   ]
  },
  {
   "cell_type": "code",
   "execution_count": null,
   "metadata": {
    "id": "zFDCLI52bLhL"
   },
   "outputs": [],
   "source": []
  }
 ],
 "metadata": {
  "colab": {
   "collapsed_sections": [],
   "include_colab_link": true,
   "name": "Snippets",
   "provenance": []
  },
  "gpuClass": "standard",
  "kernelspec": {
   "display_name": "Python 3 (ipykernel)",
   "language": "python",
   "name": "python3"
  },
  "language_info": {
   "codemirror_mode": {
    "name": "ipython",
    "version": 3
   },
   "file_extension": ".py",
   "mimetype": "text/x-python",
   "name": "python",
   "nbconvert_exporter": "python",
   "pygments_lexer": "ipython3",
   "version": "3.7.12"
  }
 },
 "nbformat": 4,
 "nbformat_minor": 1
}
