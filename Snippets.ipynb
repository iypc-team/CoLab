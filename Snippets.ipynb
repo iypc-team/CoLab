{
  "cells": [
    {
      "cell_type": "markdown",
      "metadata": {
        "id": "view-in-github",
        "colab_type": "text"
      },
      "source": [
        "<a href=\"https://colab.research.google.com/github/iypc-team/CoLab/blob/master/Snippets.ipynb\" target=\"_parent\"><img src=\"https://colab.research.google.com/assets/colab-badge.svg\" alt=\"Open In Colab\"/></a>"
      ]
    },
    {
      "cell_type": "code",
      "execution_count": 14,
      "metadata": {
        "id": "zxov7ZeSVX0t",
        "outputId": "480d979d-c26e-4f50-9de2-393938769cc7",
        "colab": {
          "base_uri": "https://localhost:8080/"
        }
      },
      "outputs": [
        {
          "output_type": "stream",
          "name": "stdout",
          "text": [
            "Updated: 08/25/2022\n"
          ]
        }
      ],
      "source": [
        "print('Updated: 08/25/2022')"
      ]
    },
    {
      "cell_type": "code",
      "execution_count": null,
      "metadata": {
        "id": "6Y7nNP4d1P_r"
      },
      "outputs": [],
      "source": [
        "def breaks():\n",
        "    while True:\n",
        "        try:\n",
        "            q\n",
        "        except:\n",
        "            break"
      ]
    },
    {
      "cell_type": "code",
      "execution_count": null,
      "metadata": {
        "id": "FSwOK5vb0e4B"
      },
      "outputs": [],
      "source": [
        "# Mounting Google Drive in your VM\n",
        "from __future__ import absolute_import, print_function\n",
        "import os, pprint, shutil, tarfile, time\n",
        "\n",
        "import io\n",
        "import google.auth\n",
        "from googleapiclient.discovery import build\n",
        "from googleapiclient.errors import HttpError\n",
        "from googleapiclient.http import MediaIoBaseDownload\n",
        "\n",
        "# This only needs to be done once in a notebook.\n",
        "from pydrive.auth import GoogleAuth\n",
        "from pydrive.drive import GoogleDrive\n",
        "from google.colab import auth\n",
        "from oauth2client.client import GoogleCredentials\n",
        "\n",
        "from os.path import exists, join\n",
        "pp=pprint.PrettyPrinter()\n",
        "\n",
        "# Authenticate and create the PyDrive client.\n",
        "# This only needs to be done once in a notebook.\n",
        "auth.authenticate_user()\n",
        "gauth = GoogleAuth()\n",
        "gauth.credentials = GoogleCredentials.get_application_default()\n",
        "drive = GoogleDrive(gauth)\n",
        "\n",
        "pathContent=os.getcwd()\n",
        "pathGDrive=join(pathContent, 'gdrive')\n",
        "print(pathGDrive)\n",
        "\n",
        "bullshitPath = join(pathContent,'sample_data')\n",
        "if exists(bullshitPath):\n",
        "    shutil.rmtree(bullshitPath)\n",
        "\n",
        "from google.colab import drive as gdrive\n",
        "gdrive.mount('/content/gdrive', force_remount=True)\n",
        "\n",
        "colorsPath = '/content/gdrive/BashColors.py'\n",
        "sourcePath = '/content/gdrive/MyDrive/BashColors.py'\n",
        "if not exists(colorsPath):\n",
        "    shutil.copy2(sourcePath, pathContent)\n",
        "    import BashColors\n",
        "    from BashColors import C\n",
        "else:\n",
        "    # print(f'{basename(colorsPath)} exists')\n",
        "    import BashColors\n",
        "    from BashColors import C"
      ]
    },
    {
      "cell_type": "code",
      "source": [
        "# List .txt files in the root.\n",
        "#\n",
        "# Search query reference:\n",
        "# https://developers.google.com/drive/v2/web/search-parameters\n",
        "\n",
        "dictionary={'ralph':'70'}\n",
        "nameList=[]\n",
        "def searchGoogleDrive(silent=True):\n",
        "    \"\"\" \"\"\"\n",
        "    global dictionary\n",
        "    global nameList\n",
        "    listed = drive.ListFile({'q': \"title contains '' \"}).GetList()\n",
        "    count=0\n",
        "    for file in listed:\n",
        "        count+=1\n",
        "        name=format(file['title'])\n",
        "        key=name\n",
        "        id=format(file['id'])\n",
        "        # modified=format(file['created'])\n",
        "        nameList.append((name, id))\n",
        "        if not silent:\n",
        "            print(f'{count}. title: {C.BGreen}{name}{C.ColorOff}')\n",
        "            print('id: {}\\n'.format(file['id']))\n",
        "            # print(modified)\n",
        "\n",
        "    for item in sorted(nameList):\n",
        "        print(item[0])\n",
        "        print(item[1])\n",
        "        print()\n",
        "\n",
        "searchGoogleDrive()"
      ],
      "metadata": {
        "id": "q31qjAi8E7d5"
      },
      "execution_count": null,
      "outputs": []
    },
    {
      "cell_type": "code",
      "source": [],
      "metadata": {
        "id": "0Pa3c2z3KPp_"
      },
      "execution_count": null,
      "outputs": []
    },
    {
      "cell_type": "code",
      "execution_count": null,
      "metadata": {
        "id": "to5f2q3wraat"
      },
      "outputs": [],
      "source": [
        "# Saving data to Google Drive\n",
        "# Import PyDrive and associated libraries.\n",
        "\n",
        "\n",
        "# # Create & upload a text file.\n",
        "# uploaded = drive.CreateFile({'title': 'Sample file.txt'})oogle\n",
        "# uploaded.SetContentString('Sample upload file content')\n",
        "# uploaded.Upload()\n",
        "# print('Uploaded file with ID {}'.format(uploaded.get('id')))"
      ]
    },
    {
      "cell_type": "code",
      "execution_count": null,
      "metadata": {
        "id": "-f-hfkapsiPc"
      },
      "outputs": [],
      "source": [
        "# Listing files in Google Drive\n",
        "# Import PyDrive and associated libraries.\n",
        "\n",
        "bs=\"\"\"\n",
        "# This only needs to be done once per notebook.\n",
        "from pydrive.auth import GoogleAuth\n",
        "from pydrive.drive import GoogleDrive\n",
        "from google.colab import auth\n",
        "from oauth2client.client import GoogleCredentials\n",
        "\"\"\"\n",
        "\n",
        "# Authenticate and create the PyDrive client.\n",
        "# This only needs to be done once per notebook.\n",
        "auth.authenticate_user()\n",
        "gauth = GoogleAuth()\n",
        "gauth.credentials = GoogleCredentials.get_application_default()\n",
        "drive = GoogleDrive(gauth)\n",
        "from BashColors import C\n",
        "\n",
        "# List files in the root.\n",
        "#\n",
        "# Search query reference:\n",
        "# https://developers.google.com/drive/v2/web/search-parameters\n",
        "listed = drive.ListFile({'q': \"title contains '.py' \"}).GetList()\n",
        "count=0\n",
        "for file in listed:\n",
        "    count+=1\n",
        "    name=format(file['title'])\n",
        "    id=format(file['id'])\n",
        "    # modified=format(file['created'])\n",
        "\n",
        "    print(f'{count}. title: {C.BGreen}{name}{C.ColorOff}')\n",
        "    print('id: {}\\n'.format(file['id']))\n",
        "    # print(modified)\n",
        "    "
      ]
    },
    {
      "cell_type": "code",
      "execution_count": null,
      "metadata": {
        "id": "av1zOdR6Ro0n"
      },
      "outputs": [],
      "source": [
        "bs=\"\"\"\n",
        "import io\n",
        "import google.auth\n",
        "from googleapiclient.discovery import build\n",
        "from googleapiclient.errors import HttpError\n",
        "from googleapiclient.http import MediaIoBaseDownload\n",
        "\"\"\"\n",
        "\n",
        "def download_file(real_file_id):\n",
        "    \"\"\"Downloads a file from google Drive\n",
        "    Args:\n",
        "        real_file_id: ID of the file to download\n",
        "    Returns : IO object with location.\n",
        "\n",
        "    Load pre-authorized user credentials from the environment.\n",
        "    TODO(developer) - See https://developers.google.com/identity\n",
        "    for guides on implementing OAuth2 for the application.\n",
        "    \"\"\"\n",
        "    creds, _ = google.auth.default()\n",
        "\n",
        "    try:\n",
        "        # create drive api client\n",
        "        service = build('drive', 'v3', credentials=creds)\n",
        "\n",
        "        file_id = real_file_id\n",
        "\n",
        "        # pylint: disable=maybe-no-member\n",
        "        request = service.files().get_media(fileId=file_id)\n",
        "        file = io.BytesIO()\n",
        "        downloader = MediaIoBaseDownload(file, request)\n",
        "        done = False\n",
        "        while done is False:\n",
        "            status, done = downloader.next_chunk()\n",
        "            print(F'Download {int(status.progress() * 100)}.')\n",
        "\n",
        "    except HttpError as error:\n",
        "        print(F'An error occurred: {error}')\n",
        "        file = None\n",
        "\n",
        "    return file.getvalue()"
      ]
    },
    {
      "cell_type": "code",
      "execution_count": null,
      "metadata": {
        "id": "gELrUJo5Z28w"
      },
      "outputs": [],
      "source": [
        "fid='15no_AVUhp9VI2HIpG8r6R0ok616l1E2H'\n",
        "f=download_file(real_file_id=fid)\n",
        "print(f)"
      ]
    },
    {
      "cell_type": "code",
      "execution_count": 15,
      "metadata": {
        "id": "TbRbQAYqPTci",
        "outputId": "ba17f617-b627-4a2a-d8ca-251ba6083493",
        "colab": {
          "base_uri": "https://localhost:8080/"
        }
      },
      "outputs": [
        {
          "output_type": "stream",
          "name": "stdout",
          "text": [
            "Downloaded content\n",
            " \"# 09/08/2020\n",
            "\n",
            "class Colors:\n",
            "    def __init__(self):\n",
            "        self.C = Colors\n",
            "\n",
            "    # Reset\n",
            "    ColorOff='\\033[0m'\n",
            "    \n",
            "    # Regular Colors\n",
            "    Black='\\033[0;30m'\n",
            "    Red='\\033[0;31m'\n",
            "    Green='\\033[0;32m'\n",
            "    Yellow='\\033[0;33m'\n",
            "    Blue='\\033[0;34m'\n",
            "    Purple='\\033[0;35m'\n",
            "    Cyan='\\033[0;36m'\n",
            "    White='\\033[0;37m'\n",
            "    \n",
            "    # Bold\n",
            "    BBlack='\\033[1;30m'\n",
            "    BRed='\\033[1;31m'\n",
            "    BGreen='\\033[1;32m'\n",
            "    BYellow='\\033[1;33m'\n",
            "    BBlue='\\033[1;34m'\n",
            "    BPurple='\\033[1;35m'\n",
            "    BCyan='\\033[1;36m'\n",
            "    BWhite='\\033[1;37m'\n",
            "    \n",
            "    # Underline\n",
            "    UBlack='\\033[4;30m'\n",
            "    URed='\\033[4;31m'\n",
            "    UGreen='\\033[4;32m'\n",
            "    UYellow='\\033[4;33m'\n",
            "    UBlue='\\033[4;34m'\n",
            "    UPurple='\\033[4;35m'\n",
            "    UCyan='\\033[4;36m'\n",
            "    UWhite='\\033[4;37m'\n",
            "    \n",
            "    # Background\n",
            "    OnBlack='\\033[40m'\n",
            "    OnRed='\\033[41m'\n",
            "    OnGreen='\\033[42m'\n",
            "    OnYellow='\\033[43m'\n",
            "    OnBlue='\\033[44m'\n",
            "    OnPurple='\\033[45m'\n",
            "    OnCyan='\\033[46m'\n",
            "    OnWhite='\\033[47m'\n",
            "    \n",
            "    # High Intensity\n",
            "    IBlack='\\033[0;90m'\n",
            "    IRed='\\033[0;91m'\n",
            "    IGreen='\\033[0;92m'\n",
            "    IYellow='\\033[0;93m'\n",
            "    IBlue='\\033[0;94m'\n",
            "    IPurple='\\033[0;95m'\n",
            "    ICyan='\\033[0;96m'\n",
            "    IWhite='\\033[0;97m'\n",
            "    \n",
            "    # Bold High Intensity\n",
            "    BIBlack='\\033[1;90m'\n",
            "    BIRed='\\033[1;91m'\n",
            "    BIGreen='\\033[1;92m'\n",
            "    BIYellow='\\033[1;93m'\n",
            "    BIBlue='\\033[1;94m'\n",
            "    BIPurple='\\033[1;95m'\n",
            "    BICyan='\\033[1;96m'\n",
            "    BIWhite='\\033[1;97m'\n",
            "    \n",
            "    # High Intensity backgrounds\n",
            "    OnIBlack='\\033[0;100m'\n",
            "    OnIRed='\\033[0;101m'\n",
            "    OnIGreen='\\033[0;102m'\n",
            "    OnIYellow='\\033[0;103m'\n",
            "    OnIBlue='\\033[0;104m'\n",
            "    OnIPurple='\\033[0;105m'\n",
            "    OnICyan='\\033[0;106m'\n",
            "    OnIWhite='\\033[0;107m'\n",
            "\n",
            "C = Colors()\"\n"
          ]
        }
      ],
      "source": [
        "# Downloading files or importing data # from Google Drive\n",
        "# https://pythonhosted.org/PyDrive/\n",
        "# https://developers.google.com/drive/v3/reference/\n",
        "\n",
        "# from pydrive.auth import GoogleAuth\n",
        "# from pydrive.drive import GoogleDrive\n",
        "# from google.colab import auth\n",
        "# from oauth2client.client import GoogleCredentials\n",
        "\n",
        "# Authenticate and create the PyDrive client.\n",
        "# This only needs to be done once in a notebook.\n",
        "auth.authenticate_user()\n",
        "gauth = GoogleAuth()\n",
        "gauth.credentials = GoogleCredentials.get_application_default()\n",
        "drive = GoogleDrive(gauth)\n",
        "\n",
        "# Download a file based on its file ID.\n",
        "fid='1gqAtKe4idK8lfx7QzUd0xhgpwqrEgWph'\n",
        "file_id = fid\n",
        "downloaded = drive.CreateFile({'id': file_id})\n",
        "print('Downloaded content\\n \"{}\"'.format(downloaded.GetContentString()))"
      ]
    },
    {
      "cell_type": "code",
      "execution_count": null,
      "metadata": {
        "id": "PJttjLLoaXtR"
      },
      "outputs": [],
      "source": [
        "\n",
        "\n",
        "downloaded"
      ]
    },
    {
      "cell_type": "code",
      "execution_count": null,
      "metadata": {
        "id": "zFDCLI52bLhL"
      },
      "outputs": [],
      "source": []
    }
  ],
  "metadata": {
    "colab": {
      "collapsed_sections": [],
      "name": "Snippets",
      "provenance": [],
      "include_colab_link": true
    },
    "gpuClass": "standard",
    "kernelspec": {
      "display_name": "Python 3 (ipykernel)",
      "language": "python",
      "name": "python3"
    },
    "language_info": {
      "codemirror_mode": {
        "name": "ipython",
        "version": 3
      },
      "file_extension": ".py",
      "mimetype": "text/x-python",
      "name": "python",
      "nbconvert_exporter": "python",
      "pygments_lexer": "ipython3",
      "version": "3.7.12"
    }
  },
  "nbformat": 4,
  "nbformat_minor": 0
}