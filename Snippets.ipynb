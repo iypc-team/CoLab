{
  "cells": [
    {
      "cell_type": "markdown",
      "metadata": {
        "id": "view-in-github",
        "colab_type": "text"
      },
      "source": [
        "<a href=\"https://colab.research.google.com/github/iypc-team/CoLab/blob/master/Snippets.ipynb\" target=\"_parent\"><img src=\"https://colab.research.google.com/assets/colab-badge.svg\" alt=\"Open In Colab\"/></a>"
      ]
    },
    {
      "cell_type": "code",
      "execution_count": 1,
      "metadata": {
        "colab": {
          "base_uri": "https://localhost:8080/"
        },
        "id": "zxov7ZeSVX0t",
        "outputId": "d3d9b5a4-da97-4af9-83ba-142c4a94f019"
      },
      "outputs": [
        {
          "output_type": "stream",
          "name": "stdout",
          "text": [
            "Updated: 08/23/2022\n"
          ]
        }
      ],
      "source": [
        "print('Updated: 08/23/2022')"
      ]
    },
    {
      "cell_type": "code",
      "execution_count": 2,
      "metadata": {
        "id": "6Y7nNP4d1P_r"
      },
      "outputs": [],
      "source": [
        "def breaks():\n",
        "    while True:\n",
        "        try:\n",
        "            q\n",
        "        except:\n",
        "            break"
      ]
    },
    {
      "cell_type": "code",
      "execution_count": 3,
      "metadata": {
        "colab": {
          "base_uri": "https://localhost:8080/"
        },
        "id": "FSwOK5vb0e4B",
        "outputId": "09ea4e25-1da2-4e9e-c388-cb3a117dde8f"
      },
      "outputs": [
        {
          "output_type": "stream",
          "name": "stdout",
          "text": [
            "/content/gdrive\n",
            "Mounted at /content/gdrive\n"
          ]
        }
      ],
      "source": [
        "# Mounting Google Drive in your VM\n",
        "from __future__ import absolute_import, print_function\n",
        "import os, pprint, shutil, tarfile, time\n",
        "from os.path import exists, join\n",
        "pp=pprint.PrettyPrinter()\n",
        "# This only needs to be done once in a notebook.\n",
        "from pydrive.auth import GoogleAuth\n",
        "from pydrive.drive import GoogleDrive\n",
        "from google.colab import auth\n",
        "from oauth2client.client import GoogleCredentials\n",
        "\n",
        "# Authenticate and create the PyDrive client.\n",
        "# This only needs to be done once in a notebook.\n",
        "auth.authenticate_user()\n",
        "gauth = GoogleAuth()\n",
        "gauth.credentials = GoogleCredentials.get_application_default()\n",
        "drive = GoogleDrive(gauth)\n",
        "\n",
        "pathContent=os.getcwd()\n",
        "pathGDrive=join(pathContent, 'gdrive')\n",
        "print(pathGDrive)\n",
        "\n",
        "bullshitPath = join(pathContent,'sample_data')\n",
        "if exists(bullshitPath):\n",
        "    shutil.rmtree(bullshitPath)\n",
        "\n",
        "from google.colab import drive as gdrive\n",
        "gdrive.mount('/content/gdrive', force_remount=True)\n",
        "\n",
        "colorsPath = '/content/gdrive/BashColors.py'\n",
        "sourcePath = '/content/gdrive/MyDrive/BashColors.py'\n",
        "if not exists(colorsPath):\n",
        "    shutil.copy2(sourcePath, pathContent)\n",
        "    import BashColors\n",
        "    from BashColors import C\n",
        "else:\n",
        "    # print(f'{basename(colorsPath)} exists')\n",
        "    import BashColors\n",
        "    from BashColors import C"
      ]
    },
    {
      "cell_type": "code",
      "execution_count": 4,
      "metadata": {
        "id": "v97nWL6FTdJP",
        "outputId": "68c28bb3-a1c8-4502-df5b-c1046b58eadf",
        "colab": {
          "base_uri": "https://localhost:8080/",
          "height": 56
        }
      },
      "outputs": [
        {
          "output_type": "stream",
          "name": "stdout",
          "text": [
            "/content\n"
          ]
        },
        {
          "output_type": "execute_result",
          "data": {
            "text/plain": [
              "'/content/gdrive'"
            ],
            "application/vnd.google.colaboratory.intrinsic+json": {
              "type": "string"
            }
          },
          "metadata": {},
          "execution_count": 4
        }
      ],
      "source": [
        "print(pathContent)\n",
        "pathGDrive"
      ]
    },
    {
      "cell_type": "code",
      "source": [
        "breaks()"
      ],
      "metadata": {
        "id": "bmbxanvVTssP"
      },
      "execution_count": 5,
      "outputs": []
    },
    {
      "cell_type": "code",
      "execution_count": 6,
      "metadata": {
        "id": "to5f2q3wraat"
      },
      "outputs": [],
      "source": [
        "# Saving data to Google Drive\n",
        "# Import PyDrive and associated libraries.\n",
        "\n",
        "\n",
        "# # Create & upload a text file.\n",
        "# uploaded = drive.CreateFile({'title': 'Sample file.txt'})\n",
        "# uploaded.SetContentString('Sample upload file content')\n",
        "# uploaded.Upload()\n",
        "# print('Uploaded file with ID {}'.format(uploaded.get('id')))"
      ]
    },
    {
      "cell_type": "markdown",
      "metadata": {
        "id": "hqJvrn8xsgd0"
      },
      "source": [
        "# Listing files in Google Drive"
      ]
    },
    {
      "cell_type": "code",
      "execution_count": 7,
      "metadata": {
        "colab": {
          "base_uri": "https://localhost:8080/"
        },
        "id": "-f-hfkapsiPc",
        "outputId": "c80c3f31-8cb7-4591-bbdd-b802286fb687"
      },
      "outputs": [
        {
          "output_type": "stream",
          "name": "stdout",
          "text": [
            "1. title: \u001b[1;32mDriveFileIDs.py\u001b[0m\n",
            "id: 15ctbLIBRCLj9YeZ6UNxzh-LivpakwaLu\n",
            "\n",
            "2. title: \u001b[1;32mGetColabTPU.py\u001b[0m\n",
            "id: 1-C1XTMKLHWZkbpQksUtjv4abCSfzsrEi\n",
            "\n",
            "3. title: \u001b[1;32mBashColors.py\u001b[0m\n",
            "id: 1gqAtKe4idK8lfx7QzUd0xhgpwqrEgWph\n",
            "\n",
            "4. title: \u001b[1;32mTZInfo.py\u001b[0m\n",
            "id: 18wJtgc7wJwpFWygYw2WwCuf6qXwyJeq3\n",
            "\n",
            "5. title: \u001b[1;32mFileUtilities.py\u001b[0m\n",
            "id: 1QZWm6Has6knZXleFRAqLGhGo-ZtHXvBr\n",
            "\n",
            "6. title: \u001b[1;32m__pycache__\u001b[0m\n",
            "id: 157TFuczCNwz-ktej7fluV67znNlSZPRS\n",
            "\n",
            "7. title: \u001b[1;32mGetColabTPU.py\u001b[0m\n",
            "id: 1RMastJgv_pqTqjsgZ3mqTm76q7mlfKeT\n",
            "\n",
            "8. title: \u001b[1;32m__pycache__\u001b[0m\n",
            "id: 1UZhmT1RK2M1PUzrQRDzCQWJ4x02zqc5x\n",
            "\n",
            "9. title: \u001b[1;32mCV2_Utils.py\u001b[0m\n",
            "id: 1lvQMjLy34onKxUGN6sH61uBCVgmON-5Z\n",
            "\n",
            "10. title: \u001b[1;32mBashColors.py\u001b[0m\n",
            "id: 1cT6tYz09jdu1BUoO3knt8-5qHpDgczqa\n",
            "\n",
            "11. title: \u001b[1;32mGithubRepos.py\u001b[0m\n",
            "id: 1I26CBSfETjMRtIucznpSVd7n5AAjmn4Z\n",
            "\n",
            "12. title: \u001b[1;32mGetTPU.py\u001b[0m\n",
            "id: 1BDhNE7TiPx2NtDDgkfvGqDWOhcRZ1745\n",
            "\n",
            "13. title: \u001b[1;32mFunctionTimer.py\u001b[0m\n",
            "id: 1zp4eat0RjxGuPaORmQiBupTfagvGFa2e\n",
            "\n",
            "14. title: \u001b[1;32mColabDriveFiles.py\u001b[0m\n",
            "id: 12XIJfZay47R84Kj2c_ZYxYnpIAzG7Wkd\n",
            "\n",
            "15. title: \u001b[1;32mTarfileFunctions.py\u001b[0m\n",
            "id: 1pxoIxEyQiOGKr7fM-O8RBnRSOS9vMPi-\n",
            "\n",
            "16. title: \u001b[1;32mTZInfo.py\u001b[0m\n",
            "id: 19yAxpwY7Cmx8ICuyJG2nBFDxR3dCGVg1\n",
            "\n",
            "17. title: \u001b[1;32mTZInfo.py\u001b[0m\n",
            "id: 1o5f6C8aUbc771B8BZAwBUhTIHS4Dniia\n",
            "\n",
            "18. title: \u001b[1;32mImportDriveFiles.py\u001b[0m\n",
            "id: 13tbQ00V7fgCFdtz7utCNkuPiN6IBvkCc\n",
            "\n",
            "19. title: \u001b[1;32mImportDriveFiles.py\u001b[0m\n",
            "id: 1L-ES2iiGDaUEcskQVXeHuwrnX988lMef\n",
            "\n",
            "20. title: \u001b[1;32mGithubRepos.py\u001b[0m\n",
            "id: 19fV7rHuBTuOS-o3OhJwUjvp4SjPIzEn5\n",
            "\n",
            "21. title: \u001b[1;32mGithubRepos.py\u001b[0m\n",
            "id: 1amWEVqGDNtx0saJlYw9oP8aWQDbIAtgI\n",
            "\n",
            "22. title: \u001b[1;32mGetTPU.py\u001b[0m\n",
            "id: 1oii0M7DRkpmAAE9OTnTaEnPYp-8Z9HFh\n",
            "\n",
            "23. title: \u001b[1;32mGetTPU.py\u001b[0m\n",
            "id: 1ICq4vdaWjHXOgNZcLWFcJlVz6Jr-AQQ6\n",
            "\n",
            "24. title: \u001b[1;32mFunctionTimer.py\u001b[0m\n",
            "id: 1wH1BpGW6fjnbaDF6O1Mwf4jyHEQWmtxi\n",
            "\n",
            "25. title: \u001b[1;32mFunctionTimer.py\u001b[0m\n",
            "id: 18ZXDfLQ0mvXBX9iMXC8LbXxHqG57QFvs\n",
            "\n",
            "26. title: \u001b[1;32mFileUtilities.py\u001b[0m\n",
            "id: 18aO7P4zBXji6MDG4RXSlxbazxMSkxFGc\n",
            "\n",
            "27. title: \u001b[1;32mFileUtilities.py\u001b[0m\n",
            "id: 1nfjICQIb7EBTiIabVN5qW2boRbW3jbJG\n",
            "\n",
            "28. title: \u001b[1;32mColabDriveFiles.py\u001b[0m\n",
            "id: 1_Qt9lG1sTg2oiN2ei5ZbL9PGyQpM9P2o\n",
            "\n",
            "29. title: \u001b[1;32mColabDriveFiles.py\u001b[0m\n",
            "id: 1-MDZJhoQHCga_vYjEmf-HTG_Cpa1rsiL\n",
            "\n",
            "30. title: \u001b[1;32mCleanDrive.py\u001b[0m\n",
            "id: 1hkz479q7n1FHvflcbs4R4QqheoeA9R0K\n",
            "\n",
            "31. title: \u001b[1;32mCleanDrive.py\u001b[0m\n",
            "id: 1Sf967B6Qn376_r1iVsuLZ8arfwm1rClQ\n",
            "\n",
            "32. title: \u001b[1;32mCleanDrive.py\u001b[0m\n",
            "id: 1a0dGe1bzbhKo6AFHnmC5HYFifYV2mc53\n",
            "\n",
            "33. title: \u001b[1;32mBashColors.py\u001b[0m\n",
            "id: 1o0ZU7U3B6vpNZSVF6TTgWiDtD9R7puBj\n",
            "\n",
            "34. title: \u001b[1;32mTarfileFunctions.py\u001b[0m\n",
            "id: 1vAuSC-v2vgesw66A0277_FegASNrkB_u\n",
            "\n",
            "35. title: \u001b[1;32mTarfileFunctions.py\u001b[0m\n",
            "id: 1GKHJsO3q3TySedT9AMcI2hkSSAWQh-UY\n",
            "\n",
            "36. title: \u001b[1;32mImportDriveFiles.py\u001b[0m\n",
            "id: 14O7jo5sCUXCoiKkhzZ0n0hUJkPDSWv__\n",
            "\n",
            "37. title: \u001b[1;32mGetTPU.py\u001b[0m\n",
            "id: 1XoPq7g0EJP6QWjzZFbud2BTFiVYNhNSm\n",
            "\n",
            "38. title: \u001b[1;32mBashColors.py\u001b[0m\n",
            "id: 1uTG2mpi1TlGZgHd7leg28DJkbtKVQECL\n",
            "\n",
            "39. title: \u001b[1;32mMountGoogleDrive.py\u001b[0m\n",
            "id: 1j49p0EBwSrGltyDvtIlcXnI8f1EdQYm8\n",
            "\n",
            "40. title: \u001b[1;32mutils.py\u001b[0m\n",
            "id: 1UvS4vO5W8pNt3p2VhqO5f2sUFW9EXF76\n",
            "\n",
            "41. title: \u001b[1;32mtd3_torch.py\u001b[0m\n",
            "id: 1UxkNbbgWp9OVAfukj1FoshziuanWvQNc\n",
            "\n",
            "42. title: \u001b[1;32mnetworks.py\u001b[0m\n",
            "id: 1V-OwctPnAfci5Lp14TBSDIJlsjbUuEZM\n",
            "\n",
            "43. title: \u001b[1;32mmain_td3.py\u001b[0m\n",
            "id: 1V9cljc_KQQZD6CYgjPyeJSSQo6_eTuvl\n",
            "\n",
            "44. title: \u001b[1;32mbuffer.py\u001b[0m\n",
            "id: 1VLN5lAchnmfbAkQKBZ1SiPfDl1vBVRlI\n",
            "\n",
            "45. title: \u001b[1;32mutils.py\u001b[0m\n",
            "id: 1VLoVYefXJL1nCCriOGoYWWxJzH7paJb8\n",
            "\n",
            "46. title: \u001b[1;32msac_torch.py\u001b[0m\n",
            "id: 1VMOCt5FMgwKtnlYyRah0x_GFndhE67ZQ\n",
            "\n",
            "47. title: \u001b[1;32mnetworks.py\u001b[0m\n",
            "id: 1VRend57Mzmyf66l7sJOoMD7X4LyG6wJq\n",
            "\n",
            "48. title: \u001b[1;32mmain_sac.py\u001b[0m\n",
            "id: 1VTrM3rWGHPJLBooQZnhy2Uuls3fsNaSp\n",
            "\n",
            "49. title: \u001b[1;32mbuffer.py\u001b[0m\n",
            "id: 1VW6gSaIcjNN5ykUYb2MLZ1Qxq2ExMMB2\n",
            "\n",
            "50. title: \u001b[1;32mreinforce_torch.py\u001b[0m\n",
            "id: 1VYnNt9HJKpSZK3LMhznxLVf-_Wdgcd45\n",
            "\n",
            "51. title: \u001b[1;32mmain_lunar_lander_reinforce.py\u001b[0m\n",
            "id: 1VZJBd8e_idkDhKNJ9reHpcP6eIX0FbqX\n",
            "\n",
            "52. title: \u001b[1;32mlunar_lander_random.py\u001b[0m\n",
            "id: 1Vch0aJgpr3U17QfcF0kpLYSWZJA82d8D\n",
            "\n",
            "53. title: \u001b[1;32mprediction_cartpole_td_zero.py\u001b[0m\n",
            "id: 1VcusaXyoqdSDV3Z3bZTwjNEuZ6ZHAl_X\n",
            "\n",
            "54. title: \u001b[1;32mprediction_blackJack.py\u001b[0m\n",
            "id: 1VddQ6VAoFL1Jyqa2B7ao-HhGwTWGodol\n",
            "\n",
            "55. title: \u001b[1;32mmain_prediction_blackJack.py\u001b[0m\n",
            "id: 1Vlfb3GUIKQvn29bop38qJlGqJveMAc1h\n",
            "\n",
            "56. title: \u001b[1;32mmain_control_cartpole_q_learning.py\u001b[0m\n",
            "id: 1VlnCBKUHOUMTVFZX6XikVzdxLVlH1c6q\n",
            "\n",
            "57. title: \u001b[1;32mmain_control_blackJack_no_es.py\u001b[0m\n",
            "id: 1VmYdZUg3bOMHS5nW1Xi9dn1lteyHA5B5\n",
            "\n",
            "58. title: \u001b[1;32mcontrol_cartpole_q_learning.py\u001b[0m\n",
            "id: 1VtF-Pdu-6ERRsUcyn7xnDrnyvVV-4dbN\n",
            "\n",
            "59. title: \u001b[1;32mcontrol_blackJack_no_es.py\u001b[0m\n",
            "id: 1VuHsguu5UcyEuxIcP4cnoxClKzyx1Tdv\n",
            "\n",
            "60. title: \u001b[1;32mutils.py\u001b[0m\n",
            "id: 1X9mO6p4x4Rmdi_uclDa14MhUnU7q7lDw\n",
            "\n",
            "61. title: \u001b[1;32mnoise.py\u001b[0m\n",
            "id: 1XJQBpzCuYdOmwNxkgLMTuxcBSk0TofQ8\n",
            "\n",
            "62. title: \u001b[1;32mnetworks.py\u001b[0m\n",
            "id: 1XMWgbr_IeKK7-xKNCbcK8Vfgd2kjvI68\n",
            "\n",
            "63. title: \u001b[1;32mmain_ddpg.py\u001b[0m\n",
            "id: 1XRcvPXag09tA0_4J_B6KIrf6TRhAs8u4\n",
            "\n",
            "64. title: \u001b[1;32mddpg_torch.py\u001b[0m\n",
            "id: 1XU9oqp5kI_QDO315SpdaiaYbssefC8_H\n",
            "\n",
            "65. title: \u001b[1;32mbuffer.py\u001b[0m\n",
            "id: 1XV2nVQUp5bYHKA5a3nlvRwzX1RZh8V__\n",
            "\n",
            "66. title: \u001b[1;32mutils.py\u001b[0m\n",
            "id: 1XYTptwMakaJ6QnTxECrDBOa3M65bl69t\n",
            "\n",
            "67. title: \u001b[1;32mmain_lunar_lander_actor_critic.py\u001b[0m\n",
            "id: 1XYUNuIsiQdo_Bvfr4g1BITHpSJRcFfQw\n",
            "\n",
            "68. title: \u001b[1;32mactor_critic_torch.py\u001b[0m\n",
            "id: 1XY_Vh2paZem3SvFmZSj9DP1HLRXZDcCt\n",
            "\n",
            "69. title: \u001b[1;32mPython_swift.ipynb\u001b[0m\n",
            "id: 11me3s2J0KTE81mkkZA-lVP9itq1YpKb-\n",
            "\n",
            "70. title: \u001b[1;32mPython_Notebook.ipynb\u001b[0m\n",
            "id: 11qzc3r6KIMp30gj95gh_THlOvJFcawJY\n",
            "\n",
            "71. title: \u001b[1;32mPython_Imports.ipynb\u001b[0m\n",
            "id: 11tGq0mPT9QRXRVCmU8mrizb6384DziHI\n",
            "\n",
            "72. title: \u001b[1;32mGDriveFileUtilities.py\u001b[0m\n",
            "id: 1wBGfLQB3XKyInQItpsa4CKwurwYZhlTY\n",
            "\n",
            "73. title: \u001b[1;32mPythonFiles\u001b[0m\n",
            "id: 1lT4BXbrPWKY_pBV4PrWeJHJvAjz8a0zv\n",
            "\n",
            "74. title: \u001b[1;32mPython_Integration_swift.ipynb\u001b[0m\n",
            "id: 11n7Ti-IMt_meV1KhXoIlHhPw9DmKSzAQ\n",
            "\n",
            "75. title: \u001b[1;32mPython_swift.ipynb\u001b[0m\n",
            "id: 1gim3PgBafpbpaCsO64ZrBdFiORrMAzFX\n",
            "\n"
          ]
        }
      ],
      "source": [
        "# Listing files in Google Drive\n",
        "# Import PyDrive and associated libraries.\n",
        "# This only needs to be done once per notebook.\n",
        "from pydrive.auth import GoogleAuth\n",
        "from pydrive.drive import GoogleDrive\n",
        "from google.colab import auth\n",
        "from oauth2client.client import GoogleCredentials\n",
        "\n",
        "# Authenticate and create the PyDrive client.\n",
        "# This only needs to be done once per notebook.\n",
        "auth.authenticate_user()\n",
        "gauth = GoogleAuth()\n",
        "gauth.credentials = GoogleCredentials.get_application_default()\n",
        "drive = GoogleDrive(gauth)\n",
        "from BashColors import C\n",
        "\n",
        "# List .txt files in the root.\n",
        "#\n",
        "# Search query reference:\n",
        "# https://developers.google.com/drive/v2/web/search-parameters\n",
        "listed = drive.ListFile(\n",
        "    {'q': \"title contains '.py' \"}).GetList()\n",
        "count=0\n",
        "for file in listed:\n",
        "    count+=1\n",
        "    name=format(file['title'])\n",
        "    id=format(file['id'])\n",
        "\n",
        "    print(f'{count}. title: {C.BGreen}{name}{C.ColorOff}')\n",
        "    print('id: {}\\n'.format(file['id']))\n",
        "    "
      ]
    },
    {
      "cell_type": "code",
      "execution_count": 8,
      "metadata": {
        "id": "av1zOdR6Ro0n"
      },
      "outputs": [],
      "source": [
        "import io\n",
        "import google.auth\n",
        "from googleapiclient.discovery import build\n",
        "from googleapiclient.errors import HttpError\n",
        "from googleapiclient.http import MediaIoBaseDownload\n",
        "\n",
        "\n",
        "def download_file(real_file_id):\n",
        "    \"\"\"Downloads a file\n",
        "    Args:\n",
        "        real_file_id: ID of the file to download\n",
        "    Returns : IO object with location.\n",
        "\n",
        "    Load pre-authorized user credentials from the environment.\n",
        "    TODO(developer) - See https://developers.google.com/identity\n",
        "    for guides on implementing OAuth2 for the application.\n",
        "    \"\"\"\n",
        "    creds, _ = google.auth.default()\n",
        "\n",
        "    try:\n",
        "        # create drive api client\n",
        "        service = build('drive', 'v3', credentials=creds)\n",
        "\n",
        "        file_id = real_file_id\n",
        "\n",
        "        # pylint: disable=maybe-no-member\n",
        "        request = service.files().get_media(fileId=file_id)\n",
        "        file = io.BytesIO()\n",
        "        downloader = MediaIoBaseDownload(file, request)\n",
        "        done = False\n",
        "        while done is False:\n",
        "            status, done = downloader.next_chunk()\n",
        "            print(F'Download {int(status.progress() * 100)}.')\n",
        "\n",
        "    except HttpError as error:\n",
        "        print(F'An error occurred: {error}')\n",
        "        file = None\n",
        "\n",
        "    return file.getvalue()"
      ]
    },
    {
      "cell_type": "code",
      "source": [
        "fid='1XYUNuIsiQdo_Bvfr4g1BITHpSJRcFfQw'\n",
        "f=download_file(real_file_id=fid)\n",
        "print(f)"
      ],
      "metadata": {
        "colab": {
          "base_uri": "https://localhost:8080/"
        },
        "id": "gELrUJo5Z28w",
        "outputId": "8879b3f8-6a08-4a8a-9790-34775ec2f213"
      },
      "execution_count": 12,
      "outputs": [
        {
          "output_type": "stream",
          "name": "stdout",
          "text": [
            "Download 100.\n",
            "b\"import gym\\nimport numpy as np\\nfrom actor_critic_torch import Agent\\nfrom utils import plot_learning_curve\\n\\nif __name__ == '__main__':\\n    env = gym.make('LunarLander-v2')\\n    agent = Agent(gamma=0.99, lr=5e-6, input_dims=[8], n_actions=4,\\n                  fc1_dims=2048, fc2_dims=1536)\\n    n_games = 3000\\n\\n    fname = 'ACTOR_CRITIC_' + 'lunar_lander_' + str(agent.fc1_dims) + \\\\\\n            '_fc1_dims_' + str(agent.fc2_dims) + '_fc2_dims_lr' + str(agent.lr) +\\\\\\n            '_' + str(n_games) + 'games'\\n    figure_file = 'plots/' + fname + '.png'\\n\\n    scores = []\\n    for i in range(n_games):\\n        done = False\\n        observation = env.reset()\\n        score = 0\\n        while not done:\\n            action = agent.choose_action(observation)\\n            observation_, reward, done, info = env.step(action)\\n            score += reward\\n            agent.learn(observation, reward, observation_, done)\\n            observation = observation_\\n        scores.append(score)\\n\\n        avg_score = np.mean(scores[-100:])\\n        print('episode ', i, 'score %.1f' % score,\\n                'average score %.1f' % avg_score)\\n\\n    x = [i+1 for i in range(n_games)]\\n    plot_learning_curve(x, scores, figure_file)\\n\\n\"\n"
          ]
        }
      ]
    },
    {
      "cell_type": "code",
      "execution_count": 10,
      "metadata": {
        "id": "MUEZqIUD8cCL"
      },
      "outputs": [],
      "source": [
        "breaks()"
      ]
    },
    {
      "cell_type": "markdown",
      "metadata": {
        "id": "P3KX0Sm0E2sF"
      },
      "source": [
        "# Downloading files or importing data from Google Drive\n",
        "\n",
        "* [PyDrive reference](https://pythonhosted.org/PyDrive/)\n",
        "* [Google Drive API reference](https://developers.google.com/drive/v3/reference/)"
      ]
    },
    {
      "cell_type": "code",
      "execution_count": 11,
      "metadata": {
        "colab": {
          "base_uri": "https://localhost:8080/",
          "height": 645
        },
        "id": "TbRbQAYqPTci",
        "outputId": "c2e33ae4-45c4-4f21-e5fe-dcc02bce6569"
      },
      "outputs": [
        {
          "output_type": "error",
          "ename": "ApiRequestError",
          "evalue": "ignored",
          "traceback": [
            "\u001b[0;31m---------------------------------------------------------------------------\u001b[0m",
            "\u001b[0;31mHttpError\u001b[0m                                 Traceback (most recent call last)",
            "\u001b[0;32m/usr/local/lib/python3.7/dist-packages/pydrive/files.py\u001b[0m in \u001b[0;36mFetchMetadata\u001b[0;34m(self, fields, fetch_all)\u001b[0m\n\u001b[1;32m    236\u001b[0m                                                  fields=fields)\\\n\u001b[0;32m--> 237\u001b[0;31m           \u001b[0;34m.\u001b[0m\u001b[0mexecute\u001b[0m\u001b[0;34m(\u001b[0m\u001b[0mhttp\u001b[0m\u001b[0;34m=\u001b[0m\u001b[0mself\u001b[0m\u001b[0;34m.\u001b[0m\u001b[0mhttp\u001b[0m\u001b[0;34m)\u001b[0m\u001b[0;34m\u001b[0m\u001b[0;34m\u001b[0m\u001b[0m\n\u001b[0m\u001b[1;32m    238\u001b[0m       \u001b[0;32mexcept\u001b[0m \u001b[0merrors\u001b[0m\u001b[0;34m.\u001b[0m\u001b[0mHttpError\u001b[0m \u001b[0;32mas\u001b[0m \u001b[0merror\u001b[0m\u001b[0;34m:\u001b[0m\u001b[0;34m\u001b[0m\u001b[0;34m\u001b[0m\u001b[0m\n",
            "\u001b[0;32m/usr/local/lib/python3.7/dist-packages/googleapiclient/_helpers.py\u001b[0m in \u001b[0;36mpositional_wrapper\u001b[0;34m(*args, **kwargs)\u001b[0m\n\u001b[1;32m    133\u001b[0m                     \u001b[0mlogger\u001b[0m\u001b[0;34m.\u001b[0m\u001b[0mwarning\u001b[0m\u001b[0;34m(\u001b[0m\u001b[0mmessage\u001b[0m\u001b[0;34m)\u001b[0m\u001b[0;34m\u001b[0m\u001b[0;34m\u001b[0m\u001b[0m\n\u001b[0;32m--> 134\u001b[0;31m             \u001b[0;32mreturn\u001b[0m \u001b[0mwrapped\u001b[0m\u001b[0;34m(\u001b[0m\u001b[0;34m*\u001b[0m\u001b[0margs\u001b[0m\u001b[0;34m,\u001b[0m \u001b[0;34m**\u001b[0m\u001b[0mkwargs\u001b[0m\u001b[0;34m)\u001b[0m\u001b[0;34m\u001b[0m\u001b[0;34m\u001b[0m\u001b[0m\n\u001b[0m\u001b[1;32m    135\u001b[0m \u001b[0;34m\u001b[0m\u001b[0m\n",
            "\u001b[0;32m/usr/local/lib/python3.7/dist-packages/googleapiclient/http.py\u001b[0m in \u001b[0;36mexecute\u001b[0;34m(self, http, num_retries)\u001b[0m\n\u001b[1;32m    914\u001b[0m         \u001b[0;32mif\u001b[0m \u001b[0mresp\u001b[0m\u001b[0;34m.\u001b[0m\u001b[0mstatus\u001b[0m \u001b[0;34m>=\u001b[0m \u001b[0;36m300\u001b[0m\u001b[0;34m:\u001b[0m\u001b[0;34m\u001b[0m\u001b[0;34m\u001b[0m\u001b[0m\n\u001b[0;32m--> 915\u001b[0;31m             \u001b[0;32mraise\u001b[0m \u001b[0mHttpError\u001b[0m\u001b[0;34m(\u001b[0m\u001b[0mresp\u001b[0m\u001b[0;34m,\u001b[0m \u001b[0mcontent\u001b[0m\u001b[0;34m,\u001b[0m \u001b[0muri\u001b[0m\u001b[0;34m=\u001b[0m\u001b[0mself\u001b[0m\u001b[0;34m.\u001b[0m\u001b[0muri\u001b[0m\u001b[0;34m)\u001b[0m\u001b[0;34m\u001b[0m\u001b[0;34m\u001b[0m\u001b[0m\n\u001b[0m\u001b[1;32m    916\u001b[0m         \u001b[0;32mreturn\u001b[0m \u001b[0mself\u001b[0m\u001b[0;34m.\u001b[0m\u001b[0mpostproc\u001b[0m\u001b[0;34m(\u001b[0m\u001b[0mresp\u001b[0m\u001b[0;34m,\u001b[0m \u001b[0mcontent\u001b[0m\u001b[0;34m)\u001b[0m\u001b[0;34m\u001b[0m\u001b[0;34m\u001b[0m\u001b[0m\n",
            "\u001b[0;31mHttpError\u001b[0m: <HttpError 404 when requesting https://www.googleapis.com/drive/v2/files/REPLACE_WITH_YOUR_FILE_ID?alt=json returned \"File not found: REPLACE_WITH_YOUR_FILE_ID\". Details: \"File not found: REPLACE_WITH_YOUR_FILE_ID\">",
            "\nDuring handling of the above exception, another exception occurred:\n",
            "\u001b[0;31mApiRequestError\u001b[0m                           Traceback (most recent call last)",
            "\u001b[0;32m<ipython-input-11-ad402f93a98a>\u001b[0m in \u001b[0;36m<module>\u001b[0;34m\u001b[0m\n\u001b[1;32m     18\u001b[0m \u001b[0mfile_id\u001b[0m \u001b[0;34m=\u001b[0m \u001b[0;34m'REPLACE_WITH_YOUR_FILE_ID'\u001b[0m\u001b[0;34m\u001b[0m\u001b[0;34m\u001b[0m\u001b[0m\n\u001b[1;32m     19\u001b[0m \u001b[0mdownloaded\u001b[0m \u001b[0;34m=\u001b[0m \u001b[0mdrive\u001b[0m\u001b[0;34m.\u001b[0m\u001b[0mCreateFile\u001b[0m\u001b[0;34m(\u001b[0m\u001b[0;34m{\u001b[0m\u001b[0;34m'id'\u001b[0m\u001b[0;34m:\u001b[0m \u001b[0mfile_id\u001b[0m\u001b[0;34m}\u001b[0m\u001b[0;34m)\u001b[0m\u001b[0;34m\u001b[0m\u001b[0;34m\u001b[0m\u001b[0m\n\u001b[0;32m---> 20\u001b[0;31m \u001b[0mprint\u001b[0m\u001b[0;34m(\u001b[0m\u001b[0;34m'Downloaded content \"{}\"'\u001b[0m\u001b[0;34m.\u001b[0m\u001b[0mformat\u001b[0m\u001b[0;34m(\u001b[0m\u001b[0mdownloaded\u001b[0m\u001b[0;34m.\u001b[0m\u001b[0mGetContentString\u001b[0m\u001b[0;34m(\u001b[0m\u001b[0;34m)\u001b[0m\u001b[0;34m)\u001b[0m\u001b[0;34m)\u001b[0m\u001b[0;34m\u001b[0m\u001b[0;34m\u001b[0m\u001b[0m\n\u001b[0m",
            "\u001b[0;32m/usr/local/lib/python3.7/dist-packages/pydrive/files.py\u001b[0m in \u001b[0;36mGetContentString\u001b[0;34m(self, mimetype, encoding, remove_bom)\u001b[0m\n\u001b[1;32m    191\u001b[0m                     \u001b[0mtype\u001b[0m\u001b[0;34m(\u001b[0m\u001b[0mself\u001b[0m\u001b[0;34m.\u001b[0m\u001b[0mcontent\u001b[0m\u001b[0;34m)\u001b[0m \u001b[0;32mis\u001b[0m \u001b[0;32mnot\u001b[0m \u001b[0mio\u001b[0m\u001b[0;34m.\u001b[0m\u001b[0mBytesIO\u001b[0m \u001b[0;32mor\u001b[0m\u001b[0;31m \u001b[0m\u001b[0;31m\\\u001b[0m\u001b[0;34m\u001b[0m\u001b[0;34m\u001b[0m\u001b[0m\n\u001b[1;32m    192\u001b[0m                     \u001b[0mself\u001b[0m\u001b[0;34m.\u001b[0m\u001b[0mhas_bom\u001b[0m \u001b[0;34m==\u001b[0m \u001b[0mremove_bom\u001b[0m\u001b[0;34m:\u001b[0m\u001b[0;34m\u001b[0m\u001b[0;34m\u001b[0m\u001b[0m\n\u001b[0;32m--> 193\u001b[0;31m       \u001b[0mself\u001b[0m\u001b[0;34m.\u001b[0m\u001b[0mFetchContent\u001b[0m\u001b[0;34m(\u001b[0m\u001b[0mmimetype\u001b[0m\u001b[0;34m,\u001b[0m \u001b[0mremove_bom\u001b[0m\u001b[0;34m)\u001b[0m\u001b[0;34m\u001b[0m\u001b[0;34m\u001b[0m\u001b[0m\n\u001b[0m\u001b[1;32m    194\u001b[0m     \u001b[0;32mreturn\u001b[0m \u001b[0mself\u001b[0m\u001b[0;34m.\u001b[0m\u001b[0mcontent\u001b[0m\u001b[0;34m.\u001b[0m\u001b[0mgetvalue\u001b[0m\u001b[0;34m(\u001b[0m\u001b[0;34m)\u001b[0m\u001b[0;34m.\u001b[0m\u001b[0mdecode\u001b[0m\u001b[0;34m(\u001b[0m\u001b[0mencoding\u001b[0m\u001b[0;34m)\u001b[0m\u001b[0;34m\u001b[0m\u001b[0;34m\u001b[0m\u001b[0m\n\u001b[1;32m    195\u001b[0m \u001b[0;34m\u001b[0m\u001b[0m\n",
            "\u001b[0;32m/usr/local/lib/python3.7/dist-packages/pydrive/files.py\u001b[0m in \u001b[0;36m_decorated\u001b[0;34m(self, *args, **kwargs)\u001b[0m\n\u001b[1;32m     40\u001b[0m   \u001b[0;32mdef\u001b[0m \u001b[0m_decorated\u001b[0m\u001b[0;34m(\u001b[0m\u001b[0mself\u001b[0m\u001b[0;34m,\u001b[0m \u001b[0;34m*\u001b[0m\u001b[0margs\u001b[0m\u001b[0;34m,\u001b[0m \u001b[0;34m**\u001b[0m\u001b[0mkwargs\u001b[0m\u001b[0;34m)\u001b[0m\u001b[0;34m:\u001b[0m\u001b[0;34m\u001b[0m\u001b[0;34m\u001b[0m\u001b[0m\n\u001b[1;32m     41\u001b[0m     \u001b[0;32mif\u001b[0m \u001b[0;32mnot\u001b[0m \u001b[0mself\u001b[0m\u001b[0;34m.\u001b[0m\u001b[0muploaded\u001b[0m\u001b[0;34m:\u001b[0m\u001b[0;34m\u001b[0m\u001b[0;34m\u001b[0m\u001b[0m\n\u001b[0;32m---> 42\u001b[0;31m       \u001b[0mself\u001b[0m\u001b[0;34m.\u001b[0m\u001b[0mFetchMetadata\u001b[0m\u001b[0;34m(\u001b[0m\u001b[0;34m)\u001b[0m\u001b[0;34m\u001b[0m\u001b[0;34m\u001b[0m\u001b[0m\n\u001b[0m\u001b[1;32m     43\u001b[0m     \u001b[0;32mreturn\u001b[0m \u001b[0mdecoratee\u001b[0m\u001b[0;34m(\u001b[0m\u001b[0mself\u001b[0m\u001b[0;34m,\u001b[0m \u001b[0;34m*\u001b[0m\u001b[0margs\u001b[0m\u001b[0;34m,\u001b[0m \u001b[0;34m**\u001b[0m\u001b[0mkwargs\u001b[0m\u001b[0;34m)\u001b[0m\u001b[0;34m\u001b[0m\u001b[0;34m\u001b[0m\u001b[0m\n\u001b[1;32m     44\u001b[0m   \u001b[0;32mreturn\u001b[0m \u001b[0m_decorated\u001b[0m\u001b[0;34m\u001b[0m\u001b[0;34m\u001b[0m\u001b[0m\n",
            "\u001b[0;32m/usr/local/lib/python3.7/dist-packages/pydrive/auth.py\u001b[0m in \u001b[0;36m_decorated\u001b[0;34m(self, *args, **kwargs)\u001b[0m\n\u001b[1;32m     73\u001b[0m       \u001b[0mself\u001b[0m\u001b[0;34m.\u001b[0m\u001b[0mhttp\u001b[0m \u001b[0;34m=\u001b[0m \u001b[0mself\u001b[0m\u001b[0;34m.\u001b[0m\u001b[0mauth\u001b[0m\u001b[0;34m.\u001b[0m\u001b[0mGet_Http_Object\u001b[0m\u001b[0;34m(\u001b[0m\u001b[0;34m)\u001b[0m\u001b[0;34m\u001b[0m\u001b[0;34m\u001b[0m\u001b[0m\n\u001b[1;32m     74\u001b[0m \u001b[0;34m\u001b[0m\u001b[0m\n\u001b[0;32m---> 75\u001b[0;31m     \u001b[0;32mreturn\u001b[0m \u001b[0mdecoratee\u001b[0m\u001b[0;34m(\u001b[0m\u001b[0mself\u001b[0m\u001b[0;34m,\u001b[0m \u001b[0;34m*\u001b[0m\u001b[0margs\u001b[0m\u001b[0;34m,\u001b[0m \u001b[0;34m**\u001b[0m\u001b[0mkwargs\u001b[0m\u001b[0;34m)\u001b[0m\u001b[0;34m\u001b[0m\u001b[0;34m\u001b[0m\u001b[0m\n\u001b[0m\u001b[1;32m     76\u001b[0m   \u001b[0;32mreturn\u001b[0m \u001b[0m_decorated\u001b[0m\u001b[0;34m\u001b[0m\u001b[0;34m\u001b[0m\u001b[0m\n\u001b[1;32m     77\u001b[0m \u001b[0;34m\u001b[0m\u001b[0m\n",
            "\u001b[0;32m/usr/local/lib/python3.7/dist-packages/pydrive/files.py\u001b[0m in \u001b[0;36mFetchMetadata\u001b[0;34m(self, fields, fetch_all)\u001b[0m\n\u001b[1;32m    237\u001b[0m           \u001b[0;34m.\u001b[0m\u001b[0mexecute\u001b[0m\u001b[0;34m(\u001b[0m\u001b[0mhttp\u001b[0m\u001b[0;34m=\u001b[0m\u001b[0mself\u001b[0m\u001b[0;34m.\u001b[0m\u001b[0mhttp\u001b[0m\u001b[0;34m)\u001b[0m\u001b[0;34m\u001b[0m\u001b[0;34m\u001b[0m\u001b[0m\n\u001b[1;32m    238\u001b[0m       \u001b[0;32mexcept\u001b[0m \u001b[0merrors\u001b[0m\u001b[0;34m.\u001b[0m\u001b[0mHttpError\u001b[0m \u001b[0;32mas\u001b[0m \u001b[0merror\u001b[0m\u001b[0;34m:\u001b[0m\u001b[0;34m\u001b[0m\u001b[0;34m\u001b[0m\u001b[0m\n\u001b[0;32m--> 239\u001b[0;31m         \u001b[0;32mraise\u001b[0m \u001b[0mApiRequestError\u001b[0m\u001b[0;34m(\u001b[0m\u001b[0merror\u001b[0m\u001b[0;34m)\u001b[0m\u001b[0;34m\u001b[0m\u001b[0;34m\u001b[0m\u001b[0m\n\u001b[0m\u001b[1;32m    240\u001b[0m       \u001b[0;32melse\u001b[0m\u001b[0;34m:\u001b[0m\u001b[0;34m\u001b[0m\u001b[0;34m\u001b[0m\u001b[0m\n\u001b[1;32m    241\u001b[0m         \u001b[0mself\u001b[0m\u001b[0;34m.\u001b[0m\u001b[0muploaded\u001b[0m \u001b[0;34m=\u001b[0m \u001b[0;32mTrue\u001b[0m\u001b[0;34m\u001b[0m\u001b[0;34m\u001b[0m\u001b[0m\n",
            "\u001b[0;31mApiRequestError\u001b[0m: <HttpError 404 when requesting https://www.googleapis.com/drive/v2/files/REPLACE_WITH_YOUR_FILE_ID?alt=json returned \"File not found: REPLACE_WITH_YOUR_FILE_ID\". Details: \"File not found: REPLACE_WITH_YOUR_FILE_ID\">"
          ]
        }
      ],
      "source": [
        "# Import PyDrive and associated libraries.\n",
        "# This only needs to be done once per notebook.\n",
        "from pydrive.auth import GoogleAuth\n",
        "from pydrive.drive import GoogleDrive\n",
        "from google.colab import auth\n",
        "from oauth2client.client import GoogleCredentials\n",
        "\n",
        "# Authenticate and create the PyDrive client.\n",
        "# This only needs to be done once per notebook.\n",
        "auth.authenticate_user()\n",
        "gauth = GoogleAuth()\n",
        "gauth.credentials = GoogleCredentials.get_application_default()\n",
        "drive = GoogleDrive(gauth)\n",
        "\n",
        "# Download a file based on its file ID.\n",
        "#\n",
        "# A file ID looks like: laggVyWshwcyP6kEI-y_W3P8D26sz\n",
        "file_id = 'REPLACE_WITH_YOUR_FILE_ID'\n",
        "downloaded = drive.CreateFile({'id': file_id})\n",
        "print('Downloaded content \"{}\"'.format(downloaded.GetContentString()))"
      ]
    },
    {
      "cell_type": "markdown",
      "metadata": {
        "id": "hauvGV4hV-Mh"
      },
      "source": [
        "# Downloading files to your local file system\n",
        "\n",
        "`files.download` will invoke a browser download of the file to your local computer.\n"
      ]
    },
    {
      "cell_type": "code",
      "execution_count": null,
      "metadata": {
        "id": "p2E4EKhCWEC5"
      },
      "outputs": [],
      "source": [
        "from google.colab import files\n",
        "\n",
        "with open('example.txt', 'w') as f:\n",
        "  f.write('some content')\n",
        "\n",
        "files.download('example.txt')"
      ]
    }
  ],
  "metadata": {
    "colab": {
      "collapsed_sections": [],
      "name": "Snippets",
      "provenance": [],
      "include_colab_link": true
    },
    "kernelspec": {
      "display_name": "Python 3 (ipykernel)",
      "language": "python",
      "name": "python3"
    },
    "language_info": {
      "codemirror_mode": {
        "name": "ipython",
        "version": 3
      },
      "file_extension": ".py",
      "mimetype": "text/x-python",
      "name": "python",
      "nbconvert_exporter": "python",
      "pygments_lexer": "ipython3",
      "version": "3.7.12"
    }
  },
  "nbformat": 4,
  "nbformat_minor": 0
}