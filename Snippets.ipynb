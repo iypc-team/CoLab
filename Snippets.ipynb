{
 "cells": [
  {
   "cell_type": "markdown",
   "metadata": {
    "colab_type": "text",
    "id": "view-in-github"
   },
   "source": [
    "<a href=\"https://colab.research.google.com/github/iypc-team/CoLab/blob/master/Snippets.ipynb\" target=\"_parent\"><img src=\"https://colab.research.google.com/assets/colab-badge.svg\" alt=\"Open In Colab\"/></a>"
   ]
  },
  {
   "cell_type": "code",
   "execution_count": null,
   "metadata": {
    "colab": {
     "base_uri": "https://localhost:8080/"
    },
    "id": "zxov7ZeSVX0t",
    "outputId": "4baba8bb-2087-4be1-b690-08c04f50e84f"
   },
   "outputs": [],
   "source": [
    "print('Updated: 08/23/2022')"
   ]
  },
  {
   "cell_type": "code",
   "execution_count": null,
   "metadata": {
    "id": "6Y7nNP4d1P_r"
   },
   "outputs": [],
   "source": [
    "def breaks():\n",
    "    while True:\n",
    "        try:\n",
    "            q\n",
    "        except:\n",
    "            break"
   ]
  },
  {
   "cell_type": "code",
   "execution_count": null,
   "metadata": {},
   "outputs": [],
   "source": [
    "print(pathContent)\n",
    "pathGDrive"
   ]
  },
  {
   "cell_type": "code",
   "execution_count": null,
   "metadata": {
    "colab": {
     "base_uri": "https://localhost:8080/"
    },
    "id": "FSwOK5vb0e4B",
    "outputId": "d3d2fa75-734f-4160-eae5-fae68ff01ab6"
   },
   "outputs": [],
   "source": [
    "# Mounting Google Drive in your VM\n",
    "from __future__ import absolute_import, print_function\n",
    "import os, shutil, tarfile, time\n",
    "from os.path import exists, join\n",
    "\n",
    "# This only needs to be done once in a notebook.\n",
    "from pydrive.auth import GoogleAuth\n",
    "from pydrive.drive import GoogleDrive\n",
    "from google.colab import auth\n",
    "from oauth2client.client import GoogleCredentials\n",
    "\n",
    "# Authenticate and create the PyDrive client.\n",
    "# This only needs to be done once in a notebook.\n",
    "auth.authenticate_user()\n",
    "gauth = GoogleAuth()\n",
    "gauth.credentials = GoogleCredentials.get_application_default()\n",
    "drive = GoogleDrive(gauth)\n",
    "\n",
    "pathContent=os.getcwd()\n",
    "pathGDrive=join(pathContent, 'gdrive')\n",
    "print(pathGDrive)\n",
    "\n",
    "bullshitPath = join(pathContent,'sample_data')\n",
    "if exists(bullshitPath):\n",
    "    shutil.rmtree(bullshitPath)\n",
    "\n",
    "from google.colab import drive as gdrive\n",
    "gdrive.mount('/content/gdrive', force_remount=True)\n",
    "\n",
    "colorsPath = '/content/gdrive/BashColors.py'\n",
    "sourcePath = '/content/gdrive/MyDrive/BashColors.py'\n",
    "if not exists(colorsPath):\n",
    "    shutil.copy2(sourcePath, pathContent)\n",
    "    import BashColors\n",
    "    from BashColors import C\n",
    "else:\n",
    "    # print(f'{basename(colorsPath)} exists')\n",
    "    import BashColors\n",
    "    from BashColors import C"
   ]
  },
  {
   "cell_type": "code",
   "execution_count": null,
   "metadata": {
    "id": "to5f2q3wraat"
   },
   "outputs": [],
   "source": [
    "# Saving data to Google Drive\n",
    "# Import PyDrive and associated libraries.\n",
    "\n",
    "\n",
    "# # Create & upload a text file.\n",
    "# uploaded = drive.CreateFile({'title': 'Sample file.txt'})\n",
    "# uploaded.SetContentString('Sample upload file content')\n",
    "# uploaded.Upload()\n",
    "# print('Uploaded file with ID {}'.format(uploaded.get('id')))"
   ]
  },
  {
   "cell_type": "markdown",
   "metadata": {
    "id": "hqJvrn8xsgd0"
   },
   "source": [
    "# Listing files in Google Drive"
   ]
  },
  {
   "cell_type": "code",
   "execution_count": null,
   "metadata": {
    "colab": {
     "base_uri": "https://localhost:8080/"
    },
    "id": "-f-hfkapsiPc",
    "outputId": "0d8931f1-0dd7-4511-ab31-21782a723641"
   },
   "outputs": [],
   "source": [
    "# Listing files in Google Drive\n",
    "# Import PyDrive and associated libraries.\n",
    "# This only needs to be done once per notebook.\n",
    "from pydrive.auth import GoogleAuth\n",
    "from pydrive.drive import GoogleDrive\n",
    "from google.colab import auth\n",
    "from oauth2client.client import GoogleCredentials\n",
    "\n",
    "# Authenticate and create the PyDrive client.\n",
    "# This only needs to be done once per notebook.\n",
    "auth.authenticate_user()\n",
    "gauth = GoogleAuth()\n",
    "gauth.credentials = GoogleCredentials.get_application_default()\n",
    "drive = GoogleDrive(gauth)\n",
    "from BashColors import C\n",
    "\n",
    "# List .txt files in the root.\n",
    "#\n",
    "# Search query reference:\n",
    "# https://developers.google.com/drive/v2/web/search-parameters\n",
    "listed = drive.ListFile(\n",
    "    {'q': \"title contains '*.py' and 'root' in parents\"}).GetList()\n",
    "count=0\n",
    "for file in listed:\n",
    "    count+=1\n",
    "    name=format(file['title'])\n",
    "    kind=format(file['kind'])\n",
    "    print(kind)\n",
    "    version=format(file['version'])\n",
    "\n",
    "    id=format(file['id'])\n",
    "    print('# _ =format(file )')\n",
    "    print(f'{count}. title: {C.BGreen}{name}{C.ColorOff}')\n",
    "    # print('type: {}'.format(file['typeName']))\n",
    "                # print('title {}, id {}'.format(file['title'], file['id']))\n",
    "    print('id: {}\\n'.format(file['id']))"
   ]
  },
  {
   "cell_type": "code",
   "execution_count": null,
   "metadata": {
    "id": "av1zOdR6Ro0n"
   },
   "outputs": [],
   "source": [
    "import io\n",
    "\n",
    "import google.auth\n",
    "from googleapiclient.discovery import build\n",
    "from googleapiclient.errors import HttpError\n",
    "from googleapiclient.http import MediaIoBaseDownload\n",
    "\n",
    "\n",
    "def download_file(real_file_id):\n",
    "    \"\"\"Downloads a file\n",
    "    Args:\n",
    "        real_file_id: ID of the file to download\n",
    "    Returns : IO object with location.\n",
    "\n",
    "    Load pre-authorized user credentials from the environment.\n",
    "    TODO(developer) - See https://developers.google.com/identity\n",
    "    for guides on implementing OAuth2 for the application.\n",
    "    \"\"\"\n",
    "    creds, _ = google.auth.default()\n",
    "\n",
    "    try:\n",
    "        # create drive api client\n",
    "        service = build('drive', 'v3', credentials=creds)\n",
    "\n",
    "        file_id = real_file_id\n",
    "\n",
    "        # pylint: disable=maybe-no-member\n",
    "        request = service.files().get_media(fileId=file_id)\n",
    "        file = io.BytesIO()\n",
    "        downloader = MediaIoBaseDownload(file, request)\n",
    "        done = False\n",
    "        while done is False:\n",
    "            status, done = downloader.next_chunk()\n",
    "            print(F'Download {int(status.progress() * 100)}.')\n",
    "\n",
    "    except HttpError as error:\n",
    "        print(F'An error occurred: {error}')\n",
    "        file = None\n",
    "\n",
    "    return file.getvalue()"
   ]
  },
  {
   "cell_type": "code",
   "execution_count": null,
   "metadata": {
    "id": "MUEZqIUD8cCL"
   },
   "outputs": [],
   "source": [
    "breaks()"
   ]
  },
  {
   "cell_type": "markdown",
   "metadata": {
    "id": "P3KX0Sm0E2sF"
   },
   "source": [
    "# Downloading files or importing data from Google Drive\n",
    "\n",
    "* [PyDrive reference](https://pythonhosted.org/PyDrive/)\n",
    "* [Google Drive API reference](https://developers.google.com/drive/v3/reference/)"
   ]
  },
  {
   "cell_type": "code",
   "execution_count": null,
   "metadata": {
    "colab": {
     "base_uri": "https://localhost:8080/",
     "height": 645
    },
    "id": "TbRbQAYqPTci",
    "outputId": "613caad0-efaf-4e59-a069-b5dd57af896b"
   },
   "outputs": [],
   "source": [
    "# Import PyDrive and associated libraries.\n",
    "# This only needs to be done once per notebook.\n",
    "from pydrive.auth import GoogleAuth\n",
    "from pydrive.drive import GoogleDrive\n",
    "from google.colab import auth\n",
    "from oauth2client.client import GoogleCredentials\n",
    "\n",
    "# Authenticate and create the PyDrive client.\n",
    "# This only needs to be done once per notebook.\n",
    "auth.authenticate_user()\n",
    "gauth = GoogleAuth()\n",
    "gauth.credentials = GoogleCredentials.get_application_default()\n",
    "drive = GoogleDrive(gauth)\n",
    "\n",
    "# Download a file based on its file ID.\n",
    "#\n",
    "# A file ID looks like: laggVyWshwcyP6kEI-y_W3P8D26sz\n",
    "file_id = 'REPLACE_WITH_YOUR_FILE_ID'\n",
    "downloaded = drive.CreateFile({'id': file_id})\n",
    "print('Downloaded content \"{}\"'.format(downloaded.GetContentString()))"
   ]
  },
  {
   "cell_type": "markdown",
   "metadata": {
    "id": "hauvGV4hV-Mh"
   },
   "source": [
    "# Downloading files to your local file system\n",
    "\n",
    "`files.download` will invoke a browser download of the file to your local computer.\n"
   ]
  },
  {
   "cell_type": "code",
   "execution_count": null,
   "metadata": {
    "id": "p2E4EKhCWEC5"
   },
   "outputs": [],
   "source": [
    "from google.colab import files\n",
    "\n",
    "with open('example.txt', 'w') as f:\n",
    "  f.write('some content')\n",
    "\n",
    "files.download('example.txt')"
   ]
  }
 ],
 "metadata": {
  "colab": {
   "collapsed_sections": [],
   "include_colab_link": true,
   "name": "Snippets",
   "provenance": []
  },
  "kernelspec": {
   "display_name": "Python 3 (ipykernel)",
   "language": "python",
   "name": "python3"
  },
  "language_info": {
   "codemirror_mode": {
    "name": "ipython",
    "version": 3
   },
   "file_extension": ".py",
   "mimetype": "text/x-python",
   "name": "python",
   "nbconvert_exporter": "python",
   "pygments_lexer": "ipython3",
   "version": "3.7.12"
  }
 },
 "nbformat": 4,
 "nbformat_minor": 1
}
