{
  "nbformat": 4,
  "nbformat_minor": 0,
  "metadata": {
    "accelerator": "TPU",
    "colab": {
      "name": "Import_Files_To_Colab.ipynb",
      "provenance": [],
      "private_outputs": true,
      "collapsed_sections": [],
      "machine_shape": "hm",
      "include_colab_link": true
    },
    "kernelspec": {
      "display_name": "Python 3",
      "name": "python3"
    }
  },
  "cells": [
    {
      "cell_type": "markdown",
      "metadata": {
        "id": "view-in-github",
        "colab_type": "text"
      },
      "source": [
        "<a href=\"https://colab.research.google.com/github/iypc-team/CoLab/blob/master/Import_Files_To_Colab.ipynb\" target=\"_parent\"><img src=\"https://colab.research.google.com/assets/colab-badge.svg\" alt=\"Open In Colab\"/></a>"
      ]
    },
    {
      "cell_type": "code",
      "metadata": {
        "id": "oKZqCw-cUZao"
      },
      "source": [
        "import glob, os, shutil\n",
        "from pathlib import Path\n",
        "from os.path import abspath\n",
        "from google.colab import drive\n",
        "drive.flush_and_unmount()\n",
        "drive.mount('/content/drive', force_remount=True)\n",
        "contentPath='/content'\n",
        "drivePath = '/content/drive'\n",
        "myDrivePath = '/content/drive/My Drive'\n",
        "os.chdir(myDrivePath)\n",
        "importFiles=glob.glob('*.py')"
      ],
      "execution_count": null,
      "outputs": []
    },
    {
      "cell_type": "code",
      "metadata": {
        "id": "zoSZYl7Ugo1q"
      },
      "source": [
        "for fil in importFiles:\n",
        "    fullPath=abspath(fil)\n",
        "    sourcePath=os.path.join(myDrivePath, fullPath)\n",
        "    destinationPath=os.path.join(contentPath, fil)\n",
        "    shutil.copy(sourcePath,destinationPath)\n",
        "print('ok')"
      ],
      "execution_count": null,
      "outputs": []
    },
    {
      "cell_type": "code",
      "metadata": {
        "id": "ByNsp4VqqEfa"
      },
      "source": [
        "print(Path.cwd())\n",
        "global np\n",
        "import GetTPU\n",
        "from GetTPU import gt\n",
        "from BashColors import C\n",
        "import tensorflow as tf\n",
        "import numpy as np\n",
        "import FunctionTimer as ft\n",
        "from FunctionTimer import *\n",
        "os.chdir(drivePath)\n",
        "print(Path.cwd())\n",
        "startTime=ft.getTimeStamp()\n",
        "gt.startTPU(clearOutput=False)\n",
        "endTime=ft.getTimeStamp()\n",
        "ft.tpuTiming(startTime, end=endTime)\n",
        "tpuStrategy=gt.tpu_strategy"
      ],
      "execution_count": null,
      "outputs": []
    }
  ]
}