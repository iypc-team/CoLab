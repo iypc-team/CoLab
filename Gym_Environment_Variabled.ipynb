{
  "nbformat": 4,
  "nbformat_minor": 0,
  "metadata": {
    "colab": {
      "name": "Gym_Environment_Variabled.ipynb",
      "provenance": [],
      "private_outputs": true,
      "collapsed_sections": [],
      "include_colab_link": true
    },
    "kernelspec": {
      "name": "python3",
      "display_name": "Python 3"
    }
  },
  "cells": [
    {
      "cell_type": "markdown",
      "metadata": {
        "id": "view-in-github",
        "colab_type": "text"
      },
      "source": [
        "<a href=\"https://colab.research.google.com/github/iypc-team/CoLab/blob/master/Gym_Environment_Variabled.ipynb\" target=\"_parent\"><img src=\"https://colab.research.google.com/assets/colab-badge.svg\" alt=\"Open In Colab\"/></a>"
      ]
    },
    {
      "cell_type": "code",
      "metadata": {
        "id": "Zbk_KR6r27Ox",
        "colab_type": "code",
        "colab": {}
      },
      "source": [
        "import gym\n",
        "from gym.envs import box2d"
      ],
      "execution_count": null,
      "outputs": []
    },
    {
      "cell_type": "code",
      "metadata": {
        "id": "KQVVTd4w6KQp",
        "colab_type": "code",
        "colab": {}
      },
      "source": [
        "from gym import envs\n",
        "allEnvironments = envs.registry.all()\n",
        "nextEnv = 0\n",
        "for e in allEnvironments:\n",
        "    if not e.id.__contains__('Mountain'):\n",
        "        continue\n",
        "    print(e.id)\n",
        "    print(\"entry_point:\", e.entry_point)\n",
        "    base = e.make()\n",
        "    print('action_space:', base.action_space)\n",
        "\n",
        "    print('metadata:', base.metadata)\n",
        "    print(\"max_episode_steps:\", e.max_episode_steps)\n",
        "    print(\"reward_threshold:\", e.reward_threshold)\n",
        "    print(\"nondeterministic:\", e.nondeterministic)\n",
        "    # print(\"tags:\", e.tags)\n",
        "    envNamed = [env_spec.id for env_spec in allEnvironments]\n",
        "    newEnv = gym.make(envNamed[nextEnv])\n",
        "\n",
        "    nextEnv += 1\n",
        "    print()"
      ],
      "execution_count": null,
      "outputs": []
    },
    {
      "cell_type": "code",
      "metadata": {
        "id": "Dmy-ol2AlgCI",
        "colab_type": "code",
        "colab": {}
      },
      "source": [
        ""
      ],
      "execution_count": null,
      "outputs": []
    }
  ]
}