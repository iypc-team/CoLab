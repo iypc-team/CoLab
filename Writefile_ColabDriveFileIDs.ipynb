{
  "nbformat": 4,
  "nbformat_minor": 0,
  "metadata": {
    "colab": {
      "name": "Writefile_ColabDriveFileIDs.ipynb",
      "private_outputs": true,
      "provenance": [],
      "collapsed_sections": [],
      "authorship_tag": "ABX9TyNTyrN82ViOFF+PDcZKy2wL",
      "include_colab_link": true
    },
    "kernelspec": {
      "name": "python3",
      "display_name": "Python 3"
    },
    "language_info": {
      "name": "python"
    },
    "gpuClass": "standard",
    "accelerator": "TPU"
  },
  "cells": [
    {
      "cell_type": "markdown",
      "metadata": {
        "id": "view-in-github",
        "colab_type": "text"
      },
      "source": [
        "<a href=\"https://colab.research.google.com/github/iypc-team/CoLab/blob/master/Writefile_ColabDriveFileIDs.ipynb\" target=\"_parent\"><img src=\"https://colab.research.google.com/assets/colab-badge.svg\" alt=\"Open In Colab\"/></a>"
      ]
    },
    {
      "cell_type": "code",
      "source": [
        "# pip install --upgrade google-api-python-client google-auth-httplib2 google-auth-oauthlib"
      ],
      "metadata": {
        "id": "X5ughquELLim"
      },
      "execution_count": null,
      "outputs": []
    },
    {
      "cell_type": "code",
      "execution_count": null,
      "metadata": {
        "id": "LT8gxZkO7u6N"
      },
      "outputs": [],
      "source": [
        "# %%writefile DriveFileIDs.py\n",
        "# created: 08/17/2022\n",
        "# updated: 08/19/2022\n",
        "from __future__ import absolute_import, print_function\n",
        "import os, shutil, time\n",
        "from os.path import *\n",
        "\n",
        "# from google.colab import drive, files\n",
        "# GET https://www.googleapis.com/drive/v3/drives\n",
        "# Import PyDrive and associated libraries.\n",
        "# This only needs to be done once per notebook.\n",
        "from pydrive.auth import GoogleAuth\n",
        "from pydrive.drive import GoogleDrive\n",
        "from google.colab import auth, drive, files\n",
        "from oauth2client.client import GoogleCredentials\n",
        "\n",
        "contentPath=os.getcwd()\n",
        "\n",
        "bullshitPath = join(contentPath,'sample_data')\n",
        "if exists(bullshitPath):\n",
        "    shutil.rmtree(bullshitPath)\n",
        "    \n",
        "drive.mount('/content/drive', force_remount=True)\n",
        "\n",
        "colorPath = '/content/drive/BashColors.py'\n",
        "sourcePath = '/content/drive/MyDrive/BashColors.py'\n",
        "if not exists(colorPath):\n",
        "    shutil.copy2(sourcePath, contentPath)\n",
        "    from BashColors import C\n",
        "else:\n",
        "    # print(f'{basename(colorPath)} exists')\n",
        "    from BashColors import C\n",
        "\n",
        "tpuPath = '/content/drive/GetColabTPU.py'\n",
        "sourcePath = '/content/drive/MyDrive/GetColabTPU.py'\n",
        "if not exists(tpuPath):\n",
        "    print(tpuPath)\n",
        "    shutil.copy2(sourcePath, contentPath)\n",
        "\n",
        "os.chdir(contentPath)\n",
        "\n",
        "class DriveFileIDs:\n",
        "    '''List files in Collab\\ndfi=DriveFileIDs()'''\n",
        "    from BashColors import C\n",
        "\n",
        "    def __init__(self):\n",
        "        print(f'{C.BGreen}DriveFileIDs{C.ColorOff}')\n",
        "        self.dfi=DriveFileIDs\n",
        "        self.drivePathDict={}\n",
        "        self.contentPath=os.getcwd()\n",
        "        self.pythonFilesPath='/content/drive/MyDrive/PythonFiles'\n",
        "        self.developerReference='https://developers.google.com/drive/v2/web/search-parameters'\n",
        "        print(self.developerReference)\n",
        "\n",
        "    def __iter__(self):\n",
        "        return self\n",
        "\n",
        "    def __len__(self):\n",
        "        return len(self.name)\n",
        "\n",
        "    def __str__(self):\n",
        "        return \"%s(%r)\" % (self.__class__, self.__dict__)\n",
        "\n",
        "    def listRootDirectoryFiles(self):\n",
        "        \"\"\"List *.* files in the root.\"\"\"\n",
        "        auth.authenticate_user()\n",
        "        gauth = GoogleAuth()\n",
        "        gauth.credentials = GoogleCredentials.get_application_default()\n",
        "        drive = GoogleDrive(gauth)\n",
        "\n",
        "        pathDict={}\n",
        "        count=0\n",
        "        listed = drive.ListFile({'q': \"title contains '*.*'\"}).GetList()\n",
        "        for file in listed:\n",
        "            global count\n",
        "            count+=1\n",
        "            global pathDict\n",
        "            pathDict[count]\n",
        "            fileName=str(file['title'])\n",
        "            fileId=str(file['id'])\n",
        "            print(fileName)\n",
        "            print(f'{count}. {fileName}')\n",
        "            print(f'{C.BIBlue}{abspath(fileName)}{C.ColorOff}')\n",
        "            print(fileId)\n",
        "            # print('title {}'.format(file['title']))\n",
        "            # print('type {}'.format('mime_type'))\n",
        "            print('title {}, id {}'.format(file['title'], file['id']))\n",
        "        print(pathDict)\n",
        "        shutil.copyfileobj(pathDict, self.d)\n",
        "\n",
        "    def listAllDriveFiles(self):\n",
        "        \"\"\" \"\"\"\n",
        "        pass\n",
        "        # Call the Drive v3 API\n",
        "        results = service.files().list(\n",
        "            pageSize=10, fields=\"nextPageToken, files(id, name)\").execute()\n",
        "        items = results.get('files', [])\n",
        "\n",
        "\n",
        "dfi=DriveFileIDs()\n",
        "dfi.listRootDirectoryFiles()\n",
        "# print(dfi.drivePathDict)"
      ]
    },
    {
      "cell_type": "code",
      "source": [
        "print(dfi.drivePathDict)\n",
        "dfi.listRootDirectoryFiles()"
      ],
      "metadata": {
        "id": "jdsbmEmJc1zL"
      },
      "execution_count": null,
      "outputs": []
    },
    {
      "cell_type": "code",
      "source": [
        "shutil.copyfileobj"
      ],
      "metadata": {
        "id": "etnbhDuhI8s2"
      },
      "execution_count": null,
      "outputs": []
    },
    {
      "cell_type": "code",
      "source": [
        "from DriveFileIDs import *"
      ],
      "metadata": {
        "id": "T7sZMC_eoj1b"
      },
      "execution_count": null,
      "outputs": []
    },
    {
      "cell_type": "code",
      "source": [
        "path=join(os.getcwd(), 'DriveFileIDs.py')\n",
        "with open(path, 'r') as fil:\n",
        "    txt=fil.read()\n",
        "    print(txt)\n",
        "    fil.close()"
      ],
      "metadata": {
        "id": "E_dwvSSRSDh6"
      },
      "execution_count": null,
      "outputs": []
    },
    {
      "cell_type": "code",
      "source": [
        "dirList=dfi.__dir__()\n",
        "for fil in dirList:\n",
        "    if not fil.endswith('__'):\n",
        "        print(fil)"
      ],
      "metadata": {
        "id": "cNSZpc5aQVHJ"
      },
      "execution_count": null,
      "outputs": []
    },
    {
      "cell_type": "code",
      "source": [
        "from google.colab.patches import cv2_imshow"
      ],
      "metadata": {
        "id": "QscIUsOZQ83g"
      },
      "execution_count": null,
      "outputs": []
    },
    {
      "cell_type": "code",
      "source": [
        "!curl -o logo.png https://colab.research.google.com/img/colab_favicon_256px.png\n",
        "import cv2\n",
        "img = cv2.imread('logo.png', cv2.IMREAD_COLOR)\n",
        "img= cv2.resize(img, (224, 224))\n",
        "cv2_imshow(img)\n",
        "print(img.shape)"
      ],
      "metadata": {
        "id": "nk7xjKSdQ83m"
      },
      "execution_count": null,
      "outputs": []
    }
  ]
}