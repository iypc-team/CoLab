{
  "nbformat": 4,
  "nbformat_minor": 0,
  "metadata": {
    "colab": {
      "name": "Writefile_ColabDriveFileIDs.ipynb",
      "private_outputs": true,
      "provenance": [],
      "collapsed_sections": [],
      "authorship_tag": "ABX9TyMce4bqjszFXRA6ka/A9ZYO",
      "include_colab_link": true
    },
    "kernelspec": {
      "name": "python3",
      "display_name": "Python 3"
    },
    "language_info": {
      "name": "python"
    },
    "gpuClass": "standard",
    "accelerator": "TPU"
  },
  "cells": [
    {
      "cell_type": "markdown",
      "metadata": {
        "id": "view-in-github",
        "colab_type": "text"
      },
      "source": [
        "<a href=\"https://colab.research.google.com/github/iypc-team/CoLab/blob/master/Writefile_ColabDriveFileIDs.ipynb\" target=\"_parent\"><img src=\"https://colab.research.google.com/assets/colab-badge.svg\" alt=\"Open In Colab\"/></a>"
      ]
    },
    {
      "cell_type": "code",
      "source": [
        "\n",
        "# pip install --upgrade google-api-python-client google-auth-httplib2 google-auth-oauthlib\n",
        "# %%writefile DriveFileIDs.py\n",
        "# created: 08/17/2022\n",
        "# updated: 08/19/2022"
      ],
      "metadata": {
        "id": "X5ughquELLim"
      },
      "execution_count": null,
      "outputs": []
    },
    {
      "cell_type": "code",
      "execution_count": null,
      "metadata": {
        "id": "LT8gxZkO7u6N"
      },
      "outputs": [],
      "source": [
        "# %%writefile DriveFileIDs.py\n",
        "# created: 08/17/2022\n",
        "# updated: 08/19/2022\n",
        "from __future__ import absolute_import, print_function\n",
        "import os, shutil, tarfile, time\n",
        "from os.path import *\n",
        "\n",
        "# from google.colab import drive, files\n",
        "# GET https://www.googleapis.com/drive/v3/drives\n",
        "# Import PyDrive and associated libraries.\n",
        "# This only needs to be done once per notebook.\n",
        "from pydrive.auth import GoogleAuth\n",
        "from pydrive.drive import GoogleDrive\n",
        "from google.colab import auth, drive, files\n",
        "from oauth2client.client import GoogleCredentials\n",
        "\n",
        "import google.auth\n",
        "from googleapiclient.discovery import build\n",
        "from googleapiclient.errors import HttpError\n",
        "\n",
        "contentPath=os.getcwd()\n",
        "\n",
        "bullshitPath = join(contentPath,'sample_data')\n",
        "if exists(bullshitPath):\n",
        "    shutil.rmtree(bullshitPath)\n",
        "    \n",
        "drive.mount('/content/drive', force_remount=True)\n",
        "\n",
        "colorPath = '/content/drive/BashColors.py'\n",
        "sourcePath = '/content/drive/MyDrive/BashColors.py'\n",
        "if not exists(colorPath):\n",
        "    shutil.copy2(sourcePath, contentPath)\n",
        "    from BashColors import C\n",
        "else:\n",
        "    # print(f'{basename(colorPath)} exists')\n",
        "    from BashColors import C\n",
        "\n",
        "tpuPath = '/content/drive/GetColabTPU.py'\n",
        "sourcePath = '/content/drive/MyDrive/GetColabTPU.py'\n",
        "if not exists(tpuPath):\n",
        "    print(tpuPath)\n",
        "    shutil.copy2(sourcePath, contentPath)\n",
        "\n",
        "os.chdir(contentPath)\n",
        "\n",
        "class DriveFileIDs(object):\n",
        "    '''List files in Collab\\ndfi=DriveFileIDs()'''\n",
        "    from BashColors import C\n",
        "\n",
        "    def __init__(self):\n",
        "        print(f'{C.BGreen}DriveFileIDs{C.ColorOff}')\n",
        "        self.dfi=DriveFileIDs\n",
        "        self.__all__ = self.getMethodList()\n",
        "        self.drivePathDict={}\n",
        "        self.contentPath=os.getcwd()\n",
        "        self.pythonFilesPath='/content/drive/MyDrive/PythonFiles'\n",
        "        self.developerReference='https://developers.google.com/drive/v2/web/search-parameters'\n",
        "        print(self.developerReference)\n",
        "\n",
        "        bs=\"\"\"\n",
        "        self.planetsPath = join(self.contentPath, 'planets')\n",
        "        self.generatorPath = join(self.contentPath, 'DataGenerator')\n",
        "        self.testPath = join(self.contentPath, 'images')\n",
        "        if not exists(self.planetsPath):\n",
        "            self.extractTarfile('OriginalPlanets.tar.gz', silent=False)\n",
        "        if not exists(self.generatorPath):\n",
        "            self.extractTarfile('DataGenerator5.tar.gz', silent=False)\n",
        "        if not exists(self.testPath):\n",
        "            self.extractTarfile('images.tar.gz', silent=False)\n",
        "            \"\"\"\n",
        "\n",
        "        super(object, self).__init__()\n",
        "\n",
        "    def __iter__(self):\n",
        "        return self\n",
        "\n",
        "    def __len__(self):\n",
        "        return len(self.name)\n",
        "\n",
        "    def __str__(self):\n",
        "        return \"%s(%r)\" % (self.__class__, self.__dict__)\n",
        "\n",
        "    def extractTarfile(self, fileName, silent=True):\n",
        "        '''Extracts single tar file'''\n",
        "        fil=os.path.basename(fileName)\n",
        "        if not silent:\n",
        "            print(f'extracting: {fil}')\n",
        "        tar = tarfile.open(fil, 'r:gz')\n",
        "        tar.extractall()\n",
        "        tar.close()\n",
        "\n",
        "    def getMethodList(self, silent=True):\n",
        "        '''List all methods in AllInstall\\n Print silent = True'''\n",
        "        method_list=[]\n",
        "        for attribute in dir(self):\n",
        "            # Get the attribute value\n",
        "            attribute_value = getattr(self, attribute)\n",
        "            # Check that it is callable\n",
        "            if callable(attribute_value):\n",
        "                # Filter all dunder (__ prefix) methods\n",
        "                if attribute.startswith('__') == False:\n",
        "                    method_list.append(attribute)\n",
        "        if not silent:\n",
        "            print(f'{len(method_list)} callable methods in AllInstall')\n",
        "            for method in method_list:\n",
        "                print(method)\n",
        "        return method_list\n",
        "\n",
        "    def listRootDirectoryFiles(self):\n",
        "        \"\"\"List *.* files in the root.\"\"\"\n",
        "        auth.authenticate_user()\n",
        "        gauth = GoogleAuth()\n",
        "        gauth.credentials = GoogleCredentials.get_application_default()\n",
        "        drive = GoogleDrive(gauth)\n",
        "\n",
        "        pathDict={}\n",
        "        count=0\n",
        "        listed = drive.ListFile({'q': \"title contains '*.*'\"}).GetList()\n",
        "        for file in listed:\n",
        "            count+=1\n",
        "            print(count)\n",
        "            # pathDict['count']\n",
        "            fileName=str(file['title'])\n",
        "            fileId=str(file['id'])\n",
        "            typeName=str(file['mimeType'])\n",
        "            print(fileName)\n",
        "            print(f'{count}. {fileName}')\n",
        "            print(f'{C.BIBlue}{abspath(fileName)}{C.ColorOff}')\n",
        "            print(fileId)\n",
        "            # print('title {}'.format(file['title']))\n",
        "            # print('type {}'.format('typeName'))\n",
        "            print('title {}, id {}'.format(file['title'], file['id']))\n",
        "        \n",
        "        # shutil.copyfileobj(pathDict, self.d)\n",
        "\n",
        "    def listAllDriveFiles(self):\n",
        "        \"\"\" \"\"\"\n",
        "        pass\n",
        "        # Call the Drive v3 API\n",
        "        results = service.files().list(\n",
        "            pageSize=10, fields=\"nextPageToken, files(id, name)\").execute()\n",
        "        items = results.get('files', [])\n",
        "\n",
        "    def searchFile(self):\n",
        "        \"\"\"Search file in drive location\n",
        "        see https://developers.google.com/identity\n",
        "        for guides on implementing OAuth2 for the application.\n",
        "        \"\"\"\n",
        "        import google.auth\n",
        "        from googleapiclient.discovery import build\n",
        "        from googleapiclient.errors import HttpError\n",
        "        creds, _ = google.auth.default()\n",
        "        \n",
        "        try:\n",
        "        # create drive api client\n",
        "        service = build('drive', 'v3', credentials=creds)\n",
        "        files = []\n",
        "        page_token = None\n",
        "        while True:\n",
        "            # pylint: disable=maybe-no-member\n",
        "            response = service.files().list(q=\"mimeType='image/jpeg'\",\n",
        "                                            spaces='drive',\n",
        "                                            fields='nextPageToken, '\n",
        "                                                   'files(id, name)',\n",
        "                                            pageToken=page_token).execute()\n",
        "            for file in response.get('files', []):\n",
        "                # Process change\n",
        "                print(F'Found file: {file.get(\"name\")}, {file.get(\"id\")}')\n",
        "            files.extend(response.get('files', []))\n",
        "            page_token = response.get('nextPageToken', None)\n",
        "            if page_token is None:\n",
        "                break\n",
        "\n",
        "    except HttpError as error:\n",
        "        print(F'An error occurred: {error}')\n",
        "        files = None\n",
        "\n",
        "    return files\n",
        "\n",
        "\n",
        "dfi=DriveFileIDs()\n",
        "dfi.listRootDirectoryFiles()\n",
        "# print(dfi.drivePathDict)"
      ]
    },
    {
      "cell_type": "code",
      "source": [
        "from DriveFileIDs import *\n",
        "dfi.__all__"
      ],
      "metadata": {
        "id": "T7sZMC_eoj1b"
      },
      "execution_count": null,
      "outputs": []
    },
    {
      "cell_type": "code",
      "source": [
        "print(dfi.drivePathDict)\n",
        "\n",
        "dfi.listRootDirectoryFiles()"
      ],
      "metadata": {
        "id": "jdsbmEmJc1zL"
      },
      "execution_count": null,
      "outputs": []
    },
    {
      "cell_type": "code",
      "source": [
        "shutil.copyfileobj"
      ],
      "metadata": {
        "id": "etnbhDuhI8s2"
      },
      "execution_count": null,
      "outputs": []
    },
    {
      "cell_type": "code",
      "source": [
        "path=join(os.getcwd(), 'DriveFileIDs.py')\n",
        "with open(path, 'r') as fil:\n",
        "    txt=fil.read()\n",
        "    print(txt)\n",
        "    fil.close()"
      ],
      "metadata": {
        "id": "E_dwvSSRSDh6"
      },
      "execution_count": null,
      "outputs": []
    },
    {
      "cell_type": "code",
      "source": [
        "dirList=dfi.__dir__()\n",
        "for fil in dirList:\n",
        "    if not fil.endswith('__'):\n",
        "        print(fil)"
      ],
      "metadata": {
        "id": "cNSZpc5aQVHJ"
      },
      "execution_count": null,
      "outputs": []
    },
    {
      "cell_type": "code",
      "source": [
        "from google.colab.patches import cv2_imshow"
      ],
      "metadata": {
        "id": "QscIUsOZQ83g"
      },
      "execution_count": null,
      "outputs": []
    },
    {
      "cell_type": "code",
      "source": [
        "!curl -o logo.png https://colab.research.google.com/img/colab_favicon_256px.png\n",
        "import cv2\n",
        "img = cv2.imread('logo.png', cv2.IMREAD_COLOR)\n",
        "img= cv2.resize(img, (224, 224))\n",
        "cv2_imshow(img)\n",
        "print(img.shape)"
      ],
      "metadata": {
        "id": "nk7xjKSdQ83m"
      },
      "execution_count": null,
      "outputs": []
    }
  ]
}