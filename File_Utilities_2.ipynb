{
  "nbformat": 4,
  "nbformat_minor": 0,
  "metadata": {
    "colab": {
      "name": "File_Utilities_2.ipynb",
      "provenance": [],
      "collapsed_sections": [],
      "include_colab_link": true
    },
    "kernelspec": {
      "display_name": "Python 3",
      "language": "python",
      "name": "python3"
    },
    "language_info": {
      "codemirror_mode": {
        "name": "ipython",
        "version": 3
      },
      "file_extension": ".py",
      "mimetype": "text/x-python",
      "name": "python",
      "nbconvert_exporter": "python",
      "pygments_lexer": "ipython3",
      "version": "3.6.6+"
    }
  },
  "cells": [
    {
      "cell_type": "markdown",
      "metadata": {
        "id": "view-in-github",
        "colab_type": "text"
      },
      "source": [
        "<a href=\"https://colab.research.google.com/github/iypc-team/CoLab/blob/master/File_Utilities_2.ipynb\" target=\"_parent\"><img src=\"https://colab.research.google.com/assets/colab-badge.svg\" alt=\"Open In Colab\"/></a>"
      ]
    },
    {
      "cell_type": "code",
      "metadata": {
        "id": "vF0b1TrJqJNV",
        "colab_type": "code",
        "colab": {}
      },
      "source": [
        "from google.colab import drive\n",
        "drive.mount('/content/gdrive',force_remount=True, timeout_ms=6000000)\n",
        "%cd '/content/gdrive/My Drive'\n",
        "%ls"
      ],
      "execution_count": null,
      "outputs": []
    },
    {
      "cell_type": "code",
      "metadata": {
        "cellView": "both",
        "colab_type": "code",
        "id": "zQNbWtCEs1eT",
        "colab": {}
      },
      "source": [
        "# %%writefile FileUtilities.py\n",
        "# 08/26/2020-2\n",
        "\n",
        "global C\n",
        "global fu\n",
        "\n",
        "import glob, os, pathlib, sys\n",
        "from os.path import *\n",
        "from pathlib import Path\n",
        "from importlib import reload # reload \n",
        "import BashColors\n",
        "reload(BashColors)\n",
        "from BashColors import C\n",
        "\n",
        "class FileUtilities(object):\n",
        "    \n",
        "    __all__ = sorted(['allFiles', 'allFilesDict', 'cwdPath', 'homePath', \n",
        "           'fu', 'inspectFile', 'listFiles', 'printSystemPaths', \n",
        "           'setSystemPaths', 'updateAllFiles'])\n",
        "    \n",
        "    def __init__(self):\n",
        "        self.C = C\n",
        "        self.homePath = Path.home()\n",
        "        self.cwdPath = Path.cwd()\n",
        "        self.allFiles = glob.glob('**', recursive=True)\n",
        "        self.allFilesDict = {}\n",
        "\n",
        "    def updateAllFiles(self):\n",
        "        self.allFiles = glob.glob('**', recursive=True)\n",
        "\n",
        "    def setSystemPaths(self, addNewPath, quit=True):  \n",
        "        addNewPath = realpath(addNewPath)\n",
        "        pathList = sys.path.copy()\n",
        "        if not addNewPath in pathList and exists(addNewPath):\n",
        "            sys.path.append(addNewPath)\n",
        "\n",
        "    def listFiles(self, silent=False):\n",
        "        self.updateAllFiles()\n",
        "        self.allFiles = sorted(self.allFiles)\n",
        "        tempDict = self.allFilesDict\n",
        "        fileCount = 0\n",
        "        if not silent:\n",
        "            print(f'{C.BIBlue}{self.cwdPath}')\n",
        "        self.setSystemPaths(addNewPath=self.cwdPath)\n",
        "        for fil in self.allFiles:\n",
        "            fullPath = Path(realpath(fil)) # POSIX path\n",
        "            realPath = realpath(fil) # String path\n",
        "            if isdir(fullPath) and not realPath.__contains__('__pycache__'):  \n",
        "                if not silent:\n",
        "                    print(f'\\n{C.BIBlue}{fullPath}')\n",
        "                self.setSystemPaths(addNewPath=realPath) \n",
        "            elif isfile(fullPath) and not realPath.__contains__('__pycache__'): \n",
        "                fileCount += 1\n",
        "                if not silent:\n",
        "                    print(f'{C.BIWhite}{fileCount}. {fullPath.name}') \n",
        "                tempDict[fileCount] = fullPath\n",
        "                self.allFilesDict = {}\n",
        "                self.allFilesDict.update(tempDict)\n",
        "\n",
        "    def inspectFile(self, selection):\n",
        "        if selection <= len(self.allFilesDict):  \n",
        "            try:\n",
        "                pth = self.allFilesDict[selection]  \n",
        "                with open(pth, 'r') as openFile:  \n",
        "                    print(f'# %%writefile {pth.name}\\n')  \n",
        "                    print(openFile.read())\n",
        "            except:\n",
        "                print(f'{C.BIRed}BULLSHIT')\n",
        "\n",
        "    def printSystemPaths(self):\n",
        "        pathList = sys.path.copy() \n",
        "        pathCount = 0\n",
        "        for pth in sorted(pathList):\n",
        "            pathCount += 1\n",
        "            print(f'{C.BIWhite}{pathCount}. {C.BIBlue}{pth}')\n",
        "\n",
        "fu = FileUtilities()\n",
        "fu.listFiles(silent=True)"
      ],
      "execution_count": null,
      "outputs": []
    },
    {
      "cell_type": "code",
      "metadata": {
        "colab_type": "code",
        "id": "SVWbZxQuXrqg",
        "colab": {}
      },
      "source": [
        "fu.listFiles()\n"
      ],
      "execution_count": null,
      "outputs": []
    },
    {
      "cell_type": "code",
      "metadata": {
        "colab_type": "code",
        "id": "ysm_CborpXr9",
        "colab": {}
      },
      "source": [
        "fu.printSystemPaths()"
      ],
      "execution_count": null,
      "outputs": []
    }
  ]
}