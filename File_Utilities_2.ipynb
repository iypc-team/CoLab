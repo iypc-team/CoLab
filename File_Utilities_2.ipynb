{
  "nbformat": 4,
  "nbformat_minor": 0,
  "metadata": {
    "colab": {
      "name": "File_Utilities_2.ipynb",
      "provenance": [],
      "collapsed_sections": [],
      "include_colab_link": true
    },
    "kernelspec": {
      "display_name": "Python 3",
      "language": "python",
      "name": "python3"
    },
    "language_info": {
      "codemirror_mode": {
        "name": "ipython",
        "version": 3
      },
      "file_extension": ".py",
      "mimetype": "text/x-python",
      "name": "python",
      "nbconvert_exporter": "python",
      "pygments_lexer": "ipython3",
      "version": "3.6.6+"
    }
  },
  "cells": [
    {
      "cell_type": "markdown",
      "metadata": {
        "id": "view-in-github",
        "colab_type": "text"
      },
      "source": [
        "<a href=\"https://colab.research.google.com/github/iypc-team/CoLab/blob/master/File_Utilities_2.ipynb\" target=\"_parent\"><img src=\"https://colab.research.google.com/assets/colab-badge.svg\" alt=\"Open In Colab\"/></a>"
      ]
    },
    {
      "cell_type": "code",
      "metadata": {
        "cellView": "both",
        "colab_type": "code",
        "id": "zQNbWtCEs1eT",
        "colab": {}
      },
      "source": [
        "# %%writefile FileUtilities.py\n",
        "# 08/09/2020-1\n",
        "from __future__ import absolute_import\n",
        "from IPython.display import clear_output\n",
        "import glob, os, pathlib, sys\n",
        "from os.path import *\n",
        "from pathlib import Path\n",
        "from google.colab import drive, files\n",
        "\n",
        "global C\n",
        "global fu\n",
        "\n",
        "class ColorOutput:\n",
        "    LITE = '\\033[96m'; HEADER = '\\033[95m'; BLUE = '\\033[94m';\n",
        "    WARNING = '\\033[93m'; GREEN = '\\033[92m'; RED = '\\033[91m'; \n",
        "    DARK = '\\033[90m'; UNDERLINE = '\\033[4m';BOLD = '\\033[1m'; \n",
        "    WHITE = '\\033[0m'\n",
        "\n",
        "C = ColorOutput()\n",
        "\n",
        "class FileUtilities(ColorOutput):\n",
        "    __all__ = ['C', 'allFiles', 'allFilesDict', 'cwdPath', 'homePath', \n",
        "           'inspectFile', 'listFiles', 'printSystemPaths', \n",
        "           'setSystemPaths', 'updateAllFiles', 'mountGoogleDrive']\n",
        "\n",
        "    def __init__(self):\n",
        "        self.C = ColorOutput\n",
        "        self.homePath = Path.home()\n",
        "        self.cwdPath = Path.cwd()\n",
        "        self.allFiles = glob.glob('**', recursive=True)\n",
        "        self.allFilesDict = {}\n",
        "\n",
        "    def updateAllFiles(self):\n",
        "        self.allFiles = glob.glob('**', recursive=True)\n",
        "\n",
        "    def setSystemPaths(self, addNewPath=None):\n",
        "        addNewPath = realpath(addNewPath)\n",
        "        pathList = sys.path.copy()\n",
        "        if not addNewPath in pathList and exists(addNewPath) and addNewPath != 'None':\n",
        "            sys.path.append(addNewPath)\n",
        "\n",
        "    def listFiles(self, silent=False):\n",
        "        self.updateAllFiles()\n",
        "        self.allFiles = sorted(self.allFiles)\n",
        "        tempDict = self.allFilesDict\n",
        "        fileCount = 0\n",
        "        if not silent:\n",
        "            print(f'{C.BLUE}{self.cwdPath}')\n",
        "        self.setSystemPaths(addNewPath=self.cwdPath)\n",
        "        for fil in self.allFiles:\n",
        "            fullPath = Path(realpath(fil)) # POSIX path\n",
        "            realPath = realpath(fil) # String path\n",
        "            if isdir(fullPath) and not realPath.__contains__('__pycache__'):  \n",
        "                if not silent:\n",
        "                    print(f'\\n{C.BLUE}{fullPath}')\n",
        "                self.setSystemPaths(addNewPath=realPath) \n",
        "            elif isfile(fullPath) and not realPath.__contains__('__pycache__'): \n",
        "                fileCount += 1\n",
        "                if not silent:\n",
        "                    print(f'{C.WHITE}{fileCount}. {fullPath.name}') \n",
        "                tempDict[fileCount] = fullPath\n",
        "                self.allFilesDict = {}\n",
        "                self.allFilesDict.update(tempDict)\n",
        "\n",
        "    def inspectFile(self, selection):\n",
        "        if selection <= len(self.allFilesDict):  \n",
        "            try:\n",
        "                pth = self.allFilesDict[selection]  \n",
        "                with open(pth, 'r') as openFile:  \n",
        "                    print(f'# %%writefile {pth.name}\\n')  \n",
        "                    print(openFile.read())\n",
        "            except:\n",
        "                print(f'{C.RED}BULLSHIT')\n",
        "\n",
        "    def printSystemPaths(self):\n",
        "        pathList = sys.path.copy() \n",
        "        pathCount = 0\n",
        "        for pth in sorted(pathList):\n",
        "            pathCount += 1\n",
        "            print(f'{C.WHITE}{pathCount}. {C.BLUE}{pth}')\n",
        "\n",
        "    def mountGoogleDrive(self):\n",
        "        drive.mount('gdrive', force_remount=True, timeout_ms=600000)\n",
        "\n",
        "fu = FileUtilities()\n",
        "fu.mountGoogleDrive()\n",
        "fu.listFiles(silent=True)"
      ],
      "execution_count": null,
      "outputs": []
    },
    {
      "cell_type": "code",
      "metadata": {
        "id": "F06AKmumNAOc",
        "colab_type": "code",
        "colab": {}
      },
      "source": [
        "print(f'home: {C.GREEN}{fu.homePath}{C.WHITE}')\n",
        "print(f'cwd:  {C.GREEN}{fu.cwdPath}{C.WHITE}')\n",
        "%ls"
      ],
      "execution_count": null,
      "outputs": []
    },
    {
      "cell_type": "code",
      "metadata": {
        "id": "vqdSffm_Ndgx",
        "colab_type": "code",
        "colab": {}
      },
      "source": [
        "fu.listFiles(silent=False)"
      ],
      "execution_count": null,
      "outputs": []
    },
    {
      "cell_type": "code",
      "metadata": {
        "id": "sCWiq00jyBcd",
        "colab_type": "code",
        "colab": {}
      },
      "source": [
        "pth = fu.allFilesDict[1]\n",
        "print(pth)\n",
        "pth = fu.allFilesDict[6]\n",
        "print(pth)\n",
        "\n",
        "!cp {fu.allFilesDict[1]} \"/content/gdrive/My Drive/Colab Notebooks\"\n",
        "# with open(pth, 'r') as openFile:\n",
        "    # print(openFile.read())"
      ],
      "execution_count": null,
      "outputs": []
    },
    {
      "cell_type": "code",
      "metadata": {
        "id": "gFsl1Lju0dCz",
        "colab_type": "code",
        "colab": {}
      },
      "source": [
        "fu.inspectFile(selection=1)"
      ],
      "execution_count": null,
      "outputs": []
    },
    {
      "cell_type": "code",
      "metadata": {
        "colab_type": "code",
        "id": "SVWbZxQuXrqg",
        "colab": {}
      },
      "source": [
        "deleteFilesDict = {}\n",
        "def searchFiles():\n",
        "    fileCounter = 0\n",
        "    fu.updateAllFiles()\n",
        "    for fil in sorted(fu.allFiles):\n",
        "        if fil.__contains__('('):\n",
        "            fileCounter += 1\n",
        "            deleteFilesDict[fileCounter] = fil\n",
        "            print(f'{fileCounter} .{fil}')\n",
        "\n",
        "searchFiles()\n",
        "\n",
        "def deleteFile(filePath=pth):\n",
        "    if exists(filePath) and isfile(filePath):\n",
        "        clear_output()\n",
        "        print(f'{C.RED}{filePath}{C.WHITE}\\n')\n",
        "        os.remove(filePath)\n",
        "        searchFiles()\n",
        "try:\n",
        "    pth = deleteFilesDict[1]\n",
        "    deleteFile(filePath=pth)\n",
        "except Exception as err:\n",
        "    print(err)"
      ],
      "execution_count": null,
      "outputs": []
    }
  ]
}