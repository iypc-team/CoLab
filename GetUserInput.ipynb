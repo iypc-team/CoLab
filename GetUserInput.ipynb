{
  "nbformat": 4,
  "nbformat_minor": 0,
  "metadata": {
    "colab": {
      "name": "GetUserInput.ipynb",
      "provenance": [],
      "private_outputs": true,
      "collapsed_sections": [],
      "authorship_tag": "ABX9TyMMzQ4Rpeye1CiaSprGCAjk",
      "include_colab_link": true
    },
    "kernelspec": {
      "name": "python3",
      "display_name": "Python 3"
    }
  },
  "cells": [
    {
      "cell_type": "markdown",
      "metadata": {
        "id": "view-in-github",
        "colab_type": "text"
      },
      "source": [
        "<a href=\"https://colab.research.google.com/github/iypc-team/CoLab/blob/master/GetUserInput.ipynb\" target=\"_parent\"><img src=\"https://colab.research.google.com/assets/colab-badge.svg\" alt=\"Open In Colab\"/></a>"
      ]
    },
    {
      "cell_type": "code",
      "metadata": {
        "id": "LD506uXdM4mh",
        "colab_type": "code",
        "colab": {}
      },
      "source": [
        "intNum = int(input('enter integer: '))\n",
        "print(intNum, '\\n')\n",
        "\n",
        "floatNum = float(input('float: '))\n",
        "print(floatNum, '\\n')\n",
        "\n",
        "txtString = str(input('string: '))\n",
        "print(txtString, '\\n')"
      ],
      "execution_count": 0,
      "outputs": []
    }
  ]
}