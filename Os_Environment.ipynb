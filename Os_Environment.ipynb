{
  "nbformat": 4,
  "nbformat_minor": 0,
  "metadata": {
    "colab": {
      "name": "Os_Environment.ipynb",
      "private_outputs": true,
      "provenance": [],
      "collapsed_sections": [],
      "machine_shape": "hm"
    },
    "kernelspec": {
      "display_name": "Python 3",
      "language": "python",
      "name": "python3"
    },
    "language_info": {
      "codemirror_mode": {
        "name": "ipython",
        "version": 3
      },
      "file_extension": ".py",
      "mimetype": "text/x-python",
      "name": "python",
      "nbconvert_exporter": "python",
      "pygments_lexer": "ipython3",
      "version": "3.7.10"
    }
  },
  "cells": [
    {
      "cell_type": "code",
      "metadata": {
        "id": "jG55EudwlRv2"
      },
      "source": [
        "from __future__ import absolute_import\n",
        "from IPython.display import display, clear_output\n",
        "\n",
        "import glob\n",
        "import pathlib\n",
        "import os\n",
        "from os.path import *\n",
        "import shutil\n",
        "\n",
        "contentPth = os.getcwd()\n",
        "\n",
        "if contentPth == '/content':\n",
        "    gdrivePth = join(contentPth, 'gdrive')\n",
        "    myDrivePth = join(gdrivePth, 'My Drive')\n",
        "    tfImagesPth = join(myDrivePth, 'TensorflowImages')\n",
        "    if exists(tfImagesPth) and not exists('/content/TensorflowImages'):\n",
        "        shutil.copytree(src=tfImagesPth, dst='/content/TensorflowImages')\n",
        "else: \n",
        "    tfImagesPth = join(contentPth, 'TensorflowImages')\n",
        "\n",
        "if os.path.exists('/content/sample_data'):\n",
        "    shutil.rmtree('/content/sample_data')\n",
        "\n",
        "try:\n",
        "    from google.colab import drive\n",
        "    drive.flush_and_unmount()\n",
        "    drive.mount('/content/gdrive', force_remount=True)\n",
        "    os.chdir(myDrivePth)\n",
        "    from BashColors import C\n",
        "    from TarfileFunctions import tff\n",
        "    os.chdir(contentPth)\n",
        "    \n",
        "except ModuleNotFoundError:\n",
        "    os.chdir(contentPth)\n",
        "    from BashColors import C\n",
        "    from TarfileFunctions import *\n",
        "    \n",
        "print(f'cwd: {C.IBlue}{pathlib.Path.cwd()}')"
      ],
      "execution_count": null,
      "outputs": []
    },
    {
      "cell_type": "code",
      "metadata": {
        "id": "FgvHZhUdW4Ow"
      },
      "source": [
        "import os\n",
        "\n",
        "env = os.environ\n",
        "print(env)\n",
        "print(f'{C.Green}{env}{C.ColorOff}')\n",
        "envKeys = env.keys\n",
        "print(envKeys())\n",
        "getKey = env.get # Get specific environment key\n",
        "# print(f'env:\\n{C.Green}{env}{C.ColorOff}')\n",
        "\n",
        "# %env"
      ],
      "execution_count": null,
      "outputs": []
    },
    {
      "cell_type": "code",
      "metadata": {
        "id": "B-MqvCeCr1x3"
      },
      "source": [
        "colabKeyList = env.keys()\n",
        "for key in sorted(colabKeyList):\n",
        "    pass\n",
        "    print(key)\n",
        "env.setdefault(key='CLICOLOR', value='0')\n",
        "env.get(key='HOME')"
      ],
      "execution_count": null,
      "outputs": []
    }
  ]
}