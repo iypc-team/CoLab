{
  "nbformat": 4,
  "nbformat_minor": 0,
  "metadata": {
    "colab": {
      "name": "CoLab_CommandLine.ipynb",
      "provenance": [],
      "collapsed_sections": [],
      "include_colab_link": true
    },
    "kernelspec": {
      "display_name": "Python 3",
      "language": "python",
      "name": "python3"
    },
    "language_info": {
      "codemirror_mode": {
        "name": "ipython",
        "version": 3
      },
      "file_extension": ".py",
      "mimetype": "text/x-python",
      "name": "python",
      "nbconvert_exporter": "python",
      "pygments_lexer": "ipython3",
      "version": "3.7.8"
    }
  },
  "cells": [
    {
      "cell_type": "markdown",
      "metadata": {
        "id": "view-in-github",
        "colab_type": "text"
      },
      "source": [
        "<a href=\"https://colab.research.google.com/github/iypc-team/CoLab/blob/master/CoLab_CommandLine.ipynb\" target=\"_parent\"><img src=\"https://colab.research.google.com/assets/colab-badge.svg\" alt=\"Open In Colab\"/></a>"
      ]
    },
    {
      "cell_type": "code",
      "metadata": {
        "colab_type": "code",
        "id": "TunQBH7JWNi5",
        "colab": {
          "base_uri": "https://localhost:8080/",
          "height": 162
        },
        "outputId": "961e3157-ac2b-4a32-af49-cb21356dfb45"
      },
      "source": [
        "# %%writefile Colab_CommandLine.py\n",
        "# 08/05/2020-2\n",
        "from __future__ import absolute_import\n",
        "from IPython.display import clear_output\n",
        "import glob, os, pathlib, sys\n",
        "from os.path import *\n",
        "from pathlib import Path\n",
        "\n",
        "global allGDFiles\n",
        "global allGDFilesDict\n",
        "\n",
        "def __init__(self):\n",
        "    pass\n",
        "\n",
        "def printSystemModules():\n",
        "    for mod in sys.modules.copy():\n",
        "        print(mod)\n",
        "\n",
        "def setInitialSystemPaths():\n",
        "    allGDFiles = glob.glob('**', recursive=True)\n",
        "    sysPaths = sys.path.copy()\n",
        "    for fil in allGDFiles:\n",
        "        if isdir(fil) and not fil in sysPaths:\n",
        "            sys.path.append(fil)\n",
        "    print('\\nInitial system paths set')\n",
        "\n",
        "def addSystemPath(newPath=None, silent=True):\n",
        "    namedPath = str(newPath)\n",
        "    sysPaths = sys.path.copy()\n",
        "    if not namedPath in sysPaths and exists(namedPath) and namedPath != 'None':\n",
        "        sys.path.append(namedPath)\n",
        "    elif not silent:\n",
        "        pathCount = 0\n",
        "        for pth in sorted(sysPaths):\n",
        "            pathCount += 1\n",
        "            print(f'{C.WHITE}{pathCount}. {C.BLUE}{pth}')\n",
        "\n",
        "def listAllFiles(silent=False):\n",
        "    try:\n",
        "        print(f'{C.BLUE}')\n",
        "        %cd \"/content/\"\n",
        "    except Exception as err:\n",
        "        print(err)\n",
        "    allGDFiles = glob.glob('**', recursive=True)\n",
        "    allGDFilesDict = {}\n",
        "    dirCount = 0\n",
        "    fileCount = 0\n",
        "    for fil in sorted(allGDFiles):\n",
        "        thisFile = realpath(fil)\n",
        "        if exists(thisFile) and isdir(thisFile) and not thisFile.__contains__('__pycache__'):\n",
        "            addSystemPath(newPath=thisFile)\n",
        "            dirCount += 1\n",
        "            if not silent:\n",
        "                print(f'\\n{C.BLUE}{thisFile}')\n",
        "        elif exists(thisFile) and isfile(thisFile) and not thisFile.__contains__('__pycache__'):\n",
        "            fileCount += 1\n",
        "            allGDFilesDict[fileCount] = thisFile\n",
        "            if not silent:\n",
        "                print(f'{C.WHITE}{fileCount}. {basename(thisFile)}')\n",
        "\n",
        "def deletteGoogleDriveFiles():\n",
        "    for item in allGDFilesDict:\n",
        "        print(item)\n",
        "\n",
        "\n",
        "from google.colab import drive\n",
        "drive.mount('/content/gdrive/', timeout_ms=600000, force_remount=True)\n",
        "%cd '/content/'\n",
        "setInitialSystemPaths()\n",
        "try:\n",
        "    from FileUtilities import C\n",
        "    print(f'{C.GREEN}Ok')\n",
        "except Exception as err:\n",
        "    print(err, '\\n')\n",
        "    addSystemPath(silent=False)\n",
        "    try:\n",
        "        from FileUtilities import C\n",
        "        print(f'{C.HEADER}ok')\n",
        "    except Exception as err:\n",
        "        print(err)"
      ],
      "execution_count": 6,
      "outputs": [
        {
          "output_type": "stream",
          "text": [
            "Mounted at /content/gdrive/\n",
            "/content\n",
            "\n",
            "Initial system paths set\n",
            "\u001b[92mOk\n"
          ],
          "name": "stdout"
        }
      ]
    },
    {
      "cell_type": "code",
      "metadata": {
        "id": "6TC2ukrc2MQb",
        "colab_type": "code",
        "colab": {}
      },
      "source": [
        ""
      ],
      "execution_count": 7,
      "outputs": []
    },
    {
      "cell_type": "code",
      "metadata": {
        "colab_type": "code",
        "id": "ea07nYj2t3Ai",
        "colab": {
          "base_uri": "https://localhost:8080/",
          "height": 75
        },
        "outputId": "8f1cea8b-4c79-4ee0-cb95-c8d8a3c64058"
      },
      "source": [
        "# Create a file in bash\n",
        "!echo 'The quick brown fox jumped\\nover the lazy cat.' > BrownFox.py\n",
        "%ls"
      ],
      "execution_count": 2,
      "outputs": [
        {
          "output_type": "stream",
          "text": [
            "BrownFox.py  Colab_CommandLine.py  \u001b[0m\u001b[01;34mgdrive\u001b[0m/  \u001b[01;34msample_data\u001b[0m/\n"
          ],
          "name": "stdout"
        }
      ]
    },
    {
      "cell_type": "code",
      "metadata": {
        "colab_type": "code",
        "id": "iGc-xCO3AZs7",
        "colab": {
          "base_uri": "https://localhost:8080/",
          "height": 337
        },
        "outputId": "78fdcdb9-22bd-442f-94cf-3bae7ac84477"
      },
      "source": [
        "#Access Google Drive from Colab\n",
        "%ls '/content/gdrive/My Drive/'\n",
        "print()\n",
        "%ls '/content/gdrive/My Drive/Colab Notebooks'"
      ],
      "execution_count": 3,
      "outputs": [
        {
          "output_type": "stream",
          "text": [
            "\u001b[0m\u001b[01;34m'Colab Notebooks'\u001b[0m/   \u001b[01;34mImages\u001b[0m/   \u001b[01;34m__pycache__\u001b[0m/   \u001b[01;34mSwift\u001b[0m/\n",
            "\n",
            "'CoLab_CommandLine (1).ipynb'   fool.txt               GoogleDrive_Files.ipynb\n",
            "'CoLab_CommandLine (2).ipynb'  'gAuth (1).txt'         Jon_Krohn.ipynb\n",
            "'CoLab_CommandLine (3).ipynb'   gAuthCredentials.txt   Phil_Tabor.ipynb\n",
            " CoLab_CommandLine.ipynb        gAuth.txt              \u001b[0m\u001b[01;34m__pycache__\u001b[0m/\n",
            " File_Utilities_2.ipynb         Github_Login.ipynb\n",
            " FileUtilities.py               GoogleAuth.txt\n"
          ],
          "name": "stdout"
        }
      ]
    },
    {
      "cell_type": "code",
      "metadata": {
        "colab_type": "code",
        "id": "wtYa3pyKBbX7",
        "colab": {
          "base_uri": "https://localhost:8080/",
          "height": 509
        },
        "outputId": "ef037818-578d-45a6-fc90-f57867f02ef1"
      },
      "source": [
        "%cd '/content/'\n",
        "%ls\n",
        "print(f'{C.BLUE}')\n",
        "listAllFiles()"
      ],
      "execution_count": 4,
      "outputs": [
        {
          "output_type": "stream",
          "text": [
            "/content\n",
            "BrownFox.py  Colab_CommandLine.py  \u001b[0m\u001b[01;34mgdrive\u001b[0m/  \u001b[01;34msample_data\u001b[0m/\n"
          ],
          "name": "stdout"
        },
        {
          "output_type": "error",
          "ename": "NameError",
          "evalue": "ignored",
          "traceback": [
            "\u001b[0;31m---------------------------------------------------------------------------\u001b[0m",
            "\u001b[0;31mNameError\u001b[0m                                 Traceback (most recent call last)",
            "\u001b[0;32m<ipython-input-4-1ae7b32af9a5>\u001b[0m in \u001b[0;36m<module>\u001b[0;34m()\u001b[0m\n\u001b[1;32m      1\u001b[0m \u001b[0mget_ipython\u001b[0m\u001b[0;34m(\u001b[0m\u001b[0;34m)\u001b[0m\u001b[0;34m.\u001b[0m\u001b[0mmagic\u001b[0m\u001b[0;34m(\u001b[0m\u001b[0;34m\"cd '/content/'\"\u001b[0m\u001b[0;34m)\u001b[0m\u001b[0;34m\u001b[0m\u001b[0;34m\u001b[0m\u001b[0m\n\u001b[1;32m      2\u001b[0m \u001b[0mget_ipython\u001b[0m\u001b[0;34m(\u001b[0m\u001b[0;34m)\u001b[0m\u001b[0;34m.\u001b[0m\u001b[0mmagic\u001b[0m\u001b[0;34m(\u001b[0m\u001b[0;34m'ls'\u001b[0m\u001b[0;34m)\u001b[0m\u001b[0;34m\u001b[0m\u001b[0;34m\u001b[0m\u001b[0m\n\u001b[0;32m----> 3\u001b[0;31m \u001b[0mprint\u001b[0m\u001b[0;34m(\u001b[0m\u001b[0;34mf'{C.BLUE}'\u001b[0m\u001b[0;34m)\u001b[0m\u001b[0;34m\u001b[0m\u001b[0;34m\u001b[0m\u001b[0m\n\u001b[0m\u001b[1;32m      4\u001b[0m \u001b[0mlistAllFiles\u001b[0m\u001b[0;34m(\u001b[0m\u001b[0;34m)\u001b[0m\u001b[0;34m\u001b[0m\u001b[0;34m\u001b[0m\u001b[0m\n",
            "\u001b[0;31mNameError\u001b[0m: name 'C' is not defined"
          ]
        }
      ]
    }
  ]
}