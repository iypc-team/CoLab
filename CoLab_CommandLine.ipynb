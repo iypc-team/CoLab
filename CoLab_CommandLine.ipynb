{
  "nbformat": 4,
  "nbformat_minor": 0,
  "metadata": {
    "colab": {
      "name": "CoLab_CommandLine.ipynb",
      "provenance": [],
      "collapsed_sections": [],
      "include_colab_link": true
    },
    "kernelspec": {
      "display_name": "Python 3",
      "language": "python",
      "name": "python3"
    },
    "language_info": {
      "codemirror_mode": {
        "name": "ipython",
        "version": 3
      },
      "file_extension": ".py",
      "mimetype": "text/x-python",
      "name": "python",
      "nbconvert_exporter": "python",
      "pygments_lexer": "ipython3",
      "version": "3.7.8"
    }
  },
  "cells": [
    {
      "cell_type": "markdown",
      "metadata": {
        "id": "view-in-github",
        "colab_type": "text"
      },
      "source": [
        "<a href=\"https://colab.research.google.com/github/iypc-team/CoLab/blob/master/CoLab_CommandLine.ipynb\" target=\"_parent\"><img src=\"https://colab.research.google.com/assets/colab-badge.svg\" alt=\"Open In Colab\"/></a>"
      ]
    },
    {
      "cell_type": "code",
      "metadata": {
        "colab_type": "code",
        "id": "TunQBH7JWNi5",
        "colab": {
          "base_uri": "https://localhost:8080/",
          "height": 71
        },
        "outputId": "73637ba4-032b-4ebb-aec2-75816e2276c2"
      },
      "source": [
        "# 08/04/2020-3\n",
        "from __future__ import absolute_import\n",
        "from IPython.display import clear_output\n",
        "import glob, os, pathlib, sys\n",
        "from os.path import *\n",
        "from pathlib import Path\n",
        "\n",
        "def __init__(self):\n",
        "    pass\n",
        "\n",
        "def printSystemModules():\n",
        "    for mod in sys.modules.copy():\n",
        "        if mod == 'FileUtilities.py':\n",
        "            print(mod)\n",
        "        else: pass\n",
        "        \n",
        "%cd \"/content/\"\n",
        "allGDFiles = glob.glob('**', recursive=True)\n",
        "allGDFilesDict = {}\n",
        "dirCount = 0\n",
        "fileCount = 0\n",
        "def updateSystemPaths(newPath=None, silent=True):\n",
        "    namedPath = str(newPath)\n",
        "    print(namedPath)\n",
        "    sysPaths = sys.path.copy()\n",
        "    if not namedPath in sysPaths and exists(namedPath) and namedPath != 'None':\n",
        "        sys.path.append(namedPath)\n",
        "    else: pass\n",
        "    if not silent:\n",
        "        pathCount = 0\n",
        "        for pth in sysPaths:\n",
        "            pathCount += 1\n",
        "            print(f'{pathCount}. {pth}')\n",
        "    else: pass\n",
        "\n",
        "def listAllFiles():\n",
        "\n",
        "    for fil in sorted(allGDFiles):\n",
        "        thisFile = realpath(fil)\n",
        "        if exists(thisFile) and isdir(thisFile) and not thisFile.__contains__('__pycache__'):\n",
        "            updateSystemPaths(newPath=thisFile)\n",
        "            dirCount += 1\n",
        "            print(f'\\n{thisFile}')\n",
        "        elif exists(thisFile) and isfile(thisFile) and not thisFile.__contains__('__pycache__'):\n",
        "            fileCount += 1\n",
        "            allGDFilesDict[fileCount] = thisFile\n",
        "            print(f'{fileCount}. {thisFile}')\n",
        "\n",
        "# 08/04/2020-2\n",
        "from google.colab import drive\n",
        "drive.mount('/content/gdrive/', timeout_ms=600000, force_remount=True)\n",
        "%cd /content/"
      ],
      "execution_count": 3,
      "outputs": [
        {
          "output_type": "stream",
          "text": [
            "/content\n",
            "Mounted at /content/gdrive/\n",
            "/content\n"
          ],
          "name": "stdout"
        }
      ]
    },
    {
      "cell_type": "code",
      "metadata": {
        "id": "pSsiIENeG-cJ",
        "colab_type": "code",
        "colab": {
          "base_uri": "https://localhost:8080/",
          "height": 708
        },
        "outputId": "f82d305f-430d-4132-94d7-0bdad6b00b6d"
      },
      "source": [
        "listAllFiles()"
      ],
      "execution_count": 4,
      "outputs": [
        {
          "output_type": "stream",
          "text": [
            "/content/gdrive\n"
          ],
          "name": "stdout"
        },
        {
          "output_type": "error",
          "ename": "UnboundLocalError",
          "evalue": "ignored",
          "traceback": [
            "\u001b[0;31m---------------------------------------------------------------------------\u001b[0m",
            "\u001b[0;31mUnboundLocalError\u001b[0m                         Traceback (most recent call last)",
            "\u001b[0;32m<ipython-input-4-bb637ae1d97d>\u001b[0m in \u001b[0;36m<module>\u001b[0;34m()\u001b[0m\n\u001b[0;32m----> 1\u001b[0;31m \u001b[0mlistAllFiles\u001b[0m\u001b[0;34m(\u001b[0m\u001b[0;34m)\u001b[0m\u001b[0;34m\u001b[0m\u001b[0;34m\u001b[0m\u001b[0m\n\u001b[0m",
            "\u001b[0;32m<ipython-input-3-a5c2d68fa654>\u001b[0m in \u001b[0;36mlistAllFiles\u001b[0;34m()\u001b[0m\n\u001b[1;32m     39\u001b[0m         \u001b[0;32mif\u001b[0m \u001b[0mexists\u001b[0m\u001b[0;34m(\u001b[0m\u001b[0mthisFile\u001b[0m\u001b[0;34m)\u001b[0m \u001b[0;32mand\u001b[0m \u001b[0misdir\u001b[0m\u001b[0;34m(\u001b[0m\u001b[0mthisFile\u001b[0m\u001b[0;34m)\u001b[0m \u001b[0;32mand\u001b[0m \u001b[0;32mnot\u001b[0m \u001b[0mthisFile\u001b[0m\u001b[0;34m.\u001b[0m\u001b[0m__contains__\u001b[0m\u001b[0;34m(\u001b[0m\u001b[0;34m'__pycache__'\u001b[0m\u001b[0;34m)\u001b[0m\u001b[0;34m:\u001b[0m\u001b[0;34m\u001b[0m\u001b[0;34m\u001b[0m\u001b[0m\n\u001b[1;32m     40\u001b[0m             \u001b[0mupdateSystemPaths\u001b[0m\u001b[0;34m(\u001b[0m\u001b[0mnewPath\u001b[0m\u001b[0;34m=\u001b[0m\u001b[0mthisFile\u001b[0m\u001b[0;34m)\u001b[0m\u001b[0;34m\u001b[0m\u001b[0;34m\u001b[0m\u001b[0m\n\u001b[0;32m---> 41\u001b[0;31m             \u001b[0mdirCount\u001b[0m \u001b[0;34m+=\u001b[0m \u001b[0;36m1\u001b[0m\u001b[0;34m\u001b[0m\u001b[0;34m\u001b[0m\u001b[0m\n\u001b[0m\u001b[1;32m     42\u001b[0m             \u001b[0mprint\u001b[0m\u001b[0;34m(\u001b[0m\u001b[0;34mf'\\n{thisFile}'\u001b[0m\u001b[0;34m)\u001b[0m\u001b[0;34m\u001b[0m\u001b[0;34m\u001b[0m\u001b[0m\n\u001b[1;32m     43\u001b[0m         \u001b[0;32melif\u001b[0m \u001b[0mexists\u001b[0m\u001b[0;34m(\u001b[0m\u001b[0mthisFile\u001b[0m\u001b[0;34m)\u001b[0m \u001b[0;32mand\u001b[0m \u001b[0misfile\u001b[0m\u001b[0;34m(\u001b[0m\u001b[0mthisFile\u001b[0m\u001b[0;34m)\u001b[0m \u001b[0;32mand\u001b[0m \u001b[0;32mnot\u001b[0m \u001b[0mthisFile\u001b[0m\u001b[0;34m.\u001b[0m\u001b[0m__contains__\u001b[0m\u001b[0;34m(\u001b[0m\u001b[0;34m'__pycache__'\u001b[0m\u001b[0;34m)\u001b[0m\u001b[0;34m:\u001b[0m\u001b[0;34m\u001b[0m\u001b[0;34m\u001b[0m\u001b[0m\n",
            "\u001b[0;31mUnboundLocalError\u001b[0m: local variable 'dirCount' referenced before assignment"
          ]
        }
      ]
    },
    {
      "cell_type": "code",
      "metadata": {
        "colab_type": "code",
        "id": "ea07nYj2t3Ai",
        "colab": {}
      },
      "source": [
        "# Create a file in bash\n",
        "!echo 'The quick brown fox jumped\\nover the lazy cat.' > BrownFox.py\n",
        "%ls"
      ],
      "execution_count": null,
      "outputs": []
    },
    {
      "cell_type": "code",
      "metadata": {
        "colab_type": "code",
        "id": "iGc-xCO3AZs7",
        "colab": {}
      },
      "source": [
        "#Access Google Drive from Colab\n",
        "%ls -l '/content/gdrive/My Drive/'\n",
        "print()\n",
        "%ls '/content/gdrive/My Drive/Colab Notebooks'"
      ],
      "execution_count": null,
      "outputs": []
    },
    {
      "cell_type": "code",
      "metadata": {
        "colab_type": "code",
        "id": "wtYa3pyKBbX7",
        "colab": {}
      },
      "source": [
        "%cd '/content/gdrive/'\n",
        "%ls"
      ],
      "execution_count": null,
      "outputs": []
    }
  ]
}