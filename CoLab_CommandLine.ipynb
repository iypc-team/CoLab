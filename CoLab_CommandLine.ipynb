{
  "nbformat": 4,
  "nbformat_minor": 0,
  "metadata": {
    "colab": {
      "name": "CoLab_CommandLine.ipynb",
      "provenance": [],
      "collapsed_sections": [],
      "include_colab_link": true
    },
    "kernelspec": {
      "display_name": "Python 3",
      "language": "python",
      "name": "python3"
    },
    "language_info": {
      "codemirror_mode": {
        "name": "ipython",
        "version": 3
      },
      "file_extension": ".py",
      "mimetype": "text/x-python",
      "name": "python",
      "nbconvert_exporter": "python",
      "pygments_lexer": "ipython3",
      "version": "3.7.8"
    }
  },
  "cells": [
    {
      "cell_type": "markdown",
      "metadata": {
        "id": "view-in-github",
        "colab_type": "text"
      },
      "source": [
        "<a href=\"https://colab.research.google.com/github/iypc-team/CoLab/blob/master/CoLab_CommandLine.ipynb\" target=\"_parent\"><img src=\"https://colab.research.google.com/assets/colab-badge.svg\" alt=\"Open In Colab\"/></a>"
      ]
    },
    {
      "cell_type": "code",
      "metadata": {
        "colab_type": "code",
        "id": "TunQBH7JWNi5",
        "colab": {
          "base_uri": "https://localhost:8080/",
          "height": 71
        },
        "outputId": "0b7f6cce-fca4-44bb-de6a-cf62f32a3d2d"
      },
      "source": [
        "# %%writefile Colab_CommandLine.py\n",
        "# 08/05/2020-1\n",
        "from __future__ import absolute_import\n",
        "from IPython.display import clear_output\n",
        "import glob, os, pathlib, sys\n",
        "from os.path import *\n",
        "from pathlib import Path\n",
        "\n",
        "global allGDFiles\n",
        "global allGDFilesDict\n",
        "\n",
        "def __init__(self):\n",
        "    pass\n",
        "\n",
        "def printSystemModules():\n",
        "    for mod in sys.modules.copy():\n",
        "        print(mod)\n",
        "\n",
        "def setInitialSystemPaths():\n",
        "    allGDFiles = glob.glob('**', recursive=True)\n",
        "    sysPaths = sys.path.copy()\n",
        "    for fil in allGDFiles:\n",
        "        if isdir(fil) and not fil in sysPaths:\n",
        "            sys.path.append(fil)\n",
        "            # print(fil, fil.__class__)\n",
        "\n",
        "def updateSystemPaths(newPath=None, silent=True):\n",
        "    namedPath = str(newPath)\n",
        "    sysPaths = sys.path.copy()\n",
        "    if not namedPath in sysPaths and exists(namedPath) and namedPath != 'None':\n",
        "        sys.path.append(namedPath)\n",
        "    if not silent:\n",
        "        pathCount = 0\n",
        "        for pth in sysPaths:\n",
        "            pathCount += 1\n",
        "            print(f'{pathCount}. {pth}')\n",
        "\n",
        "def listAllFiles(silent=False):\n",
        "    try:\n",
        "        %cd \"/content/\"\n",
        "    except Exception as err:\n",
        "        print(err)\n",
        "    allGDFiles = glob.glob('**', recursive=True)\n",
        "    allGDFilesDict = {}\n",
        "    dirCount = 0\n",
        "    fileCount = 0\n",
        "    for fil in sorted(allGDFiles):\n",
        "        thisFile = realpath(fil)\n",
        "        if exists(thisFile) and isdir(thisFile) and not thisFile.__contains__('__pycache__'):\n",
        "            updateSystemPaths(newPath=thisFile)\n",
        "            dirCount += 1\n",
        "            if not silent:\n",
        "                print(f'\\n{thisFile}')\n",
        "        elif exists(thisFile) and isfile(thisFile) and not thisFile.__contains__('__pycache__'):\n",
        "            fileCount += 1\n",
        "            allGDFilesDict[fileCount] = thisFile\n",
        "            if not silent:\n",
        "                print(f'{fileCount}. {thisFile}')\n",
        "\n",
        "from google.colab import drive\n",
        "drive.mount('/content/gdrive/', timeout_ms=600000, force_remount=True)\n",
        "%cd '/content/'\n",
        "\n",
        "# updateSystemPaths(silent=False)\n",
        "\n",
        "try:\n",
        "    from FileUtilities import C\n",
        "    print(f'{C.GREEN}Ok')\n",
        "except Exception as err:\n",
        "    print(err, '\\n')\n",
        "    setInitialSystemPaths()\n",
        "    try:\n",
        "        from FileUtilities import C\n",
        "        print(f'{C.HEADER}ok')\n",
        "    except Exception as err:\n",
        "        print(err)"
      ],
      "execution_count": 4,
      "outputs": [
        {
          "output_type": "stream",
          "text": [
            "Mounted at /content/gdrive/\n",
            "/content\n",
            "\u001b[92mOk\n"
          ],
          "name": "stdout"
        }
      ]
    },
    {
      "cell_type": "code",
      "metadata": {
        "id": "fVqA_Y1G_sbv",
        "colab_type": "code",
        "colab": {}
      },
      "source": [
        "addS"
      ],
      "execution_count": null,
      "outputs": []
    },
    {
      "cell_type": "code",
      "metadata": {
        "colab_type": "code",
        "id": "pSsiIENeG-cJ",
        "colab": {}
      },
      "source": [
        "printSystemModules()\n",
        "clear_output()"
      ],
      "execution_count": null,
      "outputs": []
    },
    {
      "cell_type": "code",
      "metadata": {
        "colab_type": "code",
        "id": "ea07nYj2t3Ai",
        "colab": {}
      },
      "source": [
        "# Create a file in bash\n",
        "!echo 'The quick brown fox jumped\\nover the lazy cat.' > BrownFox.py\n",
        "%ls"
      ],
      "execution_count": null,
      "outputs": []
    },
    {
      "cell_type": "code",
      "metadata": {
        "colab_type": "code",
        "id": "iGc-xCO3AZs7",
        "colab": {}
      },
      "source": [
        "#Access Google Drive from Colab\n",
        "%ls '/content/gdrive/My Drive/'\n",
        "print()\n",
        "%ls '/content/gdrive/My Drive/Colab Notebooks'"
      ],
      "execution_count": null,
      "outputs": []
    },
    {
      "cell_type": "code",
      "metadata": {
        "colab_type": "code",
        "id": "wtYa3pyKBbX7",
        "colab": {}
      },
      "source": [
        "%cd '/content/gdrive/'\n",
        "%ls"
      ],
      "execution_count": null,
      "outputs": []
    }
  ]
}