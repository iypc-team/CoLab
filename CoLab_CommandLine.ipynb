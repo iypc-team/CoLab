{
  "nbformat": 4,
  "nbformat_minor": 0,
  "metadata": {
    "colab": {
      "name": "CoLab_CommandLine.ipynb",
      "provenance": [],
      "collapsed_sections": [],
      "include_colab_link": true
    },
    "kernelspec": {
      "display_name": "Python 3",
      "language": "python",
      "name": "python3"
    },
    "language_info": {
      "codemirror_mode": {
        "name": "ipython",
        "version": 3
      },
      "file_extension": ".py",
      "mimetype": "text/x-python",
      "name": "python",
      "nbconvert_exporter": "python",
      "pygments_lexer": "ipython3",
      "version": "3.7.8"
    }
  },
  "cells": [
    {
      "cell_type": "markdown",
      "metadata": {
        "id": "view-in-github",
        "colab_type": "text"
      },
      "source": [
        "<a href=\"https://colab.research.google.com/github/iypc-team/CoLab/blob/master/CoLab_CommandLine.ipynb\" target=\"_parent\"><img src=\"https://colab.research.google.com/assets/colab-badge.svg\" alt=\"Open In Colab\"/></a>"
      ]
    },
    {
      "cell_type": "code",
      "metadata": {
        "colab_type": "code",
        "id": "1SVR7J4UCw-M",
        "colab": {}
      },
      "source": [
        "# 08/04/2020-1\n",
        "from google.colab import drive\n",
        "drive.mount('/content/gdrive/', timeout_ms=600000, force_remount=True)"
      ],
      "execution_count": null,
      "outputs": []
    },
    {
      "cell_type": "code",
      "metadata": {
        "colab_type": "code",
        "id": "TunQBH7JWNi5",
        "colab": {}
      },
      "source": [
        "from __future__ import absolute_import\n",
        "from IPython.display import clear_output\n",
        "import glob, os, pathlib, sys\n",
        "from os.path import *\n",
        "from pathlib import Path \n",
        "print(Path.home())\n",
        "print(Path.cwd())\n",
        "print()\n",
        "%cd '/content/gdrive/My Drive/'\n",
        "import FileUtilities\n",
        "from FileUtilities import *\n",
        "print(f'{C.GREEN}Ok')"
      ],
      "execution_count": null,
      "outputs": []
    },
    {
      "cell_type": "code",
      "metadata": {
        "id": "bjLs4IdJqS4u",
        "colab_type": "code",
        "colab": {}
      },
      "source": [
        "allGDFiles = glob.glob('**', recursive=True)\n",
        "allGDFilesDict = {}\n",
        "sysPaths = sys.path.copy()\n",
        "dirCount = 0\n",
        "fileCount = 0\n",
        "\n",
        "def updateSystemPaths(pathNamed=None, silent=True):\n",
        "    if not pathNamed in sysPaths:\n",
        "        sys.path.append(pathNamed)\n",
        "    else: pass\n",
        "\n",
        "print(f'{C.BLUE}{Path.cwd()}')\n",
        "for fil in sorted(allGDFiles):\n",
        "    thisFile = realpath(fil)\n",
        "    if exists(thisFile) and isdir(thisFile) and not thisFile.__contains__('__pycache__'):  \n",
        "        dirCount += 1\n",
        "        print(f'\\n{C.BLUE}{thisFile}')\n",
        "    elif exists(thisFile) and isfile(thisFile) and not thisFile.__contains__('__pycache__'):  \n",
        "        fileCount += 1\n",
        "        allGDFilesDict[fileCount] = thisFile\n",
        "        print(f'{C.WHITE}{fileCount}. {thisFile}')\n",
        "\n",
        "clear_output()"
      ],
      "execution_count": null,
      "outputs": []
    },
    {
      "cell_type": "code",
      "metadata": {
        "colab_type": "code",
        "id": "ea07nYj2t3Ai",
        "colab": {}
      },
      "source": [
        "# Create a file in bash\n",
        "!echo 'The quick brown fox jumped\\nover the lazy cat.' > BrownFox.py\n",
        "%ls"
      ],
      "execution_count": null,
      "outputs": []
    },
    {
      "cell_type": "code",
      "metadata": {
        "colab_type": "code",
        "id": "iGc-xCO3AZs7",
        "colab": {}
      },
      "source": [
        "#Access Google Drive from Colab\n",
        "%ls -l '/content/gdrive/My Drive/'\n",
        "print()\n",
        "%ls '/content/gdrive/My Drive/ColabNotebooks'"
      ],
      "execution_count": null,
      "outputs": []
    },
    {
      "cell_type": "code",
      "metadata": {
        "colab_type": "code",
        "id": "wtYa3pyKBbX7",
        "colab": {}
      },
      "source": [
        "%cd '/content/gdrive/'\n",
        "%ls"
      ],
      "execution_count": null,
      "outputs": []
    }
  ]
}