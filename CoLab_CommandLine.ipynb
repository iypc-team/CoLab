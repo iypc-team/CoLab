{
  "nbformat": 4,
  "nbformat_minor": 0,
  "metadata": {
    "colab": {
      "name": "CoLab_CommandLine.ipynb",
      "provenance": [],
      "collapsed_sections": [],
      "include_colab_link": true
    },
    "kernelspec": {
      "display_name": "Python 3",
      "language": "python",
      "name": "python3"
    },
    "language_info": {
      "codemirror_mode": {
        "name": "ipython",
        "version": 3
      },
      "file_extension": ".py",
      "mimetype": "text/x-python",
      "name": "python",
      "nbconvert_exporter": "python",
      "pygments_lexer": "ipython3",
      "version": "3.7.8"
    }
  },
  "cells": [
    {
      "cell_type": "markdown",
      "metadata": {
        "id": "view-in-github",
        "colab_type": "text"
      },
      "source": [
        "<a href=\"https://colab.research.google.com/github/iypc-team/CoLab/blob/master/CoLab_CommandLine.ipynb\" target=\"_parent\"><img src=\"https://colab.research.google.com/assets/colab-badge.svg\" alt=\"Open In Colab\"/></a>"
      ]
    },
    {
      "cell_type": "code",
      "metadata": {
        "colab_type": "code",
        "id": "TunQBH7JWNi5",
        "colab": {}
      },
      "source": [
        "# %%writefile Colab_CommandLine.py\n",
        "# 08/07/2020-2\n",
        "from __future__ import absolute_import\n",
        "from IPython.display import clear_output\n",
        "import glob, os, pathlib, sys\n",
        "from os.path import *\n",
        "from pathlib import Path\n",
        "\n",
        "global allGDFiles\n",
        "global allGDFilesDict\n",
        "\n",
        "class GoogleDrive(object):\n",
        "    def __init__(self):\n",
        "        %cd '/content/'\n",
        "        self.allGDFiles = glob.glob('**', recursive=True)\n",
        "        self.allGDFilesDict = {}\n",
        "    \n",
        "    def printSystemModules(self):\n",
        "        for mod in sys.modules.copy():\n",
        "            print(mod)\n",
        "\n",
        "    def setInitialSystemPaths(self):\n",
        "        self.allGDFiles = glob.glob('**', recursive=True)\n",
        "        sysPaths = sys.path.copy()\n",
        "        for fil in self.allGDFiles:\n",
        "            if isdir(fil) and not fil in sysPaths:\n",
        "                sys.path.append(fil)\n",
        "\n",
        "    def addSystemPath(self, newPath=None, silent=True):\n",
        "        namedPath = str(newPath)\n",
        "        sysPaths = sys.path.copy()\n",
        "        if not namedPath in sysPaths and exists(namedPath) and namedPath != 'None':\n",
        "            sys.path.append(namedPath)\n",
        "        elif not silent:\n",
        "            pathCount = 0\n",
        "            for pth in sorted(sysPaths):\n",
        "                pathCount += 1\n",
        "                print(f'{C.WHITE}{pathCount}. {C.BLUE}{pth}')\n",
        "\n",
        "    def listAllFiles(self, silent=False):\n",
        "        try:\n",
        "            print(f'{C.BLUE}')\n",
        "            %cd \"/content/\"\n",
        "        except Exception as err:\n",
        "            print(err)\n",
        "        self.allGDFiles = glob.glob('**', recursive=True)\n",
        "        dirCount = 0\n",
        "        fileCount = 0\n",
        "        for fil in sorted(self.allGDFiles):\n",
        "            thisFile = realpath(fil)\n",
        "            if exists(thisFile) and isdir(thisFile) and not thisFile.__contains__('__pycache__'):\n",
        "                # addSystemPath(newPath=thisFile)\n",
        "                dirCount += 1\n",
        "                if not silent:\n",
        "                    print(f'\\n{C.BLUE}{thisFile}')\n",
        "            elif exists(thisFile) and isfile(thisFile) and not thisFile.__contains__('__pycache__'):\n",
        "                fileCount += 1\n",
        "                self.allGDFilesDict[fileCount] = thisFile\n",
        "                if not silent:\n",
        "                    print(f'{C.WHITE}{fileCount}. {basename(thisFile)}')\n",
        "\n",
        "from google.colab import drive\n",
        "drive.mount('/content/gdrive/', timeout_ms=600000, force_remount=True)\n",
        "\n",
        "gd = GoogleDrive()\n",
        "gd.setInitialSystemPaths()\n",
        "gd.addSystemPath(silent=True)\n",
        "\n",
        "# from FileUtilities import *\n",
        "# print(f'{C.GREEN}Ok')"
      ],
      "execution_count": null,
      "outputs": []
    },
    {
      "cell_type": "code",
      "metadata": {
        "id": "OhXo2UK0AP1Z",
        "colab_type": "code",
        "colab": {}
      },
      "source": [
        "from FileUtilities import *\n",
        "print(f'{C.GREEN}Ok')"
      ],
      "execution_count": null,
      "outputs": []
    },
    {
      "cell_type": "code",
      "metadata": {
        "id": "QBT-6TqdAPRa",
        "colab_type": "code",
        "colab": {}
      },
      "source": [
        "gd.listAllFiles()"
      ],
      "execution_count": null,
      "outputs": []
    },
    {
      "cell_type": "code",
      "metadata": {
        "id": "sKUtVws9EAXF",
        "colab_type": "code",
        "colab": {}
      },
      "source": [
        "def createNewFileGoogleDrive():\n",
        "    gd.listAllFiles(silent=True)\n",
        "    print(len(gd.allGDFilesDict), 'files in')\n",
        "    pth = gd.allGDFilesDict[10]\n",
        "    with open(pth, 'r') as openFile:\n",
        "        %cd '/content/gdrive/My Drive/Colab Notebooks'\n",
        "        fileText = openFile.read()\n",
        "        print(f'{C.WHITE}')\n",
        "        print(fileText)\n",
        "        !echo fileText > FileUtilities.py"
      ],
      "execution_count": null,
      "outputs": []
    },
    {
      "cell_type": "code",
      "metadata": {
        "id": "IVbRQVgxK2S7",
        "colab_type": "code",
        "colab": {}
      },
      "source": [
        "print(f'{C.HEADER}{len(gd.allGDFiles)} files in')\n",
        "gd.listAllFiles()"
      ],
      "execution_count": null,
      "outputs": []
    }
  ]
}