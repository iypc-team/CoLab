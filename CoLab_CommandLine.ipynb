{
  "nbformat": 4,
  "nbformat_minor": 0,
  "metadata": {
    "colab": {
      "name": "CoLab_CommandLine.ipynb",
      "provenance": [],
      "collapsed_sections": [],
      "include_colab_link": true
    },
    "kernelspec": {
      "display_name": "Python 3",
      "language": "python",
      "name": "python3"
    },
    "language_info": {
      "codemirror_mode": {
        "name": "ipython",
        "version": 3
      },
      "file_extension": ".py",
      "mimetype": "text/x-python",
      "name": "python",
      "nbconvert_exporter": "python",
      "pygments_lexer": "ipython3",
      "version": "3.7.8"
    }
  },
  "cells": [
    {
      "cell_type": "markdown",
      "metadata": {
        "id": "view-in-github",
        "colab_type": "text"
      },
      "source": [
        "<a href=\"https://colab.research.google.com/github/iypc-team/CoLab/blob/master/CoLab_CommandLine.ipynb\" target=\"_parent\"><img src=\"https://colab.research.google.com/assets/colab-badge.svg\" alt=\"Open In Colab\"/></a>"
      ]
    },
    {
      "cell_type": "code",
      "metadata": {
        "colab_type": "code",
        "id": "1SVR7J4UCw-M",
        "colab": {
          "base_uri": "https://localhost:8080/",
          "height": 35
        },
        "outputId": "b7ba14cf-fb94-4be1-9730-0c4491ecd004"
      },
      "source": [
        "# 08/04/2020-2\n",
        "from google.colab import drive\n",
        "drive.mount('/content/gdrive/', timeout_ms=600000, force_remount=True)"
      ],
      "execution_count": 1,
      "outputs": [
        {
          "output_type": "stream",
          "text": [
            "Mounted at /content/gdrive/\n"
          ],
          "name": "stdout"
        }
      ]
    },
    {
      "cell_type": "code",
      "metadata": {
        "colab_type": "code",
        "id": "TunQBH7JWNi5",
        "colab": {}
      },
      "source": [
        "from __future__ import absolute_import\n",
        "from IPython.display import clear_output\n",
        "import glob, os, pathlib, sys\n",
        "from os.path import *\n",
        "from pathlib import Path\n",
        "\n",
        "for mod in sys.modules.copy():\n",
        "    if mod == 'FileUtilities.py':\n",
        "        print(mod)\n",
        "    else: pass\n",
        "\n",
        "from FileUtilities import C\n",
        "print(f'{C.GREEN}Ok')"
      ],
      "execution_count": null,
      "outputs": []
    },
    {
      "cell_type": "code",
      "metadata": {
        "colab_type": "code",
        "id": "bjLs4IdJqS4u",
        "colab": {
          "base_uri": "https://localhost:8080/",
          "height": 305
        },
        "outputId": "b38388de-13ba-42da-fe3e-54c288d105d4"
      },
      "source": [
        "%cd \"/content/\"\n",
        "allGDFiles = glob.glob('**', recursive=True)\n",
        "allGDFilesDict = {}\n",
        "dirCount = 0\n",
        "fileCount = 0\n",
        "\n",
        "def updateSystemPaths(newPath=None, silent=True):\n",
        "    namedPath = str(newPath)\n",
        "    print(namedPath)\n",
        "    sysPaths = sys.path.copy()\n",
        "    if not namedPath in sysPaths and exists(namedPath) and namedPath != 'None':\n",
        "        sys.path.append(namedPath)\n",
        "    else: pass\n",
        "    if not silent:\n",
        "        pathCount = 0\n",
        "        for pth in sysPaths:\n",
        "            pathCount += 1\n",
        "            print(f'{pathCount}. {pth}')\n",
        "    else: pass\n",
        "\n",
        "for fil in sorted(allGDFiles):\n",
        "    thisFile = realpath(fil)\n",
        "    if exists(thisFile) and isdir(thisFile) and not thisFile.__contains__('__pycache__'):  \n",
        "        updateSystemPaths(newPath=thisFile)\n",
        "        dirCount += 1\n",
        "        print(f'\\n{thisFile}')\n",
        "    elif exists(thisFile) and isfile(thisFile) and not thisFile.__contains__('__pycache__'):  \n",
        "        fileCount += 1\n",
        "        allGDFilesDict[fileCount] = thisFile\n",
        "        print(f'{fileCount}. {thisFile}')\n",
        "\n",
        "clear_output()\n",
        "updateSystemPaths(silent=False)\n"
      ],
      "execution_count": 3,
      "outputs": [
        {
          "output_type": "stream",
          "text": [
            "None\n",
            "1. \n",
            "2. /env/python\n",
            "3. /usr/lib/python36.zip\n",
            "4. /usr/lib/python3.6\n",
            "5. /usr/lib/python3.6/lib-dynload\n",
            "6. /usr/local/lib/python3.6/dist-packages\n",
            "7. /usr/lib/python3/dist-packages\n",
            "8. /usr/local/lib/python3.6/dist-packages/IPython/extensions\n",
            "9. /root/.ipython\n",
            "10. /content/gdrive\n",
            "11. /content/gdrive/My Drive\n",
            "12. /content/gdrive/My Drive/Colab Notebooks\n",
            "13. /content/gdrive/My Drive/Images\n",
            "14. /content/gdrive/My Drive/Swift\n",
            "15. /content/sample_data\n"
          ],
          "name": "stdout"
        }
      ]
    },
    {
      "cell_type": "code",
      "metadata": {
        "colab_type": "code",
        "id": "ea07nYj2t3Ai",
        "colab": {
          "base_uri": "https://localhost:8080/",
          "height": 75
        },
        "outputId": "c8bd1f37-cf07-4661-ef95-228e7baaaf2d"
      },
      "source": [
        "# Create a file in bash\n",
        "!echo 'The quick brown fox jumped\\nover the lazy cat.' > BrownFox.py\n",
        "%ls"
      ],
      "execution_count": 4,
      "outputs": [
        {
          "output_type": "stream",
          "text": [
            "BrownFox.py  \u001b[0m\u001b[01;34mgdrive\u001b[0m/  \u001b[01;34msample_data\u001b[0m/\n"
          ],
          "name": "stdout"
        }
      ]
    },
    {
      "cell_type": "code",
      "metadata": {
        "colab_type": "code",
        "id": "iGc-xCO3AZs7",
        "colab": {
          "base_uri": "https://localhost:8080/",
          "height": 425
        },
        "outputId": "11b983c1-5e04-4aba-8d10-9a2b73eee853"
      },
      "source": [
        "#Access Google Drive from Colab\n",
        "%ls -l '/content/gdrive/My Drive/'\n",
        "print()\n",
        "%ls '/content/gdrive/My Drive/Colab Notebooks'"
      ],
      "execution_count": 5,
      "outputs": [
        {
          "output_type": "stream",
          "text": [
            "total 16\n",
            "drwx------ 3 root root 4096 Aug  4 15:30 \u001b[0m\u001b[01;34m'Colab Notebooks'\u001b[0m/\n",
            "drwx------ 2 root root 4096 Jun 24 12:43  \u001b[01;34mImages\u001b[0m/\n",
            "drwx------ 2 root root 4096 Aug  4 14:54  \u001b[01;34m__pycache__\u001b[0m/\n",
            "drwx------ 2 root root 4096 Oct 29  2019  \u001b[01;34mSwift\u001b[0m/\n",
            "\n",
            "'CoLab_CommandLine (1).ipynb'  'gAuth (1).txt'         GoogleDrive_Files.ipynb\n",
            " CoLab_CommandLine.ipynb        gAuthCredentials.txt   Jon_Krohn.ipynb\n",
            " File_Utilities_2.ipynb         gAuth.txt              Phil_Tabor.ipynb\n",
            " FileUtilities.py               Github_Login.ipynb     \u001b[0m\u001b[01;34m__pycache__\u001b[0m/\n",
            " fool.txt                       GoogleAuth.txt\n"
          ],
          "name": "stdout"
        }
      ]
    },
    {
      "cell_type": "code",
      "metadata": {
        "colab_type": "code",
        "id": "wtYa3pyKBbX7",
        "colab": {
          "base_uri": "https://localhost:8080/",
          "height": 104
        },
        "outputId": "47328ec0-293d-48fa-fdcf-b36f99932394"
      },
      "source": [
        "%cd '/content/gdrive/'\n",
        "%ls"
      ],
      "execution_count": 6,
      "outputs": [
        {
          "output_type": "stream",
          "text": [
            "/content/gdrive\n",
            "\u001b[0m\u001b[01;34m'My Drive'\u001b[0m/\n"
          ],
          "name": "stdout"
        }
      ]
    }
  ]
}