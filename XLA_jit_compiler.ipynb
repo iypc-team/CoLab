{
  "nbformat": 4,
  "nbformat_minor": 0,
  "metadata": {
    "colab": {
      "name": "XLA_jit_compiler.ipynb",
      "private_outputs": true,
      "provenance": [],
      "collapsed_sections": [],
      "machine_shape": "hm",
      "include_colab_link": true
    },
    "kernelspec": {
      "display_name": "Python 3",
      "name": "python3"
    },
    "language_info": {
      "codemirror_mode": {
        "name": "ipython",
        "version": 3
      },
      "file_extension": ".py",
      "mimetype": "text/x-python",
      "name": "python",
      "nbconvert_exporter": "python",
      "pygments_lexer": "ipython3",
      "version": "3.7.5rc1"
    },
    "accelerator": "GPU"
  },
  "cells": [
    {
      "cell_type": "markdown",
      "metadata": {
        "id": "view-in-github",
        "colab_type": "text"
      },
      "source": [
        "<a href=\"https://colab.research.google.com/github/iypc-team/CoLab/blob/master/XLA_jit_compiler.ipynb\" target=\"_parent\"><img src=\"https://colab.research.google.com/assets/colab-badge.svg\" alt=\"Open In Colab\"/></a>"
      ]
    },
    {
      "cell_type": "markdown",
      "metadata": {
        "id": "sDy5lSBd4BDE"
      },
      "source": [
        "This tutorial trains a TensorFlow model to classify the MNIST dataset, where the training function is compiled using XLA.\n",
        "\n",
        "First, load TensorFlow and enable eager execution."
      ]
    },
    {
      "cell_type": "code",
      "metadata": {
        "id": "45kUPj5ZFrRa"
      },
      "source": [
        "from __future__ import absolute_import\n",
        "import os\n",
        "from os.path import *\n",
        "try: import tensorflow as tf\n",
        "except ModuleNotFoundError:\n",
        "    !pip install tensorflow\n",
        "    import tensorflow as tf\n",
        "print(tf.__version__)\n",
        "tf.compat.v1.enable_eager_execution()"
      ],
      "execution_count": null,
      "outputs": []
    },
    {
      "cell_type": "markdown",
      "metadata": {
        "id": "GZVNiRmTDV-5"
      },
      "source": [
        "Then define some necessary constants and prepare the MNIST dataset."
      ]
    },
    {
      "cell_type": "code",
      "metadata": {
        "id": "f37TSEGvGX4_"
      },
      "source": [
        "# Size of each input image, 28 x 28 pixels\n",
        "IMAGE_SIZE = 28 * 28\n",
        "# Number of distinct number labels, [0..9]\n",
        "NUM_CLASSES = 10\n",
        "# Number of examples in each training batch (step)\n",
        "TRAIN_BATCH_SIZE = 100\n",
        "# Number of training steps to run\n",
        "TRAIN_STEPS = 1000\n",
        "\n",
        "# Loads MNIST dataset.\n",
        "\n",
        "# train, test = tf.keras.datasets.mnist.load_data()\n",
        "# train_ds = tf.data.Dataset.from_tensor_slices(train).batch(TRAIN_BATCH_SIZE).repeat()\n",
        "\n",
        "# Casting from raw data to the required datatypes.\n",
        "def cast(images, labels):\n",
        "  images = tf.cast(\n",
        "      tf.reshape(images, [-1, IMAGE_SIZE]), tf.float32)\n",
        "  labels = tf.cast(labels, tf.int64)\n",
        "  return (images, labels)"
      ],
      "execution_count": null,
      "outputs": []
    },
    {
      "cell_type": "markdown",
      "metadata": {
        "id": "lv7I-u_82v1S"
      },
      "source": [
        "Finally, define the model and the optimizer. The model uses a single dense layer."
      ]
    },
    {
      "cell_type": "code",
      "metadata": {
        "id": "7O2NcEfG206Q"
      },
      "source": [
        "layer = tf.keras.layers.Dense(NUM_CLASSES)\n",
        "optimizer = tf.keras.optimizers.Adam()"
      ],
      "execution_count": null,
      "outputs": []
    },
    {
      "cell_type": "markdown",
      "metadata": {
        "id": "x_ZehpZP-SfS"
      },
      "source": [
        "# Define the training function\n",
        "\n",
        "In the training function, you get the predicted labels using the layer defined above, and then minimize the gradient of the loss using the optimizer. In order to compile the computation using XLA, place it inside `tf.function` with `jit_compile=True`."
      ]
    },
    {
      "cell_type": "code",
      "metadata": {
        "id": "ZbhJl_WvGa3g"
      },
      "source": [
        "@tf.function(jit_compile=True)\n",
        "def train_mnist(images, labels):\n",
        "    images, labels = cast(images, labels)\n",
        "\n",
        "    with tf.GradientTape() as tape:\n",
        "      predicted_labels = layer(images)\n",
        "      loss = tf.reduce_mean(tf.nn.sparse_softmax_cross_entropy_with_logits(\n",
        "          logits=predicted_labels, labels=labels\n",
        "      ))\n",
        "    layer_variables = layer.trainable_variables\n",
        "    grads = tape.gradient(loss, layer_variables)\n",
        "    optimizer.apply_gradients(zip(grads, layer_variables))"
      ],
      "execution_count": null,
      "outputs": []
    },
    {
      "cell_type": "markdown",
      "metadata": {
        "id": "EZD1m_n1DxAF"
      },
      "source": [
        "# Train and test the model"
      ]
    },
    {
      "cell_type": "markdown",
      "metadata": {
        "id": "gukC2Hol3sFZ"
      },
      "source": [
        "Once you have defined the training function, define the model."
      ]
    },
    {
      "cell_type": "code",
      "metadata": {
        "id": "qe28bAHNHUG2"
      },
      "source": [
        "for images, labels in train_ds:\n",
        "  if optimizer.iterations > TRAIN_STEPS:\n",
        "    break\n",
        "  train_mnist(images, labels)"
      ],
      "execution_count": null,
      "outputs": []
    },
    {
      "cell_type": "markdown",
      "metadata": {
        "id": "qgsKmz3n2UiW"
      },
      "source": [
        "And, finally, check the accuracy:"
      ]
    },
    {
      "cell_type": "code",
      "metadata": {
        "id": "_GxF6jTRHVuA"
      },
      "source": [
        "images, labels = cast(test[0], test[1])\n",
        "predicted_labels = layer(images)\n",
        "correct_prediction = tf.equal(tf.argmax(predicted_labels, 1), labels)\n",
        "accuracy = tf.reduce_mean(tf.cast(correct_prediction, tf.float32))\n",
        "print(\"Prediction accuracy after training: %s\" % accuracy)"
      ],
      "execution_count": null,
      "outputs": []
    },
    {
      "cell_type": "markdown",
      "metadata": {
        "id": "PXoOjJnuZRaV"
      },
      "source": [
        "Behind the scenes, the XLA compiler has compiled the entire TF function to HLO, which has enabled fusion optimizations. Using the introspection facilities, we can see the HLO code (other interesting possible values for \"stage\" are `optimized_hlo` for HLO after optimizations and `optimized_hlo_dot` for a Graphviz graph):"
      ]
    },
    {
      "cell_type": "code",
      "metadata": {
        "id": "_a8GsNLVaLSQ"
      },
      "source": [
        "print(train_mnist.experimental_get_compiler_ir(images, labels)(stage='hlo'))"
      ],
      "execution_count": null,
      "outputs": []
    }
  ]
}