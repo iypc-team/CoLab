{
  "nbformat": 4,
  "nbformat_minor": 0,
  "metadata": {
    "colab": {
      "name": "mnist/dataset.ipynb",
      "private_outputs": true,
      "provenance": [],
      "collapsed_sections": [],
      "include_colab_link": true
    },
    "kernelspec": {
      "display_name": "Python 3",
      "name": "python3"
    }
  },
  "cells": [
    {
      "cell_type": "markdown",
      "metadata": {
        "id": "view-in-github",
        "colab_type": "text"
      },
      "source": [
        "<a href=\"https://colab.research.google.com/github/iypc-team/CoLab/blob/master/mnist_dataset.ipynb\" target=\"_parent\"><img src=\"https://colab.research.google.com/assets/colab-badge.svg\" alt=\"Open In Colab\"/></a>"
      ]
    },
    {
      "cell_type": "code",
      "metadata": {
        "id": "TTBSvHcSLBzc"
      },
      "source": [
        "#  training a neural network on mnist with keras\n",
        "# import tensorflow.compat.v2 as tf\n",
        "import tensorflow as tf\n",
        "import tensorflow_datasets as tfds\n",
        "# tf.enable_v2_behavior()"
      ],
      "execution_count": null,
      "outputs": []
    },
    {
      "cell_type": "markdown",
      "metadata": {
        "id": "VjI6VgOBf0v0"
      },
      "source": [
        "## Step 1: Create your input pipeline\n",
        "\n",
        "Build efficient input pipeline using advices from:\n",
        "* [TFDS performance guide](https://www.tensorflow.org/datasets/performances)\n",
        "* [tf.data performance guide](https://www.tensorflow.org/guide/data_performance#optimize_performance)\n"
      ]
    },
    {
      "cell_type": "markdown",
      "metadata": {
        "id": "c3aH3vP_XLI8"
      },
      "source": [
        "### Load MNIST\n",
        "\n",
        "Load with the following arguments:\n",
        "\n",
        "* `shuffle_files`: The MNIST data is only stored in a single file, but for larger datasets with multiple files on disk, it's good practice to shuffle them when training.\n",
        "* `as_supervised`: Returns tuple `(img, label)` instead of dict `{'image': img, 'label': label}`"
      ]
    },
    {
      "cell_type": "code",
      "metadata": {
        "id": "ZUMhCXhFXdHQ"
      },
      "source": [
        "(ds_train, ds_test), ds_info = tfds.load('mnist',\n",
        "                                         split=['train', 'test'],\n",
        "                                         shuffle_files=True,\n",
        "                                         as_supervised=True,\n",
        "                                         with_info=True, )"
      ],
      "execution_count": null,
      "outputs": []
    },
    {
      "cell_type": "markdown",
      "metadata": {
        "id": "rgwCFAcWXQTx"
      },
      "source": [
        "### Build training pipeline\n",
        "\n",
        "Apply the following transormations:\n",
        "\n",
        "* `ds.map`: TFDS provide the images as tf.uint8, while the model expect tf.float32, so normalize images\n",
        "* `ds.cache` As the dataset fit in memory, cache before shuffling for better performance.<br/>\n",
        "__Note:__ Random transformations should be applied after caching\n",
        "* `ds.shuffle`: For true randomness, set the shuffle buffer to the full dataset size.<br/>\n",
        "__Note:__ For bigger datasets which do not fit in memory, a standard value is 1000 if your system allows it.\n",
        "* `ds.batch`: Batch after shuffling to get unique batches at each epoch.\n",
        "* `ds.prefetch`: Good practice to end the pipeline by prefetching [for performances](https://www.tensorflow.org/guide/data_performance#prefetching)."
      ]
    },
    {
      "cell_type": "code",
      "metadata": {
        "id": "haykx2K9XgiI"
      },
      "source": [
        "def normalize_img(image, label):\n",
        "  \"\"\"Normalizes images: `uint8` -> `float32`.\"\"\"\n",
        "  return tf.cast(image, tf.float32) / 255., label\n",
        "\n",
        "ds_train = ds_train.map(normalize_img,\n",
        "                        num_parallel_calls=tf.data.experimental.AUTOTUNE)\n",
        "ds_train = ds_train.cache()\n",
        "ds_train = ds_train.shuffle(ds_info.splits['train'].num_examples)\n",
        "ds_train = ds_train.batch(128)\n",
        "ds_train = ds_train.prefetch(tf.data.experimental.AUTOTUNE)"
      ],
      "execution_count": null,
      "outputs": []
    },
    {
      "cell_type": "markdown",
      "metadata": {
        "id": "RbsMy4X1XVFv"
      },
      "source": [
        "### Build evaluation pipeline\n",
        "\n",
        "Testing pipeline is similar to the training pipeline, with small differences:\n",
        "\n",
        " * No `ds.shuffle()` call\n",
        " * Caching is done after batching (as batches can be the same between epoch)"
      ]
    },
    {
      "cell_type": "code",
      "metadata": {
        "id": "A0KjuDf7XiqY"
      },
      "source": [
        "ds_test = ds_test.map(normalize_img,\n",
        "                      num_parallel_calls=tf.data.experimental.AUTOTUNE)\n",
        "ds_test = ds_test.batch(128)\n",
        "ds_test = ds_test.cache()\n",
        "ds_test = ds_test.prefetch(tf.data.experimental.AUTOTUNE)"
      ],
      "execution_count": null,
      "outputs": []
    },
    {
      "cell_type": "markdown",
      "metadata": {
        "id": "nTFoji3INMEM"
      },
      "source": [
        "## Step 2: Create and train the model\n",
        "\n",
        "Plug the input pipeline into Keras."
      ]
    },
    {
      "cell_type": "code",
      "metadata": {
        "id": "XWqxdmS1NLKA"
      },
      "source": [
        "model = tf.keras.models.Sequential([\n",
        "  tf.keras.layers.Flatten(input_shape=(28, 28)),\n",
        "  tf.keras.layers.Dense(128,activation='relu'),\n",
        "  tf.keras.layers.Dense(10)\n",
        "])\n",
        "model.compile(\n",
        "    optimizer=tf.keras.optimizers.Adam(0.001),\n",
        "    loss=tf.keras.losses.SparseCategoricalCrossentropy(from_logits=True),\n",
        "    metrics=[tf.keras.metrics.SparseCategoricalAccuracy()],\n",
        ")\n",
        "\n",
        "model.fit(ds_train,\n",
        "          epochs=6,\n",
        "          validation_data=ds_test, )"
      ],
      "execution_count": null,
      "outputs": []
    }
  ]
}