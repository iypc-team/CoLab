{
  "nbformat": 4,
  "nbformat_minor": 0,
  "metadata": {
    "colab": {
      "name": "DegreesToRadians_swift.ipynb",
      "version": "0.3.2",
      "provenance": [],
      "private_outputs": true,
      "collapsed_sections": [],
      "include_colab_link": true
    },
    "kernelspec": {
      "name": "swift",
      "display_name": "Swift"
    }
  },
  "cells": [
    {
      "cell_type": "markdown",
      "metadata": {
        "id": "view-in-github",
        "colab_type": "text"
      },
      "source": [
        "<a href=\"https://colab.research.google.com/github/iypc-team/CoLab/blob/master/DegreesToRadians_swift.ipynb\" target=\"_parent\"><img src=\"https://colab.research.google.com/assets/colab-badge.svg\" alt=\"Open In Colab\"/></a>"
      ]
    },
    {
      "cell_type": "code",
      "metadata": {
        "id": "EgI0gsf6IuoT",
        "colab_type": "code",
        "colab": {}
      },
      "source": [
        "import Foundation\n",
        "import Python\n",
        "\n",
        "var inputDegrees = 360.0\n",
        "var inputRadians = 2.0\n",
        "\n",
        "func radiansToDegrees(radians: Double) -> Double {\n",
        "  let deg = radians * (180.0/Double.pi) * Double.pi\n",
        "  print(radians, \"radians =\", deg, \"degrees\")\n",
        "  return deg\n",
        "}\n",
        "\n",
        "func degreesToRadians(degrees: Double) -> Double {\n",
        "  let rad = degrees * (Double.pi / 180.0) / Double.pi\n",
        "  print(degrees, \"degrees =\", rad, \"radians\")\n",
        "  return rad\n",
        "}\n",
        "\n",
        "_ = degreesToRadians(degrees: inputDegrees)\n",
        "_ = radiansToDegrees(radians: inputRadians)\n",
        "\n",
        "\n",
        "\n"
      ],
      "execution_count": 0,
      "outputs": []
    }
  ]
}