{
  "nbformat": 4,
  "nbformat_minor": 0,
  "metadata": {
    "colab": {
      "name": "Snippets: Drive.ipynb",
      "provenance": [],
      "collapsed_sections": [],
      "include_colab_link": true
    },
    "kernelspec": {
      "display_name": "Python 3",
      "name": "python3"
    }
  },
  "cells": [
    {
      "cell_type": "markdown",
      "metadata": {
        "id": "view-in-github",
        "colab_type": "text"
      },
      "source": [
        "<a href=\"https://colab.research.google.com/github/iypc-team/CoLab/blob/master/Snippets_Drive.ipynb\" target=\"_parent\"><img src=\"https://colab.research.google.com/assets/colab-badge.svg\" alt=\"Open In Colab\"/></a>"
      ]
    },
    {
      "cell_type": "code",
      "metadata": {
        "id": "-f-hfkapsiPc"
      },
      "source": [
        "# Import PyDrive and associated libraries.\n",
        "# This only needs to be done once per notebook.\n",
        "from __future__ import absolute_import, print_function\n",
        "from pydrive.auth import *\n",
        "from pydrive.drive import *\n",
        "from google.colab import *\n",
        "from oauth2client.client import *\n",
        "\n",
        "import glob, os\n",
        "from os.path import *\n",
        "from pathlib import Path\n",
        "\n",
        "drive=None\n",
        "drivePath='/content/drive'\n",
        "fileIdDictionary={}\n",
        "directoryListDict={}\n",
        "allFilesList=[]\n",
        "directoryList=[]\n",
        "fileList=[]\n",
        "\n",
        "auth.authenticate_user()\n",
        "gauth = GoogleAuth()\n",
        "gauth.credentials = GoogleCredentials.get_application_default()\n",
        "drive = GoogleDrive(gauth)\n",
        "\n",
        "def mountGoogleDrive():\n",
        "    '''ToDo...\n",
        "    fix help\n",
        "    '''\n",
        "    from google.colab import drive as gdrive\n",
        "    gdrive.mount('/content/drive', force_remount=True)\n",
        "    allFilesList = glob.glob('**', recursive=True)\n",
        "    print(f'{len(allFilesList)} files in Google Drive')\n",
        "    os.chdir('/content/drive/My Drive')\n",
        "    from BashColors import C\n",
        "    print(f'cwd: {C.Green}{Path.cwd()}{C.ColorOff}\\n')\n",
        "    \n",
        "def listGoogleDriveFiles(silent=True):\n",
        "    '''List all files in the root\n",
        "    returns fileIdDictionary\n",
        "    Search query reference:\n",
        "    https://developers.google.com/drive/v2/web/search-parameters'''\n",
        "    \n",
        "    import BashColors\n",
        "    from BashColors import C\n",
        "    fileList = drive.ListFile({'q': \"title contains '.*' and 'root' in parents\"}).GetList() \n",
        "    counter=0\n",
        "    for fil in fileList:\n",
        "        fileName = fil['title']\n",
        "        file_id = fil['id']\n",
        "        fileId = fil['id']\n",
        "        fileMimeType = fil['mimeType']\n",
        "        labels = fil['labels'] # Returns a dictionary\n",
        "        fullPath = abspath(fileName)\n",
        "        counter+=1\n",
        "        fileIdDictionary[counter]=(fileName, fil['id'], fullPath)\n",
        "        if fileMimeType=='application/vnd.google-apps.folder':\n",
        "            directoryList.append(fullPath)\n",
        "            directoryListDict[fileName]=(fil['id'], fullPath)\n",
        "\n",
        "\n",
        "        if not silent:\n",
        "            if fileMimeType=='application/vnd.google-apps.folder':\n",
        "                print(f'{C.Blue}{fileName}')\n",
        "                print(f'{fileMimeType}')\n",
        "                print(f'{C.White}id: {file_id}')\n",
        "                for key in labels.keys():\n",
        "                    print(f'{key}: {labels[key]}')\n",
        "\n",
        "            else:\n",
        "                print(f'{C.White}{counter}. {fileName}')\n",
        "                print(f'{fileMimeType}')\n",
        "                print(f'id: {file_id}')\n",
        "                for key in labels.keys():\n",
        "                    print(f'{key}: {labels[key]}')\n",
        "            print()\n",
        "            # if fileMimeType=='application/vnd.google-apps.folder':\n",
        "\n",
        "mountGoogleDrive()\n",
        "listGoogleDriveFiles(silent=True)"
      ],
      "execution_count": null,
      "outputs": []
    },
    {
      "cell_type": "code",
      "metadata": {
        "id": "WaN-vzsoiV3w"
      },
      "source": [
        "from BashColors import C\n",
        "os.chdir('/content/')\n",
        "allFilesList=[]\n",
        "allFilesList = glob.glob('**', recursive=True)\n",
        "print(f'{len(allFilesList)} files in...\\n{C.Blue}{Path.cwd()}')\n",
        "directoryCount=0\n",
        "fileCount=0\n",
        "for fil in sorted(allFilesList):\n",
        "    fullPath = realpath(fil)\n",
        "    fileName = basename(fullPath)\n",
        "    if isdir(fil):\n",
        "        directoryCount += 1\n",
        "        print(f'\\n{C.Blue}{fullPath}')\n",
        "    elif isfile(fil):\n",
        "        fileCount += 1\n",
        "        print(f'   {C.White}{fileCount}. {fileName}')\n"
      ],
      "execution_count": null,
      "outputs": []
    },
    {
      "cell_type": "code",
      "metadata": {
        "id": "2kY-vLuAP0q6"
      },
      "source": [
        "listGoogleDriveFiles(silent=False)\n",
        "def selectFile(itemNumber:int):\n",
        "    '''Returns selected file id number'''\n",
        "    counter=0\n",
        "    for item in fileIdDictionary.keys():\n",
        "        counter+=1\n",
        "        dict_item = fileIdDictionary[item]\n",
        "        print(counter, dict_item[0])\n",
        "\n",
        "    selection = fileIdDictionary[itemNumber]\n",
        "    selectName = selection[0]\n",
        "    selectId = selection[1]\n",
        "    print(f'{selectName}')\n",
        "    return selectId\n",
        "\n",
        "\n",
        "idd=selectFile(itemNumber=1)\n",
        "print(idd)"
      ],
      "execution_count": null,
      "outputs": []
    },
    {
      "cell_type": "markdown",
      "metadata": {
        "id": "bRFyEsdfBxJ9"
      },
      "source": [
        "# Saving data to Google Drive"
      ]
    },
    {
      "cell_type": "code",
      "metadata": {
        "id": "to5f2q3wraat"
      },
      "source": [
        "# import pydrive.drive\n",
        "\n",
        "def createAndUploadFile(named:str, inDir:str, content:str):\n",
        "    '''Create & upload a text file.'''\n",
        "    currentPath=Path.cwd()\n",
        "    dir_path=join('/content/drive/My Drive', inDir)\n",
        "    if exists(dir_path):\n",
        "        os.chdir(dir_path)\n",
        "        print(Path.cwd)\n",
        "    else:\n",
        "        os.mkdir(dir_path)\n",
        "        os.chdir(dir_path)\n",
        "        print(Path.cwd())\n",
        "\n",
        "    uploaded = drive.CreateFile({'title': named})\n",
        "    uploaded.SetContentString(content)\n",
        "    # uploaded.Upload()\n",
        "    listGoogleDriveFiles(silent=False)\n",
        "    print('Uploaded file with ID {}'.format(uploaded.get('id')))\n"
      ],
      "execution_count": null,
      "outputs": []
    },
    {
      "cell_type": "code",
      "metadata": {
        "id": "OLAX9MVWu9si"
      },
      "source": [
        "file_name='bullshit-2.txt'\n",
        "fileContent='New content here.'\n",
        "createAndUploadFile(named=file_name, inDir='testDir', content=fileContent)"
      ],
      "execution_count": null,
      "outputs": []
    },
    {
      "cell_type": "code",
      "metadata": {
        "id": "TbRbQAYqPTci"
      },
      "source": [
        "def downloadGoogleDriveFile(thisFileId):\n",
        "    '''Download a file based on its file id'''\n",
        "    print(thisFileId)\n",
        "    file_id = thisFileId\n",
        "    downloaded = drive.CreateFile({'id': file_id})\n",
        "    print('Downloaded content \"{}\"'.format(downloaded.GetContentString()))"
      ],
      "execution_count": null,
      "outputs": []
    },
    {
      "cell_type": "code",
      "metadata": {
        "id": "tRGApar26xrz"
      },
      "source": [
        "downloadFile = selectFile(13)\n",
        "downloadGoogleDriveFile(downloadFile)"
      ],
      "execution_count": null,
      "outputs": []
    }
  ]
}