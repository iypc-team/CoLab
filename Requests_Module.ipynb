{
  "nbformat": 4,
  "nbformat_minor": 0,
  "metadata": {
    "colab": {
      "name": "Requests_Module.ipynb",
      "version": "0.3.2",
      "provenance": [],
      "private_outputs": true,
      "collapsed_sections": [],
      "include_colab_link": true
    },
    "kernelspec": {
      "name": "python3",
      "display_name": "Python 3"
    }
  },
  "cells": [
    {
      "cell_type": "markdown",
      "metadata": {
        "id": "view-in-github",
        "colab_type": "text"
      },
      "source": [
        "<a href=\"https://colab.research.google.com/github/iypc-team/CoLab/blob/master/Requests_Module.ipynb\" target=\"_parent\"><img src=\"https://colab.research.google.com/assets/colab-badge.svg\" alt=\"Open In Colab\"/></a>"
      ]
    },
    {
      "cell_type": "code",
      "metadata": {
        "id": "ek_52FUZJTSJ",
        "colab_type": "code",
        "colab": {}
      },
      "source": [
        "%pip install gym\n",
        "from IPython.display import clear_output\n",
        "clear_output(wait=False)\n",
        "print(\"All Installs Completed.\")"
      ],
      "execution_count": 0,
      "outputs": []
    },
    {
      "cell_type": "code",
      "metadata": {
        "id": "V63WZCQ6Jtae",
        "colab_type": "code",
        "colab": {}
      },
      "source": [
        "from __future__ import absolute_import, print_function, division, unicode_literals\n",
        "import gym\n",
        "import numpy as np\n",
        "import requests\n",
        "import six\n",
        "import pyglet\n",
        "import scipy\n",
        "import certifi\n",
        "import urllib3\n",
        "import idna\n",
        "import chardet\n",
        "import future\n",
        "import random\n",
        "import time\n",
        "import json\n",
        "\n",
        "from IPython.display import clear_output\n",
        "clear_output(wait=False)\n",
        "\n",
        "# print(\"gym version:\", gym.__version__)\n",
        "print(\"requests version:\", requests.__version__)"
      ],
      "execution_count": 0,
      "outputs": []
    },
    {
      "cell_type": "code",
      "metadata": {
        "id": "_SL5VvPqxasM",
        "colab_type": "code",
        "colab": {}
      },
      "source": [
        "httpsSession = requests.Session()\n",
        "sessionURL = 'https://github.com/iypc-team'\n",
        "sessionRequest = httpsSession.get(sessionURL)\n",
        "\n",
        "cp = sessionRequest\n",
        "print(cp)"
      ],
      "execution_count": 0,
      "outputs": []
    },
    {
      "cell_type": "code",
      "metadata": {
        "id": "OH-AINUJbZ6i",
        "colab_type": "code",
        "colab": {}
      },
      "source": [
        "r = requests.get('https://github.com/iypc-team')\n",
        "hdrDict = r.headers\n",
        "\n",
        "print('\\n',\"Keys\")\n",
        "hdrKeys = hdrDict.keys()\n",
        "for key in hdrKeys:\n",
        "  print(key,\":\")\n",
        "\n",
        "print('\\n',\"Values\")\n",
        "hdrValues = hdrDict.values()\n",
        "for val in hdrValues:\n",
        "  print(val)\n",
        "\n",
        "hdrItems = hdrDict.items()\n",
        "for item in hdrItems:\n",
        "  print(item)\n",
        "clear_output()"
      ],
      "execution_count": 0,
      "outputs": []
    },
    {
      "cell_type": "code",
      "metadata": {
        "id": "0UdUbymoORqF",
        "colab_type": "code",
        "colab": {}
      },
      "source": [
        "# print(\"Content-Type:\", r.headers['Content-Type'])\n",
        "# print(\"Server:\", r.headers['Server'])\n",
        "\n",
        "url = 'https://github.com/iypc-team/CoLab'\n",
        "payload = {'some':'data'}\n",
        "headers = {'Content-Type':'application/json'}\n",
        "req = requests.get(url, params=payload)\n",
        "\n",
        "print(req.text)\n",
        "clear_output()"
      ],
      "execution_count": 0,
      "outputs": []
    },
    {
      "cell_type": "code",
      "metadata": {
        "id": "Yi5kQ0cI4TkL",
        "colab_type": "code",
        "colab": {}
      },
      "source": [
        "from lxml import html\n",
        "\n",
        "page = requests.get('https://github.com/iypc-team')\n",
        "tree = html.fromstring(page.content)\n"
      ],
      "execution_count": 0,
      "outputs": []
    },
    {
      "cell_type": "code",
      "metadata": {
        "id": "qIu6q5MS639y",
        "colab_type": "code",
        "colab": {}
      },
      "source": [
        "from html.parser import HTMLParser\n",
        "from html.entities import name2codepoint\n",
        "\n",
        "class MyHTMLParser(HTMLParser):\n",
        "  print(self)\n",
        "  def handle_starttag(self, tag, attrs):\n",
        "    print(\"start tag:\", tag)\n",
        "  \n",
        "  def handle_endtag(self, tag):\n",
        "    print(\"end tag:\", tag)\n",
        "  \n",
        "  def handle_data(self, data):\n",
        "    print(\"data:\", data)\n",
        "  \n",
        "  def handle_comment(self, data):\n",
        "    print(\"comment:\", data)\n",
        "  \n",
        "  def handle_entityref(self, name):\n",
        "    c = chr(name2codepoint[name])\n",
        "    print (\"named entity:\", c)\n",
        "  \n",
        "  def handle_charref(self, name):\n",
        "    if name.startswith('x'):\n",
        "      c = chr(int(name([1:], 16))\n",
        "    else:\n",
        "      c = chr(int(name))\n",
        "      print(\"Num int\", c)\n",
        "  \n",
        "  def handle_decl(self, data):\n",
        "    print(\"data:\", data)\n",
        "\n",
        "\n",
        "parser = MyHTMLParser()\n",
        "print(parser.feed(page.text))"
      ],
      "execution_count": 0,
      "outputs": []
    }
  ]
}