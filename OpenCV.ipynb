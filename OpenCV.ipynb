{
  "nbformat": 4,
  "nbformat_minor": 0,
  "metadata": {
    "accelerator": "GPU",
    "colab": {
      "name": "OpenCV.ipynb",
      "private_outputs": true,
      "provenance": [],
      "collapsed_sections": [],
      "machine_shape": "hm",
      "include_colab_link": true
    },
    "kernelspec": {
      "display_name": "Python 3",
      "language": "python",
      "name": "python3"
    },
    "language_info": {
      "codemirror_mode": {
        "name": "ipython",
        "version": 3
      },
      "file_extension": ".py",
      "mimetype": "text/x-python",
      "name": "python",
      "nbconvert_exporter": "python",
      "pygments_lexer": "ipython3",
      "version": "3.7.10"
    }
  },
  "cells": [
    {
      "cell_type": "markdown",
      "metadata": {
        "id": "view-in-github",
        "colab_type": "text"
      },
      "source": [
        "<a href=\"https://colab.research.google.com/github/iypc-team/CoLab/blob/master/OpenCV.ipynb\" target=\"_parent\"><img src=\"https://colab.research.google.com/assets/colab-badge.svg\" alt=\"Open In Colab\"/></a>"
      ]
    },
    {
      "cell_type": "code",
      "metadata": {
        "id": "BhDOl--lfmjS"
      },
      "source": [
        "# 06/27/2021-2\n",
        "from __future__ import absolute_import\n",
        "from IPython.display import display, Image\n",
        "from google.colab.patches import cv2_imshow\n",
        "import glob, os, shutil, sys, tarfile\n",
        "from os.path import *\n",
        "\n",
        "contentPth = os.getcwd()\n",
        "tensorflowImagesPth = join(contentPth, 'TensorflowImages')\n",
        "\n",
        "try:\n",
        "    from google.colab import drive, files\n",
        "    if exists('/content/sample_data'):\n",
        "        shutil.rmtree('/content/sample_data')\n",
        "    if exists(tensorflowImagesPth):\n",
        "        shutil.rmtree(tensorflowImagesPth)\n",
        "    \n",
        "    drive.mount('/content/gdrive', force_remount=True)\n",
        "    myDrivePth = '/content/gdrive/My Drive'\n",
        "    imagesPth = join('/content/gdrive/My Drive/TensorflowResizedImages')\n",
        "    \n",
        "    os.chdir(myDrivePth)\n",
        "    from BashColors import C\n",
        "    from TarfileFunctions import *\n",
        "    os.chdir(contentPth)\n",
        "    \n",
        "    if not exists(tensorflowImagesPth):\n",
        "        shutil.copytree(imagesPth, tensorflowImagesPth)\n",
        "    else: print(f'{C.Green}{tensorflowImagesPth}{C.ColorOff} exists')\n",
        "        \n",
        "except ModuleNotFoundError as err: \n",
        "    # print(err)\n",
        "    from BashColors import C\n",
        "    from TarfileFunctions import *\n",
        "    if not exists(tensorflowImagesPth):\n",
        "        tar = tarfile.open(\n",
        "            'New_Jovyan_Defcon_Augmented_Images.tar.gz')\n",
        "        tar.extractall()\n",
        "        tar.close()\n",
        "    else: print(f'{C.Green}{tensorflowImagesPth}{C.ColorOff} exists')\n",
        "    \n",
        "try:\n",
        "    import tensorflow as tf\n",
        "    print(f'tensorflow: {C.IBlue}{tf.__version__}{C.ColorOff}')\n",
        "except ModuleNotFoundError:\n",
        "    %pip install tensorflow\n",
        "    import tensorflow as tf\n",
        "    \n",
        "try:\n",
        "    import tensorflow_datasets as tfds\n",
        "except ModuleNotFoundError:\n",
        "    %pip install tensorflow-datasets\n",
        "    import tensorflow_datasets as tfds\n",
        "    \n",
        "try:\n",
        "    import numpy as np\n",
        "    # np.set_printoptions(precision=4)\n",
        "except ModuleNotFoundError:\n",
        "    %pip install numpy\n",
        "    import numpy as np\n",
        "    np.set_printoptions(precision=4)\n",
        "\n",
        "try:\n",
        "    import PIL\n",
        "    import PIL.Image\n",
        "except ModuleNotFoundError:\n",
        "    %pip install pillow\n",
        "    import PIL\n",
        "    import PIL.Image\n",
        "\n",
        "try:\n",
        "    import matplotlib as mpl\n",
        "    import matplotlib.pyplot as plt\n",
        "    mpl.rcParams['figure.figsize'] = (11, 11)\n",
        "    mpl.rcParams['axes.grid'] = False\n",
        "except ModuleNotFoundError:\n",
        "    %pip install matplotlib\n",
        "    import matplotlib as mpl\n",
        "    import matplotlib.pyplot as plt\n",
        "    mpl.rcParams['figure.figsize'] = (11, 11)\n",
        "    mpl.rcParams['axes.grid'] = False\n",
        "\n",
        "try: import pydot\n",
        "except ModuleNotFoundError as err:\n",
        "    %pip install pydot\n",
        "    import pydot\n",
        "    \n",
        "try: import graphviz\n",
        "except Exception as err:\n",
        "    %pip install graphviz\n",
        "    import graphviz\n",
        "    print(f'{C.IRed}{err}{C.ColorOff}')\n",
        "\n",
        "print(f'cwd: {C.IBlue}{os.getcwd()}')"
      ],
      "execution_count": null,
      "outputs": []
    },
    {
      "cell_type": "code",
      "metadata": {
        "id": "imagB49ZuJiU"
      },
      "source": [
        "try:\n",
        "    os.chdir(myDrivePth)\n",
        "    # %ls *.gz -l\n",
        "    # tff.listTarfiles()\n",
        "    # tff.inspectTarfile(named='Defcon_Augmented_Images.tar.gz')\n",
        "    tff.extractTarfiles(fileName='Defcon_Augmented_Images.tar.gz')\n",
        "    os.chdir(contentPth)\n",
        "except: pass"
      ],
      "execution_count": null,
      "outputs": []
    },
    {
      "cell_type": "code",
      "metadata": {
        "id": "AAwEaXSbjA4H"
      },
      "source": [
        "import cv2\n",
        "from cv2 import *"
      ],
      "execution_count": null,
      "outputs": []
    },
    {
      "cell_type": "code",
      "metadata": {
        "id": "S3580Je-YUvT"
      },
      "source": [
        "print(sys.byteorder)"
      ],
      "execution_count": null,
      "outputs": []
    },
    {
      "cell_type": "code",
      "metadata": {
        "id": "vi6eMZWyuKF5"
      },
      "source": [
        "from tensorflow.config.experimental import list_physical_devices\n",
        "from tensorflow.config.experimental import set_memory_growth\n",
        "physicalDevices = list_physical_devices()\n",
        "try:\n",
        "    print(physicalDevices)\n",
        "    set_memory_growth(physicalDevices[1], True)\n",
        "except: pass"
      ],
      "execution_count": null,
      "outputs": []
    },
    {
      "cell_type": "code",
      "metadata": {
        "id": "evejYajd4soJ"
      },
      "source": [
        "enemyPth = join(tensorflowImagesPth, 'Enemy')\n",
        "enemyPth = join(enemyPth, 'enemy_1.png')\n",
        "\n",
        "friendlyPth =join(tensorflowImagesPth, 'Friendly')\n",
        "friendlyPth = join(friendlyPth, 'friendly_11.png')"
      ],
      "execution_count": null,
      "outputs": []
    },
    {
      "cell_type": "code",
      "metadata": {
        "id": "VrKFTw1ZpL0n"
      },
      "source": [
        "from google.colab.patches import cv2_imshow\n",
        "print(f'IMREAD_COLOR: {cv2.IMREAD_COLOR}')\n",
        "print(f'IMREAD_GRAYSCALE: {cv2.IMREAD_GRAYSCALE}')\n",
        "print(f'IMREAD_UNCHANGED: {cv2.IMREAD_UNCHANGED}\\n')\n",
        "\n",
        "enemy = cv2.imread(enemyPth, cv2.IMREAD_UNCHANGED)  # -1\n",
        "rot90cw = cv2.rotate(enemy,cv2.ROTATE_90_CLOCKWISE)\n",
        "rot90ccw = cv2.rotate(enemy, cv2.ROTATE_90_COUNTERCLOCKWISE)\n",
        "rot180 = cv2.rotate(enemy, cv2.ROTATE_180)\n",
        "\n",
        "cv2_imshow(enemy)\n",
        "cv2_imshow(rot90cw)\n",
        "cv2_imshow(rot180)\n",
        "cv2_imshow(rot90ccw)\n",
        "\n",
        "cv2.waitKey(1)\n",
        "cv2.destroyAllWindows()"
      ],
      "execution_count": null,
      "outputs": []
    },
    {
      "cell_type": "code",
      "metadata": {
        "id": "CvIAPIPeOjQ5"
      },
      "source": [
        "os.chdir(tensorflowImagesPth)\n",
        "imageGlob=glob.glob('**', recursive=True)\n",
        "\n",
        "for fil in sorted(imageGlob):\n",
        "    if isfile(fil) and fil.endswith('.png'):\n",
        "        fullPath=abspath(fil)\n",
        "        print(basename(fullPath))\n",
        "        img = cv2.imread(fullPath, cv2.IMREAD_UNCHANGED)\n",
        "        cv2_imshow(img)\n",
        "        print(f'dtype: {img.dtype}\\nshape: {img.shape}\\n')\n",
        "    cv2.waitKey(1)\n",
        "    cv2.destroyAllWindows()\n",
        "\n",
        "os.chdir(contentPth)"
      ],
      "execution_count": null,
      "outputs": []
    }
  ]
}