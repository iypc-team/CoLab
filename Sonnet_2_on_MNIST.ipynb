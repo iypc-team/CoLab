{
  "nbformat": 4,
  "nbformat_minor": 0,
  "metadata": {
    "accelerator": "GPU",
    "colab": {
      "name": "Sonnet 2 on MNIST.ipynb",
      "provenance": [],
      "collapsed_sections": [],
      "include_colab_link": true
    },
    "kernelspec": {
      "display_name": "Python 3",
      "name": "python3"
    }
  },
  "cells": [
    {
      "cell_type": "markdown",
      "metadata": {
        "id": "view-in-github",
        "colab_type": "text"
      },
      "source": [
        "<a href=\"https://colab.research.google.com/github/iypc-team/CoLab/blob/master/Sonnet_2_on_MNIST.ipynb\" target=\"_parent\"><img src=\"https://colab.research.google.com/assets/colab-badge.svg\" alt=\"Open In Colab\"/></a>"
      ]
    },
    {
      "cell_type": "code",
      "metadata": {
        "colab_type": "code",
        "id": "4FqOAJb_jJR9",
        "colab": {}
      },
      "source": [
        "import sys\n",
        "assert sys.version_info >= (3, 6), \"Sonnet 2 requires Python >=3.6\""
      ],
      "execution_count": 0,
      "outputs": []
    },
    {
      "cell_type": "code",
      "metadata": {
        "id": "Mb8EKLCQlnXe",
        "colab_type": "code",
        "outputId": "60c4c81a-e483-460f-f45f-55b195e89e57",
        "colab": {
          "base_uri": "https://localhost:8080/",
          "height": 35
        }
      },
      "source": [
        "%tensorflow_version 2.x"
      ],
      "execution_count": 2,
      "outputs": [
        {
          "output_type": "stream",
          "text": [
            "TensorFlow 2.x selected.\n"
          ],
          "name": "stdout"
        }
      ]
    },
    {
      "cell_type": "code",
      "metadata": {
        "colab_type": "code",
        "id": "XnWX2azUDuCl",
        "outputId": "9ad1f723-be97-4edb-8f0a-1d56fea2b5c7",
        "colab": {
          "base_uri": "https://localhost:8080/",
          "height": 35
        }
      },
      "source": [
        "from IPython.display import clear_output\n",
        "!pip install dm-sonnet==2.0.0b0 gast==0.2.2 tqdm\n",
        "clear_output()\n",
        "print(\"Installs completed.\")"
      ],
      "execution_count": 3,
      "outputs": [
        {
          "output_type": "stream",
          "text": [
            "Installs completed.\n"
          ],
          "name": "stdout"
        }
      ]
    },
    {
      "cell_type": "code",
      "metadata": {
        "colab_type": "code",
        "id": "YKKVVzrA61Wv",
        "colab": {}
      },
      "source": [
        "from __future__ import absolute_import\n",
        "from __future__ import division\n",
        "from __future__ import print_function\n",
        "from __future__ import unicode_literals"
      ],
      "execution_count": 0,
      "outputs": []
    },
    {
      "cell_type": "code",
      "metadata": {
        "colab_type": "code",
        "id": "mn5ofK4-D1Qk",
        "colab": {}
      },
      "source": [
        "import sonnet as snt\n",
        "import tensorflow as tf\n",
        "import tensorflow_datasets as tfds"
      ],
      "execution_count": 0,
      "outputs": []
    },
    {
      "cell_type": "code",
      "metadata": {
        "colab_type": "code",
        "id": "Rpp_houJEHr9",
        "outputId": "dcad6148-09e4-45c3-8da8-4a4b4eb78097",
        "colab": {
          "base_uri": "https://localhost:8080/",
          "height": 53
        }
      },
      "source": [
        "print(\"TensorFlow version: {}\".format(tf.__version__))\n",
        "print(\"    Sonnet version: {}\".format(snt.__version__))"
      ],
      "execution_count": 6,
      "outputs": [
        {
          "output_type": "stream",
          "text": [
            "TensorFlow version: 2.0.0\n",
            "    Sonnet version: 2.0.0b0\n"
          ],
          "name": "stdout"
        }
      ]
    },
    {
      "cell_type": "code",
      "metadata": {
        "id": "TXoxEvKepdw2",
        "colab_type": "code",
        "outputId": "945a89cb-064b-44bd-8485-7cc1030e5666",
        "colab": {
          "base_uri": "https://localhost:8080/",
          "height": 81
        }
      },
      "source": [
        "print(\"Available GPUs:\")\n",
        "!grep Model: /proc/driver/nvidia/gpus/*/information | awk '{$1=\"\";print$0}'"
      ],
      "execution_count": 7,
      "outputs": [
        {
          "output_type": "stream",
          "text": [
            "Available GPUs:\n",
            " Tesla K80\n"
          ],
          "name": "stdout"
        }
      ]
    },
    {
      "cell_type": "code",
      "metadata": {
        "colab_type": "code",
        "id": "UkBRriaQEr4z",
        "outputId": "e2633bb0-5342-4052-fb23-c775d95d872e",
        "colab": {
          "base_uri": "https://localhost:8080/",
          "height": 35
        }
      },
      "source": [
        "#  Prepare the MNIST dataset\n",
        "tf.executing_eagerly()\n",
        "print(\"Eager execution:\", tf.executing_eagerly())\n",
        "batch_size = 100\n",
        "\n",
        "def process_batch(images, labels):\n",
        "  images = tf.squeeze(images, axis=[-1])\n",
        "  images = tf.cast(images, dtype=tf.float32)\n",
        "  images = ((images / 255.) - .5) * 2.\n",
        "  return images, labels\n",
        "def mnist(split):\n",
        "  dataset = tfds.load(\"mnist\", split=split, as_supervised=True)\n",
        "  dataset = dataset.map(process_batch)\n",
        "  dataset = dataset.batch(batch_size)\n",
        "  dataset = dataset.prefetch(tf.data.experimental.AUTOTUNE)\n",
        "  dataset = dataset.cache()\n",
        "  return dataset\n",
        "\n",
        "mnist_train = mnist(\"train\").shuffle(10)\n",
        "mnist_test = mnist(\"test\")\n",
        "clear_output()\n",
        "print(\"MNIST dataset imported and prepared\")"
      ],
      "execution_count": 8,
      "outputs": [
        {
          "output_type": "stream",
          "text": [
            "MNIST dataset imported and prepared\n"
          ],
          "name": "stdout"
        }
      ]
    },
    {
      "cell_type": "markdown",
      "metadata": {
        "colab_type": "text",
        "id": "JfOCWVGEfgcq"
      },
      "source": [
        "MNIST contains `28x28` greyscale handwritten digits. Let's take a look at one:"
      ]
    },
    {
      "cell_type": "code",
      "metadata": {
        "colab_type": "code",
        "id": "I_yM0TVjFCZq",
        "outputId": "8112b483-ed59-4b5c-f2dd-65d9c7aa2463",
        "colab": {
          "base_uri": "https://localhost:8080/",
          "height": 265
        }
      },
      "source": [
        "import matplotlib.pyplot as plt\n",
        "\n",
        "images, _ = next(iter(mnist_test))\n",
        "plt.imshow(images[0]);"
      ],
      "execution_count": 9,
      "outputs": [
        {
          "output_type": "display_data",
          "data": {
            "image/png": "[encoded data removed]",
            "text/plain": [
              "<Figure size 432x288 with 1 Axes>"
            ]
          },
          "metadata": {
            "tags": []
          }
        }
      ]
    },
    {
      "cell_type": "markdown",
      "metadata": {
        "colab_type": "text",
        "id": "d7bsizs5gK3K"
      },
      "source": [
        "# Sonnet\n",
        "\n",
        "The next step is to define a model. In Sonnet everything that contains TensorFlow variables (`tf.Variable`) extends `snt.Module`, this includes low level neural network components (e.g. `snt.Linear`,  `snt.Conv2D`), larger nets containing subcomponents (e.g. `snt.nets.MLP`), optimizers (e.g. `snt.optimizers.Adam`) and whatever else you can think of.\n",
        "\n",
        "Modules provide a simple abstraction for storing parameters (and `Variable`s used for other purposes, like for storing moving avergages in `BatchNorm`).\n",
        "\n",
        "To find all the parameters for a given module, simply do: `module.variables`. This will return a `tuple` of all the parameters that exist for this module, or any module it references:"
      ]
    },
    {
      "cell_type": "markdown",
      "metadata": {
        "colab_type": "text",
        "id": "GrN37pi1o4HT"
      },
      "source": [
        "## Building the model"
      ]
    },
    {
      "cell_type": "markdown",
      "metadata": {
        "colab_type": "text",
        "id": "c6XoN56S2lSW"
      },
      "source": [
        "In Sonnet you build neural networks out of `snt.Module`s. In this case we'll build a multi-layer perceptron as a new class with a `__call__` method that computes the logits by passing the input through a number of fully connected layers, with a ReLU non-linearity."
      ]
    },
    {
      "cell_type": "code",
      "metadata": {
        "colab_type": "code",
        "id": "hgjyB9yhFclD",
        "colab": {}
      },
      "source": [
        "class MLP(snt.Module):\n",
        "\n",
        "  def __init__(self):\n",
        "    super(MLP, self).__init__()\n",
        "    self.flatten = snt.Flatten()\n",
        "    self.hidden1 = snt.Linear(1024, name=\"hidden1\")\n",
        "    self.hidden2 = snt.Linear(1024, name=\"hidden2\")\n",
        "    self.logits = snt.Linear(10, name=\"logits\")\n",
        "\n",
        "  def __call__(self, images):\n",
        "    output = self.flatten(images)\n",
        "    output = tf.nn.relu(self.hidden1(output))\n",
        "    output = tf.nn.relu(self.hidden2(output))\n",
        "    output = self.logits(output)\n",
        "    return output"
      ],
      "execution_count": 0,
      "outputs": []
    },
    {
      "cell_type": "markdown",
      "metadata": {
        "colab_type": "text",
        "id": "0i03px8y8gf7"
      },
      "source": [
        "Now we'll create an instance of our class whose weights will be randomly initialized. We'll train this MLP such that it learns to recognize digits in the MNIST dataset."
      ]
    },
    {
      "cell_type": "code",
      "metadata": {
        "colab_type": "code",
        "id": "XqL8oIMqGAnU",
        "outputId": "3f30f937-cfa2-4907-d375-7f0566ae27a9",
        "colab": {
          "base_uri": "https://localhost:8080/",
          "height": 35
        }
      },
      "source": [
        "mlp = MLP()\n",
        "mlp"
      ],
      "execution_count": 11,
      "outputs": [
        {
          "output_type": "execute_result",
          "data": {
            "text/plain": [
              "MLP()"
            ]
          },
          "metadata": {
            "tags": []
          },
          "execution_count": 11
        }
      ]
    },
    {
      "cell_type": "markdown",
      "metadata": {
        "colab_type": "text",
        "id": "snzkUUh9oXPy"
      },
      "source": [
        "## Using the model"
      ]
    },
    {
      "cell_type": "markdown",
      "metadata": {
        "colab_type": "text",
        "id": "On8wI6VwpDPm"
      },
      "source": [
        "Let's feed an example input through the model and see what it predicts. Since the model is randomly initialized there is a 1/10 chance that it will predict the right class!"
      ]
    },
    {
      "cell_type": "code",
      "metadata": {
        "colab_type": "code",
        "id": "4T-qmIc0GHfP",
        "outputId": "2b397aff-be78-49ee-9fd7-dd929f53b196",
        "colab": {
          "base_uri": "https://localhost:8080/",
          "height": 283
        }
      },
      "source": [
        "images, labels = next(iter(mnist_test))\n",
        "logits = mlp(images)\n",
        "  \n",
        "prediction = tf.argmax(logits[0]).numpy()\n",
        "actual = labels[0].numpy()\n",
        "print(\"Predicted class: {} actual class: {}\".format(prediction, actual))\n",
        "plt.imshow(images[0]);"
      ],
      "execution_count": 12,
      "outputs": [
        {
          "output_type": "stream",
          "text": [
            "Predicted class: 4 actual class: 6\n"
          ],
          "name": "stdout"
        },
        {
          "output_type": "display_data",
          "data": {
            "image/png": "[encoded data removed]",
            "text/plain": [
              "<Figure size 432x288 with 1 Axes>"
            ]
          },
          "metadata": {
            "tags": []
          }
        }
      ]
    },
    {
      "cell_type": "markdown",
      "metadata": {
        "colab_type": "text",
        "id": "V297xpzfobXK"
      },
      "source": [
        "## Training the model"
      ]
    },
    {
      "cell_type": "markdown",
      "metadata": {
        "colab_type": "text",
        "id": "WTrv-jn4pPSx"
      },
      "source": [
        "To train the model we need an optimizer. For this simple example we'll use Stochastic Gradient Descent which is implemented in the `SGD` optimizer. To compute gradients we'll use a `tf.GradientTape` which allows us to selectively record gradients only for the computation we want to back propagate through:"
      ]
    },
    {
      "cell_type": "code",
      "metadata": {
        "cellView": "form",
        "colab_type": "code",
        "id": "V7gi8NQ-WZOl",
        "colab": {}
      },
      "source": [
        "#@title Utility function to show progress bar.\n",
        "from tqdm import tqdm\n",
        "\n",
        "# MNIST training set has 60k images.\n",
        "num_images = 60000\n",
        "\n",
        "def progress_bar(generator):\n",
        "  return tqdm(\n",
        "      generator,\n",
        "      unit='images',\n",
        "      unit_scale=batch_size,\n",
        "      total=(num_images // batch_size) * num_epochs)\n"
      ],
      "execution_count": 0,
      "outputs": []
    },
    {
      "cell_type": "code",
      "metadata": {
        "colab_type": "code",
        "id": "UUkshshiK6Eq",
        "outputId": "07e07920-59f1-41ff-847b-974e9a7591f4",
        "colab": {
          "base_uri": "https://localhost:8080/",
          "height": 1000
        }
      },
      "source": [
        "opt = snt.optimizers.SGD(learning_rate=0.1)\n",
        "\n",
        "num_epochs = 10\n",
        "\n",
        "def step(images, labels):\n",
        "  \"\"\"Performs one optimizer step on a single mini-batch.\"\"\"\n",
        "  with tf.GradientTape() as tape:\n",
        "    logits = mlp(images)\n",
        "    loss = tf.nn.sparse_softmax_cross_entropy_with_logits(logits=logits,\n",
        "                                                          labels=labels)\n",
        "    loss = tf.reduce_mean(loss)\n",
        "\n",
        "  params = mlp.trainable_variables\n",
        "  grads = tape.gradient(loss, params)\n",
        "  opt.apply(grads, params)\n",
        "  return loss\n",
        "\n",
        "for images, labels in progress_bar(mnist_train.repeat(num_epochs)):\n",
        "  loss = step(images, labels)\n",
        "\n",
        "print(\"\\n\\nFinal loss: {}\".format(loss.numpy()))"
      ],
      "execution_count": 14,
      "outputs": [
        {
          "output_type": "stream",
          "text": [
            "100%|██████████| 600000/600000 [01:04<00:00, 9265.71images/s] "
          ],
          "name": "stderr"
        },
        {
          "output_type": "stream",
          "text": [
            "\n",
            "\n",
            "Final loss: 0.012996380217373371\n"
          ],
          "name": "stdout"
        },
        {
          "output_type": "stream",
          "text": [
            "\n"
          ],
          "name": "stderr"
        }
      ]
    },
    {
      "cell_type": "code",
      "metadata": {
        "colab_type": "code",
        "id": "PM7IPcOeXtxH",
        "outputId": "3d48ff69-fafb-4f35-d2cd-0945e5447386",
        "colab": {
          "base_uri": "https://localhost:8080/",
          "height": 35
        }
      },
      "source": [
        "#  Evaluate the model\n",
        "total = 0\n",
        "correct = 0\n",
        "for images, labels in mnist_test:\n",
        "  predictions = tf.argmax(mlp(images), axis=1)\n",
        "  correct += tf.math.count_nonzero(tf.equal(predictions, labels))\n",
        "  total += images.shape[0]\n",
        "\n",
        "print(\"Got %d/%d (%.02f%%) correct\" % (correct, total, correct / total * 100.))"
      ],
      "execution_count": 15,
      "outputs": [
        {
          "output_type": "stream",
          "text": [
            "Got 9801/10000 (98.01%) correct\n"
          ],
          "name": "stdout"
        }
      ]
    },
    {
      "cell_type": "markdown",
      "metadata": {
        "colab_type": "text",
        "id": "Lnkc55PtqA_I"
      },
      "source": [
        "To understand the result a bit better, lets take a look at a small sample of where the model correctly identified the digits:"
      ]
    },
    {
      "cell_type": "code",
      "metadata": {
        "cellView": "both",
        "colab_type": "code",
        "id": "eFro_RB4YR-X",
        "colab": {}
      },
      "source": [
        "#  Utility function to show a sample of images.\n",
        "def sample(correct, rows, cols):\n",
        "  n = 0\n",
        "\n",
        "  f, ax = plt.subplots(rows, cols)\n",
        "  if rows > 1:    \n",
        "    ax = tf.nest.flatten([tuple(ax[i]) for i in range(rows)])\n",
        "  f.set_figwidth(14)\n",
        "  f.set_figheight(4 * rows)\n",
        "\n",
        "\n",
        "  for images, labels in mnist_test:\n",
        "    predictions = tf.argmax(mlp(images), axis=1)\n",
        "    eq = tf.equal(predictions, labels)\n",
        "    for i, x in enumerate(eq):\n",
        "      if x.numpy() == correct:\n",
        "        label = labels[i]\n",
        "        prediction = predictions[i]\n",
        "        image = images[i]\n",
        "\n",
        "        ax[n].imshow(image)\n",
        "        ax[n].set_title(\"Prediction:{}\\nActual:{}\".format(prediction, label))\n",
        "\n",
        "        n += 1\n",
        "        if n == (rows * cols):\n",
        "          break\n",
        "\n",
        "    if n == (rows * cols):\n",
        "      break"
      ],
      "execution_count": 0,
      "outputs": []
    },
    {
      "cell_type": "code",
      "metadata": {
        "colab_type": "code",
        "id": "PSamdka2dodW",
        "outputId": "55a0b89e-0969-444c-9e61-a6b42259e9a0",
        "colab": {
          "base_uri": "https://localhost:8080/",
          "height": 274
        }
      },
      "source": [
        "sample(correct=True, rows=1, cols=5)"
      ],
      "execution_count": 17,
      "outputs": [
        {
          "output_type": "display_data",
          "data": {
            "image/png": "[encoded data removed]",
            "text/plain": [
              "<Figure size 1008x288 with 5 Axes>"
            ]
          },
          "metadata": {
            "tags": []
          }
        }
      ]
    },
    {
      "cell_type": "markdown",
      "metadata": {
        "colab_type": "text",
        "id": "hzHp02F_pzdh"
      },
      "source": [
        "Now lets take a look at where it incorrectly classifies the input. MNIST has some rather dubious handwriting, I'm sure you'll agree that some of the samples below are a little ambiguous:"
      ]
    },
    {
      "cell_type": "code",
      "metadata": {
        "colab_type": "code",
        "id": "KQe5Q9LNdnb0",
        "outputId": "432935f5-3d24-4760-d044-8f15a6d1d104",
        "colab": {
          "base_uri": "https://localhost:8080/",
          "height": 526
        }
      },
      "source": [
        "\n",
        "sample(correct=False, rows=2, cols=4)"
      ],
      "execution_count": 18,
      "outputs": [
        {
          "output_type": "display_data",
          "data": {
            "image/png": "[encoded data removed]",
            "text/plain": [
              "<Figure size 1008x576 with 8 Axes>"
            ]
          },
          "metadata": {
            "tags": []
          }
        }
      ]
    }
  ]
}