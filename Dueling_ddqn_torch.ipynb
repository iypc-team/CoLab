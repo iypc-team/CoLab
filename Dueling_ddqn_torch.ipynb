{
  "nbformat": 4,
  "nbformat_minor": 0,
  "metadata": {
    "colab": {
      "name": "Dueling_ddqn_torch.ipynb",
      "provenance": [],
      "private_outputs": true,
      "collapsed_sections": [],
      "include_colab_link": true
    },
    "kernelspec": {
      "name": "python3",
      "display_name": "Python 3"
    }
  },
  "cells": [
    {
      "cell_type": "markdown",
      "metadata": {
        "id": "view-in-github",
        "colab_type": "text"
      },
      "source": [
        "<a href=\"https://colab.research.google.com/github/iypc-team/CoLab/blob/master/Dueling_ddqn_torch.ipynb\" target=\"_parent\"><img src=\"https://colab.research.google.com/assets/colab-badge.svg\" alt=\"Open In Colab\"/></a>"
      ]
    },
    {
      "cell_type": "code",
      "metadata": {
        "id": "-JYwbmCKrnZ6",
        "colab_type": "code",
        "colab": {},
        "cellView": "form"
      },
      "source": [
        "#@title\n",
        "from __future__ import absolute_import, division, print_function, unicode_literals\n",
        "from IPython.display import clear_output\n",
        "\n",
        "%pip install torch torchvision\n",
        "print(\"torchvision is installed\", \"\\n\")\n",
        "# %pip install tensorflow==2.1.0rc1\n",
        "# print(\"tensorflow 2.1.0rc1 is installed\", \"\\n\")\n",
        "# %pip install matplotlib\n",
        "# print(\"tensorfmatplotlib is installed\", \"\\n\")\n",
        "clear_output()"
      ],
      "execution_count": 0,
      "outputs": []
    },
    {
      "cell_type": "code",
      "metadata": {
        "id": "wqMmYrCw9Rqe",
        "colab_type": "code",
        "colab": {}
      },
      "source": [
        "import os\n",
        "import numpy as np\n",
        "import torch as T\n",
        "import torch.nn as nn \n",
        "import torch.nn.functional as F \n",
        "import torch.optim as optim\n",
        "\n",
        "\n",
        "class ReplayBuffer():\n",
        "    \n",
        "    def __init__(self, max_size, input_shape):\n",
        "        self.mem_size = max_size\n",
        "        self.mem_cntr = 0\n",
        "        self.state_memory = np.zeros((self.mem_size, *input_shape),\n",
        "                                     dtype=np.float32)\n",
        "        self.new_state_memory = np.zeros((self.mem_size, *input_shape),\n",
        "                                         dtype=np.float32)\n",
        "        self.action_memory = np.zeros(self.mem_size, dtype=np.int64)\n",
        "        self.reward_memory = np.zeros(self.mem_size, dtype=np.float32)\n",
        "        self.terminal_memory = np.zeros(self.mem_size, dtype=uint32)\n",
        "    \n",
        "    def store_transition(self, state, action, reward, state_, done):\n",
        "        index = self.mem_cntr % self.mem_size\n",
        "        self.state_memory[index] = state\n",
        "        self.new_state_memory[index] = new_state_memory\n",
        "        self.reward_memory[index] = reward\n",
        "        self.action_memory[index] = action\n",
        "        self.terminal_memory[index] = done\n",
        "        self.mem_cntr += 1\n",
        "\n",
        "    def sample_buffer(self, batch_size):\n",
        "        max_mem = min(self.mem_cntr, self.mem_size)\n",
        "        batch = np.random.choice(max_mem, batch_size, replace=False)\n",
        "\n",
        "        states = self.state_memory[batch]\n",
        "        actions = self.action_memory[batch]\n",
        "        rewards = self.reward_memory[batch]\n",
        "        states_ = self.new_state_memory[batch]\n",
        "        terminal = self.terminal_memory[batch]\n",
        "\n",
        "        return states, actions, rewards, states_, terminal\n",
        "\n",
        "\n",
        "class DuelingDeepQNetwork(nn.Module):\n",
        "    def __init__(self, n_actions, name, input_dims, chkpt_dir):\n",
        "        self.chkpt_dir = chkpt_dir\n",
        "        self.checkpoint_file = os.path.join(self.chkpt_dir, name)\n",
        "        self.fc1 = nn.Linear(*input_dims, 512)\n",
        "        self.V = nn.Linear(512, 1)\n",
        "        self.A = nn.Linear(512, n_actions)\n",
        "\n",
        "        self.optimizer = optim.Adam(self.parameters(), lr=lr)\n",
        "        self.loss = nn.MSELoss()\n",
        "        self.device = T.device('cuda:0' if T.cuda.is_available() else 'cpu')\n",
        "        self.to(self.device)\n",
        "\n",
        "    def forward(self, state):\n",
        "        flat1 = F.relu(self.fc1(state))\n",
        "        V = self.V(flat1)\n",
        "        A = self.A(flat1)\n",
        "\n",
        "        return V, A\n",
        "    \n",
        "    def save_checkpoint(self):\n",
        "        print(\"saving checkpoint\")\n",
        "        T.save(self.state_dict(), self.checkpoint_file)\n",
        "\n",
        "    def load_checkpoint(file):\n",
        "        print(\"loading checkpoint\")\n",
        "        self.load_state_dict(T.load(self.checkpoint_file))\n",
        "\n",
        "class Agent():\n",
        "    def __init__(self, gamma, epislon, lr, n_actions, input_dims,\n",
        "                 mem_size, batch_size, eps_min = 0.01, eps_dec=5e-7,\n",
        "                 replace= 1000, chkpt_dir='tmp/dueling_ddqn'):\n",
        "        # 23:11\n",
        "        self.gamma = gamma\n",
        "\n",
        "\n",
        "\n",
        "\n"
      ],
      "execution_count": 0,
      "outputs": []
    }
  ]
}