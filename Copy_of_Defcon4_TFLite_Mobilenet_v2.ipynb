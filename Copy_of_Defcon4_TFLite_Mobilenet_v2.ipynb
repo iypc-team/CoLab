{
  "cells": [
    {
      "cell_type": "markdown",
      "metadata": {
        "id": "view-in-github",
        "colab_type": "text"
      },
      "source": [
        "<a href=\"https://colab.research.google.com/github/iypc-team/CoLab/blob/master/Copy_of_Defcon4_TFLite_Mobilenet_v2.ipynb\" target=\"_parent\"><img src=\"https://colab.research.google.com/assets/colab-badge.svg\" alt=\"Open In Colab\"/></a>"
      ]
    },
    {
      "cell_type": "code",
      "source": [
        "print('Updated: 10/01/2022-1')"
      ],
      "metadata": {
        "id": "wMbpdCeVNIQw"
      },
      "id": "wMbpdCeVNIQw",
      "execution_count": null,
      "outputs": []
    },
    {
      "cell_type": "code",
      "source": [
        "# !sudo apt -y install libportaudio2\n",
        "print()\n",
        "# !pip install tflite-model-maker"
      ],
      "metadata": {
        "id": "B_SORg3xqCxO"
      },
      "id": "B_SORg3xqCxO",
      "execution_count": null,
      "outputs": []
    },
    {
      "cell_type": "code",
      "source": [
        "from __future__ import absolute_import\n",
        "import os, shutil, tarfile \n",
        "from os.path import exists, join\n",
        "os.environ['TF_CPP_MIN_LOG_LEVEL'] = '5'\n",
        "\n",
        "from google.colab import drive, files\n",
        "import numpy as np\n",
        "\n",
        "import tensorflow as tf\n",
        "assert tf.__version__.startswith('2')\n",
        "\n",
        "from tflite_model_maker import model_spec\n",
        "from tflite_model_maker import image_classifier\n",
        "from tflite_model_maker.config import ExportFormat\n",
        "from tflite_model_maker.config import QuantizationConfig\n",
        "from tflite_model_maker.image_classifier import DataLoader\n",
        "\n",
        "import matplotlib.pyplot as plt\n",
        "\n",
        "contentPath=os.getcwd()\n",
        "\n",
        "if exists('/content/sample_data'):\n",
        "    shutil.rmtree('/content/sample_data')\n",
        "\n",
        "drive.mount('/content/drive', force_remount=True)\n",
        "\n",
        "# import required modules\n",
        "if not exists('BashColors.py'):\n",
        "    shutil.copy2(src='/content/drive/MyDrive/PythonFiles/BashColors.py',\n",
        "                 dst=contentPath)\n",
        "    \n",
        "if not exists('TarfileFunctions.py'):\n",
        "    shutil.copy2(src='/content/drive/MyDrive/TarfileFunctions.py',\n",
        "                 dst=contentPath)\n",
        "\n",
        "if not exists('GetTPU.py'):\n",
        "    shutil.copy2(src='/content/drive/MyDrive/PythonFiles/GetTPU.py',\n",
        "                 dst=contentPath)\n",
        "    \n",
        "from BashColors import C\n",
        "from GetTPU import *\n",
        "from TarfileFunctions import *\n",
        "\n",
        "# create image directories \n",
        "if not exists('DataGenerator5.tar.gz'):\n",
        "    shutil.copy2(src='/content/drive/MyDrive/DataGenerator5.tar.gz',\n",
        "                 dst=contentPath)\n",
        "    os.chdir(contentPath)\n",
        "    tff.extractTarfiles('DataGenerator5.tar.gz')\n",
        "\n",
        "if not exists('images.tar.gz'):\n",
        "    shutil.copy2(src='/content/drive/MyDrive/images.tar.gz',\n",
        "                 dst=contentPath)\n",
        "    os.chdir(contentPath)\n",
        "    tff.extractTarfiles('/content/drive/MyDrive/images.tar.gz')\n",
        "    \n",
        "\n",
        "image_path=os.path.join(contentPath, 'images')\n",
        "generatorPath=os.path.join(contentPath, 'DataGenerator')"
      ],
      "metadata": {
        "id": "cOOpAIBkOlAC"
      },
      "id": "cOOpAIBkOlAC",
      "execution_count": null,
      "outputs": []
    },
    {
      "cell_type": "code",
      "source": [
        "help(gt)"
      ],
      "metadata": {
        "id": "zxFf2SxtrCjT"
      },
      "id": "zxFf2SxtrCjT",
      "execution_count": null,
      "outputs": []
    },
    {
      "cell_type": "code",
      "execution_count": null,
      "id": "54ab96eb",
      "metadata": {
        "id": "54ab96eb"
      },
      "outputs": [],
      "source": [
        "# A helper function that returns 'red'/'black' depending on if its two input\n",
        "# parameter matches or not.\n",
        "def get_label_color(val1, val2):\n",
        "  if val1 == val2:\n",
        "    return 'black'\n",
        "  else:\n",
        "    return 'blue'\n",
        "\n",
        "# Then plot 100 test images and their predicted labels.\n",
        "# If a prediction result is different from the label provided label in \"test\"\n",
        "# dataset, we will highlight it in blue color.\n",
        "try:\n",
        "    plt.figure(figsize=(20, 20))\n",
        "    predicts = model.predict_top_k(test_data)\n",
        "    for i, (image, label) in enumerate(test_data.gen_dataset().unbatch().take(100)):\n",
        "        ax = plt.subplot(10, 10, i+1)\n",
        "        plt.xticks([])\n",
        "        plt.yticks([])\n",
        "        plt.grid(False)\n",
        "        plt.imshow(image.numpy(), cmap=plt.cm.gray)\n",
        "        \n",
        "        predict_label = predicts[i][0][0]\n",
        "        color = get_label_color(predict_label,\n",
        "                                test_data.index_to_label[label.numpy()])\n",
        "        ax.xaxis.label.set_color(color)\n",
        "        plt.xlabel('Predicted: %s' % predict_label)\n",
        "    plt.show()\n",
        "except: pass\n",
        "\n",
        "from tensorflow_examples.lite.model_maker.core.data_util.image_dataloader import ImageClassifierDataLoader\n",
        "def plotDatasetImages(dataset:ImageClassifierDataLoader):\n",
        "    \"\"\" \"\"\"\n",
        "    plt.figure(figsize=(12,12))\n",
        "    for i, (image, label) in enumerate(dataset.gen_dataset().unbatch().take(25)):\n",
        "        plt.subplot(5,5,i+1)\n",
        "        plt.xticks([])\n",
        "        plt.yticks([])\n",
        "        plt.grid(False)\n",
        "        plt.imshow(image.numpy(), cmap=plt.cm.gray)\n",
        "        plt.xlabel(data.index_to_label[label.numpy()])\n",
        "    plt.show()\n",
        "\n",
        "# plotDatasetImages(dataset=train_ds)"
      ]
    },
    {
      "cell_type": "code",
      "execution_count": null,
      "id": "3505a19b",
      "metadata": {
        "id": "3505a19b"
      },
      "outputs": [],
      "source": [
        "BATCH_SIZE = 16\n",
        "data = DataLoader.from_folder(filename=generatorPath, shuffle=True)\n",
        "train_ds, restData = data.split(0.8)\n",
        "val_ds, test_ds = restData.split(0.5)\n",
        "# plotDatasetImages(val_ds)\n",
        "print()\n",
        "print('classes:', train_ds.num_classes)\n",
        "print('class names', train_ds.index_to_label)\n",
        "print(len(train_ds) // BATCH_SIZE, len(val_ds) // BATCH_SIZE)\n",
        "print(train_ds.size // BATCH_SIZE, val_ds.size // BATCH_SIZE)"
      ]
    },
    {
      "cell_type": "code",
      "execution_count": null,
      "id": "33c8a0bb",
      "metadata": {
        "id": "33c8a0bb"
      },
      "outputs": [],
      "source": [
        "help(image_classifier.ImageClassifier.predict_top_k)\n"
      ]
    },
    {
      "cell_type": "code",
      "execution_count": null,
      "id": "c609e96b",
      "metadata": {
        "id": "c609e96b"
      },
      "outputs": [],
      "source": [
        "earlyStop = tf.keras.callbacks.EarlyStopping(\n",
        "    monitor=\"val_loss\",\n",
        "    min_delta=0,\n",
        "    patience=0,\n",
        "    verbose=0,\n",
        "    mode=\"auto\",\n",
        "    baseline=None,\n",
        "    restore_best_weights=True,\n",
        ")"
      ]
    },
    {
      "cell_type": "code",
      "source": [
        "with strategy.scope():\n",
        "    # help(gt)\n",
        "    print()"
      ],
      "metadata": {
        "id": "jgnHUKNV__do"
      },
      "id": "jgnHUKNV__do",
      "execution_count": null,
      "outputs": []
    },
    {
      "cell_type": "code",
      "execution_count": null,
      "id": "f38e3b11",
      "metadata": {
        "id": "f38e3b11"
      },
      "outputs": [],
      "source": [
        "bs='''\n",
        "model  =  tflite_model_maker.image_classifier.create(\n",
        "    train_ds, \n",
        "    model_spec = 'mobilenet_v2',\n",
        "    validation_data = val_ds, # default\n",
        "    batch_size = None, # default None\n",
        "    epochs = None,  # default None\n",
        "    steps_per_epoch = None,  # default None\n",
        "    train_whole_model = None, # default None\n",
        "    dropout_rate = None,  # default None\n",
        "    learning_rate = None,  # default None\n",
        "    momentum = None, # default None\n",
        "    shuffle = False,\n",
        "    use_augmentation = False, # default False\n",
        "    use_hub_library = True, \n",
        "    warmup_steps = None,  # default None\n",
        "    model_dir = None, # default None\n",
        "    do_train = True\n",
        ")\n",
        "'''\n",
        "print(bs)"
      ]
    },
    {
      "cell_type": "code",
      "execution_count": null,
      "id": "f37114e0",
      "metadata": {
        "id": "f37114e0"
      },
      "outputs": [],
      "source": [
        "from tflite_model_maker import image_classifier\n",
        "BATCH_SIZE = 16\n",
        "EPOCHS = 30\n",
        "DROPOUT_RATE = 0.1\n",
        "LEARNING_RATE = 0.0001\n",
        "WARMUP = len(train_ds) // BATCH_SIZE\n",
        "print(WARMUP)\n",
        "\n",
        "model = image_classifier.create(\n",
        "    train_data = train_ds,\n",
        "    validation_data = val_ds,\n",
        "    model_spec = model_spec.get('mobilenet_v2'),\n",
        "    learning_rate = LEARNING_RATE,\n",
        "    batch_size = BATCH_SIZE,\n",
        "    epochs = EPOCHS,\n",
        "    dropout_rate = DROPOUT_RATE,\n",
        "    use_augmentation = True, # default=False\n",
        "    use_hub_library = True,  # default=True\n",
        "    momentum = 0.9, # Only used when use_hub_library is True\n",
        "    shuffle = False,\n",
        "    warmup_steps = WARMUP,\n",
        "    model_dir = contentPath,\n",
        "    train_whole_model = False,\n",
        ")"
      ]
    },
    {
      "cell_type": "code",
      "execution_count": null,
      "id": "4dd135b3",
      "metadata": {
        "id": "4dd135b3"
      },
      "outputs": [],
      "source": [
        "loss, accuracy = model.evaluate(data=test_ds)\n",
        "print(loss)\n",
        "accuracyPercent=round(accuracy * 100, 1)\n",
        "print(accuracyPercent, '% accuracy')"
      ]
    },
    {
      "cell_type": "code",
      "source": [
        "model.export(export_dir='.')"
      ],
      "metadata": {
        "id": "1JoseOs7tGIY"
      },
      "id": "1JoseOs7tGIY",
      "execution_count": null,
      "outputs": []
    },
    {
      "cell_type": "code",
      "execution_count": null,
      "id": "67f8a91b",
      "metadata": {
        "id": "67f8a91b"
      },
      "outputs": [],
      "source": [
        "model.ALLOWED_EXPORT_FORMAT"
      ]
    },
    {
      "cell_type": "code",
      "source": [
        "# A helper function that returns 'red'/'black' depending on if its two input\n",
        "# parameter matches or not.\n",
        "def get_label_color(val1, val2):\n",
        "  if val1 == val2:\n",
        "    return 'black'\n",
        "  else:\n",
        "    return 'blue'\n",
        "\n",
        "# Then plot 100 test images and their predicted labels.\n",
        "# If a prediction result is different from the label provided label in \"test\"\n",
        "# dataset, we will highlight it in red color.\n",
        "plt.figure(figsize=(12, 20))\n",
        "predicts = model.predict_top_k(val_ds)\n",
        "for i, (image, label) in enumerate(val_ds.gen_dataset().unbatch().take(50)):\n",
        "  ax = plt.subplot(10, 5, i+1)\n",
        "  plt.xticks([])\n",
        "  plt.yticks([])\n",
        "  plt.grid(False)\n",
        "  plt.imshow(image.numpy(), cmap=plt.cm.gray)\n",
        "\n",
        "  predict_label = predicts[i][0][0]\n",
        "  color = get_label_color(predict_label,\n",
        "                          val_ds.index_to_label[label.numpy()])\n",
        "  ax.xaxis.label.set_color(color)\n",
        "  plt.xlabel('Predicted: %s' % predict_label)\n",
        "plt.show()"
      ],
      "metadata": {
        "id": "OCHnBqydJOQp"
      },
      "id": "OCHnBqydJOQp",
      "execution_count": null,
      "outputs": []
    },
    {
      "cell_type": "code",
      "execution_count": null,
      "id": "e7fb13e3",
      "metadata": {
        "id": "e7fb13e3"
      },
      "outputs": [],
      "source": [
        "model.export(export_dir='.',\n",
        "             tflite_filename='Defcon_MobileNetV2.tflite')"
      ]
    },
    {
      "cell_type": "code",
      "source": [
        "config = QuantizationConfig.for_float16()\n",
        "\n",
        "model.export(export_dir='.',\n",
        "             tflite_filename='Defcon_MobileNetV2_fp16.tflite',\n",
        "             quantization_config=config)"
      ],
      "metadata": {
        "id": "7AZ5LLDgl7_-"
      },
      "id": "7AZ5LLDgl7_-",
      "execution_count": null,
      "outputs": []
    },
    {
      "cell_type": "code",
      "execution_count": null,
      "id": "7e7f25b1",
      "metadata": {
        "id": "7e7f25b1"
      },
      "outputs": [],
      "source": [
        "testData = DataLoader.from_folder(image_path, shuffle=True)\n",
        "print('\\n', testData, '\\n')"
      ]
    }
  ],
  "metadata": {
    "kernelspec": {
      "display_name": "Python 3 (ipykernel)",
      "language": "python",
      "name": "python3"
    },
    "language_info": {
      "codemirror_mode": {
        "name": "ipython",
        "version": 3
      },
      "file_extension": ".py",
      "mimetype": "text/x-python",
      "name": "python",
      "nbconvert_exporter": "python",
      "pygments_lexer": "ipython3",
      "version": "3.7.12"
    },
    "colab": {
      "private_outputs": true,
      "provenance": [],
      "collapsed_sections": [],
      "include_colab_link": true
    },
    "gpuClass": "standard",
    "accelerator": "GPU"
  },
  "nbformat": 4,
  "nbformat_minor": 5
}