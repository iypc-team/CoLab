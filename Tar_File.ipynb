{
  "nbformat": 4,
  "nbformat_minor": 5,
  "metadata": {
    "kernelspec": {
      "display_name": "Python 3",
      "language": "python",
      "name": "python3"
    },
    "language_info": {
      "codemirror_mode": {
        "name": "ipython",
        "version": 3
      },
      "file_extension": ".py",
      "mimetype": "text/x-python",
      "name": "python",
      "nbconvert_exporter": "python",
      "pygments_lexer": "ipython3",
      "version": "3.7.10"
    },
    "colab": {
      "name": "Tar_File.ipynb",
      "private_outputs": true,
      "provenance": [],
      "collapsed_sections": [],
      "machine_shape": "hm",
      "include_colab_link": true
    }
  },
  "cells": [
    {
      "cell_type": "markdown",
      "metadata": {
        "id": "view-in-github",
        "colab_type": "text"
      },
      "source": [
        "<a href=\"https://colab.research.google.com/github/iypc-team/CoLab/blob/master/Tar_File.ipynb\" target=\"_parent\"><img src=\"https://colab.research.google.com/assets/colab-badge.svg\" alt=\"Open In Colab\"/></a>"
      ]
    },
    {
      "cell_type": "code",
      "metadata": {
        "id": "CbVPlccJU78n"
      },
      "source": [
        "import glob, os, shutil, tarfile\n",
        "from os.path import *\n",
        "\n",
        "contentPth = os.getcwd()\n",
        "defconImageList=[]\n",
        "\n",
        "if exists('/content/sample_data'):\n",
        "    shutil.rmtree('/content/sample_data')\n",
        "\n",
        "try:\n",
        "    from google.colab import drive\n",
        "    gdrivePth = '/content/gdrive'\n",
        "    myDrivePth = join(gdrivePth, 'My Drive')\n",
        "    tfImagePth = join(myDrivePth, 'TensorflowImages')\n",
        "    drive.flush_and_unmount()\n",
        "    drive.mount(gdrivePth, force_remount=True)\n",
        "    if exists(myDrivePth):\n",
        "        os.chdir(myDrivePth)\n",
        "        from BashColors import C\n",
        "        print(f'myDrivePth: {C.Blue}{myDrivePth}{C.ColorOff}')\n",
        "    if exists(tfImagePth):\n",
        "        os.chdir(tfImagePth)\n",
        "        print(f'tfImagePth: {C.Blue}{tfImagePth}{C.ColorOff}')\n",
        "\n",
        "except ModuleNotFoundError as err:\n",
        "    pass\n",
        "    # print(err)\n",
        "\n",
        "os.chdir(contentPth)\n",
        "print(f'cwd: {C.Blue}{contentPth}{C.ColorOff}')"
      ],
      "id": "CbVPlccJU78n",
      "execution_count": null,
      "outputs": []
    },
    {
      "cell_type": "code",
      "metadata": {
        "id": "6Qw_heXDykbl"
      },
      "source": [
        "if exists(tfImagePth):\n",
        "    os.chdir(tfImagePth)\n",
        "    defconImageList = glob.glob('**', recursive=True)\n",
        "    for item in sorted(defconImageList):\n",
        "        fullPth = abspath(item)\n",
        "        print(fullPth)\n",
        "        if fullPth.endswith('.gz'):\n",
        "            shutil.copy2(src=fullPth, dst=contentPth)\n",
        "\n",
        "os.chdir(contentPth)"
      ],
      "id": "6Qw_heXDykbl",
      "execution_count": null,
      "outputs": []
    },
    {
      "cell_type": "code",
      "metadata": {
        "id": "adverse-chase"
      },
      "source": [
        "# create a tar consisting of all files in current directory\n",
        "\n",
        "\n",
        "\n",
        "fp=tarfile.open('defconImages.tar','w')\n",
        "for fil in glob.glob('*.png', recursive=True):\n",
        "    print(fil)\n",
        "    # fp.add(file)\n",
        "fp.close()\n",
        "%ls -l"
      ],
      "id": "adverse-chase",
      "execution_count": null,
      "outputs": []
    },
    {
      "cell_type": "code",
      "metadata": {
        "id": "popular-community"
      },
      "source": [
        "import glob, tarfile\n",
        "fp = tarfile.open(\"defconImages.tar\",\"r\")\n",
        "fp.extractall()\n",
        "fp.close()"
      ],
      "id": "popular-community",
      "execution_count": null,
      "outputs": []
    },
    {
      "cell_type": "code",
      "metadata": {
        "id": "prompt-intersection"
      },
      "source": [
        "gf=glob.glob('*.png')\n",
        "gf"
      ],
      "id": "prompt-intersection",
      "execution_count": null,
      "outputs": []
    },
    {
      "cell_type": "code",
      "metadata": {
        "id": "proof-millennium"
      },
      "source": [
        "# NotebookApp.iopub_data_rate_limit=20000000\n",
        "import os, sys\n",
        "import tensorflow as tf\n",
        "\n",
        "for fil in tarfile.open(\"defconImages.tar\",\"r\"):\n",
        "    print(fil.name)\n",
        "    # bytes_=fil.mode.to_bytes(length=fil.size, byteorder=sys.byteorder)\n",
        "    print('chksum:', fil.chksum)\n",
        "    print('size:', fil.size)\n",
        "    print('type:', fil.type)\n",
        "    print()"
      ],
      "id": "proof-millennium",
      "execution_count": null,
      "outputs": []
    },
    {
      "cell_type": "code",
      "metadata": {
        "id": "maritime-coral"
      },
      "source": [
        "for fil in tarfile.open(\"defconImages.tar\",\"r\"):\n",
        "    tf.image.resize(images=fil, size=(224, 224))"
      ],
      "id": "maritime-coral",
      "execution_count": null,
      "outputs": []
    },
    {
      "cell_type": "code",
      "metadata": {
        "id": "impressed-appendix"
      },
      "source": [
        "help(fil.mode.to_bytes)"
      ],
      "id": "impressed-appendix",
      "execution_count": null,
      "outputs": []
    }
  ]
}