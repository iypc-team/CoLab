{
  "nbformat": 4,
  "nbformat_minor": 5,
  "metadata": {
    "kernelspec": {
      "display_name": "Python 3",
      "language": "python",
      "name": "python3"
    },
    "language_info": {
      "codemirror_mode": {
        "name": "ipython",
        "version": 3
      },
      "file_extension": ".py",
      "mimetype": "text/x-python",
      "name": "python",
      "nbconvert_exporter": "python",
      "pygments_lexer": "ipython3",
      "version": "3.7.10"
    },
    "colab": {
      "name": "Tar_File.ipynb",
      "private_outputs": true,
      "provenance": [],
      "collapsed_sections": [],
      "machine_shape": "hm",
      "include_colab_link": true
    }
  },
  "cells": [
    {
      "cell_type": "markdown",
      "metadata": {
        "id": "view-in-github",
        "colab_type": "text"
      },
      "source": [
        "<a href=\"https://colab.research.google.com/github/iypc-team/CoLab/blob/master/Tar_File.ipynb\" target=\"_parent\"><img src=\"https://colab.research.google.com/assets/colab-badge.svg\" alt=\"Open In Colab\"/></a>"
      ]
    },
    {
      "cell_type": "code",
      "metadata": {
        "id": "adverse-chase"
      },
      "source": [
        "#To create a tar consisting of all files in current directory\n",
        "import tarfile, glob\n",
        "\n",
        "fp=tarfile.open('defconImages.tar','w')\n",
        "for file in glob.glob('*.png'):\n",
        "    fp.add(file)\n",
        "fp.close()"
      ],
      "id": "adverse-chase",
      "execution_count": null,
      "outputs": []
    },
    {
      "cell_type": "code",
      "metadata": {
        "id": "popular-community"
      },
      "source": [
        "import glob, tarfile\n",
        "fp = tarfile.open(\"defconImages.tar\",\"r\")\n",
        "fp.extractall()\n",
        "fp.close()"
      ],
      "id": "popular-community",
      "execution_count": null,
      "outputs": []
    },
    {
      "cell_type": "code",
      "metadata": {
        "id": "prompt-intersection"
      },
      "source": [
        "gf=glob.glob('*.png')\n",
        "gf"
      ],
      "id": "prompt-intersection",
      "execution_count": null,
      "outputs": []
    },
    {
      "cell_type": "code",
      "metadata": {
        "id": "proof-millennium"
      },
      "source": [
        "# NotebookApp.iopub_data_rate_limit=20000000\n",
        "import os, sys\n",
        "import tensorflow as tf\n",
        "\n",
        "for fil in tarfile.open(\"defconImages.tar\",\"r\"):\n",
        "    print(fil.name)\n",
        "    # bytes_=fil.mode.to_bytes(length=fil.size, byteorder=sys.byteorder)\n",
        "    print('chksum:', fil.chksum)\n",
        "    print('size:', fil.size)\n",
        "    print('type:', fil.type)\n",
        "    print()"
      ],
      "id": "proof-millennium",
      "execution_count": null,
      "outputs": []
    },
    {
      "cell_type": "code",
      "metadata": {
        "id": "maritime-coral"
      },
      "source": [
        "for fil in tarfile.open(\"defconImages.tar\",\"r\"):\n",
        "    tf.image.resize(images=fil, size=(224, 224))"
      ],
      "id": "maritime-coral",
      "execution_count": null,
      "outputs": []
    },
    {
      "cell_type": "code",
      "metadata": {
        "id": "impressed-appendix"
      },
      "source": [
        "help(fil.mode.to_bytes)"
      ],
      "id": "impressed-appendix",
      "execution_count": null,
      "outputs": []
    }
  ]
}