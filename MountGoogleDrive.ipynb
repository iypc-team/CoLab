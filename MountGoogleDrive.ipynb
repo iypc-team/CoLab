{
  "nbformat": 4,
  "nbformat_minor": 0,
  "metadata": {
    "accelerator": "TPU",
    "colab": {
      "name": "MountGoogleDrive.ipynb",
      "provenance": [],
      "collapsed_sections": [],
      "machine_shape": "hm",
      "include_colab_link": true
    },
    "kernelspec": {
      "display_name": "Python 3",
      "language": "python",
      "name": "python3"
    },
    "language_info": {
      "codemirror_mode": {
        "name": "ipython",
        "version": 3
      },
      "file_extension": ".py",
      "mimetype": "text/x-python",
      "name": "python",
      "nbconvert_exporter": "python",
      "pygments_lexer": "ipython3",
      "version": "3.7.8"
    }
  },
  "cells": [
    {
      "cell_type": "markdown",
      "metadata": {
        "id": "view-in-github",
        "colab_type": "text"
      },
      "source": [
        "<a href=\"https://colab.research.google.com/github/iypc-team/CoLab/blob/master/MountGoogleDrive.ipynb\" target=\"_parent\"><img src=\"https://colab.research.google.com/assets/colab-badge.svg\" alt=\"Open In Colab\"/></a>"
      ]
    },
    {
      "cell_type": "code",
      "metadata": {
        "id": "Vcc0tpxDkrPc"
      },
      "source": [
        "%%writefile MountGoogleDrive.py\n",
        "# 11/15/2020\n",
        "from __future__ import absolute_import\n",
        "import glob, os, shutil, sys\n",
        "from pathlib import Path\n",
        "from google.colab import drive, files\n",
        "\n",
        "contentPath=str(Path.cwd())\n",
        "contentDrivePath=os.path.join(contentPath, 'drive')\n",
        "myDrivePath=os.path.join(contentDrivePath, 'My Drive')\n",
        "pythonFilesPath=os.path.join(myDrivePath, 'PythonFiles')\n",
        "os.chdir(contentPath)\n",
        "\n",
        "class MountGoogleDrive():\n",
        "    '''class MountGoogleDrive '''\n",
        "\n",
        "    def __init__(self):\n",
        "        ''' MountGoogleDrive class constructor. '''\n",
        "        self.mountGDrive()\n",
        "        self.mgd=None\n",
        "\n",
        "        self.contentPath=contentPath\n",
        "        self.contentDrivePath=contentDrivePath\n",
        "        self.myDrivePath=myDrivePath\n",
        "        self.pythonFilesPath=pythonFilesPath\n",
        "\n",
        "        self.allFilesList=self.updateAllFiles()\n",
        "\n",
        "    def mountGDrive(self):\n",
        "        '''drive.mount('/content/drive', force_remount=True)'''\n",
        "        drive.flush_and_unmount()\n",
        "        drive.mount('/content/drive', force_remount=True)\n",
        "\n",
        "    def updateAllFiles(self):\n",
        "        '''updateAllFiles()\\nmethod updates all files\\nreturns self.allFilesList\n",
        "        '''\n",
        "        self.allFilesList=[]\n",
        "        file_list=glob.glob('**', recursive=True)\n",
        "        new_list=[]\n",
        "        new_list.append('/content')\n",
        "        for fil in file_list:\n",
        "            if not fil.__contains__('__pycache__'):\n",
        "                new_list.append(fil)\n",
        "        self.allFilesList=new_list.copy()\n",
        "        return self.allFilesList\n",
        "\n",
        "    def copyToContent(self):\n",
        "        '''copyToContent() method'''\n",
        "        pass\n",
        "        \n",
        "mgd=MountGoogleDrive()"
      ],
      "execution_count": null,
      "outputs": []
    },
    {
      "cell_type": "code",
      "metadata": {
        "id": "Oufpf5LetVrF"
      },
      "source": [
        "# import MountGoogleDrive as mgd\n",
        "from MountGoogleDrive import *\n",
        "fileList=glob.glob('__pycache__', recursive=True)\n",
        "for item in sorted(fileList):\n",
        "    if os.path.isdir(item) and item.__contains__('__pycache__'):\n",
        "        fullPath=os.path.abspath(item)\n",
        "        print(fullPath)\n",
        "        try: shutil.rmtree(fullPath)\n",
        "        except Exception as err:\n",
        "            print('no such directory exists\\n')\n",
        "            print(err)\n"
      ],
      "execution_count": null,
      "outputs": []
    },
    {
      "cell_type": "code",
      "metadata": {
        "id": "Luj6S_4ktW68"
      },
      "source": [
        ""
      ],
      "execution_count": null,
      "outputs": []
    }
  ]
}