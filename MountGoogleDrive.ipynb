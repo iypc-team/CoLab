{
  "nbformat": 4,
  "nbformat_minor": 0,
  "metadata": {
    "accelerator": "TPU",
    "colab": {
      "name": "MountGoogleDrive.ipynb",
      "provenance": [],
      "collapsed_sections": [],
      "machine_shape": "hm",
      "include_colab_link": true
    },
    "kernelspec": {
      "display_name": "Python 3",
      "language": "python",
      "name": "python3"
    },
    "language_info": {
      "codemirror_mode": {
        "name": "ipython",
        "version": 3
      },
      "file_extension": ".py",
      "mimetype": "text/x-python",
      "name": "python",
      "nbconvert_exporter": "python",
      "pygments_lexer": "ipython3",
      "version": "3.7.8"
    }
  },
  "cells": [
    {
      "cell_type": "markdown",
      "metadata": {
        "id": "view-in-github",
        "colab_type": "text"
      },
      "source": [
        "<a href=\"https://colab.research.google.com/github/iypc-team/CoLab/blob/master/MountGoogleDrive.ipynb\" target=\"_parent\"><img src=\"https://colab.research.google.com/assets/colab-badge.svg\" alt=\"Open In Colab\"/></a>"
      ]
    },
    {
      "cell_type": "code",
      "metadata": {
        "id": "Vcc0tpxDkrPc"
      },
      "source": [
        "%%writefile MountGoogleDrive.py\n",
        "# 11/15/2020\n",
        "from __future__ import absolute_import\n",
        "from IPython.display import clear_output\n",
        "import glob, os, shutil, sys\n",
        "from os.path import *\n",
        "from pathlib import Path\n",
        "from google.colab import drive, files\n",
        "\n",
        "contentPath=str(Path.cwd())\n",
        "contentDrivePath=os.path.join(contentPath, 'drive')\n",
        "myDrivePath=os.path.join(contentDrivePath, 'My Drive')\n",
        "pythonFilesPath=os.path.join(myDrivePath, 'PythonFiles')\n",
        "os.chdir(contentPath)\n",
        "allDirectoryPathsDict={}\n",
        "allFilePathsDict={}\n",
        "\n",
        "class MountGoogleDrive():\n",
        "    '''class MountGoogleDrive '''\n",
        "\n",
        "    def __init__(self):\n",
        "        ''' MountGoogleDrive class constructor. '''\n",
        "        self.mountGoogleDrive()\n",
        "        # self.mgd=None\n",
        "        self.allDirectoryPathsDict=allDirectoryPathsDict\n",
        "        self.allFilePathsDict=allFilePathsDict\n",
        "\n",
        "        self.contentPath=contentPath\n",
        "        self.contentDrivePath=contentDrivePath\n",
        "        self.myDrivePath=myDrivePath\n",
        "        self.pythonFilesPath=pythonFilesPath\n",
        "\n",
        "        self.listAllFiles(silent=True)\n",
        "        self.copyToContent()\n",
        "        self.allFilesList=self.updateAllFiles()\n",
        "\n",
        "    def mountGoogleDrive(self):\n",
        "        drive.flush_and_unmount()\n",
        "        drive.mount('/content/drive', force_remount=True)\n",
        "\n",
        "    def updateAllFiles(self):\n",
        "        '''returns self.allFilesList'''\n",
        "        os.chdir(self.contentPath)\n",
        "        self.allFilesList=[]\n",
        "        file_list=glob.glob('**', recursive=True)\n",
        "        new_list=[]\n",
        "        new_list.append('/content')\n",
        "        for fil in file_list:\n",
        "            if not fil.__contains__('__pycache__'):\n",
        "                new_list.append(fil)\n",
        "        self.allFilesList=new_list.copy()\n",
        "        return self.allFilesList\n",
        "\n",
        "    def copyToContent(self):\n",
        "        os.chdir(self.pythonFilesPath)\n",
        "        fileList=glob.glob('*.py')\n",
        "        for fil in sorted(fileList):\n",
        "            sourcePath=join(self.pythonFilesPath, fil)\n",
        "            destinationPath= join(self.contentPath, fil)\n",
        "            if exists(sourcePath):\n",
        "                try: shutil.copy(sourcePath, destinationPath)\n",
        "                except Exception as err: print(err)\n",
        "\n",
        "    def clearAllCaches(self):\n",
        "        os.chdir(self.contentPath)\n",
        "        file_list=glob.glob('**', recursive=True)\n",
        "        for item in file_list:\n",
        "            fullPath=abspath(item)\n",
        "            if isdir(fullPath) and item.__contains__('__pycache__'): \n",
        "                print(f'{fullPath}\\n')\n",
        "                try: shutil.rmtree(fullPath)\n",
        "                except Exception as err: print(err)\n",
        "\n",
        "    def listAllFiles(self, silent=False):\n",
        "        from BashColors import C\n",
        "        self.clearAllCaches()\n",
        "        clear_output(wait=0)\n",
        "        os.chdir(self.contentPath)\n",
        "        if not silent:\n",
        "            print(f'{C.Blue}{Path.cwd()}')\n",
        "        file_list=glob.glob('**', recursive=True)\n",
        "        tmpDirDict={}\n",
        "        tmpFilesDict={}\n",
        "        fileCount=0\n",
        "        dirCount=0\n",
        "        for fil in sorted(file_list):\n",
        "            fullPath=abspath(fil)\n",
        "            if isdir(fullPath):\n",
        "                dirCount+=1\n",
        "                allDirectoryPathsDict[dirCount]=fullPath\n",
        "                if not silent:\n",
        "                    print(f'\\n{C.Blue}{fullPath}')\n",
        "            elif isfile(fullPath):\n",
        "                fileCount+=1\n",
        "                allFilePathsDict[fileCount]=fullPath\n",
        "                if not silent:\n",
        "                    print(f'{C.White}{fileCount}. {basename(fullPath)}')\n",
        "\n",
        "mgd=MountGoogleDrive()"
      ],
      "execution_count": null,
      "outputs": []
    },
    {
      "cell_type": "code",
      "metadata": {
        "id": "pWL8ZmYJ7ZNu"
      },
      "source": [
        "from MountGoogleDrive import mgd\n"
      ],
      "execution_count": null,
      "outputs": []
    }
  ]
}