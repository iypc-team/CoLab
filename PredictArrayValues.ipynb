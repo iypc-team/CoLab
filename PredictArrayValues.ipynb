{
  "nbformat": 4,
  "nbformat_minor": 0,
  "metadata": {
    "colab": {
      "name": "PredictArrayValues.ipynb",
      "provenance": [],
      "collapsed_sections": [],
      "include_colab_link": true
    },
    "kernelspec": {
      "name": "python3",
      "display_name": "Python 3"
    }
  },
  "cells": [
    {
      "cell_type": "markdown",
      "metadata": {
        "id": "view-in-github",
        "colab_type": "text"
      },
      "source": [
        "<a href=\"https://colab.research.google.com/github/iypc-team/CoLab/blob/master/PredictArrayValues.ipynb\" target=\"_parent\"><img src=\"https://colab.research.google.com/assets/colab-badge.svg\" alt=\"Open In Colab\"/></a>"
      ]
    },
    {
      "cell_type": "code",
      "metadata": {
        "id": "XHudOekuS37d",
        "colab_type": "code",
        "colab": {}
      },
      "source": [
        "from IPython.display import clear_output\n",
        "isInstalled = True"
      ],
      "execution_count": 0,
      "outputs": []
    },
    {
      "cell_type": "code",
      "metadata": {
        "id": "E1f8TmeZzEqL",
        "colab_type": "code",
        "colab": {}
      },
      "source": [
        "if isInstalled == False:\n",
        "    from IPython.display import clear_output\n",
        "    %pip install \"tensorflow==2.0.0\"\n",
        "    isInstalled = True\n",
        "clear_output()"
      ],
      "execution_count": 0,
      "outputs": []
    },
    {
      "cell_type": "code",
      "metadata": {
        "id": "DCVotmkxzrO4",
        "colab_type": "code",
        "outputId": "ad586cd1-e40a-4fbd-cdab-dcf21809a834",
        "colab": {
          "base_uri": "https://localhost:8080/",
          "height": 35
        }
      },
      "source": [
        "import tensorflow as tf\n",
        "import numpy as np\n",
        "print(\"tensorflow:\", tf.__version__)"
      ],
      "execution_count": 21,
      "outputs": [
        {
          "output_type": "stream",
          "text": [
            "tensorflow: 2.0.0\n"
          ],
          "name": "stdout"
        }
      ]
    },
    {
      "cell_type": "code",
      "metadata": {
        "id": "mSBqmzkQUePJ",
        "colab_type": "code",
        "outputId": "ce486ac4-af62-46fb-aeca-03eb6d25621a",
        "colab": {
          "base_uri": "https://localhost:8080/",
          "height": 35
        }
      },
      "source": [
        "rpsModel = tf.keras.Sequential(tf.keras.layers.Dense(units=1, input_shape=[1]))\n",
        "\n",
        "rpsModel.compile(optimizer='sgd', loss='mean_squared_error')\n",
        "\n",
        "xs = np.array([-1.0,0.0,1.0,2.0,3.0,4.0], dtype=float)\n",
        "ys = np.empty_like(xs)\n",
        "\n",
        "increment = 0\n",
        "for item in xs:\n",
        "    number = item * 2.0 - 1.0\n",
        "    ys[increment] = number\n",
        "    increment = increment + 1\n",
        "\n",
        "rpsModel.fit(xs, ys, epochs= 500)\n",
        "clear_output()\n",
        "print(\"Training completed. \")\n"
      ],
      "execution_count": 22,
      "outputs": [
        {
          "output_type": "stream",
          "text": [
            "Training completed. \n"
          ],
          "name": "stdout"
        }
      ]
    },
    {
      "cell_type": "code",
      "metadata": {
        "id": "n_4GMf5EYBg7",
        "colab_type": "code",
        "outputId": "6654d7b6-2e2e-424c-9836-7cef3f34f5f7",
        "colab": {
          "base_uri": "https://localhost:8080/",
          "height": 305
        }
      },
      "source": [
        "for prediction in range(5,21,1):\n",
        "    num = float(prediction)\n",
        "    predictedNum = rpsModel.predict([num])\n",
        "    print(\"predict(\", prediction, \"* 2 - 1) =\", rpsModel.predict([num]))\n"
      ],
      "execution_count": 23,
      "outputs": [
        {
          "output_type": "stream",
          "text": [
            "predict( 5 * 2 - 1) = [[8.996206]]\n",
            "predict( 6 * 2 - 1) = [[10.994208]]\n",
            "predict( 7 * 2 - 1) = [[12.99221]]\n",
            "predict( 8 * 2 - 1) = [[14.990213]]\n",
            "predict( 9 * 2 - 1) = [[16.988216]]\n",
            "predict( 10 * 2 - 1) = [[18.98622]]\n",
            "predict( 11 * 2 - 1) = [[20.98422]]\n",
            "predict( 12 * 2 - 1) = [[22.982224]]\n",
            "predict( 13 * 2 - 1) = [[24.980227]]\n",
            "predict( 14 * 2 - 1) = [[26.978228]]\n",
            "predict( 15 * 2 - 1) = [[28.97623]]\n",
            "predict( 16 * 2 - 1) = [[30.974234]]\n",
            "predict( 17 * 2 - 1) = [[32.972233]]\n",
            "predict( 18 * 2 - 1) = [[34.970238]]\n",
            "predict( 19 * 2 - 1) = [[36.96824]]\n",
            "predict( 20 * 2 - 1) = [[38.966244]]\n"
          ],
          "name": "stdout"
        }
      ]
    },
    {
      "cell_type": "code",
      "metadata": {
        "id": "HJ5p0zXCK2Tx",
        "colab_type": "code",
        "colab": {}
      },
      "source": [
        ""
      ],
      "execution_count": 0,
      "outputs": []
    }
  ]
}