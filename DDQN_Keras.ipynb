{
  "nbformat": 4,
  "nbformat_minor": 0,
  "metadata": {
    "colab": {
      "name": "DDQN-Keras.ipynb",
      "provenance": [],
      "private_outputs": true,
      "collapsed_sections": [],
      "authorship_tag": "ABX9TyPD02JV4PeJENXGV/8ftWfY",
      "include_colab_link": true
    },
    "kernelspec": {
      "name": "python3",
      "display_name": "Python 3"
    }
  },
  "cells": [
    {
      "cell_type": "markdown",
      "metadata": {
        "id": "view-in-github",
        "colab_type": "text"
      },
      "source": [
        "<a href=\"https://colab.research.google.com/github/iypc-team/CoLab/blob/master/DDQN_Keras.ipynb\" target=\"_parent\"><img src=\"https://colab.research.google.com/assets/colab-badge.svg\" alt=\"Open In Colab\"/></a>"
      ]
    },
    {
      "cell_type": "code",
      "metadata": {
        "id": "Jc_8b8Y4bXoN",
        "colab_type": "code",
        "colab": {}
      },
      "source": [
        "import tensorflow as tf\n",
        "import tensorflow.keras as keras\n",
        "from tensorflow.keras.optimizers import Adam\n",
        "import numpy as np\n",
        "print(f'tf version: {tf.__version__}\\nOk')"
      ],
      "execution_count": 0,
      "outputs": []
    },
    {
      "cell_type": "code",
      "metadata": {
        "id": "6jIBh_fTcpuX",
        "colab_type": "code",
        "colab": {}
      },
      "source": [
        "class DuelingDeepQNetwork(keras.Model):\n",
        "    def __init__(self, n_actions, fc1_dims, fc2_dims):\n",
        "        super(DuelingDeepQNetwork, self).__init__()\n",
        "        self.dense1 = keras.layers.Dense(fc1_dims, activation='relu') \n",
        "        self.dense2 = keras.layers.Dense(fc2_dims, activation='relu') \n",
        "        self.V = keras.layers.Dense(1, activation=None)\n",
        "        self.A = keras.layers.Dense(n_actions, activation=None)\n",
        "\n",
        "    def call(self, state):\n",
        "        x = self.dense1(state)\n",
        "        x = self.dense2(x)\n",
        "        V = self.V(x)\n",
        "        A = self.A(x)\n",
        "        Q = (V + (A - tf.math.reduce_mean(A, axis=1, keepdims=True)))\n",
        "        \n",
        "        return Q\n",
        "\n",
        "    # may be unnecessary\n",
        "    def advantage(self, state):\n",
        "        x = self.dense1(state)\n",
        "        x = self.dense2(x)\n",
        "        A = self.A(x)\n",
        "\n",
        "        return A\n",
        "\n",
        "\n",
        "class ReplayBuffer():\n",
        "    def __init__(self, max_size, input_shape):\n",
        "        self.mem_size = max_size\n",
        "        self.mem_cntr = 0\n",
        "        self.state_memory = np.zeros((self.mem_size, *input_shape), \n",
        "                                     dtype=np.float32) \n",
        "        self.new_state_memory = np.zeros((self.mem_size, *input_shape),\n",
        "                                         dtype=float32) \n",
        "        self.action_memory = np.zeros(self.mem_size, dtype=int32)\n",
        "        self.reward_memory = np.zeros(self.mem_size, dtype=np.float32) \n",
        "        self.terminal_memory = np.zeros(self.mem_size, dtype=np.bool) \n",
        "\n",
        "    def store_transition(self, state, action, reward, state_, done):\n",
        "        index = mem_cntr % mem_size\n",
        "        self.state_memory[index] = state\n",
        "        self.new_state_memory[index] = state_\n",
        "        self.action_memory[index] = action\n",
        "        self.reward_memory[index] = reward\n",
        "        self.terminal_memory[index] = done\n",
        "\n",
        "        mem_cntr += 1\n",
        "\n",
        "    def sample_buffer(self, batch_size):\n",
        "        max_mem = min(self.mem_cntr, self.mem_size)\n",
        "        batch = np.random.choice(max_mem, batch_size, replace=False)\n",
        "\n",
        "        states = self.state_memory[batch]\n",
        "        new_states = self.new_state_memory[batch]\n",
        "        actions = self.action_memory[batch]\n",
        "        rewards = self.reward_memory[batch]\n",
        "        dones = self.terminal_memory[batch]\n",
        "\n",
        "        return states, new_states, actions, rewards, dones\n",
        "\n",
        "class Agent():\n",
        "    def __init__(self, lr, gamma, n_actions, epsilon, batch_size,\n",
        "                 input_dims, epsilon_dec=1e-3, eps_end=0.01,\n",
        "                 mem_size=1000000, fname='DDQN-Keras.h5', fc1_dims=128,\n",
        "                 fc2_dims=128, replace=100):\n",
        "        self.action_space = [i for i in range(n_actions)]\n",
        "        # self.lr = lr\n",
        "        self.gamma = gamma\n",
        "        self.epsilon = epsilon\n",
        "        self.epsilon_dec = epsilon_dec\n",
        "        self.eps_end = eps_end\n",
        "        self.fname = fname\n",
        "        self.replace = replace\n",
        "        \n",
        "        self.learn_step_counter = 0\n",
        "        self.memory = ReplayBuffer(max_size=mem_size, input_shape=input_dims)  \n",
        "        self.q_eval = DuelingDeepQNetwork(n_actions, fc1_dims, fc2_dims)  \n",
        "        self.q_next = DuelingDeepQNetwork(n_actions, fc1_dims, fc2_dims)  \n",
        "        \n",
        "        self.q_eval.compile(optimizer=Adam(learning_rate=lr), loss='mean_squared_error')\n",
        "        self.q_next.compile(optimizer=Adam(learning_rate=lr), loss='mean_squared_error')\n",
        "\n",
        "        \n",
        "print(f'Ok')"
      ],
      "execution_count": 0,
      "outputs": []
    },
    {
      "cell_type": "code",
      "metadata": {
        "id": "ePT2cHE8z5Sy",
        "colab_type": "code",
        "colab": {}
      },
      "source": [
        "ddqn = DuelingDeepQNetwork(n_actions=9, fc1_dims=16,fc2_dims=128)\n",
        "\n",
        "# agent = Agent(lr=0.001, gamma=0.001, n_actions=9, epsilon=0.95, batch_size=2048, input_dims=1)\n",
        "help(Agent)\n",
        "Agent.__dict__"
      ],
      "execution_count": 0,
      "outputs": []
    }
  ]
}