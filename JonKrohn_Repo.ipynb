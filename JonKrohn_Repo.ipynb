{
  "nbformat": 4,
  "nbformat_minor": 0,
  "metadata": {
    "kernelspec": {
      "display_name": "Python 3",
      "language": "python",
      "name": "python3"
    },
    "language_info": {
      "codemirror_mode": {
        "name": "ipython",
        "version": 3
      },
      "file_extension": ".py",
      "mimetype": "text/x-python",
      "name": "python",
      "nbconvert_exporter": "python",
      "pygments_lexer": "ipython3",
      "version": "3.7.6"
    },
    "colab": {
      "name": "JonKrohn_Repo.ipynb",
      "provenance": [],
      "collapsed_sections": [],
      "include_colab_link": true
    }
  },
  "cells": [
    {
      "cell_type": "markdown",
      "metadata": {
        "id": "view-in-github",
        "colab_type": "text"
      },
      "source": [
        "<a href=\"https://colab.research.google.com/github/iypc-team/CoLab/blob/master/JonKrohn_Repo.ipynb\" target=\"_parent\"><img src=\"https://colab.research.google.com/assets/colab-badge.svg\" alt=\"Open In Colab\"/></a>"
      ]
    },
    {
      "cell_type": "code",
      "metadata": {
        "id": "DJRNPTMLVrwK"
      },
      "source": [
        "from IPython.display import clear_output\n",
        "\n",
        "%pip install gitpython\n",
        "clear_output(wait=0)"
      ],
      "execution_count": null,
      "outputs": []
    },
    {
      "cell_type": "code",
      "metadata": {
        "id": "W0B1dpk90acT"
      },
      "source": [
        "from __future__ import absolute_import, division, print_function\n",
        "import git, glob, os, shutil, sys\n",
        "from os.path import *\n",
        "from pathlib import Path\n",
        "from google.colab import drive\n",
        "drive.mount('/content/drive', force_remount=True)\n",
        "contentPth=str(Path.cwd())\n",
        "drivePth='/content/drive'\n",
        "myDrivePth='/content/drive/My Drive'\n",
        "pythonFilesPth='/content/drive/My Drive/PythonFiles'\n",
        "print(f'cwd: {Path.cwd()}')"
      ],
      "execution_count": null,
      "outputs": []
    },
    {
      "cell_type": "code",
      "metadata": {
        "id": "aZHJRnkVR0JQ"
      },
      "source": [
        "from __future__ import absolute_import\n",
        "def copyToContent():\n",
        "    sourcePath=join(pythonFilesPth, 'BashColors.py')\n",
        "    destinationPath=join(contentPth, 'BashColors.py')\n",
        "    if not exists(destinationPath):\n",
        "        shutil.copy2(sourcePath, destinationPath) \n",
        "copyToContent()\n",
        "from BashColors import C\n",
        "\n",
        "def removeSample_Data():\n",
        "    dataPth=join(contentPth, 'sample_data')\n",
        "    if exists(dataPth):\n",
        "        shutil.rmtree(dataPth)\n",
        "removeSample_Data()"
      ],
      "execution_count": null,
      "outputs": []
    },
    {
      "cell_type": "code",
      "metadata": {
        "id": "oWAsN2feVrxC"
      },
      "source": [
        "from git import Remote, Repo\n",
        "\n",
        "repoList = ['https://github.com/jonkrohn/ML-foundations', \n",
        "           'https://github.com/jonkrohn/DLTFpT', \n",
        "           'https://github.com/jonkrohn/tf2', \n",
        "           'https://github.com/jonkrohn/pytorch', \n",
        "           'https://github.com/jonkrohn/TensorFlow-LiveLessons', \n",
        "           'https://github.com/jonkrohn/SLM-Lab', \n",
        "           'https://github.com/jonkrohn/docker-stacks', \n",
        "           'https://github.com/jonkrohn/keras-attention',\n",
        "           'https://github.com/jonkrohn/study-group']\n",
        "\n",
        "print(f'cwd: {C.Green}{Path.cwd()}')"
      ],
      "execution_count": null,
      "outputs": []
    },
    {
      "cell_type": "code",
      "metadata": {
        "id": "Xtt9wpHgVrx5"
      },
      "source": [
        "for repo in repoList:\n",
        "    repoPath = join(repo)\n",
        "    jkPth=join(myDrivePth, 'JK')\n",
        "    localPath = join(jkPth, basename(repo))\n",
        "    if not exists(localPath):\n",
        "        # print(f'{C.Red}{localPath}{C.ColorOff} Does not exist')\n",
        "        Repo.clone_from(repoPath, localPath)\n",
        "    elif exists(localPath):\n",
        "        print(f'{C.Green}{localPath}{C.ColorOff} exists')"
      ],
      "execution_count": null,
      "outputs": []
    },
    {
      "cell_type": "code",
      "metadata": {
        "id": "V3HdqL-8Vrya"
      },
      "source": [
        "# os.chdir(drivePth)\n",
        "os.chdir(jkPth)\n",
        "from BashColors import C\n",
        "allFiles = glob.glob('**', recursive=True)\n",
        "allFiles=sorted(allFiles)\n",
        "allFilesDict = {}\n",
        "\n",
        "fileCount = 0\n",
        "print(f'{C.BIBlue}{Path.cwd()}')\n",
        "for fil in sorted(allFiles):\n",
        "    realPath = realpath(fil)\n",
        "    fullPath = str(Path(realpath(fil)))\n",
        "    if isdir(fullPath) and not realPath.__contains__('__pycache__'):\n",
        "        print(f'\\n{C.BIBlue}{fullPath}')\n",
        "    elif isfile(fullPath):\n",
        "        fileCount += 1\n",
        "        allFilesDict[fileCount] = fullPath\n",
        "        if fullPath.__contains__('.ipynb'):\n",
        "            print(f'{C.IWhite}{fileCount}. {basename(fullPath)}')"
      ],
      "execution_count": null,
      "outputs": []
    },
    {
      "cell_type": "code",
      "metadata": {
        "id": "jbHU_2cRVry2"
      },
      "source": [
        "\n",
        "pth = allFilesDict[418]\n",
        "fileName=basename(pth)\n",
        "print(fileName)\n",
        "print(pth)\n",
        "fileText=None\n",
        "# print(f'# %%writefile {pth.name}\\n')\n",
        "try:\n",
        "    with open(pth, 'r') as openFile:\n",
        "        fileText= openFile.read()\n",
        "        print(openFile.read())\n",
        "except Exception as err:\n",
        "    print(err)\n",
        "    try:\n",
        "        with open(pth, 'rb') as openFile:\n",
        "            print(f'{C.BIRed}binary mode')\n",
        "            readLines = openFile.readlines()\n",
        "            for line in readLines:\n",
        "                print(line)\n",
        "    except Exception as err:\n",
        "        print(err)\n",
        "        print(f'{C.RED}BULLSHIT')"
      ],
      "execution_count": null,
      "outputs": []
    },
    {
      "cell_type": "code",
      "metadata": {
        "id": "6cotIhLHTrj_"
      },
      "source": [
        "# print(fileName)\n",
        "# print(fileText)\n",
        "licensePth=join(contentPth, 'LICENSE')\n",
        "pth=join(contentPth, fileName)\n",
        "with open(pth, 'w') as openNewFile:\n",
        "    openNewFile.write(fileText)\n",
        "    openNewFile.close()"
      ],
      "execution_count": null,
      "outputs": []
    },
    {
      "cell_type": "code",
      "metadata": {
        "id": "biPYFJjJpsnX"
      },
      "source": [
        "os.chdir(contentPth)\n",
        "with open(pth, 'r') as openFile:\n",
        "    print(f'{openFile.read()}')\n"
      ],
      "execution_count": null,
      "outputs": []
    }
  ]
}