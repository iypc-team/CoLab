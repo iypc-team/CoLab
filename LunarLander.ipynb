{
  "nbformat": 4,
  "nbformat_minor": 0,
  "metadata": {
    "colab": {
      "name": "LunarLander.ipynb",
      "private_outputs": true,
      "provenance": [],
      "collapsed_sections": [],
      "machine_shape": "hm",
      "authorship_tag": "ABX9TyNyldZs/JRJWOBv0wCXtqpH",
      "include_colab_link": true
    },
    "kernelspec": {
      "name": "python3",
      "display_name": "Python 3"
    },
    "accelerator": "GPU"
  },
  "cells": [
    {
      "cell_type": "markdown",
      "metadata": {
        "id": "view-in-github",
        "colab_type": "text"
      },
      "source": [
        "<a href=\"https://colab.research.google.com/github/iypc-team/CoLab/blob/master/LunarLander.ipynb\" target=\"_parent\"><img src=\"https://colab.research.google.com/assets/colab-badge.svg\" alt=\"Open In Colab\"/></a>"
      ]
    },
    {
      "cell_type": "code",
      "metadata": {
        "id": "F1XpVvp9vn7L"
      },
      "source": [
        "from __future__ import absolute_import\n",
        "import glob, os, shutil\n",
        "from os.path import *\n",
        "from pathlib import Path\n",
        "from google.colab import drive\n",
        "\n",
        "drive.flush_and_unmount()\n",
        "drive.mount('/content/drive', force_remount=True)\n",
        "\n",
        "contentPth = '/content'\n",
        "drivePth = '/content/drive'\n",
        "myDrivePth = '/content/drive/My Drive'\n",
        "pyFilesPth = '/content/drive/My Drive/PythonFiles'\n",
        "\n",
        "deletePth = join(contentPth, 'sample_data')\n",
        "if exists(deletePth):\n",
        "    shutil.rmtree(deletePth)\n",
        "else: pass\n",
        "\n",
        "os.chdir(pyFilesPth)\n",
        "import ImportDriveFiles\n",
        "from BashColors import C\n",
        "from ColabDriveFiles import *\n",
        "os.chdir(contentPth)\n",
        "print(f'cwd: {C.Cyan}{Path.cwd()}')"
      ],
      "execution_count": null,
      "outputs": []
    },
    {
      "cell_type": "code",
      "metadata": {
        "id": "FgvHZhUdW4Ow"
      },
      "source": [
        "cdf.listColabFiles(silent=True)\n",
        "cdf.clearAllCaches()\n",
        "dirDict=cdf.allDirectoriesDict.copy()\n",
        "dirPath=dirDict[11]\n",
        "os.chdir(dirPath)\n",
        "# print(f'copy files in: {C.IBlue}{os.getcwd()}\\n')\n",
        "cdf.clearAllCaches()\n",
        "dirFiles=glob('**')\n",
        "for fil in dirFiles:\n",
        "    sourcePath=realpath(fil)\n",
        "    destinationPath=join(cdf.contentPth, fil)\n",
        "    # print(f'{C.IPurple}{sourcePath}')\n",
        "    # print(f'{C.IGreen}{destinationPath}')\n",
        "    shutil.copy2(sourcePath, destinationPath)"
      ],
      "execution_count": null,
      "outputs": []
    },
    {
      "cell_type": "code",
      "metadata": {
        "id": "Abdaoux0LHfF"
      },
      "source": [
        "import gym\n",
        "import numpy as np\n",
        "from ddpg_torch import Agent\n",
        "from utils import plot_learning_curve\n",
        "\n",
        "try: import Box2D\n",
        "except: \n",
        "    %pip install box2d\n",
        "    import Box2D\n",
        "\n",
        "if __name__ == '__main__':\n",
        "    env = gym.make('LunarLanderContinuous-v2')\n",
        "    agent =Agent(alpha=0.0001, beta=0.001,\n",
        "                 input_dims=env.observation_space.shape, tau=0.001,\n",
        "                 n_actions=env.action_space.shape[0], batch_size=64,\n",
        "                 fc1_dims=400, fc2_dims=300)\n",
        "    n_games=10 # default 1000\n",
        "    filename='LunarLander_alpha_' + str(agent.alpha) +  '_beta_' + \\\n",
        "            str(agent.beta) \n",
        "    filename='LunarLander'\n",
        "    print(filename)\n",
        "    figure_file='plots/' + filename + '.png'\n",
        "    # print(figure_file)\n",
        "    best_score=env.reward_range[0] # default -inf\n",
        "    # print(best_score)\n",
        "    score_history=[]\n",
        "    \n",
        "    for i in range(n_games):\n",
        "        observation = env.reset()\n",
        "        done = False\n",
        "        score = 0\n",
        "        agent.noise.reset()\n",
        "        while not done:\n",
        "            action = agent.choose_action(observation)\n",
        "            observation_, reward, done, info = env.step(action)\n",
        "            agent.remember(observation, action, reward, observation_, done)\n",
        "            agent.learn()\n",
        "            score += reward\n",
        "            observation = observation_\n",
        "        score_history.append(score)\n",
        "        avg_score = np.mean(score_history[-100:])\n",
        "        if avg_score > best_score:\n",
        "            best_score = avg_score\n",
        "            agent.save_models()\n",
        "        # print('episode:', i, 'score: %.1f', % score, \n",
        "              # 'average: %.1f', % average_score)\n",
        "    X = [i+1 for i in range(n_games)]\n",
        "    plot_learning_curve(x, score_history, figure_file)"
      ],
      "execution_count": null,
      "outputs": []
    },
    {
      "cell_type": "code",
      "metadata": {
        "id": "ABtnF0fHJuJw"
      },
      "source": [
        "pth='/content/main_ddpg.py'\n",
        "with open(pth, 'r') as openFile:\n",
        "    print(openFile.read())"
      ],
      "execution_count": null,
      "outputs": []
    }
  ]
}