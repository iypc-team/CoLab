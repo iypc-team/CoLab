{
  "nbformat": 4,
  "nbformat_minor": 0,
  "metadata": {
    "colab": {
      "name": "Untitled3.ipynb",
      "private_outputs": true,
      "provenance": [],
      "collapsed_sections": [],
      "authorship_tag": "ABX9TyNieE5O1XJyBcQ4wWCR5hMT",
      "include_colab_link": true
    },
    "kernelspec": {
      "name": "python3",
      "display_name": "Python 3"
    },
    "language_info": {
      "name": "python"
    }
  },
  "cells": [
    {
      "cell_type": "markdown",
      "metadata": {
        "id": "view-in-github",
        "colab_type": "text"
      },
      "source": [
        "<a href=\"https://colab.research.google.com/github/iypc-team/CoLab/blob/master/Untitled3.ipynb\" target=\"_parent\"><img src=\"https://colab.research.google.com/assets/colab-badge.svg\" alt=\"Open In Colab\"/></a>"
      ]
    },
    {
      "cell_type": "code",
      "execution_count": null,
      "metadata": {
        "id": "LT8gxZkO7u6N"
      },
      "outputs": [],
      "source": [
        "# %%writefile ColabDriveFiles.py\n",
        "# created: 12/05/2020\n",
        "# updated: 08/14/2022\n",
        "from __future__ import absolute_import, print_function\n",
        "import os, shutil, time\n",
        "from os.path import *\n",
        "from google.colab import drive, files\n",
        "\n",
        "contentPath=os.getcwd()\n",
        "\n",
        "bullshitPath = join(contentPath,'sample_data')\n",
        "if exists(bullshitPath):\n",
        "    shutil.rmtree(bullshitPath)\n",
        "    \n",
        "drive.mount('/content/drive', force_remount=True)\n",
        "os.chdir('/content/drive/MyDrive/PythonFiles')\n",
        "# print(f'cwd: {os.getcwd()}')\n",
        "%ls -l\n",
        "\n",
        "colorPath = '/content/drive/BashColors.py'\n",
        "sourcePath = '/content/drive/MyDrive/BashColors.py'\n",
        "if not exists(colorPath):\n",
        "    shutil.copy2(sourcePath, contentPath)\n",
        "    from BashColors import C\n",
        "else:\n",
        "    print(f'{basename(colorPath)} exists')\n",
        "    from BashColors import C\n",
        "\n",
        "tpuPath = '/content/drive/GetColabTPU.py'\n",
        "sourcePath = '/content/drive/MyDrive/GetColabTPU.py'\n",
        "if not exists(tpuPath):\n",
        "    print(tpuPath)\n",
        "    shutil.copy2(sourcePath, contentPath)\n",
        "\n",
        "os.chdir(contentPath)\n",
        "%ls -l\n",
        "\n",
        "class ColabDriveFiles:\n",
        "    '''List all files in Collab '''\n",
        "    from BashColors import C\n",
        "    def __init__(self):\n",
        "        print(f'{C.BGreen}ColabDriveFiles{C.ColorOff}')\n",
        "        self.cdf=ColabDriveFiles\n",
        "        self.contentPath=os.getcwd()\n",
        "        self.pythonFilesPath='/content/drive/My Drive/PythonFiles'\n",
        "\n",
        "    def __iter__(self):\n",
        "        return self\n",
        "\n",
        "    def __len__(self):\n",
        "        return len(self.name)\n",
        "\n",
        "    def __str__(self):\n",
        "        return \"%s(%r)\" % (self.__class__, self.__dict__)\n",
        "\n",
        "cdf=ColabDriveFiles()"
      ]
    },
    {
      "cell_type": "code",
      "source": [
        ""
      ],
      "metadata": {
        "id": "T7sZMC_eoj1b"
      },
      "execution_count": null,
      "outputs": []
    },
    {
      "cell_type": "code",
      "source": [
        "cdf.__str__()"
      ],
      "metadata": {
        "id": "SKl6vx5pb4SS"
      },
      "execution_count": null,
      "outputs": []
    }
  ]
}