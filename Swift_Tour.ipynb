{
  "nbformat": 4,
  "nbformat_minor": 0,
  "metadata": {
    "colab": {
      "name": "Swift Tour.ipynb",
      "version": "0.3.2",
      "provenance": [],
      "collapsed_sections": [
        "0yaZFHMRdE3d",
        "jUBjQqUhdE3p",
        "6Z9Y-fWGjxsn",
        "g0wCWqNMiOv-"
      ]
    },
    "kernelspec": {
      "display_name": "Swift",
      "language": "swift",
      "name": "swift"
    }
  },
  "cells": [
    {
      "cell_type": "markdown",
      "metadata": {
        "id": "pJNp_GAv9LAh",
        "colab_type": "text"
      },
      "source": [
        "<table class=\"tfo-notebook-buttons\" align=\"left\">\n",
        "  <td>\n",
        "    <a target=\"_blank\" href=\"https://www.tensorflow.org/swift/tutorials/a_swift_tour\"><img src=\"https://www.tensorflow.org/images/tf_logo_32px.png\" />View on TensorFlow.org</a>\n",
        "  </td>\n",
        "  <td>\n",
        "    <a target=\"_blank\" href=\"https://colab.research.google.com/github/tensorflow/swift/blob/master/docs/site/tutorials/a_swift_tour.ipynb\"><img src=\"https://www.tensorflow.org/images/colab_logo_32px.png\" />Run in Google Colab</a>\n",
        "  </td>\n",
        "  <td>\n",
        "    <a target=\"_blank\" href=\"https://github.com/tensorflow/swift/blob/master/docs/site/tutorials/a_swift_tour.ipynb\"><img src=\"https://www.tensorflow.org/images/GitHub-Mark-32px.png\" />View source on GitHub</a>\n",
        "  </td>\n",
        "</table>"
      ]
    },
    {
      "cell_type": "markdown",
      "metadata": {
        "id": "0yaZFHMRdE3d",
        "colab_type": "text"
      },
      "source": [
        "## Enumerations and Structures\n"
      ]
    },
    {
      "cell_type": "code",
      "metadata": {
        "id": "Btg1_6rXdE3e",
        "colab_type": "code",
        "outputId": "d6b41207-e8fd-4ec0-b969-5e1505cf4ab6",
        "colab": {
          "base_uri": "https://localhost:8080/",
          "height": 51
        }
      },
      "source": [
        "enum Rank: Int {\n",
        "    case ace = 1\n",
        "    case two, three, four, five, six, seven, eight, nine, ten\n",
        "    case jack, queen, king\n",
        "\n",
        "    func simpleDescription() -> String {\n",
        "        switch self {\n",
        "        case .ace:\n",
        "            return \"ace\"\n",
        "        case .jack:\n",
        "            return \"jack\"\n",
        "        case .queen:\n",
        "            return \"queen\"\n",
        "        case .king:\n",
        "            return \"king\"\n",
        "        default:\n",
        "            return String(self.rawValue)\n",
        "        }\n",
        "    }\n",
        "}\n",
        "let ace = Rank.ace\n",
        "print(ace)\n",
        "let aceRawValue = ace.rawValue\n",
        "print(aceRawValue)"
      ],
      "execution_count": 0,
      "outputs": [
        {
          "output_type": "stream",
          "text": [
            "ace\r\n",
            "1\r\n"
          ],
          "name": "stdout"
        }
      ]
    },
    {
      "cell_type": "code",
      "metadata": {
        "id": "34Ba8HGwin9n",
        "colab_type": "code",
        "colab": {}
      },
      "source": [
        "// Experiment:\n",
        "// Write a function that compares two `Rank` values by comparing their raw values."
      ],
      "execution_count": 0,
      "outputs": []
    },
    {
      "cell_type": "code",
      "metadata": {
        "id": "7SUCN4Nip-FK",
        "colab_type": "code",
        "colab": {}
      },
      "source": [
        ""
      ],
      "execution_count": 0,
      "outputs": []
    },
    {
      "cell_type": "code",
      "metadata": {
        "id": "BjzxKC67dE3h",
        "colab_type": "code",
        "colab": {}
      },
      "source": [
        "if let convertedRank = Rank(rawValue: 3) {\n",
        "    let threeDescription = convertedRank.simpleDescription()\n",
        "}"
      ],
      "execution_count": 0,
      "outputs": []
    },
    {
      "cell_type": "code",
      "metadata": {
        "id": "i9fKzaQzdE3k",
        "colab_type": "code",
        "colab": {}
      },
      "source": [
        "enum Suit {\n",
        "    case spades, hearts, diamonds, clubs\n",
        "\n",
        "    func simpleDescription() -> String {\n",
        "        switch self {\n",
        "        case .spades:\n",
        "            return \"spades\"\n",
        "        case .hearts:\n",
        "            return \"hearts\"\n",
        "        case .diamonds:\n",
        "            return \"diamonds\"\n",
        "        case .clubs:\n",
        "            return \"clubs\"\n",
        "        }\n",
        "    }\n",
        "}\n",
        "let hearts = Suit.hearts\n",
        "let heartsDescription = hearts.simpleDescription()"
      ],
      "execution_count": 0,
      "outputs": []
    },
    {
      "cell_type": "code",
      "metadata": {
        "id": "H-38gQ27isHk",
        "colab_type": "code",
        "colab": {}
      },
      "source": [
        "// Experiment:\n",
        "// Add a `color()` method to `Suit` that returns \"black\" for spades and clubs, and returns \"red\" for\n",
        "// hearts and diamonds."
      ],
      "execution_count": 0,
      "outputs": []
    },
    {
      "cell_type": "code",
      "metadata": {
        "id": "v7CDdsdydE3o",
        "colab_type": "code",
        "outputId": "0b1589dc-64c6-43a5-ea3e-eb822e5cf0c0",
        "colab": {
          "base_uri": "https://localhost:8080/",
          "height": 34
        }
      },
      "source": [
        "enum ServerResponse {\n",
        "    case result(String, String)\n",
        "    case failure(String)\n",
        "}\n",
        "\n",
        "let success = ServerResponse.result(\"6:00 am\", \"8:09 pm\")\n",
        "let failure = ServerResponse.failure(\"Out of cheese.\")\n",
        "\n",
        "switch success {\n",
        "case let .result(sunrise, sunset):\n",
        "    print(\"Sunrise is at \\(sunrise) and sunset is at \\(sunset).\")\n",
        "case let .failure(message):\n",
        "    print(\"Failure...  \\(message)\")\n",
        "}"
      ],
      "execution_count": 0,
      "outputs": [
        {
          "output_type": "stream",
          "text": [
            "Sunrise is at 6:00 am and sunset is at 8:09 pm.\r\n"
          ],
          "name": "stdout"
        }
      ]
    },
    {
      "cell_type": "code",
      "metadata": {
        "id": "6KxPZi0ii4Jj",
        "colab_type": "code",
        "colab": {}
      },
      "source": [
        "// Experiment:\n",
        "// Add a third case to `ServerResponse` and to the switch."
      ],
      "execution_count": 0,
      "outputs": []
    },
    {
      "cell_type": "code",
      "metadata": {
        "id": "tsTnhpukpTF1",
        "colab_type": "code",
        "colab": {}
      },
      "source": [
        "struct Card {\n",
        "    var rank: Rank\n",
        "    var suit: Suit\n",
        "    func simpleDescription() -> String {\n",
        "        return \"The \\(rank.simpleDescription()) of \\(suit.simpleDescription())\"\n",
        "    }\n",
        "}\n",
        "let threeOfSpades = Card(rank: .three, suit: .spades)\n",
        "let threeOfSpadesDescription = threeOfSpades.simpleDescription()"
      ],
      "execution_count": 0,
      "outputs": []
    },
    {
      "cell_type": "code",
      "metadata": {
        "id": "FM1U4SqwpUp6",
        "colab_type": "code",
        "colab": {}
      },
      "source": [
        "// Experiment:\n",
        "// Write a function that returns an array containing a full deck of cards, with one card of each\n",
        "// combination of rank and suit."
      ],
      "execution_count": 0,
      "outputs": []
    },
    {
      "cell_type": "markdown",
      "metadata": {
        "id": "jUBjQqUhdE3p",
        "colab_type": "text"
      },
      "source": [
        "## Protocols and Extensions\n",
        "\n",
        "Use `protocol` to declare a protocol."
      ]
    },
    {
      "cell_type": "code",
      "metadata": {
        "id": "vVEIH7WhdE3q",
        "colab_type": "code",
        "colab": {}
      },
      "source": [
        "protocol ExampleProtocol {\n",
        "    var simpleDescription: String { get }\n",
        "    mutating func adjust()\n",
        "}"
      ],
      "execution_count": 0,
      "outputs": []
    },
    {
      "cell_type": "markdown",
      "metadata": {
        "id": "GSV2yv6SdE3r",
        "colab_type": "text"
      },
      "source": [
        "Classes, enumerations, and structs can all adopt protocols."
      ]
    },
    {
      "cell_type": "code",
      "metadata": {
        "id": "Lgf8If-0dE3r",
        "colab_type": "code",
        "outputId": "11282413-31fb-4c49-c493-98d73e93a2df",
        "colab": {
          "base_uri": "https://localhost:8080/",
          "height": 34
        }
      },
      "source": [
        "class SimpleClass: ExampleProtocol {\n",
        "    var simpleDescription: String = \"A very simple class.\"\n",
        "    var anotherProperty: Int = 69105\n",
        "    func adjust() {\n",
        "        simpleDescription += \"  Now 100% adjusted.\"\n",
        "    }\n",
        "}\n",
        "var a = SimpleClass()\n",
        "a.adjust()\n",
        "let aDescription = a.simpleDescription\n",
        " \n",
        "struct SimpleStructure: ExampleProtocol {\n",
        "    var simpleDescription: String = \"A simple structure\"\n",
        "    mutating func adjust() {\n",
        "        simpleDescription += \" (adjusted)\"\n",
        "    }\n",
        "}\n",
        "var b = SimpleStructure()\n",
        "b.adjust()\n",
        "b.simpleDescription"
      ],
      "execution_count": 0,
      "outputs": [
        {
          "output_type": "execute_result",
          "data": {
            "text/plain": [
              "\"A simple structure (adjusted)\"\n"
            ]
          },
          "metadata": {
            "tags": []
          },
          "execution_count": 58
        }
      ]
    },
    {
      "cell_type": "code",
      "metadata": {
        "id": "OvDuEwsYi-ZN",
        "colab_type": "code",
        "colab": {}
      },
      "source": [
        "// Experiment:\n",
        "// Add another requirement to `ExampleProtocol`.\n",
        "// What changes do you need to make to `SimpleClass` and `SimpleStructure` so that they still\n",
        "// conform to the protocol?"
      ],
      "execution_count": 0,
      "outputs": []
    },
    {
      "cell_type": "code",
      "metadata": {
        "id": "w5Hde1HwdE3u",
        "colab_type": "code",
        "outputId": "94273e93-905b-42da-e001-fe9799f66fae",
        "colab": {
          "base_uri": "https://localhost:8080/",
          "height": 34
        }
      },
      "source": [
        "extension Int: ExampleProtocol {\n",
        "    public var simpleDescription: String {\n",
        "        return \"The number \\(self)\"\n",
        "    }\n",
        "    public mutating func adjust() {\n",
        "        self += 42\n",
        "    }\n",
        "}\n",
        "7.simpleDescription"
      ],
      "execution_count": 0,
      "outputs": [
        {
          "output_type": "execute_result",
          "data": {
            "text/plain": [
              "\"The number 7\"\n"
            ]
          },
          "metadata": {
            "tags": []
          },
          "execution_count": 60
        }
      ]
    },
    {
      "cell_type": "code",
      "metadata": {
        "id": "fdY5CdWjjCRI",
        "colab_type": "code",
        "colab": {}
      },
      "source": [
        "// Experiment:\n",
        "// Write an extension for the `Double` type that adds an `absoluteValue` property."
      ],
      "execution_count": 0,
      "outputs": []
    },
    {
      "cell_type": "code",
      "metadata": {
        "id": "OghTVgiRnvgA",
        "colab_type": "code",
        "outputId": "b6f05af2-da76-4211-a929-70a8a53987d2",
        "colab": {
          "base_uri": "https://localhost:8080/",
          "height": 34
        }
      },
      "source": [
        "let protocolValue: ExampleProtocol = a\n",
        "protocolValue.simpleDescription"
      ],
      "execution_count": 0,
      "outputs": [
        {
          "output_type": "execute_result",
          "data": {
            "text/plain": [
              "\"A very simple class.  Now 100% adjusted.\"\n"
            ]
          },
          "metadata": {
            "tags": []
          },
          "execution_count": 62
        }
      ]
    },
    {
      "cell_type": "code",
      "metadata": {
        "id": "Xad6Z5Nrn34O",
        "colab_type": "code",
        "colab": {}
      },
      "source": [
        "// Uncomment to see the error.\n",
        "// protocolValue.anotherProperty"
      ],
      "execution_count": 0,
      "outputs": []
    },
    {
      "cell_type": "markdown",
      "metadata": {
        "id": "6Z9Y-fWGjxsn",
        "colab_type": "text"
      },
      "source": [
        "## Error Handling\n",
        "\n",
        "You represent errors using any type that adopts the `Error` protocol."
      ]
    },
    {
      "cell_type": "code",
      "metadata": {
        "id": "PiENY4W2kA2t",
        "colab_type": "code",
        "colab": {}
      },
      "source": [
        "enum PrinterError: Error {\n",
        "    case outOfPaper\n",
        "    case noToner\n",
        "    case onFire\n",
        "}"
      ],
      "execution_count": 0,
      "outputs": []
    },
    {
      "cell_type": "code",
      "metadata": {
        "id": "rY7yWs_nkFbM",
        "colab_type": "code",
        "colab": {}
      },
      "source": [
        "func send(job: Int, toPrinter printerName: String) throws -> String {\n",
        "    if printerName == \"Never Has Toner\" {\n",
        "        throw PrinterError.noToner\n",
        "    }\n",
        "    return \"Job sent\"\n",
        "}"
      ],
      "execution_count": 0,
      "outputs": []
    },
    {
      "cell_type": "code",
      "metadata": {
        "id": "YejV2PLLkIPA",
        "colab_type": "code",
        "outputId": "8dee4ce7-83ae-4a0c-8d5a-09d9bf1f1fb1",
        "colab": {
          "base_uri": "https://localhost:8080/",
          "height": 34
        }
      },
      "source": [
        "do {\n",
        "    let printerResponse = try send(job: 1040, toPrinter: \"Bi Sheng\")\n",
        "    print(printerResponse)\n",
        "} catch {\n",
        "    print(error)\n",
        "}"
      ],
      "execution_count": 0,
      "outputs": [
        {
          "output_type": "stream",
          "text": [
            "Job sent\r\n"
          ],
          "name": "stdout"
        }
      ]
    },
    {
      "cell_type": "code",
      "metadata": {
        "id": "UJBF1XzdkWjL",
        "colab_type": "code",
        "colab": {}
      },
      "source": [
        "// Experiment:\n",
        "// Change the printer name to `\"Never Has Toner\"`, so that the `send(job:toPrinter:)` function\n",
        "// throws an error."
      ],
      "execution_count": 0,
      "outputs": []
    },
    {
      "cell_type": "code",
      "metadata": {
        "id": "eUhzxcUEkjV-",
        "colab_type": "code",
        "outputId": "5ca5bd3b-ca0d-4a4c-a1aa-7748a3f894cb",
        "colab": {
          "base_uri": "https://localhost:8080/",
          "height": 34
        }
      },
      "source": [
        "do {\n",
        "    let printerResponse = try send(job: 1440, toPrinter: \"Gutenberg\")\n",
        "    print(printerResponse)\n",
        "} catch PrinterError.onFire {\n",
        "    print(\"I'll just put this over here, with the rest of the fire.\")\n",
        "} catch let printerError as PrinterError {\n",
        "    print(\"Printer error: \\(printerError).\")\n",
        "} catch {\n",
        "    print(error)\n",
        "}"
      ],
      "execution_count": 0,
      "outputs": [
        {
          "output_type": "stream",
          "text": [
            "Job sent\r\n"
          ],
          "name": "stdout"
        }
      ]
    },
    {
      "cell_type": "code",
      "metadata": {
        "id": "-qpkCM8NnXie",
        "colab_type": "code",
        "colab": {}
      },
      "source": [
        "// Experiment:\n",
        "// Add code to throw an error inside the `do` block.\n",
        "// What kind of error do you need to throw so that the error is handled by the first `catch` block?\n",
        "// What about the second and third blocks?"
      ],
      "execution_count": 0,
      "outputs": []
    },
    {
      "cell_type": "code",
      "metadata": {
        "id": "2ifK6Lyom-9Q",
        "colab_type": "code",
        "colab": {}
      },
      "source": [
        "let printerSuccess = try? send(job: 1884, toPrinter: \"Mergenthaler\")\n",
        "let printerFailure = try? send(job: 1885, toPrinter: \"Never Has Toner\")"
      ],
      "execution_count": 0,
      "outputs": []
    },
    {
      "cell_type": "code",
      "metadata": {
        "id": "tMdhw71anJbP",
        "colab_type": "code",
        "outputId": "c4cf15bf-b819-48a5-8cf5-01fe9599a762",
        "colab": {
          "base_uri": "https://localhost:8080/",
          "height": 34
        }
      },
      "source": [
        "var fridgeIsOpen = false\n",
        "let fridgeContent = [\"milk\", \"eggs\", \"leftovers\"]\n",
        "\n",
        "func fridgeContains(_ food: String) -> Bool {\n",
        "    fridgeIsOpen = true\n",
        "    defer {\n",
        "        fridgeIsOpen = false\n",
        "    }\n",
        "\n",
        "    let result = fridgeContent.contains(food)\n",
        "    return result\n",
        "}\n",
        "fridgeContains(\"banana\")\n",
        "fridgeIsOpen"
      ],
      "execution_count": 0,
      "outputs": [
        {
          "output_type": "execute_result",
          "data": {
            "text/plain": [
              "false\n"
            ]
          },
          "metadata": {
            "tags": []
          },
          "execution_count": 71
        }
      ]
    },
    {
      "cell_type": "markdown",
      "metadata": {
        "id": "g0wCWqNMiOv-",
        "colab_type": "text"
      },
      "source": [
        "## Generics\n",
        "\n",
        "Write a name inside angle brackets to make a generic function or type."
      ]
    },
    {
      "cell_type": "code",
      "metadata": {
        "id": "sMyq1uQsdE3y",
        "colab_type": "code",
        "outputId": "1c328bc0-d437-4717-da44-6831206040b8",
        "colab": {
          "base_uri": "https://localhost:8080/",
          "height": 102
        }
      },
      "source": [
        "func makeArray<Item>(repeating item: Item, numberOfTimes: Int) -> [Item] {\n",
        "    var result = [Item]()\n",
        "    for _ in 0..<numberOfTimes {\n",
        "        result.append(item)\n",
        "    }\n",
        "    return result\n",
        "}\n",
        "makeArray(repeating: \"knock\", numberOfTimes: 4)"
      ],
      "execution_count": 0,
      "outputs": [
        {
          "output_type": "execute_result",
          "data": {
            "text/plain": [
              "▿ 4 elements\n",
              "  - 0 : \"knock\"\n",
              "  - 1 : \"knock\"\n",
              "  - 2 : \"knock\"\n",
              "  - 3 : \"knock\"\n"
            ]
          },
          "metadata": {
            "tags": []
          },
          "execution_count": 72
        }
      ]
    },
    {
      "cell_type": "markdown",
      "metadata": {
        "id": "If8pw1_7dE3z",
        "colab_type": "text"
      },
      "source": [
        "You can make generic forms of functions and methods, as well as classes, enumerations, and structures."
      ]
    },
    {
      "cell_type": "code",
      "metadata": {
        "id": "PrhmI6iNdE30",
        "colab_type": "code",
        "outputId": "a221fca0-3a7b-4201-dc80-5b793a0261af",
        "colab": {
          "base_uri": "https://localhost:8080/",
          "height": 34
        }
      },
      "source": [
        "// Reimplement the Swift standard library's optional type\n",
        "enum OptionalValue<Wrapped> {\n",
        "    case none\n",
        "    case some(Wrapped)\n",
        "}\n",
        "var possibleInteger: OptionalValue<Int> = .none\n",
        "possibleInteger = .some(100)\n",
        "print(possibleInteger)"
      ],
      "execution_count": 0,
      "outputs": [
        {
          "output_type": "stream",
          "text": [
            "some(100)\r\n"
          ],
          "name": "stdout"
        }
      ]
    },
    {
      "cell_type": "markdown",
      "metadata": {
        "id": "NXhFj_GCdE31",
        "colab_type": "text"
      },
      "source": [
        "Use `where` after the type name to specify a list of requirements — for example, to require the type to implement a protocol, to require two types to be the same, or to require a class to have a particular superclass."
      ]
    },
    {
      "cell_type": "code",
      "metadata": {
        "id": "EkXn4tmhdE32",
        "colab_type": "code",
        "outputId": "45f50fc3-9683-4c54-e8fd-f677bb6b5565",
        "colab": {
          "base_uri": "https://localhost:8080/",
          "height": 34
        }
      },
      "source": [
        "func anyCommonElements<T: Sequence, U: Sequence>(_ lhs: T, _ rhs: U) -> Bool\n",
        "    where T.Element: Equatable, T.Element == U.Element\n",
        "{\n",
        "    for lhsItem in lhs {\n",
        "        for rhsItem in rhs {\n",
        "            if lhsItem == rhsItem {\n",
        "                return true\n",
        "            }\n",
        "        }\n",
        "    }\n",
        "    return false\n",
        "}\n",
        "anyCommonElements([1, 2, 3], [3])"
      ],
      "execution_count": 0,
      "outputs": [
        {
          "output_type": "execute_result",
          "data": {
            "text/plain": [
              "true\n"
            ]
          },
          "metadata": {
            "tags": []
          },
          "execution_count": 74
        }
      ]
    },
    {
      "cell_type": "markdown",
      "metadata": {
        "id": "6cZJ4EiYq33D",
        "colab_type": "text"
      },
      "source": [
        "Writing `<T: Equatable>` is the same as writing `<T> ... where T: Equatable`."
      ]
    }
  ]
}