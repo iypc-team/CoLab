{
  "nbformat": 4,
  "nbformat_minor": 0,
  "metadata": {
    "colab": {
      "name": "01 Scrape.ipynb",
      "version": "0.3.2",
      "provenance": [],
      "private_outputs": true,
      "collapsed_sections": [],
      "include_colab_link": true
    },
    "kernelspec": {
      "name": "python3",
      "display_name": "Python 3"
    }
  },
  "cells": [
    {
      "cell_type": "markdown",
      "metadata": {
        "id": "view-in-github",
        "colab_type": "text"
      },
      "source": [
        "<a href=\"https://colab.research.google.com/github/iypc-team/CoLab/blob/master/01_Scrape.ipynb\" target=\"_parent\"><img src=\"https://colab.research.google.com/assets/colab-badge.svg\" alt=\"Open In Colab\"/></a>"
      ]
    },
    {
      "cell_type": "code",
      "metadata": {
        "id": "ek_52FUZJTSJ",
        "colab_type": "code",
        "colab": {}
      },
      "source": [
        "%pip install requests-html\n",
        "%pip install beautifulsoup4\n",
        "from IPython.display import clear_output\n",
        "clear_output()\n",
        "print('\\n', \"All installs complete\")"
      ],
      "execution_count": 0,
      "outputs": []
    },
    {
      "cell_type": "code",
      "metadata": {
        "colab_type": "code",
        "id": "-rwgWSHZUbox",
        "colab": {}
      },
      "source": [
        "from __future__ import  absolute_import, division, print_function, unicode_literals \n",
        "from requests_html import HTMLSession\n",
        "from requests_html import HTML\n",
        "\n",
        "session = HTMLSession()\n",
        "req = session.get('https://github.com/iypc-team/CoLab/')\n",
        "# req = session.get('https://iypc.biz')\n",
        "print(\"req:\", req)\n",
        "linksDict = req.links# \n",
        "print('\\n', linksDict)\n",
        "\n",
        "text = req.text\n",
        "print('\\n', \"req.text:\", text)\n",
        "clear_output()\n",
        "\n",
        "print('\\n', \"content:\", req.content.__class__)"
      ],
      "execution_count": 0,
      "outputs": []
    },
    {
      "cell_type": "code",
      "metadata": {
        "id": "G7aMyjnpNUg_",
        "colab_type": "code",
        "colab": {}
      },
      "source": [
        "import bs4\n",
        "from bs4 import BeautifulSoup\n",
        "dir(BeautifulSoup)\n",
        "clear_output()"
      ],
      "execution_count": 0,
      "outputs": []
    },
    {
      "cell_type": "code",
      "metadata": {
        "id": "fl5u6BT_T3gv",
        "colab_type": "code",
        "colab": {}
      },
      "source": [
        "# Good soup\n",
        "soup = BeautifulSoup(req.text, 'html.parser')\n",
        "soup\n",
        "print(\"soup:\", soup)\n",
        "clear_output()\n"
      ],
      "execution_count": 0,
      "outputs": []
    }
  ]
}