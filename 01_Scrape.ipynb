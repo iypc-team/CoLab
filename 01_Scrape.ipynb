{
  "nbformat": 4,
  "nbformat_minor": 0,
  "metadata": {
    "colab": {
      "name": "01 Scrape.ipynb",
      "version": "0.3.2",
      "provenance": [],
      "private_outputs": true,
      "collapsed_sections": [],
      "include_colab_link": true
    },
    "kernelspec": {
      "name": "python3",
      "display_name": "Python 3"
    }
  },
  "cells": [
    {
      "cell_type": "markdown",
      "metadata": {
        "id": "view-in-github",
        "colab_type": "text"
      },
      "source": [
        "<a href=\"https://colab.research.google.com/github/iypc-team/CoLab/blob/master/01_Scrape.ipynb\" target=\"_parent\"><img src=\"https://colab.research.google.com/assets/colab-badge.svg\" alt=\"Open In Colab\"/></a>"
      ]
    },
    {
      "cell_type": "code",
      "metadata": {
        "id": "ek_52FUZJTSJ",
        "colab_type": "code",
        "colab": {}
      },
      "source": [
        "# %pip install requests-html\n",
        "from IPython.display import clear_output\n",
        "clear_output()\n",
        "print('\\n', \"All installs complete\")"
      ],
      "execution_count": 0,
      "outputs": []
    },
    {
      "cell_type": "code",
      "metadata": {
        "colab_type": "code",
        "id": "-rwgWSHZUbox",
        "colab": {}
      },
      "source": [
        "from __future__ import  absolute_import, division, print_function, unicode_literals \n",
        "from requests_html import *\n",
        "\n",
        "session = HTMLSession()\n",
        "req = session.get('https://colab.research.google.com')\n",
        "req\n",
        "req = session.get('https://iypc.biz')\n",
        "\n",
        "\n",
        "# with open('req.text', mode='r') as htmlFile:\n",
        "  # source = htmlFile\n",
        "\n"
      ],
      "execution_count": 0,
      "outputs": []
    }
  ]
}