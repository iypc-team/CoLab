{
  "nbformat": 4,
  "nbformat_minor": 0,
  "metadata": {
    "accelerator": "TPU",
    "colab": {
      "name": "Pip_Install_Modules.ipynb",
      "provenance": [],
      "collapsed_sections": [],
      "include_colab_link": true
    },
    "kernelspec": {
      "display_name": "Python 3",
      "name": "python3"
    }
  },
  "cells": [
    {
      "cell_type": "markdown",
      "metadata": {
        "id": "view-in-github",
        "colab_type": "text"
      },
      "source": [
        "<a href=\"https://colab.research.google.com/github/iypc-team/CoLab/blob/master/Pip_Install_Modules.ipynb\" target=\"_parent\"><img src=\"https://colab.research.google.com/assets/colab-badge.svg\" alt=\"Open In Colab\"/></a>"
      ]
    },
    {
      "cell_type": "code",
      "metadata": {
        "id": "Meb32OGvGGgP",
        "colab_type": "code",
        "colab": {}
      },
      "source": [
        "import importlib, os, pathlib\n",
        "from google.colab import drive\n",
        "drive.mount('/content/gdrive/', force_remount=True)\n",
        "os.chdir('/content/gdrive/My Drive')"
      ],
      "execution_count": null,
      "outputs": []
    },
    {
      "cell_type": "code",
      "metadata": {
        "id": "7EBaPux_gMIV",
        "colab_type": "code",
        "colab": {}
      },
      "source": [
        "# 09/20/2020\n",
        "print(f'{C.Blue}{pathlib.Path.cwd()}')\n",
        "from BashColors import C\n",
        "from FileUtilities import *\n",
        "\n",
        "class InstallModules:\n",
        "    def __init__(self):\n",
        "        self.moduleName = ''\n",
        "\n",
        "    def checkForModule(self, name):\n",
        "        self.moduleName = name\n",
        "        try:\n",
        "            print(f'{C.Purple}{self.moduleName}')\n",
        "            importlib.find_loader(self.moduleName)\n",
        "            importlib.import_module(self.moduleName)\n",
        "        except ModuleNotFoundError as err:\n",
        "            %pip install {self.moduleName}\n",
        "        \n",
        "\n",
        "im = InstallModules()\n",
        "im.checkForModule(name=\"FileUtilities\")"
      ],
      "execution_count": null,
      "outputs": []
    },
    {
      "cell_type": "code",
      "metadata": {
        "id": "Cw0WRaChRxTL",
        "colab_type": "code",
        "colab": {}
      },
      "source": [
        "import glob2\n",
        "from os.path import *\n",
        "os.chdir('/content/gdrive')\n",
        "allFiles=glob2.glob('**', recursive=True)\n",
        "#allFiles = glob2.glob('*',include_hidden=True, )\n",
        "for fil in sorted(allFiles):\n",
        "    real_path = realpath(fil)\n",
        "    if isdir(real_path):\n",
        "        fu.setSystemPaths(addNewPath=real_path)\n",
        "        print(f'\\n{C.Blue}{real_path}')\n",
        "    elif isfile(real_path):\n",
        "        print(f'{C.White}{basename(real_path)}') \n",
        "        \n"
      ],
      "execution_count": null,
      "outputs": []
    },
    {
      "cell_type": "code",
      "metadata": {
        "id": "ewydCu06hK7v",
        "colab_type": "code",
        "colab": {}
      },
      "source": [
        "glob2.glob()"
      ],
      "execution_count": null,
      "outputs": []
    }
  ]
}