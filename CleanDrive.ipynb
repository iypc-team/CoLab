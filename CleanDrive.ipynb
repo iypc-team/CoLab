{
  "nbformat": 4,
  "nbformat_minor": 0,
  "metadata": {
    "colab": {
      "name": "CleanDrive.ipynb",
      "private_outputs": true,
      "provenance": [],
      "collapsed_sections": [],
      "authorship_tag": "ABX9TyO6qsRA4fR9h7NjkhiApbuZ",
      "include_colab_link": true
    },
    "kernelspec": {
      "name": "python3",
      "display_name": "Python 3"
    }
  },
  "cells": [
    {
      "cell_type": "markdown",
      "metadata": {
        "id": "view-in-github",
        "colab_type": "text"
      },
      "source": [
        "<a href=\"https://colab.research.google.com/github/iypc-team/CoLab/blob/master/CleanDrive.ipynb\" target=\"_parent\"><img src=\"https://colab.research.google.com/assets/colab-badge.svg\" alt=\"Open In Colab\"/></a>"
      ]
    },
    {
      "cell_type": "code",
      "metadata": {
        "id": "k3fFEFGyiztV"
      },
      "source": [
        "import os, shutil\n",
        "from os.path import *\n",
        "from google.colab import drive\n",
        "drive.mount('/content/drive', force_remount=True)\n",
        "contentPth = os.getcwd()\n",
        "print(contentPth)\n",
        "print(f'cwd: {os.getcwd()}')\n",
        "\n",
        "pythonFilesPth = '/content/drive/My Drive/PythonFiles'\n",
        "os.chdir(pythonFilesPth)\n",
        "%ls -l"
      ],
      "execution_count": null,
      "outputs": []
    },
    {
      "cell_type": "code",
      "metadata": {
        "id": "4CflsL0N4to-"
      },
      "source": [
        "%%writefile CleanDrive.py\r\n",
        "# 12/29/2020\r\n",
        "from __future__ import absolute_import\r\n",
        "import os, shutil\r\n",
        "from os.path import *\r\n",
        "from google.colab import drive, files\r\n",
        "\r\n",
        "class CleanDrive:\r\n",
        "    \"\"\"class CleanDrive removes '/content/sample_data' directory\"\"\"\r\n",
        "    global cd\r\n",
        "    def __init__(self):\r\n",
        "        self.cd=None\r\n",
        "        self.contentPth = '/content'\r\n",
        "        self.removePth = '/content/sample_data'\r\n",
        "\r\n",
        "    def showDrive(self):\r\n",
        "        \"\"\"showDrive method\"\"\"\r\n",
        "        files.view(self.contentPth)\r\n",
        "\r\n",
        "    def cleanDrive(self):\r\n",
        "        \"\"\"cleanDrive method\"\"\"\r\n",
        "        if exists(self.removePth):\r\n",
        "            shutil.rmtree(self.removePth)\r\n",
        "        else: self.showDrive()\r\n",
        "\r\n",
        "cd = CleanDrive()\r\n",
        "cd.cleanDrive()"
      ],
      "execution_count": null,
      "outputs": []
    },
    {
      "cell_type": "code",
      "metadata": {
        "id": "JoQ1D2C_rXfw"
      },
      "source": [
        "from CleanDrive import *\r\n",
        "cd.cleanDrive()"
      ],
      "execution_count": null,
      "outputs": []
    }
  ]
}