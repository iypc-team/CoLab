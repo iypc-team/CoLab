{
  "nbformat": 4,
  "nbformat_minor": 0,
  "metadata": {
    "colab": {
      "name": "TZInfo.ipynb",
      "provenance": [],
      "collapsed_sections": [],
      "include_colab_link": true
    },
    "kernelspec": {
      "display_name": "Python 3",
      "language": "python",
      "name": "python3"
    },
    "language_info": {
      "codemirror_mode": {
        "name": "ipython",
        "version": 3
      },
      "file_extension": ".py",
      "mimetype": "text/x-python",
      "name": "python",
      "nbconvert_exporter": "python",
      "pygments_lexer": "ipython3",
      "version": "3.7.8"
    }
  },
  "cells": [
    {
      "cell_type": "markdown",
      "metadata": {
        "id": "view-in-github",
        "colab_type": "text"
      },
      "source": [
        "<a href=\"https://colab.research.google.com/github/iypc-team/CoLab/blob/master/TZInfo.ipynb\" target=\"_parent\"><img src=\"https://colab.research.google.com/assets/colab-badge.svg\" alt=\"Open In Colab\"/></a>"
      ]
    },
    {
      "cell_type": "code",
      "metadata": {
        "id": "5PdRseKI2VD0",
        "colab_type": "code",
        "colab": {}
      },
      "source": [
        "from __future__ import absolute_import\n",
        "import google.colab\n",
        "import os, pathlib\n",
        "from google.colab import drive, files\n",
        "drive.mount('/gdrive', force_remount=True)\n",
        "workingPath = os.path.join('/gdrive/My Drive')\n",
        "os.chdir(workingPath)\n",
        "print(pathlib.Path.cwd())"
      ],
      "execution_count": null,
      "outputs": []
    },
    {
      "cell_type": "code",
      "metadata": {
        "colab_type": "code",
        "id": "4CigUQT747L6",
        "colab": {}
      },
      "source": [
        "%%writefile TZInfo.py\n",
        "# 09/05/2020\n",
        "\n",
        "import os\n",
        "import datetime, dateutil\n",
        "from datetime import *\n",
        "from dateutil import *\n",
        "from dateutil.tz import *\n",
        "from time import ctime\n",
        "import BashColors\n",
        "from BashColors import *\n",
        "\n",
        "global tzi\n",
        "\n",
        "class TZI():\n",
        "    import os\n",
        "    from BashColors import C\n",
        "    __all__ = sorted(['workingDir', 'tzi','alutianTZone' ,'getCurrentTimeIn', \n",
        "                      'getFileStats', 'alaskanTZone', 'hawaiianTZone'\n",
        "                      'gmtTZone','easternTZone', 'centralTZone', \n",
        "                      'mountainTZone', 'pacificTZone'])\n",
        "\n",
        "    def __init__(self):\n",
        "        self.tzi = None\n",
        "        self.workingDir = None\n",
        "        self.gmtTZone = dateutil.tz.gettz('Etc/Gmt')\n",
        "        self.easternTZone = dateutil.tz.gettz('America/New York')\n",
        "        self.centralTZone = dateutil.tz.gettz('America/Chicago')\n",
        "        self.mountainTZone = dateutil.tz.gettz('America/Denver')\n",
        "        self.pacificTZone = dateutil.tz.gettz('America/Los_Angeles')\n",
        "        self.alaskanTZone = dateutil.tz.gettz('America/Anchorage')\n",
        "        self. alutianTZone = dateutil.tz.gettz('America/Adak')\n",
        "        self.hawaiianTZone = dateutil.tz.gettz('Pacific/Honolulu')\n",
        "        \n",
        "    def getWorkingDirectory(self):\n",
        "        workingDirPath = '/gdrive/My Drive'\n",
        "        return workingDirPath\n",
        "\n",
        "    def getCurrentTimeIn(self, newTZone, silent=True):\n",
        "        '''returns tuple (rawDatetimeString,today, formatToday)\\n\n",
        "        rawDatetimeString = datetime.now()'''\n",
        "        dateutil.tz.gettz.cache_clear()\n",
        "        rawDatetimeString = datetime.now()\n",
        "        today = datetime.now(tz=newTZone)\n",
        "        formatToday = today.strftime('%h/%d/%Y   %-I:%M%p')\n",
        "        if not silent:\n",
        "            print(f'{C.White}rawDatetimeString: {rawDatetimeString}')\n",
        "            print(f'{C.White}{today}\\n{C.Green}{formatToday}')\n",
        "            return (rawDatetimeString, today, formatToday)\n",
        "        return (rawDatetimeString, today, formatToday)\n",
        "        \n",
        "    def getFileStats(self, newPath):\n",
        "        mTime = os.path.getmtime(filename=newPath)\n",
        "\n",
        "        modTime = datetime.fromtimestamp(mTime)\n",
        "        formatDate = str(modTime.strftime('%h/%d/%Y   %-I:%M%p'))\n",
        "        size = str(os.path.getsize(newPath))\n",
        "        formatStats = formatDate + '    size: ' + size + ' bytes'\n",
        "        return formatStats\n",
        "\n",
        "tzi = TZI()\n",
        "print(f'TZI() Ok')"
      ],
      "execution_count": null,
      "outputs": []
    },
    {
      "cell_type": "code",
      "metadata": {
        "id": "tMTSlQ09kxxU",
        "colab_type": "code",
        "colab": {}
      },
      "source": [
        "from __future__ import absolute_import, print_function, unicode_literals\n",
        "import TZInfo as tzi\n",
        "from TZInfo import *\n",
        "\n",
        "gmt = tzi.getCurrentTimeIn(tzi.gmtTZone)\n",
        "localTime = tzi.getCurrentTimeIn(tzi.centralTZone)\n",
        "print(f'{C.BBlack}GMT: {C.White}{gmt[2]}')\n",
        "print(f'{C.BBlack}local time: {C.White}{localTime[2]}')"
      ],
      "execution_count": null,
      "outputs": []
    },
    {
      "cell_type": "code",
      "metadata": {
        "id": "M0il5bLm8GCR",
        "colab_type": "code",
        "colab": {}
      },
      "source": [
        "import os\n",
        "from os.path import *\n",
        "pth = join(tzi.getWorkingDirectory(), 'TZInfo.py')\n",
        "if exists(pth):\n",
        "    print('pth: ',pth)\n",
        "print(tzi.getFileStats(newPath=pth))\n",
        "print(tzi.getFileStats(pth))"
      ],
      "execution_count": null,
      "outputs": []
    }
  ]
}