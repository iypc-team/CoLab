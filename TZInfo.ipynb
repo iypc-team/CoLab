{
  "nbformat": 4,
  "nbformat_minor": 0,
  "metadata": {
    "kernelspec": {
      "display_name": "Python 3",
      "language": "python",
      "name": "python3"
    },
    "language_info": {
      "codemirror_mode": {
        "name": "ipython",
        "version": 3
      },
      "file_extension": ".py",
      "mimetype": "text/x-python",
      "name": "python",
      "nbconvert_exporter": "python",
      "pygments_lexer": "ipython3",
      "version": "3.7.8"
    },
    "colab": {
      "name": "TZInfo.ipynb",
      "provenance": [],
      "collapsed_sections": [],
      "include_colab_link": true
    }
  },
  "cells": [
    {
      "cell_type": "markdown",
      "metadata": {
        "id": "view-in-github",
        "colab_type": "text"
      },
      "source": [
        "<a href=\"https://colab.research.google.com/github/iypc-team/CoLab/blob/master/TZInfo.ipynb\" target=\"_parent\"><img src=\"https://colab.research.google.com/assets/colab-badge.svg\" alt=\"Open In Colab\"/></a>"
      ]
    },
    {
      "cell_type": "code",
      "metadata": {
        "id": "OTPNhKMjnM9l",
        "colab_type": "code",
        "colab": {}
      },
      "source": [
        "from __future__ import absolute_import\n",
        "from google.colab import drive, files\n",
        "import glob, os, pathlib\n",
        "from pathlib import Path\n",
        "\n",
        "drive.mount(\"/content/gdrive/\", force_remount=True, timeout_ms=600000)\n",
        "\n",
        "allFiles = glob.glob('**', recursive=True)\n",
        "workingPath = \"/content/gdrive/My Drive\"\n",
        "%cd {workingPath}\n",
        "\n",
        "try:\n",
        "    import FileUtilities as fu\n",
        "    from FileUtilities import *\n",
        "    from BashColors import C\n",
        "except:\n",
        "    print('wtf')\n",
        "    pass"
      ],
      "execution_count": null,
      "outputs": []
    },
    {
      "cell_type": "code",
      "metadata": {
        "id": "4CigUQT747L6",
        "colab_type": "code",
        "colab": {}
      },
      "source": [
        "# %%writefile TZInfo.py\n",
        "# 08/27/2020-3\n",
        "\n",
        "import datetime, dateutil\n",
        "from datetime import *\n",
        "from dateutil import *\n",
        "from dateutil.tz import *\n",
        "from time import ctime\n",
        "\n",
        "global tzi\n",
        "\n",
        "class TZI(object):\n",
        "    __all__ = sorted(['tzi', '[getCurrentTimeIn', 'getFileStats', 'gmtTZone',\n",
        "                      'easternTZone', 'centralTZone', 'mountainTZone',\n",
        "                      'pacificTZone'])\n",
        "\n",
        "    def __init__(self):\n",
        "        self.gmtTZone = dateutil.tz.gettz('Etc/Gmt')\n",
        "        self.easternTZone = dateutil.tz.gettz('America/New York')\n",
        "        self.centralTZone = dateutil.tz.gettz('America/Chicago')\n",
        "        self.mountainTZone = dateutil.tz.gettz('America/Denver')\n",
        "        self.pacificTZone = dateutil.tz.gettz('America/Los_Angeles')\n",
        "        self.alaskanTZone = dateutil.tz.gettz('America/Anchorage')\n",
        "        self. alutianTZone = dateutil.tz.gettz('America/Adak')\n",
        "        self.hawaiianTZone = dateutil.tz.gettz('Pacific/Honolulu')\n",
        "        \n",
        "    def getCurrentTimeIn(self, newTZone, silent=True):\n",
        "        dateutil.tz.gettz.cache_clear()\n",
        "        today = datetime.now(tz=newTZone)\n",
        "        formatToday = today.strftime('%h/%d/%Y   %-I:%M%p')\n",
        "        if not silent:\n",
        "            print(f'{C.BIWhite}{today}\\n{C.BIGreen}{formatToday}')\n",
        "            \n",
        "    def getFileStats(self, filePath):\n",
        "        mTime = os.path.getmtime(filename=filePath)\n",
        "        modTime = datetime.fromtimestamp(mTime)\n",
        "\n",
        "        formatDate = str(modTime.strftime('%h/%d/%Y   %-I:%M%p'))\n",
        "\n",
        "        size = str(os.path.getsize(filePath))\n",
        "        formatStats = formatDate + '\\t' + size + 'bytes'\n",
        "        return formatStats\n",
        "tzi = TZI()"
      ],
      "execution_count": null,
      "outputs": []
    },
    {
      "cell_type": "code",
      "metadata": {
        "id": "djDbo2K2TYVt",
        "colab_type": "code",
        "colab": {}
      },
      "source": [
        "%cd \"/content/gdrive/My Drive\""
      ],
      "execution_count": null,
      "outputs": []
    },
    {
      "cell_type": "code",
      "metadata": {
        "id": "tfeI-hqkDVIO",
        "colab_type": "code",
        "colab": {}
      },
      "source": [
        "fu.listFiles(silent=True)\n",
        "for choice in range(1, len(fu.allFilesDict)):\n",
        "    pth = fu.allFilesDict[choice]\n",
        "    formatString = tzi.getFileStats(filePath=pth)\n",
        "    print(f'{C.BIWhite}{formatString}\\n')"
      ],
      "execution_count": null,
      "outputs": []
    },
    {
      "cell_type": "code",
      "metadata": {
        "id": "EHmWtEKr1Sju",
        "colab_type": "code",
        "colab": {}
      },
      "source": [
        "fu.listFiles()"
      ],
      "execution_count": null,
      "outputs": []
    }
  ]
}