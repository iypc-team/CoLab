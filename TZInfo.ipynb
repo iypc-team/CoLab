{
  "nbformat": 4,
  "nbformat_minor": 0,
  "metadata": {
    "kernelspec": {
      "display_name": "Python 3",
      "language": "python",
      "name": "python3"
    },
    "language_info": {
      "codemirror_mode": {
        "name": "ipython",
        "version": 3
      },
      "file_extension": ".py",
      "mimetype": "text/x-python",
      "name": "python",
      "nbconvert_exporter": "python",
      "pygments_lexer": "ipython3",
      "version": "3.7.8"
    },
    "colab": {
      "name": "TZInfo.ipynb",
      "provenance": [],
      "collapsed_sections": [],
      "include_colab_link": true
    }
  },
  "cells": [
    {
      "cell_type": "markdown",
      "metadata": {
        "id": "view-in-github",
        "colab_type": "text"
      },
      "source": [
        "<a href=\"https://colab.research.google.com/github/iypc-team/CoLab/blob/master/TZInfo.ipynb\" target=\"_parent\"><img src=\"https://colab.research.google.com/assets/colab-badge.svg\" alt=\"Open In Colab\"/></a>"
      ]
    },
    {
      "cell_type": "code",
      "metadata": {
        "id": "OTPNhKMjnM9l",
        "colab_type": "code",
        "colab": {
          "base_uri": "https://localhost:8080/",
          "height": 71
        },
        "outputId": "7f8021ee-6741-4c03-eaf5-731df75ae114"
      },
      "source": [
        "from __future__ import absolute_import\n",
        "from google.colab import drive, files\n",
        "import glob, os, pathlib\n",
        "from pathlib import Path\n",
        "# from datetime import *\n",
        "# from pathlib import Path\n",
        "\n",
        "drive.mount(\"/content/gdrive/\", force_remount=True, timeout_ms=600000)\n",
        "\n",
        "allFiles = glob.glob('**', recursive=True)\n",
        "workingPath = \"/content/gdrive/My Drive\"\n",
        "%cd {workingPath}\n",
        "\n",
        "try:\n",
        "    from BashColors import C\n",
        "except:\n",
        "    pass"
      ],
      "execution_count": 1,
      "outputs": [
        {
          "output_type": "stream",
          "text": [
            "Mounted at /content/gdrive/\n",
            "/content/gdrive/My Drive\n",
            "\u001b[1;92mok\n"
          ],
          "name": "stdout"
        }
      ]
    },
    {
      "cell_type": "code",
      "metadata": {
        "id": "4CigUQT747L6",
        "colab_type": "code",
        "colab": {
          "base_uri": "https://localhost:8080/",
          "height": 35
        },
        "outputId": "a4ccf759-04b5-42ad-8375-c1ead17278c0"
      },
      "source": [
        "# %%writefile TZInfo.py\n",
        "# 08/25/2020-1\n",
        "\n",
        "import datetime, dateutil\n",
        "from datetime import *\n",
        "from dateutil import *\n",
        "from dateutil.tz import *\n",
        "\n",
        "class TZI():\n",
        "    def __init__(self):\n",
        "        self.easternTZone = dateutil.tz.gettz('America/NewYork')\n",
        "        self.centralTZone = dateutil.tz.gettz('America/Chicago')\n",
        "        self.mountainTZone = dateutil.tz.gettz('America/Denver')\n",
        "        self.pacificTZone = dateutil.tz.gettz('America/Los Angeles')\n",
        "        self.alaskanTZone = dateutil.tz.gettz('America/Sitka')\n",
        "        self.hawaiianTZone = dateutil.tz.gettz('America/Honolulu')\n",
        "        \n",
        "    def getCurrentTimeIn(self, newTZone, silent=True):\n",
        "        today = datetime.now(tz=newTZone)\n",
        "        formatToday = today.strftime('%m/%d/%Y\\t%X%p')\n",
        "        if not silent:\n",
        "            print(f'{today}\\n{C.BIGreen}{formatToday}')\n",
        "            \n",
        "print(f'{C.BIGreen}Go')"
      ],
      "execution_count": 8,
      "outputs": [
        {
          "output_type": "stream",
          "text": [
            "\u001b[1;92mGo\n"
          ],
          "name": "stdout"
        }
      ]
    },
    {
      "cell_type": "code",
      "metadata": {
        "id": "WvKjfuIV9RsC",
        "colab_type": "code",
        "colab": {
          "base_uri": "https://localhost:8080/",
          "height": 53
        },
        "outputId": "63c213d5-5f3c-46a2-9671-34bb4af7e451"
      },
      "source": [
        "tzi = TZI()\n",
        "zone = tzi.alaskanTZone\n",
        "tzi.getCurrentTimeIn(newTZone=zone, silent=False)\n"
      ],
      "execution_count": 10,
      "outputs": [
        {
          "output_type": "stream",
          "text": [
            "2020-08-25 10:30:51.650751-08:00\n",
            "\u001b[1;92m08/25/2020\t10:30:51AM\n"
          ],
          "name": "stdout"
        }
      ]
    },
    {
      "cell_type": "code",
      "metadata": {
        "id": "HSwvjFxiQdoD",
        "colab_type": "code",
        "colab": {
          "base_uri": "https://localhost:8080/",
          "height": 53
        },
        "outputId": "7eb3372c-4678-4b99-e52e-62b13b2cdb0f"
      },
      "source": [
        "pth = \"/content/gdrive/My Drive/TZInfo.py\"\n",
        "if os.path.exists(pth):\n",
        "    print(os.path.basename(pth))\n",
        "    print(f'{C.IGreen}{pth}{C.IWhite}')\n",
        "    "
      ],
      "execution_count": 4,
      "outputs": [
        {
          "output_type": "stream",
          "text": [
            "TZInfo.py\n",
            "\u001b[0;92m/content/gdrive/My Drive/TZInfo.py\u001b[0;97m\n"
          ],
          "name": "stdout"
        }
      ]
    },
    {
      "cell_type": "code",
      "metadata": {
        "id": "z3awaDJjZiMF",
        "colab_type": "code",
        "colab": {
          "base_uri": "https://localhost:8080/",
          "height": 667
        },
        "outputId": "f626ed36-dd3b-4419-c755-c7e32b3a8a0d"
      },
      "source": [
        "with open(pth, 'r') as openFile:\n",
        "    print(openFile.read())"
      ],
      "execution_count": 5,
      "outputs": [
        {
          "output_type": "stream",
          "text": [
            "# 08/25/2020-1\n",
            "\n",
            "import datetime, dateutil\n",
            "from datetime import *\n",
            "from dateutil import *\n",
            "from dateutil.tz import *\n",
            "\n",
            "class TZI():\n",
            "    def __init__(self):\n",
            "        self.easternTZone = dateutil.tz.gettz('America/NewYork')\n",
            "        self.centralTZone = dateutil.tz.gettz('America/Chicago')\n",
            "        self.mountainTZone = dateutil.tz.gettz('America/Denver')\n",
            "        self.pacificTZone = dateutil.tz.gettz('America/Los Angeles')\n",
            "        self.alaskanTZone = dateutil.tz.gettz('America/Sitka')\n",
            "        self.hawaiianTZone = datetime.tz.gettz('America/Honolulu')\n",
            "        \n",
            "    def getCurrentTimeIn(self, newTZone, silent=True):\n",
            "        today = datetime.now(tz=newTZone)\n",
            "        formatToday = today.strftime('%m/%d/%Y\\t%X%p')\n",
            "        if not silent:\n",
            "            print(f'{today}\\n{C.BIGreen}{formatToday}')\n",
            "bullshit='''\n",
            "    def dst(self):\n",
            "        print('dst()')\n",
            "\n",
            "    def fromutc(self):\n",
            "        print('fromutc()')\n",
            "\n",
            "    def tzname(self):\n",
            "        print('tzname()')\n",
            "\n",
            "    def utcoffset(self):\n",
            "        print('utcoffset')\n",
            "        '''\n",
            "print(f'{C.BIGreen}Go')\n"
          ],
          "name": "stdout"
        }
      ]
    }
  ]
}