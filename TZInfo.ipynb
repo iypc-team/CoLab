{
  "nbformat": 4,
  "nbformat_minor": 0,
  "metadata": {
    "kernelspec": {
      "display_name": "Python 3",
      "language": "python",
      "name": "python3"
    },
    "language_info": {
      "codemirror_mode": {
        "name": "ipython",
        "version": 3
      },
      "file_extension": ".py",
      "mimetype": "text/x-python",
      "name": "python",
      "nbconvert_exporter": "python",
      "pygments_lexer": "ipython3",
      "version": "3.7.8"
    },
    "colab": {
      "name": "TZInfo.ipynb",
      "provenance": [],
      "collapsed_sections": [],
      "include_colab_link": true
    }
  },
  "cells": [
    {
      "cell_type": "markdown",
      "metadata": {
        "id": "view-in-github",
        "colab_type": "text"
      },
      "source": [
        "<a href=\"https://colab.research.google.com/github/iypc-team/CoLab/blob/master/TZInfo.ipynb\" target=\"_parent\"><img src=\"https://colab.research.google.com/assets/colab-badge.svg\" alt=\"Open In Colab\"/></a>"
      ]
    },
    {
      "cell_type": "code",
      "metadata": {
        "id": "OTPNhKMjnM9l",
        "colab_type": "code",
        "colab": {
          "base_uri": "https://localhost:8080/",
          "height": 104
        },
        "outputId": "88739a2a-853a-4199-85e3-d5a2526ee7f3"
      },
      "source": [
        "from __future__ import absolute_import\n",
        "from google.colab import drive, files\n",
        "import glob, os, pathlib\n",
        "from pathlib import Path\n",
        "\n",
        "drive.mount(\"/content/gdrive/\", force_remount=True, timeout_ms=600000)\n",
        "\n",
        "allFiles = glob.glob('**', recursive=True)\n",
        "workingPath = \"/content/gdrive/My Drive\"\n",
        "%cd {workingPath}\n",
        "\n",
        "try:\n",
        "    from BashColors import C\n",
        "except:\n",
        "    pass"
      ],
      "execution_count": 1,
      "outputs": [
        {
          "output_type": "stream",
          "text": [
            "Mounted at /content/gdrive/\n",
            "/content/gdrive/My Drive\n",
            "\u001b[1;92mok\n"
          ],
          "name": "stdout"
        }
      ]
    },
    {
      "cell_type": "code",
      "metadata": {
        "id": "4CigUQT747L6",
        "colab_type": "code",
        "colab": {
          "base_uri": "https://localhost:8080/",
          "height": 35
        },
        "outputId": "7e9f9b4c-b886-4201-aa96-c740245f29b1"
      },
      "source": [
        "# %%writefile TZInfo.py\n",
        "# 08/25/2020-1\n",
        "\n",
        "import datetime, dateutil\n",
        "from datetime import *\n",
        "from dateutil import *\n",
        "from dateutil.tz import *\n",
        "\n",
        "class TZI():\n",
        "    def __init__(self):\n",
        "        self.gmtTZone = dateutil.tz.gettz('Etc/Gmt')\n",
        "        self.easternTZone = dateutil.tz.gettz('America/New York')\n",
        "        self.centralTZone = dateutil.tz.gettz('America/Chicago')\n",
        "        self.mountainTZone = dateutil.tz.gettz('America/Denver')\n",
        "        self.pacificTZone = dateutil.tz.gettz('America/Los_Angeles')\n",
        "        self.alaskanTZone = dateutil.tz.gettz('America/Anchorage')\n",
        "        self. alutianTZone = dateutil.tz.gettz('America/Adak')\n",
        "        self.hawaiianTZone = dateutil.tz.gettz('Pacific/Honolulu')\n",
        "        \n",
        "    def getCurrentTimeIn(self, newTZone, silent=True):\n",
        "        dateutil.tz.gettz.cache_clear()\n",
        "        today = datetime.now(tz=newTZone)\n",
        "        formatToday = today.strftime('%m/%d/%Y\\t%X %p')\n",
        "        if not silent:\n",
        "            print(f'{C.BIWhite}{today}\\n{C.BIGreen}{formatToday}')\n",
        "            \n",
        "print(f'{C.BIGreen}Go')"
      ],
      "execution_count": 2,
      "outputs": [
        {
          "output_type": "stream",
          "text": [
            "\u001b[1;92mGo\n"
          ],
          "name": "stdout"
        }
      ]
    },
    {
      "cell_type": "code",
      "metadata": {
        "id": "WvKjfuIV9RsC",
        "colab_type": "code",
        "colab": {
          "base_uri": "https://localhost:8080/",
          "height": 481
        },
        "outputId": "f6e62ca0-a69e-4563-e2f9-1ebb05da9f3c"
      },
      "source": [
        "tzi = TZI()\n",
        "tzi.getCurrentTimeIn(tzi.gmtTZone, silent=False)\n",
        "tzi.getCurrentTimeIn(tzi.easternTZone, silent=False)\n",
        "tzi.getCurrentTimeIn(tzi.centralTZone, silent=False)\n",
        "tzi.getCurrentTimeIn(tzi.mountainTZone, silent=False)\n",
        "tzi.getCurrentTimeIn(tzi.pacificTZone, silent=False)\n",
        "tzi.getCurrentTimeIn(tzi.alaskanTZone,silent=False)\n",
        "tzi.getCurrentTimeIn(tzi.alutianTZone, silent=False)\n",
        "tzi.getCurrentTimeIn(tzi.hawaiianTZone, silent=False)"
      ],
      "execution_count": 6,
      "outputs": [
        {
          "output_type": "stream",
          "text": [
            "\u001b[1;97m2020-08-25 20:37:59.509876\n",
            "\u001b[1;92m08/25/2020\t20:37:59 PM\n",
            "\u001b[1;97m2020-08-25 16:37:59.510540-04:00\n",
            "\u001b[1;92m08/25/2020\t16:37:59 PM\n",
            "\u001b[1;97m2020-08-25 15:37:59.510806-05:00\n",
            "\u001b[1;92m08/25/2020\t15:37:59 PM\n",
            "\u001b[1;97m2020-08-25 14:37:59.510950-06:00\n",
            "\u001b[1;92m08/25/2020\t14:37:59 PM\n",
            "\u001b[1;97m2020-08-25 13:37:59.511144-07:00\n",
            "\u001b[1;92m08/25/2020\t13:37:59 PM\n",
            "\u001b[1;97m2020-08-25 12:37:59.511274-08:00\n",
            "\u001b[1;92m08/25/2020\t12:37:59 PM\n",
            "\u001b[1;97m2020-08-25 11:37:59.511408-09:00\n",
            "\u001b[1;92m08/25/2020\t11:37:59 AM\n",
            "\u001b[1;97m2020-08-25 10:37:59.511541-10:00\n",
            "\u001b[1;92m08/25/2020\t10:37:59 AM\n"
          ],
          "name": "stdout"
        }
      ]
    },
    {
      "cell_type": "code",
      "metadata": {
        "id": "HSwvjFxiQdoD",
        "colab_type": "code",
        "colab": {
          "base_uri": "https://localhost:8080/",
          "height": 75
        },
        "outputId": "e05fb847-83f9-414f-e181-70b5397aacfd"
      },
      "source": [
        "pth = \"/content/gdrive/My Drive/TZInfo.py\"\n",
        "if os.path.exists(pth):\n",
        "    print(os.path.basename(pth))\n",
        "    print(f'{C.IGreen}{pth}{C.IWhite}')\n",
        "    "
      ],
      "execution_count": 4,
      "outputs": [
        {
          "output_type": "stream",
          "text": [
            "TZInfo.py\n",
            "\u001b[0;92m/content/gdrive/My Drive/TZInfo.py\u001b[0;97m\n"
          ],
          "name": "stdout"
        }
      ]
    },
    {
      "cell_type": "code",
      "metadata": {
        "id": "z3awaDJjZiMF",
        "colab_type": "code",
        "colab": {
          "base_uri": "https://localhost:8080/",
          "height": 431
        },
        "outputId": "18b8bc68-c1fe-4a1c-e795-7f5ffcb1ed77"
      },
      "source": [
        "with open(pth, 'r') as openFile:\n",
        "    print(openFile.read())"
      ],
      "execution_count": 5,
      "outputs": [
        {
          "output_type": "stream",
          "text": [
            "# 08/25/2020-1\n",
            "\n",
            "import datetime, dateutil\n",
            "from datetime import *\n",
            "from dateutil import *\n",
            "from dateutil.tz import *\n",
            "\n",
            "class TZI():\n",
            "    def __init__(self):\n",
            "        self.easternTZone = dateutil.tz.gettz('America/NewYork')\n",
            "        self.centralTZone = dateutil.tz.gettz('America/Chicago')\n",
            "        self.mountainTZone = dateutil.tz.gettz('America/Denver')\n",
            "        self.pacificTZone = dateutil.tz.gettz('America/Los Angeles')\n",
            "        self.alaskanTZone = dateutil.tz.gettz('America/Sitka')\n",
            "        self.hawaiianTZone = dateutil.tz.gettz('America/Honolulu')\n",
            "        \n",
            "    def getCurrentTimeIn(self, newTZone, silent=True):\n",
            "        today = datetime.now(tz=newTZone)\n",
            "        formatToday = today.strftime('%m/%d/%Y\\t%X%p')\n",
            "        if not silent:\n",
            "            print(f'{today}\\n{C.BIGreen}{formatToday}')\n",
            "            \n",
            "print(f'{C.BIGreen}Go')\n"
          ],
          "name": "stdout"
        }
      ]
    }
  ]
}