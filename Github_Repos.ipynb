{
  "nbformat": 4,
  "nbformat_minor": 0,
  "metadata": {
    "colab": {
      "name": "Github_Repos.ipynb",
      "provenance": [],
      "collapsed_sections": [],
      "include_colab_link": true
    },
    "kernelspec": {
      "display_name": "Python 3",
      "language": "python",
      "name": "python3"
    },
    "language_info": {
      "codemirror_mode": {
        "name": "ipython",
        "version": 3
      },
      "file_extension": ".py",
      "mimetype": "text/x-python",
      "name": "python",
      "nbconvert_exporter": "python",
      "pygments_lexer": "ipython3",
      "version": "3.7.6"
    }
  },
  "cells": [
    {
      "cell_type": "markdown",
      "metadata": {
        "id": "view-in-github",
        "colab_type": "text"
      },
      "source": [
        "<a href=\"https://colab.research.google.com/github/iypc-team/CoLab/blob/master/Github_Repos.ipynb\" target=\"_parent\"><img src=\"https://colab.research.google.com/assets/colab-badge.svg\" alt=\"Open In Colab\"/></a>"
      ]
    },
    {
      "cell_type": "code",
      "metadata": {
        "colab_type": "code",
        "id": "6CK3OX-_1lFR",
        "colab": {}
      },
      "source": [
        "from __future__ import absolute_import\n",
        "from IPython.display import clear_output\n",
        "%pip install GitPython\n",
        "clear_output()\n",
        "\n",
        "import git, os, pathlib, sys\n",
        "from os.path import *\n",
        "\n",
        "from google.colab import drive, files\n",
        "drive.mount(\"/gdrive\", force_remount=True)\n",
        "%cd \"/gdrive/My Drive\"\n",
        "%pwd\n",
        "\n",
        "from BashColors import C\n",
        "import FileUtilities\n",
        "from FileUtilities import *\n",
        "fu.listFiles(silent=True)"
      ],
      "execution_count": null,
      "outputs": []
    },
    {
      "cell_type": "code",
      "metadata": {
        "colab_type": "code",
        "id": "EbrtpsIVd-iI",
        "colab": {}
      },
      "source": [
        "%%writefile GithubRepos.py\n",
        "# 09/06/2020\n",
        "class GithubRepos(object):\n",
        "    import os\n",
        "    gr = None\n",
        "    __all__ = sorted(['getCoLabRepo', 'getCurrentProjectRepo', 'gr',\n",
        "                      'listRemotes', 'repoList'])\n",
        "    def __dir__(self):\n",
        "        self.repoList:list\n",
        "        \n",
        "    def __init__(self):\n",
        "        self.gr = GithubRepos\n",
        "        self.repoList = []\n",
        "        \n",
        "    def getCurrentProjectRepo(self):\n",
        "        currentProjectURL = 'https://github.com/iypc-team/CurrentProject'\n",
        "        \n",
        "        localURL = join(fu.cwdPath, basename(currentProjectURL))\n",
        "        print(basename(currentProjectURL))\n",
        "        if not exists(localURL):\n",
        "            currentProjectRepo = git.Repo.clone_from(currentProjectURL, localURL)\n",
        "            self.repoList.append(currentProjectRepo)\n",
        "        else: print(f'{C.HEADER}{basename(localURL)} already exists')\n",
        "    \n",
        "    def getCoLabRepo(self):\n",
        "        thisRepo = None\n",
        "        colabURL = 'https://github.com/iypc-team/CoLab'\n",
        "        localURL = join(fu.cwdPath, basename(colabURL))\n",
        "        if not exists(localURL):\n",
        "            thisRepo = git.Repo.clone_from(colabURL, localURL)\n",
        "            self.repoList.append(thisRepo)\n",
        "        else: print(f'{C.GREEN}{thisRepo}')\n",
        "\n",
        "    def listRemotes(self):\n",
        "        print(f'{C.WHITE}Remotes:')\n",
        "        for rpo in self.repoList:\n",
        "            print(rpo)\n",
        "            print(f'{rpo.name} {rpo.url}')\n",
        "\n",
        "    def updateRepoList(self, name):\n",
        "        if not name in self.repoList:\n",
        "            self.repoList.append(name)\n",
        "            \n",
        "gr = GithubRepos()"
      ],
      "execution_count": null,
      "outputs": []
    },
    {
      "cell_type": "code",
      "metadata": {
        "colab_type": "code",
        "id": "J5UFjfnE8swh",
        "colab": {}
      },
      "source": [
        "import GithubRepos\n",
        "from GithubRepos import *\n",
        "\n",
        "repoName = 'https://github.com/iypc-team'\n",
        "\n",
        "\n",
        "gr.updateRepoList(name=repoName)\n"
      ],
      "execution_count": null,
      "outputs": []
    },
    {
      "cell_type": "code",
      "metadata": {
        "id": "KglPrRqesyqs",
        "colab_type": "code",
        "colab": {}
      },
      "source": [
        "gr.repoList"
      ],
      "execution_count": null,
      "outputs": []
    }
  ]
}