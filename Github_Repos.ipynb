{
  "nbformat": 4,
  "nbformat_minor": 0,
  "metadata": {
    "colab": {
      "name": "Github_Repos.ipynb",
      "provenance": [],
      "collapsed_sections": [],
      "include_colab_link": true
    },
    "kernelspec": {
      "display_name": "Python 3",
      "language": "python",
      "name": "python3"
    },
    "language_info": {
      "codemirror_mode": {
        "name": "ipython",
        "version": 3
      },
      "file_extension": ".py",
      "mimetype": "text/x-python",
      "name": "python",
      "nbconvert_exporter": "python",
      "pygments_lexer": "ipython3",
      "version": "3.7.6"
    }
  },
  "cells": [
    {
      "cell_type": "markdown",
      "metadata": {
        "id": "view-in-github",
        "colab_type": "text"
      },
      "source": [
        "<a href=\"https://colab.research.google.com/github/iypc-team/CoLab/blob/master/Github_Repos.ipynb\" target=\"_parent\"><img src=\"https://colab.research.google.com/assets/colab-badge.svg\" alt=\"Open In Colab\"/></a>"
      ]
    },
    {
      "cell_type": "code",
      "metadata": {
        "id": "kMnuULlphXQm",
        "colab_type": "code",
        "colab": {}
      },
      "source": [
        "# %pip install GitPython"
      ],
      "execution_count": null,
      "outputs": []
    },
    {
      "cell_type": "code",
      "metadata": {
        "colab_type": "code",
        "id": "6CK3OX-_1lFR",
        "colab": {}
      },
      "source": [
        "from __future__ import absolute_import\n",
        "\n",
        "import git, os, pathlib, sys\n",
        "from os.path import *\n",
        "\n",
        "from google.colab import drive, files\n",
        "drive.mount(\"/gdrive\", force_remount=True)\n",
        "%cd \"/gdrive/My Drive\"\n",
        "%pwd\n",
        "\n",
        "import BashColors\n",
        "from BashColors import C\n",
        "import FileUtilities\n",
        "from FileUtilities import *\n",
        "fu.listFiles(silent=True)"
      ],
      "execution_count": null,
      "outputs": []
    },
    {
      "cell_type": "code",
      "metadata": {
        "colab_type": "code",
        "id": "EbrtpsIVd-iI",
        "colab": {}
      },
      "source": [
        "%%writefile GithubRepos.py\n",
        "# 09/07/2020\n",
        "import git, os\n",
        "from os.path import *\n",
        "from BashColors import C\n",
        "\n",
        "class GithubRepos:\n",
        "        \n",
        "    def __init__(self):\n",
        "        self.gr = GithubRepos\n",
        "        self.repoList = []\n",
        "        \n",
        "    def getCurrentProjectRepo(self):\n",
        "        currentProjectURL = 'https://github.com/iypc-team/CurrentProject'\n",
        "        \n",
        "        localURL = os.path.join(os.curdir, basename(currentProjectURL))\n",
        "        print(basename(currentProjectURL))\n",
        "        if not exists(localURL):\n",
        "            currentProjectRepo = git.Repo.clone_from(currentProjectURL, localURL)\n",
        "            self.repoList.append(currentProjectRepo)\n",
        "        else: print(f'{C.HEADER}{basename(localURL)} already exists')\n",
        "    \n",
        "    def getCoLabRepo(self):\n",
        "        thisRepo = None\n",
        "        colabURL = 'https://github.com/iypc-team/CoLab'\n",
        "        self.updateRepoList(name=colabURL)\n",
        "        localURL = os.path.join(os.path.curdir, basename(colabURL))\n",
        "        if not exists(localURL):\n",
        "            thisRepo = git.Repo.clone_from(colabURL, localURL)\n",
        "            self.repoList.append(thisRepo)\n",
        "            print(f'{C.Green}{thisRepo}')\n",
        "        else: print(f'{C.Red}{thisRepo}')\n",
        "\n",
        "    def listRemotes(self):\n",
        "        print(f'{C.Blue}Remotes:')\n",
        "        for rpo in self.repoList:\n",
        "            print(rpo)\n",
        "            print(f'{rpo}')\n",
        "\n",
        "    def updateRepoList(self, name):\n",
        "        if not name in self.repoList:\n",
        "            self.repoList.append(name)\n",
        "            \n",
        "gr = GithubRepos()"
      ],
      "execution_count": null,
      "outputs": []
    },
    {
      "cell_type": "code",
      "metadata": {
        "colab_type": "code",
        "id": "J5UFjfnE8swh",
        "colab": {}
      },
      "source": [
        "import GithubRepos\n",
        "from GithubRepos import *\n",
        "\n",
        "tzi.getCurrentTimeIn(tzi.centralTZone)"
      ],
      "execution_count": null,
      "outputs": []
    },
    {
      "cell_type": "code",
      "metadata": {
        "id": "KglPrRqesyqs",
        "colab_type": "code",
        "colab": {}
      },
      "source": [
        "fu.listFiles(silent=False)"
      ],
      "execution_count": null,
      "outputs": []
    }
  ]
}