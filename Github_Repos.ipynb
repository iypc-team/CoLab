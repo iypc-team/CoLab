{
  "nbformat": 4,
  "nbformat_minor": 0,
  "metadata": {
    "colab": {
      "name": "Github_Repos.ipynb",
      "provenance": [],
      "collapsed_sections": [],
      "include_colab_link": true
    },
    "kernelspec": {
      "display_name": "Python 3",
      "language": "python",
      "name": "python3"
    },
    "language_info": {
      "codemirror_mode": {
        "name": "ipython",
        "version": 3
      },
      "file_extension": ".py",
      "mimetype": "text/x-python",
      "name": "python",
      "nbconvert_exporter": "python",
      "pygments_lexer": "ipython3",
      "version": "3.7.6"
    }
  },
  "cells": [
    {
      "cell_type": "markdown",
      "metadata": {
        "id": "view-in-github",
        "colab_type": "text"
      },
      "source": [
        "<a href=\"https://colab.research.google.com/github/iypc-team/CoLab/blob/master/Github_Repos.ipynb\" target=\"_parent\"><img src=\"https://colab.research.google.com/assets/colab-badge.svg\" alt=\"Open In Colab\"/></a>"
      ]
    },
    {
      "cell_type": "code",
      "metadata": {
        "colab_type": "code",
        "id": "6CK3OX-_1lFR",
        "colab": {
          "base_uri": "https://localhost:8080/",
          "height": 162
        },
        "outputId": "61801afa-2f85-4045-d901-39fa8f28302e"
      },
      "source": [
        "from __future__ import absolute_import\n",
        "from IPython.display import clear_output\n",
        "%pip install GitPython\n",
        "clear_output()\n",
        "\n",
        "import git, os, pathlib, sys\n",
        "from os.path import *\n",
        "\n",
        "from google.colab import drive, files\n",
        "drive.mount(\"/gdrive\", force_remount=True)\n",
        "%cd \"/gdrive/My Drive\"\n",
        "%pwd\n",
        "\n",
        "from BashColors import C\n",
        "import FileUtilities\n",
        "from FileUtilities import *\n",
        "fu.listFiles(silent=True)"
      ],
      "execution_count": null,
      "outputs": [
        {
          "output_type": "stream",
          "text": [
            "Mounted at /gdrive\n",
            "/gdrive/My Drive\n",
            "\u001b[0;32mBashColors() Ok\n",
            "TZI() Ok\n",
            "FileUtilities() Ok\n"
          ],
          "name": "stdout"
        }
      ]
    },
    {
      "cell_type": "code",
      "metadata": {
        "colab_type": "code",
        "id": "EbrtpsIVd-iI",
        "colab": {
          "base_uri": "https://localhost:8080/",
          "height": 35
        },
        "outputId": "87605078-488e-4ae7-8582-a430991a15aa"
      },
      "source": [
        "%%writefile GithubRepos.py\n",
        "# 09/06/2020\n",
        "class GithubRepos(object):\n",
        "    import os\n",
        "    from os.path import join\n",
        "    gr = None\n",
        "    __all__ = sorted(['getCoLabRepo', 'getCurrentProjectRepo', 'gr',\n",
        "                      'listRemotes', 'repoList'])\n",
        "    # def __dir__(self):\n",
        "        # self.repoList:list\n",
        "        \n",
        "    def __init__(self):\n",
        "        self.gr = GithubRepos\n",
        "        self.repoList = []\n",
        "        \n",
        "    def getCurrentProjectRepo(self):\n",
        "        currentProjectURL = 'https://github.com/iypc-team/CurrentProject'\n",
        "        \n",
        "        localURL = join(fu.cwdPath, basename(currentProjectURL))\n",
        "        print(basename(currentProjectURL))\n",
        "        if not exists(localURL):\n",
        "            currentProjectRepo = git.Repo.clone_from(currentProjectURL, localURL)\n",
        "            self.repoList.append(currentProjectRepo)\n",
        "        else: print(f'{C.HEADER}{basename(localURL)} already exists')\n",
        "    \n",
        "    def getCoLabRepo(self):\n",
        "        thisRepo = None\n",
        "        colabURL = 'https://github.com/iypc-team/CoLab'\n",
        "        self.updateRepoList(name=colabURL)\n",
        "        localURL = join(fu.cwdPath, basename(colabURL))\n",
        "        if not exists(localURL):\n",
        "            thisRepo = git.Repo.clone_from(colabURL, localURL)\n",
        "            self.repoList.append(thisRepo)\n",
        "        else: print(f'{C.GREEN}{thisRepo}')\n",
        "\n",
        "    def listRemotes(self):\n",
        "        print(f'{C.WHITE}Remotes:')\n",
        "        for rpo in self.repoList:\n",
        "            print(rpo)\n",
        "            print(f'{rpo.name} {rpo.url}')\n",
        "\n",
        "    def updateRepoList(self, name):\n",
        "        if not name in self.repoList:\n",
        "            self.repoList.append(name)\n",
        "            \n",
        "gr = GithubRepos()"
      ],
      "execution_count": null,
      "outputs": [
        {
          "output_type": "stream",
          "text": [
            "Overwriting GithubRepos.py\n"
          ],
          "name": "stdout"
        }
      ]
    },
    {
      "cell_type": "code",
      "metadata": {
        "colab_type": "code",
        "id": "J5UFjfnE8swh",
        "colab": {
          "base_uri": "https://localhost:8080/",
          "height": 766
        },
        "outputId": "d680178a-86bc-41b9-ee6c-de5defbe03e6"
      },
      "source": [
        "import GithubRepos\n",
        "from GithubRepos import *\n",
        "\n",
        "gr.getCoLabRepo()\n",
        "repoName = 'https://github.com/iypc-team'\n",
        "gr.updateRepoList(repoName)\n"
      ],
      "execution_count": null,
      "outputs": [
        {
          "output_type": "error",
          "ename": "NameError",
          "evalue": "ignored",
          "traceback": [
            "\u001b[0;31m---------------------------------------------------------------------------\u001b[0m",
            "\u001b[0;31mNameError\u001b[0m                                 Traceback (most recent call last)",
            "\u001b[0;32m<ipython-input-7-1e77fa0d936e>\u001b[0m in \u001b[0;36m<module>\u001b[0;34m()\u001b[0m\n\u001b[1;32m      2\u001b[0m \u001b[0;32mfrom\u001b[0m \u001b[0mGithubRepos\u001b[0m \u001b[0;32mimport\u001b[0m \u001b[0;34m*\u001b[0m\u001b[0;34m\u001b[0m\u001b[0;34m\u001b[0m\u001b[0m\n\u001b[1;32m      3\u001b[0m \u001b[0;34m\u001b[0m\u001b[0m\n\u001b[0;32m----> 4\u001b[0;31m \u001b[0mgr\u001b[0m\u001b[0;34m.\u001b[0m\u001b[0mgetCoLabRepo\u001b[0m\u001b[0;34m(\u001b[0m\u001b[0;34m)\u001b[0m\u001b[0;34m\u001b[0m\u001b[0;34m\u001b[0m\u001b[0m\n\u001b[0m\u001b[1;32m      5\u001b[0m \u001b[0mrepoName\u001b[0m \u001b[0;34m=\u001b[0m \u001b[0;34m'https://github.com/iypc-team'\u001b[0m\u001b[0;34m\u001b[0m\u001b[0;34m\u001b[0m\u001b[0m\n\u001b[1;32m      6\u001b[0m \u001b[0mgr\u001b[0m\u001b[0;34m.\u001b[0m\u001b[0mupdateRepoList\u001b[0m\u001b[0;34m(\u001b[0m\u001b[0mrepoName\u001b[0m\u001b[0;34m)\u001b[0m\u001b[0;34m\u001b[0m\u001b[0;34m\u001b[0m\u001b[0m\n",
            "\u001b[0;32m/gdrive/My Drive/GithubRepos.py\u001b[0m in \u001b[0;36mgetCoLabRepo\u001b[0;34m(self)\u001b[0m\n\u001b[1;32m     27\u001b[0m         \u001b[0mcolabURL\u001b[0m \u001b[0;34m=\u001b[0m \u001b[0;34m'https://github.com/iypc-team/CoLab'\u001b[0m\u001b[0;34m\u001b[0m\u001b[0;34m\u001b[0m\u001b[0m\n\u001b[1;32m     28\u001b[0m         \u001b[0mself\u001b[0m\u001b[0;34m.\u001b[0m\u001b[0mupdateRepoList\u001b[0m\u001b[0;34m(\u001b[0m\u001b[0mname\u001b[0m\u001b[0;34m=\u001b[0m\u001b[0mcolabURL\u001b[0m\u001b[0;34m)\u001b[0m\u001b[0;34m\u001b[0m\u001b[0;34m\u001b[0m\u001b[0m\n\u001b[0;32m---> 29\u001b[0;31m         \u001b[0mlocalURL\u001b[0m \u001b[0;34m=\u001b[0m \u001b[0mjoin\u001b[0m\u001b[0;34m(\u001b[0m\u001b[0mfu\u001b[0m\u001b[0;34m.\u001b[0m\u001b[0mcwdPath\u001b[0m\u001b[0;34m,\u001b[0m \u001b[0mbasename\u001b[0m\u001b[0;34m(\u001b[0m\u001b[0mcolabURL\u001b[0m\u001b[0;34m)\u001b[0m\u001b[0;34m)\u001b[0m\u001b[0;34m\u001b[0m\u001b[0;34m\u001b[0m\u001b[0m\n\u001b[0m\u001b[1;32m     30\u001b[0m         \u001b[0;32mif\u001b[0m \u001b[0;32mnot\u001b[0m \u001b[0mexists\u001b[0m\u001b[0;34m(\u001b[0m\u001b[0mlocalURL\u001b[0m\u001b[0;34m)\u001b[0m\u001b[0;34m:\u001b[0m\u001b[0;34m\u001b[0m\u001b[0;34m\u001b[0m\u001b[0m\n\u001b[1;32m     31\u001b[0m             \u001b[0mthisRepo\u001b[0m \u001b[0;34m=\u001b[0m \u001b[0mgit\u001b[0m\u001b[0;34m.\u001b[0m\u001b[0mRepo\u001b[0m\u001b[0;34m.\u001b[0m\u001b[0mclone_from\u001b[0m\u001b[0;34m(\u001b[0m\u001b[0mcolabURL\u001b[0m\u001b[0;34m,\u001b[0m \u001b[0mlocalURL\u001b[0m\u001b[0;34m)\u001b[0m\u001b[0;34m\u001b[0m\u001b[0;34m\u001b[0m\u001b[0m\n",
            "\u001b[0;31mNameError\u001b[0m: name 'join' is not defined"
          ]
        }
      ]
    },
    {
      "cell_type": "code",
      "metadata": {
        "id": "KglPrRqesyqs",
        "colab_type": "code",
        "colab": {
          "base_uri": "https://localhost:8080/",
          "height": 35
        },
        "outputId": "800a6cd7-c65c-411f-8e92-66f29bcc1fbc"
      },
      "source": [
        "fu.cwdPath"
      ],
      "execution_count": null,
      "outputs": [
        {
          "output_type": "execute_result",
          "data": {
            "text/plain": [
              "PosixPath('/gdrive/My Drive')"
            ]
          },
          "metadata": {
            "tags": []
          },
          "execution_count": 9
        }
      ]
    }
  ]
}