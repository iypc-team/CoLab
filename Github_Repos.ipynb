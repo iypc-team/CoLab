{
  "nbformat": 4,
  "nbformat_minor": 0,
  "metadata": {
    "colab": {
      "name": "Github_Repos.ipynb",
      "provenance": [],
      "collapsed_sections": [],
      "include_colab_link": true
    },
    "kernelspec": {
      "display_name": "Python 3",
      "language": "python",
      "name": "python3"
    },
    "language_info": {
      "codemirror_mode": {
        "name": "ipython",
        "version": 3
      },
      "file_extension": ".py",
      "mimetype": "text/x-python",
      "name": "python",
      "nbconvert_exporter": "python",
      "pygments_lexer": "ipython3",
      "version": "3.7.6"
    }
  },
  "cells": [
    {
      "cell_type": "markdown",
      "metadata": {
        "id": "view-in-github",
        "colab_type": "text"
      },
      "source": [
        "<a href=\"https://colab.research.google.com/github/iypc-team/CoLab/blob/master/Github_Repos.ipynb\" target=\"_parent\"><img src=\"https://colab.research.google.com/assets/colab-badge.svg\" alt=\"Open In Colab\"/></a>"
      ]
    },
    {
      "cell_type": "code",
      "metadata": {
        "id": "kMnuULlphXQm",
        "colab_type": "code",
        "colab": {}
      },
      "source": [
        "# %pip install GitPython"
      ],
      "execution_count": null,
      "outputs": []
    },
    {
      "cell_type": "code",
      "metadata": {
        "colab_type": "code",
        "id": "6CK3OX-_1lFR",
        "colab": {}
      },
      "source": [
        "from __future__ import absolute_import\n",
        "from IPython.display import clear_output\n",
        "import git, os, pathlib\n",
        "from google.colab import drive, files\n",
        "drive.mount(\"/gdrive\", force_remount=True)\n",
        "os.chdir(\"/gdrive/My Drive\")\n",
        "print(pathlib.Path.cwd())\n",
        "\n",
        "import BashColors\n",
        "from BashColors import C\n",
        "import FileUtilities\n",
        "from FileUtilities import *\n",
        "fu.listFiles(silent=True)"
      ],
      "execution_count": null,
      "outputs": []
    },
    {
      "cell_type": "code",
      "metadata": {
        "colab_type": "code",
        "id": "EbrtpsIVd-iI",
        "colab": {}
      },
      "source": [
        "%%writefile GithubRepos.py\n",
        "# 09/10/2020\n",
        "import git, os\n",
        "from os.path import *\n",
        "from BashColors import C\n",
        "\n",
        "class GithubRepos:\n",
        "        \n",
        "    def __init__(self):\n",
        "        self.gr = GithubRepos\n",
        "        self.repoList = []\n",
        "        \n",
        "    def getCurrentProjectRepo(self):\n",
        "        currentProjectURL = 'https://github.com/iypc-team/CurrentProject'\n",
        "        \n",
        "        localURL = os.path.join(os.curdir, basename(currentProjectURL))\n",
        "        print(basename(currentProjectURL))\n",
        "        if not exists(localURL):\n",
        "            currentProjectRepo = git.Repo.clone_from(currentProjectURL, localURL)\n",
        "            self.repoList.append(currentProjectRepo)\n",
        "        else: print(f'{C.HEADER}{basename(localURL)} already exists')\n",
        "    \n",
        "    def getCoLabRepo(self):\n",
        "        thisRepo = None\n",
        "        colabURL = 'https://github.com/iypc-team/CoLab'\n",
        "        self.updateRepoList(name=colabURL)\n",
        "        localURL = os.path.join(os.path.curdir, basename(colabURL))\n",
        "        if not exists(localURL):\n",
        "            thisRepo = git.Repo.clone_from(colabURL, localURL)\n",
        "            self.repoList.append(thisRepo)\n",
        "            print(f'{C.Green}{thisRepo}')\n",
        "        else: print(f'{C.Red}{thisRepo}')\n",
        "\n",
        "    def listRemotes(self):\n",
        "        print(f'{C.Blue}Remotes:')\n",
        "        for rpo in self.repoList:\n",
        "            print(rpo)\n",
        "            print(f'{rpo}')\n",
        "\n",
        "    def updateRepoList(self, name):\n",
        "        if not name in self.repoList:\n",
        "            self.repoList.append(name)\n",
        "            \n",
        "gr = GithubRepos()"
      ],
      "execution_count": null,
      "outputs": []
    },
    {
      "cell_type": "code",
      "metadata": {
        "colab_type": "code",
        "id": "J5UFjfnE8swh",
        "colab": {}
      },
      "source": [
        "import GithubRepos\n",
        "from GithubRepos import *"
      ],
      "execution_count": null,
      "outputs": []
    },
    {
      "cell_type": "code",
      "metadata": {
        "id": "eHeG0Gyi1kDS",
        "colab_type": "code",
        "colab": {}
      },
      "source": [
        "\n",
        "# Import PyDrive and associated libraries.\n",
        "# This only needs to be done once per notebook.\n",
        "from pydrive.auth import GoogleAuth\n",
        "from pydrive.drive import GoogleDrive\n",
        "from google.colab import auth\n",
        "from oauth2client.client import GoogleCredentials\n",
        "import datetime, time\n",
        "from time import strftime, strptime\n",
        "\n",
        "# Authenticate and create the PyDrive client.\n",
        "# This only needs to be done once per notebook.\n",
        "auth.authenticate_user()\n",
        "gauth = GoogleAuth()\n",
        "gauth.credentials = GoogleCredentials.get_application_default()\n",
        "drive = GoogleDrive(gauth)\n",
        "\n",
        "# List files in the root.\n",
        "#\n",
        "# Search query reference:\n",
        "# https://developers.google.com/drive/v2/web/search-parameters\n",
        "listed = drive.ListFile({'q': \"title contains '*.*' and 'root' in parents\"}).GetList()\n",
        "fil = None\n",
        "for fil in listed:\n",
        "    print(F'')\n",
        "    fileId = fil['id']\n",
        "    title = fil['title']\n",
        "    kind = fil['kind']\n",
        "    labels = fil['labels'] # Returns a dictionary\n",
        "    modified = fil['modifiedDate']\n",
        "\n",
        "    mType = fil['mimeType']\n",
        "\n",
        "    strfTime = strftime(modified)\n",
        "\n",
        "    created = fil['createdDate']\n",
        "\n",
        "    print(f'{C.White}title:    {C.IBlue}{title}\\t{kind}{C.IWhite}')\n",
        "    print(f'{C.White}mimeType: {C.Cyan}{mType}')\n",
        "    print(f'{C.White}fileId:   {C.White}{fileId}')\n",
        "    print(f'{C.White}created:  {C.Cyan}{C.BGreen}{created}{C.IWhite}')\n",
        "    print(f'{C.White}modified: {C.Cyan}{C.IYellow}{modified}{C.IWhite}')\n",
        "    print(f'{C.White}strfTime: {C.IPurple}{strfTime}{C.IWhite}')\n",
        "    print(f'\\n')"
      ],
      "execution_count": null,
      "outputs": []
    },
    {
      "cell_type": "code",
      "metadata": {
        "id": "EEv66unECGGN",
        "colab_type": "code",
        "colab": {}
      },
      "source": [
        ""
      ],
      "execution_count": null,
      "outputs": []
    },
    {
      "cell_type": "code",
      "metadata": {
        "id": "VKGreLNTyTBC",
        "colab_type": "code",
        "colab": {}
      },
      "source": [
        "\n",
        "for gfil in listed:\n",
        "    gDate = gfil['modifiedDate']\n",
        "    gType = gfil['mimeType']\n",
        "    realPath = realpath(gfil['title'])\n",
        "    if exists(realPath) and isdir(realPath) and not realPath.__contains__('__'):\n",
        "        stat1 = os.stat(realPath).st_mtime\n",
        "        tziStat = tzi.getFileStats(realPath)\n",
        "        print(f'{C.BIBlue}{realPath}{C.White}')\n",
        "        print(gType)\n",
        "        print(stat1) #  floating point number \n",
        "        print(gDate) #  string \n",
        "        print(tziStat) #  string \n",
        "        print()"
      ],
      "execution_count": null,
      "outputs": []
    },
    {
      "cell_type": "code",
      "metadata": {
        "id": "a93ackAg0wZ1",
        "colab_type": "code",
        "colab": {}
      },
      "source": [
        "aboutDict = drive.GetAbout() # [str:str]\n",
        "\n",
        "for item in aboutDict:\n",
        "    value = aboutDict[item]\n",
        "    print(f'{item}: {value}')"
      ],
      "execution_count": null,
      "outputs": []
    },
    {
      "cell_type": "code",
      "metadata": {
        "id": "sV2hY796Lb7X",
        "colab_type": "code",
        "colab": {}
      },
      "source": [
        "wtf = drive.ListFile().GetList()\n",
        "myFilesDict = {}\n",
        "filCount = 0\n",
        "for item in wtf:\n",
        "    title = item['title']\n",
        "    fileId = item['id']\n",
        "    trying = item['embedLink']\n",
        "\n",
        "    if title.__contains__('.pyc'):\n",
        "        pass\n",
        "    elif title.__contains__('.'):\n",
        "        filCount += 1\n",
        "        realPath = realpath(title)\n",
        "        myFilesDict[filCount] = (fileId, title, realPath)\n",
        "\n",
        "        print(f'{C.White}{filCount}. {C.Green}{title}')\n",
        "        print(f'{C.White}fileId: {C.Purple}{fileId}')\n",
        "        print()"
      ],
      "execution_count": null,
      "outputs": []
    },
    {
      "cell_type": "code",
      "metadata": {
        "id": "F6WEk1HhwMXy",
        "colab_type": "code",
        "colab": {}
      },
      "source": [
        "for number in myFilesDict:\n",
        "    result = myFilesDict[number]\n",
        "    print(f'{number}. {result[1]}')"
      ],
      "execution_count": null,
      "outputs": []
    },
    {
      "cell_type": "code",
      "metadata": {
        "id": "u-S0h4PtC1YX",
        "colab_type": "code",
        "colab": {}
      },
      "source": [
        "def getGoogleDriveFileId(filID, silent=True):\n",
        "    # Download a file based on its file ID.\n",
        "    file_id = fileId\n",
        "    downloaded = drive.CreateFile({'id': file_id})\n",
        "    if not silent:\n",
        "        content = downloaded.GetContentString()\n",
        "        print(f'{content}')\n",
        "        # print('Downloaded content \"{}\"'.format(downloaded.GetContentString()))\n",
        "    else:\n",
        "        return downloaded.GetContentString()"
      ],
      "execution_count": null,
      "outputs": []
    },
    {
      "cell_type": "code",
      "metadata": {
        "id": "FHsK2jo61gxn",
        "colab_type": "code",
        "colab": {}
      },
      "source": [
        "pth = myFilesDict[6]\n",
        "print(f'{C.White}pth[0]: {C.Green}{pth[0]}')\n",
        "print(f'{C.White}pth[1]: {C.Blue}{pth[1]}')\n",
        "print(f'{C.White}pth[2]: {C.Blue}{pth[2]}{C.ColorOff}')\n",
        "\n",
        "fil_id = pth[0]\n",
        "dlFile = getGoogleDriveFileId(fil_id)\n",
        "print(dlFile)"
      ],
      "execution_count": null,
      "outputs": []
    },
    {
      "cell_type": "code",
      "metadata": {
        "id": "IQZcVLx3mV_5",
        "colab_type": "code",
        "colab": {}
      },
      "source": [
        "\n",
        "deleteFilesDict = {}\n",
        "for itemNumber in fu.allFilesDict:\n",
        "    pth = fu.allFilesDict[itemNumber]\n",
        "    realPth = realpath(pth)\n",
        "    if pth.name.__contains__('GDriveFileUtilities') or realPth.__contains__('GDrive_'):\n",
        "        deleteFilesDict[itemNumber] = basename(realPth)\n",
        "        print(f'{C.IWhite}{itemNumber}. {C.IRed}{realPth}')\n",
        "print(f'{C.ColorOff}')\n",
        "\n",
        "for itemNumber in deleteFilesDict:\n",
        "    fileName = deleteFilesDict[itemNumber]\n",
        "    print(deleteFilesDict[itemNumber])\n",
        "    getGoogleDriveFileId(filID=fileName, silent=False)"
      ],
      "execution_count": null,
      "outputs": []
    },
    {
      "cell_type": "code",
      "metadata": {
        "id": "hiQX-9eB5Sq7",
        "colab_type": "code",
        "colab": {}
      },
      "source": [
        "def updateGoogleDriveFileIDs(extension='*'):\n",
        "    def parseDateTime(strng):\n",
        "        # print(strng)\n",
        "        tIndex = strng.rfind('T')\n",
        "        dotIndex = strng.rfind('.')\n",
        "        date_str = strng[0:tIndex]\n",
        "        time_str = strng[tIndex + 1:dotIndex]\n",
        "        newString = date_str + '  ' + time_str\n",
        "        # print(newString)\n",
        "        return newString\n",
        "\n",
        "    gdriveFiles = drive.ListFile().GetList()\n",
        "    gdriveFilesDict = {}\n",
        "    counter = 0\n",
        "    for fil in gdriveFiles:\n",
        "        fileId = fil['id']\n",
        "        fileName = fil['title']\n",
        "        fileStats = parseDateTime(fil['modifiedDate'])\n",
        "        # parseDateTime(fileStats)\n",
        "        if fileName.endswith('.pyc'):\n",
        "            pass\n",
        "        else:\n",
        "            thisPath = realpath(fileName)\n",
        "            counter += 1\n",
        "            gdriveFilesDict[fileName] = fileId\n",
        "            print(f'{C.IWhite}{counter}. {C.Green}{fileName}. {C.ICyan}{fileStats}')\n",
        "            print(f'{C.IRed}{fileId}\\n')\n",
        "updateGoogleDriveFileIDs(extension='py')"
      ],
      "execution_count": null,
      "outputs": []
    }
  ]
}