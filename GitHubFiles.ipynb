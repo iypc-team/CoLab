{
  "nbformat": 4,
  "nbformat_minor": 0,
  "metadata": {
    "colab": {
      "name": "GitHubFiles.ipynb",
      "provenance": [],
      "collapsed_sections": [],
      "include_colab_link": true
    },
    "kernelspec": {
      "display_name": "Python 3",
      "name": "python3"
    }
  },
  "cells": [
    {
      "cell_type": "markdown",
      "metadata": {
        "id": "view-in-github",
        "colab_type": "text"
      },
      "source": [
        "<a href=\"https://colab.research.google.com/github/iypc-team/CoLab/blob/master/GitHubFiles.ipynb\" target=\"_parent\"><img src=\"https://colab.research.google.com/assets/colab-badge.svg\" alt=\"Open In Colab\"/></a>"
      ]
    },
    {
      "cell_type": "code",
      "metadata": {
        "id": "89KG8_oZq_cd",
        "colab_type": "code",
        "colab": {}
      },
      "source": [
        "from __future__ import absolute_import, division, print_function, unicode_literals\n",
        "import os, sys, pathlib, glob\n",
        "from os.path import exists, isabs, isfile, isdir\n",
        "from pathlib import Path\n",
        "from glob import glob, glob0, glob1, iglob"
      ],
      "execution_count": 0,
      "outputs": []
    },
    {
      "cell_type": "code",
      "metadata": {
        "colab_type": "code",
        "id": "ldus40iKMIru",
        "colab": {}
      },
      "source": [
        "pathList = []\n",
        "#  Open files from GitHub Clones an entire repo.\n",
        "!git clone -l -s git://github.com/iypc-team/Swift.git swiftDirectory\n",
        "%cd swiftDirectory\n",
        "pth = Path.cwd()\n",
        "pathList.append(pth)\n",
        "fileNames = glob('**')\n",
        "print('\\n',\"swiftDirectory:\")\n",
        "%ls\n",
        "print()\n",
        "\n",
        "!git clone -l -s git://github.com/iypc-team/CoLab.git colabDirectory\n",
        "%cd colabDirectory\n",
        "print('\\n', \"colabDirectory:\")\n",
        "%ls\n",
        "print()\n",
        "\n",
        "!git clone -l -s git://github.com/iypc-team/Reinforcement-Learning.git reinforcement-learningDirectory\n",
        "%cd reinforcement-learningDirectory\n",
        "print('\\n', \"reinforcement-learningDirectory:\")\n",
        "%ls\n",
        "print()\n"
      ],
      "execution_count": 0,
      "outputs": []
    },
    {
      "cell_type": "code",
      "metadata": {
        "id": "X_eaz2qtrEkO",
        "colab_type": "code",
        "colab": {}
      },
      "source": [
        "for fil in fileNames:\n",
        "    print(fil)"
      ],
      "execution_count": 0,
      "outputs": []
    }
  ]
}