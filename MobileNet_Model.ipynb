{
  "nbformat": 4,
  "nbformat_minor": 0,
  "metadata": {
    "colab": {
      "name": "MobileNet_Model.ipynb",
      "private_outputs": true,
      "provenance": [],
      "collapsed_sections": [],
      "authorship_tag": "ABX9TyPT5V77Ti1JSBXIbYBGDnMK",
      "include_colab_link": true
    },
    "kernelspec": {
      "name": "python3",
      "display_name": "Python 3"
    }
  },
  "cells": [
    {
      "cell_type": "markdown",
      "metadata": {
        "id": "view-in-github",
        "colab_type": "text"
      },
      "source": [
        "<a href=\"https://colab.research.google.com/github/iypc-team/CoLab/blob/master/MobileNet_Model.ipynb\" target=\"_parent\"><img src=\"https://colab.research.google.com/assets/colab-badge.svg\" alt=\"Open In Colab\"/></a>"
      ]
    },
    {
      "cell_type": "code",
      "metadata": {
        "id": "fsBNDTSTGmUB"
      },
      "source": [
        "from __future__ import absolute_import, division, print_function\n",
        "from IPython.display import clear_output\n",
        "import os, shutil, time\n",
        "from os.path import *\n",
        "from google.colab import drive, files\n",
        "import tensorflow as tf\n",
        "import tensorflow_datasets as tfds\n",
        "from keras.models import load_model\n",
        "\n",
        "drive.flush_and_unmount()\n",
        "drive.mount('/content/gdrive', force_remount=True)\n",
        "\n",
        "contentPth = os.getcwd()\n",
        "pythonPth =  join(contentPth,'gdrive/My Drive/PythonFiles')\n",
        "deletePth = join(contentPth, 'sample_data')\n",
        "tfModelsPth = join(contentPth, 'gdrive/My Drive/Tensorflow Models')\n",
        "mobilenetPth = join(contentPth, 'MobileNetDir')\n",
        "\n",
        "if not exists(mobilenetPth):\n",
        "    os.mkdir(mobilenetPth)\n",
        "\n",
        "if exists(deletePth):\n",
        "    shutil.rmtree(deletePth)\n",
        "\n",
        "if exists(pythonPth):\n",
        "    os.chdir(pythonPth)\n",
        "\n",
        "# import ImportDriveFiles\n",
        "from BashColors import C\n",
        "\n",
        "os.chdir(contentPth)"
      ],
      "execution_count": null,
      "outputs": []
    },
    {
      "cell_type": "code",
      "metadata": {
        "id": "ue4fcF1DpYNR"
      },
      "source": [
        "tfModelsPth=join(contentPth, 'gdrive/My Drive/Tensorflow Models')\n",
        "os.chdir(tfModelsPth)\n",
        "\n",
        "sourcePth = join(tfModelsPth, 'mobilenetv2_1.00_224_no_weights.h5')\n",
        "\n",
        "modelPth = join(mobilenetPth, 'mobilenetv2_1.00_224_no_weights.h5')\n",
        "\n",
        "shutil.copy2(src=sourcePth, dst=modelPth)"
      ],
      "execution_count": null,
      "outputs": []
    },
    {
      "cell_type": "code",
      "metadata": {
        "id": "M5-R9Ri2tqdj"
      },
      "source": [
        "mobilenetModel = tf.keras.models.load_model(modelPth)"
      ],
      "execution_count": null,
      "outputs": []
    },
    {
      "cell_type": "code",
      "metadata": {
        "id": "4knauTxubJ1d"
      },
      "source": [
        "# mobilenetModel.summary()\n",
        "\n",
        "tf.keras.utils.plot_model(model=mobilenetModel,\n",
        "                          to_file='model.png',\n",
        "                          show_shapes=True,\n",
        "                          show_dtype=True,\n",
        "                          show_layer_names=True, \n",
        "                          expand_nested=True,\n",
        "                          dpi=96)\n",
        "clear_output()"
      ],
      "execution_count": null,
      "outputs": []
    },
    {
      "cell_type": "code",
      "metadata": {
        "id": "yQxeDzJFKWNt"
      },
      "source": [
        "mobilenetModel.compile"
      ],
      "execution_count": null,
      "outputs": []
    }
  ]
}