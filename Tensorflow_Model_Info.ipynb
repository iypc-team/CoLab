{
  "nbformat": 4,
  "nbformat_minor": 0,
  "metadata": {
    "kernelspec": {
      "display_name": "Python 3",
      "language": "python",
      "name": "python3"
    },
    "language_info": {
      "codemirror_mode": {
        "name": "ipython",
        "version": 3
      },
      "file_extension": ".py",
      "mimetype": "text/x-python",
      "name": "python",
      "nbconvert_exporter": "python",
      "pygments_lexer": "ipython3",
      "version": "3.7.8"
    },
    "colab": {
      "name": "Tensorflow_Model_Info.ipynb",
      "private_outputs": true,
      "provenance": [],
      "collapsed_sections": [],
      "machine_shape": "hm",
      "include_colab_link": true
    }
  },
  "cells": [
    {
      "cell_type": "markdown",
      "metadata": {
        "id": "view-in-github",
        "colab_type": "text"
      },
      "source": [
        "<a href=\"https://colab.research.google.com/github/iypc-team/CoLab/blob/master/Tensorflow_Model_Info.ipynb\" target=\"_parent\"><img src=\"https://colab.research.google.com/assets/colab-badge.svg\" alt=\"Open In Colab\"/></a>"
      ]
    },
    {
      "cell_type": "code",
      "metadata": {
        "id": "3mSc_oRq_OkO"
      },
      "source": [
        "from __future__ import absolute_import\n",
        "from __future__ import division\n",
        "from IPython.display import clear_output\n",
        "\n",
        "import os, shutil\n",
        "from os.path import *\n",
        "\n",
        "try: \n",
        "    print('absl-py 0.10.0')\n",
        "    %pip install absl-py=='0.10.0'\n",
        "    clear_output(wait=0)\n",
        "except Exception as err:\n",
        "    print('absl-py 0.10.0')\n",
        "    %pip install absl-py=='0.10.0'\n",
        "    \n",
        "try: import tensorflow as tf\n",
        "except ModuleNotFoundError:\n",
        "    print('\\ntensorflow')\n",
        "    %pip install tensorflow\n",
        "    import tensorflow as tf\n",
        "    \n",
        "try: import tensorflow_datasets as tfds\n",
        "except ModuleNotFoundError:\n",
        "    print('\\ntensorflow_datasets')\n",
        "    %pip install tensorflow_datasets\n",
        "    import tensorflow_datasets as tfds\n",
        "\n",
        "try: import matplotlib.pyplot as plt\n",
        "except ModuleNotFoundError:\n",
        "    print('\\nmatplotlib')\n",
        "    %pip install matplotlib\n",
        "    import matplotlib.pyplot as plt\n",
        "    \n",
        "try: import numpy as np\n",
        "except ModuleNotFoundError:\n",
        "    print('\\nnumpy: ')\n",
        "    %pip install numpy\n",
        "    import numpy as np\n",
        "\n",
        "try:\n",
        "    import pandas\n",
        "    print(pandas.__version__)\n",
        "except:\n",
        "    print('\\npandas)')\n",
        "    %pip install pandas\n",
        "    import pandas"
      ],
      "execution_count": null,
      "outputs": []
    },
    {
      "cell_type": "code",
      "metadata": {
        "id": "aTusluTx_Ol8"
      },
      "source": [
        "_list = tfds.list_builders()\n",
        "enumerate_list = enumerate(_list)\n",
        "selected_item:int=None\n",
        "for item in enumerate_list:\n",
        "    print(item)\n",
        "selected_item = input('select number from list' )"
      ],
      "execution_count": null,
      "outputs": []
    },
    {
      "cell_type": "code",
      "metadata": {
        "id": "2TJM3j95_Ol-"
      },
      "source": [
        "import tensorflow_datasets as tfds\n",
        "builder = tfds.builder('duke_ultrasound')\n",
        "builder.download_and_prepare()\n",
        "ds = builder.as_dataset(split='train', shuffle_files=True)\n",
        "ds = ds.take(1)\n",
        "dir(builder)\n",
        "print(builder.data_path)"
      ],
      "execution_count": null,
      "outputs": []
    },
    {
      "cell_type": "code",
      "metadata": {
        "id": "Ucb0ZCKR_OmA"
      },
      "source": [
        "for example in ds:\n",
        "    print(f'example.keys: {list(example.keys())}\\n')\n",
        "    image = example['image']\n",
        "    label = example['label']\n",
        "    print(f'shape: {image.shape}\\nlabel: {label}')"
      ],
      "execution_count": null,
      "outputs": []
    },
    {
      "cell_type": "code",
      "metadata": {
        "id": "4J_HGT9D_OmC"
      },
      "source": [
        "# ds = tfds.load('duke_ultrasound’, split='train', as_supervised=True)\n",
        "ds = tdfs.load('duke_ultrasound', split='train', as_supervised=True)\n",
        "ds = ds.take(1)\n",
        "\n",
        "for image, label in ds:\n",
        "    print(f'image.shape: {image.shape}\\nlabel: {label}')"
      ],
      "execution_count": null,
      "outputs": []
    },
    {
      "cell_type": "code",
      "metadata": {
        "id": "DENZzw_a_OmF"
      },
      "source": [
        "ds = tfds.load('duke_ultrasound’, split='train', as_supervised=True)\n",
        "ds = ds.take(1)\n",
        "\n",
        "for image, label in tfds.as_numpy(ds):\n",
        "    print(f'image.shape: {image.shape}\\nlabel: {label}')"
      ],
      "execution_count": null,
      "outputs": []
    },
    {
      "cell_type": "code",
      "metadata": {
        "id": "5zgNb23Q_OmH"
      },
      "source": [
        "image, label = tfds.as_numpy(tfds.load('duke_ultrasound’,\n",
        "                                      split='train',\n",
        "                                      batch_size=-1,\n",
        "                                      as_supervised=True))\n",
        "print(f'type: {type(image)}\\nshape: {image.shape}')"
      ],
      "execution_count": null,
      "outputs": []
    },
    {
      "cell_type": "code",
      "metadata": {
        "id": "q2ywtZXa_OmK"
      },
      "source": [
        "ds, info = tfds.load('duke_ultrasound’, split='train', with_info=True)\n",
        "tfds.as_dataframe(ds.take(4), info)"
      ],
      "execution_count": null,
      "outputs": []
    },
    {
      "cell_type": "code",
      "metadata": {
        "id": "zl0YUq5X_OmQ"
      },
      "source": [
        "ds, info = tfds.load('duke_ultrasound’)"
      ],
      "execution_count": null,
      "outputs": []
    },
    {
      "cell_type": "code",
      "metadata": {
        "id": "8JBlJdCe_OmS"
      },
      "source": [
        "', split='train', with_info=True)\n",
        "tfds.show_examples(ds, info)"
      ],
      "execution_count": null,
      "outputs": []
    },
    {
      "cell_type": "code",
      "metadata": {
        "id": "B7SsuX_l_OmU"
      },
      "source": [
        "ds, info = tfds.load('duke_ultrasound’, with_info=True)\n",
        "builder = tfds.builder('duke_ultrasound’)\n",
        "info = builder.info\n",
        "print(info)"
      ],
      "execution_count": null,
      "outputs": []
    },
    {
      "cell_type": "code",
      "metadata": {
        "id": "8mzOEKRx_OmZ"
      },
      "source": [
        "info.features"
      ],
      "execution_count": null,
      "outputs": []
    },
    {
      "cell_type": "code",
      "metadata": {
        "id": "4I93IIhc_Omc"
      },
      "source": [
        "print(info.features['label'].num_classes)\n",
        "print(info.features['label'].names)\n",
        "print(info.features['label'].int2str(7))\n",
        "# print(info.features['label'].str2int('7'))"
      ],
      "execution_count": null,
      "outputs": []
    },
    {
      "cell_type": "code",
      "metadata": {
        "id": "mmoYfSOC_Omf"
      },
      "source": [
        "print(info.features.shape)\n",
        "print(info.features.dtype)\n",
        "print(info.features['image'].shape)\n",
        "print(info.features['image'].dtype)"
      ],
      "execution_count": null,
      "outputs": []
    },
    {
      "cell_type": "code",
      "metadata": {
        "id": "lCztXvmm_Omh"
      },
      "source": [
        "print(info.splits)"
      ],
      "execution_count": null,
      "outputs": []
    },
    {
      "cell_type": "code",
      "metadata": {
        "id": "pJak74z4_Omj"
      },
      "source": [
        "print(list(info.splits.keys()))"
      ],
      "execution_count": null,
      "outputs": []
    },
    {
      "cell_type": "code",
      "metadata": {
        "id": "Y9BaZNXe_Omm"
      },
      "source": [
        "print(info.splits['train'].num_examples)\n",
        "print(info.splits['train'].filenames)\n",
        "print(info.splits['train']. num_shards)\n"
      ],
      "execution_count": null,
      "outputs": []
    },
    {
      "cell_type": "code",
      "metadata": {
        "id": "yU0CzeJ-_Omu"
      },
      "source": [
        "print(info.splits['train[15%:75%]'].num_examples)\n",
        "print(info.splits['train[15%:75%]'].file_instructions)"
      ],
      "execution_count": null,
      "outputs": []
    },
    {
      "cell_type": "code",
      "metadata": {
        "id": "yjUjLJiT_Omy"
      },
      "source": [
        ""
      ],
      "execution_count": null,
      "outputs": []
    },
    {
      "cell_type": "code",
      "metadata": {
        "id": "XdVfpnbM_Om0"
      },
      "source": [
        ""
      ],
      "execution_count": null,
      "outputs": []
    },
    {
      "cell_type": "code",
      "metadata": {
        "id": "tFSnF7Oo_Om1"
      },
      "source": [
        ""
      ],
      "execution_count": null,
      "outputs": []
    },
    {
      "cell_type": "code",
      "metadata": {
        "id": "oyetvx2H_Om3"
      },
      "source": [
        ""
      ],
      "execution_count": null,
      "outputs": []
    },
    {
      "cell_type": "code",
      "metadata": {
        "id": "xpDcVmX8_Om9"
      },
      "source": [
        ""
      ],
      "execution_count": null,
      "outputs": []
    }
  ]
}