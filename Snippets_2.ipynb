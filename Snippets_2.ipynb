{
  "nbformat": 4,
  "nbformat_minor": 0,
  "metadata": {
    "colab": {
      "name": "Snippets_2.ipynb",
      "private_outputs": true,
      "provenance": [],
      "collapsed_sections": [],
      "authorship_tag": "ABX9TyOp01exQh7qfAbKb63MgWo2",
      "include_colab_link": true
    },
    "kernelspec": {
      "name": "python3",
      "display_name": "Python 3"
    },
    "language_info": {
      "name": "python"
    },
    "gpuClass": "standard"
  },
  "cells": [
    {
      "cell_type": "markdown",
      "metadata": {
        "id": "view-in-github",
        "colab_type": "text"
      },
      "source": [
        "<a href=\"https://colab.research.google.com/github/iypc-team/CoLab/blob/master/Snippets_2.ipynb\" target=\"_parent\"><img src=\"https://colab.research.google.com/assets/colab-badge.svg\" alt=\"Open In Colab\"/></a>"
      ]
    },
    {
      "cell_type": "code",
      "execution_count": null,
      "metadata": {
        "id": "5Tjzzf5u8r0Y"
      },
      "outputs": [],
      "source": [
        "print('Updated: 08/26/2022')"
      ]
    },
    {
      "cell_type": "code",
      "source": [
        "def save_file(filepath, data):\n",
        "    # open the file\n",
        "    with open(filepath, 'w') as handle:\n",
        "        # save the data\n",
        "        handle.write(data)\n"
      ],
      "metadata": {
        "id": "QbTnhs1-m0Vy"
      },
      "execution_count": null,
      "outputs": []
    },
    {
      "cell_type": "code",
      "source": [
        "# Mounting Google Drive in your VM\n",
        "from __future__ import absolute_import, print_function\n",
        "import os, pprint, shutil, tarfile, time\n",
        "from os.path import *\n",
        "\n",
        "pathContent=os.getcwd()\n",
        "bullshitPath = join(pathContent,'sample_data')\n",
        "if exists(bullshitPath):\n",
        "    shutil.rmtree(bullshitPath)\n",
        "    \n",
        "import io\n",
        "import google.auth\n",
        "from googleapiclient.discovery import build\n",
        "from googleapiclient.errors import HttpError\n",
        "from googleapiclient.http import MediaIoBaseDownload\n",
        "\n",
        "# This only needs to be done once in a notebook.\n",
        "from pydrive.auth import GoogleAuth\n",
        "from pydrive.drive import GoogleDrive\n",
        "from google.colab import auth\n",
        "from oauth2client.client import GoogleCredentials\n",
        "\n",
        "pp=pprint.PrettyPrinter()\n",
        "\n",
        "# Authenticate and create the PyDrive client.\n",
        "# This only needs to be done once in a notebook.\n",
        "auth.authenticate_user()\n",
        "gauth = GoogleAuth()\n",
        "gauth.credentials = GoogleCredentials.get_application_default()\n",
        "# gauth.LocalWebserverAuth() # Creates local webserver and auto handles \n",
        "drive = GoogleDrive(gauth)\n",
        "\n",
        "# Download a file based on its file ID.\n",
        "fid='1gqAtKe4idK8lfx7QzUd0xhgpwqrEgWph'\n",
        "file_id = fid\n",
        "downloaded = drive.CreateFile({'id': file_id})\n",
        "print('Downloaded content\\n \"{}\"'.format(downloaded.GetContentString()))\n",
        "file_text=downloaded.GetContentString()\n",
        "toPath=join(pathContent, 'BashColors.py')\n",
        "save_file(toPath, file_text)\n",
        "from BashColors import C\n",
        "print(f'hallelujah: {C.OnIRed}{C.BIGreen}happy birthday dad!\\nSweet{C.ColorOff}')"
      ],
      "metadata": {
        "id": "YMxigSyp9Bal"
      },
      "execution_count": null,
      "outputs": []
    },
    {
      "cell_type": "code",
      "source": [
        "with open(toPath, 'r') as fil:\n",
        "    txt=fil.read()\n",
        "    print(txt)"
      ],
      "metadata": {
        "id": "ewoji1YXo1KA"
      },
      "execution_count": null,
      "outputs": []
    },
    {
      "cell_type": "code",
      "source": [
        "directoryList=[]\n",
        "def driveListFolders(title):\n",
        "    global directoryList\n",
        "    drive = GoogleDrive(gauth)\n",
        "    folder1 = drive.CreateFile(\n",
        "        {'mimeType': 'application/vnd.google-apps.folder', 'title': title})\n",
        "    folder1.Upload()\n",
        "    directoryList.append(folder1)\n",
        "\n",
        "    flist = drive.ListFile({'q': \"title = '%s' and trashed = false\" % title})\n",
        "    count = 0\n",
        "    for _flist in flist:\n",
        "        for file1 in _flist:\n",
        "            assert FileInFileList(folder1)\n",
        "            count += 1\n",
        "\n",
        "    # assertTrue(count == 11)\n",
        "driveListFolders(title='*.*')"
      ],
      "metadata": {
        "id": "j55w7Vs9ca62"
      },
      "execution_count": null,
      "outputs": []
    },
    {
      "cell_type": "code",
      "source": [
        "directoryList\n",
        "           "
      ],
      "metadata": {
        "id": "lyCePWcchAkH"
      },
      "execution_count": null,
      "outputs": []
    },
    {
      "cell_type": "code",
      "source": [
        "dictionary=dict()\n",
        "nameList=[]\n",
        "def searchGoogleDrive(silent=True):\n",
        "    \"\"\" \"\"\"\n",
        "    global dictionary\n",
        "    print(len(dictionary))\n",
        "    global nameList\n",
        "    listed = drive.ListFile({'q': \"title contains 'BashColors.py' \"}).GetList()\n",
        "    count=0\n",
        "    for file in listed:\n",
        "        count+=1\n",
        "        name=format(file['title'])\n",
        "        id=format(file['id'])\n",
        "        # modified=format(file['created'])\n",
        "\n",
        "        nameList.append((name, id))\n",
        "        if not silent:\n",
        "            print(f'{count}. title: {name}')\n",
        "            print('id: {}\\n'.format(file['id']))\n",
        "            # print(modified)\n",
        "        dictionary.update([(name,id)])\n",
        "    return dictionary\n",
        "\n",
        "_=searchGoogleDrive(silent=False)"
      ],
      "metadata": {
        "id": "o8TM1c2L9CDV"
      },
      "execution_count": null,
      "outputs": []
    },
    {
      "cell_type": "code",
      "source": [
        "def download_file(real_file_id):\n",
        "    \"\"\"Downloads a file from google Drive\n",
        "    Args:\n",
        "        real_file_id: ID of the file to download\n",
        "    Returns : IO object with location.\n",
        "\n",
        "    Load pre-authorized user credentials from the environment.\n",
        "    TODO(developer) - See https://developers.google.com/identity\n",
        "    for guides on implementing OAuth2 for the application.\n",
        "    \"\"\"\n",
        "    creds, _ = google.auth.default()\n",
        "\n",
        "    try:\n",
        "        # create drive api client\n",
        "        service = build('drive', 'v3', credentials=creds)\n",
        "\n",
        "        file_id = real_file_id\n",
        "\n",
        "        # pylint: disable=maybe-no-member\n",
        "        request = service.files().get_media(fileId=file_id)\n",
        "        file = io.BytesIO()\n",
        "        downloader = MediaIoBaseDownload(file, request)\n",
        "        done = False\n",
        "        while done is False:\n",
        "            status, done = downloader.next_chunk()\n",
        "            print(F'Download {int(status.progress() * 100)}.')\n",
        "\n",
        "    except HttpError as error:\n",
        "        print(F'An error occurred: {error}')\n",
        "        file = None\n",
        "\n",
        "    return file.getvalue()"
      ],
      "metadata": {
        "id": "86iiq1Ovm3qB"
      },
      "execution_count": null,
      "outputs": []
    },
    {
      "cell_type": "code",
      "source": [
        "for k in dictionary.keys():\n",
        "    print(type(k))\n",
        "    print(f'{k}\\n')\n",
        "    print(k)"
      ],
      "metadata": {
        "id": "DthxIVX29CoA"
      },
      "execution_count": null,
      "outputs": []
    },
    {
      "cell_type": "code",
      "source": [],
      "metadata": {
        "id": "bNfDUIqlRBgW"
      },
      "execution_count": null,
      "outputs": []
    },
    {
      "cell_type": "code",
      "source": [],
      "metadata": {
        "id": "ffPOEKVORBxI"
      },
      "execution_count": null,
      "outputs": []
    },
    {
      "cell_type": "code",
      "source": [],
      "metadata": {
        "id": "_tUUoSvMRCC0"
      },
      "execution_count": null,
      "outputs": []
    },
    {
      "cell_type": "code",
      "source": [],
      "metadata": {
        "id": "aBtWhciQRCU-"
      },
      "execution_count": null,
      "outputs": []
    }
  ]
}