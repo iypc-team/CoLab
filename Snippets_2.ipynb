{
  "nbformat": 4,
  "nbformat_minor": 0,
  "metadata": {
    "colab": {
      "name": "Snippets_2.ipynb",
      "private_outputs": true,
      "provenance": [],
      "collapsed_sections": [],
      "authorship_tag": "ABX9TyNqubKpuhJ6s+tzNtJ3nk0E",
      "include_colab_link": true
    },
    "kernelspec": {
      "name": "python3",
      "display_name": "Python 3"
    },
    "language_info": {
      "name": "python"
    },
    "gpuClass": "standard"
  },
  "cells": [
    {
      "cell_type": "markdown",
      "metadata": {
        "id": "view-in-github",
        "colab_type": "text"
      },
      "source": [
        "<a href=\"https://colab.research.google.com/github/iypc-team/CoLab/blob/master/Snippets_2.ipynb\" target=\"_parent\"><img src=\"https://colab.research.google.com/assets/colab-badge.svg\" alt=\"Open In Colab\"/></a>"
      ]
    },
    {
      "cell_type": "code",
      "execution_count": null,
      "metadata": {
        "id": "5Tjzzf5u8r0Y"
      },
      "outputs": [],
      "source": [
        "print('Updated: 08/26/2022')"
      ]
    },
    {
      "cell_type": "code",
      "source": [
        "# Mounting Google Drive in your VM\n",
        "from __future__ import absolute_import, print_function\n",
        "import os, pprint, shutil, tarfile, time\n",
        "from os.path import *\n",
        "\n",
        "pathContent=os.getcwd()\n",
        "bullshitPath = join(pathContent,'sample_data')\n",
        "if exists(bullshitPath):\n",
        "    shutil.rmtree(bullshitPath)\n",
        "    \n",
        "import io\n",
        "import google.auth\n",
        "from googleapiclient.discovery import build\n",
        "from googleapiclient.errors import HttpError\n",
        "from googleapiclient.http import MediaIoBaseDownload\n",
        "\n",
        "# This only needs to be done once in a notebook.\n",
        "from pydrive.auth import GoogleAuth\n",
        "from pydrive.drive import GoogleDrive\n",
        "from google.colab import auth\n",
        "from oauth2client.client import GoogleCredentials\n",
        "\n",
        "pp=pprint.PrettyPrinter()\n",
        "\n",
        "# Authenticate and create the PyDrive client.\n",
        "# This only needs to be done once in a notebook.\n",
        "auth.authenticate_user()\n",
        "gauth = GoogleAuth()\n",
        "gauth.credentials = GoogleCredentials.get_application_default()\n",
        "drive = GoogleDrive(gauth)\n",
        "\n",
        "# Download a file based on its file ID.\n",
        "fid='1gqAtKe4idK8lfx7QzUd0xhgpwqrEgWph'\n",
        "file_id = fid\n",
        "downloaded = drive.CreateFile({'id': file_id})\n",
        "print('Downloaded content\\n \"{}\"'.format(downloaded.GetContentString()))"
      ],
      "metadata": {
        "id": "YMxigSyp9Bal"
      },
      "execution_count": null,
      "outputs": []
    },
    {
      "cell_type": "code",
      "source": [
        "dictionary=dict()\n",
        "nameList=[]\n",
        "def searchGoogleDrive(silent=True):\n",
        "    \"\"\" \"\"\"\n",
        "    global dictionary\n",
        "    print(len(dictionary))\n",
        "    global nameList\n",
        "    listed = drive.ListFile({'q': \"title contains 'BashColors.py' \"}).GetList()\n",
        "    count=0\n",
        "    for file in listed:\n",
        "        count+=1\n",
        "        name=format(file['title'])\n",
        "        id=format(file['id'])\n",
        "        # modified=format(file['created'])\n",
        "\n",
        "        nameList.append((name, id))\n",
        "        if not silent:\n",
        "            print(f'{count}. title: {name}')\n",
        "            print('id: {}\\n'.format(file['id']))\n",
        "            # print(modified)\n",
        "        dictionary.update([(name,id)])\n",
        "    return dictionary\n",
        "\n",
        "_=searchGoogleDrive(silent=False)"
      ],
      "metadata": {
        "id": "o8TM1c2L9CDV"
      },
      "execution_count": null,
      "outputs": []
    },
    {
      "cell_type": "code",
      "source": [
        "for k in dictionary.keys():\n",
        "    print(type(k))\n",
        "    print(f'{k}\\n')\n",
        "    print(k)"
      ],
      "metadata": {
        "id": "DthxIVX29CoA"
      },
      "execution_count": null,
      "outputs": []
    },
    {
      "cell_type": "code",
      "source": [],
      "metadata": {
        "id": "bNfDUIqlRBgW"
      },
      "execution_count": null,
      "outputs": []
    },
    {
      "cell_type": "code",
      "source": [],
      "metadata": {
        "id": "ffPOEKVORBxI"
      },
      "execution_count": null,
      "outputs": []
    },
    {
      "cell_type": "code",
      "source": [],
      "metadata": {
        "id": "_tUUoSvMRCC0"
      },
      "execution_count": null,
      "outputs": []
    },
    {
      "cell_type": "code",
      "source": [],
      "metadata": {
        "id": "aBtWhciQRCU-"
      },
      "execution_count": null,
      "outputs": []
    }
  ]
}