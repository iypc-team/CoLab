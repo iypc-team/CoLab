{
  "nbformat": 4,
  "nbformat_minor": 0,
  "metadata": {
    "colab": {
      "name": "Python_swift.ipynb",
      "version": "0.3.2",
      "provenance": [],
      "private_outputs": true,
      "collapsed_sections": [],
      "include_colab_link": true
    },
    "kernelspec": {
      "name": "swift",
      "display_name": "Swift"
    }
  },
  "cells": [
    {
      "cell_type": "markdown",
      "metadata": {
        "id": "view-in-github",
        "colab_type": "text"
      },
      "source": [
        "<a href=\"https://colab.research.google.com/github/iypc-team/CoLab/blob/master/Python_swift.ipynb\" target=\"_parent\"><img src=\"https://colab.research.google.com/assets/colab-badge.svg\" alt=\"Open In Colab\"/></a>"
      ]
    },
    {
      "cell_type": "code",
      "metadata": {
        "id": "EgI0gsf6IuoT",
        "colab_type": "code",
        "colab": {}
      },
      "source": [
        "\n",
        "import Foundation\n",
        "import Python\n",
        "\n",
        "public let py = Python\n",
        "\n",
        "print(py.version, \"\\n\", py.versionInfo, \"\\n\")\n",
        "\n",
        "for item in py.builtins.sorted() {\n",
        "  print(item)\n",
        "  print(\"Item count:\", item.count, \"\\n\")\n",
        "}\n",
        "\n",
        "\n",
        "\n"
      ],
      "execution_count": 0,
      "outputs": []
    }
  ]
}