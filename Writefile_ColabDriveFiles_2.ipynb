{
  "nbformat": 4,
  "nbformat_minor": 0,
  "metadata": {
    "colab": {
      "name": "Writefile_ColabDriveFiles_2.ipynb",
      "private_outputs": true,
      "provenance": [],
      "collapsed_sections": [],
      "authorship_tag": "ABX9TyMEeXf9mPIe0yhkpbtUwVkh",
      "include_colab_link": true
    },
    "kernelspec": {
      "name": "python3",
      "display_name": "Python 3"
    },
    "language_info": {
      "name": "python"
    },
    "gpuClass": "standard"
  },
  "cells": [
    {
      "cell_type": "markdown",
      "metadata": {
        "id": "view-in-github",
        "colab_type": "text"
      },
      "source": [
        "<a href=\"https://colab.research.google.com/github/iypc-team/CoLab/blob/master/Writefile_ColabDriveFiles_2.ipynb\" target=\"_parent\"><img src=\"https://colab.research.google.com/assets/colab-badge.svg\" alt=\"Open In Colab\"/></a>"
      ]
    },
    {
      "cell_type": "code",
      "execution_count": null,
      "metadata": {
        "id": "LT8gxZkO7u6N"
      },
      "outputs": [],
      "source": [
        "%%writefile ColabDriveFiles_2.py\n",
        "# created: 12/05/2020\n",
        "# updated: 08/14/2022\n",
        "from __future__ import absolute_import, print_function\n",
        "import os, shutil, time\n",
        "from os.path import *\n",
        "from google.colab import drive, files\n",
        "# Import PyDrive and associated libraries.\n",
        "# This only needs to be done once per notebook.\n",
        "from pydrive.auth import GoogleAuth\n",
        "from pydrive.drive import GoogleDrive\n",
        "from google.colab import auth\n",
        "from oauth2client.client import GoogleCredentials\n",
        "\n",
        "contentPath=os.getcwd()\n",
        "\n",
        "bullshitPath = join(contentPath,'sample_data')\n",
        "if exists(bullshitPath):\n",
        "    shutil.rmtree(bullshitPath)\n",
        "    \n",
        "drive.mount('/content/drive', force_remount=True)\n",
        "os.chdir('/content/drive/MyDrive/PythonFiles')\n",
        "# print(f'cwd: {os.getcwd()}')\n",
        "\n",
        "\n",
        "colorPath = '/content/drive/BashColors.py'\n",
        "sourcePath = '/content/drive/MyDrive/BashColors.py'\n",
        "if not exists(colorPath):\n",
        "    shutil.copy2(sourcePath, contentPath)\n",
        "    from BashColors import C\n",
        "else:\n",
        "    print(f'{basename(colorPath)} exists')\n",
        "    from BashColors import C\n",
        "\n",
        "tpuPath = '/content/drive/GetColabTPU.py'\n",
        "sourcePath = '/content/drive/MyDrive/GetColabTPU.py'\n",
        "if not exists(tpuPath):\n",
        "    print(tpuPath)\n",
        "    shutil.copy2(sourcePath, contentPath)\n",
        "\n",
        "os.chdir(contentPath)\n",
        "\n",
        "\n",
        "class ColabDriveFiles:\n",
        "    '''List all files in Collab '''\n",
        "    from BashColors import C\n",
        "    def __init__(self):\n",
        "        print(f'{C.BGreen}ColabDriveFiles{C.ColorOff}')\n",
        "        self.cdf=ColabDriveFiles\n",
        "        self.contentPath=os.getcwd()\n",
        "        self.pythonFilesPath='/content/drive/MyDrive/PythonFiles'\n",
        "        self.developerReference='https://developers.google.com/drive/v2/web/search-parameters'\n",
        "        print(self.developerReference)\n",
        "\n",
        "    def __iter__(self):\n",
        "        return self\n",
        "\n",
        "    def __len__(self):\n",
        "        return len(self.name)\n",
        "\n",
        "    def __str__(self):\n",
        "        return \"%s(%r)\" % (self.__class__, self.__dict__)\n",
        "\n",
        "cdf=ColabDriveFiles()"
      ]
    },
    {
      "cell_type": "code",
      "source": [
        "\n",
        "from ColabDriveFiles_2 import *\n"
      ],
      "metadata": {
        "id": "T7sZMC_eoj1b"
      },
      "execution_count": null,
      "outputs": []
    },
    {
      "cell_type": "code",
      "source": [
        "from GetColabTPU import *\n"
      ],
      "metadata": {
        "id": "KzZh9krvG2Z8"
      },
      "execution_count": null,
      "outputs": []
    },
    {
      "cell_type": "code",
      "source": [
        "path=join(os.getcwd(), 'GetColabTPU.py')\n",
        "with open(path, 'r') as fil:\n",
        "    txt=fil.read()\n",
        "    print(txt)\n",
        "    fil.close()"
      ],
      "metadata": {
        "id": "E_dwvSSRSDh6"
      },
      "execution_count": null,
      "outputs": []
    },
    {
      "cell_type": "code",
      "source": [
        "cdf.__str__()"
      ],
      "metadata": {
        "id": "SKl6vx5pb4SS"
      },
      "execution_count": null,
      "outputs": []
    },
    {
      "cell_type": "code",
      "source": [
        "# Import PyDrive and associated libraries.\n",
        "# This only needs to be done once per notebook.\n",
        "from pydrive.auth import GoogleAuth\n",
        "from pydrive.drive import GoogleDrive\n",
        "from google.colab import auth\n",
        "from oauth2client.client import GoogleCredentials\n",
        "\n",
        "# Authenticate and create the PyDrive client.\n",
        "# This only needs to be done once per notebook.\n",
        "auth.authenticate_user()\n",
        "gauth = GoogleAuth()\n",
        "gauth.credentials = GoogleCredentials.get_application_default()\n",
        "drive = GoogleDrive(gauth)\n",
        "\n",
        "# List *.* files in the root.\n",
        "#\n",
        "# Search query reference:\n",
        "developerReference ='https://developers.google.com/drive/v2/web/search-parameters'\n",
        "listed = drive.ListFile({'q': \"title contains '*.*'\"}).GetList()\n",
        "for file in listed:\n",
        "    pass\n",
        "    fileName=str(file['title'])\n",
        "    fileId=str(file['id'])\n",
        "    print(fileName)\n",
        "    print(fileId)\n",
        "    # print('title {}'.format(file['title']))\n",
        "    # print('type {}'.format('mime_type'))\n",
        "    print('title {}, id {}'.format(file['title'], file['id']))\n",
        "    print()\n",
        "print(cdf.developerReference)"
      ],
      "metadata": {
        "id": "REueikOtLtj0"
      },
      "execution_count": null,
      "outputs": []
    },
    {
      "cell_type": "code",
      "source": [
        "from google.colab.patches import cv2_imshow"
      ],
      "metadata": {
        "id": "QscIUsOZQ83g"
      },
      "execution_count": null,
      "outputs": []
    },
    {
      "cell_type": "code",
      "source": [
        "# !curl -o logo.png https://colab.research.google.com/img/colab_favicon_256px.png\n",
        "import cv2\n",
        "img = cv2.imread('logo.png', cv2.IMREAD_UNCHANGED)\n",
        "cv2_imshow(img)"
      ],
      "metadata": {
        "id": "nk7xjKSdQ83m"
      },
      "execution_count": null,
      "outputs": []
    }
  ]
}