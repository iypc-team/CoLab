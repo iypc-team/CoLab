{
  "nbformat": 4,
  "nbformat_minor": 5,
  "metadata": {
    "kernelspec": {
      "display_name": "Python 3",
      "language": "python",
      "name": "python3"
    },
    "language_info": {
      "codemirror_mode": {
        "name": "ipython",
        "version": 3
      },
      "file_extension": ".py",
      "mimetype": "text/x-python",
      "name": "python",
      "nbconvert_exporter": "python",
      "pygments_lexer": "ipython3",
      "version": "3.7.10"
    },
    "colab": {
      "name": "Resize_PIL_Images.ipynb",
      "private_outputs": true,
      "provenance": [],
      "collapsed_sections": []
    }
  },
  "cells": [
    {
      "cell_type": "code",
      "metadata": {
        "id": "subjective-guest"
      },
      "source": [
        "from IPython.display import display, clear_output\n",
        "import time\n",
        "def sleepyTime():\n",
        "    count=0\n",
        "    try:\n",
        "        while count <= 120:\n",
        "            print(f'sleeping for {count} minutes')\n",
        "            time.sleep(60)\n",
        "            count+=1\n",
        "            if count % 5 == 0:\n",
        "                clear_output()\n",
        "    except KeyboardInterrupt:\n",
        "        clear_output()\n",
        "# sleepyTime()"
      ],
      "id": "subjective-guest",
      "execution_count": null,
      "outputs": []
    },
    {
      "cell_type": "code",
      "metadata": {
        "id": "specific-front"
      },
      "source": [
        "# sleepyTime()"
      ],
      "id": "specific-front",
      "execution_count": null,
      "outputs": []
    },
    {
      "cell_type": "code",
      "metadata": {
        "id": "caroline-language"
      },
      "source": [
        "from __future__ import absolute_import\n",
        "from IPython.display import display\n",
        "import glob, os, shutil\n",
        "from os.path import *\n",
        "\n",
        "try:\n",
        "    import PIL\n",
        "    from PIL import Image\n",
        "except ModuleNotFoundError as err:\n",
        "    %pip install pillow\n",
        "    import PIL\n",
        "    from PIL import Image\n",
        "\n",
        "contentPth = os.getcwd()\n",
        "tfImagesPth = os.path.join(contentPth, 'TensorflowImages')\n",
        "resizedImagesPth = os.path.join(contentPth, 'TensorflowResizedImages')\n",
        "\n",
        "if exists('/content/sample_data'):\n",
        "    shutil.rmtree(path='/content/sample_data')\n",
        "\n",
        "try:\n",
        "    from google.colab import drive\n",
        "    drive.flush_and_unmount()\n",
        "    drive.mount('gdrive', force_remount=True)\n",
        "    gdrivePth = join(contentPth, 'gdrive')\n",
        "    myDrivePth = join(gdrivePth, 'My Drive')\n",
        "    gdriveImagesPth = join(myDrivePth, 'TensorflowImages')\n",
        "    shutil.copytree(src=gdriveImagesPth,\n",
        "                    dst=tfImagesPth)\n",
        "except: pass\n",
        "\n",
        "if not exists(resizedImagesPth):\n",
        "    os.makedirs(resizedImagesPth)\n",
        "\n",
        "else: print(f'{resizedImagesPth} exists')"
      ],
      "id": "caroline-language",
      "execution_count": null,
      "outputs": []
    },
    {
      "cell_type": "code",
      "metadata": {
        "id": "finnish-rachel"
      },
      "source": [
        "if exists(tfImagesPth):\n",
        "    os.chdir(tfImagesPth)\n",
        "else:\n",
        "    print(os.getcwd())\n",
        "fileList=[]\n",
        "globFileList = glob.glob('**', recursive=True)\n",
        "for fil in sorted(globFileList):\n",
        "    if os.path.isfile(fil):\n",
        "        print(fil)\n",
        "        fileList.append(fil)\n",
        "print(len(fileList), 'files')"
      ],
      "id": "finnish-rachel",
      "execution_count": null,
      "outputs": []
    },
    {
      "cell_type": "code",
      "metadata": {
        "id": "consecutive-netscape"
      },
      "source": [
        "for fil in sorted(fileList):\n",
        "    # print(f'fil: {fil}')\n",
        "    filPth = os.path.join(tfImagesPth, fil)\n",
        "\n",
        "    im = Image.open(filPth) # Create an Image Object from an Image\n",
        "    # display(im) # Display actual image\n",
        "    resizedImg = im.resize(size=(224, 224))\n",
        "    display(resizedImg) # Display the resized imaged\n",
        "    \n",
        "    saveToPth = os.path.join(resizedImagesPth, fil)\n",
        "    print(f'saveToPth: {saveToPth}')\n",
        "    pathSeperate = os.path.split(saveToPth)\n",
        "    \n",
        "    if not os.path.exists(pathSeperate[0]):\n",
        "        print(pathSeperate[0])\n",
        "        os.mkdir(pathSeperate[0])\n",
        "        resizedImg.save(fp=saveToPth)\n",
        "    if os.path.exists(pathSeperate[0]):\n",
        "        resizedImg.save(fp=saveToPth)"
      ],
      "id": "consecutive-netscape",
      "execution_count": null,
      "outputs": []
    },
    {
      "cell_type": "code",
      "metadata": {
        "id": "mechanical-shipping"
      },
      "source": [
        "os.chdir(resizedImagesPth)\n",
        "\n",
        "globFileList=[]\n",
        "globFileList= glob.glob('**', recursive=True)\n",
        "for fil in sorted(globFileList):\n",
        "    fullPath = os.path.abspath(fil)\n",
        "    if os.path.isfile(fullPath):\n",
        "        print(fullPath)"
      ],
      "id": "mechanical-shipping",
      "execution_count": null,
      "outputs": []
    },
    {
      "cell_type": "code",
      "metadata": {
        "id": "positive-castle"
      },
      "source": [
        ""
      ],
      "id": "positive-castle",
      "execution_count": null,
      "outputs": []
    }
  ]
}