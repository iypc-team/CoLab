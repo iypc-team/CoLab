{
  "nbformat": 4,
  "nbformat_minor": 5,
  "metadata": {
    "colab": {
      "name": "Resize_PIL_Images.ipynb",
      "private_outputs": true,
      "provenance": [],
      "collapsed_sections": []
    },
    "kernelspec": {
      "display_name": "Python 3",
      "language": "python",
      "name": "python3"
    },
    "language_info": {
      "codemirror_mode": {
        "name": "ipython",
        "version": 3
      },
      "file_extension": ".py",
      "mimetype": "text/x-python",
      "name": "python",
      "nbconvert_exporter": "python",
      "pygments_lexer": "ipython3",
      "version": "3.7.10"
    }
  },
  "cells": [
    {
      "cell_type": "code",
      "metadata": {
        "id": "subjective-guest"
      },
      "source": [
        "from IPython.display import display, clear_output\n",
        "import time\n",
        "def sleepyTime():\n",
        "    count=0\n",
        "    try:\n",
        "        while count <= 120:\n",
        "            print(f'sleeping for {count} minutes')\n",
        "            time.sleep(60)\n",
        "            count+=1\n",
        "            if count % 5 == 0:\n",
        "                clear_output()\n",
        "    except KeyboardInterrupt:\n",
        "        clear_output()\n",
        "        \n",
        "# sleepyTime()"
      ],
      "id": "subjective-guest",
      "execution_count": null,
      "outputs": []
    },
    {
      "cell_type": "code",
      "metadata": {
        "id": "specific-front"
      },
      "source": [
        "# sleepyTime()\n",
        "# %pip install -U pillow"
      ],
      "id": "specific-front",
      "execution_count": null,
      "outputs": []
    },
    {
      "cell_type": "code",
      "metadata": {
        "id": "finnish-rachel"
      },
      "source": [
        "from __future__ import absolute_import\n",
        "from IPython.display import display\n",
        "import glob, os, shutil\n",
        "from os.path import *\n",
        "\n",
        "try:\n",
        "    import PIL\n",
        "    from PIL import Image\n",
        "    print('PIL:', PIL.__version__)\n",
        "\n",
        "except ModuleNotFoundError as err:\n",
        "    %pip install pillow\n",
        "    import PIL\n",
        "    from PIL import Image\n",
        "\n",
        "if exists('/content/sample_data'):\n",
        "    shutil.rmtree(path='/content/sample_data')\n",
        "\n",
        "contentPth = os.getcwd()\n",
        "tfImagesPth = os.path.join(contentPth, 'TensorflowImages')\n",
        "resizedImagesPth = os.path.join(contentPth, 'TensorflowResizedImages')\n",
        "\n",
        "try:\n",
        "    from google.colab import drive, files\n",
        "    drive.flush_and_unmount()\n",
        "    drive.mount('gdrive', force_remount=True)\n",
        "    gdrivePth = join(contentPth, 'gdrive')\n",
        "    myDrivePth = join(gdrivePth, 'My Drive')\n",
        "    gdriveImagesPth = join(myDrivePth, 'TensorflowImages')\n",
        "    os.chdir(myDrivePth)\n",
        "    from BashColors import C\n",
        "    from TarfileFunctions import *\n",
        "    os.chdir(contentPth)\n",
        "\n",
        "    if not exists(tfImagesPth):\n",
        "        shutil.copytree(src=gdriveImagesPth,dst=tfImagesPth)\n",
        "\n",
        "    if not exists(resizedImagesPth):\n",
        "        os.makedirs(resizedImagesPth)\n",
        "\n",
        "except:\n",
        "    os.chdir(contentPth)\n",
        "    from BashColors import C\n",
        "    from TarfileFunctions import *\n",
        "    \n",
        "    if not exists(tfImagesPth):\n",
        "        tff.extractTarfiles(fileName='Jovyan_Defcon_Images.tar.gz')\n",
        "        \n",
        "    if not exists(resizedImagesPth):\n",
        "        os.makedirs(resizedImagesPth)\n",
        "\n",
        "os.chdir(contentPth)\n",
        "originalFileList=[]\n",
        "newFilesList=[]\n",
        "globFileList=[]\n",
        "\n",
        "os.chdir(tfImagesPth)\n",
        "globFileList = glob.glob('**', recursive=True)\n",
        "for fil in sorted(globFileList):\n",
        "    if os.path.isfile(fil):\n",
        "        fullPath=abspath(fil)\n",
        "        originalFileList.append(fullPath)\n",
        "print(len(originalFileList), 'files in originalFileList')\n",
        "os.chdir(contentPth)"
      ],
      "id": "finnish-rachel",
      "execution_count": null,
      "outputs": []
    },
    {
      "cell_type": "code",
      "metadata": {
        "id": "consecutive-netscape"
      },
      "source": [
        "\n",
        "for fil in sorted(originalFileList):\n",
        "    img=None\n",
        "    # print(f'fil: {fil}')\n",
        "    filPth = os.path.join(tfImagesPth, fil)\n",
        "    # print(filPth)\n",
        "\n",
        "    img = Image.open(filPth) # Create an Image Object from an Image\n",
        "    resizedImg = img.resize(size=(224, 224))\n",
        "    \n",
        "    saveToPth = os.path.join(resizedImagesPth, fil)\n",
        "    pathSeperate = os.path.split(saveToPth)\n",
        "    subDir = pathSeperate[0]\n",
        "    img.close()\n",
        "    \n",
        "    if not os.path.exists(subDir):\n",
        "        # print(subDir)\n",
        "        os.mkdir(subDir)\n",
        "\n",
        "    if not saveToPth in newFilesList:\n",
        "        resizedImg.save(fp=saveToPth)\n",
        "        newFilesList.append(saveToPth)\n",
        "        \n",
        "    print(f'{basename(saveToPth)}')\n",
        "    display(resizedImg) # Display the resized imaged\n",
        "    print(f'save to path: {C.IGreen}{saveToPth}{C.ColorOff}\\n')\n",
        "\n",
        "        \n",
        "print(f'newFilesList: {len(newFilesList)} images')"
      ],
      "id": "consecutive-netscape",
      "execution_count": null,
      "outputs": []
    },
    {
      "cell_type": "code",
      "metadata": {
        "id": "valid-sunglasses"
      },
      "source": [
        "print(f'newFilesList: {len(newFilesList)} images\\n')\n",
        "for item in sorted(originalFileList):\n",
        "    img=None\n",
        "    img = Image.open(item) # load the image\n",
        "    horizontalFlip = img.transpose(Image.FLIP_LEFT_RIGHT)\n",
        "\n",
        "    splitPath=split(img.filename)\n",
        "    fileName = 'horz_flip_' + splitPath[1]\n",
        "    saveToPth = join(splitPath[0], fileName)\n",
        "    img.close()\n",
        "\n",
        "    if not saveToPth in newFilesList:\n",
        "        horizontalFlip.save(fp=saveToPth)\n",
        "        newFilesList.append(saveToPth)\n",
        "        \n",
        "    print(basename(saveToPth))\n",
        "    display(horizontalFlip)"
      ],
      "id": "valid-sunglasses",
      "execution_count": null,
      "outputs": []
    },
    {
      "cell_type": "code",
      "metadata": {
        "id": "manufactured-library"
      },
      "source": [
        "for item in sorted(originalFileList):\n",
        "    img=None\n",
        "    img = Image.open(item) # load the image\n",
        "    verticalFlip = img.transpose(Image.FLIP_TOP_BOTTOM)\n",
        "\n",
        "    splitPath=split(img.filename)\n",
        "    fileName = 'vert_flip_' + splitPath[1]\n",
        "    saveToPth = join(splitPath[0], fileName)\n",
        "    img.close()\n",
        "\n",
        "    if not saveToPth in newFilesList:\n",
        "        verticalFlip.save(fp=saveToPth)\n",
        "        newFilesList.append(saveToPth)\n",
        "    \n",
        "    print(basename(saveToPth))\n",
        "    display(verticalFlip)\n",
        "print(f'newFilesList: {len(newFilesList)} images')"
      ],
      "id": "manufactured-library",
      "execution_count": null,
      "outputs": []
    },
    {
      "cell_type": "code",
      "metadata": {
        "id": "individual-division"
      },
      "source": [
        "\n",
        "print(f'newFilesList: {len(newFilesList)} images')\n",
        "q\n",
        "for imagePath in sorted(newFilesList):\n",
        "    img=None\n",
        "    img = Image.open(fp=imagePath)\n",
        "    img = img.rotate(angle=90)\n",
        "    print(basename(imagePath))\n",
        "    print(imagePath)\n",
        "    print()\n",
        "    \n",
        "    display(img)\n",
        "\n",
        "print(f'newFilesList: {len(newFilesList)} images')"
      ],
      "id": "individual-division",
      "execution_count": null,
      "outputs": []
    },
    {
      "cell_type": "code",
      "metadata": {
        "id": "positive-castle"
      },
      "source": [
        "print(f'newFilesList: {len(newFilesList)} images')\n",
        "for item in sorted(newFilesList):\n",
        "    img = Image.open(item) # load the image\n",
        "    print(basename(item))\n",
        "    print(f'{image.filename}')\n",
        "    print(f'format:{image.format}\\tmode:{image.mode}\\tsize:{image.size}\\n')\n",
        "    img.close()"
      ],
      "id": "positive-castle",
      "execution_count": null,
      "outputs": []
    },
    {
      "cell_type": "code",
      "metadata": {
        "id": "DdgtiE0msEqk"
      },
      "source": [
        "print(f'newFilesList: {len(newFilesList)} images')\n",
        "q\n",
        "os.chdir(contentPth)\n",
        "tff.tarfileFromDirectory('Defcon_Augmented_Images.tar.gz',\n",
        "                         resizedImagesPth)\n",
        "tff.listTarfiles()"
      ],
      "id": "DdgtiE0msEqk",
      "execution_count": null,
      "outputs": []
    }
  ]
}