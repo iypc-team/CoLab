{
  "nbformat": 4,
  "nbformat_minor": 5,
  "metadata": {
    "colab": {
      "name": "Resize_PIL_Images.ipynb",
      "private_outputs": true,
      "provenance": [],
      "collapsed_sections": []
    },
    "kernelspec": {
      "display_name": "Python 3",
      "language": "python",
      "name": "python3"
    },
    "language_info": {
      "codemirror_mode": {
        "name": "ipython",
        "version": 3
      },
      "file_extension": ".py",
      "mimetype": "text/x-python",
      "name": "python",
      "nbconvert_exporter": "python",
      "pygments_lexer": "ipython3",
      "version": "3.7.10"
    }
  },
  "cells": [
    {
      "cell_type": "code",
      "metadata": {
        "id": "subjective-guest"
      },
      "source": [
        "from IPython.display import display, clear_output\n",
        "import time\n",
        "def sleepyTime():\n",
        "    count=0\n",
        "    try:\n",
        "        while count <= 120:\n",
        "            print(f'sleeping for {count} minutes')\n",
        "            time.sleep(60)\n",
        "            count+=1\n",
        "            if count % 5 == 0:\n",
        "                clear_output()\n",
        "    except KeyboardInterrupt:\n",
        "        clear_output()\n",
        "# sleepyTime()"
      ],
      "id": "subjective-guest",
      "execution_count": null,
      "outputs": []
    },
    {
      "cell_type": "code",
      "metadata": {
        "id": "specific-front"
      },
      "source": [
        "# sleepyTime()"
      ],
      "id": "specific-front",
      "execution_count": null,
      "outputs": []
    },
    {
      "cell_type": "code",
      "metadata": {
        "id": "finnish-rachel"
      },
      "source": [
        "from __future__ import absolute_import\n",
        "from IPython.display import display\n",
        "import glob, os, shutil\n",
        "from os.path import *\n",
        "\n",
        "try:\n",
        "    import PIL\n",
        "    from PIL import Image\n",
        "    print('PIL:', PIL.__version__)\n",
        "    # colab version == 7.1.2\n",
        "except ModuleNotFoundError as err:\n",
        "    %pip install pillow\n",
        "    import PIL\n",
        "    from PIL import Image\n",
        "\n",
        "if exists('/content/sample_data'):\n",
        "    shutil.rmtree(path='/content/sample_data')\n",
        "\n",
        "contentPth = os.getcwd()\n",
        "tfImagesPth = os.path.join(contentPth, 'TensorflowImages')\n",
        "resizedImagesPth = os.path.join(contentPth, 'TensorflowResizedImages')\n",
        "bs='''\n",
        "if exists(tfImagesPth):\n",
        "    shutil.rmtree(tfImagesPth)\n",
        "else: pass\n",
        "if exists(resizedImagesPth):\n",
        "    shutil.rmtree(resizedImagesPth)\n",
        "else: pass\n",
        "'''\n",
        "try:\n",
        "    from google.colab import drive, files\n",
        "    drive.flush_and_unmount()\n",
        "    drive.mount('gdrive', force_remount=True)\n",
        "    gdrivePth = join(contentPth, 'gdrive')\n",
        "    myDrivePth = join(gdrivePth, 'My Drive')\n",
        "    gdriveImagesPth = join(myDrivePth, 'TensorflowImages')\n",
        "    os.chdir(myDrivePth)\n",
        "    from BashColors import C\n",
        "    from TarfileFunctions import *\n",
        "\n",
        "    if not exists(tfImagesPth):\n",
        "        shutil.copytree(src=gdriveImagesPth,dst=tfImagesPth)\n",
        "    else: print('exists')\n",
        "    if not exists(resizedImagesPth):\n",
        "        os.makedirs(resizedImagesPth)\n",
        "except:\n",
        "    os.chdir(contentPth)\n",
        "    from BashColors import C\n",
        "    from TarfileFunctions import *\n",
        "    tff.listTarfiles()\n",
        "    tff.extractTarfiles(fileName='Defcon_Images.tar.gz')\n",
        "    if not exists(resizedImagesPth):\n",
        "        os.makedirs(resizedImagesPth)\n",
        "    \n",
        "originalFileList=[]\n",
        "newFilesList=[]\n",
        "globFileList=[]\n",
        "\n",
        "os.chdir(tfImagesPth)\n",
        "globFileList = glob.glob('**', recursive=True)\n",
        "for fil in sorted(globFileList):\n",
        "    if os.path.isfile(fil):\n",
        "        # print(fil)\n",
        "        originalFileList.append(fil)\n",
        "print(len(originalFileList), 'files in originalFileList')"
      ],
      "id": "finnish-rachel",
      "execution_count": null,
      "outputs": []
    },
    {
      "cell_type": "code",
      "metadata": {
        "id": "YNqVR0at5ZD5"
      },
      "source": [
        "\n",
        "removeList = ['tfImagesPth', 'resizedImagesPth']\n",
        "removeList=[]\n",
        "\n",
        "def removeDirectory(path):\n",
        "    files.view(contentPth)\n",
        "    print(f'removed: {path}')\n",
        "    if exists(path):\n",
        "        try:\n",
        "            shutil.rmtree(path)\n",
        "        except BaseException as err:\n",
        "            print(err)\n",
        "\n",
        "for thisPath in removeList:\n",
        "    removeDirectory(path=thisPath)"
      ],
      "id": "YNqVR0at5ZD5",
      "execution_count": null,
      "outputs": []
    },
    {
      "cell_type": "code",
      "metadata": {
        "id": "consecutive-netscape"
      },
      "source": [
        "for fil in sorted(originalFileList):\n",
        "    # print(f'fil: {fil}')\n",
        "    filPth = os.path.join(tfImagesPth, fil)\n",
        "    # print(filPth)\n",
        "\n",
        "    im = Image.open(filPth) # Create an Image Object from an Image\n",
        "    # display(im) # Display actual image\n",
        "    resizedImg = im.resize(size=(224, 224))\n",
        "    display(resizedImg) # Display the resized imaged\n",
        "    \n",
        "    saveToPth = os.path.join(resizedImagesPth, fil)\n",
        "    print(f'saveToPth: {saveToPth}')\n",
        "    pathSeperate = os.path.split(saveToPth)\n",
        "    subDir = pathSeperate[0]\n",
        "    \n",
        "    if not os.path.exists(subDir):\n",
        "        # print(subDir)\n",
        "        os.mkdir(subDir)\n",
        "\n",
        "    if not saveToPth in newFilesList:\n",
        "        resizedImg.save(fp=saveToPth)\n",
        "        newFilesList.append(saveToPth)\n",
        "        \n",
        "print(len(newFilesList))"
      ],
      "id": "consecutive-netscape",
      "execution_count": null,
      "outputs": []
    },
    {
      "cell_type": "code",
      "metadata": {
        "id": "mechanical-shipping"
      },
      "source": [
        "os.chdir(resizedImagesPth)\n",
        "globFileList=[]\n",
        "globFileList = glob.glob('**', recursive=True)\n",
        "for fil in sorted(globFileList):\n",
        "    fullPath = os.path.abspath(fil)\n",
        "    if os.path.isfile(fullPath):\n",
        "        # newFilesList.append(fullPath)\n",
        "        print(fullPath)"
      ],
      "id": "mechanical-shipping",
      "execution_count": null,
      "outputs": []
    },
    {
      "cell_type": "code",
      "metadata": {
        "id": "positive-castle"
      },
      "source": [
        "for item in sorted(newFilesList):\n",
        "    image = Image.open(item) # load the image\n",
        "    print(basename(item))\n",
        "    print(f'{image.filename}')\n",
        "    print(f'format:{image.format}   mode:{image.mode}   size:{image.size}\\n')\n",
        "    # display(image)"
      ],
      "id": "positive-castle",
      "execution_count": null,
      "outputs": []
    },
    {
      "cell_type": "code",
      "metadata": {
        "id": "manufactured-library"
      },
      "source": [
        "print(len(originalFileList))\n",
        "print(len(newFilesList))\n",
        "for item in sorted(originalFileList):\n",
        "    image = Image.open(item) # load the image\n",
        "    horizontalFlip = image.transpose(Image.FLIP_LEFT_RIGHT)\n",
        "    splitPath=split(image.filename)\n",
        "    fileName = 'horz_flip_' + splitPath[1]\n",
        "    saveToPth = join(splitPath[0], fileName)\n",
        "    if not saveToPth in newFilesList:\n",
        "            horizontalFlip.save(fp=saveToPth)\n",
        "            newFilesList.append(saveToPth)\n",
        "            \n",
        "\n",
        "    \n",
        "    verticalFlip = image.transpose(Image.FLIP_TOP_BOTTOM)\n",
        "    splitPath=split(image.filename)\n",
        "    fileName = 'vert_flip_' + splitPath[1]\n",
        "    saveToPth = join(splitPath[0], fileName)\n",
        "    if not saveToPth in newFilesList:\n",
        "            verticalFlip.save(fp=saveToPth)\n",
        "            newFilesList.append(saveToPth)\n",
        "    \n",
        "    print(f'{verticalFlip}')\n",
        "    # display(image)\n",
        "    display(horizontalFlip)\n",
        "    display(verticalFlip)\n",
        "print(len(newFilesList))"
      ],
      "id": "manufactured-library",
      "execution_count": null,
      "outputs": []
    },
    {
      "cell_type": "code",
      "metadata": {
        "id": "DdgtiE0msEqk"
      },
      "source": [
        "q"
      ],
      "id": "DdgtiE0msEqk",
      "execution_count": null,
      "outputs": []
    }
  ]
}