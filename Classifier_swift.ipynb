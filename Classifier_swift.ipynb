{
  "nbformat": 4,
  "nbformat_minor": 0,
  "metadata": {
    "colab": {
      "name": "Classifier_swift.ipynb",
      "version": "0.3.2",
      "provenance": [],
      "private_outputs": true,
      "collapsed_sections": [],
      "include_colab_link": true
    },
    "kernelspec": {
      "name": "swift",
      "display_name": "Swift"
    }
  },
  "cells": [
    {
      "cell_type": "markdown",
      "metadata": {
        "id": "view-in-github",
        "colab_type": "text"
      },
      "source": [
        "<a href=\"https://colab.research.google.com/github/iypc-team/CoLab/blob/master/Classifier_swift.ipynb\" target=\"_parent\"><img src=\"https://colab.research.google.com/assets/colab-badge.svg\" alt=\"Open In Colab\"/></a>"
      ]
    },
    {
      "cell_type": "code",
      "metadata": {
        "id": "EgI0gsf6IuoT",
        "colab_type": "code",
        "colab": {}
      },
      "source": [
        "\n",
        "import TensorFlow\n",
        "\n",
        "//  let classifier = MIPClassifier()\n",
        "\n",
        "struct MIPClassifier {\n",
        "  var w1 = Tensor<Float>(repeating: 0.1, shape: [2, 4])\n",
        "  var w2 = Tensor<Float>(shape: [4, 1], scalars: [0.4, -0.5, -0.5, 0.4])\n",
        "  var b1 = Tensor<Float>([0.2, 0.3, 0.3, 0.2])\n",
        "  var b2 = Tensor<Float>([[0.4]])\n",
        "  func prediction(for x: Tensor<Float>) -> Tensor<Float> {\n",
        "    let o1 = tanh(matmul(x, w1) + b1)\n",
        "    \n",
        "    return tanh(matmul(o1, classifier.w2) + classifier.b2)\n",
        "  }\n",
        "}\n",
        "\n",
        "let input = Tensor<Float>([[0.2, 0.8]])\n",
        "let classifier = MIPClassifier()\n",
        "//. let prediction = classifier.prediction(for: input)\n",
        "print(prediction(for: input))\n"
      ],
      "execution_count": 0,
      "outputs": []
    }
  ]
}
