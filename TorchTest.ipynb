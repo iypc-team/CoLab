{
  "nbformat": 4,
  "nbformat_minor": 0,
  "metadata": {
    "colab": {
      "name": "TorchTest.ipynb",
      "provenance": [],
      "private_outputs": true,
      "collapsed_sections": [],
      "include_colab_link": true
    },
    "kernelspec": {
      "name": "python3",
      "display_name": "Python 3"
    }
  },
  "cells": [
    {
      "cell_type": "markdown",
      "metadata": {
        "id": "view-in-github",
        "colab_type": "text"
      },
      "source": [
        "<a href=\"https://colab.research.google.com/github/iypc-team/CoLab/blob/master/TorchTest.ipynb\" target=\"_parent\"><img src=\"https://colab.research.google.com/assets/colab-badge.svg\" alt=\"Open In Colab\"/></a>"
      ]
    },
    {
      "cell_type": "code",
      "metadata": {
        "id": "jCHQvXrv2lTy",
        "colab_type": "code",
        "colab": {}
      },
      "source": [
        "!pip3 install torch"
      ],
      "execution_count": 0,
      "outputs": []
    },
    {
      "cell_type": "code",
      "metadata": {
        "id": "Zbk_KR6r27Ox",
        "colab_type": "code",
        "colab": {}
      },
      "source": [
        "\n",
        "import gym\n",
        "import numpy as np\n",
        "import torch.nn as nn\n",
        "import torch.nn.functional as F\n",
        "import torch.optim as optim\n",
        "import torch as T\n"
      ],
      "execution_count": 0,
      "outputs": []
    },
    {
      "cell_type": "code",
      "metadata": {
        "id": "KQVVTd4w6KQp",
        "colab_type": "code",
        "colab": {}
      },
      "source": [
        "from gym import envs\n",
        "allEnvironments = envs.registry.all()\n",
        "nextEnv = 0\n",
        "for e in allEnvironments:\n",
        "    print(e.id)\n",
        "    print(\"entry_point:\", e.entry_point)\n",
        "    print(\"max_episode_steps:\", e.max_episode_steps)\n",
        "    print(\"reward_threshold:\", e.reward_threshold)\n",
        "    print(\"nondeterministic:\", e.nondeterministic)\n",
        "    print(\"tags:\", e.tags)\n",
        "    envNamed = [env_spec.id for env_spec in allEnvironments]\n",
        "    newEnv = gym.make(envNamed[nextEnv])\n",
        "\n",
        "    nextEnv += 1\n",
        "    print()"
      ],
      "execution_count": 0,
      "outputs": []
    },
    {
      "cell_type": "code",
      "metadata": {
        "id": "Dmy-ol2AlgCI",
        "colab_type": "code",
        "colab": {}
      },
      "source": [
        ""
      ],
      "execution_count": 0,
      "outputs": []
    }
  ]
}