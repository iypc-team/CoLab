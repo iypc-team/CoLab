{
  "nbformat": 4,
  "nbformat_minor": 0,
  "metadata": {
    "colab": {
      "name": "GetLocalFiles.ipynb",
      "provenance": [],
      "collapsed_sections": [],
      "authorship_tag": "ABX9TyOiGJZx7KF7Z2D1N8H0zfxA",
      "include_colab_link": true
    },
    "kernelspec": {
      "name": "python3",
      "display_name": "Python 3"
    }
  },
  "cells": [
    {
      "cell_type": "markdown",
      "metadata": {
        "id": "view-in-github",
        "colab_type": "text"
      },
      "source": [
        "<a href=\"https://colab.research.google.com/github/iypc-team/CoLab/blob/master/GetLocalFiles.ipynb\" target=\"_parent\"><img src=\"https://colab.research.google.com/assets/colab-badge.svg\" alt=\"Open In Colab\"/></a>"
      ]
    },
    {
      "cell_type": "code",
      "metadata": {
        "id": "-njeJe-2IvDZ",
        "colab_type": "code",
        "colab": {}
      },
      "source": [
        "import glob, os, pathlib\n",
        "from os.path import *\n",
        "from pathlib import Path\n",
        "\n",
        "cwdPath = realpath(curdir)\n",
        "os.chdir(cwdPath)\n",
        "print(f'working directory: {realpath(curdir)}')\n",
        "\n",
        "allFiles = glob.glob('**', recursive=True) \n",
        "print(f'{len(allFiles)} files')"
      ],
      "execution_count": null,
      "outputs": []
    },
    {
      "cell_type": "code",
      "metadata": {
        "id": "i-vc_SBaN6Cd",
        "colab_type": "code",
        "colab": {}
      },
      "source": [
        "allFilesDictionary = {}\n",
        "fileCount = 0\n",
        "for fil in allFiles:\n",
        "    fullPath = Path(realpath(fil)) \n",
        "    if isdir(fullPath):\n",
        "        print(f'\\n{fullPath}')\n",
        "    elif isfile(fullPath):\n",
        "        fileCount += 1\n",
        "        allFilesDictionary[fileCount] = fullPath\n",
        "        print(f'{fileCount}. {fullPath.name}')"
      ],
      "execution_count": null,
      "outputs": []
    },
    {
      "cell_type": "code",
      "metadata": {
        "id": "Xk44Dcz3N7ID",
        "colab_type": "code",
        "colab": {}
      },
      "source": [
        "selection = int(input('selection: ')) \n",
        "if selection <= len(allFilesDictionary) and selection > 0:\n",
        "    pth = allFilesDictionary[selection]\n",
        "    print(f'{pth}\\n')\n",
        "\n",
        "with open(pth, 'r') as openFile:\n",
        "    txt = openFile.read()\n",
        "    print(f'{txt}')"
      ],
      "execution_count": null,
      "outputs": []
    }
  ]
}