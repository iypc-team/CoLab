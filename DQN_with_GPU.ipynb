{
  "nbformat": 4,
  "nbformat_minor": 0,
  "metadata": {
    "colab": {
      "name": "DQN with GPU",
      "provenance": [],
      "private_outputs": true,
      "collapsed_sections": [],
      "include_colab_link": true
    },
    "kernelspec": {
      "name": "python3",
      "display_name": "Python 3"
    },
    "accelerator": "GPU"
  },
  "cells": [
    {
      "cell_type": "markdown",
      "metadata": {
        "id": "view-in-github",
        "colab_type": "text"
      },
      "source": [
        "<a href=\"https://colab.research.google.com/github/iypc-team/CoLab/blob/master/DQN_with_GPU.ipynb\" target=\"_parent\"><img src=\"https://colab.research.google.com/assets/colab-badge.svg\" alt=\"Open In Colab\"/></a>"
      ]
    },
    {
      "cell_type": "code",
      "metadata": {
        "id": "ztj21m444HmO",
        "colab_type": "code",
        "colab": {}
      },
      "source": [
        "!pip install tensorflow-gpu==2.0.0\n",
        "print('\\n', \"Success\")"
      ],
      "execution_count": 0,
      "outputs": []
    },
    {
      "cell_type": "code",
      "metadata": {
        "colab_type": "code",
        "id": "3IEVK-KFxi5Z",
        "colab": {}
      },
      "source": [
        "from __future__ import absolute_import, division, print_function\n",
        "import os\n",
        "import tensorflow.compat.v1 as tf\n",
        "import numpy as np\n",
        "\n",
        "gpu_name = tf.test.gpu_device_name()\n",
        "if gpu_name:\n",
        "    print(\"tf version:\", tf.__version__)\n",
        "    print(\"np version:\", np.__version__)\n",
        "    print('Found GPU at: {}'.format(gpu_name))\n",
        "else:\n",
        "    raise SystemError('GPU:0 not found')"
      ],
      "execution_count": 0,
      "outputs": []
    },
    {
      "cell_type": "code",
      "metadata": {
        "id": "qbfqyL6itZrK",
        "colab_type": "code",
        "colab": {}
      },
      "source": [
        "class DeepQNetwork(object):\n",
        "    def __init__(self, lr, n_actions, name, input_dims,\n",
        "                 fc1_dims=256, fc2_dims=256, chkpt_dir='tmp/dqn'):\n",
        "        self.lr = lr  # Learning rate \n",
        "        self.n_actions = n_actions\n",
        "        self.name = name\n",
        "        self.input_dims = input_dims\n",
        "        self.fc1_dims = fc1_dims\n",
        "        self.fc2_dims = fc2_dims\n",
        "        self.chkpt_dir = chkpt_dir\n",
        "        self.sess = tf.Session()\n",
        "        self.BuildNetwork()\n",
        "        self.sess.run(tf.global_variables_initializer())\n",
        "\n",
        "\n",
        "    \n",
        "    def BuildNetwork(self):\n",
        "        print(\"Building Network\")"
      ],
      "execution_count": 0,
      "outputs": []
    },
    {
      "cell_type": "code",
      "metadata": {
        "id": "3M6dk-s0F9HA",
        "colab_type": "code",
        "colab": {}
      },
      "source": [
        "deviceList = tf.config.experimental_list_devices()\n",
        "for thisDevice in deviceList:\n",
        "    if tf.test.gpu_device_name():\n",
        "        print(thisDevice)"
      ],
      "execution_count": 0,
      "outputs": []
    },
    {
      "cell_type": "code",
      "metadata": {
        "id": "zv3pzSCz_XOK",
        "colab_type": "code",
        "colab": {}
      },
      "source": [
        "with tf.device(deviceList[3]):\n",
        "    name = gpu_name\n",
        "    print(\"gpu:\", name)\n",
        "    DeepQNetwork(lr=1e-3, n_actions=10, name=\"DQN\", input_dims=1)"
      ],
      "execution_count": 0,
      "outputs": []
    }
  ]
}