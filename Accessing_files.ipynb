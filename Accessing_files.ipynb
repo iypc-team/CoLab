{
  "nbformat": 4,
  "nbformat_minor": 0,
  "metadata": {
    "colab": {
      "name": "Accessing files",
      "provenance": [],
      "collapsed_sections": [],
      "include_colab_link": true
    },
    "kernelspec": {
      "display_name": "Python 3",
      "name": "python3"
    }
  },
  "cells": [
    {
      "cell_type": "markdown",
      "metadata": {
        "id": "view-in-github",
        "colab_type": "text"
      },
      "source": [
        "<a href=\"https://colab.research.google.com/github/iypc-team/CoLab/blob/master/Accessing_files.ipynb\" target=\"_parent\"><img src=\"https://colab.research.google.com/assets/colab-badge.svg\" alt=\"Open In Colab\"/></a>"
      ]
    },
    {
      "cell_type": "code",
      "metadata": {
        "id": "7BennXFPGxsv",
        "colab_type": "code",
        "colab": {}
      },
      "source": [
        "import glob, os, pathlib\n",
        "from os.path import *\n",
        "from pathlib import Path"
      ],
      "execution_count": 0,
      "outputs": []
    },
    {
      "cell_type": "code",
      "metadata": {
        "colab_type": "code",
        "id": "7-JR7WQ5O70X",
        "colab": {
          "base_uri": "https://localhost:8080/",
          "height": 191
        },
        "outputId": "a8bd89e0-0d9f-4b4f-a796-b48ddff5f196"
      },
      "source": [
        "#   Open files from Google Drive\n",
        "from google.colab import drive\n",
        "drive.mount('/gdrive')\n",
        "%cd /gdrive\n",
        "files = glob.glob('**', recursive=True)"
      ],
      "execution_count": 1,
      "outputs": [
        {
          "output_type": "stream",
          "text": [
            "Go to this URL in a browser: https://accounts.google.com/o/oauth2/auth?client_id=947318989803-6bn6qk8qdgf4n4g3pfee6491hc0brc4i.apps.googleusercontent.com&redirect_uri=urn%3aietf%3awg%3aoauth%3a2.0%3aoob&response_type=code&scope=email%20https%3a%2f%2fwww.googleapis.com%2fauth%2fdocs.test%20https%3a%2f%2fwww.googleapis.com%2fauth%2fdrive%20https%3a%2f%2fwww.googleapis.com%2fauth%2fdrive.photos.readonly%20https%3a%2f%2fwww.googleapis.com%2fauth%2fpeopleapi.readonly\n",
            "\n",
            "Enter your authorization code:\n",
            "··········\n",
            "Mounted at /gdrive\n",
            "/gdrive\n"
          ],
          "name": "stdout"
        }
      ]
    },
    {
      "cell_type": "code",
      "metadata": {
        "id": "9RbzcLbXHqNS",
        "colab_type": "code",
        "colab": {
          "base_uri": "https://localhost:8080/",
          "height": 1000
        },
        "outputId": "43a78c0f-5256-4014-ab24-99d8e95819b0"
      },
      "source": [
        "\n",
        "fileCount = 0\n",
        "for fil in files:\n",
        "    fullPath = Path(realpath(fil))\n",
        "    if isdir(fullPath):\n",
        "        print()\n",
        "        print(fullPath)\n",
        "    elif isfile(fullPath):\n",
        "        fileCount += 1\n",
        "        fileStats = fullPath.stat()\n",
        "        print(fileCount, '.', fullPath.name)\n",
        "        print(fileStats)"
      ],
      "execution_count": 18,
      "outputs": [
        {
          "output_type": "stream",
          "text": [
            "\n",
            "/gdrive/My Drive\n",
            "\n",
            "/gdrive/My Drive/Swift\n",
            "1 . Python_swift.ipynb\n",
            "os.stat_result(st_mode=33152, st_ino=37, st_dev=82, st_nlink=1, st_uid=0, st_gid=0, st_size=704, st_atime=1562253721, st_mtime=1560637961, st_ctime=1560637961)\n",
            "2 . Swift for TensorFlow\n",
            "os.stat_result(st_mode=33152, st_ino=38, st_dev=82, st_nlink=1, st_uid=0, st_gid=0, st_size=59549, st_atime=1571715248, st_mtime=1561408671, st_ctime=1561408671)\n",
            "3 . Python_Integration_swift (1).ipynb\n",
            "os.stat_result(st_mode=33152, st_ino=39, st_dev=82, st_nlink=1, st_uid=0, st_gid=0, st_size=2535, st_atime=1564520217, st_mtime=1564520217, st_ctime=1564520217)\n",
            "4 . blank_swift.ipynb\n",
            "os.stat_result(st_mode=33152, st_ino=40, st_dev=82, st_nlink=1, st_uid=0, st_gid=0, st_size=459, st_atime=1572310226, st_mtime=1564524417, st_ctime=1564524417)\n",
            "5 . Differentiable_swift (1).ipynb\n",
            "os.stat_result(st_mode=33152, st_ino=41, st_dev=82, st_nlink=1, st_uid=0, st_gid=0, st_size=1976, st_atime=1566668839, st_mtime=1566668839, st_ctime=1566668839)\n",
            "6 . Network_swift (1).ipynb\n",
            "os.stat_result(st_mode=33152, st_ino=42, st_dev=82, st_nlink=1, st_uid=0, st_gid=0, st_size=1418, st_atime=1566671483, st_mtime=1566671483, st_ctime=1566671483)\n",
            "7 . Downloads_swift.ipynb\n",
            "os.stat_result(st_mode=33152, st_ino=43, st_dev=82, st_nlink=1, st_uid=0, st_gid=0, st_size=3809, st_atime=1571246864, st_mtime=1571246864, st_ctime=1571246864)\n",
            "8 . Python_Integration_swift.ipynb\n",
            "os.stat_result(st_mode=33152, st_ino=44, st_dev=82, st_nlink=1, st_uid=0, st_gid=0, st_size=3978, st_atime=1571328964, st_mtime=1571328964, st_ctime=1571328964)\n",
            "9 . Network_swift.ipynb\n",
            "os.stat_result(st_mode=33152, st_ino=45, st_dev=82, st_nlink=1, st_uid=0, st_gid=0, st_size=587, st_atime=1571332565, st_mtime=1571332565, st_ctime=1571332565)\n",
            "10 . Celsius-swift.ipynb\n",
            "os.stat_result(st_mode=33152, st_ino=46, st_dev=82, st_nlink=1, st_uid=0, st_gid=0, st_size=2524, st_atime=1571413881, st_mtime=1571413881, st_ctime=1571413881)\n",
            "11 . Differentiable_swift.ipynb\n",
            "os.stat_result(st_mode=33152, st_ino=47, st_dev=82, st_nlink=1, st_uid=0, st_gid=0, st_size=1343, st_atime=1572307404, st_mtime=1572307404, st_ctime=1572307404)\n",
            "\n",
            "/gdrive/My Drive/Colab Notebooks\n",
            "\n",
            "/gdrive/My Drive/Colab Notebooks/Python\n",
            "12 . TensorFlow with TPU\n",
            "os.stat_result(st_mode=33152, st_ino=114, st_dev=82, st_nlink=1, st_uid=0, st_gid=0, st_size=8771, st_atime=1571717417, st_mtime=1558623824, st_ctime=1558623824)\n",
            "13 . REINFORCE Learning Tutorial.ipynb\n",
            "os.stat_result(st_mode=33152, st_ino=115, st_dev=82, st_nlink=1, st_uid=0, st_gid=0, st_size=10034, st_atime=1561832688, st_mtime=1561832688, st_ctime=1561832688)\n",
            "14 . External data: Google Drive\n",
            "os.stat_result(st_mode=33152, st_ino=116, st_dev=82, st_nlink=1, st_uid=0, st_gid=0, st_size=33030, st_atime=1572310157, st_mtime=1562354843, st_ctime=1562354843)\n",
            "15 . REINFORCE Tutorial.ipynb\n",
            "os.stat_result(st_mode=33152, st_ino=117, st_dev=82, st_nlink=1, st_uid=0, st_gid=0, st_size=103144, st_atime=1562508549, st_mtime=1562508549, st_ctime=1562508549)\n",
            "16 . blank_swift (3).ipynb\n",
            "os.stat_result(st_mode=33152, st_ino=118, st_dev=82, st_nlink=1, st_uid=0, st_gid=0, st_size=771, st_atime=1562705610, st_mtime=1562705610, st_ctime=1562705610)\n",
            "17 . Differentiable_swift (1).ipynb\n",
            "os.stat_result(st_mode=33152, st_ino=119, st_dev=82, st_nlink=1, st_uid=0, st_gid=0, st_size=1878, st_atime=1562767006, st_mtime=1562767006, st_ctime=1562767006)\n",
            "18 . blank_swift (2).ipynb\n",
            "os.stat_result(st_mode=33152, st_ino=120, st_dev=82, st_nlink=1, st_uid=0, st_gid=0, st_size=843, st_atime=1562855990, st_mtime=1562855990, st_ctime=1562855990)\n",
            "19 . install_latest_swift.ipynb\n",
            "os.stat_result(st_mode=33152, st_ino=121, st_dev=82, st_nlink=1, st_uid=0, st_gid=0, st_size=553, st_atime=1562860626, st_mtime=1562860626, st_ctime=1562860626)\n",
            "20 . blank_swift (1).ipynb\n",
            "os.stat_result(st_mode=33152, st_ino=122, st_dev=82, st_nlink=1, st_uid=0, st_gid=0, st_size=1484, st_atime=1562864670, st_mtime=1562864670, st_ctime=1562864670)\n",
            "21 . blank_swift.ipynb\n",
            "os.stat_result(st_mode=33152, st_ino=123, st_dev=82, st_nlink=1, st_uid=0, st_gid=0, st_size=1303, st_atime=1562936509, st_mtime=1562936509, st_ctime=1562936509)\n",
            "22 . Swift import data\n",
            "os.stat_result(st_mode=33152, st_ino=124, st_dev=82, st_nlink=1, st_uid=0, st_gid=0, st_size=75396, st_atime=1562962727, st_mtime=1562962727, st_ctime=1562962727)\n",
            "23 . DifferentiableProtocol_swift.ipynb\n",
            "os.stat_result(st_mode=33152, st_ino=125, st_dev=82, st_nlink=1, st_uid=0, st_gid=0, st_size=3080, st_atime=1563028468, st_mtime=1563028468, st_ctime=1563028468)\n",
            "24 . Differentiable_swift.ipynb\n",
            "os.stat_result(st_mode=33152, st_ino=126, st_dev=82, st_nlink=1, st_uid=0, st_gid=0, st_size=2051, st_atime=1563195300, st_mtime=1563195300, st_ctime=1563195300)\n",
            "25 . Three-Dimensional-Plotting.ipynb\n",
            "os.stat_result(st_mode=33152, st_ino=127, st_dev=82, st_nlink=1, st_uid=0, st_gid=0, st_size=6293, st_atime=1563639459, st_mtime=1563639459, st_ctime=1563639459)\n",
            "26 . Accessing GitHub\n",
            "os.stat_result(st_mode=33152, st_ino=128, st_dev=82, st_nlink=1, st_uid=0, st_gid=0, st_size=9883, st_atime=1563898084, st_mtime=1563898084, st_ctime=1563898084)\n",
            "27 . Downloads_swift.ipynb\n",
            "os.stat_result(st_mode=33152, st_ino=129, st_dev=82, st_nlink=1, st_uid=0, st_gid=0, st_size=3574, st_atime=1564321579, st_mtime=1564321579, st_ctime=1564321579)\n",
            "28 . CartPole-Krohn.ipynb\n",
            "os.stat_result(st_mode=33152, st_ino=130, st_dev=82, st_nlink=1, st_uid=0, st_gid=0, st_size=2732, st_atime=1571717569, st_mtime=1564406442, st_ctime=1564406442)\n",
            "29 . Action Recognition on the UCF101 Dataset\n",
            "os.stat_result(st_mode=33152, st_ino=131, st_dev=82, st_nlink=1, st_uid=0, st_gid=0, st_size=6588330, st_atime=1564579321, st_mtime=1564579321, st_ctime=1564579321)\n",
            "30 . TensorFlow 2.0 with GPU (1)\n",
            "os.stat_result(st_mode=33152, st_ino=132, st_dev=82, st_nlink=1, st_uid=0, st_gid=0, st_size=1303, st_atime=1564931934, st_mtime=1564931934, st_ctime=1564931934)\n",
            "31 . keras.ipynb\n",
            "os.stat_result(st_mode=33152, st_ino=133, st_dev=82, st_nlink=1, st_uid=0, st_gid=0, st_size=28456, st_atime=1565008921, st_mtime=1565008921, st_ctime=1565008921)\n",
            "32 . Gym_Environment.ipynb\n",
            "os.stat_result(st_mode=33152, st_ino=134, st_dev=82, st_nlink=1, st_uid=0, st_gid=0, st_size=1689, st_atime=1565199656, st_mtime=1565137588, st_ctime=1565137588)\n",
            "33 . Requests_Module.ipynb\n",
            "os.stat_result(st_mode=33152, st_ino=135, st_dev=82, st_nlink=1, st_uid=0, st_gid=0, st_size=3823, st_atime=1565555127, st_mtime=1565555127, st_ctime=1565555127)\n",
            "34 . Python_Imports.ipynb\n",
            "os.stat_result(st_mode=33152, st_ino=136, st_dev=82, st_nlink=1, st_uid=0, st_gid=0, st_size=3071, st_atime=1565812450, st_mtime=1565812450, st_ctime=1565812450)\n",
            "35 . Iterable.ipynb\n",
            "os.stat_result(st_mode=33152, st_ino=137, st_dev=82, st_nlink=1, st_uid=0, st_gid=0, st_size=1607, st_atime=1565814706, st_mtime=1565814706, st_ctime=1565814706)\n",
            "36 . 01 Scrape.ipynb\n",
            "os.stat_result(st_mode=33152, st_ino=138, st_dev=82, st_nlink=1, st_uid=0, st_gid=0, st_size=2167, st_atime=1566311031, st_mtime=1566311031, st_ctime=1566311031)\n",
            "37 . Copy of 01 Blank Colab\n",
            "os.stat_result(st_mode=33152, st_ino=139, st_dev=82, st_nlink=1, st_uid=0, st_gid=0, st_size=1622, st_atime=1568052535, st_mtime=1568052535, st_ctime=1568052535)\n",
            "38 . FrozenLake-2.ipynb\n",
            "os.stat_result(st_mode=33152, st_ino=140, st_dev=82, st_nlink=1, st_uid=0, st_gid=0, st_size=2567, st_atime=1568919553, st_mtime=1568919553, st_ctime=1568919553)\n",
            "39 . Copy of Accessing GitHub\n",
            "os.stat_result(st_mode=33152, st_ino=141, st_dev=82, st_nlink=1, st_uid=0, st_gid=0, st_size=6218, st_atime=1569434826, st_mtime=1569434826, st_ctime=1569434826)\n",
            "40 . TensorFlow with GPU (1)\n",
            "os.stat_result(st_mode=33152, st_ino=142, st_dev=82, st_nlink=1, st_uid=0, st_gid=0, st_size=3095, st_atime=1569595024, st_mtime=1569595024, st_ctime=1569595024)\n",
            "41 . Functional.ipynb\n",
            "os.stat_result(st_mode=33152, st_ino=143, st_dev=82, st_nlink=1, st_uid=0, st_gid=0, st_size=2685, st_atime=1570387114, st_mtime=1570387114, st_ctime=1570387114)\n",
            "42 . 02_TensorFlow_with_GPU\n",
            "os.stat_result(st_mode=33152, st_ino=144, st_dev=82, st_nlink=1, st_uid=0, st_gid=0, st_size=3096, st_atime=1571717168, st_mtime=1570470553, st_ctime=1570470553)\n",
            "43 . 02 TensorFlow with GPU\n",
            "os.stat_result(st_mode=33152, st_ino=145, st_dev=82, st_nlink=1, st_uid=0, st_gid=0, st_size=3105, st_atime=1570792417, st_mtime=1570792417, st_ctime=1570792417)\n",
            "44 . 00 DQN Tutorial.ipynb\n",
            "os.stat_result(st_mode=33152, st_ino=146, st_dev=82, st_nlink=1, st_uid=0, st_gid=0, st_size=24586, st_atime=1570893049, st_mtime=1570893049, st_ctime=1570893049)\n",
            "45 . TensorFlow 2.0 with GPU\n",
            "os.stat_result(st_mode=33152, st_ino=147, st_dev=82, st_nlink=1, st_uid=0, st_gid=0, st_size=1554, st_atime=1570984577, st_mtime=1570984577, st_ctime=1570984577)\n",
            "46 . Python interoperability.ipynb\n",
            "os.stat_result(st_mode=33152, st_ino=148, st_dev=82, st_nlink=1, st_uid=0, st_gid=0, st_size=16124, st_atime=1571323790, st_mtime=1571323790, st_ctime=1571323790)\n",
            "47 . PredictArrayValues.ipynb\n",
            "os.stat_result(st_mode=33152, st_ino=149, st_dev=82, st_nlink=1, st_uid=0, st_gid=0, st_size=3624, st_atime=1571509685, st_mtime=1571509685, st_ctime=1571509685)\n",
            "48 . BasicComputerVision.ipynb\n",
            "os.stat_result(st_mode=33152, st_ino=150, st_dev=82, st_nlink=1, st_uid=0, st_gid=0, st_size=5755, st_atime=1571532668, st_mtime=1571532668, st_ctime=1571532668)\n",
            "49 . Functional API (1).ipynb\n",
            "os.stat_result(st_mode=33152, st_ino=151, st_dev=82, st_nlink=1, st_uid=0, st_gid=0, st_size=12473, st_atime=1571581742, st_mtime=1571581742, st_ctime=1571581742)\n",
            "50 . Functional API.ipynb\n",
            "os.stat_result(st_mode=33152, st_ino=152, st_dev=82, st_nlink=1, st_uid=0, st_gid=0, st_size=38475, st_atime=1571674829, st_mtime=1571674829, st_ctime=1571674829)\n",
            "51 . TensorFlow with GPU\n",
            "os.stat_result(st_mode=33152, st_ino=153, st_dev=82, st_nlink=1, st_uid=0, st_gid=0, st_size=5175, st_atime=1571690089, st_mtime=1571690089, st_ctime=1571690089)\n",
            "52 . Snippets: Drive\n",
            "os.stat_result(st_mode=33152, st_ino=154, st_dev=82, st_nlink=1, st_uid=0, st_gid=0, st_size=14727, st_atime=1571715181, st_mtime=1571713297, st_ctime=1571713297)\n",
            "53 . GDrive (2).ipynb\n",
            "os.stat_result(st_mode=33152, st_ino=155, st_dev=82, st_nlink=1, st_uid=0, st_gid=0, st_size=3343, st_atime=1571842996, st_mtime=1571842996, st_ctime=1571842996)\n",
            "54 . GDrive (1).ipynb\n",
            "os.stat_result(st_mode=33152, st_ino=156, st_dev=82, st_nlink=1, st_uid=0, st_gid=0, st_size=5119, st_atime=1571869422, st_mtime=1571869422, st_ctime=1571869422)\n",
            "55 . GDrive.ipynb\n",
            "os.stat_result(st_mode=33152, st_ino=157, st_dev=82, st_nlink=1, st_uid=0, st_gid=0, st_size=4800, st_atime=1571894904, st_mtime=1571894904, st_ctime=1571894904)\n",
            "56 . Untitled0.ipynb\n",
            "os.stat_result(st_mode=33152, st_ino=158, st_dev=82, st_nlink=1, st_uid=0, st_gid=0, st_size=1112, st_atime=1572020964, st_mtime=1572020964, st_ctime=1572020964)\n",
            "57 . Copy of GDrive.ipynb\n",
            "os.stat_result(st_mode=33152, st_ino=159, st_dev=82, st_nlink=1, st_uid=0, st_gid=0, st_size=16964, st_atime=1572049085, st_mtime=1572049085, st_ctime=1572049085)\n",
            "58 . Google Cloud Storage\n",
            "os.stat_result(st_mode=33152, st_ino=160, st_dev=82, st_nlink=1, st_uid=0, st_gid=0, st_size=10429, st_atime=1572099626, st_mtime=1572099626, st_ctime=1572099626)\n",
            "59 . _Tensor-board.ipynb\n",
            "os.stat_result(st_mode=33152, st_ino=161, st_dev=82, st_nlink=1, st_uid=0, st_gid=0, st_size=3392, st_atime=1572206622, st_mtime=1572206622, st_ctime=1572206622)\n",
            "60 . 00 DQN.ipynb\n",
            "os.stat_result(st_mode=33152, st_ino=162, st_dev=82, st_nlink=1, st_uid=0, st_gid=0, st_size=14804, st_atime=1573589893, st_mtime=1572417951, st_ctime=1572417951)\n",
            "61 . Classifier_swift.ipynb\n",
            "os.stat_result(st_mode=33152, st_ino=49, st_dev=82, st_nlink=1, st_uid=0, st_gid=0, st_size=1303, st_atime=1572312797, st_mtime=1572312797, st_ctime=1572312797)\n",
            "62 . Semantic Dictionaries.ipynb\n",
            "os.stat_result(st_mode=33152, st_ino=50, st_dev=82, st_nlink=1, st_uid=0, st_gid=0, st_size=20388, st_atime=1572325454, st_mtime=1572325454, st_ctime=1572325454)\n",
            "63 . TF-GAN on TPUs.ipynb\n",
            "os.stat_result(st_mode=33152, st_ino=51, st_dev=82, st_nlink=1, st_uid=0, st_gid=0, st_size=2782137, st_atime=1572359829, st_mtime=1572359829, st_ctime=1572359829)\n",
            "64 . TPUs in Colab\n",
            "os.stat_result(st_mode=33152, st_ino=52, st_dev=82, st_nlink=1, st_uid=0, st_gid=0, st_size=5360, st_atime=1572367910, st_mtime=1572367910, st_ctime=1572367910)\n",
            "65 . Keras Fashion MNIST.ipynb\n",
            "os.stat_result(st_mode=33152, st_ino=53, st_dev=82, st_nlink=1, st_uid=0, st_gid=0, st_size=9493, st_atime=1572368740, st_mtime=1572368740, st_ctime=1572368740)\n",
            "66 . agents.ipynb\n",
            "os.stat_result(st_mode=33152, st_ino=54, st_dev=82, st_nlink=1, st_uid=0, st_gid=0, st_size=5636, st_atime=1572417240, st_mtime=1572417240, st_ctime=1572417240)\n",
            "67 . Sonnet 2 on MNIST (1).ipynb\n",
            "os.stat_result(st_mode=33152, st_ino=55, st_dev=82, st_nlink=1, st_uid=0, st_gid=0, st_size=51255, st_atime=1572555545, st_mtime=1572555545, st_ctime=1572555545)\n",
            "68 . Sonnet 2 on MNIST.ipynb\n",
            "os.stat_result(st_mode=33152, st_ino=56, st_dev=82, st_nlink=1, st_uid=0, st_gid=0, st_size=66277, st_atime=1572556231, st_mtime=1572556231, st_ctime=1572556231)\n",
            "69 . Deep Q Learning.ipynb\n",
            "os.stat_result(st_mode=33152, st_ino=57, st_dev=82, st_nlink=1, st_uid=0, st_gid=0, st_size=2425, st_atime=1572905681, st_mtime=1572905681, st_ctime=1572905681)\n",
            "70 . CVUtils .ipynb\n",
            "os.stat_result(st_mode=33152, st_ino=58, st_dev=82, st_nlink=1, st_uid=0, st_gid=0, st_size=735, st_atime=1572987957, st_mtime=1572987957, st_ctime=1572987957)\n",
            "71 . DQNAgent_ sentdex.ipynb\n",
            "os.stat_result(st_mode=33152, st_ino=59, st_dev=82, st_nlink=1, st_uid=0, st_gid=0, st_size=2366, st_atime=1573156006, st_mtime=1573156006, st_ctime=1573156006)\n",
            "72 . 00 DQN (10).ipynb\n",
            "os.stat_result(st_mode=33152, st_ino=60, st_dev=82, st_nlink=1, st_uid=0, st_gid=0, st_size=14805, st_atime=1573320195, st_mtime=1573320195, st_ctime=1573320195)\n",
            "73 . 00 DQN (9).ipynb\n",
            "os.stat_result(st_mode=33152, st_ino=61, st_dev=82, st_nlink=1, st_uid=0, st_gid=0, st_size=14839, st_atime=1573332772, st_mtime=1573332772, st_ctime=1573332772)\n",
            "74 . Netron.ipynb\n",
            "os.stat_result(st_mode=33152, st_ino=62, st_dev=82, st_nlink=1, st_uid=0, st_gid=0, st_size=803, st_atime=1573419888, st_mtime=1573419888, st_ctime=1573419888)\n",
            "75 . 00 DQN (8).ipynb\n",
            "os.stat_result(st_mode=33152, st_ino=63, st_dev=82, st_nlink=1, st_uid=0, st_gid=0, st_size=14840, st_atime=1573421101, st_mtime=1573421101, st_ctime=1573421101)\n",
            "76 . A Swift Tour.ipynb\n",
            "os.stat_result(st_mode=33152, st_ino=64, st_dev=82, st_nlink=1, st_uid=0, st_gid=0, st_size=59576, st_atime=1574898725, st_mtime=1574898725, st_ctime=1574898725)\n",
            "77 . 00 DQN (7).ipynb\n",
            "os.stat_result(st_mode=33152, st_ino=65, st_dev=82, st_nlink=1, st_uid=0, st_gid=0, st_size=14926, st_atime=1575766568, st_mtime=1575766568, st_ctime=1575766568)\n",
            "78 . TorchTest (1).ipynb\n",
            "os.stat_result(st_mode=33152, st_ino=66, st_dev=82, st_nlink=1, st_uid=0, st_gid=0, st_size=792, st_atime=1576001509, st_mtime=1576001509, st_ctime=1576001509)\n",
            "79 . TorchTest.ipynb\n",
            "os.stat_result(st_mode=33152, st_ino=67, st_dev=82, st_nlink=1, st_uid=0, st_gid=0, st_size=1521, st_atime=1576012684, st_mtime=1576012684, st_ctime=1576012684)\n",
            "80 . 01 Blank Colab\n",
            "os.stat_result(st_mode=33152, st_ino=68, st_dev=82, st_nlink=1, st_uid=0, st_gid=0, st_size=1631, st_atime=1576552656, st_mtime=1576552656, st_ctime=1576552656)\n",
            "81 . Dueling_ddqn_torch (2).ipynb\n",
            "os.stat_result(st_mode=33152, st_ino=69, st_dev=82, st_nlink=1, st_uid=0, st_gid=0, st_size=4075, st_atime=1576614187, st_mtime=1576614187, st_ctime=1576614187)\n",
            "82 . Dueling_ddqn_torch (1).ipynb\n",
            "os.stat_result(st_mode=33152, st_ino=70, st_dev=82, st_nlink=1, st_uid=0, st_gid=0, st_size=4661, st_atime=1576705208, st_mtime=1576705208, st_ctime=1576705208)\n",
            "83 . Dueling_ddqn_torch.ipynb\n",
            "os.stat_result(st_mode=33152, st_ino=71, st_dev=82, st_nlink=1, st_uid=0, st_gid=0, st_size=8436, st_atime=1576714224, st_mtime=1576714692, st_ctime=1576714692)\n",
            "84 . Install_CoreML.ipynb\n",
            "os.stat_result(st_mode=33152, st_ino=72, st_dev=82, st_nlink=1, st_uid=0, st_gid=0, st_size=1652, st_atime=1576951953, st_mtime=1576951953, st_ctime=1576951953)\n",
            "85 . 00 DQN (6).ipynb\n",
            "os.stat_result(st_mode=33152, st_ino=73, st_dev=82, st_nlink=1, st_uid=0, st_gid=0, st_size=15097, st_atime=1576964775, st_mtime=1576964775, st_ctime=1576964775)\n",
            "86 . DQN with GPU (2)\n",
            "os.stat_result(st_mode=33152, st_ino=74, st_dev=82, st_nlink=1, st_uid=0, st_gid=0, st_size=2423, st_atime=1577062710, st_mtime=1577062710, st_ctime=1577062710)\n",
            "87 . DQN with GPU (1)\n",
            "os.stat_result(st_mode=33152, st_ino=75, st_dev=82, st_nlink=1, st_uid=0, st_gid=0, st_size=3911, st_atime=1584389082, st_mtime=1577136507, st_ctime=1577136507)\n",
            "88 . DQN with GPU\n",
            "os.stat_result(st_mode=33152, st_ino=76, st_dev=82, st_nlink=1, st_uid=0, st_gid=0, st_size=3966, st_atime=1577146760, st_mtime=1577146760, st_ctime=1577146760)\n",
            "89 . 00 DQN (5).ipynb\n",
            "os.stat_result(st_mode=33152, st_ino=77, st_dev=82, st_nlink=1, st_uid=0, st_gid=0, st_size=14210, st_atime=1577478300, st_mtime=1577478300, st_ctime=1577478300)\n",
            "90 . 00 DQN (4).ipynb\n",
            "os.stat_result(st_mode=33152, st_ino=78, st_dev=82, st_nlink=1, st_uid=0, st_gid=0, st_size=14238, st_atime=1577480787, st_mtime=1577480787, st_ctime=1577480787)\n",
            "91 . GDrive (1).ipynb\n",
            "os.stat_result(st_mode=33152, st_ino=79, st_dev=82, st_nlink=1, st_uid=0, st_gid=0, st_size=4980, st_atime=1577484549, st_mtime=1577484549, st_ctime=1577484549)\n",
            "92 . 00 DQN (3).ipynb\n",
            "os.stat_result(st_mode=33152, st_ino=80, st_dev=82, st_nlink=1, st_uid=0, st_gid=0, st_size=14140, st_atime=1579112986, st_mtime=1579112986, st_ctime=1579112986)\n",
            "93 . 00 DQN Tutorial (4).ipynb\n",
            "os.stat_result(st_mode=33152, st_ino=81, st_dev=82, st_nlink=1, st_uid=0, st_gid=0, st_size=23693, st_atime=1579115475, st_mtime=1579115475, st_ctime=1579115475)\n",
            "94 . 00 DQN (2).ipynb\n",
            "os.stat_result(st_mode=33152, st_ino=82, st_dev=82, st_nlink=1, st_uid=0, st_gid=0, st_size=14175, st_atime=1579195317, st_mtime=1579195317, st_ctime=1579195317)\n",
            "95 . 00 cartpole.ipynb\n",
            "os.stat_result(st_mode=33152, st_ino=83, st_dev=82, st_nlink=1, st_uid=0, st_gid=0, st_size=7248, st_atime=1579205741, st_mtime=1579205741, st_ctime=1579205741)\n",
            "96 . 00 DQN Tutorial (3).ipynb\n",
            "os.stat_result(st_mode=33152, st_ino=84, st_dev=82, st_nlink=1, st_uid=0, st_gid=0, st_size=24279, st_atime=1579214265, st_mtime=1579214265, st_ctime=1579214265)\n",
            "97 . 00 DQN Tutorial (2).ipynb\n",
            "os.stat_result(st_mode=33152, st_ino=85, st_dev=82, st_nlink=1, st_uid=0, st_gid=0, st_size=24505, st_atime=1579555531, st_mtime=1579555531, st_ctime=1579555531)\n",
            "98 . 00 DQN Tutorial (1).ipynb\n",
            "os.stat_result(st_mode=33152, st_ino=86, st_dev=82, st_nlink=1, st_uid=0, st_gid=0, st_size=23301, st_atime=1579567357, st_mtime=1579567357, st_ctime=1579567357)\n",
            "99 . 00 DQN Tutorial.ipynb\n",
            "os.stat_result(st_mode=33152, st_ino=87, st_dev=82, st_nlink=1, st_uid=0, st_gid=0, st_size=23982, st_atime=1579583032, st_mtime=1579583032, st_ctime=1579583032)\n",
            "100 . 00 DQN (1).ipynb\n",
            "os.stat_result(st_mode=33152, st_ino=88, st_dev=82, st_nlink=1, st_uid=0, st_gid=0, st_size=22937, st_atime=1579585463, st_mtime=1579585463, st_ctime=1579585463)\n",
            "101 . PrimeNumberGenerator (1).ipynb\n",
            "os.stat_result(st_mode=33152, st_ino=89, st_dev=82, st_nlink=1, st_uid=0, st_gid=0, st_size=3102, st_atime=1580315790, st_mtime=1580315790, st_ctime=1580315790)\n",
            "102 . PrimeNumberGenerator.ipynb\n",
            "os.stat_result(st_mode=33152, st_ino=90, st_dev=82, st_nlink=1, st_uid=0, st_gid=0, st_size=2996, st_atime=1580316323, st_mtime=1580316323, st_ctime=1580316323)\n",
            "103 . GetUserInput.ipynb\n",
            "os.stat_result(st_mode=33152, st_ino=91, st_dev=82, st_nlink=1, st_uid=0, st_gid=0, st_size=601, st_atime=1580317946, st_mtime=1580317946, st_ctime=1580317946)\n",
            "104 . 00 DQN.ipynb\n",
            "os.stat_result(st_mode=33152, st_ino=92, st_dev=82, st_nlink=1, st_uid=0, st_gid=0, st_size=14385, st_atime=1584296814, st_mtime=1584296814, st_ctime=1584296814)\n",
            "105 . iCloud (1).ipynb\n",
            "os.stat_result(st_mode=33152, st_ino=93, st_dev=82, st_nlink=1, st_uid=0, st_gid=0, st_size=1288, st_atime=1584456405, st_mtime=1584456405, st_ctime=1584456405)\n",
            "106 . iCloud.ipynb\n",
            "os.stat_result(st_mode=33152, st_ino=94, st_dev=82, st_nlink=1, st_uid=0, st_gid=0, st_size=3553, st_atime=1584472200, st_mtime=1584472200, st_ctime=1584472200)\n",
            "107 . GitHubFiles (1).ipynb\n",
            "os.stat_result(st_mode=33152, st_ino=95, st_dev=82, st_nlink=1, st_uid=0, st_gid=0, st_size=1661, st_atime=1584488749, st_mtime=1584488749, st_ctime=1584488749)\n",
            "108 . GitHubFiles.ipynb\n",
            "os.stat_result(st_mode=33152, st_ino=96, st_dev=82, st_nlink=1, st_uid=0, st_gid=0, st_size=8234, st_atime=1584493424, st_mtime=1584493424, st_ctime=1584493424)\n",
            "109 . Python Notebook.ipynb\n",
            "os.stat_result(st_mode=33152, st_ino=97, st_dev=82, st_nlink=1, st_uid=0, st_gid=0, st_size=1752, st_atime=1586295402, st_mtime=1586295402, st_ctime=1586295402)\n",
            "110 . 04 13 2020swift.ipynb\n",
            "os.stat_result(st_mode=33152, st_ino=98, st_dev=82, st_nlink=1, st_uid=0, st_gid=0, st_size=2820, st_atime=1586813768, st_mtime=1586813768, st_ctime=1586813768)\n",
            "111 . GDrive.ipynb\n",
            "os.stat_result(st_mode=33152, st_ino=99, st_dev=82, st_nlink=1, st_uid=0, st_gid=0, st_size=7525, st_atime=1586901909, st_mtime=1586901909, st_ctime=1586901909)\n",
            "112 . Untitled0.ipynb\n",
            "os.stat_result(st_mode=33152, st_ino=100, st_dev=82, st_nlink=1, st_uid=0, st_gid=0, st_size=345, st_atime=1590235324, st_mtime=1590235324, st_ctime=1590235324)\n",
            "113 . DuelingDeepQNetwork (1).ipynb\n",
            "os.stat_result(st_mode=33152, st_ino=101, st_dev=82, st_nlink=1, st_uid=0, st_gid=0, st_size=8247, st_atime=1590237786, st_mtime=1590237786, st_ctime=1590237786)\n",
            "114 . DuelingDeepQNetwork.ipynb\n",
            "os.stat_result(st_mode=33152, st_ino=102, st_dev=82, st_nlink=1, st_uid=0, st_gid=0, st_size=4398, st_atime=1590257355, st_mtime=1590244659, st_ctime=1590244659)\n",
            "115 . AccessGoogleDrive (1).ipynb\n",
            "os.stat_result(st_mode=33152, st_ino=103, st_dev=82, st_nlink=1, st_uid=0, st_gid=0, st_size=1219, st_atime=1590258441, st_mtime=1590258441, st_ctime=1590258441)\n",
            "116 . AccessGoogleDrive.ipynb\n",
            "os.stat_result(st_mode=33152, st_ino=104, st_dev=82, st_nlink=1, st_uid=0, st_gid=0, st_size=1777, st_atime=1590261017, st_mtime=1590261017, st_ctime=1590261017)\n",
            "117 . Untitled.ipynb\n",
            "os.stat_result(st_mode=33152, st_ino=105, st_dev=82, st_nlink=1, st_uid=0, st_gid=0, st_size=187, st_atime=1590768108, st_mtime=1590768108, st_ctime=1590768108)\n",
            "118 . Untitled1.ipynb\n",
            "os.stat_result(st_mode=33152, st_ino=106, st_dev=82, st_nlink=1, st_uid=0, st_gid=0, st_size=5539, st_atime=1590939704, st_mtime=1590939704, st_ctime=1590939704)\n",
            "119 . Untitled\n",
            "os.stat_result(st_mode=33152, st_ino=107, st_dev=82, st_nlink=1, st_uid=0, st_gid=0, st_size=317, st_atime=1590940939, st_mtime=1590940939, st_ctime=1590940939)\n",
            "120 . Untitled2.ipynb\n",
            "os.stat_result(st_mode=33152, st_ino=108, st_dev=82, st_nlink=1, st_uid=0, st_gid=0, st_size=368, st_atime=1591376303, st_mtime=1591376303, st_ctime=1591376303)\n",
            "121 . Copy of Swift import data\n",
            "os.stat_result(st_mode=33152, st_ino=109, st_dev=82, st_nlink=1, st_uid=0, st_gid=0, st_size=74930, st_atime=1591376397, st_mtime=1591376397, st_ctime=1591376397)\n",
            "122 . DDQN.ipynb\n",
            "os.stat_result(st_mode=33152, st_ino=110, st_dev=82, st_nlink=1, st_uid=0, st_gid=0, st_size=1652, st_atime=1591451787, st_mtime=1591451787, st_ctime=1591451787)\n",
            "123 . DDQN-Keras (1).ipynb\n",
            "os.stat_result(st_mode=33152, st_ino=111, st_dev=82, st_nlink=1, st_uid=0, st_gid=0, st_size=2208, st_atime=1591469259, st_mtime=1591469259, st_ctime=1591469259)\n",
            "124 . DDQN-Keras.ipynb\n",
            "os.stat_result(st_mode=33152, st_ino=112, st_dev=82, st_nlink=1, st_uid=0, st_gid=0, st_size=3800, st_atime=1591545960, st_mtime=1591545960, st_ctime=1591545960)\n",
            "125 . Copy of DDQN-Keras.ipynb\n",
            "os.stat_result(st_mode=33152, st_ino=113, st_dev=82, st_nlink=1, st_uid=0, st_gid=0, st_size=4674, st_atime=1591889893, st_mtime=1591889893, st_ctime=1591889893)\n",
            "\n",
            "/gdrive/My Drive/PythonUtilities\n",
            "126 . IMG_0134.JPG\n",
            "os.stat_result(st_mode=33152, st_ino=18, st_dev=82, st_nlink=1, st_uid=0, st_gid=0, st_size=1022797, st_atime=1591904223, st_mtime=1585745151, st_ctime=1585745151)\n",
            "127 . IMG_0147.JPG\n",
            "os.stat_result(st_mode=33152, st_ino=19, st_dev=82, st_nlink=1, st_uid=0, st_gid=0, st_size=384496, st_atime=1591904155, st_mtime=1585745186, st_ctime=1585745186)\n",
            "128 . IMG_0146.JPG\n",
            "os.stat_result(st_mode=33152, st_ino=20, st_dev=82, st_nlink=1, st_uid=0, st_gid=0, st_size=51358, st_atime=1591904214, st_mtime=1585745186, st_ctime=1585745186)\n",
            "129 . IMG_0105.JPG\n",
            "os.stat_result(st_mode=33152, st_ino=21, st_dev=82, st_nlink=1, st_uid=0, st_gid=0, st_size=663102, st_atime=1591904181, st_mtime=1585745256, st_ctime=1585745256)\n",
            "130 . IMG_0103.JPG\n",
            "os.stat_result(st_mode=33152, st_ino=22, st_dev=82, st_nlink=1, st_uid=0, st_gid=0, st_size=652808, st_atime=1591904195, st_mtime=1585745256, st_ctime=1585745256)\n",
            "131 . IMG_0104.JPG\n",
            "os.stat_result(st_mode=33152, st_ino=23, st_dev=82, st_nlink=1, st_uid=0, st_gid=0, st_size=925089, st_atime=1591904171, st_mtime=1585745257, st_ctime=1585745257)\n",
            "132 . IMG_0106.JPG\n",
            "os.stat_result(st_mode=33152, st_ino=24, st_dev=82, st_nlink=1, st_uid=0, st_gid=0, st_size=655072, st_atime=1591904169, st_mtime=1585745258, st_ctime=1585745258)\n",
            "133 . IMG_0109.JPG\n",
            "os.stat_result(st_mode=33152, st_ino=25, st_dev=82, st_nlink=1, st_uid=0, st_gid=0, st_size=1039716, st_atime=1591904156, st_mtime=1585745258, st_ctime=1585745258)\n",
            "134 . IMG_0145.JPG\n",
            "os.stat_result(st_mode=33152, st_ino=26, st_dev=82, st_nlink=1, st_uid=0, st_gid=0, st_size=121827, st_atime=1591904222, st_mtime=1585745543, st_ctime=1585745543)\n",
            "135 . gAuth (1).txt\n",
            "os.stat_result(st_mode=33152, st_ino=27, st_dev=82, st_nlink=1, st_uid=0, st_gid=0, st_size=178, st_atime=1591904167, st_mtime=1586901015, st_ctime=1586901015)\n",
            "136 . DuelingDeepQNetwork.ipynb\n",
            "os.stat_result(st_mode=33152, st_ino=28, st_dev=82, st_nlink=1, st_uid=0, st_gid=0, st_size=3964, st_atime=1591904155, st_mtime=1590235120, st_ctime=1590235120)\n",
            "137 . ColorUtil.py\n",
            "os.stat_result(st_mode=33152, st_ino=29, st_dev=82, st_nlink=1, st_uid=0, st_gid=0, st_size=466, st_atime=1591648629, st_mtime=1590235929, st_ctime=1590235929)\n",
            "138 . SysPaths.py\n",
            "os.stat_result(st_mode=33152, st_ino=30, st_dev=82, st_nlink=1, st_uid=0, st_gid=0, st_size=3815, st_atime=1591904225, st_mtime=1590235976, st_ctime=1590235976)\n",
            "139 . GithubAccessToken.txt\n",
            "os.stat_result(st_mode=33152, st_ino=31, st_dev=82, st_nlink=1, st_uid=0, st_gid=0, st_size=40, st_atime=1590619954, st_mtime=1590619954, st_ctime=1590619954)\n",
            "140 . Untitled.ipynb\n",
            "os.stat_result(st_mode=33152, st_ino=32, st_dev=82, st_nlink=1, st_uid=0, st_gid=0, st_size=187, st_atime=1591904242, st_mtime=1590768051, st_ctime=1590768051)\n",
            "141 . foo.txt\n",
            "os.stat_result(st_mode=33152, st_ino=33, st_dev=82, st_nlink=1, st_uid=0, st_gid=0, st_size=21, st_atime=1591904229, st_mtime=1591644959, st_ctime=1591644959)\n",
            "142 . Sample upload.txt\n",
            "os.stat_result(st_mode=33152, st_ino=34, st_dev=82, st_nlink=1, st_uid=0, st_gid=0, st_size=26, st_atime=1591904226, st_mtime=1591645225, st_ctime=1591645225)\n",
            "143 . gAuth.txt\n",
            "os.stat_result(st_mode=33152, st_ino=35, st_dev=82, st_nlink=1, st_uid=0, st_gid=0, st_size=178, st_atime=1591904079, st_mtime=1591882128, st_ctime=1591882128)\n",
            "144 . gAuthCredentials.txt\n",
            "os.stat_result(st_mode=33152, st_ino=36, st_dev=82, st_nlink=1, st_uid=0, st_gid=0, st_size=178, st_atime=1591906398, st_mtime=1591883293, st_ctime=1591883293)\n"
          ],
          "name": "stdout"
        }
      ]
    },
    {
      "cell_type": "code",
      "metadata": {
        "colab_type": "code",
        "id": "ldus40iKMIru",
        "colab": {}
      },
      "source": [
        "#  Open files from GitHub\n",
        "#  Clones an entire repo.\n",
        "\n",
        "!git clone -l -s git://github.com/iypc-team/Swift.git swiftDirectory\n",
        "%cd swiftDirectory\n",
        "print('\\n',\"swiftDirectory:\")\n",
        "%ls\n",
        "print()\n",
        "\n",
        "!git clone -l -s git://github.com/iypc-team/CoLab.git colabDirectory\n",
        "%cd colabDirectory\n",
        "print('\\n', \"colabDirectory:\")\n",
        "%ls\n",
        "print()\n",
        "\n",
        "!git clone -l -s git://github.com/iypc-team/Reinforcement-Learning.git reinforcement-learningDirectory\n",
        "%cd reinforcement-learningDirectory\n",
        "print('\\n', \"reinforcement-learningDirectory:\")\n",
        "%ls\n",
        "print()\n"
      ],
      "execution_count": 0,
      "outputs": []
    },
    {
      "cell_type": "code",
      "metadata": {
        "id": "y4C3Emral6os",
        "colab_type": "code",
        "outputId": "af1dda96-dc72-43b8-83ff-b3e046dbbd7d",
        "colab": {
          "base_uri": "https://localhost:8080/",
          "height": 159
        }
      },
      "source": [
        "# Fetch a single <1MB file using the raw GitHub URL.\n",
        "!curl --remote-name \\\n",
        "     -H 'Accept: application/vnd.github.v3.raw' \\\n",
        "     --location https://api.github.com/iypc-team/Swift/blank_swift.ipynb"
      ],
      "execution_count": 0,
      "outputs": [
        {
          "output_type": "stream",
          "text": [
            "  % Total    % Received % Xferd  Average Speed   Time    Time     Time  Current\n",
            "                                 Dload  Upload   Total   Spent    Left  Speed\n",
            "\r  0     0    0     0    0     0      0      0 --:--:-- --:--:-- --:--:--     0\r100    87  100    87    0     0    925      0 --:--:-- --:--:-- --:--:--   925\n"
          ],
          "name": "stdout"
        }
      ]
    },
    {
      "cell_type": "code",
      "metadata": {
        "colab_type": "code",
        "id": "vz-jH8T_Uk2c",
        "outputId": "1b21f45f-f857-4bf8-92f5-5c2aff379715",
        "colab": {
          "resources": {
            "http://localhost:8080/nbextensions/google.colab/files.js": {
              "data": "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",
              "ok": true,
              "headers": [
                [
                  "content-type",
                  "application/javascript"
                ]
              ],
              "status": 200,
              "status_text": ""
            }
          },
          "base_uri": "https://localhost:8080/",
          "height": 628
        }
      },
      "source": [
        "#. Open files from local file system\n",
        "from google.colab import files\n",
        "\n",
        "uploaded = files.upload()\n",
        "\n",
        "for fn in uploaded.keys():\n",
        "  print('User uploaded file \"{name}\" with length {length} bytes'.format(\n",
        "      name=fn, length=len(uploaded[fn])))\n",
        "  "
      ],
      "execution_count": 0,
      "outputs": [
        {
          "output_type": "display_data",
          "data": {
            "text/html": [
              "\n",
              "     <input type=\"file\" id=\"files-82fdc7e6-2a2c-427f-8c87-4197d3c17377\" name=\"files[]\" multiple disabled />\n",
              "     <output id=\"result-82fdc7e6-2a2c-427f-8c87-4197d3c17377\">\n",
              "      Upload widget is only available when the cell has been executed in the\n",
              "      current browser session. Please rerun this cell to enable.\n",
              "      </output>\n",
              "      <script src=\"/nbextensions/google.colab/files.js\"></script> "
            ],
            "text/plain": [
              "<IPython.core.display.HTML object>"
            ]
          },
          "metadata": {
            "tags": []
          }
        },
        {
          "output_type": "error",
          "ename": "KeyboardInterrupt",
          "evalue": "ignored",
          "traceback": [
            "\u001b[0;31m---------------------------------------------------------------------------\u001b[0m",
            "\u001b[0;31mKeyboardInterrupt\u001b[0m                         Traceback (most recent call last)",
            "\u001b[0;32m<ipython-input-10-6e783344675b>\u001b[0m in \u001b[0;36m<module>\u001b[0;34m()\u001b[0m\n\u001b[1;32m      1\u001b[0m \u001b[0;32mfrom\u001b[0m \u001b[0mgoogle\u001b[0m\u001b[0;34m.\u001b[0m\u001b[0mcolab\u001b[0m \u001b[0;32mimport\u001b[0m \u001b[0mfiles\u001b[0m\u001b[0;34m\u001b[0m\u001b[0;34m\u001b[0m\u001b[0m\n\u001b[1;32m      2\u001b[0m \u001b[0;34m\u001b[0m\u001b[0m\n\u001b[0;32m----> 3\u001b[0;31m \u001b[0muploaded\u001b[0m \u001b[0;34m=\u001b[0m \u001b[0mfiles\u001b[0m\u001b[0;34m.\u001b[0m\u001b[0mupload\u001b[0m\u001b[0;34m(\u001b[0m\u001b[0;34m)\u001b[0m\u001b[0;34m\u001b[0m\u001b[0;34m\u001b[0m\u001b[0m\n\u001b[0m\u001b[1;32m      4\u001b[0m \u001b[0;34m\u001b[0m\u001b[0m\n\u001b[1;32m      5\u001b[0m \u001b[0;32mfor\u001b[0m \u001b[0mfn\u001b[0m \u001b[0;32min\u001b[0m \u001b[0muploaded\u001b[0m\u001b[0;34m.\u001b[0m\u001b[0mkeys\u001b[0m\u001b[0;34m(\u001b[0m\u001b[0;34m)\u001b[0m\u001b[0;34m:\u001b[0m\u001b[0;34m\u001b[0m\u001b[0;34m\u001b[0m\u001b[0m\n",
            "\u001b[0;32m/usr/local/lib/python3.6/dist-packages/google/colab/files.py\u001b[0m in \u001b[0;36mupload\u001b[0;34m()\u001b[0m\n\u001b[1;32m     62\u001b[0m   result = _output.eval_js(\n\u001b[1;32m     63\u001b[0m       'google.colab._files._uploadFiles(\"{input_id}\", \"{output_id}\")'.format(\n\u001b[0;32m---> 64\u001b[0;31m           input_id=input_id, output_id=output_id))\n\u001b[0m\u001b[1;32m     65\u001b[0m   \u001b[0mfiles\u001b[0m \u001b[0;34m=\u001b[0m \u001b[0m_collections\u001b[0m\u001b[0;34m.\u001b[0m\u001b[0mdefaultdict\u001b[0m\u001b[0;34m(\u001b[0m\u001b[0m_six\u001b[0m\u001b[0;34m.\u001b[0m\u001b[0mbinary_type\u001b[0m\u001b[0;34m)\u001b[0m\u001b[0;34m\u001b[0m\u001b[0;34m\u001b[0m\u001b[0m\n\u001b[1;32m     66\u001b[0m   \u001b[0;31m# Mapping from original filename to filename as saved locally.\u001b[0m\u001b[0;34m\u001b[0m\u001b[0;34m\u001b[0m\u001b[0;34m\u001b[0m\u001b[0m\n",
            "\u001b[0;32m/usr/local/lib/python3.6/dist-packages/google/colab/output/_js.py\u001b[0m in \u001b[0;36meval_js\u001b[0;34m(script, ignore_result)\u001b[0m\n\u001b[1;32m     37\u001b[0m   \u001b[0;32mif\u001b[0m \u001b[0mignore_result\u001b[0m\u001b[0;34m:\u001b[0m\u001b[0;34m\u001b[0m\u001b[0;34m\u001b[0m\u001b[0m\n\u001b[1;32m     38\u001b[0m     \u001b[0;32mreturn\u001b[0m\u001b[0;34m\u001b[0m\u001b[0;34m\u001b[0m\u001b[0m\n\u001b[0;32m---> 39\u001b[0;31m   \u001b[0;32mreturn\u001b[0m \u001b[0m_message\u001b[0m\u001b[0;34m.\u001b[0m\u001b[0mread_reply_from_input\u001b[0m\u001b[0;34m(\u001b[0m\u001b[0mrequest_id\u001b[0m\u001b[0;34m)\u001b[0m\u001b[0;34m\u001b[0m\u001b[0;34m\u001b[0m\u001b[0m\n\u001b[0m\u001b[1;32m     40\u001b[0m \u001b[0;34m\u001b[0m\u001b[0m\n\u001b[1;32m     41\u001b[0m \u001b[0;34m\u001b[0m\u001b[0m\n",
            "\u001b[0;32m/usr/local/lib/python3.6/dist-packages/google/colab/_message.py\u001b[0m in \u001b[0;36mread_reply_from_input\u001b[0;34m(message_id, timeout_sec)\u001b[0m\n\u001b[1;32m     99\u001b[0m     \u001b[0mreply\u001b[0m \u001b[0;34m=\u001b[0m \u001b[0m_read_next_input_message\u001b[0m\u001b[0;34m(\u001b[0m\u001b[0;34m)\u001b[0m\u001b[0;34m\u001b[0m\u001b[0;34m\u001b[0m\u001b[0m\n\u001b[1;32m    100\u001b[0m     \u001b[0;32mif\u001b[0m \u001b[0mreply\u001b[0m \u001b[0;34m==\u001b[0m \u001b[0m_NOT_READY\u001b[0m \u001b[0;32mor\u001b[0m \u001b[0;32mnot\u001b[0m \u001b[0misinstance\u001b[0m\u001b[0;34m(\u001b[0m\u001b[0mreply\u001b[0m\u001b[0;34m,\u001b[0m \u001b[0mdict\u001b[0m\u001b[0;34m)\u001b[0m\u001b[0;34m:\u001b[0m\u001b[0;34m\u001b[0m\u001b[0;34m\u001b[0m\u001b[0m\n\u001b[0;32m--> 101\u001b[0;31m       \u001b[0mtime\u001b[0m\u001b[0;34m.\u001b[0m\u001b[0msleep\u001b[0m\u001b[0;34m(\u001b[0m\u001b[0;36m0.025\u001b[0m\u001b[0;34m)\u001b[0m\u001b[0;34m\u001b[0m\u001b[0;34m\u001b[0m\u001b[0m\n\u001b[0m\u001b[1;32m    102\u001b[0m       \u001b[0;32mcontinue\u001b[0m\u001b[0;34m\u001b[0m\u001b[0;34m\u001b[0m\u001b[0m\n\u001b[1;32m    103\u001b[0m     if (reply.get('type') == 'colab_reply' and\n",
            "\u001b[0;31mKeyboardInterrupt\u001b[0m: "
          ]
        }
      ]
    },
    {
      "cell_type": "markdown",
      "metadata": {
        "colab_type": "text",
        "id": "Q2CWQGIghDux"
      },
      "source": [
        "# Open files from GCS with gsutil\n",
        "\n",
        "- Use the [Cloud Resource Manager](https://cloud.google.com/resource-manager/) to create a project if you do not already have one.\n",
        "- [Enable billing](https://support.google.com/cloud/answer/6293499#enable-billing) for the project.\n",
        "- See [Google Cloud Storage (GCS) Documentation](https://cloud.google.com/storage/) for more info.\n"
      ]
    },
    {
      "cell_type": "code",
      "metadata": {
        "colab_type": "code",
        "id": "btwrSjoHT_mb",
        "colab": {}
      },
      "source": [
        "from google.colab import auth\n",
        "auth.authenticate_user()\n",
        "\n",
        "# https://cloud.google.com/resource-manager/docs/creating-managing-projects\n",
        "project_id = '[your Cloud Platform project ID]'\n",
        "!gcloud config set project {project_id}"
      ],
      "execution_count": 0,
      "outputs": []
    },
    {
      "cell_type": "code",
      "metadata": {
        "colab_type": "code",
        "id": "lPdTf-6O73ll",
        "colab": {}
      },
      "source": [
        "# Download the file from a given Google Cloud Storage bucket.\n",
        "!gsutil cp gs://{bucket_name}/file_to_download.txt /tmp/gsutil_download.txt\n",
        "  \n",
        "# Print the result to make sure the transfer worked.\n",
        "!cat /tmp/gsutil_download.txt"
      ],
      "execution_count": 0,
      "outputs": []
    },
    {
      "cell_type": "markdown",
      "metadata": {
        "colab_type": "text",
        "id": "s6nDq8Nk7aPN"
      },
      "source": [
        "# Open files from GCS with the Cloud Storage Python API\n",
        "\n",
        "- Use the [Cloud Resource Manager](https://cloud.google.com/resource-manager/) to create a project if you do not already have one.\n",
        "- [Enable billing](https://support.google.com/cloud/answer/6293499#enable-billing) for the project.\n",
        "- See [Google Cloud Storage (GCS) Documentation](https://cloud.google.com/storage/) for more info.\n",
        "\n",
        "You can also use [gsutil](https://cloud.google.com/storage/docs/gsutil) to interact with [Google Cloud Storage (GCS)](https://cloud.google.com/storage/).\n",
        "This snippet is based on [a larger example](https://github.com/GoogleCloudPlatform/storage-file-transfer-json-python/blob/master/chunked_transfer.py)."
      ]
    },
    {
      "cell_type": "code",
      "metadata": {
        "colab_type": "code",
        "id": "z1_FuDjAozF1",
        "colab": {}
      },
      "source": [
        "# Authenticate to GCS.\n",
        "from google.colab import auth\n",
        "auth.authenticate_user()\n",
        "\n",
        "# https://cloud.google.com/resource-manager/docs/creating-managing-projects\n",
        "project_id = '[your Cloud Platform project ID]'\n",
        "\n",
        "# Create the service client.\n",
        "from googleapiclient.discovery import build\n",
        "gcs_service = build('storage', 'v1')\n",
        "\n",
        "from apiclient.http import MediaIoBaseDownload\n",
        "\n",
        "with open('/tmp/gsutil_download.txt', 'wb') as f:\n",
        "  # Download the file from a given Google Cloud Storage bucket.\n",
        "  request = gcs_service.objects().get_media(bucket=bucket_name,\n",
        "                                            object='to_upload.txt')\n",
        "  media = MediaIoBaseDownload(f, request)\n",
        "\n",
        "  done = False\n",
        "  while not done:\n",
        "    # _ is a placeholder for a progress object that we ignore.\n",
        "    # (Our file is small, so we skip reporting progress.)\n",
        "    _, done = media.next_chunk()\n",
        "\n",
        "print('Download complete')"
      ],
      "execution_count": 0,
      "outputs": []
    },
    {
      "cell_type": "code",
      "metadata": {
        "colab_type": "code",
        "id": "DxLyhaiBpAGX",
        "colab": {}
      },
      "source": [
        "# Inspect the file we downloaded to /tmp\n",
        "!cat /tmp/downloaded_from_gcs.txt"
      ],
      "execution_count": 0,
      "outputs": []
    }
  ]
}