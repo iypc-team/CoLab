{
  "nbformat": 4,
  "nbformat_minor": 0,
  "metadata": {
    "colab": {
      "name": "Accessing files",
      "version": "0.3.2",
      "provenance": [],
      "collapsed_sections": [],
      "include_colab_link": true
    },
    "kernelspec": {
      "display_name": "Python 3",
      "name": "python3"
    }
  },
  "cells": [
    {
      "cell_type": "markdown",
      "metadata": {
        "id": "view-in-github",
        "colab_type": "text"
      },
      "source": [
        "<a href=\"https://colab.research.google.com/github/iypc-team/CoLab/blob/master/Accessing_files.ipynb\" target=\"_parent\"><img src=\"https://colab.research.google.com/assets/colab-badge.svg\" alt=\"Open In Colab\"/></a>"
      ]
    },
    {
      "cell_type": "markdown",
      "metadata": {
        "colab_type": "text",
        "id": "u22w3BFiOveA"
      },
      "source": [
        "# Open files from Google Drive\n",
        "\n",
        "The example below shows how to mount your Google Drive in your virtual machine using an authorization code."
      ]
    },
    {
      "cell_type": "code",
      "metadata": {
        "colab_type": "code",
        "id": "7-JR7WQ5O70X",
        "colab": {}
      },
      "source": [
        "from google.colab import drive\n",
        "drive.mount('/gdrive')\n",
        "%cd /gdrive"
      ],
      "execution_count": 0,
      "outputs": []
    },
    {
      "cell_type": "markdown",
      "metadata": {
        "colab_type": "text",
        "id": "l0XHG5qVLxh5"
      },
      "source": [
        "# Open files from GitHub\n",
        "\n",
        "To open a file from GitHub, you can clone the repo or fetch the file directly.\n",
        "\n",
        "\n",
        "If you are trying to access files from a private repo, you must use a [GitHub access token](https://help.github.com/en/articles/creating-a-personal-access-token-for-the-command-line)."
      ]
    },
    {
      "cell_type": "code",
      "metadata": {
        "colab_type": "code",
        "id": "ldus40iKMIru",
        "colab": {
          "base_uri": "https://localhost:8080/",
          "height": 1000
        },
        "outputId": "c5b8b69c-f807-4a58-f59b-facc67cd5e27"
      },
      "source": [
        "#  Open files from GitHub\n",
        "#  Clones an entire repo.\n",
        "!git clone -l -s git://github.com/iypc-team/Swift.git swiftDirectory\n",
        "print()\n",
        "%cd swiftDirectory\n",
        "print('\\n',\"swiftDirectory:\")\n",
        "%ls\n",
        "\n",
        "!git clone -l -s git://github.com/iypc-team/CoLab.git colabDirectory\n",
        "print()\n",
        "%cd colabDirectory\n",
        "print('\\n', \"colabDirectory:\")\n",
        "%ls\n",
        "\n",
        "!git clone -l -s git://github.com/iypc-team/Reinforcement-Learning.git reinforcement-learningDirectory\n",
        "%cd reinforcement-learningDirectory\n",
        "print('\\n', \"reinforcement-learningDirectory:\")\n",
        "%ls\n"
      ],
      "execution_count": 18,
      "outputs": [
        {
          "output_type": "stream",
          "text": [
            "Cloning into 'swiftDirectory'...\n",
            "warning: --local is ignored\n",
            "remote: Enumerating objects: 21, done.\u001b[K\n",
            "remote: Counting objects: 100% (21/21), done.\u001b[K\n",
            "remote: Compressing objects: 100% (19/19), done.\u001b[K\n",
            "remote: Total 21 (delta 6), reused 0 (delta 0), pack-reused 0\u001b[K\n",
            "Receiving objects: 100% (21/21), 47.95 KiB | 701.00 KiB/s, done.\n",
            "Resolving deltas: 100% (6/6), done.\n",
            "\n",
            "/content/swiftDirectory/swiftDirectory/swiftDirectory/coLab/swiftDirectory/coLab/swiftDirectory/coLab/swiftDirectory/colabDirectory/swiftDirectory/colabDirectory/swiftDirectory/colabDirectory/swiftDirectory/colabDirectory/swiftDirectory/colabDirectory/swiftDirectory/swiftDirectory/colabDirectory/swiftDirectory/colabDirectory/reinforcement-learningDirectory/swiftDirectory/colabDirectory/reinforcement-learningDirectory/swiftDirectory/colabDirectory/reinforcement-learningDirectory/swiftDirectory/colabDirectory/reinforcement-learningDirectory/swiftDirectory\n",
            "\n",
            " swiftDirectory:\n",
            "blank_swift.ipynb                   Starter\n",
            "DifferentiableProtocol_swift.ipynb  Swift_import_data.ipynb\n",
            "Differentiable_swift.ipynb          Three_Dimensional_Plotting.ipynb\n",
            "Cloning into 'colabDirectory'...\n",
            "warning: --local is ignored\n",
            "remote: Enumerating objects: 125, done.\u001b[K\n",
            "remote: Counting objects: 100% (125/125), done.\u001b[K\n",
            "remote: Compressing objects: 100% (125/125), done.\u001b[K\n",
            "remote: Total 262 (delta 70), reused 0 (delta 0), pack-reused 137\u001b[K\n",
            "Receiving objects: 100% (262/262), 743.03 KiB | 2.74 MiB/s, done.\n",
            "Resolving deltas: 100% (147/147), done.\n",
            "\n",
            "/content/swiftDirectory/swiftDirectory/swiftDirectory/coLab/swiftDirectory/coLab/swiftDirectory/coLab/swiftDirectory/colabDirectory/swiftDirectory/colabDirectory/swiftDirectory/colabDirectory/swiftDirectory/colabDirectory/swiftDirectory/colabDirectory/swiftDirectory/swiftDirectory/colabDirectory/swiftDirectory/colabDirectory/reinforcement-learningDirectory/swiftDirectory/colabDirectory/reinforcement-learningDirectory/swiftDirectory/colabDirectory/reinforcement-learningDirectory/swiftDirectory/colabDirectory/reinforcement-learningDirectory/swiftDirectory/colabDirectory\n",
            "\n",
            " colabDirectory:\n",
            "basic_classification.ipynb    Firebase_swift.ipynb\n",
            "blank_swift.ipynb             FrozenLake_2.ipynb\n",
            "CartPole_Krohn.ipynb          install_latest_swift.ipynb\n",
            "Classifier_swift.ipynb        Iris_swift.ipynb\n",
            "Copy_of_Firebase_swift.ipynb  Python_Notebook.ipynb\n",
            "CoreData_swift.ipynb          Python_swift.ipynb\n",
            "Custom_differentiation.ipynb  Tensorboard.ipynb\n",
            "DegreesToRadians_swift.ipynb  TensorFlow_swift.ipynb\n",
            "Differentiable_swift.ipynb    TensorFlow_with_GPU.ipynb\n",
            "DispatchQueue_swift.ipynb     TF_Agents_Environments_Tutorial.ipynb\n",
            "DQN_Tutorial.ipynb            TF_Agents_Policies_Tutorial.ipynb\n",
            "External_data.ipynb           Three_Dimensional_Plotting.ipynb\n",
            "Factorial_swift.ipynb\n",
            "Cloning into 'reinforcement-learningDirectory'...\n",
            "warning: --local is ignored\n",
            "remote: Enumerating objects: 321, done.\u001b[K\n",
            "remote: Counting objects: 100% (321/321), done.\u001b[K\n",
            "remote: Compressing objects: 100% (194/194), done.\u001b[K\n",
            "remote: Total 321 (delta 180), reused 214 (delta 124), pack-reused 0\u001b[K\n",
            "Receiving objects: 100% (321/321), 338.47 KiB | 1.65 MiB/s, done.\n",
            "Resolving deltas: 100% (180/180), done.\n",
            "/content/swiftDirectory/swiftDirectory/swiftDirectory/coLab/swiftDirectory/coLab/swiftDirectory/coLab/swiftDirectory/colabDirectory/swiftDirectory/colabDirectory/swiftDirectory/colabDirectory/swiftDirectory/colabDirectory/swiftDirectory/colabDirectory/swiftDirectory/swiftDirectory/colabDirectory/swiftDirectory/colabDirectory/reinforcement-learningDirectory/swiftDirectory/colabDirectory/reinforcement-learningDirectory/swiftDirectory/colabDirectory/reinforcement-learningDirectory/swiftDirectory/colabDirectory/reinforcement-learningDirectory/swiftDirectory/colabDirectory/reinforcement-learningDirectory\n",
            "\n",
            " reinforcement-learningDirectory:\n",
            "'01 DQN_Tutorial.ipynb'\n",
            "'02 TF_Agents_Environments_Tutorial.ipynb'\n",
            "'03 TF_Agents_Policies_Tutorial.ipynb'\n",
            " 04_TF_Agents_Drivers_Tutorial.ipynb\n",
            " 05_TF_Agents_Replay_Buffers_Tutorial.ipynb\n",
            " blank_swift.ipynb\n",
            " CartPole_Krohn.ipynb\n",
            " Copy_of_FrozenLake_2.ipynb\n",
            " DQN_Tutorial.ipynb\n",
            " External_data_Drive,_Sheets,_and_Cloud_Storage.ipynb\n",
            " FrozenLake_2.ipynb\n",
            " Python_Notebook.ipynb\n",
            " REINFORCE_Learning_Tutorial.ipynb\n",
            " Swift_import_data.ipynb\n",
            " Three_Dimensional_Plotting.ipynb\n"
          ],
          "name": "stdout"
        }
      ]
    },
    {
      "cell_type": "markdown",
      "metadata": {
        "colab_type": "text",
        "id": "BaCkyg5CV5jF"
      },
      "source": [
        "# Open files from your local file system\n",
        "\n",
        "`files.upload` returns a dictionary of the files which were uploaded.\n",
        "The dictionary is keyed by the file name, the value is the data which was uploaded."
      ]
    },
    {
      "cell_type": "code",
      "metadata": {
        "colab_type": "code",
        "id": "vz-jH8T_Uk2c",
        "colab": {}
      },
      "source": [
        "from google.colab import files\n",
        "\n",
        "uploaded = files.upload()\n",
        "\n",
        "for fn in uploaded.keys():\n",
        "  print('User uploaded file \"{name}\" with length {length} bytes'.format(\n",
        "      name=fn, length=len(uploaded[fn])))"
      ],
      "execution_count": 0,
      "outputs": []
    },
    {
      "cell_type": "markdown",
      "metadata": {
        "colab_type": "text",
        "id": "Q2CWQGIghDux"
      },
      "source": [
        "# Open files from GCS with gsutil\n",
        "\n",
        "- Use the [Cloud Resource Manager](https://cloud.google.com/resource-manager/) to create a project if you do not already have one.\n",
        "- [Enable billing](https://support.google.com/cloud/answer/6293499#enable-billing) for the project.\n",
        "- See [Google Cloud Storage (GCS) Documentation](https://cloud.google.com/storage/) for more info.\n"
      ]
    },
    {
      "cell_type": "code",
      "metadata": {
        "colab_type": "code",
        "id": "btwrSjoHT_mb",
        "colab": {}
      },
      "source": [
        "from google.colab import auth\n",
        "auth.authenticate_user()\n",
        "\n",
        "# https://cloud.google.com/resource-manager/docs/creating-managing-projects\n",
        "project_id = '[your Cloud Platform project ID]'\n",
        "!gcloud config set project {project_id}"
      ],
      "execution_count": 0,
      "outputs": []
    },
    {
      "cell_type": "code",
      "metadata": {
        "colab_type": "code",
        "id": "lPdTf-6O73ll",
        "colab": {}
      },
      "source": [
        "# Download the file from a given Google Cloud Storage bucket.\n",
        "!gsutil cp gs://{bucket_name}/file_to_download.txt /tmp/gsutil_download.txt\n",
        "  \n",
        "# Print the result to make sure the transfer worked.\n",
        "!cat /tmp/gsutil_download.txt"
      ],
      "execution_count": 0,
      "outputs": []
    },
    {
      "cell_type": "markdown",
      "metadata": {
        "colab_type": "text",
        "id": "s6nDq8Nk7aPN"
      },
      "source": [
        "# Open files from GCS with the Cloud Storage Python API\n",
        "\n",
        "- Use the [Cloud Resource Manager](https://cloud.google.com/resource-manager/) to create a project if you do not already have one.\n",
        "- [Enable billing](https://support.google.com/cloud/answer/6293499#enable-billing) for the project.\n",
        "- See [Google Cloud Storage (GCS) Documentation](https://cloud.google.com/storage/) for more info.\n",
        "\n",
        "You can also use [gsutil](https://cloud.google.com/storage/docs/gsutil) to interact with [Google Cloud Storage (GCS)](https://cloud.google.com/storage/).\n",
        "This snippet is based on [a larger example](https://github.com/GoogleCloudPlatform/storage-file-transfer-json-python/blob/master/chunked_transfer.py)."
      ]
    },
    {
      "cell_type": "code",
      "metadata": {
        "colab_type": "code",
        "id": "z1_FuDjAozF1",
        "colab": {}
      },
      "source": [
        "# Authenticate to GCS.\n",
        "from google.colab import auth\n",
        "auth.authenticate_user()\n",
        "\n",
        "# https://cloud.google.com/resource-manager/docs/creating-managing-projects\n",
        "project_id = '[your Cloud Platform project ID]'\n",
        "\n",
        "# Create the service client.\n",
        "from googleapiclient.discovery import build\n",
        "gcs_service = build('storage', 'v1')\n",
        "\n",
        "from apiclient.http import MediaIoBaseDownload\n",
        "\n",
        "with open('/tmp/gsutil_download.txt', 'wb') as f:\n",
        "  # Download the file from a given Google Cloud Storage bucket.\n",
        "  request = gcs_service.objects().get_media(bucket=bucket_name,\n",
        "                                            object='to_upload.txt')\n",
        "  media = MediaIoBaseDownload(f, request)\n",
        "\n",
        "  done = False\n",
        "  while not done:\n",
        "    # _ is a placeholder for a progress object that we ignore.\n",
        "    # (Our file is small, so we skip reporting progress.)\n",
        "    _, done = media.next_chunk()\n",
        "\n",
        "print('Download complete')"
      ],
      "execution_count": 0,
      "outputs": []
    },
    {
      "cell_type": "code",
      "metadata": {
        "colab_type": "code",
        "id": "DxLyhaiBpAGX",
        "colab": {}
      },
      "source": [
        "# Inspect the file we downloaded to /tmp\n",
        "!cat /tmp/downloaded_from_gcs.txt"
      ],
      "execution_count": 0,
      "outputs": []
    }
  ]
}