{
  "nbformat": 4,
  "nbformat_minor": 5,
  "metadata": {
    "kernelspec": {
      "display_name": "Python 3",
      "language": "python",
      "name": "python3"
    },
    "language_info": {
      "codemirror_mode": {
        "name": "ipython",
        "version": 3
      },
      "file_extension": ".py",
      "mimetype": "text/x-python",
      "name": "python",
      "nbconvert_exporter": "python",
      "pygments_lexer": "ipython3",
      "version": "3.7.10"
    },
    "colab": {
      "name": "PIL_Images.ipynb",
      "private_outputs": true,
      "provenance": [],
      "collapsed_sections": [],
      "machine_shape": "hm",
      "include_colab_link": true
    }
  },
  "cells": [
    {
      "cell_type": "markdown",
      "metadata": {
        "id": "view-in-github",
        "colab_type": "text"
      },
      "source": [
        "<a href=\"https://colab.research.google.com/github/iypc-team/CoLab/blob/master/PIL_Images.ipynb\" target=\"_parent\"><img src=\"https://colab.research.google.com/assets/colab-badge.svg\" alt=\"Open In Colab\"/></a>"
      ]
    },
    {
      "cell_type": "code",
      "metadata": {
        "id": "coordinated-haven"
      },
      "source": [
        "from IPython.display import clear_output\n",
        "import time\n",
        "def sleepyTime():\n",
        "    count=0\n",
        "    try:\n",
        "        while count <= 120:\n",
        "            print(f'sleeping for {count} minutes')\n",
        "            time.sleep(60)\n",
        "            count+=1\n",
        "    except KeyboardInterrupt:\n",
        "        clear_output()\n",
        "# sleepyTime()"
      ],
      "id": "coordinated-haven",
      "execution_count": null,
      "outputs": []
    },
    {
      "cell_type": "code",
      "metadata": {
        "id": "administrative-estonia"
      },
      "source": [
        "from __future__ import absolute_import\n",
        "try:\n",
        "    import tensorflow as tf\n",
        "    print(f'tensorflow: {tf.__version__}')\n",
        "except ModuleNotFoundError as err:\n",
        "    %pip install tensorflow\n",
        "    import tensorflow as tf\n",
        "    print(f'\\ntensorflow: {tf.__version__}')\n",
        "\n",
        "from tensorflow import keras\n",
        "from tensorflow.keras.preprocessing import image\n",
        "from IPython.display import Image, display, clear_output\n",
        "from tensorflow.keras.applications import imagenet_utils\n",
        "import numpy as np\n",
        "\n",
        "import glob, os, shutil, tarfile\n",
        "from os.path import *\n",
        "import numpy as np\n",
        "\n",
        "try: import PIL\n",
        "except ModuleNotFoundError:\n",
        "    %pip install Pillow\n",
        "    import PIL\n",
        "    \n",
        "try: import matplotlib.image as mpimg\n",
        "except ModuleNotFoundError:\n",
        "    %pip install matplotlib\n",
        "    import matplotlib.image as mpimg\n",
        "    \n",
        "try:\n",
        "    from google.colab import drive, files\n",
        "    drive.flush_and_unmount()\n",
        "    drive.mount('/content/gdrive', force_remount=True)\n",
        "except: pass\n",
        "\n",
        "contentPth = os.getcwd()\n",
        "gdrivePth = join(contentPth, 'gdrive')\n",
        "myDrivePth = join(gdrivePth, 'My Drive')\n",
        "modelPth = join(myDrivePth, 'TensorflowModels')\n",
        "imgPth = join(myDrivePth, 'TensorflowImages')\n",
        "imgDirectoryPth = join(contentPth, 'Defcon_Images')\n",
        "\n",
        "deletePth = join(contentPth, 'sample_data')\n",
        "if exists(deletePth):\n",
        "    shutil.rmtree(deletePth)\n",
        "    deletePth=None\n",
        "\n",
        "try:\n",
        "    os.chdir(myDrivePth)\n",
        "    from BashColors import C\n",
        "except FileNotFoundError as err:\n",
        "    # print(err)\n",
        "    from BashColors import C\n",
        "    \n",
        "imagePathList=[]\n",
        "print(f'cwd: {C.Blue}{os.getcwd()}')"
      ],
      "id": "administrative-estonia",
      "execution_count": null,
      "outputs": []
    },
    {
      "cell_type": "code",
      "metadata": {
        "id": "indonesian-mileage"
      },
      "source": [
        "def showImage(thisImagePath, newWidth=64, newHeight=64):\n",
        "    if exists(thisImagePath):\n",
        "        image_name=basename(thisImagePath)\n",
        "        # print(f'{C.IGreen}{thisImagePath}')\n",
        "        print(f'{C.IWhite}{image_name}')\n",
        "\n",
        "        thisImage = image.load_img(path=thisImagePath, \n",
        "                                       target_size=(newWidth, \n",
        "                                                    newHeight))\n",
        "        imgArray = image.img_to_array(img=thisImage)\n",
        "        imgArrayExpandDims = np.expand_dims(a=imgArray, axis=0)\n",
        "        result = tf.keras.applications.mobilenet_v2.preprocess_input(imgArrayExpandDims)\n",
        "        show = Image(filename=thisImagePath, width=newWidth,height=newHeight)\n",
        "        display(show)"
      ],
      "id": "indonesian-mileage",
      "execution_count": null,
      "outputs": []
    },
    {
      "cell_type": "code",
      "metadata": {
        "id": "precise-builder"
      },
      "source": [
        "\n",
        "tar = tarfile.open('originalDefconImages.tar.gz', 'r:gz')\n",
        "tar.extractall()\n",
        "tar.close()"
      ],
      "id": "precise-builder",
      "execution_count": null,
      "outputs": []
    },
    {
      "cell_type": "code",
      "metadata": {
        "id": "racial-magnitude"
      },
      "source": [
        ""
      ],
      "id": "racial-magnitude",
      "execution_count": null,
      "outputs": []
    },
    {
      "cell_type": "code",
      "metadata": {
        "id": "lined-independence"
      },
      "source": [
        "\n",
        "os.chdir(contentPth)\n",
        "imageListGlob=[]\n",
        "imageListGlob=glob.glob('*.png')\n",
        "# print(f'imageListGlob: {len(imageListGlob)} images')\n",
        "imageCount=0\n",
        "\n",
        "def renameImage(thisImg, count):\n",
        "    fullPath = abspath(thisImg)\n",
        "    path = os.sep()\n",
        "    print(f'{imageCount} {C.Purple}{fullPath}{C.ColorOff}')\n",
        " \n",
        "for img in sorted(imageListGlob):\n",
        "    if img.__contains__('rotated'):\n",
        "        imageListGlob.remove(img)\n",
        "        pass\n",
        "    else:\n",
        "        fullPath=abspath(img)\n",
        "        imageCount+=1\n",
        "        # renameImage(thisImg=img, count=imageCount)\n",
        "        showImage(fullPath)"
      ],
      "id": "lined-independence",
      "execution_count": null,
      "outputs": []
    },
    {
      "cell_type": "code",
      "metadata": {
        "id": "center-modification"
      },
      "source": [
        "def rotateImages(nextImage):\n",
        "    from PIL import Image as pilImage\n",
        "    fullPth = abspath(nextImage)\n",
        "    try:\n",
        "        img = pilImage.open('1024 fighter.png') # Relative path\n",
        "        showImage(fullPath)          \n",
        "        #Angle given\n",
        "        img = img.rotate(90) \n",
        "         #Saved in the same relative location\n",
        "        img.save(\"rotated_1024 fighter.png\")\n",
        "        fullPth = abspath('rotated_1024 fighter.png')\n",
        "        showImage(fullPth)\n",
        "    except IOError as err:\n",
        "        print(err)\n",
        "\n",
        "rotateImages(nextImage='1024 fighter.png')"
      ],
      "id": "center-modification",
      "execution_count": null,
      "outputs": []
    }
  ]
}