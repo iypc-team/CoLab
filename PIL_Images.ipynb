{
  "nbformat": 4,
  "nbformat_minor": 5,
  "metadata": {
    "colab": {
      "name": "PIL_Images.ipynb",
      "private_outputs": true,
      "provenance": [],
      "collapsed_sections": [],
      "machine_shape": "hm",
      "include_colab_link": true
    },
    "kernelspec": {
      "display_name": "Python 3",
      "language": "python",
      "name": "python3"
    },
    "language_info": {
      "codemirror_mode": {
        "name": "ipython",
        "version": 3
      },
      "file_extension": ".py",
      "mimetype": "text/x-python",
      "name": "python",
      "nbconvert_exporter": "python",
      "pygments_lexer": "ipython3",
      "version": "3.7.10"
    },
    "accelerator": "GPU"
  },
  "cells": [
    {
      "cell_type": "markdown",
      "metadata": {
        "id": "view-in-github",
        "colab_type": "text"
      },
      "source": [
        "<a href=\"https://colab.research.google.com/github/iypc-team/CoLab/blob/master/PIL_Images.ipynb\" target=\"_parent\"><img src=\"https://colab.research.google.com/assets/colab-badge.svg\" alt=\"Open In Colab\"/></a>"
      ]
    },
    {
      "cell_type": "code",
      "metadata": {
        "id": "coordinated-haven"
      },
      "source": [
        "from IPython.display import clear_output\n",
        "import time\n",
        "def sleepyTime():\n",
        "    count=0\n",
        "    try:\n",
        "        while count <= 120:\n",
        "            print(f'sleeping for {count} minutes')\n",
        "            time.sleep(60)\n",
        "            count+=1\n",
        "    except KeyboardInterrupt:\n",
        "        clear_output()\n",
        "# sleepyTime()\n",
        "print('ok')"
      ],
      "id": "coordinated-haven",
      "execution_count": null,
      "outputs": []
    },
    {
      "cell_type": "code",
      "metadata": {
        "id": "administrative-estonia"
      },
      "source": [
        "from __future__ import absolute_import\n",
        "try:\n",
        "    import tensorflow as tf\n",
        "    print(f'tensorflow: {tf.__version__}')\n",
        "except ModuleNotFoundError as err:\n",
        "    %pip install tensorflow\n",
        "    import tensorflow as tf\n",
        "    print(f'\\ntensorflow: {tf.__version__}')\n",
        "\n",
        "from tensorflow import keras\n",
        "from tensorflow.keras.preprocessing import image\n",
        "from IPython.display import Image, display, clear_output\n",
        "from tensorflow.keras.applications import imagenet_utils\n",
        "import numpy as np\n",
        "\n",
        "import glob, os, shutil, tarfile\n",
        "from os.path import *\n",
        "import numpy as np\n",
        "\n",
        "try: import PIL\n",
        "except ModuleNotFoundError:\n",
        "    %pip install Pillow\n",
        "    import PIL\n",
        "    \n",
        "try: import matplotlib.image as mpimg\n",
        "except ModuleNotFoundError:\n",
        "    %pip install matplotlib\n",
        "    import matplotlib.image as mpimg\n",
        "    \n",
        "try:\n",
        "    from google.colab import drive, files\n",
        "    drive.flush_and_unmount()\n",
        "    drive.mount('/content/gdrive', force_remount=True)\n",
        "except: pass\n",
        "\n",
        "contentPth = os.getcwd()\n",
        "gdrivePth = join(contentPth, 'gdrive')\n",
        "myDrivePth = join(gdrivePth, 'My Drive')\n",
        "modelPth = join(myDrivePth, 'TensorflowModels')\n",
        "imgPth = join(myDrivePth, 'TensorflowImages')\n",
        "imgDirectoryPth = join(contentPth, 'Defcon_Images')\n",
        "\n",
        "deletePth = join(contentPth, 'sample_data')\n",
        "if exists(deletePth):\n",
        "    shutil.rmtree(deletePth)\n",
        "    deletePth=None\n",
        "\n",
        "try:\n",
        "    os.chdir(myDrivePth)\n",
        "    from BashColors import C\n",
        "except FileNotFoundError as err:\n",
        "    # print(err)\n",
        "    from BashColors import C\n",
        "    \n",
        "imagePathList=[]\n",
        "print(f'cwd: {C.Blue}{os.getcwd()}')"
      ],
      "id": "administrative-estonia",
      "execution_count": null,
      "outputs": []
    },
    {
      "cell_type": "code",
      "metadata": {
        "id": "7Q6LzzJqZAR4"
      },
      "source": [
        "\n",
        "tf.debugging.set_log_device_placement(True)\n",
        "print(tf.config.list_physical_devices())\n",
        "with tf.device('GPU'):\n",
        "    print('ok')\n",
        "tf.device('GPU')"
      ],
      "id": "7Q6LzzJqZAR4",
      "execution_count": null,
      "outputs": []
    },
    {
      "cell_type": "code",
      "metadata": {
        "id": "dgJsdWrtlPDH"
      },
      "source": [
        "import matplotlib.pyplot as plt\n",
        "\n",
        "from tensorflow.keras.layers.experimental.preprocessing import Resizing\n",
        "from tensorflow.keras.layers.experimental.preprocessing import Rescaling\n",
        "def resize_rescale(inputImage, imageSize=224):\n",
        "    resize_and_rescale = tf.keras.Sequential([Resizing(imageSize, imageSize, 3),\n",
        "                                              Rescaling(1.0/255)])\n",
        "    result = resize_and_rescale(inputImage)\n",
        "    return result\n"
      ],
      "id": "dgJsdWrtlPDH",
      "execution_count": null,
      "outputs": []
    },
    {
      "cell_type": "code",
      "metadata": {
        "id": "0129gvp4s-nn"
      },
      "source": [
        ""
      ],
      "id": "0129gvp4s-nn",
      "execution_count": null,
      "outputs": []
    },
    {
      "cell_type": "code",
      "metadata": {
        "id": "center-modification"
      },
      "source": [
        "def rotateImages(nextImage, rotationAngle):\n",
        "    imageCount=0\n",
        "    print(nextImage)\n",
        "    from PIL import Image as pilImage\n",
        "    try:\n",
        "        img = pilImage.open(nextImage) # Relative path\n",
        "        img.save(nextImage)\n",
        "        # showImage(nextImage, newWidth=224, newHeight=224)\n",
        "        \n",
        "        # angleList=[45, 90, 135, 180, 225, 270, 315]\n",
        "        angleList=[rotationAngle]\n",
        "        for angle in angleList:\n",
        "            imageCount+=1\n",
        "            img = img.rotate(angle)\n",
        "            newName = nextImage + '_rotated_' + str(angle) + '.png'\n",
        "            # print(f'{C.BBlue}{newName}{C.ColorOff}')\n",
        "            img.save(newName)\n",
        "            fullPth = abspath(newName)\n",
        "            # print(fullPth)\n",
        "            showImage(fullPth, newWidth=224, newHeight=224)\n",
        "    except IOError as err:\n",
        "        print(err)\n",
        "print('ok')"
      ],
      "id": "center-modification",
      "execution_count": null,
      "outputs": []
    },
    {
      "cell_type": "code",
      "metadata": {
        "id": "indonesian-mileage"
      },
      "source": [
        "result=None\n",
        "from tensorflow.keras.applications.mobilenet_v2 import preprocess_input\n",
        "def showImage(thisImagePath, newWidth=64, newHeight=64):\n",
        "    if exists(thisImagePath):\n",
        "        image_name=basename(thisImagePath)\n",
        "        print(f'{C.Green}{thisImagePath}')\n",
        "        print(f'{C.IWhite}{image_name}')\n",
        "\n",
        "        thisImage = image.load_img(path=thisImagePath, \n",
        "                                       target_size=(newWidth, \n",
        "                                                    newHeight))\n",
        "        imgArray = image.img_to_array(img=thisImage)\n",
        "        imgArrayExpandDims = np.expand_dims(a=imgArray, axis=0)\n",
        "        result=preprocess_input(imgArrayExpandDims)\n",
        "        # result = tf.keras.applications.mobilenet_v2.preprocess_input(imgArrayExpandDims)\n",
        "        show = Image(filename=thisImagePath, width=newWidth,height=newHeight)\n",
        "        display(show)\n",
        "\n",
        "print('ok')\n",
        "print('Image: ', Image)"
      ],
      "id": "indonesian-mileage",
      "execution_count": null,
      "outputs": []
    },
    {
      "cell_type": "code",
      "metadata": {
        "id": "precise-builder"
      },
      "source": [
        "try:\n",
        "    tar = tarfile.open('originalDefconImages.tar.gz', 'r:gz')\n",
        "    tar.extractall()\n",
        "    tar.close()\n",
        "except FileNotFoundError:\n",
        "    if exists(myDrivePth):\n",
        "        os.chdir(myDrivePth)\n",
        "    else: os.chdir(contentPth)\n",
        "    print(f'cwd: {C.Blue}{os.getcwd()}')\n",
        "    tar = tarfile.open('Original_Defcon_Images.tar.gz')\n",
        "    tar.extractall()\n",
        "    tar.close()"
      ],
      "id": "precise-builder",
      "execution_count": null,
      "outputs": []
    },
    {
      "cell_type": "code",
      "metadata": {
        "id": "racial-magnitude"
      },
      "source": [
        "fileList=glob.glob('**', recursive=True)\n",
        "for fil in sorted(fileList):\n",
        "    if isfile(fil) and fil.endswith('.png'):\n",
        "        print(f'{C.BPurple}{fil}')\n",
        "        newFilePth=join(contentPth, basename(fil))\n",
        "        if not exists(newFilePth):\n",
        "            shutil.copy2(fil, contentPth)\n",
        "            print(f'{C.Green}{newFilePth}\\n')\n",
        "        elif exists(newFilePth):\n",
        "            print(f'{C.Green}{newFilePth}\\n')"
      ],
      "id": "racial-magnitude",
      "execution_count": null,
      "outputs": []
    },
    {
      "cell_type": "code",
      "metadata": {
        "id": "lined-independence"
      },
      "source": [
        "os.chdir(contentPth)\n",
        "\n",
        "imageListGlob=[]\n",
        "print(f'imageListGlob: {len(imageListGlob)} images')\n",
        "imageCount=0\n",
        " \n",
        "for img in sorted(imageListGlob):\n",
        "    if img.__contains__('rotated'):\n",
        "        imageListGlob.remove(img)\n",
        "        pass\n",
        "    else:\n",
        "        fullPath=abspath(img)\n",
        "        imageCount+=1\n",
        "        # renameImage(thisImg=img, count=imageCount)\n",
        "        showImage(fullPath)"
      ],
      "id": "lined-independence",
      "execution_count": null,
      "outputs": []
    },
    {
      "cell_type": "code",
      "metadata": {
        "id": "-zJa1ymHpp89"
      },
      "source": [
        "imageListGlob=[]\n",
        "imageNameList=[]\n",
        "os.chdir(contentPth)\n",
        "imageListGlob=glob.glob('**', recursive=False)\n",
        "for img in sorted(imageListGlob):\n",
        "    if img.endswith('.png') and not img.__contains__('rotated'):\n",
        "        fullPth = abspath(img)\n",
        "        print(img)\n",
        "        imageNameList.append(img)\n",
        "        # print(fullPth)\n",
        "        # shutil.copy2(fullPth, contentPth)"
      ],
      "id": "-zJa1ymHpp89",
      "execution_count": null,
      "outputs": []
    },
    {
      "cell_type": "code",
      "metadata": {
        "id": "YlpfOw1vsVWV"
      },
      "source": [
        "for name in sorted(imageNameList):\n",
        "    # print(name)\n",
        "    fullName=abspath(name)\n",
        "\n",
        "    #showImage(thisImagePath=fullName,\n",
        "              #newWidth=512, newHeight=512)\n",
        "    \n",
        "    rotateImages(nextImage=name, rotationAngle=90)\n",
        "    rotateImages(nextImage=name, rotationAngle=180)\n"
      ],
      "id": "YlpfOw1vsVWV",
      "execution_count": null,
      "outputs": []
    }
  ]
}