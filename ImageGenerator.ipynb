{
  "nbformat": 4,
  "nbformat_minor": 5,
  "metadata": {
    "kernelspec": {
      "display_name": "Python 3",
      "language": "python",
      "name": "python3"
    },
    "language_info": {
      "codemirror_mode": {
        "name": "ipython",
        "version": 3
      },
      "file_extension": ".py",
      "mimetype": "text/x-python",
      "name": "python",
      "nbconvert_exporter": "python",
      "pygments_lexer": "ipython3",
      "version": "3.7.9"
    },
    "colab": {
      "name": "ImageGenerator.ipynb",
      "private_outputs": true,
      "provenance": [],
      "collapsed_sections": [],
      "include_colab_link": true
    }
  },
  "cells": [
    {
      "cell_type": "markdown",
      "metadata": {
        "id": "view-in-github",
        "colab_type": "text"
      },
      "source": [
        "<a href=\"https://colab.research.google.com/github/iypc-team/CoLab/blob/master/ImageGenerator.ipynb\" target=\"_parent\"><img src=\"https://colab.research.google.com/assets/colab-badge.svg\" alt=\"Open In Colab\"/></a>"
      ]
    },
    {
      "cell_type": "code",
      "metadata": {
        "id": "legislative-found"
      },
      "source": [
        "from __future__ import absolute_import\n",
        "import glob, os, shutil\n",
        "from os.path import *\n",
        "from pathlib import Path\n",
        "try: from google.colab import drive, files\n",
        "except ModuleNotFoundError:\n",
        "    %pip install tornado~=4.5.0\n",
        "    %pip install google-colab\n",
        "\n",
        "drive.flush_and_unmount()\n",
        "drive.mount('/content/drive', force_remount=True)\n",
        "contentPth = '/content'\n",
        "drivePth = '/content/drive'\n",
        "myDrivePth = '/content/drive/My Drive'\n",
        "pyFilesPth = '/content/drive/My Drive/PythonFiles'\n",
        "\n",
        "deletePth = join(contentPth, 'sample_data')\n",
        "if exists(deletePth):\n",
        "    shutil.rmtree(deletePth)\n",
        "else: pass\n",
        "\n",
        "os.chdir(pyFilesPth)\n",
        "import ImportDriveFiles\n",
        "from BashColors import C\n",
        "os.chdir(contentPth)\n",
        "print(f'cwd: {C.Cyan}{Path.cwd()}')"
      ],
      "id": "legislative-found",
      "execution_count": null,
      "outputs": []
    },
    {
      "cell_type": "code",
      "metadata": {
        "id": "chubby-curtis"
      },
      "source": [
        "import glob, os\n",
        "os.environ['TF_CPP_MIN_LOG_LEVEL'] = str(2)\n",
        "try: \n",
        "    import tensorflow as tf\n",
        "    print(f'tensorflow: {tf.__version__}')\n",
        "except ModuleNotFoundError:\n",
        "    %pip install tensorflow\n",
        "    import tensorflow as tf\n",
        "    print(f'tensorflow: {tf.__version__}')\n",
        "from tensorflow import keras\n",
        "from tensorflow.keras import layers\n",
        "from tensorflow.keras.preprocessing.image import ImageDataGenerator\n",
        "dataDirectory = 'data/mnist_subfolders'\n",
        "os.makedirs(dataDirectory, exist_ok=True)\n"
      ],
      "id": "chubby-curtis",
      "execution_count": null,
      "outputs": []
    },
    {
      "cell_type": "code",
      "metadata": {
        "id": "necessary-color"
      },
      "source": [
        "img_width = 28\n",
        "img_heighth = 28\n",
        "batch_size = 2\n",
        "\n",
        "model = keras.Sequential([\n",
        "    layers.Input((28, 28, 3)),\n",
        "    layers.Conv2D(16, 3, padding='same'),\n",
        "    layers.Conv2D(32, 3, padding='same'),\n",
        "    layers.MaxPooling2D(),\n",
        "    layers.Flatten(),\n",
        "    layers.Dense(10)\n",
        "])\n",
        "\n",
        "model.summary()"
      ],
      "id": "necessary-color",
      "execution_count": null,
      "outputs": []
    },
    {
      "cell_type": "code",
      "metadata": {
        "id": "painted-stuart"
      },
      "source": [
        "ds_train = tf.keras.preprocessing.image_dataset_from_directory(\n",
        "    directory='data/mnist_subfolders',\n",
        "    labels='inferred',\n",
        "    \n",
        ")"
      ],
      "id": "painted-stuart",
      "execution_count": null,
      "outputs": []
    },
    {
      "cell_type": "code",
      "metadata": {
        "id": "undefined-gateway"
      },
      "source": [
        ""
      ],
      "id": "undefined-gateway",
      "execution_count": null,
      "outputs": []
    }
  ]
}