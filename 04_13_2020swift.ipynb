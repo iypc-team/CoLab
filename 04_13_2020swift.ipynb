{
  "nbformat": 4,
  "nbformat_minor": 0,
  "metadata": {
    "colab": {
      "name": "04/13/2020swift.ipynb",
      "provenance": [],
      "collapsed_sections": [],
      "include_colab_link": true
    },
    "kernelspec": {
      "name": "swift",
      "display_name": "Swift"
    }
  },
  "cells": [
    {
      "cell_type": "markdown",
      "metadata": {
        "id": "view-in-github",
        "colab_type": "text"
      },
      "source": [
        "<a href=\"https://colab.research.google.com/github/iypc-team/CoLab/blob/master/04_13_2020swift.ipynb\" target=\"_parent\"><img src=\"https://colab.research.google.com/assets/colab-badge.svg\" alt=\"Open In Colab\"/></a>"
      ]
    },
    {
      "cell_type": "code",
      "metadata": {
        "id": "kZRlD4utdPuX",
        "colab_type": "code",
        "colab": {
          "base_uri": "https://localhost:8080/",
          "height": 155
        },
        "outputId": "f9483b81-b5f1-4f0a-da27-cba328595614"
      },
      "source": [
        "import Swift\n",
        "import PythonKit\n",
        "import Foundation\n",
        "import Dispatch\n",
        "import DateComponents\n",
        "\n",
        "import os\n",
        "\n",
        "let dc = DateComponents()\n",
        "let po = PythonObject()\n",
        "\n",
        "var path:PythonObject = \"bullshit\"\n",
        "var ex = \"extra bullshit\"\n",
        "\n",
        "print(path)\n",
        "print(\"and\")\n",
        "print(ex)\n"
      ],
      "execution_count": 0,
      "outputs": [
        {
          "output_type": "error",
          "ename": "",
          "evalue": "ignored",
          "traceback": [
            "Kernel is in a bad state. Try restarting the kernel.",
            "",
            "Exception in `_execute_cell`:",
            "Error setting parent message: SwiftError(result=<lldb.SBValue; proxy of <Swig Object of type 'lldb::SBValue *' at 0x7fb469596c30> >, description='error: <Cell 2>:2:13: error: use of unresolved identifier \\'JupyterKernel\\'\\n            JupyterKernel.communicator.updateParentMessage(\\n            ^~~~~~~~~~~~~\\n\\nerror: <Cell 2>:3:21: error: use of unresolved identifier \\'KernelCommunicator\\'\\n                to: KernelCommunicator.ParentMessage(json: \"{\\\\\"header\\\\\": {\\\\\"username\\\\\": \\\\\"username\\\\\", \\\\\"msg_type\\\\\": \\\\\"execute_request\\\\\", \\\\\"msg_id\\\\\": \\\\\"1653ed5845894c3f87b95db401868896\\\\\", \\\\\"version\\\\\": \\\\\"5.0\\\\\", \\\\\"session\\\\\": \\\\\"16c09b024a3c471f9aac0c505ee2edf1\\\\\", \\\\\"date\\\\\": \\\\\"2020-04-13T21:34:05.163026+00:00\\\\\"}, \\\\\"msg_id\\\\\": \\\\\"1653ed5845894c3f87b95db401868896\\\\\", \\\\\"msg_type\\\\\": \\\\\"execute_request\\\\\", \\\\\"parent_header\\\\\": {}, \\\\\"metadata\\\\\": {\\\\\"colab\\\\\": {\\\\\"cell_id\\\\\": \\\\\"kZRlD4utdPuX\\\\\"}}, \\\\\"content\\\\\": {\\\\\"code\\\\\": \\\\\"import Swift\\\\\\\\nimport PythonKit\\\\\\\\nimport Foundation\\\\\\\\nimport Dispatch\\\\\\\\nimport DateComponents\\\\\\\\n\\\\\\\\nimport os\\\\\\\\n\\\\\\\\nlet dc = DateComponents()\\\\\\\\nlet po = PythonObject()\\\\\\\\n\\\\\\\\nvar path:PythonObject = \\\\\\\\\\\\\"bullshit\\\\\\\\\\\\\"\\\\\\\\nvar ex = \\\\\\\\\\\\\"extra bullshit\\\\\\\\\\\\\"\\\\\\\\n\\\\\\\\nprint(path)\\\\\\\\nprint(\\\\\\\\\\\\\"and\\\\\\\\\\\\\")\\\\\\\\nprint(ex)\\\\\\\\n\\\\\", \\\\\"silent\\\\\": false, \\\\\"user_variables\\\\\": [], \\\\\"store_history\\\\\": true, \\\\\"user_expressions\\\\\": {}, \\\\\"allow_stdin\\\\\": true}, \\\\\"buffers\\\\\": []}\"))\\n                    ^~~~~~~~~~~~~~~~~~\\n\\n')"
          ]
        }
      ]
    }
  ]
}