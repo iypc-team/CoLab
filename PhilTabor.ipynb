{
  "nbformat": 4,
  "nbformat_minor": 0,
  "metadata": {
    "kernelspec": {
      "display_name": "Python 3",
      "language": "python",
      "name": "python3"
    },
    "language_info": {
      "codemirror_mode": {
        "name": "ipython",
        "version": 3
      },
      "file_extension": ".py",
      "mimetype": "text/x-python",
      "name": "python",
      "nbconvert_exporter": "python",
      "pygments_lexer": "ipython3",
      "version": "3.7.6"
    },
    "colab": {
      "name": "PhilTabor.ipynb",
      "provenance": [],
      "collapsed_sections": [],
      "machine_shape": "hm",
      "include_colab_link": true
    },
    "accelerator": "TPU"
  },
  "cells": [
    {
      "cell_type": "markdown",
      "metadata": {
        "id": "view-in-github",
        "colab_type": "text"
      },
      "source": [
        "<a href=\"https://colab.research.google.com/github/iypc-team/CoLab/blob/master/PhilTabor.ipynb\" target=\"_parent\"><img src=\"https://colab.research.google.com/assets/colab-badge.svg\" alt=\"Open In Colab\"/></a>"
      ]
    },
    {
      "cell_type": "code",
      "metadata": {
        "id": "WAKp4fX1o-ip"
      },
      "source": [
        "from __future__ import absolute_import\n",
        "from IPython.display import clear_output\n",
        "try:\n",
        "    import git\n",
        "except: \n",
        "    !pip install GitPython\n",
        "    import git"
      ],
      "execution_count": null,
      "outputs": []
    },
    {
      "cell_type": "code",
      "metadata": {
        "id": "TGp-kEowjvoH"
      },
      "source": [
        "import os, shutil, sys\n",
        "from google.colab import drive\n",
        "gDrive=drive.mount(\"/content/drive\", force_remount=True) \n",
        "contentPath=os.path.join('/content')\n",
        "myDrivePath=os.path.join(\"/content/drive/My Drive\")\n",
        "pythonFilesPath='/content/drive/My Drive/PythonFiles'\n",
        "os.chdir(pythonFilesPath)"
      ],
      "execution_count": null,
      "outputs": []
    },
    {
      "cell_type": "code",
      "metadata": {
        "id": "gFL9_Ga9mUJ6"
      },
      "source": [
        "os.chdir(pythonFilesPath)\n",
        "import ImportDriveFiles\n",
        "import ColabDriveFiles\n",
        "from ColabDriveFiles import *\n",
        "from BashColors import C\n",
        "import git, gitdb, glob, os, pathlib, sys\n",
        "from os.path import *\n",
        "from pathlib import Path\n",
        "from git import Repo\n",
        "\n",
        "try:\n",
        "    os.chdir(myDrivePath)\n",
        "    ptaborPath = join(myDrivePath, 'PT')\n",
        "    print(ptaborPath)\n",
        "    if not exists(ptaborPath):\n",
        "        Repo.clone_from('https://github.com/philtabor/Actor-Critic-Methods-Paper-To-Code', 'PT') \n",
        "        cdf.updateFiles()\n",
        "\n",
        "        \n",
        "except Exception as err:\n",
        "    print(err)\n",
        "    \n",
        "af=cdf.updateFiles()"
      ],
      "execution_count": null,
      "outputs": []
    },
    {
      "cell_type": "code",
      "metadata": {
        "id": "zbLV9xOOAnm2"
      },
      "source": [
        "all_files=cdf.updateFiles()\n",
        "for fil in all_files:\n",
        "    if isdir(fil) and fil.__contains__('__pycache__'):\n",
        "        fullPath=abspath(fil)\n",
        "        shutil.rmtree(fullPath)\n",
        "        cdf.updateFiles()\n",
        "    else: pass"
      ],
      "execution_count": null,
      "outputs": []
    },
    {
      "cell_type": "code",
      "metadata": {
        "id": "PBD_Ss4_vC-v"
      },
      "source": [
        "cdf.updateFiles()\n",
        "os.chdir(contentPath)\n",
        "gDriveDict = {}\n",
        "fileCount = 0\n",
        "\n",
        "for fil in sorted(cdf.allFiles):\n",
        "    fullPath = abspath(fil)\n",
        "    print(fullPath)\n",
        "    if isdir(fullPath):\n",
        "        print(f'{C.Blue}{fullPath}')\n",
        "    elif isfile(fullPath) and fil.endswith('.py'):\n",
        "        fileCount += 1\n",
        "        gDriveDict[fileCount] = fullPath\n",
        "        print(f'{C.White}{fileCount}. {fullPath.name}')\n"
      ],
      "execution_count": null,
      "outputs": []
    },
    {
      "cell_type": "code",
      "metadata": {
        "id": "BjMUwfCvvEOP"
      },
      "source": [
        "cdf.printSystemPaths()"
      ],
      "execution_count": null,
      "outputs": []
    }
  ]
}