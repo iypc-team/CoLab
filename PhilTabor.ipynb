{
  "nbformat": 4,
  "nbformat_minor": 0,
  "metadata": {
    "kernelspec": {
      "display_name": "Python 3",
      "language": "python",
      "name": "python3"
    },
    "language_info": {
      "codemirror_mode": {
        "name": "ipython",
        "version": 3
      },
      "file_extension": ".py",
      "mimetype": "text/x-python",
      "name": "python",
      "nbconvert_exporter": "python",
      "pygments_lexer": "ipython3",
      "version": "3.7.6"
    },
    "colab": {
      "name": "PhilTabor.ipynb",
      "provenance": [],
      "collapsed_sections": [],
      "include_colab_link": true
    }
  },
  "cells": [
    {
      "cell_type": "markdown",
      "metadata": {
        "id": "view-in-github",
        "colab_type": "text"
      },
      "source": [
        "<a href=\"https://colab.research.google.com/github/iypc-team/CoLab/blob/master/PhilTabor.ipynb\" target=\"_parent\"><img src=\"https://colab.research.google.com/assets/colab-badge.svg\" alt=\"Open In Colab\"/></a>"
      ]
    },
    {
      "cell_type": "code",
      "metadata": {
        "id": "WAKp4fX1o-ip",
        "colab_type": "code",
        "colab": {}
      },
      "source": [
        "# !pip install GitPython\n",
        "!apt-get install GitPython"
      ],
      "execution_count": null,
      "outputs": []
    },
    {
      "cell_type": "code",
      "metadata": {
        "id": "gFL9_Ga9mUJ6",
        "colab_type": "code",
        "colab": {}
      },
      "source": [
        "import git, gitdb, glob, os, pathlib, sys\n",
        "from os.path import *\n",
        "from pathlib import Path\n",
        "from git import Repo\n",
        "\n",
        "# Repo.clone_from('https://github.com/philtabor/Actor-Critic-Methods-Paper-To-Code', 'PT')\n",
        "\n",
        "allFiles = glob.glob('**', recursive=True)\n",
        "\n",
        "print(Path.cwd(), '\\nok')"
      ],
      "execution_count": null,
      "outputs": []
    },
    {
      "cell_type": "code",
      "metadata": {
        "id": "uyFeZYclmUKq",
        "colab_type": "code",
        "colab": {}
      },
      "source": [
        "def appendSystemPaths(addNewPath=None, showPaths=False):\n",
        "    systemPaths = sys.path.copy()\n",
        "    if not addNewPath in systemPaths and not addNewPath == None:\n",
        "        sys.path.append(addNewPath)\n",
        "    else: pass\n",
        "    \n",
        "    if showPaths:\n",
        "        systemPaths = sys.path.copy()\n",
        "        pathNumber = 0\n",
        "        for pth in systemPaths:\n",
        "            pathNumber += 1\n",
        "            print(f'{pathNumber}. {pth}')\n",
        "appendSystemPaths(showPaths=True)"
      ],
      "execution_count": null,
      "outputs": []
    },
    {
      "cell_type": "code",
      "metadata": {
        "id": "beQ5JT8jmULU",
        "colab_type": "code",
        "colab": {}
      },
      "source": [
        "\n",
        "allFilesDict = {}\n",
        "fileCount = 0\n",
        "for fil in allFiles:\n",
        "    fullPath = Path(abspath(fil))\n",
        "    if isdir(fullPath):\n",
        "        appendSystemPaths(addNewPath=fullPath)\n",
        "        print(f'\\n{fullPath}')\n",
        "    elif isfile(fullPath) and abspath(fullPath).endswith('.py'):\n",
        "        fileCount += 1\n",
        "        allFilesDict[fileCount] = fullPath\n",
        "        print(f'{fileCount}. {fullPath.name}')"
      ],
      "execution_count": null,
      "outputs": []
    },
    {
      "cell_type": "code",
      "metadata": {
        "id": "bYfuURgRmUL3",
        "colab_type": "code",
        "colab": {}
      },
      "source": [
        "selection = int(input('selection: '))\n",
        "if selection <= len(allFilesDict):\n",
        "    pth = allFilesDict[selection]\n",
        "    print(f'{pth.name}\\n')\n",
        "    \n",
        "with open(pth, 'r') as openFile:\n",
        "    txt = openFile.read()\n",
        "    print(f'{txt}')"
      ],
      "execution_count": null,
      "outputs": []
    }
  ]
}