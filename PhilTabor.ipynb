{
  "nbformat": 4,
  "nbformat_minor": 0,
  "metadata": {
    "kernelspec": {
      "display_name": "Python 3",
      "language": "python",
      "name": "python3"
    },
    "language_info": {
      "codemirror_mode": {
        "name": "ipython",
        "version": 3
      },
      "file_extension": ".py",
      "mimetype": "text/x-python",
      "name": "python",
      "nbconvert_exporter": "python",
      "pygments_lexer": "ipython3",
      "version": "3.7.6"
    },
    "colab": {
      "name": "PhilTabor.ipynb",
      "provenance": [],
      "collapsed_sections": [],
      "include_colab_link": true
    }
  },
  "cells": [
    {
      "cell_type": "markdown",
      "metadata": {
        "id": "view-in-github",
        "colab_type": "text"
      },
      "source": [
        "<a href=\"https://colab.research.google.com/github/iypc-team/CoLab/blob/master/PhilTabor.ipynb\" target=\"_parent\"><img src=\"https://colab.research.google.com/assets/colab-badge.svg\" alt=\"Open In Colab\"/></a>"
      ]
    },
    {
      "cell_type": "code",
      "metadata": {
        "id": "WAKp4fX1o-ip",
        "colab_type": "code",
        "colab": {}
      },
      "source": [
        "!pip install GitPython\n",
        "# !apt-get install GitPython"
      ],
      "execution_count": null,
      "outputs": []
    },
    {
      "cell_type": "code",
      "metadata": {
        "id": "gFL9_Ga9mUJ6",
        "colab_type": "code",
        "colab": {}
      },
      "source": [
        "import git, gitdb, glob, os, pathlib, sys\n",
        "from os.path import *\n",
        "from pathlib import Path\n",
        "from git import Repo\n",
        "\n",
        "# Repo.clone_from('https://github.com/philtabor/Actor-Critic-Methods-Paper-To-Code', 'PT')\n",
        "Repo.clone_from('https://github.com/iypc-team/tensorflow', 'TF')\n",
        "\n",
        "allFiles = glob.glob('**', recursive=True)\n",
        "\n",
        "print(Path.cwd(), '\\nok')"
      ],
      "execution_count": null,
      "outputs": []
    },
    {
      "cell_type": "code",
      "metadata": {
        "id": "TGp-kEowjvoH",
        "colab_type": "code",
        "colab": {}
      },
      "source": [
        "from google.colab import drive\n",
        "gDrive = drive.mount('/content/drive') \n"
      ],
      "execution_count": null,
      "outputs": []
    },
    {
      "cell_type": "code",
      "metadata": {
        "id": "uyFeZYclmUKq",
        "colab_type": "code",
        "colab": {}
      },
      "source": [
        "def appendSystemPaths(addNewPath=None, showPaths=False):\n",
        "    systemPaths = sys.path.copy()\n",
        "    if not addNewPath in systemPaths and not addNewPath == None:\n",
        "        sys.path.append(addNewPath)\n",
        "    else: pass\n",
        "    \n",
        "    if showPaths:\n",
        "        systemPaths = sys.path.copy()\n",
        "        pathNumber = 0\n",
        "        for pth in systemPaths:\n",
        "            pathNumber += 1\n",
        "            print(f'{pathNumber}. {pth}')\n",
        "appendSystemPaths(showPaths=True)"
      ],
      "execution_count": null,
      "outputs": []
    },
    {
      "cell_type": "code",
      "metadata": {
        "id": "beQ5JT8jmULU",
        "colab_type": "code",
        "colab": {}
      },
      "source": [
        "\n",
        "allFilesDict = {}\n",
        "fileCount = 0\n",
        "for fil in sorted(allFiles):\n",
        "    fullPath = Path(abspath(fil))\n",
        "    if isdir(fullPath):\n",
        "        appendSystemPaths(addNewPath=fullPath)\n",
        "        print(f'\\n{fullPath}')\n",
        "    elif isfile(fullPath) and abspath(fullPath).endswith('.py'):\n",
        "        fileCount += 1\n",
        "        allFilesDict[fileCount] = fullPath\n",
        "        print(f'{fileCount}. {fullPath.name}')"
      ],
      "execution_count": null,
      "outputs": []
    },
    {
      "cell_type": "code",
      "metadata": {
        "id": "bYfuURgRmUL3",
        "colab_type": "code",
        "colab": {}
      },
      "source": [
        "selection = int(input('selection: '))\n",
        "if selection <= len(allFilesDict):\n",
        "    pth = allFilesDict[selection]\n",
        "    print(f'{pth.name}\\n')\n",
        "    \n",
        "with open(pth, 'r') as openFile:\n",
        "    txt = openFile.read()\n",
        "    print(f'{txt}')"
      ],
      "execution_count": null,
      "outputs": []
    },
    {
      "cell_type": "code",
      "metadata": {
        "id": "zodsKBwIq7wQ",
        "colab_type": "code",
        "colab": {}
      },
      "source": [
        "gDrive.__class__"
      ],
      "execution_count": null,
      "outputs": []
    },
    {
      "cell_type": "code",
      "metadata": {
        "id": "0tYlbP5mmbWX",
        "colab_type": "code",
        "colab": {}
      },
      "source": [
        "os.chdir('/content/drive')\n",
        "gDriveFiles = glob.glob('**', recursive=True)\n",
        "len(gDriveFiles)"
      ],
      "execution_count": null,
      "outputs": []
    },
    {
      "cell_type": "code",
      "metadata": {
        "id": "PBD_Ss4_vC-v",
        "colab_type": "code",
        "colab": {
          "base_uri": "https://localhost:8080/",
          "height": 1000
        },
        "outputId": "95d5c07d-bfe8-45ee-ba57-2c614e2239f1"
      },
      "source": [
        "gDriveDict = {}\n",
        "fileCount = 0\n",
        "for fil in gDriveFiles:\n",
        "\n",
        "    fullPath = Path(realpath(fil))\n",
        "    if isdir(fullPath):\n",
        "        print(fullPath)\n",
        "    elif isfile(fullPath):\n",
        "        fileCount += 1\n",
        "        \n",
        "\n",
        "    print(fil)"
      ],
      "execution_count": 17,
      "outputs": [
        {
          "output_type": "stream",
          "text": [
            "/content/drive/My Drive\n",
            "My Drive\n",
            "/content/drive/My Drive/Swift\n",
            "My Drive/Swift\n",
            "My Drive/Swift/Python_swift.ipynb\n",
            "My Drive/Swift/Swift for TensorFlow\n",
            "My Drive/Swift/Python_Integration_swift (1).ipynb\n",
            "My Drive/Swift/blank_swift.ipynb\n",
            "My Drive/Swift/Differentiable_swift (1).ipynb\n",
            "My Drive/Swift/Network_swift (1).ipynb\n",
            "My Drive/Swift/Downloads_swift.ipynb\n",
            "My Drive/Swift/Python_Integration_swift.ipynb\n",
            "My Drive/Swift/Network_swift.ipynb\n",
            "My Drive/Swift/Celsius-swift.ipynb\n",
            "My Drive/Swift/Differentiable_swift.ipynb\n",
            "My Drive/gAuth (1).txt\n",
            "My Drive/DuelingDeepQNetwork.ipynb\n",
            "My Drive/ColorUtil.py\n",
            "My Drive/SysPaths.py\n",
            "My Drive/gAuth.txt\n",
            "My Drive/gAuthCredentials.txt\n",
            "/content/drive/My Drive/Images\n",
            "My Drive/Images\n",
            "My Drive/Images/IMG_0134.JPG\n",
            "My Drive/Images/IMG_0147.JPG\n",
            "My Drive/Images/IMG_0146.JPG\n",
            "My Drive/Images/IMG_0105.JPG\n",
            "My Drive/Images/IMG_0103.JPG\n",
            "My Drive/Images/IMG_0104.JPG\n",
            "My Drive/Images/IMG_0106.JPG\n",
            "My Drive/Images/IMG_0109.JPG\n",
            "My Drive/Images/IMG_0145.JPG\n",
            "/content/drive/My Drive/Colab Notebooks\n",
            "My Drive/Colab Notebooks\n",
            "/content/drive/My Drive/Colab Notebooks/Python\n",
            "My Drive/Colab Notebooks/Python\n",
            "My Drive/Colab Notebooks/Python/TensorFlow with TPU\n",
            "My Drive/Colab Notebooks/Python/REINFORCE Learning Tutorial.ipynb\n",
            "My Drive/Colab Notebooks/Python/External data: Google Drive\n",
            "My Drive/Colab Notebooks/Python/REINFORCE Tutorial.ipynb\n",
            "My Drive/Colab Notebooks/Python/blank_swift (3).ipynb\n",
            "My Drive/Colab Notebooks/Python/Differentiable_swift (1).ipynb\n",
            "My Drive/Colab Notebooks/Python/blank_swift (2).ipynb\n",
            "My Drive/Colab Notebooks/Python/install_latest_swift.ipynb\n",
            "My Drive/Colab Notebooks/Python/blank_swift (1).ipynb\n",
            "My Drive/Colab Notebooks/Python/blank_swift.ipynb\n",
            "My Drive/Colab Notebooks/Python/Swift import data\n",
            "My Drive/Colab Notebooks/Python/DifferentiableProtocol_swift.ipynb\n",
            "My Drive/Colab Notebooks/Python/Differentiable_swift.ipynb\n",
            "My Drive/Colab Notebooks/Python/Three-Dimensional-Plotting.ipynb\n",
            "My Drive/Colab Notebooks/Python/Accessing GitHub\n",
            "My Drive/Colab Notebooks/Python/Downloads_swift.ipynb\n",
            "My Drive/Colab Notebooks/Python/CartPole-Krohn.ipynb\n",
            "My Drive/Colab Notebooks/Python/Action Recognition on the UCF101 Dataset\n",
            "My Drive/Colab Notebooks/Python/TensorFlow 2.0 with GPU (1)\n",
            "My Drive/Colab Notebooks/Python/keras.ipynb\n",
            "My Drive/Colab Notebooks/Python/Gym_Environment.ipynb\n",
            "My Drive/Colab Notebooks/Python/Requests_Module.ipynb\n",
            "My Drive/Colab Notebooks/Python/Python_Imports.ipynb\n",
            "My Drive/Colab Notebooks/Python/Iterable.ipynb\n",
            "My Drive/Colab Notebooks/Python/01 Scrape.ipynb\n",
            "My Drive/Colab Notebooks/Python/Copy of 01 Blank Colab\n",
            "My Drive/Colab Notebooks/Python/FrozenLake-2.ipynb\n",
            "My Drive/Colab Notebooks/Python/Copy of Accessing GitHub\n",
            "My Drive/Colab Notebooks/Python/TensorFlow with GPU (1)\n",
            "My Drive/Colab Notebooks/Python/Functional.ipynb\n",
            "My Drive/Colab Notebooks/Python/02_TensorFlow_with_GPU\n",
            "My Drive/Colab Notebooks/Python/02 TensorFlow with GPU\n",
            "My Drive/Colab Notebooks/Python/00 DQN Tutorial.ipynb\n",
            "My Drive/Colab Notebooks/Python/TensorFlow 2.0 with GPU\n",
            "My Drive/Colab Notebooks/Python/Python interoperability.ipynb\n",
            "My Drive/Colab Notebooks/Python/PredictArrayValues.ipynb\n",
            "My Drive/Colab Notebooks/Python/BasicComputerVision.ipynb\n",
            "My Drive/Colab Notebooks/Python/Functional API (1).ipynb\n",
            "My Drive/Colab Notebooks/Python/Functional API.ipynb\n",
            "My Drive/Colab Notebooks/Python/TensorFlow with GPU\n",
            "My Drive/Colab Notebooks/Python/Snippets: Drive\n",
            "My Drive/Colab Notebooks/Python/GDrive (2).ipynb\n",
            "My Drive/Colab Notebooks/Python/GDrive (1).ipynb\n",
            "My Drive/Colab Notebooks/Python/GDrive.ipynb\n",
            "My Drive/Colab Notebooks/Python/Untitled0.ipynb\n",
            "My Drive/Colab Notebooks/Python/Copy of GDrive.ipynb\n",
            "My Drive/Colab Notebooks/Python/Google Cloud Storage\n",
            "My Drive/Colab Notebooks/Python/_Tensor-board.ipynb\n",
            "My Drive/Colab Notebooks/Python/00 DQN.ipynb\n",
            "My Drive/Colab Notebooks/Classifier_swift.ipynb\n",
            "My Drive/Colab Notebooks/Semantic Dictionaries.ipynb\n",
            "My Drive/Colab Notebooks/TF-GAN on TPUs.ipynb\n",
            "My Drive/Colab Notebooks/TPUs in Colab\n",
            "My Drive/Colab Notebooks/Keras Fashion MNIST.ipynb\n",
            "My Drive/Colab Notebooks/agents.ipynb\n",
            "My Drive/Colab Notebooks/Sonnet 2 on MNIST (1).ipynb\n",
            "My Drive/Colab Notebooks/Sonnet 2 on MNIST.ipynb\n",
            "My Drive/Colab Notebooks/Deep Q Learning.ipynb\n",
            "My Drive/Colab Notebooks/CVUtils .ipynb\n",
            "My Drive/Colab Notebooks/DQNAgent_ sentdex.ipynb\n",
            "My Drive/Colab Notebooks/00 DQN (10).ipynb\n",
            "My Drive/Colab Notebooks/00 DQN (9).ipynb\n",
            "My Drive/Colab Notebooks/Netron.ipynb\n",
            "My Drive/Colab Notebooks/00 DQN (8).ipynb\n",
            "My Drive/Colab Notebooks/A Swift Tour.ipynb\n",
            "My Drive/Colab Notebooks/00 DQN (7).ipynb\n",
            "My Drive/Colab Notebooks/TorchTest (1).ipynb\n",
            "My Drive/Colab Notebooks/TorchTest.ipynb\n",
            "My Drive/Colab Notebooks/01 Blank Colab\n",
            "My Drive/Colab Notebooks/Dueling_ddqn_torch (2).ipynb\n",
            "My Drive/Colab Notebooks/Dueling_ddqn_torch (1).ipynb\n",
            "My Drive/Colab Notebooks/Dueling_ddqn_torch.ipynb\n",
            "My Drive/Colab Notebooks/Install_CoreML.ipynb\n",
            "My Drive/Colab Notebooks/00 DQN (6).ipynb\n",
            "My Drive/Colab Notebooks/DQN with GPU (2)\n",
            "My Drive/Colab Notebooks/DQN with GPU (1)\n",
            "My Drive/Colab Notebooks/DQN with GPU\n",
            "My Drive/Colab Notebooks/00 DQN (5).ipynb\n",
            "My Drive/Colab Notebooks/00 DQN (4).ipynb\n",
            "My Drive/Colab Notebooks/GDrive (1).ipynb\n",
            "My Drive/Colab Notebooks/00 DQN (3).ipynb\n",
            "My Drive/Colab Notebooks/00 DQN Tutorial (4).ipynb\n",
            "My Drive/Colab Notebooks/00 DQN (2).ipynb\n",
            "My Drive/Colab Notebooks/00 cartpole.ipynb\n",
            "My Drive/Colab Notebooks/00 DQN Tutorial (3).ipynb\n",
            "My Drive/Colab Notebooks/00 DQN Tutorial (2).ipynb\n",
            "My Drive/Colab Notebooks/00 DQN Tutorial (1).ipynb\n",
            "My Drive/Colab Notebooks/00 DQN Tutorial.ipynb\n",
            "My Drive/Colab Notebooks/00 DQN (1).ipynb\n",
            "My Drive/Colab Notebooks/PrimeNumberGenerator (1).ipynb\n",
            "My Drive/Colab Notebooks/PrimeNumberGenerator.ipynb\n",
            "My Drive/Colab Notebooks/GetUserInput.ipynb\n",
            "My Drive/Colab Notebooks/00 DQN.ipynb\n",
            "My Drive/Colab Notebooks/iCloud (1).ipynb\n",
            "My Drive/Colab Notebooks/iCloud.ipynb\n",
            "My Drive/Colab Notebooks/GitHubFiles (1).ipynb\n",
            "My Drive/Colab Notebooks/GitHubFiles.ipynb\n",
            "My Drive/Colab Notebooks/Python Notebook.ipynb\n",
            "My Drive/Colab Notebooks/04 13 2020swift.ipynb\n",
            "My Drive/Colab Notebooks/GDrive.ipynb\n",
            "My Drive/Colab Notebooks/Untitled0.ipynb\n",
            "My Drive/Colab Notebooks/DuelingDeepQNetwork (1).ipynb\n",
            "My Drive/Colab Notebooks/DuelingDeepQNetwork.ipynb\n",
            "My Drive/Colab Notebooks/AccessGoogleDrive (1).ipynb\n",
            "My Drive/Colab Notebooks/AccessGoogleDrive.ipynb\n",
            "My Drive/Colab Notebooks/Untitled.ipynb\n",
            "My Drive/Colab Notebooks/Untitled1.ipynb\n",
            "My Drive/Colab Notebooks/Untitled\n",
            "My Drive/Colab Notebooks/Untitled2.ipynb\n",
            "My Drive/Colab Notebooks/Copy of Swift import data\n",
            "My Drive/Colab Notebooks/DDQN.ipynb\n",
            "My Drive/Colab Notebooks/DDQN-Keras (1).ipynb\n",
            "My Drive/Colab Notebooks/DDQN-Keras.ipynb\n",
            "My Drive/Colab Notebooks/Copy of DDQN-Keras (1).ipynb\n",
            "My Drive/Colab Notebooks/Copy of Accessing files\n",
            "My Drive/Colab Notebooks/Copy of DDQN-Keras.ipynb\n",
            "My Drive/Colab Notebooks/GetLocalFiles.ipynb\n",
            "My Drive/Colab Notebooks/PhilTabor (6).ipynb\n",
            "My Drive/Colab Notebooks/PhilTabor (5).ipynb\n",
            "My Drive/Colab Notebooks/PhilTabor (4).ipynb\n",
            "My Drive/Colab Notebooks/PhilTabor (3).ipynb\n",
            "My Drive/Colab Notebooks/InternalSitePackages (4).ipynb\n",
            "My Drive/Colab Notebooks/InternalSitePackages (3).ipynb\n",
            "My Drive/Colab Notebooks/InternalSitePackages (2).ipynb\n",
            "My Drive/Colab Notebooks/InternalSitePackages (1).ipynb\n",
            "My Drive/Colab Notebooks/ColorUtil.py\n",
            "My Drive/Colab Notebooks/import_ipynb.py\n",
            "My Drive/Colab Notebooks/SysPaths.py\n",
            "My Drive/Colab Notebooks/PhilTabor (2).ipynb\n",
            "My Drive/Colab Notebooks/PhilTabor (1).ipynb\n",
            "My Drive/Colab Notebooks/InternalSitePackages.ipynb\n",
            "My Drive/Colab Notebooks/Installs.ipynb\n",
            "My Drive/Colab Notebooks/PhilTabor.ipynb\n",
            "My Drive/InternalSitePackages.ipynb\n",
            "My Drive/PhilTabor.ipynb\n",
            "My Drive/GithubAccessToken.txt\n",
            "My Drive/Installs.ipynb\n"
          ],
          "name": "stdout"
        }
      ]
    },
    {
      "cell_type": "code",
      "metadata": {
        "id": "BjMUwfCvvEOP",
        "colab_type": "code",
        "colab": {}
      },
      "source": [
        ""
      ],
      "execution_count": null,
      "outputs": []
    }
  ]
}