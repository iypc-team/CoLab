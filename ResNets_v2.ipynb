{
  "nbformat": 4,
  "nbformat_minor": 0,
  "metadata": {
    "kernelspec": {
      "display_name": "Python 3",
      "language": "python",
      "name": "python3"
    },
    "language_info": {
      "codemirror_mode": {
        "name": "ipython",
        "version": 3
      },
      "file_extension": ".py",
      "mimetype": "text/x-python",
      "name": "python",
      "nbconvert_exporter": "python",
      "pygments_lexer": "ipython3",
      "version": "3.7.8"
    },
    "colab": {
      "name": "ResNets_v2.ipynb",
      "private_outputs": true,
      "provenance": [],
      "collapsed_sections": [],
      "machine_shape": "hm",
      "include_colab_link": true
    },
    "accelerator": "GPU"
  },
  "cells": [
    {
      "cell_type": "markdown",
      "metadata": {
        "id": "view-in-github",
        "colab_type": "text"
      },
      "source": [
        "<a href=\"https://colab.research.google.com/github/iypc-team/CoLab/blob/master/ResNets_v2.ipynb\" target=\"_parent\"><img src=\"https://colab.research.google.com/assets/colab-badge.svg\" alt=\"Open In Colab\"/></a>"
      ]
    },
    {
      "cell_type": "code",
      "metadata": {
        "id": "46zsWsDw3yEx"
      },
      "source": [
        "import glob, os, shutil\r\n",
        "from os.path import *\r\n",
        "from google.colab import drive, files\r\n",
        "\r\n",
        "contentPth = os.getcwd()\r\n",
        "localFiles = None\r\n",
        "\r\n",
        "deletePth = join('/content/sample_data')\r\n",
        "if exists(deletePth):\r\n",
        "    shutil.rmtree(deletePth)\r\n",
        "\r\n",
        "drive.mount('/content/drive', force_remount=True)\r\n",
        "\r\n",
        "my_drivePth = '/content/drive/My Drive'\r\n",
        "tfModelsPth = realpath(my_drivePth + '/Tensorflow Models')\r\n",
        "\r\n",
        "print()\r\n",
        "os.chdir(my_drivePth)\r\n",
        "from BashColors import C\r\n",
        "localFiles = glob.glob('**', recursive=True)\r\n",
        "for fil in sorted(localFiles):\r\n",
        "    fullPth = realpath(fil)\r\n",
        "    if isdir(fullPth):\r\n",
        "        print(f'{C.IBlue}{fullPth}')\r\n",
        "\r\n",
        "os.chdir(contentPth)\r\n",
        "# files.view(contentPth)\r\n"
      ],
      "execution_count": null,
      "outputs": []
    },
    {
      "cell_type": "code",
      "metadata": {
        "id": "230KS3O4VefP"
      },
      "source": [
        "try: \n",
        "    import tensorflow as tf\n",
        "    print(f'tensorflow: {tf.__version__}')\n",
        "except Exception as err:\n",
        "    print(err, '\\n')\n",
        "    %pip install tensorflow\n",
        "\n",
        "try: \n",
        "    import keras\n",
        "    print(f'keras: {keras.__version__}')\n",
        "except Exception as err:\n",
        "    print(err)\n",
        "    %pip install keras\n",
        "\n",
        "model_50=None\n",
        "model_101=None\n",
        "model_152=None"
      ],
      "execution_count": null,
      "outputs": []
    },
    {
      "cell_type": "code",
      "metadata": {
        "id": "zRCGFoqbVef6"
      },
      "source": [
        "if not model_50:\n",
        "    print('creating model')\n",
        "    model_50=keras.applications.ResNet50V2(include_top=True,\n",
        "                                           weights='imagenet',\n",
        "                                           input_tensor=None,\n",
        "                                           input_shape=None,\n",
        "                                           pooling=None,\n",
        "                                           classes=1000,\n",
        "                                           classifier_activation='softmax')\n",
        "\n",
        "# tfModelsPth = my_drivePth + '/Tensorflow Models/'\n",
        "os.chdir(tfModelsPth)\n",
        "fileName = tfModelsPth + model_50.name + '.h5'\n",
        "model_50.save(fileName)\n",
        "# model_50.summary()\n",
        "# keras.utils.plot_model(model_50, to_file=plot_file_name)"
      ],
      "execution_count": null,
      "outputs": []
    },
    {
      "cell_type": "code",
      "metadata": {
        "id": "HelXrUuWVef-"
      },
      "source": [
        "\n",
        "if not model_101:\n",
        "    model_101=keras.applications.ResNet101V2(include_top=True,\n",
        "                                             weights='imagenet',\n",
        "                                             input_tensor=None,\n",
        "                                             input_shape=None,\n",
        "                                             pooling=None,\n",
        "                                             classes=1000,\n",
        "                                             classifier_activation='softmax')\n",
        "\n",
        "os.chdir(tfModelsPth)\n",
        "fileName = model_101.name + '.h5'\n",
        "model_101.save(fileName)\n",
        "# model_101.summary()\n",
        "# keras.utils.plot_model(model_101, to_file=plot_file_name)"
      ],
      "execution_count": null,
      "outputs": []
    },
    {
      "cell_type": "code",
      "metadata": {
        "id": "RoM50M5-Vef_"
      },
      "source": [
        "model_152=keras.applications.ResNet152V2(include_top=True,\n",
        "                                            weights='imagenet',\n",
        "                                            input_tensor=None,\n",
        "                                            input_shape=None,\n",
        "                                            pooling=None,\n",
        "                                            classes=1000,\n",
        "                                            classifier_activation='softmax')\n",
        "\n",
        "os.chdir(tfModelsPth)\n",
        "fileName = model_152.name + '.h5'\n",
        "model_152.save(fileName)\n",
        "# model_152.summary()\n",
        "# keras.utils.plot_model(model_152, to_file=plot_file_name)"
      ],
      "execution_count": null,
      "outputs": []
    },
    {
      "cell_type": "code",
      "metadata": {
        "id": "tKDAJlojAqOO"
      },
      "source": [
        "files.view(tfModelsPth)"
      ],
      "execution_count": null,
      "outputs": []
    },
    {
      "cell_type": "code",
      "metadata": {
        "id": "ePZVU_VWVegI"
      },
      "source": [
        ""
      ],
      "execution_count": null,
      "outputs": []
    },
    {
      "cell_type": "code",
      "metadata": {
        "id": "muMMUIYBVegJ"
      },
      "source": [
        "\"\"\"\n",
        "Arguments\n",
        "include_top\n",
        "whether to include the fully-connected layer at the top of the network.\n",
        "weights\n",
        "one of None (random initialization), 'imagenet' (pre-training on ImageNet), or the path to the weights file to be loaded.\n",
        "input_tensor\n",
        "optional Keras tensor (i.e. output of layers.Input()) to use as image input for the model.\n",
        "input_shape\n",
        "optional shape tuple, only to be specified if include_top is False (otherwise the input shape has to be (224, 224, 3) (with 'channels_last' data format) or (3, 224, 224) (with 'channels_first' data format). It should have exactly 3 inputs channels, and width and height should be no smaller than 32. E.g. (200, 200, 3) would be one valid value.\n",
        "pooling\n",
        "Optional pooling mode for feature extraction when include_top is False.\n",
        "None means that the output of the model will be the 4D tensor output of the last convolutional block.\n",
        "avg means that global average pooling will be applied to the output of the last convolutional block, and thus the output of the model will be a 2D tensor.\n",
        "max means that global max pooling will be applied.\n",
        "classes\n",
        "optional number of classes to classify images into, only to be specified if include_top is True, and if no weights argument is specified.\n",
        "classifier_activation\n",
        "A str or callable. The activation function to use on the \"top\" layer. Ignored unless include_top=True. Set classifier_activation=None to return the logits of the \"top\" layer.\n",
        "Returns\n",
        "A keras.Model instance.\n",
        "\"\"\""
      ],
      "execution_count": null,
      "outputs": []
    }
  ]
}