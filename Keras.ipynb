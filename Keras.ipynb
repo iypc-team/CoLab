{
  "nbformat": 4,
  "nbformat_minor": 5,
  "metadata": {
    "colab": {
      "name": "Keras.ipynb",
      "private_outputs": true,
      "provenance": [],
      "collapsed_sections": [],
      "machine_shape": "hm",
      "include_colab_link": true
    },
    "kernelspec": {
      "display_name": "Python 3",
      "language": "python",
      "name": "python3"
    },
    "language_info": {
      "codemirror_mode": {
        "name": "ipython",
        "version": 3
      },
      "file_extension": ".py",
      "mimetype": "text/x-python",
      "name": "python",
      "nbconvert_exporter": "python",
      "pygments_lexer": "ipython3",
      "version": "3.7.10"
    }
  },
  "cells": [
    {
      "cell_type": "markdown",
      "metadata": {
        "id": "view-in-github",
        "colab_type": "text"
      },
      "source": [
        "<a href=\"https://colab.research.google.com/github/iypc-team/CoLab/blob/master/Keras.ipynb\" target=\"_parent\"><img src=\"https://colab.research.google.com/assets/colab-badge.svg\" alt=\"Open In Colab\"/></a>"
      ]
    },
    {
      "cell_type": "code",
      "metadata": {
        "id": "absent-prompt"
      },
      "source": [
        "from IPython.display import display, clear_output\n",
        "import time\n",
        "def sleepyTime():\n",
        "    count=0\n",
        "    try:\n",
        "        while count <= 120:\n",
        "            print(f'sleeping for {count} minutes')\n",
        "            time.sleep(60)\n",
        "            count+=1\n",
        "            if count % 5 == 0:\n",
        "                clear_output()\n",
        "    except KeyboardInterrupt:\n",
        "        clear_output()\n",
        "# sleepyTime()"
      ],
      "id": "absent-prompt",
      "execution_count": null,
      "outputs": []
    },
    {
      "cell_type": "code",
      "metadata": {
        "id": "stuffed-playing"
      },
      "source": [
        "from __future__ import absolute_import\n",
        "from IPython.display import display, clear_output\n",
        "\n",
        "try: import tensorflow as tf\n",
        "except ModuleNotFoundError:\n",
        "    %pip install tensorflow\n",
        "    import tensorflow as tf\n",
        "    \n",
        "from tensorflow.keras.preprocessing.image import img_to_array, array_to_img\n",
        "from tensorflow.keras.preprocessing.image import smart_resize, save_img \n",
        "from tensorflow.keras.preprocessing.image import ImageDataGenerator\n",
        "\n",
        "try: import matplotlib.pyplot as plt\n",
        "except ModuleNotFoundError:\n",
        "    %pip install matplotlib\n",
        "    import matplotlib.pyplot as plt\n",
        "\n",
        "try: import pandas as pd\n",
        "except ModuleNotFoundError:\n",
        "    %pip install pandas\n",
        "    import pandas as pd\n",
        "\n",
        "try: \n",
        "    import numpy as np\n",
        "    np.set_printoptions(precision=4)\n",
        "except ModuleNotFoundError:\n",
        "    %pip install numpy\n",
        "    import numpy as np\n",
        "    np.set_printoptions(precision=4)\n",
        "\n",
        "try: import PIL.Image\n",
        "except Exception as err:\n",
        "    print(err)\n",
        "    %pip install pillow\n",
        "    import PIL.Image\n",
        "\n",
        "try: import scipy.ndimage as ndimage\n",
        "except Exception as err:\n",
        "    print(err)\n",
        "    %pip install SciPy\n",
        "    import scipy.ndimage as ndimage\n",
        "\n",
        "import glob\n",
        "import pathlib\n",
        "import os\n",
        "from os.path import *\n",
        "import shutil\n",
        "\n",
        "contentPth = os.getcwd()\n",
        "\n",
        "if contentPth == '/content':\n",
        "    gdrivePth = join(contentPth, 'gdrive')\n",
        "    myDrivePth = join(gdrivePth, 'My Drive')\n",
        "    tfImagesPth = join(contentPth, 'TensorflowImages')\n",
        "    gdriveImagesPth = join(myDrivePth, 'TensorflowImages')\n",
        "    # print(f'tfImagesPth: {tfImagesPth}')\n",
        "    # print(f'gdriveImagesPth: {gdriveImagesPth}')\n",
        "\n",
        "    if not exists(tfImagesPth) and exists(contentImagesPth):\n",
        "        shutil.copytree(src=gdriveImagesPth, dst=tfImagesPth)\n",
        "else: pass\n",
        "\n",
        "tfImagesPth = join(contentPth, 'TensorflowImages')\n",
        "\n",
        "if os.path.exists('/content/sample_data'):\n",
        "    shutil.rmtree('/content/sample_data')\n",
        "\n",
        "try:\n",
        "    from google.colab import drive\n",
        "    drive.flush_and_unmount()\n",
        "    drive.mount('/content/gdrive', force_remount=True)\n",
        "    os.chdir(myDrivePth)\n",
        "    from BashColors import C\n",
        "    from TarfileFunctions import tff\n",
        "    os.chdir(contentPth)\n",
        "except ModuleNotFoundError:\n",
        "    os.chdir(contentPth)\n",
        "    from BashColors import C\n",
        "    from TarfileFunctions import tff\n",
        "    tfImagesPth = join(contentPth, 'TensorflowImages')\n",
        "\n",
        "if not exists(tfImagesPth):\n",
        "    try:\n",
        "        tff.listTarfiles()\n",
        "        tff.extractTarfiles('Defcon_Images.tar.gz')\n",
        "    except FileNotFoundError as err:\n",
        "        # print(f'{err}\\n')\n",
        "        pass\n",
        "else:\n",
        "    print(f'exists: {C.Green}{tfImagesPth}{C.ColorOff}')\n",
        "\n",
        "os.chdir(contentPth)\n",
        "print(f'cwd: {C.IBlue}{pathlib.Path.cwd()}')"
      ],
      "id": "stuffed-playing",
      "execution_count": null,
      "outputs": []
    },
    {
      "cell_type": "code",
      "metadata": {
        "id": "IxGqgNljNrOB"
      },
      "source": [
        "os.getcwd()"
      ],
      "id": "IxGqgNljNrOB",
      "execution_count": null,
      "outputs": []
    },
    {
      "cell_type": "code",
      "metadata": {
        "id": "wooden-chamber"
      },
      "source": [
        "def tensorflowRot90():\n",
        "    os.chdir(tfImagesPth)\n",
        "    imageList = glob.glob('**', recursive=True)\n",
        "    for thisImage in sorted(imageList):\n",
        "        fullPath = abspath(thisImage)\n",
        "        if isfile(thisImage) and thisImage.endswith('.png'):\n",
        "            # image = tf.keras.preprocessing.image.smart_resize(x=thisImage, size=(224, 224))\n",
        "            image = tf.keras.preprocessing.image.load_img(\n",
        "                path=thisImage, grayscale=False, color_mode=\"rgb\",\n",
        "                target_size=(224, 224), interpolation=\"nearest\"\n",
        "            )\n",
        "\n",
        "            display(image)\n",
        "            print(basename(thisImage))\n",
        "            print(image.__class__)\n",
        "\n",
        "            newImage = tf.keras.preprocessing.image.load_img(\n",
        "                path=thisImage, grayscale=False, color_mode=\"rgb\",\n",
        "                target_size=(224, 224), interpolation=\"nearest\"\n",
        "            )\n",
        "\n",
        "            newImage = img_to_array(newImage)\n",
        "            rotatedImage = tf.image.rot90(newImage)\n",
        "            rotatedImage = array_to_img(x=rotatedImage)\n",
        "            display(rotatedImage)\n",
        "\n",
        "            rotatedImageName = 'rot90_' + str(basename(thisImage))\n",
        "            print(rotatedImageName)\n",
        "\n",
        "            split = os.path.split(p=fullPath)\n",
        "            directoryPth = split[0]\n",
        "            savePth = join(directoryPth, rotatedImageName)\n",
        "            if not exists(savePth):\n",
        "                pass\n",
        "                # rotatedImage.save(fp=savePth)\n",
        "            else: print(f'exists: {C.Green}{savePth}{C.ColorOff}')\n",
        "\n",
        "tensorflowRot90()"
      ],
      "id": "wooden-chamber",
      "execution_count": null,
      "outputs": []
    },
    {
      "cell_type": "code",
      "metadata": {
        "id": "xUCZMZWG1cXk"
      },
      "source": [
        "from PIL import Image\n",
        "from tensorflow.keras.preprocessing.image import smart_resize, load_img\n",
        "from tensorflow.keras.preprocessing.image import ImageDataGenerator\n",
        "from tensorflow.keras.preprocessing.image import img_to_array, array_to_img\n",
        "\n",
        "os.chdir(tfImagesPth)\n",
        "globFileList = glob.glob('**', recursive=True)\n",
        "\n",
        "for fil in sorted(globFileList):\n",
        "    if isfile(fil):\n",
        "        fullPath = abspath(fil)\n",
        "        imageName = basename(fullPath)\n",
        "\n",
        "        loaded_image = load_img(path=fullPath)\n",
        "        loaded_image = img_to_array(loaded_image)\n",
        "\n",
        "        resizedImage = smart_resize(x=loaded_image, size=(224, 224))\n",
        "        resizedImage\n",
        "\n",
        "        display(array_to_img(x=resizedImage, scale=True))\n",
        "        print(imageName)\n",
        "        print(resizedImage.__class__)\n",
        "\n"
      ],
      "id": "xUCZMZWG1cXk",
      "execution_count": null,
      "outputs": []
    },
    {
      "cell_type": "code",
      "metadata": {
        "id": "documented-health"
      },
      "source": [
        "\n",
        "defconDataset = tf.keras.preprocessing.image_dataset_from_directory(\n",
        "    directory=tfImagesPth,\n",
        "    labels=\"inferred\",\n",
        "    label_mode=\"int\",\n",
        "    class_names=None,\n",
        "    color_mode=\"rgb\",\n",
        "    batch_size=1,\n",
        "    image_size=(224, 224),\n",
        "    shuffle=True,\n",
        "    seed=456,\n",
        "    validation_split=None,\n",
        "    subset=None,\n",
        "    # interpolation=\"bilinear\",\n",
        "    interpolation='mitchellcubic',\n",
        "    follow_links=False,\n",
        "    # smart_resize=True,\n",
        ")\n",
        "defconDataset.element_spec"
      ],
      "id": "documented-health",
      "execution_count": null,
      "outputs": []
    },
    {
      "cell_type": "code",
      "metadata": {
        "id": "handy-african"
      },
      "source": [
        "os.chdir(contentPth)\n",
        "modelList = glob.glob('*.h5')\n",
        "modelList"
      ],
      "id": "handy-african",
      "execution_count": null,
      "outputs": []
    },
    {
      "cell_type": "code",
      "metadata": {
        "id": "abandoned-mauritius"
      },
      "source": [
        "try:\n",
        "    modelPth = join(\n",
        "        contentPth, 'mobilenetv2_1.00_None_no_weights_no_top.h5')\n",
        "    \n",
        "    mobilenetv2 = tf.keras.models.load_model(\n",
        "        filepath=modelPth,\n",
        "        custom_objects=None, compile=True, options=None)\n",
        "\n",
        "except OSError as err:\n",
        "    # print(err)\n",
        "    modelPth = join(\n",
        "        myDrivePth,'mobilenetv2_1.00_no_weights_no_top.h5')\n",
        "    mobilenetv2 = tf.keras.models.load_model(\n",
        "        filepath=modelPth,\n",
        "        custom_objects=None, compile=True, options=None)\n",
        "    \n",
        "# mobilenetv2.summary()"
      ],
      "id": "abandoned-mauritius",
      "execution_count": null,
      "outputs": []
    },
    {
      "cell_type": "code",
      "metadata": {
        "id": "extreme-israeli"
      },
      "source": [
        "def modelInfo(model):\n",
        "    print(f'model name: {C.ICyan}{model.name}{C.ColorOff}')\n",
        "    print(f'input_shape: {C.ICyan}{model.input_shape}{C.ColorOff}')\n",
        "    print(f'output_shape: {C.ICyan}{model.compute_output_shape(input_shape=(None, 224, 224, 3))}{C.ColorOff}')\n",
        "    \n",
        "modelInfo(model=mobilenetv2)"
      ],
      "id": "extreme-israeli",
      "execution_count": null,
      "outputs": []
    },
    {
      "cell_type": "code",
      "metadata": {
        "id": "alpha-reservoir"
      },
      "source": [
        "augmentedDirectoryPth = join(contentPth, 'AugmentedImages')\n",
        "if not exists(augmentedDirectoryPth):\n",
        "    os.makedirs(augmentedDirectoryPth)\n",
        "    \n",
        "    ImageDataGenerator.flow_from_directory(\n",
        "    directory=tfImagesPth,\n",
        "    target_size=(224, 224),\n",
        "    color_mode=\"rgb\",\n",
        "    classes=None,\n",
        "    class_mode=\"categorical\",\n",
        "    batch_size=1,\n",
        "    shuffle=True,\n",
        "    seed=456,\n",
        "    save_to_dir=augmentedDirectoryPth,\n",
        "    save_prefix=\"augmented\",\n",
        "    save_format=\"png\",\n",
        "    follow_links=False,\n",
        "    subset=None,\n",
        "    interpolation=\"nearest\",\n",
        ")"
      ],
      "id": "alpha-reservoir",
      "execution_count": null,
      "outputs": []
    },
    {
      "cell_type": "code",
      "metadata": {
        "id": "pending-explosion"
      },
      "source": [
        "image_gen = ImageDataGenerator(\n",
        "    featurewise_center=False, samplewise_center=False,\n",
        "    featurewise_std_normalization=False,\n",
        "    samplewise_std_normalization=False,\n",
        "    zca_whitening=False, zca_epsilon=1e-06, rotation_range=179,\n",
        "    width_shift_range=0.0, height_shift_range=0.0, \n",
        "    brightness_range=None, shear_range=0.0, zoom_range=0.0,\n",
        "    channel_shift_range=0.0, fill_mode='nearest', cval=0.0,\n",
        "    horizontal_flip=True, vertical_flip=True, rescale=1.0/255,\n",
        "    preprocessing_function=None, data_format=None,\n",
        "    validation_split=0.0, dtype=None\n",
        ")"
      ],
      "id": "pending-explosion",
      "execution_count": null,
      "outputs": []
    }
  ]
}