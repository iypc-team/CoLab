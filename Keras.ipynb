{
  "nbformat": 4,
  "nbformat_minor": 5,
  "metadata": {
    "kernelspec": {
      "display_name": "Python 3",
      "language": "python",
      "name": "python3"
    },
    "language_info": {
      "codemirror_mode": {
        "name": "ipython",
        "version": 3
      },
      "file_extension": ".py",
      "mimetype": "text/x-python",
      "name": "python",
      "nbconvert_exporter": "python",
      "pygments_lexer": "ipython3",
      "version": "3.7.10"
    },
    "colab": {
      "name": "Keras.ipynb",
      "private_outputs": true,
      "provenance": [],
      "collapsed_sections": [],
      "machine_shape": "hm",
      "include_colab_link": true
    }
  },
  "cells": [
    {
      "cell_type": "markdown",
      "metadata": {
        "id": "view-in-github",
        "colab_type": "text"
      },
      "source": [
        "<a href=\"https://colab.research.google.com/github/iypc-team/CoLab/blob/master/Keras.ipynb\" target=\"_parent\"><img src=\"https://colab.research.google.com/assets/colab-badge.svg\" alt=\"Open In Colab\"/></a>"
      ]
    },
    {
      "cell_type": "code",
      "metadata": {
        "id": "absent-prompt"
      },
      "source": [
        "from IPython.display import display, clear_output\n",
        "import time\n",
        "def sleepyTime():\n",
        "    count=0\n",
        "    try:\n",
        "        while count <= 120:\n",
        "            print(f'sleeping for {count} minutes')\n",
        "            time.sleep(60)\n",
        "            count+=1\n",
        "            if count % 5 == 0:\n",
        "                clear_output()\n",
        "    except KeyboardInterrupt:\n",
        "        clear_output()\n",
        "# sleepyTime()\n",
        "print('ok')"
      ],
      "id": "absent-prompt",
      "execution_count": null,
      "outputs": []
    },
    {
      "cell_type": "code",
      "metadata": {
        "id": "stuffed-playing"
      },
      "source": [
        "from IPython.display import display, clear_output\n",
        "try: import tensorflow as tf\n",
        "except ModuleNotFoundError:\n",
        "    %pip install tensorflow\n",
        "    import tensorflow as tf\n",
        "\n",
        "try: import matplotlib.pyplot as plt\n",
        "except ModuleNotFoundError:\n",
        "    %pip install matplotlib\n",
        "    import matplotlib.pyplot as plt\n",
        "\n",
        "try: import pandas as pd\n",
        "except ModuleNotFoundError:\n",
        "    %pip install pandas\n",
        "    import pandas as pd\n",
        "\n",
        "try: \n",
        "    import numpy as np\n",
        "    np.set_printoptions(precision=4)\n",
        "except ModuleNotFoundError:\n",
        "    %pip install numpy\n",
        "    import numpy as np\n",
        "    np.set_printoptions(precision=4)\n",
        "\n",
        "try: import PIL.Image\n",
        "except Exception as err:\n",
        "    print(err)\n",
        "    %pip install pillow\n",
        "    import PIL.Image\n",
        "\n",
        "try: import scipy.ndimage as ndimage\n",
        "except Exception as err:\n",
        "    print(err)\n",
        "    %pip install SciPy\n",
        "    import scipy.ndimage as ndimage\n",
        "\n",
        "import glob\n",
        "import pathlib\n",
        "import os\n",
        "from os.path import *\n",
        "import shutil\n",
        "\n",
        "contentPth = os.getcwd()\n",
        "\n",
        "if contentPth == '/content':\n",
        "    gdrivePth = join(contentPth, 'gdrive')\n",
        "    myDrivePth = join(gdrivePth, 'My Drive')\n",
        "    tfImagesPth = join(myDrivePth, 'TensorflowImages')\n",
        "    contentImagesPth = join(contentPth, 'TensorflowImages')\n",
        "    if exists(tfImagesPth) and not exists(contentImagesPth):\n",
        "        shutil.copytree(src=tfImagesPth, dst=contentImagesPth)\n",
        "else: \n",
        "    tfImagesPth = join(contentPth, 'TensorflowImages')\n",
        "\n",
        "if os.path.exists('/content/sample_data'):\n",
        "    shutil.rmtree('/content/sample_data')\n",
        "\n",
        "try:\n",
        "    from google.colab import drive\n",
        "    drive.flush_and_unmount()\n",
        "    drive.mount('/content/gdrive', force_remount=True)\n",
        "    os.chdir(myDrivePth)\n",
        "    from BashColors import C\n",
        "    from TarfileFunctions import tff\n",
        "    os.chdir(contentPth)\n",
        "except ModuleNotFoundError:\n",
        "    os.chdir(contentPth)\n",
        "    from BashColors import C\n",
        "    from TarfileFunctions import tff\n",
        "    tfImagesPth = join(contentPth, 'TensorflowImages')\n",
        "\n",
        "if not exists(tfImagesPth):\n",
        "    try:\n",
        "        tff.listTarfiles()\n",
        "        tff.extractTarfiles('Defcon_Images.tar.gz')\n",
        "    except FileNotFoundError as err:\n",
        "        # print(f'{err}\\n')\n",
        "        pass\n",
        "else: print(f'{C.Green}/content/TensorflowImages: exists{C.ColorOff}')\n",
        "\n",
        "os.chdir(contentPth)\n",
        "print(f'cwd: {C.IBlue}{pathlib.Path.cwd()}')"
      ],
      "id": "stuffed-playing",
      "execution_count": null,
      "outputs": []
    },
    {
      "cell_type": "code",
      "metadata": {
        "id": "documented-health"
      },
      "source": [
        "dataset = tf.keras.preprocessing.image_dataset_from_directory(\n",
        "    directory=tfImagesPth,\n",
        "    labels=\"inferred\",\n",
        "    label_mode=\"int\",\n",
        "    class_names=None,\n",
        "    color_mode=\"rgb\",\n",
        "    batch_size=32,\n",
        "    image_size=(224, 224),\n",
        "    shuffle=True,\n",
        "    seed=456,\n",
        "    validation_split=None,\n",
        "    subset=None,\n",
        "    interpolation=\"bilinear\",\n",
        "    follow_links=False\n",
        "    # smart_resize=True\n",
        ")"
      ],
      "id": "documented-health",
      "execution_count": null,
      "outputs": []
    },
    {
      "cell_type": "code",
      "metadata": {
        "id": "alpha-reservoir"
      },
      "source": [
        "os.chdir(tfImagesPth)\n",
        "imageList = glob.glob('**', recursive=True)\n",
        "for thisImage in sorted(imageList):\n",
        "    if isfile(thisImage) and thisImage.endswith('.png'):\n",
        "        image = tf.keras.preprocessing.image.load_img(\n",
        "            path=thisImage, grayscale=False, color_mode=\"rgb\",\n",
        "            target_size=(112,112), interpolation=\"nearest\"\n",
        "        )\n",
        "        display(image)\n",
        "        print(basename(thisImage), '\\n')"
      ],
      "id": "alpha-reservoir",
      "execution_count": null,
      "outputs": []
    },
    {
      "cell_type": "code",
      "metadata": {
        "id": "pending-explosion"
      },
      "source": [
        ""
      ],
      "id": "pending-explosion",
      "execution_count": null,
      "outputs": []
    }
  ]
}