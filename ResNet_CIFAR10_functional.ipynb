{
  "nbformat": 4,
  "nbformat_minor": 0,
  "metadata": {
    "colab": {
      "name": "ResNet_CIFAR10_functional.ipynb",
      "private_outputs": true,
      "provenance": [],
      "collapsed_sections": [],
      "machine_shape": "hm",
      "include_colab_link": true
    },
    "kernelspec": {
      "display_name": "Python 3",
      "name": "python3"
    },
    "accelerator": "GPU"
  },
  "cells": [
    {
      "cell_type": "markdown",
      "metadata": {
        "id": "view-in-github",
        "colab_type": "text"
      },
      "source": [
        "<a href=\"https://colab.research.google.com/github/iypc-team/CoLab/blob/master/ResNet_CIFAR10_functional.ipynb\" target=\"_parent\"><img src=\"https://colab.research.google.com/assets/colab-badge.svg\" alt=\"Open In Colab\"/></a>"
      ]
    },
    {
      "cell_type": "code",
      "metadata": {
        "id": "ec52be14e686"
      },
      "source": [
        "import glob, os, shutil\n",
        "import numpy as np\n",
        "import tensorflow as tf\n",
        "from os.path import *\n",
        "from tensorflow import keras\n",
        "from tensorflow.keras import layers\n",
        "from google.colab import drive, files\n",
        "\n",
        "contentPth=os.getcwd()\n",
        "drive.mount('/content/drive', force_remount=True)\n",
        "\n",
        "drivePth = join(contentPth,  'drive')\n",
        "myDrivePth = join(drivePth, 'My Drive')\n",
        "tfModelsPth = join(myDrivePth, 'Tensorflow Models')\n",
        "\n",
        "junkList=glob.glob('**')\n",
        "for item in junkList:\n",
        "    deletePth=os.path.join(contentPth, item)\n",
        "    if exists(deletePth) and isdir(deletePth) and not deletePth.__contains__('drive'):\n",
        "        shutil.rmtree(deletePth)\n",
        "    elif exists(deletePth) and isfile(deletePth) and not deletePth.__contains__('h.5'):\n",
        "        os.remove(deletePth)\n",
        "\n",
        "print(contentPth)\n",
        "print(drivePth)\n",
        "print(myDrivePth)\n",
        "print(f'{tfModelsPth}')"
      ],
      "execution_count": null,
      "outputs": []
    },
    {
      "cell_type": "markdown",
      "metadata": {
        "id": "64ada3f80484"
      },
      "source": [
        "### A toy ResNet model\n",
        "\n",
        "In addition to models with multiple inputs and outputs,\n",
        "the functional API makes it easy to manipulate non-linear connectivity\n",
        "topologies -- these are models with layers that are not connected sequentially,\n",
        "which the `Sequential` API cannot handle.\n",
        "\n",
        "A common use case for this is residual connections.\n",
        "Let's build a toy ResNet model for CIFAR10 to demonstrate this:"
      ]
    },
    {
      "cell_type": "code",
      "metadata": {
        "id": "bfa8b7503813"
      },
      "source": [
        "inputs = keras.Input(shape=(32, 32, 3), name=\"img\")\n",
        "x = layers.Conv2D(32, 3, activation=\"relu\")(inputs)\n",
        "x = layers.Conv2D(64, 3, activation=\"relu\")(x)\n",
        "block_1_output = layers.MaxPooling2D(3)(x)\n",
        "\n",
        "x = layers.Conv2D(64, 3, activation=\"relu\", padding=\"same\")(block_1_output)\n",
        "x = layers.Conv2D(64, 3, activation=\"relu\", padding=\"same\")(x)\n",
        "block_2_output = layers.add([x, block_1_output])\n",
        "\n",
        "x = layers.Conv2D(64, 3, activation=\"relu\", padding=\"same\")(block_2_output)\n",
        "x = layers.Conv2D(64, 3, activation=\"relu\", padding=\"same\")(x)\n",
        "block_3_output = layers.add([x, block_2_output])\n",
        "\n",
        "x = layers.Conv2D(64, 3, activation=\"relu\")(block_3_output)\n",
        "x = layers.GlobalAveragePooling2D()(x)\n",
        "x = layers.Dense(256, activation=\"relu\")(x)\n",
        "x = layers.Dropout(0.5)(x)\n",
        "outputs = layers.Dense(10)(x)\n",
        "\n",
        "model = keras.Model(inputs, outputs, name=\"ResNet_CIFAR10\")\n",
        "# model.summary()\n",
        "model.name"
      ],
      "execution_count": null,
      "outputs": []
    },
    {
      "cell_type": "markdown",
      "metadata": {
        "id": "05aefc66c54f"
      },
      "source": [
        "Plot the model:"
      ]
    },
    {
      "cell_type": "code",
      "metadata": {
        "id": "ef7ac19c83be"
      },
      "source": [
        "keras.utils.plot_model(model, \"Resnet_CIFAR10.png\",\r\n",
        "                       show_shapes=True,\r\n",
        "                       show_dtype=True,\r\n",
        "                       expand_nested=True,\r\n",
        "                       dpi=256)\r\n",
        "\r\n",
        "sourcePth=join(contentPth, 'ResNet_CIFAR10.png')\r\n",
        "destinationPth=join(tfModelsPth, 'ResNet_CIFAR10.png')\r\n",
        "if exists(sourcePth):\r\n",
        "    shutil.copy2(sourcePth, desitnationPth)"
      ],
      "execution_count": null,
      "outputs": []
    },
    {
      "cell_type": "markdown",
      "metadata": {
        "id": "4f0883eae520"
      },
      "source": [
        "Now train the model:"
      ]
    },
    {
      "cell_type": "code",
      "metadata": {
        "id": "4e1c7b530071"
      },
      "source": [
        "(x_train, y_train), (x_test, y_test) = keras.datasets.cifar10.load_data()\n",
        "\n",
        "x_train = x_train.astype(\"float32\") / 255.0\n",
        "x_test = x_test.astype(\"float32\") / 255.0\n",
        "y_train = keras.utils.to_categorical(y_train, 10)\n",
        "y_test = keras.utils.to_categorical(y_test, 10)\n",
        "\n",
        "model.compile(\n",
        "    optimizer=keras.optimizers.RMSprop(1e-3),\n",
        "    loss=keras.losses.CategoricalCrossentropy(from_logits=True),\n",
        "    metrics=[\"acc\"],\n",
        ")\n",
        "# We restrict the data to the first [:1000] samples so as to limit execution time\n",
        "# on Colab. Try to train on the entire dataset until convergence!\n",
        "model.fit(x_train, y_train, batch_size=64, epochs=1, validation_split=0.2)  \n",
        "model.save('ResNet_CIFAR10_model.h5')\n",
        "\n",
        "loss,acc = model.evaluate(x_test, y_test, batch_size=64)"
      ],
      "execution_count": null,
      "outputs": []
    },
    {
      "cell_type": "code",
      "metadata": {
        "id": "7hR6fyINgg2O"
      },
      "source": [
        "sourcePth=join(contentPth, 'ResNet_CIFAR10_model.h5')\r\n",
        "desitnationPth=join(tfModelsPth, 'ResNet_CIFAR10_model.h5')\r\n",
        "\r\n",
        "shutil.copy2(sourcePth, desitnationPth)\r\n",
        "\r\n",
        "model.load_weights(desitnationPth)\r\n",
        "model.fit(x_train, y_train, batch_size=64, epochs=31, validation_split=0.2)\r\n",
        "print()\r\n",
        "loss, acc = model.evaluate(x_test, y_test)\r\n",
        "print(f'\\naccuracy: {round(acc * 100, 2)} percent') # 78.18 percent accuracy\r\n",
        "model.save('ResNet_CIFAR10_model.h5')"
      ],
      "execution_count": null,
      "outputs": []
    },
    {
      "cell_type": "code",
      "metadata": {
        "id": "-wiGGWAdKLGd"
      },
      "source": [
        "from matplotlib import pyplot as plt\r\n",
        "img=x_test[0]\r\n"
      ],
      "execution_count": null,
      "outputs": []
    }
  ]
}