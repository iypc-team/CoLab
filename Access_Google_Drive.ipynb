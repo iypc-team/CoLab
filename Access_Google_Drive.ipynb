{
  "nbformat": 4,
  "nbformat_minor": 0,
  "metadata": {
    "colab": {
      "name": "Access_Google_Drive.ipynb",
      "provenance": [],
      "collapsed_sections": [],
      "include_colab_link": true
    },
    "kernelspec": {
      "display_name": "Python 3",
      "name": "python3"
    }
  },
  "cells": [
    {
      "cell_type": "markdown",
      "metadata": {
        "id": "view-in-github",
        "colab_type": "text"
      },
      "source": [
        "<a href=\"https://colab.research.google.com/github/iypc-team/CoLab/blob/master/Access_Google_Drive.ipynb\" target=\"_parent\"><img src=\"https://colab.research.google.com/assets/colab-badge.svg\" alt=\"Open In Colab\"/></a>"
      ]
    },
    {
      "cell_type": "code",
      "metadata": {
        "id": "-f-hfkapsiPc"
      },
      "source": [
        "# %%writefile AccessGoogleDrive.py\n",
        "# 10/29/2020\n",
        "from __future__ import absolute_import, print_function\n",
        "global agd\n",
        "agd = None\n",
        "class AccessGoogleDrive:\n",
        "    '''Import PyDrive and associated libraries.\n",
        "    This only needs to be done once per notebook.\n",
        "    '''\n",
        "    # from pydrive.auth import GoogleAuth\n",
        "    # from pydrive.drive import GoogleDrive\n",
        "    # from google.colab import auth\n",
        "    # from oauth2client.client import GoogleCredentials\n",
        "\n",
        "    # auth.authenticate_user()\n",
        "    # gauth = GoogleAuth()\n",
        "    # gauth.credentials = GoogleCredentials.get_application_default()\n",
        "    # drive = GoogleDrive(gauth)\n",
        "\n",
        "    # import glob, os\n",
        "    # from os.path import basename, join, realpath\n",
        "    # from pathlib import Path\n",
        "\n",
        "    def __init__(self, agd):\n",
        "        from pydrive.auth import GoogleAuth\n",
        "        from pydrive.drive import GoogleDrive\n",
        "        from google.colab import auth\n",
        "        from oauth2client.client import GoogleCredentials\n",
        "\n",
        "        auth.authenticate_user()\n",
        "        self.gauth = GoogleAuth()\n",
        "        self.gauth.credentials = GoogleCredentials.get_application_default() \n",
        "        self.drive = GoogleDrive(self.gauth)\n",
        "\n",
        "        self.agd = agd\n",
        "        self.contentPath = '/content/'\n",
        "        self.drivePath = '/content/drive/'\n",
        "        self.myDrivePath = '/content/drive/My Drive'\n",
        "        self.fileIdDictionary={}\n",
        "        self.fileTypesDict={}\n",
        "        self.directoryListDict={}\n",
        "        self.allFilesList=[]\n",
        "        self.directoryList=[]\n",
        "        self.fileList=[]\n",
        "        self.fil = None\n",
        "        self.C = None\n",
        "\n",
        "    # auth.authenticate_user()\n",
        "    # gauth = GoogleAuth()\n",
        "    # gauth.credentials = GoogleCredentials.get_application_default()\n",
        "    # drive = GoogleDrive(gauth)\n",
        "    # self.gdrive = None\n",
        "\n",
        "    def mountGoogleDrive(self):\n",
        "        '''ToDo...\n",
        "        fix help\n",
        "        '''\n",
        "        import glob, os\n",
        "        from os.path import abspath\n",
        "        from pathlib import Path\n",
        "        from google.colab import drive as gdr\n",
        "        self.gdrive = gdr.mount('/content/drive', force_remount=True)\n",
        "        self.allFilesList = glob.glob('**', recursive=True)\n",
        "        print(f'{len(self.allFilesList)} files in Google Drive')\n",
        "        os.chdir('/content/drive/My Drive')\n",
        "        from BashColors import C\n",
        "        self.C = C\n",
        "        print(f'cwd: {C.Green}{Path.cwd()}{C.ColorOff}\\n')\n",
        "    \n",
        "    def listGoogleDriveFiles(self, silent=True):\n",
        "        '''List all files in the root\n",
        "        returns fileIdDictionary\n",
        "        Search query reference:\n",
        "        https://developers.google.com/drive/v2/web/search-parameters'''\n",
        "        \n",
        "        import BashColors\n",
        "        from BashColors import C\n",
        "        from os.path import abspath\n",
        "        fileTypesDict = {}\n",
        "        list = self.drive.ListFile({'q': \"title contains '.*' and 'root' in parents\"}).GetList() \n",
        "        self.fileList = list.copy()\n",
        "        counter=0\n",
        "        for fil in self.fileList:\n",
        "            fileName = fil['title']\n",
        "            file_id = fil['id']\n",
        "            fileId = fil['id']\n",
        "            fileMimeType = fil['mimeType']\n",
        "            labels = fil['labels'] # Returns a dictionary\n",
        "            fullPath = abspath(fileName)\n",
        "            counter+=1\n",
        "            self.fileIdDictionary[counter]=(fileName, fil['id'], fullPath)\n",
        "\n",
        "            if fileMimeType=='application/vnd.google-apps.folder':\n",
        "                self.directoryList.append(fullPath)\n",
        "                self.directoryListDict[fileName]=(fil['id'], fullPath)\n",
        "\n",
        "            if not silent:\n",
        "                if fileMimeType=='application/vnd.google-apps.folder' \\\n",
        "                and not fullPath.__contains__('__pycache__'):\n",
        "                    print(f'{self.C.Blue}{fileName}')\n",
        "                    print(f'{fileMimeType}')\n",
        "                    print(f'{C.White}id: {file_id}')\n",
        "                    for key in labels.keys():\n",
        "                        print(f'{key}: {labels[key]}')\n",
        "\n",
        "                elif not fullPath.__contains__('__pycache__'):\n",
        "                    print(f'{C.White}{counter}. {fileName}')\n",
        "                    print(f'{fileMimeType}')\n",
        "                    print(f'id: {file_id}')\n",
        "                    for key in labels.keys():\n",
        "                        print(f'{key}: {labels[key]}')\n",
        "                print()\n",
        "\n",
        "agd = AccessGoogleDrive(agd=agd)\n",
        "# agd.listGoogleDriveFiles(silent=False)"
      ],
      "execution_count": null,
      "outputs": []
    },
    {
      "cell_type": "code",
      "metadata": {
        "id": "Q48Fvp5xwZV5"
      },
      "source": [
        ""
      ],
      "execution_count": null,
      "outputs": []
    },
    {
      "cell_type": "code",
      "metadata": {
        "id": "xIUSv8c3wtIX"
      },
      "source": [
        "import os\n",
        "from google.colab import drive\n",
        "drive.mount('/content/drive', force_remount=True)\n",
        "os.chdir('/content/drive/My Drive')"
      ],
      "execution_count": null,
      "outputs": []
    },
    {
      "cell_type": "code",
      "metadata": {
        "id": "2kY-vLuAP0q6"
      },
      "source": [
        "\n",
        "import AccessGoogleDrive\n",
        "def selectFile(itemNumber:int):\n",
        "    '''Returns selected file id number'''\n",
        "    counter=0\n",
        "    for item in fileIdDictionary.keys():\n",
        "        counter+=1\n",
        "        dict_item = fileIdDictionary[item]\n",
        "        print(counter, dict_item[0])\n",
        "\n",
        "    selection = fileIdDictionary[itemNumber]\n",
        "    selectName = selection[0]\n",
        "    selectId = selection[1]\n",
        "    print(f'{selectName}')\n",
        "    return selectId\n",
        "\n",
        "\n",
        "idd=selectFile(itemNumber=1)\n",
        "print(idd)"
      ],
      "execution_count": null,
      "outputs": []
    },
    {
      "cell_type": "markdown",
      "metadata": {
        "id": "bRFyEsdfBxJ9"
      },
      "source": [
        "# Saving data to Google Drive"
      ]
    },
    {
      "cell_type": "code",
      "metadata": {
        "id": "to5f2q3wraat"
      },
      "source": [
        "\n",
        "def createAndUploadFile(named:str, inDir:str, content:str):\n",
        "    '''Create & upload a text file.'''\n",
        "    currentPath=Path.cwd()\n",
        "    dir_path=join('/content/drive/My Drive', inDir)\n",
        "    if exists(dir_path):\n",
        "        os.chdir(dir_path)\n",
        "        print(Path.cwd)\n",
        "    else:\n",
        "        os.mkdir(dir_path)\n",
        "        os.chdir(dir_path)\n",
        "        print(Path.cwd())\n",
        "\n",
        "    uploaded = drive.CreateFile({'title': named})\n",
        "    uploaded.SetContentString(content)\n",
        "    # uploaded.Upload()\n",
        "    listGoogleDriveFiles(silent=False)\n",
        "    print('Uploaded file with ID {}'.format(uploaded.get('id')))\n"
      ],
      "execution_count": null,
      "outputs": []
    },
    {
      "cell_type": "code",
      "metadata": {
        "id": "OLAX9MVWu9si"
      },
      "source": [
        "file_name='bullshit-2.txt'\n",
        "fileContent='New content here.'\n",
        "createAndUploadFile(named=file_name, inDir='testDir', content=fileContent)"
      ],
      "execution_count": null,
      "outputs": []
    },
    {
      "cell_type": "code",
      "metadata": {
        "id": "TbRbQAYqPTci"
      },
      "source": [
        "def downloadGoogleDriveFile(thisFileId):\n",
        "    '''Download a file based on its file id'''\n",
        "    print(thisFileId)\n",
        "    file_id = thisFileId\n",
        "    downloaded = drive.CreateFile({'id': file_id})\n",
        "    print('Downloaded content \"{}\"'.format(downloaded.GetContentString()))"
      ],
      "execution_count": null,
      "outputs": []
    },
    {
      "cell_type": "code",
      "metadata": {
        "id": "tRGApar26xrz"
      },
      "source": [
        "downloadFile = selectFile(13)\n",
        "downloadGoogleDriveFile(downloadFile)"
      ],
      "execution_count": null,
      "outputs": []
    }
  ]
}