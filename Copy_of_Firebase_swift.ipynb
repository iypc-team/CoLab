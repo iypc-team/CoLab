{
  "nbformat": 4,
  "nbformat_minor": 0,
  "metadata": {
    "colab": {
      "name": "Copy of Firebase_swift.ipynb",
      "version": "0.3.2",
      "provenance": [],
      "collapsed_sections": [],
      "include_colab_link": true
    },
    "kernelspec": {
      "name": "swift",
      "display_name": "Swift"
    }
  },
  "cells": [
    {
      "cell_type": "markdown",
      "metadata": {
        "id": "view-in-github",
        "colab_type": "text"
      },
      "source": [
        "<a href=\"https://colab.research.google.com/github/iypc-team/CoLab/blob/master/Copy_of_Firebase_swift.ipynb\" target=\"_parent\"><img src=\"https://colab.research.google.com/assets/colab-badge.svg\" alt=\"Open In Colab\"/></a>"
      ]
    },
    {
      "cell_type": "code",
      "metadata": {
        "id": "EgI0gsf6IuoT",
        "colab_type": "code",
        "outputId": "e63d9688-d83d-42e3-bfc6-bc3435cf2efb",
        "colab": {
          "base_uri": "https://localhost:8080/",
          "height": 269
        }
      },
      "source": [
        "\n",
        "import TensorFlow\n",
        "import Foundation\n",
        "import Dispatch\n",
        "import Python\n",
        "\n",
        "let py = Python\n",
        "\n",
        "let globalQueue = DispatchQueue.global(qos: .default)\n",
        "let backgroundQueue = DispatchQueue.global(qos: .background)\n",
        "\n",
        "class Differ {\n",
        "  let message = \"Class Differ\\n\"\n",
        "  var x: Double!\n",
        "  var y:Double!\n",
        "}\n",
        "\n",
        "globalQueue.sync {\n",
        "  let d = Differ()\n",
        "  print(d.message)\n",
        "  x = 2\n",
        "  for inc in 0...10 {\n",
        "    y = pow(x, Double(inc))\n",
        "    print(\"\\(x!) to the \\(inc) power = \\(y!)\")\n",
        "    }\n",
        "} \n",
        "\n",
        "let bs = Bullshit()\n",
        "print(bs.bsMessage)\n",
        "\n",
        "\n"
      ],
      "execution_count": 11,
      "outputs": [
        {
          "output_type": "stream",
          "text": [
            "Class Differ\r\n",
            "\r\n",
            "2.0 to the 0 power = 1.0\r\n",
            "2.0 to the 1 power = 2.0\r\n",
            "2.0 to the 2 power = 4.0\r\n",
            "2.0 to the 3 power = 8.0\r\n",
            "2.0 to the 4 power = 16.0\r\n",
            "2.0 to the 5 power = 32.0\r\n",
            "2.0 to the 6 power = 64.0\r\n",
            "2.0 to the 7 power = 128.0\r\n",
            "2.0 to the 8 power = 256.0\r\n",
            "2.0 to the 9 power = 512.0\r\n",
            "2.0 to the 10 power = 1024.0\r\n",
            "class Bullshit\r\n"
          ],
          "name": "stdout"
        }
      ]
    },
    {
      "cell_type": "code",
      "metadata": {
        "id": "q6AqYxRPwzjT",
        "colab_type": "code",
        "colab": {}
      },
      "source": [
        "class Bullshit: NSObject {\n",
        "  let bsMessage = \"\\nclass Bullshit\"\n",
        "}"
      ],
      "execution_count": 0,
      "outputs": []
    }
  ]
}