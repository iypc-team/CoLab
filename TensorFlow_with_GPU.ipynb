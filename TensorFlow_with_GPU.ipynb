{
  "nbformat": 4,
  "nbformat_minor": 0,
  "metadata": {
    "colab": {
      "name": "TensorFlow with GPU",
      "provenance": [],
      "private_outputs": true,
      "collapsed_sections": [],
      "include_colab_link": true
    },
    "kernelspec": {
      "name": "python3",
      "display_name": "Python 3"
    },
    "accelerator": "GPU"
  },
  "cells": [
    {
      "cell_type": "markdown",
      "metadata": {
        "id": "view-in-github",
        "colab_type": "text"
      },
      "source": [
        "<a href=\"https://colab.research.google.com/github/iypc-team/CoLab/blob/master/TensorFlow_with_GPU.ipynb\" target=\"_parent\"><img src=\"https://colab.research.google.com/assets/colab-badge.svg\" alt=\"Open In Colab\"/></a>"
      ]
    },
    {
      "cell_type": "code",
      "metadata": {
        "id": "2FpQtOkrCMc1",
        "colab_type": "code",
        "colab": {}
      },
      "source": [
        "from IPython.display import clear_output\n",
        "%pip install tensorflow-gpu\n",
        "clear_output()"
      ],
      "execution_count": null,
      "outputs": []
    },
    {
      "cell_type": "code",
      "metadata": {
        "id": "FTFtP8Fc3IhJ",
        "colab_type": "code",
        "colab": {}
      },
      "source": [
        "import os\n",
        "from os.path import *\n",
        "from pathlib import Path\n",
        "from google.colab import drive\n",
        "initialPath = realpath(Path.cwd())\n",
        "print(initialPath)\n",
        "drive.mount('/gdrive', force_remount=True)\n",
        "os.chdir('/gdrive')\n",
        "gdrivePath = realpath(Path.cwd())\n",
        "mydrivePath = join(gdrivePath, 'My Drive')\n",
        "os.chdir(mydrivePath)\n",
        "from BashColors import C"
      ],
      "execution_count": null,
      "outputs": []
    },
    {
      "cell_type": "markdown",
      "metadata": {
        "id": "BIjRWKt75nvW",
        "colab_type": "text"
      },
      "source": [
        ""
      ]
    },
    {
      "cell_type": "code",
      "metadata": {
        "id": "2rKNTN-nuu0-",
        "colab_type": "code",
        "colab": {}
      },
      "source": [
        "import tensorflow as tf\n",
        "import timeit\n",
        "logicalDevices = tf.config.list_logical_devices()\n",
        "\n",
        "for dev in sorted(logicalDevices):\n",
        "    print(dev)\n",
        "\n",
        "print()\n",
        "def cpu():\n",
        "    cpu_device = tf.device('/device:CPU:0')\n",
        "    \n",
        "    with cpu_device:\n",
        "        print('with: ', cpu_device)\n",
        "    return cpu_device\n",
        "\n",
        "def gpu():\n",
        "    gpu_device = tf.device('/device:GPU:0')\n",
        "    with gpu_device:\n",
        "        print('gpu device')\n",
        "    return gpu_device\n",
        "\n",
        "cpu = cpu()\n",
        "gpu = gpu()\n",
        "\n",
        "with cpu:\n",
        "    print('CPU')\n",
        "\n",
        "with gpu:\n",
        "    print('GPU')"
      ],
      "execution_count": null,
      "outputs": []
    },
    {
      "cell_type": "code",
      "metadata": {
        "id": "C9tidy06F1tP",
        "colab_type": "code",
        "colab": {}
      },
      "source": [
        "\n",
        "colabPath = join(mydrivePath, 'CoLab')\n",
        "print(colabPath)\n",
        "\n",
        "# Clone the entire repo.\n",
        "if not exists(colabPath):\n",
        "    print('Does not exist\\n')\n",
        "    with tf.device('/device:CPU:0'):\n",
        "        print('exists')\n",
        "        # !git clone -l -s git://github.com/iypc-team/CoLab.git CoLab  \n",
        "else:\n",
        "    print(f'{colabPath}{C.BGreen} already exists. OK') \n",
        "    os.chdir(colabPath)\n",
        "    %ls\n"
      ],
      "execution_count": null,
      "outputs": []
    },
    {
      "cell_type": "code",
      "metadata": {
        "colab_type": "code",
        "id": "3IEVK-KFxi5Z",
        "colab": {}
      },
      "source": [
        "import tensorflow as tf\n",
        "\n",
        "device_name = tf.test.gpu_device_name()\n",
        "print(device_name)\n",
        "if device_name != '/device:GPU:0':\n",
        "    raise SystemError('GPU device not found')"
      ],
      "execution_count": null,
      "outputs": []
    },
    {
      "cell_type": "code",
      "metadata": {
        "colab_type": "code",
        "id": "IVxrG3Osa1tM",
        "colab": {}
      },
      "source": [
        "import tensorflow as tf\n",
        "import timeit\n",
        "\n",
        "# See https://www.tensorflow.org/tutorials/using_gpu#allowing_gpu_memory_growth  \n",
        "\n",
        "config = tf.compat.v1.ConfigProto()\n",
        "config.gpu_options.allow_growth = True\n",
        "\n",
        "with tf.device('/cpu:0'):\n",
        "    random_image_cpu = tf.random_normal_initializer((100, 100, 100, 3))\n",
        "    print(random_image_cpu)\n",
        "\n",
        "with tf.device('/device:GPU:0'):\n",
        "    random_image_gpu = tf.random_normal_initializer((100, 100, 100, 3)) \n",
        "    print(random_image_gpu)\n",
        "\n",
        "bs = '''\n",
        "sess = tf.Session(config=config)\n",
        "\n",
        "# Ensure that TF can detect the GPU.\n",
        "try:\n",
        "    sess.run(tf.global_variables_initializer())\n",
        "except tf.errors.InvalidArgumentError:\n",
        "    print(\n",
        "        '\\n\\nThis error most likely means that this notebook is not '\n",
        "        'configured to use a GPU.  Change this in Notebook Settings via the '\n",
        "        'command palette (cmd/ctrl-shift-P) or the Edit menu.\\n\\n')\n",
        "    raise\n",
        "\n",
        "'''\n",
        "def cpu():\n",
        "    tf.device('/cpu:0')\n",
        "  \n",
        "def gpu():\n",
        "    sess.run(net_gpu)\n",
        "  \n",
        "# We run each op once to warm up; see: https://stackoverflow.com/a/45067900\n",
        "cpu()\n",
        "gpu()\n",
        "\n",
        "clear_output()\n",
        "\n",
        "# Run the op several times.o\n",
        "print('Time (s) to convolve 32x7x7x3 filter over random 100x100x100x3 images '\n",
        "      '(batch x height x width x channel). Sum of ten runs.')\n",
        "print('CPU (s):')\n",
        "cpu_time = timeit.timeit('cpu()', number=10, setup=\"from __main__ import cpu\")\n",
        "print(cpu_time)\n",
        "print('GPU (s):')\n",
        "gpu_time = timeit.timeit('gpu()', number=10, setup=\"from __main__ import gpu\")\n",
        "print(gpu_time)\n",
        "print('GPU speedup over CPU: {}x'.format(int(cpu_time/gpu_time)))\n",
        "\n",
        "sess.close()"
      ],
      "execution_count": null,
      "outputs": []
    },
    {
      "cell_type": "code",
      "metadata": {
        "id": "HMyrX1P62Ibd",
        "colab_type": "code",
        "colab": {}
      },
      "source": [
        ""
      ],
      "execution_count": null,
      "outputs": []
    }
  ]
}