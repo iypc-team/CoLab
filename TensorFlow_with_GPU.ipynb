{
  "nbformat": 4,
  "nbformat_minor": 0,
  "metadata": {
    "colab": {
      "name": "TensorFlow with GPU",
      "provenance": [],
      "private_outputs": true,
      "collapsed_sections": [],
      "include_colab_link": true
    },
    "kernelspec": {
      "name": "python3",
      "display_name": "Python 3"
    },
    "accelerator": "GPU"
  },
  "cells": [
    {
      "cell_type": "markdown",
      "metadata": {
        "id": "view-in-github",
        "colab_type": "text"
      },
      "source": [
        "<a href=\"https://colab.research.google.com/github/iypc-team/CoLab/blob/master/TensorFlow_with_GPU.ipynb\" target=\"_parent\"><img src=\"https://colab.research.google.com/assets/colab-badge.svg\" alt=\"Open In Colab\"/></a>"
      ]
    },
    {
      "cell_type": "code",
      "metadata": {
        "id": "2FpQtOkrCMc1",
        "colab_type": "code",
        "colab": {}
      },
      "source": [
        "from IPython.display import clear_output\n",
        "%pip install tensorflow-gpu\n",
        "clear_output()"
      ],
      "execution_count": null,
      "outputs": []
    },
    {
      "cell_type": "code",
      "metadata": {
        "id": "C9tidy06F1tP",
        "colab_type": "code",
        "colab": {}
      },
      "source": [
        "import glob, os, pathlib\n",
        "from os.path import *\n",
        "from pathlib import Path\n",
        "\n",
        "cwdPath = Path.cwd()\n",
        "colabPath = join(cwdPath, 'CoLab')\n",
        "os.chdir(cwdPath)\n",
        "\n",
        "# Clone the entire repo.\n",
        "if not exists(colabPath):\n",
        "    print('Does not exist')\n",
        "    # !git clone -l -s git://github.com/iypc-team/CoLab.git CoLab  \n",
        "    # clear_output()\n",
        "    os.chdir(colabPath)\n",
        "else:\n",
        "    print('Exists')\n",
        "    # clear_output()\n",
        "    os.chdir(colabPath)\n",
        "\n",
        "from ColorUtil import C\n",
        "\n",
        "# print(f'{C.GREEN}OK')\n",
        "\n",
        "\n",
        "bs = '''\n",
        "allFiles = glob.glob('**', recursive=True)\n",
        "counter = 0\n",
        "for fil in sorted(allFiles):\n",
        "    fullPath = Path(realpath(fil))\n",
        "    if isdir(fullPath):\n",
        "        print(f'{C.BLUE}{fullPath}')\n",
        "    elif isfile(fullPath):\n",
        "        counter += 1\n",
        "        print(f'{C.WHITE}{counter}. {fullPath.name}')\n",
        "'''"
      ],
      "execution_count": null,
      "outputs": []
    },
    {
      "cell_type": "code",
      "metadata": {
        "colab_type": "code",
        "id": "3IEVK-KFxi5Z",
        "colab": {}
      },
      "source": [
        "import tensorflow as tf\n",
        "device_name = tf.test.gpu_device_name()\n",
        "if device_name != '/device:GPU:0':\n",
        "    raise SystemError('GPU device not found')\n",
        "print('Found GPU at: {}'.format(device_name))"
      ],
      "execution_count": null,
      "outputs": []
    },
    {
      "cell_type": "code",
      "metadata": {
        "colab_type": "code",
        "id": "IVxrG3Osa1tM",
        "colab": {}
      },
      "source": [
        "import tensorflow as tf\n",
        "import timeit\n",
        "\n",
        "# See https://www.tensorflow.org/tutorials/using_gpu#allowing_gpu_memory_growth  \n",
        "\n",
        "confg = tf.config.set_logical_device_configuration(device=)\n",
        "confg\n",
        "\n",
        "config = tf.ConfigProto()\n",
        "config.gpu_options.allow_growth = True\n",
        "with tf.device('/cpu:0'):\n",
        "    random_image_cpu = tf.random_normal((100, 100, 100, 3))\n",
        "    net_cpu = tf.layers.conv2d(random_image_cpu, 32, 7)\n",
        "    # net_cpu = tf.keras.layers.Conv2D(random_image_cpu, 32, 7)\n",
        "    net_cpu = tf.reduce_sum(net_cpu)\n",
        "\n",
        "with tf.device('/device:GPU:0'):\n",
        "    random_image_gpu = tf.random_normal((100, 100, 100, 3))\n",
        "    net_gpu = tf.layers.conv2d(random_image_gpu, 32, 7)\n",
        "    net_gpu = tf.reduce_sum(net_gpu)\n",
        "\n",
        "sess = tf.Session(config=config)\n",
        "\n",
        "# Ensure that TF can detect the GPU.\n",
        "try:\n",
        "    sess.run(tf.global_variables_initializer())\n",
        "except tf.errors.InvalidArgumentError:\n",
        "    print(\n",
        "        '\\n\\nThis error most likely means that this notebook is not '\n",
        "        'configured to use a GPU.  Change this in Notebook Settings via the '\n",
        "        'command palette (cmd/ctrl-shift-P) or the Edit menu.\\n\\n')\n",
        "    raise\n",
        "\n",
        "def cpu():\n",
        "    sess.run(net_cpu)\n",
        "  \n",
        "def gpu():\n",
        "    sess.run(net_gpu)\n",
        "  \n",
        "# We run each op once to warm up; see: https://stackoverflow.com/a/45067900\n",
        "cpu()\n",
        "gpu()\n",
        "\n",
        "clear_output()\n",
        "\n",
        "# Run the op several times.o\n",
        "print('Time (s) to convolve 32x7x7x3 filter over random 100x100x100x3 images '\n",
        "      '(batch x height x width x channel). Sum of ten runs.')\n",
        "print('CPU (s):')\n",
        "cpu_time = timeit.timeit('cpu()', number=10, setup=\"from __main__ import cpu\")\n",
        "print(cpu_time)\n",
        "print('GPU (s):')\n",
        "gpu_time = timeit.timeit('gpu()', number=10, setup=\"from __main__ import gpu\")\n",
        "print(gpu_time)\n",
        "print('GPU speedup over CPU: {}x'.format(int(cpu_time/gpu_time)))\n",
        "\n",
        "sess.close()"
      ],
      "execution_count": null,
      "outputs": []
    },
    {
      "cell_type": "code",
      "metadata": {
        "id": "HMyrX1P62Ibd",
        "colab_type": "code",
        "colab": {}
      },
      "source": [
        ""
      ],
      "execution_count": null,
      "outputs": []
    }
  ]
}