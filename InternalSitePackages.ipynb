{
  "nbformat": 4,
  "nbformat_minor": 0,
  "metadata": {
    "kernelspec": {
      "display_name": "Python 3",
      "language": "python",
      "name": "python3"
    },
    "language_info": {
      "codemirror_mode": {
        "name": "ipython",
        "version": 3
      },
      "file_extension": ".py",
      "mimetype": "text/x-python",
      "name": "python",
      "nbconvert_exporter": "python",
      "pygments_lexer": "ipython3",
      "version": "3.7.6"
    },
    "colab": {
      "name": "InternalSitePackages.ipynb",
      "provenance": [],
      "include_colab_link": true
    }
  },
  "cells": [
    {
      "cell_type": "markdown",
      "metadata": {
        "id": "view-in-github",
        "colab_type": "text"
      },
      "source": [
        "<a href=\"https://colab.research.google.com/github/iypc-team/CoLab/blob/master/InternalSitePackages.ipynb\" target=\"_parent\"><img src=\"https://colab.research.google.com/assets/colab-badge.svg\" alt=\"Open In Colab\"/></a>"
      ]
    },
    {
      "cell_type": "code",
      "metadata": {
        "id": "tVgpUFeI5Rfb",
        "colab_type": "code",
        "colab": {
          "base_uri": "https://localhost:8080/",
          "height": 371
        },
        "outputId": "5505f72e-1399-4503-f4b5-e380fd835011"
      },
      "source": [
        "!pip install GitPython\n",
        "import git, gitdb\n",
        "from git import *\n"
      ],
      "execution_count": 8,
      "outputs": [
        {
          "output_type": "stream",
          "text": [
            "Requirement already satisfied: GitPython in /usr/local/lib/python3.6/dist-packages (3.1.3)\n",
            "Requirement already satisfied: gitdb<5,>=4.0.1 in /usr/local/lib/python3.6/dist-packages (from GitPython) (4.0.5)\n",
            "Requirement already satisfied: smmap<4,>=3.0.1 in /usr/local/lib/python3.6/dist-packages (from gitdb<5,>=4.0.1->GitPython) (3.0.4)\n"
          ],
          "name": "stdout"
        },
        {
          "output_type": "error",
          "ename": "NameError",
          "evalue": "ignored",
          "traceback": [
            "\u001b[0;31m---------------------------------------------------------------------------\u001b[0m",
            "\u001b[0;31mNameError\u001b[0m                                 Traceback (most recent call last)",
            "\u001b[0;32m<ipython-input-8-074b6915419c>\u001b[0m in \u001b[0;36m<module>\u001b[0;34m()\u001b[0m\n\u001b[1;32m      3\u001b[0m \u001b[0;32mfrom\u001b[0m \u001b[0mgit\u001b[0m \u001b[0;32mimport\u001b[0m \u001b[0;34m*\u001b[0m\u001b[0;34m\u001b[0m\u001b[0;34m\u001b[0m\u001b[0m\n\u001b[1;32m      4\u001b[0m \u001b[0;34m\u001b[0m\u001b[0m\n\u001b[0;32m----> 5\u001b[0;31m \u001b[0msmmap\u001b[0m\u001b[0;34m\u001b[0m\u001b[0;34m\u001b[0m\u001b[0m\n\u001b[0m",
            "\u001b[0;31mNameError\u001b[0m: name 'smmap' is not defined"
          ]
        }
      ]
    },
    {
      "cell_type": "code",
      "metadata": {
        "id": "gMPniKuQ2D1V",
        "colab_type": "code",
        "colab": {
          "base_uri": "https://localhost:8080/",
          "height": 53
        },
        "outputId": "9f2ce9e1-c7b6-4979-bfa7-6a362c61ba02"
      },
      "source": [
        "from __future__ import absolute_import, division, print_function, unicode_literals\n",
        "from IPython.display import clear_output\n",
        "import glob, os, pathlib, sys\n",
        "from os.path import *\n",
        "from pathlib import Path\n",
        "\n",
        "python37 = '/srv/conda/envs/notebook/lib/python3.7'\n",
        "# os.chdir(python37)\n",
        "\n",
        "\n",
        "allFiles = []\n",
        "allFiles = glob.glob('**', recursive=True)\n",
        "\n",
        "print(f'{Path.cwd()}\\n{len(allFiles)} files')"
      ],
      "execution_count": 9,
      "outputs": [
        {
          "output_type": "stream",
          "text": [
            "/content\n",
            "7 files\n"
          ],
          "name": "stdout"
        }
      ]
    },
    {
      "cell_type": "code",
      "metadata": {
        "id": "CJZc3uvy2D2N",
        "colab_type": "code",
        "colab": {
          "base_uri": "https://localhost:8080/",
          "height": 179
        },
        "outputId": "1f359c95-5914-4673-87f1-78a27a548e0a"
      },
      "source": [
        "\n",
        "allFilesDict = {}\n",
        "fileCount = 0\n",
        "print(Path.cwd())\n",
        "for fil in allFiles:\n",
        "    fullPath = Path(abspath(fil) )\n",
        "    absPath = realpath(fullPath)\n",
        "    if isdir(fullPath): # and absPath.__contains__('cryptography'):\n",
        "        print(f'\\n{fullPath}')\n",
        "    elif isfile(fullPath):\n",
        "        fileCount += 1\n",
        "        allFilesDict[fileCount] = fullPath\n",
        "        print(f'{fileCount}. {fullPath}')"
      ],
      "execution_count": 10,
      "outputs": [
        {
          "output_type": "stream",
          "text": [
            "/content\n",
            "\n",
            "/content/sample_data\n",
            "1. /content/sample_data/anscombe.json\n",
            "2. /content/sample_data/README.md\n",
            "3. /content/sample_data/california_housing_train.csv\n",
            "4. /content/sample_data/california_housing_test.csv\n",
            "5. /content/sample_data/mnist_test.csv\n",
            "6. /content/sample_data/mnist_train_small.csv\n"
          ],
          "name": "stdout"
        }
      ]
    },
    {
      "cell_type": "code",
      "metadata": {
        "id": "UisbJDUm2D5m",
        "colab_type": "code",
        "colab": {}
      },
      "source": [
        ""
      ],
      "execution_count": 3,
      "outputs": []
    }
  ]
}