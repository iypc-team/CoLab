{
  "nbformat": 4,
  "nbformat_minor": 0,
  "metadata": {
    "kernelspec": {
      "display_name": "Python 3",
      "language": "python",
      "name": "python3"
    },
    "language_info": {
      "codemirror_mode": {
        "name": "ipython",
        "version": 3
      },
      "file_extension": ".py",
      "mimetype": "text/x-python",
      "name": "python",
      "nbconvert_exporter": "python",
      "pygments_lexer": "ipython3",
      "version": "3.7.6"
    },
    "colab": {
      "name": "File_Utilities.ipynb",
      "provenance": [],
      "collapsed_sections": [],
      "include_colab_link": true
    }
  },
  "cells": [
    {
      "cell_type": "markdown",
      "metadata": {
        "id": "view-in-github",
        "colab_type": "text"
      },
      "source": [
        "<a href=\"https://colab.research.google.com/github/iypc-team/CoLab/blob/master/File_Utilities.ipynb\" target=\"_parent\"><img src=\"https://colab.research.google.com/assets/colab-badge.svg\" alt=\"Open In Colab\"/></a>"
      ]
    },
    {
      "cell_type": "code",
      "metadata": {
        "id": "zQNbWtCEs1eT",
        "colab_type": "code",
        "cellView": "both",
        "colab": {
          "base_uri": "https://localhost:8080/",
          "height": 35
        },
        "outputId": "3f378751-74f9-4bc7-97f5-7adcb34bb30d"
      },
      "source": [
        "%%writefile ColorUtil.py\n",
        "'''Filename ColorUtil'''\n",
        "__all__ = ['colorOutput', 'C']\n",
        "\n",
        "class colorOutput:\n",
        "    LITE = '\\033[96m'\n",
        "    HEADER = '\\033[95m'\n",
        "    BLUE = '\\033[94m'\n",
        "    WARNING = '\\033[93m'\n",
        "    GREEN = '\\033[92m'\n",
        "    RED = '\\033[91m'\n",
        "    DARK = '\\033[90m'\n",
        "    UNDERLINE = '\\033[4m'\n",
        "    BOLD = '\\033[1m'\n",
        "    WHITE = '\\033[0m'\n",
        "\n",
        "global C\n",
        "C = colorOutput()"
      ],
      "execution_count": 1,
      "outputs": [
        {
          "output_type": "stream",
          "text": [
            "Writing ColorUtil.py\n"
          ],
          "name": "stdout"
        }
      ]
    },
    {
      "cell_type": "code",
      "metadata": {
        "id": "F3V_CtMRjcpf",
        "colab_type": "code",
        "colab": {
          "base_uri": "https://localhost:8080/",
          "height": 336
        },
        "outputId": "90f54613-12b8-4f67-8fa1-17ceb68b26b2"
      },
      "source": [
        "# %%writefile FileUtilities.py\n",
        "'''Filename FileUtilities'''\n",
        "__all__ = ['C''homePath', 'cwdPath', 'AllFileUtilities', \n",
        "           'listAllFiles', 'colorOutput',\n",
        "           'allFiles', 'allFilesDict']\n",
        "\n",
        "import glob, os, pathlib, sys\n",
        "from os.path import *\n",
        "from pathlib import Path\n",
        "\n",
        "class ColorUtil():\n",
        "    def colorOutput():\n",
        "        \n",
        "        print('colorOutput')\n",
        "\n",
        "class AllFileUtilities(ColorUtil):\n",
        "    def __init__(self):\n",
        "        self.C = ColorUtil.colorOutput()\n",
        "        self.homePath = Path.home()\n",
        "        self.cwdPath = Path.cwd()\n",
        "        self.allFiles = glob.glob('**', recursive=True)\n",
        "        self.allFilesDict = {}\n",
        "\n",
        "    def listAllFiles(self):\n",
        "        tempDict = {}\n",
        "        fileCount = 0\n",
        "        print(f'{C.BLUE}{self.cwdPath}')\n",
        "        for fil in self.allFiles:\n",
        "            fullPath = Path(realpath(fil)) # POSIX path\n",
        "            realPath = realpath(fullPath) # String path\n",
        "            if isdir(fullPath) and not realPath.__contains__('__pycache__'):  \n",
        "                print(f'\\n{C.BLUE}{fullPath}')\n",
        "            elif isfile(fullPath) and not realPath.__contains__('__pycache__'): \n",
        "                fileCount += 1\n",
        "                tempDict[fileCount] = fullPath\n",
        "                print(f'{C.WHITE}{fileCount}. {fullPath.name}')\n",
        "        self.allFilesDict = tempDict\n",
        "            \n",
        "\n",
        "afu = AllFileUtilities()\n",
        "afu.listAllFiles()"
      ],
      "execution_count": 6,
      "outputs": [
        {
          "output_type": "stream",
          "text": [
            "colorOutput\n",
            "\u001b[94m/content\n",
            "\u001b[0m1. ColorUtil.py\n",
            "\n",
            "\u001b[94m/content/sample_data\n",
            "\u001b[0m2. README.md\n",
            "\u001b[0m3. anscombe.json\n",
            "\u001b[0m4. mnist_test.csv\n",
            "\u001b[0m5. mnist_train_small.csv\n",
            "\u001b[0m6. california_housing_test.csv\n",
            "\u001b[0m7. california_housing_train.csv\n"
          ],
          "name": "stdout"
        }
      ]
    }
  ]
}