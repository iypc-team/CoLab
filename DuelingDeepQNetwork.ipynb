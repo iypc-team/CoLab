{
  "nbformat": 4,
  "nbformat_minor": 0,
  "metadata": {
    "kernelspec": {
      "display_name": "Python 3 (system-wide)",
      "language": "python",
      "name": "python3"
    },
    "language_info": {
      "codemirror_mode": {
        "name": "ipython",
        "version": 3
      },
      "file_extension": ".py",
      "mimetype": "text/x-python",
      "name": "python",
      "nbconvert_exporter": "python",
      "pygments_lexer": "ipython3",
      "version": "3.6.9"
    },
    "colab": {
      "name": "DuelingDeepQNetwork.ipynb",
      "provenance": [],
      "collapsed_sections": [],
      "include_colab_link": true
    }
  },
  "cells": [
    {
      "cell_type": "markdown",
      "metadata": {
        "id": "view-in-github",
        "colab_type": "text"
      },
      "source": [
        "<a href=\"https://colab.research.google.com/github/iypc-team/CoLab/blob/master/DuelingDeepQNetwork.ipynb\" target=\"_parent\"><img src=\"https://colab.research.google.com/assets/colab-badge.svg\" alt=\"Open In Colab\"/></a>"
      ]
    },
    {
      "cell_type": "code",
      "metadata": {
        "id": "WBhhYbR8aleD",
        "colab_type": "code",
        "outputId": "8bad8b69-7b8e-40e7-ea75-6f70322737f1",
        "colab": {
          "base_uri": "https://localhost:8080/",
          "height": 71
        }
      },
      "source": [
        "skip = True\n",
        "if not skip:\n",
        "    #   https://m.youtube.com/watch?v=3Ggq_zoRGP4\n",
        "    !pip install pip\n",
        "    print('\\n', \"pip install completed\", '\\n')\n",
        "\n",
        "    !pip install tensorflow \n",
        "    print('\\n', \"tensorflow install completed\", '\\n')\n",
        "\n",
        "    !pip install matplotlib\n",
        "    print('\\n', \"matplotlib install completed\", '\\n')\n",
        "\n",
        "    !pip install gym\n",
        "    print('\\n', \"gym install completed\", '\\n')\n",
        "    \n",
        "global C\n",
        "\n",
        "print('\\n', \"ALL INSTALLS COMPLETED!\", '\\n')"
      ],
      "execution_count": 1,
      "outputs": [
        {
          "output_type": "stream",
          "text": [
            "\n",
            " ALL INSTALLS COMPLETED! \n",
            "\n"
          ],
          "name": "stdout"
        }
      ]
    },
    {
      "cell_type": "code",
      "metadata": {
        "id": "nGNYL60Ne3Tk",
        "colab_type": "code",
        "outputId": "256acef3-184c-45b9-ff08-125a97decb45",
        "colab": {
          "base_uri": "https://localhost:8080/",
          "height": 325
        }
      },
      "source": [
        "import glob, os, pathlib\n",
        "from pathlib import Path\n",
        "from os.path import *\n",
        "\n",
        "from google.colab import drive\n",
        "drive.mount('/content/drive')\n",
        "os.chdir('/content/drive')\n",
        "\n",
        "files = glob.glob('**', recursive=True)\n",
        "\n",
        "for fil in files:\n",
        "    fullPath = os.path.realpath(fil)  # string\n",
        "    posixPath = Path(realpath(fil))   # PosixPath\n",
        "    if isdir(posixPath):\n",
        "        print(f'{posixPath.name}')\n",
        "        print(f'{posixPath}\\n')"
      ],
      "execution_count": 33,
      "outputs": [
        {
          "output_type": "stream",
          "text": [
            "Drive already mounted at /content/drive; to attempt to forcibly remount, call drive.mount(\"/content/drive\", force_remount=True).\n",
            "My Drive\n",
            "/content/drive/My Drive\n",
            "\n",
            "Swift\n",
            "/content/drive/My Drive/Swift\n",
            "\n",
            "Colab Notebooks\n",
            "/content/drive/My Drive/Colab Notebooks\n",
            "\n",
            "Python\n",
            "/content/drive/My Drive/Colab Notebooks/Python\n",
            "\n",
            "PythonUtilities\n",
            "/content/drive/My Drive/PythonUtilities\n",
            "\n"
          ],
          "name": "stdout"
        }
      ]
    },
    {
      "cell_type": "code",
      "metadata": {
        "id": "p5MJKFb0jU5R",
        "colab_type": "code",
        "colab": {}
      },
      "source": [
        ""
      ],
      "execution_count": 0,
      "outputs": []
    },
    {
      "cell_type": "code",
      "metadata": {
        "id": "v-Hys96Oale0",
        "colab_type": "code",
        "outputId": "18b59d99-6f0a-4e63-d715-9a4e178796e7",
        "colab": {
          "base_uri": "https://localhost:8080/",
          "height": 583
        }
      },
      "source": [
        "from __future__ import absolute_import, division, print_function, unicode_literals\n",
        "from IPython.display import clear_output\n",
        "\n",
        "# import import_ipynb\n",
        "import SysPaths as sp\n",
        "from SysPaths import C\n",
        "\n",
        "# https://m.youtube.com/watch?v=CoePrz751lg&list=PL-9x0_FO_lgmP3TtVCD4X1U9oSalSuI1o\n",
        "\n",
        "import os, pathlib\n",
        "from os.path import exists\n",
        "from pathlib import Path\n",
        "\n",
        "# import gym\n",
        "\n",
        "import tensorflow as tf\n",
        "import tensorflow.keras as keras\n",
        "from tensorflow.keras.optimizers import Adam\n",
        "import numpy as np\n",
        "\n",
        "print(f'{C.WHITE}tensorflow version: {C.GREEN}{tf.__version__}')\n",
        "print(f'{C.WHITE}keras version: {C.GREEN}\\t    {keras.__version__}')\n",
        "    \n",
        "print(f'{C.GREEN}{C.BOLD}OK')\n",
        "\n",
        "\n",
        "\n",
        "class DuelingDeepQNetwork(keras.Model):\n",
        "    def __init__(self, fc1_dims, fc2_dims, n_actions):\n",
        "        super(DuelingDeepQNetwork, self).__init__()\n",
        "        self.dense1 = keras.layers.Dense(fc1_dims, activation='relu')\n",
        "        self.dense2 = keras.layers.Dense(fc2_dims, activation='relu')\n",
        "        self.V = keras.layers.Dense(1, activation=None)\n",
        "        self.A = keras.layers.Dense(n_actions, activation=None)\n",
        "        \n",
        "    def call(self, state):\n",
        "        x = self.dense1(state)\n",
        "        x = self.dense2(x)\n",
        "        V = self.V(x)\n",
        "        A = self.A(x)\n",
        "        Q = (V + (A - tf.math.reduce_mean(A, axis=1, keepdims=True)))\n",
        "        return Q\n",
        "    \n",
        "    def advantage(self, state):\n",
        "        x = self.dense1(state)\n",
        "        x = self.dense2(x)\n",
        "        A = self.A(x)\n",
        "        return A\n",
        "    \n",
        "class ReplayBuffer():\n",
        "    # https://m.youtube.com/watch?v=CoePrz751lg&list=PL-9x0_FO_lgmP3TtVCD4X1U9oSalSuI1o  \n",
        "    pass\n",
        "\n",
        "\n",
        "print(f'{C.GREEN}{C.BOLD}OK')\n",
        "\n",
        "\n",
        "\n",
        "import time\n",
        "\n",
        "ddqn = DuelingDeepQNetwork(fc1_dims=0,fc2_dims=0,n_actions=200) \n",
        "\n",
        "print(f'{C.WHITE}ddqn: {ddqn}{C.WHITE}')\n",
        "\n",
        "print(f'dense1: {C.BLUE}{ddqn.dense1}{C.WHITE}')\n",
        "\n",
        "\n",
        "print(f'dedense2nse2: {C.BLUE}{ddqn.dense2}{C.WHITE}')\n",
        "\n",
        "print(f'V: {C.BLUE}{ddqn.V}{C.WHITE}')\n",
        "\n",
        "print(f'A: {C.BLUE}{ddqn.A}')\n",
        "\n"
      ],
      "execution_count": 0,
      "outputs": [
        {
          "output_type": "error",
          "ename": "ModuleNotFoundError",
          "evalue": "ignored",
          "traceback": [
            "\u001b[0;31m---------------------------------------------------------------------------\u001b[0m",
            "\u001b[0;31mModuleNotFoundError\u001b[0m                       Traceback (most recent call last)",
            "\u001b[0;32m<ipython-input-5-82ac2527d650>\u001b[0m in \u001b[0;36m<module>\u001b[0;34m()\u001b[0m\n\u001b[1;32m      3\u001b[0m \u001b[0;34m\u001b[0m\u001b[0m\n\u001b[1;32m      4\u001b[0m \u001b[0;31m# import import_ipynb\u001b[0m\u001b[0;34m\u001b[0m\u001b[0;34m\u001b[0m\u001b[0;34m\u001b[0m\u001b[0m\n\u001b[0;32m----> 5\u001b[0;31m \u001b[0;32mimport\u001b[0m \u001b[0mSysPaths\u001b[0m \u001b[0;32mas\u001b[0m \u001b[0msp\u001b[0m\u001b[0;34m\u001b[0m\u001b[0;34m\u001b[0m\u001b[0m\n\u001b[0m\u001b[1;32m      6\u001b[0m \u001b[0;32mfrom\u001b[0m \u001b[0mSysPaths\u001b[0m \u001b[0;32mimport\u001b[0m \u001b[0mC\u001b[0m\u001b[0;34m\u001b[0m\u001b[0;34m\u001b[0m\u001b[0m\n\u001b[1;32m      7\u001b[0m \u001b[0;34m\u001b[0m\u001b[0m\n",
            "\u001b[0;31mModuleNotFoundError\u001b[0m: No module named 'SysPaths'",
            "",
            "\u001b[0;31m---------------------------------------------------------------------------\u001b[0;32m\nNOTE: If your import is failing due to a missing package, you can\nmanually install dependencies using either !pip or !apt.\n\nTo view examples of installing some common dependencies, click the\n\"Open Examples\" button below.\n\u001b[0;31m---------------------------------------------------------------------------\u001b[0m\n"
          ]
        }
      ]
    },
    {
      "cell_type": "code",
      "metadata": {
        "id": "hMmpx9lRalf4",
        "colab_type": "code",
        "colab": {}
      },
      "source": [
        ""
      ],
      "execution_count": 0,
      "outputs": []
    }
  ]
}