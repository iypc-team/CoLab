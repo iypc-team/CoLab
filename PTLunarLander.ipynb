{
  "nbformat": 4,
  "nbformat_minor": 0,
  "metadata": {
    "colab": {
      "name": "PTLunarLander.ipynb",
      "private_outputs": true,
      "provenance": [],
      "collapsed_sections": [],
      "machine_shape": "hm",
      "authorship_tag": "ABX9TyOei3x9+88DEZB6KBi6nWgJ",
      "include_colab_link": true
    },
    "kernelspec": {
      "name": "python3",
      "display_name": "Python 3"
    },
    "accelerator": "TPU"
  },
  "cells": [
    {
      "cell_type": "markdown",
      "metadata": {
        "id": "view-in-github",
        "colab_type": "text"
      },
      "source": [
        "<a href=\"https://colab.research.google.com/github/iypc-team/CoLab/blob/master/PTLunarLander.ipynb\" target=\"_parent\"><img src=\"https://colab.research.google.com/assets/colab-badge.svg\" alt=\"Open In Colab\"/></a>"
      ]
    },
    {
      "cell_type": "code",
      "metadata": {
        "id": "F1XpVvp9vn7L"
      },
      "source": [
        "from __future__ import absolute_import\n",
        "import glob, os, shutil\n",
        "from os.path import *\n",
        "from pathlib import Path\n",
        "from google.colab import drive\n",
        "\n",
        "drive.flush_and_unmount()\n",
        "drive.mount('/content/drive', force_remount=True)\n",
        "if exists('/content/sample_data'):\n",
        "    shutil.rmtree('/content/sample_data')\n",
        "contentPth=str(Path.cwd())\n",
        "os.chdir('/content/drive/My Drive/PythonFiles')\n",
        "\n",
        "import ColabDriveFiles as cdf"
      ],
      "execution_count": null,
      "outputs": []
    },
    {
      "cell_type": "code",
      "metadata": {
        "id": "wEWz6wrdTY7a"
      },
      "source": [
        "from ColabDriveFiles import *\n",
        "cdf.listColabFiles(silent=True)"
      ],
      "execution_count": null,
      "outputs": []
    },
    {
      "cell_type": "code",
      "metadata": {
        "id": "B2d0FmcVWD5-"
      },
      "source": [
        "import glob\n",
        "cdf.allDirectoriesDict\n",
        "drivePth=cdf.allDirectoriesDict[10]\n",
        "os.chdir(drivePth)\n",
        "importList=glob.glob('**')\n",
        "len(importList)\n",
        "for fil in importList:\n",
        "    sourcePth=abspath(fil)\n",
        "    destinPth=join(contentPth, fil)\n",
        "    #print(destinPth)\n",
        "    shutil.copy(sourcePth, destinPth)\n",
        "os.chdir(contentPth) \n",
        "from buffer import *\n",
        "from ddpg_torch import *\n",
        "from networks import *\n",
        "from noise import *\n",
        "from utils import *"
      ],
      "execution_count": null,
      "outputs": []
    },
    {
      "cell_type": "code",
      "metadata": {
        "id": "9kpyz72AiUFO"
      },
      "source": [
        "\n",
        "import ImportDriveFiles\n",
        "from BashColors import C\n",
        "from GetTPU import *\n",
        "gt.startTPU()\n",
        "tpuStrategy=gt.tpu_strategy\n",
        "gt.stopTPU()\n",
        "clear_output()"
      ],
      "execution_count": null,
      "outputs": []
    },
    {
      "cell_type": "code",
      "metadata": {
        "id": "tkUVaH3DZ7di"
      },
      "source": [
        "for fil in importList:\n",
        "    pth=join(contentPth, fil)\n",
        "    print(f'{C.Green}{pth}')\n",
        "    with open(pth, 'r') as fil:\n",
        "        print(f'{C.Green}{basename(pth)}{C.ColorOff}\\n')\n",
        "        print(fil.read())"
      ],
      "execution_count": null,
      "outputs": []
    },
    {
      "cell_type": "code",
      "metadata": {
        "id": "nIW1EuFIfGfm"
      },
      "source": [
        "import gym\n",
        "from gym.envs import box2d\n",
        "import numpy as np\n",
        "from ddpg_torch import Agent\n",
        "from utils import plot_learning_curve\n",
        "\n",
        "if __name__=='__main__':\n",
        "    env=gym.make('LunarLanderContinuous-v2')\n",
        "    shapr=env.observation_space.shape\n",
        "    action_spaceShape=env.action_space.shape[0]\n",
        "    print(shapr, action_spaceShape)\n",
        "    agent=Agent(alpha=0.0001,beta=0.001, input_dims=shapr,tau=0.001,n_actions=2)\n",
        "    n_games=1000\n",
        "    filename='LunarLander_alpha_' + str(agent.alpha) + '__beta__' \n"
      ],
      "execution_count": null,
      "outputs": []
    }
  ]
}