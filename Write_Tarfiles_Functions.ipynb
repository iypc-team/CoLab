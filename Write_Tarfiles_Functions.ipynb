{
  "nbformat": 4,
  "nbformat_minor": 5,
  "metadata": {
    "colab": {
      "name": "Write_Tarfiles_Functions.ipynb",
      "provenance": [],
      "collapsed_sections": [],
      "machine_shape": "hm"
    },
    "kernelspec": {
      "display_name": "Python 3",
      "language": "python",
      "name": "python3"
    },
    "language_info": {
      "codemirror_mode": {
        "name": "ipython",
        "version": 3
      },
      "file_extension": ".py",
      "mimetype": "text/x-python",
      "name": "python",
      "nbconvert_exporter": "python",
      "pygments_lexer": "ipython3",
      "version": "3.7.10"
    }
  },
  "cells": [
    {
      "cell_type": "code",
      "metadata": {
        "id": "varied-moscow"
      },
      "source": [
        "from IPython.display import clear_output\n",
        "import time\n",
        "def sleepyTime():\n",
        "    count=0\n",
        "    try:\n",
        "        while count <= 120:\n",
        "            print(f'sleeping for {count} minutes')\n",
        "            time.sleep(60)\n",
        "            count+=1\n",
        "            if count % 5 == 0:\n",
        "                clear_output()\n",
        "    except KeyboardInterrupt:\n",
        "        clear_output()\n",
        "# sleepyTime()"
      ],
      "id": "varied-moscow",
      "execution_count": null,
      "outputs": []
    },
    {
      "cell_type": "code",
      "metadata": {
        "id": "complimentary-editing",
        "colab": {
          "base_uri": "https://localhost:8080/",
          "height": 567
        },
        "outputId": "c76f5b22-ab98-4c3e-8865-f56e21c3d55e"
      },
      "source": [
        "from __future__ import absolute_import\n",
        "from BashColors import C\n",
        "import glob, os, shutil, tarfile\n",
        "\n",
        "class TarfileFunctions:\n",
        "    from BashColors import C\n",
        "    import glob, os, shutil, tarfile\n",
        "    from os.path import abspath\n",
        "    \n",
        "    def __init__(self):\n",
        "        self.tff = TarfileFunctions\n",
        "        self.rootPth=os.getcwd()\n",
        "        print(f'rootPth: {C.BIBlue}{self.rootPth}{C.ColorOff}\\n')\n",
        "        \n",
        "    def list_tarfiles(self):\n",
        "        print(f'Available tar files:')\n",
        "        tarfile_list = glob.glob('**', recursive=True)\n",
        "        for fil in sorted(tarfile_list):\n",
        "            if fil.endswith('.gz'):\n",
        "                fullPth = os.path.abspath(fil)\n",
        "                print(f'{C.IPurple}{fil}{C.ColorOff}\\n')\n",
        "                # print(f'{C.IGreen}{fullPth}{C.ColorOff}\\n')\n",
        "            \n",
        "        def create_tarfile_directory(output_filename, source_dir):\n",
        "            with tarfile.open(output_filename, \"w:gz\") as tar:\n",
        "                tar.add(source_dir, arcname=os.path.basename(source_dir))\n",
        "\n",
        "        def extractall_tarfile(input_tarfile):\n",
        "            fp = tarfile.open(input_tarfile, 'r:gz')\n",
        "            fp.extractall()\n",
        "            fp.close()\n",
        "\n",
        "        def inspect_tarfile_2(input_tarfile):\n",
        "            fileCount=0\n",
        "            for fil in tarfile.open(input_tarfile, 'r:gz'):\n",
        "                fileCount+=1\n",
        "                print(fil.name)\n",
        "                #bytes_=fil.mode.to_bytes(\n",
        "                    #length=fil.size, byteorder=sys.byteorder)\n",
        "                print('type:', fil.type)\n",
        "                print('chksum:', fil.chksum)\n",
        "                print('size:', fil.size)\n",
        "            \n",
        "    def inspectTarfile(self, named):\n",
        "        print(named)\n",
        "        tar = tarfile.open(\"Juno_Original_Defcon_Images.tar.gz\", \"r:gz\")\n",
        "        for tarinfo in tar:\n",
        "            print(f'{C.IPurple}{tarinfo.name}{C.ColorOff}')\n",
        "            print('type:', tarinfo.type)\n",
        "            print('chksum:', tarinfo.chksum)\n",
        "            print('size:', tarinfo.size)\n",
        "            \n",
        "            print(tarinfo.name, \"is\", tarinfo.size, \"bytes in size and is \", end=\"\")\n",
        "            if tarinfo.isreg():\n",
        "                print(\"a regular file.\")\n",
        "            elif tarinfo.isdir():\n",
        "                print(\"a directory.\")\n",
        "            else:\n",
        "                print(\"something else.\")\n",
        "            print()\n",
        "        tar.close()\n",
        "    \n",
        "\n",
        "tff = TarfileFunctions()\n",
        "# tff.list_tarfiles()\n",
        "tff.inspectTarfile(named='Juno_Original_Defcon_Images.tar.gz')"
      ],
      "id": "complimentary-editing",
      "execution_count": 1,
      "outputs": [
        {
          "output_type": "error",
          "ename": "ModuleNotFoundError",
          "evalue": "ignored",
          "traceback": [
            "\u001b[0;31m---------------------------------------------------------------------------\u001b[0m",
            "\u001b[0;31mModuleNotFoundError\u001b[0m                       Traceback (most recent call last)",
            "\u001b[0;32m<ipython-input-1-e8be1cb9cb76>\u001b[0m in \u001b[0;36m<module>\u001b[0;34m()\u001b[0m\n\u001b[1;32m      1\u001b[0m \u001b[0;32mfrom\u001b[0m \u001b[0m__future__\u001b[0m \u001b[0;32mimport\u001b[0m \u001b[0mabsolute_import\u001b[0m\u001b[0;34m\u001b[0m\u001b[0;34m\u001b[0m\u001b[0m\n\u001b[0;32m----> 2\u001b[0;31m \u001b[0;32mfrom\u001b[0m \u001b[0mBashColors\u001b[0m \u001b[0;32mimport\u001b[0m \u001b[0mC\u001b[0m\u001b[0;34m\u001b[0m\u001b[0;34m\u001b[0m\u001b[0m\n\u001b[0m\u001b[1;32m      3\u001b[0m \u001b[0;32mimport\u001b[0m \u001b[0mglob\u001b[0m\u001b[0;34m,\u001b[0m \u001b[0mos\u001b[0m\u001b[0;34m,\u001b[0m \u001b[0mshutil\u001b[0m\u001b[0;34m,\u001b[0m \u001b[0mtarfile\u001b[0m\u001b[0;34m\u001b[0m\u001b[0;34m\u001b[0m\u001b[0m\n\u001b[1;32m      4\u001b[0m \u001b[0;34m\u001b[0m\u001b[0m\n\u001b[1;32m      5\u001b[0m \u001b[0;32mclass\u001b[0m \u001b[0mTarfileFunctions\u001b[0m\u001b[0;34m:\u001b[0m\u001b[0;34m\u001b[0m\u001b[0;34m\u001b[0m\u001b[0m\n",
            "\u001b[0;31mModuleNotFoundError\u001b[0m: No module named 'BashColors'",
            "",
            "\u001b[0;31m---------------------------------------------------------------------------\u001b[0;32m\nNOTE: If your import is failing due to a missing package, you can\nmanually install dependencies using either !pip or !apt.\n\nTo view examples of installing some common dependencies, click the\n\"Open Examples\" button below.\n\u001b[0;31m---------------------------------------------------------------------------\u001b[0m\n"
          ]
        }
      ]
    },
    {
      "cell_type": "code",
      "metadata": {
        "id": "greatest-newport"
      },
      "source": [
        "tff=TarfileFunctions()\n",
        "tarfile=os.path.abspath('Juno_Original_Defcon_Images.tar.gz')\n",
        "tff.inspect_tarfile(input_tarfile='/home/jovyan/Juno_Original_Defcon_Images.tar.gz')"
      ],
      "id": "greatest-newport",
      "execution_count": null,
      "outputs": []
    },
    {
      "cell_type": "code",
      "metadata": {
        "id": "popular-community"
      },
      "source": [
        "q\n",
        "fp = tarfile.open('Original_Defcon_Images.tar.gz', 'r:gz')\n",
        "fp.extractall()\n",
        "fp.close()\n",
        "print('ok')"
      ],
      "id": "popular-community",
      "execution_count": null,
      "outputs": []
    },
    {
      "cell_type": "code",
      "metadata": {
        "id": "verbal-vector"
      },
      "source": [
        "sourcePth='/home/jovyan/content/gdrive/My Drive/TensorflowImages'\n",
        "destinationPth=join(contentPth, 'TensorflowImages')\n",
        "if not exists(destinationPth):\n",
        "    shutil.copytree(src=sourcePth, dst=destinationPth)\n",
        "else: print(f'{destinationPth} path exists')\n",
        "    \n",
        "delPth=join(contentPth, 'content')\n",
        "if exists(delPth):\n",
        "    shutil.rmtree(delPth)\n",
        "print('ok')"
      ],
      "id": "verbal-vector",
      "execution_count": null,
      "outputs": []
    },
    {
      "cell_type": "code",
      "metadata": {
        "id": "coated-matter"
      },
      "source": [
        "if exists(destinationPth):\n",
        "    create_tarfile_directory(\n",
        "        output_filename='Juno_Original_Defcon_Images.tar.gz',\n",
        "        source_dir=destinationPth)\n",
        "print('ok')"
      ],
      "id": "coated-matter",
      "execution_count": null,
      "outputs": []
    },
    {
      "cell_type": "code",
      "metadata": {
        "id": "unnecessary-documentary"
      },
      "source": [
        ""
      ],
      "id": "unnecessary-documentary",
      "execution_count": null,
      "outputs": []
    },
    {
      "cell_type": "code",
      "metadata": {
        "id": "6Qw_heXDykbl"
      },
      "source": [
        "if exists(destinationPth):\n",
        "    os.chdir(destinationPth)\n",
        "    defconImageList = glob.glob('**', recursive=True)\n",
        "    for item in sorted(defconImageList):\n",
        "        fullPth = abspath(item)\n",
        "        print(fullPth)\n",
        "        if fullPth.endswith('.gz'):\n",
        "            pass\n",
        "            #shutil.copy2(src=fullPth, dst=contentPth)\n",
        "\n",
        "os.chdir(contentPth)"
      ],
      "id": "6Qw_heXDykbl",
      "execution_count": null,
      "outputs": []
    },
    {
      "cell_type": "code",
      "metadata": {
        "id": "adverse-chase"
      },
      "source": [
        "os.chdir(destinationPth)\n",
        "print(f'cwd: {C.BBlue}{os.getcwd()}{C.ColorOff}\\n')\n",
        "\n",
        "bashPath=join(contentPth, 'BashColors.py')\n",
        "# create a tar consisting of all files in current directory\n",
        "fp=tarfile.open('Juno_Original_Defcon_Images.tar.gz','w:gz')\n",
        "if exists(bashPath):\n",
        "    fp.add(bashPath)\n",
        "for fil in sorted(glob.glob('**', recursive=True)):\n",
        "    fullPth=abspath(fil)\n",
        "    if fullPth.endswith('.gz'):\n",
        "        print(f'pass: {C.BRed}{fullPth}{C.ColorOff}')\n",
        "    else:\n",
        "        print(fullPth)\n",
        "        fp.add(fullPth)\n",
        "fp.close()"
      ],
      "id": "adverse-chase",
      "execution_count": null,
      "outputs": []
    },
    {
      "cell_type": "code",
      "metadata": {
        "id": "proof-millennium"
      },
      "source": [
        "fileCount=0\n",
        "for fil in tarfile.open('Juno_Original_Defcon_Images.tar.gz', 'r:gz'):\n",
        "    fileCount+=1\n",
        "    print(fil.name)\n",
        "    # bytes_=fil.mode.to_bytes(length=fil.size, byteorder=sys.byteorder)\n",
        "    print('type:', fil.type)\n",
        "    print('chksum:', fil.chksum)\n",
        "    print('size:', fil.size)\n",
        "    \n",
        "    print()"
      ],
      "id": "proof-millennium",
      "execution_count": null,
      "outputs": []
    },
    {
      "cell_type": "code",
      "metadata": {
        "id": "maritime-coral"
      },
      "source": [
        "print(fileCount)"
      ],
      "id": "maritime-coral",
      "execution_count": null,
      "outputs": []
    },
    {
      "cell_type": "code",
      "metadata": {
        "id": "impressed-appendix"
      },
      "source": [
        "\n",
        "gzFile=glob.glob('*.gz', recursive=True)\n",
        "for fil in gzFile:\n",
        "    fullPth=abspath(fil)\n",
        "    print(f'{C.Green}{fullPth}{C.ColorOff}')\n",
        "    if exists(fullPth):\n",
        "        try:\n",
        "            shutil.copy2(fullPth, contentPth)\n",
        "        except Exception as err:\n",
        "            print(err)"
      ],
      "id": "impressed-appendix",
      "execution_count": null,
      "outputs": []
    },
    {
      "cell_type": "code",
      "metadata": {
        "id": "treated-consideration"
      },
      "source": [
        "list_tarfiles()\n",
        "shutil.copy2(\n",
        "'/home/jovyan/TensorflowImages/Juno_Original_Defcon_Images.tar.gz' ,\n",
        "'/home/jovyan/Juno_Original_Defcon_Images.tar.gz')"
      ],
      "id": "treated-consideration",
      "execution_count": null,
      "outputs": []
    }
  ]
}