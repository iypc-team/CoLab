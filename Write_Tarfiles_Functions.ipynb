{
  "nbformat": 4,
  "nbformat_minor": 5,
  "metadata": {
    "colab": {
      "name": "Write_Tarfiles_Functions.ipynb",
      "private_outputs": true,
      "provenance": [],
      "collapsed_sections": [],
      "machine_shape": "hm",
      "include_colab_link": true
    },
    "kernelspec": {
      "display_name": "Python 3",
      "language": "python",
      "name": "python3"
    },
    "language_info": {
      "codemirror_mode": {
        "name": "ipython",
        "version": 3
      },
      "file_extension": ".py",
      "mimetype": "text/x-python",
      "name": "python",
      "nbconvert_exporter": "python",
      "pygments_lexer": "ipython3",
      "version": "3.7.10"
    }
  },
  "cells": [
    {
      "cell_type": "markdown",
      "metadata": {
        "id": "view-in-github",
        "colab_type": "text"
      },
      "source": [
        "<a href=\"https://colab.research.google.com/github/iypc-team/CoLab/blob/master/Write_Tarfiles_Functions.ipynb\" target=\"_parent\"><img src=\"https://colab.research.google.com/assets/colab-badge.svg\" alt=\"Open In Colab\"/></a>"
      ]
    },
    {
      "cell_type": "code",
      "metadata": {
        "id": "varied-moscow"
      },
      "source": [
        "from IPython.display import clear_output\n",
        "import time\n",
        "def sleepyTime():\n",
        "    count=0\n",
        "    try:\n",
        "        while count <= 120:\n",
        "            print(f'sleeping for {count} minutes')\n",
        "            time.sleep(60)\n",
        "            count+=1\n",
        "            if count % 5 == 0:\n",
        "                clear_output()\n",
        "    except KeyboardInterrupt:\n",
        "        clear_output()\n",
        "# sleepyTime()"
      ],
      "id": "varied-moscow",
      "execution_count": null,
      "outputs": []
    },
    {
      "cell_type": "code",
      "metadata": {
        "id": "2IPirPEO9-if"
      },
      "source": [
        "from __future__ import absolute_import\n",
        "import glob, os, shutil, tarfile\n",
        "import os.path\n",
        "from os.path import *\n",
        "\n",
        "contentPth = os.getcwd()\n",
        "\n",
        "if exists('/content/sample_data'):\n",
        "    shutil.rmtree('/content/sample_data')\n",
        "try: \n",
        "    from google.colab import drive, files\n",
        "    if os.path.exists('/content/sample_data'):\n",
        "        shutil.rmtree('/content/sample_data')\n",
        "    drive.flush_and_unmount()\n",
        "    drive.mount('/content/gdrive', force_remount=True)\n",
        "    myDrivePth = os.path.join(contentPth, 'gdrive/My Drive')\n",
        "    if exists(myDrivePth):\n",
        "        print(myDrivePth)\n",
        "        os.chdir(myDrivePth)\n",
        "        from BashColors import C\n",
        "except Exception as err:\n",
        "    print(err)\n",
        "    os.chdir(contentPth)\n",
        "    from BashColors import C\n",
        "print(f'cwd: {C.IBlue}{os.getcwd()}')"
      ],
      "id": "2IPirPEO9-if",
      "execution_count": null,
      "outputs": []
    },
    {
      "cell_type": "code",
      "metadata": {
        "id": "complimentary-editing"
      },
      "source": [
        "# %%writefile TarfileFunctions.py\n",
        "from __future__ import absolute_import\n",
        "from IPython.display import clear_output\n",
        "from BashColors import C\n",
        "import glob, os, shutil, tarfile\n",
        "import os.path\n",
        "\n",
        "class TarfileFunctions:\n",
        "    from IPython.display import clear_output\n",
        "    from BashColors import C\n",
        "    import glob, os, shutil, tarfile\n",
        "    from os.path import abspath\n",
        "    \n",
        "    global tff\n",
        "    \n",
        "    def __init__(self):\n",
        "        # self.tff = None\n",
        "        # self.tff=TarfileFunctions\n",
        "        self.rootPth=os.getcwd()\n",
        "        self.tarfileList=list()\n",
        "        self.tarfilePathList=list()\n",
        "        \n",
        "    def listTarfiles(self):\n",
        "        print(f'Available tar files:')\n",
        "        tarfile_list = glob.glob('**', recursive=True)\n",
        "        for fil in sorted(tarfile_list):\n",
        "            if fil.endswith('.gz'):\n",
        "                fil=basename(fil)\n",
        "                fullPth = abspath(fil)\n",
        "                print(f'{C.IPurple}{fil}{C.ColorOff}')\n",
        "                print(f'{C.Green}{fullPth}{C.ColorOff}\\n')\n",
        "                self.tarfileList.append(fil)\n",
        "                self.tarfilePathList.append(fullPth)\n",
        "            \n",
        "    def createTarfileFromDirectory(output_filename, source_dir):\n",
        "        with tarfile.open(output_filename, \"w:gz\") as tar:\n",
        "            tar.add(source_dir, arcname=os.path.basename(source_dir))\n",
        "\n",
        "    def extractAllTarfiles(fileName):\n",
        "        fil=basename(fileName)\n",
        "        print(fil)\n",
        "        tar = tarfile.open(fil, 'r:gz')\n",
        "        tar.extractall()\n",
        "        tar.close()\n",
        "\n",
        "    def inspectTarfile(self, named):\n",
        "        named=str(named)\n",
        "        named=basename(named)\n",
        "        print(named)\n",
        "        tar = tarfile.open(named, \"r:gz\")\n",
        "        for tarinfo in tar:\n",
        "            print(f'{C.IPurple}{tarinfo.name}{C.ColorOff}')\n",
        "            print('type:', tarinfo.type)\n",
        "            print('chksum:', tarinfo.chksum)\n",
        "            print('size:', tarinfo.size)\n",
        "            bs='''\n",
        "            print(tarinfo.name, \"is\", tarinfo.size, \"bytes in size and is \", end=\"\")\n",
        "            if tarinfo.isreg():\n",
        "                print(\"a regular file.\")\n",
        "            elif tarinfo.isdir():\n",
        "                print(\"a directory.\")\n",
        "            else:\n",
        "                print(\"something else.\")\n",
        "                '''\n",
        "            print()\n",
        "        tar.close()\n",
        "\n",
        "tff = TarfileFunctions()\n",
        "tff.listTarfiles()\n"
      ],
      "id": "complimentary-editing",
      "execution_count": null,
      "outputs": []
    },
    {
      "cell_type": "code",
      "metadata": {
        "id": "5fwhvyF4eHWM"
      },
      "source": [
        "\n",
        "fileName=basename(tff.tarfilePathList[0])\n",
        "print(fileName)\n",
        "\n",
        "tar=tarfile.open(fileName, 'r:gz')\n",
        "tar.extractall()\n",
        "tar.close()"
      ],
      "id": "5fwhvyF4eHWM",
      "execution_count": null,
      "outputs": []
    },
    {
      "cell_type": "code",
      "metadata": {
        "id": "b1UxGn6DIBjM"
      },
      "source": [
        "tff=TarfileFunctions()\n",
        "try:\n",
        "    if exists(myDrivePth):\n",
        "        os.chdir(myDrivePth)\n",
        "        tff.inspectTarfile('Defcon_Images.tar.gz')\n",
        "except Exception as err:\n",
        "    print(err)\n",
        "    os.chdir(contentPth)\n",
        "    print(f'cwd: {C.IBlue}{os.getcwd()}')"
      ],
      "id": "b1UxGn6DIBjM",
      "execution_count": null,
      "outputs": []
    },
    {
      "cell_type": "code",
      "metadata": {
        "id": "greatest-newport"
      },
      "source": [
        "tff=TarfileFunctions()\n",
        "tff.inspectTarfile('Defcon_Images.tar.gz')"
      ],
      "id": "greatest-newport",
      "execution_count": null,
      "outputs": []
    },
    {
      "cell_type": "code",
      "metadata": {
        "id": "popular-community"
      },
      "source": [
        "if exists(myDrivePth):\n",
        "    fp = tarfile.open('Defcon_Images.tar.gz', 'r:gz')\n",
        "    os.chdir(contentPth)\n",
        "    fp.extractall()\n",
        "    fp.close()\n",
        "    print('ok')"
      ],
      "id": "popular-community",
      "execution_count": null,
      "outputs": []
    },
    {
      "cell_type": "code",
      "metadata": {
        "id": "verbal-vector"
      },
      "source": [
        "sourcePth='/home/jovyan/content/gdrive/My Drive/TensorflowImages'\n",
        "destinationPth=join(contentPth, 'TensorflowImages')\n",
        "if not exists(destinationPth):\n",
        "    shutil.copytree(src=sourcePth, dst=destinationPth)\n",
        "else: print(f'{destinationPth} path exists')\n",
        "    \n",
        "delPth=join(contentPth, 'content')\n",
        "if exists(delPth):\n",
        "    shutil.rmtree(delPth)\n",
        "print('ok')"
      ],
      "id": "verbal-vector",
      "execution_count": null,
      "outputs": []
    },
    {
      "cell_type": "code",
      "metadata": {
        "id": "coated-matter"
      },
      "source": [
        "if exists(destinationPth):\n",
        "    create_tarfile_directory(\n",
        "        output_filename='Juno_Original_Defcon_Images.tar.gz',\n",
        "        source_dir=destinationPth)\n",
        "print('ok')"
      ],
      "id": "coated-matter",
      "execution_count": null,
      "outputs": []
    },
    {
      "cell_type": "code",
      "metadata": {
        "id": "unnecessary-documentary"
      },
      "source": [
        ""
      ],
      "id": "unnecessary-documentary",
      "execution_count": null,
      "outputs": []
    },
    {
      "cell_type": "code",
      "metadata": {
        "id": "6Qw_heXDykbl"
      },
      "source": [
        "if exists(destinationPth):\n",
        "    os.chdir(destinationPth)\n",
        "    defconImageList = glob.glob('**', recursive=True)\n",
        "    for item in sorted(defconImageList):\n",
        "        fullPth = abspath(item)\n",
        "        print(fullPth)\n",
        "        if fullPth.endswith('.gz'):\n",
        "            pass\n",
        "            #shutil.copy2(src=fullPth, dst=contentPth)\n",
        "\n",
        "os.chdir(contentPth)"
      ],
      "id": "6Qw_heXDykbl",
      "execution_count": null,
      "outputs": []
    },
    {
      "cell_type": "code",
      "metadata": {
        "id": "adverse-chase"
      },
      "source": [
        "os.chdir(destinationPth)\n",
        "print(f'cwd: {C.BBlue}{os.getcwd()}{C.ColorOff}\\n')\n",
        "\n",
        "bashPath=join(contentPth, 'BashColors.py')\n",
        "# create a tar consisting of all files in current directory\n",
        "fp=tarfile.open('Juno_Original_Defcon_Images.tar.gz','w:gz')\n",
        "if exists(bashPath):\n",
        "    fp.add(bashPath)\n",
        "for fil in sorted(glob.glob('**', recursive=True)):\n",
        "    fullPth=abspath(fil)\n",
        "    if fullPth.endswith('.gz'):\n",
        "        print(f'pass: {C.BRed}{fullPth}{C.ColorOff}')\n",
        "    else:\n",
        "        print(fullPth)\n",
        "        fp.add(fullPth)\n",
        "fp.close()"
      ],
      "id": "adverse-chase",
      "execution_count": null,
      "outputs": []
    },
    {
      "cell_type": "code",
      "metadata": {
        "id": "proof-millennium"
      },
      "source": [
        "fileCount=0\n",
        "for fil in tarfile.open('Juno_Original_Defcon_Images.tar.gz', 'r:gz'):\n",
        "    fileCount+=1\n",
        "    print(fil.name)\n",
        "    # bytes_=fil.mode.to_bytes(length=fil.size, byteorder=sys.byteorder)\n",
        "    print('type:', fil.type)\n",
        "    print('chksum:', fil.chksum)\n",
        "    print('size:', fil.size)\n",
        "    \n",
        "    print()"
      ],
      "id": "proof-millennium",
      "execution_count": null,
      "outputs": []
    },
    {
      "cell_type": "code",
      "metadata": {
        "id": "maritime-coral"
      },
      "source": [
        "print(fileCount)"
      ],
      "id": "maritime-coral",
      "execution_count": null,
      "outputs": []
    },
    {
      "cell_type": "code",
      "metadata": {
        "id": "impressed-appendix"
      },
      "source": [
        "\n",
        "gzFile=glob.glob('*.gz', recursive=True)\n",
        "for fil in gzFile:\n",
        "    fullPth=abspath(fil)\n",
        "    print(f'{C.Green}{fullPth}{C.ColorOff}')\n",
        "    if exists(fullPth):\n",
        "        try:\n",
        "            shutil.copy2(fullPth, contentPth)\n",
        "        except Exception as err:\n",
        "            print(err)"
      ],
      "id": "impressed-appendix",
      "execution_count": null,
      "outputs": []
    },
    {
      "cell_type": "code",
      "metadata": {
        "id": "treated-consideration"
      },
      "source": [
        "list_tarfiles()\n",
        "shutil.copy2(\n",
        "'/home/jovyan/TensorflowImages/Juno_Original_Defcon_Images.tar.gz' ,\n",
        "'/home/jovyan/Juno_Original_Defcon_Images.tar.gz')"
      ],
      "id": "treated-consideration",
      "execution_count": null,
      "outputs": []
    }
  ]
}