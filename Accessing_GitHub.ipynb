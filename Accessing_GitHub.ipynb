{
  "nbformat": 4,
  "nbformat_minor": 0,
  "metadata": {
    "colab": {
      "name": "Accessing GitHub",
      "version": "0.3.2",
      "provenance": [],
      "collapsed_sections": [],
      "include_colab_link": true
    },
    "kernelspec": {
      "display_name": "Python 3",
      "name": "python3"
    }
  },
  "cells": [
    {
      "cell_type": "markdown",
      "metadata": {
        "id": "view-in-github",
        "colab_type": "text"
      },
      "source": [
        "<a href=\"https://colab.research.google.com/github/iypc-team/CoLab/blob/master/Accessing_GitHub.ipynb\" target=\"_parent\"><img src=\"https://colab.research.google.com/assets/colab-badge.svg\" alt=\"Open In Colab\"/></a>"
      ]
    },
    {
      "cell_type": "code",
      "metadata": {
        "colab_type": "code",
        "id": "ldus40iKMIru",
        "colab": {
          "base_uri": "https://localhost:8080/",
          "height": 1000
        },
        "outputId": "7ff39e20-18ed-43b0-82f4-a0ce9a470149"
      },
      "source": [
        "#  Open files from GitHub\n",
        "#  Clones an entire repo.\n",
        "\n",
        "!git clone -l -s git://github.com/iypc-team/Swift.git swiftDirectory\n",
        "%cd swiftDirectory\n",
        "print('\\n',\"swiftDirectory:\")\n",
        "%ls\n",
        "print()\n",
        "\n",
        "!git clone -l -s git://github.com/iypc-team/CoLab.git colabDirectory\n",
        "%cd colabDirectory\n",
        "print('\\n', \"colabDirectory:\")\n",
        "%ls\n",
        "print()\n",
        "\n",
        "!git clone -l -s git://github.com/iypc-team/Reinforcement-Learning.git reinforcement-learningDirectory\n",
        "%cd reinforcement-learningDirectory\n",
        "print('\\n', \"reinforcement-learningDirectory:\")\n",
        "%ls\n",
        "print()\n"
      ],
      "execution_count": 3,
      "outputs": [
        {
          "output_type": "stream",
          "text": [
            "Cloning into 'swiftDirectory'...\n",
            "warning: --local is ignored\n",
            "remote: Enumerating objects: 36, done.\u001b[K\n",
            "remote: Counting objects:   2% (1/36)   \u001b[K\rremote: Counting objects:   5% (2/36)   \u001b[K\rremote: Counting objects:   8% (3/36)   \u001b[K\rremote: Counting objects:  11% (4/36)   \u001b[K\rremote: Counting objects:  13% (5/36)   \u001b[K\rremote: Counting objects:  16% (6/36)   \u001b[K\rremote: Counting objects:  19% (7/36)   \u001b[K\rremote: Counting objects:  22% (8/36)   \u001b[K\rremote: Counting objects:  25% (9/36)   \u001b[K\rremote: Counting objects:  27% (10/36)   \u001b[K\rremote: Counting objects:  30% (11/36)   \u001b[K\rremote: Counting objects:  33% (12/36)   \u001b[K\rremote: Counting objects:  36% (13/36)   \u001b[K\rremote: Counting objects:  38% (14/36)   \u001b[K\rremote: Counting objects:  41% (15/36)   \u001b[K\rremote: Counting objects:  44% (16/36)   \u001b[K\rremote: Counting objects:  47% (17/36)   \u001b[K\rremote: Counting objects:  50% (18/36)   \u001b[K\rremote: Counting objects:  52% (19/36)   \u001b[K\rremote: Counting objects:  55% (20/36)   \u001b[K\rremote: Counting objects:  58% (21/36)   \u001b[K\rremote: Counting objects:  61% (22/36)   \u001b[K\rremote: Counting objects:  63% (23/36)   \u001b[K\rremote: Counting objects:  66% (24/36)   \u001b[K\rremote: Counting objects:  69% (25/36)   \u001b[K\rremote: Counting objects:  72% (26/36)   \u001b[K\rremote: Counting objects:  75% (27/36)   \u001b[K\rremote: Counting objects:  77% (28/36)   \u001b[K\rremote: Counting objects:  80% (29/36)   \u001b[K\rremote: Counting objects:  83% (30/36)   \u001b[K\rremote: Counting objects:  86% (31/36)   \u001b[K\rremote: Counting objects:  88% (32/36)   \u001b[K\rremote: Counting objects:  91% (33/36)   \u001b[K\rremote: Counting objects:  94% (34/36)   \u001b[K\rremote: Counting objects:  97% (35/36)   \u001b[K\rremote: Counting objects: 100% (36/36)   \u001b[K\rremote: Counting objects: 100% (36/36), done.\u001b[K\n",
            "remote: Compressing objects:   3% (1/32)   \u001b[K\rremote: Compressing objects:   6% (2/32)   \u001b[K\rremote: Compressing objects:   9% (3/32)   \u001b[K\rremote: Compressing objects:  12% (4/32)   \u001b[K\rremote: Compressing objects:  15% (5/32)   \u001b[K\rremote: Compressing objects:  18% (6/32)   \u001b[K\rremote: Compressing objects:  21% (7/32)   \u001b[K\rremote: Compressing objects:  25% (8/32)   \u001b[K\rremote: Compressing objects:  28% (9/32)   \u001b[K\rremote: Compressing objects:  31% (10/32)   \u001b[K\rremote: Compressing objects:  34% (11/32)   \u001b[K\rremote: Compressing objects:  37% (12/32)   \u001b[K\rremote: Compressing objects:  40% (13/32)   \u001b[K\rremote: Compressing objects:  43% (14/32)   \u001b[K\rremote: Compressing objects:  46% (15/32)   \u001b[K\rremote: Compressing objects:  50% (16/32)   \u001b[K\rremote: Compressing objects:  53% (17/32)   \u001b[K\rremote: Compressing objects:  56% (18/32)   \u001b[K\rremote: Compressing objects:  59% (19/32)   \u001b[K\rremote: Compressing objects:  62% (20/32)   \u001b[K\rremote: Compressing objects:  65% (21/32)   \u001b[K\rremote: Compressing objects:  68% (22/32)   \u001b[K\rremote: Compressing objects:  71% (23/32)   \u001b[K\rremote: Compressing objects:  75% (24/32)   \u001b[K\rremote: Compressing objects:  78% (25/32)   \u001b[K\rremote: Compressing objects:  81% (26/32)   \u001b[K\rremote: Compressing objects:  84% (27/32)   \u001b[K\rremote: Compressing objects:  87% (28/32)   \u001b[K\rremote: Compressing objects:  90% (29/32)   \u001b[K\rremote: Compressing objects:  93% (30/32)   \u001b[K\rremote: Compressing objects:  96% (31/32)   \u001b[K\rremote: Compressing objects: 100% (32/32)   \u001b[K\rremote: Compressing objects: 100% (32/32), done.\u001b[K\n",
            "Receiving objects:   2% (1/36)   \rReceiving objects:   5% (2/36)   \rReceiving objects:   8% (3/36)   \rReceiving objects:  11% (4/36)   \rReceiving objects:  13% (5/36)   \rReceiving objects:  16% (6/36)   \rReceiving objects:  19% (7/36)   \rReceiving objects:  22% (8/36)   \rReceiving objects:  25% (9/36)   \rReceiving objects:  27% (10/36)   \rReceiving objects:  30% (11/36)   \rReceiving objects:  33% (12/36)   \rReceiving objects:  36% (13/36)   \rReceiving objects:  38% (14/36)   \rReceiving objects:  41% (15/36)   \rReceiving objects:  44% (16/36)   \rReceiving objects:  47% (17/36)   \rremote: Total 36 (delta 14), reused 0 (delta 0), pack-reused 0\u001b[K\n",
            "Receiving objects:  50% (18/36)   \rReceiving objects:  52% (19/36)   \rReceiving objects:  55% (20/36)   \rReceiving objects:  58% (21/36)   \rReceiving objects:  61% (22/36)   \rReceiving objects:  63% (23/36)   \rReceiving objects:  66% (24/36)   \rReceiving objects:  69% (25/36)   \rReceiving objects:  72% (26/36)   \rReceiving objects:  75% (27/36)   \rReceiving objects:  77% (28/36)   \rReceiving objects:  80% (29/36)   \rReceiving objects:  83% (30/36)   \rReceiving objects:  86% (31/36)   \rReceiving objects:  88% (32/36)   \rReceiving objects:  91% (33/36)   \rReceiving objects:  94% (34/36)   \rReceiving objects:  97% (35/36)   \rReceiving objects: 100% (36/36)   \rReceiving objects: 100% (36/36), 58.55 KiB | 2.17 MiB/s, done.\n",
            "Resolving deltas:   0% (0/14)   \rResolving deltas:  57% (8/14)   \rResolving deltas:  85% (12/14)   \rResolving deltas: 100% (14/14)   \rResolving deltas: 100% (14/14), done.\n",
            "/content/swiftDirectory/swiftDirectory/colabDirectory/reinforcement-learningDirectory/swiftDirectory\n",
            "\n",
            " swiftDirectory:\n",
            "Accessing_files.ipynb               Starter\n",
            "blank_swift.ipynb                   Swift_import_data.ipynb\n",
            "DifferentiableProtocol_swift.ipynb  Three_Dimensional_Plotting.ipynb\n",
            "Differentiable_swift.ipynb\n",
            "\n",
            "Cloning into 'colabDirectory'...\n",
            "warning: --local is ignored\n",
            "remote: Enumerating objects: 134, done.\u001b[K\n",
            "remote: Counting objects: 100% (134/134), done.\u001b[K\n",
            "remote: Compressing objects: 100% (134/134), done.\u001b[K\n",
            "remote: Total 271 (delta 75), reused 0 (delta 0), pack-reused 137\u001b[K\n",
            "Receiving objects: 100% (271/271), 752.60 KiB | 12.34 MiB/s, done.\n",
            "Resolving deltas: 100% (152/152), done.\n",
            "/content/swiftDirectory/swiftDirectory/colabDirectory/reinforcement-learningDirectory/swiftDirectory/colabDirectory\n",
            "\n",
            " colabDirectory:\n",
            "Accessing_files.ipynb         Factorial_swift.ipynb\n",
            "basic_classification.ipynb    Firebase_swift.ipynb\n",
            "blank_swift.ipynb             FrozenLake_2.ipynb\n",
            "CartPole_Krohn.ipynb          install_latest_swift.ipynb\n",
            "Classifier_swift.ipynb        Iris_swift.ipynb\n",
            "Copy_of_Firebase_swift.ipynb  Python_Notebook.ipynb\n",
            "CoreData_swift.ipynb          Python_swift.ipynb\n",
            "Custom_differentiation.ipynb  Tensorboard.ipynb\n",
            "DegreesToRadians_swift.ipynb  TensorFlow_swift.ipynb\n",
            "Differentiable_swift.ipynb    TensorFlow_with_GPU.ipynb\n",
            "DispatchQueue_swift.ipynb     TF_Agents_Environments_Tutorial.ipynb\n",
            "DQN_Tutorial.ipynb            TF_Agents_Policies_Tutorial.ipynb\n",
            "External_data.ipynb           Three_Dimensional_Plotting.ipynb\n",
            "\n",
            "Cloning into 'reinforcement-learningDirectory'...\n",
            "warning: --local is ignored\n",
            "remote: Enumerating objects: 330, done.\u001b[K\n",
            "remote: Counting objects: 100% (330/330), done.\u001b[K\n",
            "remote: Compressing objects: 100% (203/203), done.\u001b[K\n",
            "remote: Total 330 (delta 185), reused 214 (delta 124), pack-reused 0\u001b[K\n",
            "Receiving objects: 100% (330/330), 348.00 KiB | 9.16 MiB/s, done.\n",
            "Resolving deltas: 100% (185/185), done.\n",
            "/content/swiftDirectory/swiftDirectory/colabDirectory/reinforcement-learningDirectory/swiftDirectory/colabDirectory/reinforcement-learningDirectory\n",
            "\n",
            " reinforcement-learningDirectory:\n",
            "'01 DQN_Tutorial.ipynb'\n",
            "'02 TF_Agents_Environments_Tutorial.ipynb'\n",
            "'03 TF_Agents_Policies_Tutorial.ipynb'\n",
            " 04_TF_Agents_Drivers_Tutorial.ipynb\n",
            " 05_TF_Agents_Replay_Buffers_Tutorial.ipynb\n",
            " Accessing_files.ipynb\n",
            " blank_swift.ipynb\n",
            " CartPole_Krohn.ipynb\n",
            " Copy_of_FrozenLake_2.ipynb\n",
            " DQN_Tutorial.ipynb\n",
            " External_data_Drive,_Sheets,_and_Cloud_Storage.ipynb\n",
            " FrozenLake_2.ipynb\n",
            " Python_Notebook.ipynb\n",
            " REINFORCE_Learning_Tutorial.ipynb\n",
            " Swift_import_data.ipynb\n",
            " Three_Dimensional_Plotting.ipynb\n",
            "\n"
          ],
          "name": "stdout"
        }
      ]
    }
  ]
}