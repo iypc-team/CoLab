{
  "nbformat": 4,
  "nbformat_minor": 0,
  "metadata": {
    "colab": {
      "name": "Firebase_swift.ipynb",
      "version": "0.3.2",
      "provenance": [],
      "collapsed_sections": [],
      "include_colab_link": true
    },
    "kernelspec": {
      "name": "swift",
      "display_name": "Swift"
    }
  },
  "cells": [
    {
      "cell_type": "markdown",
      "metadata": {
        "id": "view-in-github",
        "colab_type": "text"
      },
      "source": [
        "<a href=\"https://colab.research.google.com/github/iypc-team/CoLab/blob/master/Firebase_swift.ipynb\" target=\"_parent\"><img src=\"https://colab.research.google.com/assets/colab-badge.svg\" alt=\"Open In Colab\"/></a>"
      ]
    },
    {
      "cell_type": "code",
      "metadata": {
        "id": "EgI0gsf6IuoT",
        "colab_type": "code",
        "outputId": "b5d54d97-d1a4-4272-9553-d79eaae29eba",
        "colab": {
          "base_uri": "https://localhost:8080/",
          "height": 207
        }
      },
      "source": [
        "\n",
        "import TensorFlow\n",
        "import Foundation\n",
        "import Dispatch\n",
        "import Python\n",
        "\n",
        "let py = Python\n",
        "\n",
        "let globalQueue = DispatchQueue.global(qos: .default)\n",
        "let backgroundQueue = DispatchQueue.global(qos: .background)\n",
        "\n",
        "class Differ: NSObject {\n",
        "  let message = \"differentiable\"\n",
        "\n",
        "  @differentiable\n",
        "\n",
        "}\n",
        "\n",
        "\n",
        "var x: Double!\n",
        "var y:Double!\n",
        "\n",
        "globalQueue.sync {\n",
        "  let d = Differ()\n",
        "  print(d.message)\n",
        "  x = 3\n",
        "  for inc in 0...20 {\n",
        "    y = pow(x, Double(inc))\n",
        "    print(\"\\(x!) to the \\(inc) power = \\(y!)\")\n",
        "  }\n",
        "}\n",
        "\n",
        "\n"
      ],
      "execution_count": 36,
      "outputs": [
        {
          "output_type": "error",
          "ename": "",
          "evalue": "ignored",
          "traceback": [
            "error: <Cell 36>:17:1: error: expected declaration\n}\n^\n\n<Cell 36>:12:7: note: in declaration of 'Differ'\nclass Differ: NSObject {\n      ^\n\n"
          ]
        }
      ]
    }
  ]
}