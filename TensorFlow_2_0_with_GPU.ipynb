{
  "nbformat": 4,
  "nbformat_minor": 0,
  "metadata": {
    "colab": {
      "name": "TensorFlow 2.0 with GPU",
      "provenance": [],
      "private_outputs": true,
      "collapsed_sections": [],
      "include_colab_link": true
    },
    "kernelspec": {
      "name": "python3",
      "display_name": "Python 3"
    },
    "accelerator": "GPU"
  },
  "cells": [
    {
      "cell_type": "markdown",
      "metadata": {
        "id": "view-in-github",
        "colab_type": "text"
      },
      "source": [
        "<a href=\"https://colab.research.google.com/github/iypc-team/CoLab/blob/master/TensorFlow_2_0_with_GPU.ipynb\" target=\"_parent\"><img src=\"https://colab.research.google.com/assets/colab-badge.svg\" alt=\"Open In Colab\"/></a>"
      ]
    },
    {
      "cell_type": "code",
      "metadata": {
        "id": "ztj21m444HmO",
        "colab_type": "code",
        "colab": {}
      },
      "source": [
        "from __future__ import absolute_import, division\n",
        "from __future__ import print_function, unicode_literals\n",
        "from IPython.display import clear_output\n",
        "\n",
        "installsCompleted = True\n",
        "if not installsCompleted:\n",
        "    !pip install tensorflow-gpu\n",
        "    clear_output()\n",
        "print(f'OK')"
      ],
      "execution_count": null,
      "outputs": []
    },
    {
      "cell_type": "code",
      "metadata": {
        "colab_type": "code",
        "id": "3IEVK-KFxi5Z",
        "colab": {}
      },
      "source": [
        "from __future__ import absolute_import, division, print_function\n",
        "import os\n",
        "import tensorflow as tf\n",
        "import numpy as np\n",
        "\n",
        "gpu_name = tf.test.gpu_device_name()\n",
        "if gpu_name:\n",
        "    print(\"tf version:\", tf.__version__)\n",
        "    print(\"np version:\", np.__version__)\n",
        "    print('\\nFound GPU at: {}'.format(gpu_name))\n",
        "else:\n",
        "    raise SystemError('GPU:0 not found')"
      ],
      "execution_count": null,
      "outputs": []
    },
    {
      "cell_type": "code",
      "metadata": {
        "id": "3M6dk-s0F9HA",
        "colab_type": "code",
        "colab": {}
      },
      "source": [
        "deviceList = tf.config.get_visible_devices()\n",
        "for thisDevice in deviceList:\n",
        "    if tf.test.gpu_device_name():\n",
        "        print(thisDevice)"
      ],
      "execution_count": null,
      "outputs": []
    },
    {
      "cell_type": "code",
      "metadata": {
        "id": "MTsd5y9hKVZn",
        "colab_type": "code",
        "colab": {}
      },
      "source": [
        "deviceList = tf.config.list_logical_devices()\n",
        "for dev in sorted(deviceList):\n",
        "    print(f'{dev.device_type}')\n",
        "    print(f'{dev}\\n')"
      ],
      "execution_count": null,
      "outputs": []
    },
    {
      "cell_type": "code",
      "metadata": {
        "id": "zv3pzSCz_XOK",
        "colab_type": "code",
        "colab": {}
      },
      "source": [
        "with tf.device('/device:gpu:0'):\n",
        "    name = gpu_name\n",
        "    print(\"gpu:\", name)"
      ],
      "execution_count": null,
      "outputs": []
    },
    {
      "cell_type": "code",
      "metadata": {
        "id": "IL_b3FMZug86",
        "colab_type": "code",
        "colab": {}
      },
      "source": [
        "tf.test.is_gpu_available()\n",
        "with tf.device('/device:cpu:0'):\n",
        "    if tf.test.is_gpu_available:\n",
        "        print('gpu available')"
      ],
      "execution_count": null,
      "outputs": []
    }
  ]
}