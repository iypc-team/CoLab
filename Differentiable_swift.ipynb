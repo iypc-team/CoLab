{
  "nbformat": 4,
  "nbformat_minor": 0,
  "metadata": {
    "colab": {
      "name": "Differentiable_swift.ipynb",
      "provenance": [],
      "collapsed_sections": [],
      "include_colab_link": true
    },
    "kernelspec": {
      "name": "swift",
      "display_name": "Swift"
    }
  },
  "cells": [
    {
      "cell_type": "markdown",
      "metadata": {
        "id": "view-in-github",
        "colab_type": "text"
      },
      "source": [
        "<a href=\"https://colab.research.google.com/github/iypc-team/CoLab/blob/master/Differentiable_swift.ipynb\" target=\"_parent\"><img src=\"https://colab.research.google.com/assets/colab-badge.svg\" alt=\"Open In Colab\"/></a>"
      ]
    },
    {
      "cell_type": "code",
      "metadata": {
        "id": "EgI0gsf6IuoT",
        "colab_type": "code",
        "colab": {}
      },
      "source": [
        "import Glibc\n",
        "import TensorFlow\n",
        "import Foundation\n",
        "import Dispatch\n",
        "\n",
        "//  DispatchQueue.init(label: , qos: , attributes: , autoreleaseFrequency: , target: \n",
        "let globalQueue = DispatchQueue.global(qos: .default)\n",
        "var tv: Tensor<Float>\n",
        "\n",
        "struct Parameter: Differentiable{ //, ParameterGroup {\n",
        "    init(w1:Tensor<Float>, b1:Tensor<Float>, w2:Tensor<Float>, b2:Tensor<Float>) {\n",
        "        var w1 = Tensor<Float>(randomNormal: [784, 30])\n",
        "        var b1 = Tensor<Float>(zeros: [30])\n",
        "        var w2 = Tensor<Float>(randomNormal: [30, 10])\n",
        "        var b2 = Tensor<Float>(zeros: [10])\n",
        "    }\n",
        "}\n",
        "\n",
        "class Test: Differentiable {\n",
        "\n",
        "}"
      ],
      "execution_count": 0,
      "outputs": []
    },
    {
      "cell_type": "code",
      "metadata": {
        "id": "WCJP6b-CrYoQ",
        "colab_type": "code",
        "colab": {}
      },
      "source": [
        "let par = Parameter.init(w1: , b1: , w2: , b2: )\n",
        "print(par.w1)\n",
        "\n"
      ],
      "execution_count": 0,
      "outputs": []
    }
  ]
}