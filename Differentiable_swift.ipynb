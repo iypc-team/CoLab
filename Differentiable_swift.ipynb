{
  "nbformat": 4,
  "nbformat_minor": 0,
  "metadata": {
    "colab": {
      "name": "Differentiable_swift.ipynb",
      "version": "0.3.2",
      "provenance": [],
      "collapsed_sections": [],
      "include_colab_link": true
    },
    "kernelspec": {
      "name": "swift",
      "display_name": "Swift"
    }
  },
  "cells": [
    {
      "cell_type": "markdown",
      "metadata": {
        "id": "view-in-github",
        "colab_type": "text"
      },
      "source": [
        "<a href=\"https://colab.research.google.com/github/iypc-team/CoLab/blob/master/Differentiable_swift.ipynb\" target=\"_parent\"><img src=\"https://colab.research.google.com/assets/colab-badge.svg\" alt=\"Open In Colab\"/></a>"
      ]
    },
    {
      "cell_type": "code",
      "metadata": {
        "id": "EgI0gsf6IuoT",
        "colab_type": "code",
        "outputId": "c6a5f493-310a-407e-af8a-5da359d7d333",
        "colab": {
          "base_uri": "https://localhost:8080/",
          "height": 227
        }
      },
      "source": [
        "import Glibc\n",
        "import TensorFlow\n",
        "import Foundation\n",
        "import Dispatch\n",
        "\n",
        "//  DispatchQueue.init(label: , qos: , attributes: , autoreleaseFrequency: , target: \n",
        "let globalQueue = DispatchQueue.global(qos: .default)\n",
        "var tv: Tensor<Float>\n",
        "\n",
        "protocol Differentiable {\n",
        "  ///\n",
        "  associatedtype TangentVector: Differentiable & AdditiveArithmetic\n",
        "  ///\n",
        "  mutating func move(along direction: TangentVector)\n",
        "}\n",
        "\n",
        "struct Parameters: Differentiale, ParameterGroup {\n",
        "  var w1 = Tensor<Float>(randomNormal: [784, 30])\n",
        "  var b1 = Tensor<Float>(zeros: [30])\n",
        "  var w2 = Tensor<Float>(randomNormal: [30, 10])\n",
        "  var b2 = Tensor<Float>(zeros: [10])\n",
        "}\n",
        "\n",
        "//. class Test: Differentiable {}\n",
        "\n"
      ],
      "execution_count": 10,
      "outputs": [
        {
          "output_type": "error",
          "ename": "",
          "evalue": "ignored",
          "traceback": [
            "error: <Cell 10>:17:20: error: use of undeclared type 'Differentiale'\nstruct Parameters: Differentiale, ParameterGroup {\n                   ^~~~~~~~~~~~~\n\nerror: <Cell 10>:17:35: error: use of undeclared type 'ParameterGroup'\nstruct Parameters: Differentiale, ParameterGroup {\n                                  ^~~~~~~~~~~~~~\n\n"
          ]
        }
      ]
    }
  ]
}