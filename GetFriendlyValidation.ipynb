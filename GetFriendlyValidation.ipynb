{
 "cells": [
  {
   "cell_type": "code",
   "execution_count": null,
   "id": "8fb453d7",
   "metadata": {},
   "outputs": [],
   "source": [
    "from BashColors import C\n",
    "from TarfileFunctions import *\n",
    "import glob, os, shutil\n",
    "from os.path import *\n",
    "from time import sleep\n",
    "\n",
    "contentPath = os.getcwd()\n",
    "tfImagesPath = join(contentPath, 'TensorflowImages')\n",
    "tff.extractTarfiles('Defcon_Images.tar.gz')"
   ]
  },
  {
   "cell_type": "code",
   "execution_count": null,
   "id": "4d7d3e0e",
   "metadata": {},
   "outputs": [],
   "source": [
    "list = glob.glob('**', recursive=True)\n",
    "dst='Validation'\n",
    "src=join('/home/jovyan/TensorflowImages/FriendlyValidation')\n",
    "for path in sorted(list):\n",
    "    fullPath=abspath(path)\n",
    "    if isdir(fullPath):\n",
    "        # print(f'{C.IBlue}{fullPath}{C.ColorOff}')\n",
    "        if not exists(dst):\n",
    "            shutil.copytree(src, dst,\n",
    "                            symlinks=False,\n",
    "                            ignore=None,\n",
    "                            copy_function=shutil.copy2,\n",
    "                            ignore_dangling_symlinks=False)\n",
    "        else:\n",
    "            valPath=join(contentPath,dst)\n",
    "            os.chdir(valPath)\n",
    "            # %ls -l\n",
    "            sleep(5)\n",
    "            os.chdir(contentPath)\n",
    "        "
   ]
  },
  {
   "cell_type": "code",
   "execution_count": null,
   "id": "f64dba57",
   "metadata": {},
   "outputs": [],
   "source": [
    "if exists(tfImagesPath):\n",
    "            print(f'{C.IRed}{tfImagesPath}{C.ColorOff}')\n",
    "            shutil.rmtree(tfImagesPath)\n",
    "else: print('ok')\n",
    "    "
   ]
  }
 ],
 "metadata": {
  "kernelspec": {
   "display_name": "Python 3 (ipykernel)",
   "language": "python",
   "name": "python3"
  },
  "language_info": {
   "codemirror_mode": {
    "name": "ipython",
    "version": 3
   },
   "file_extension": ".py",
   "mimetype": "text/x-python",
   "name": "python",
   "nbconvert_exporter": "python",
   "pygments_lexer": "ipython3",
   "version": "3.7.10"
  }
 },
 "nbformat": 4,
 "nbformat_minor": 5
}
