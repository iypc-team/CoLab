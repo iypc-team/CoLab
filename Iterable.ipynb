{
  "nbformat": 4,
  "nbformat_minor": 0,
  "metadata": {
    "colab": {
      "name": "Iterable.ipynb",
      "version": "0.3.2",
      "provenance": [],
      "private_outputs": true,
      "collapsed_sections": [],
      "include_colab_link": true
    },
    "kernelspec": {
      "name": "python3",
      "display_name": "Python 3"
    }
  },
  "cells": [
    {
      "cell_type": "markdown",
      "metadata": {
        "id": "view-in-github",
        "colab_type": "text"
      },
      "source": [
        "<a href=\"https://colab.research.google.com/github/iypc-team/CoLab/blob/master/Iterable.ipynb\" target=\"_parent\"><img src=\"https://colab.research.google.com/assets/colab-badge.svg\" alt=\"Open In Colab\"/></a>"
      ]
    },
    {
      "cell_type": "code",
      "metadata": {
        "id": "ek_52FUZJTSJ",
        "colab_type": "code",
        "colab": {}
      },
      "source": [
        "from IPython.display import *\n",
        "clear_output()\n",
        "print('\\n', \"All Installs Completed.\")"
      ],
      "execution_count": 0,
      "outputs": []
    },
    {
      "cell_type": "code",
      "metadata": {
        "id": "CjWd7t9Ms_mz",
        "colab_type": "code",
        "colab": {}
      },
      "source": [
        "def allIterable(iterable):\n",
        "    for element in iterable:\n",
        "      if not element:\n",
        "        print(\"Not an element\")\n",
        "        return False\n",
        "    print(element)\n",
        "    return True"
      ],
      "execution_count": 0,
      "outputs": []
    },
    {
      "cell_type": "code",
      "metadata": {
        "id": "HQIWVK3TtAta",
        "colab_type": "code",
        "colab": {}
      },
      "source": [
        "def anyIterable(iterable):\n",
        "    for element in iterable:\n",
        "      if element:\n",
        "        print(element)\n",
        "        return True\n",
        "    print(element, \" not an element \")\n",
        "    return False"
      ],
      "execution_count": 0,
      "outputs": []
    },
    {
      "cell_type": "code",
      "metadata": {
        "id": "Xpy2B7LexV1_",
        "colab_type": "code",
        "colab": {}
      },
      "source": [
        "bullshit = []\n",
        "for i in range(100):\n",
        "  bullshit.append(i)\n",
        "  bullshit.append(\"AFU\")\n",
        "\n",
        "print(bullshit)\n",
        "allIterable(bullshit)\n",
        "anyIterable(bullshit)"
      ],
      "execution_count": 0,
      "outputs": []
    }
  ]
}