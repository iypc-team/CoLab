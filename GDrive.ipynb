{
  "nbformat": 4,
  "nbformat_minor": 0,
  "metadata": {
    "colab": {
      "name": "GDrive.ipynb",
      "provenance": [],
      "collapsed_sections": [],
      "include_colab_link": true
    },
    "kernelspec": {
      "name": "python3",
      "display_name": "Python 3"
    }
  },
  "cells": [
    {
      "cell_type": "markdown",
      "metadata": {
        "id": "view-in-github",
        "colab_type": "text"
      },
      "source": [
        "<a href=\"https://colab.research.google.com/github/iypc-team/CoLab/blob/master/GDrive.ipynb\" target=\"_parent\"><img src=\"https://colab.research.google.com/assets/colab-badge.svg\" alt=\"Open In Colab\"/></a>"
      ]
    },
    {
      "cell_type": "code",
      "metadata": {
        "id": "X16cFwGsVxu_",
        "colab_type": "code",
        "colab": {}
      },
      "source": [
        "from IPython.display import  clear_output\n",
        "installsCompleted = False\n",
        "gDriveAuthorized = False\n",
        "filesDictionary = {}"
      ],
      "execution_count": 0,
      "outputs": []
    },
    {
      "cell_type": "code",
      "metadata": {
        "id": "Tt63sL_jMnGU",
        "colab_type": "code",
        "colab": {
          "base_uri": "https://localhost:8080/",
          "height": 35
        },
        "outputId": "b3ada8fc-db15-4bbc-d5da-18566ebeac5c"
      },
      "source": [
        "if not installsCompleted:\n",
        "    %pip install google-api-python-client \n",
        "    %pip install google-auth-httplib2\n",
        "    %pip install google-auth-oauthlib\n",
        "    installsCompleted = True\n",
        "clear_output()\n",
        "print(\"All installs completed\")"
      ],
      "execution_count": 2,
      "outputs": [
        {
          "output_type": "stream",
          "text": [
            "All installs completed\n"
          ],
          "name": "stdout"
        }
      ]
    },
    {
      "cell_type": "code",
      "metadata": {
        "id": "o95R1uOGwQ-Z",
        "colab_type": "code",
        "colab": {
          "base_uri": "https://localhost:8080/",
          "height": 35
        },
        "outputId": "894983cf-7583-46c6-e291-0c7b51e2b337"
      },
      "source": [
        "if not gDriveAuthorized:\n",
        "    # Import PyDrive and associated libraries.\n",
        "    # This only needs to be done once per notebook.\n",
        "    from pydrive.auth import GoogleAuth\n",
        "    from pydrive.drive import GoogleDrive\n",
        "    from google.colab import auth\n",
        "    from oauth2client.client import GoogleCredentials\n",
        "    \n",
        "    # Authenticate and create the PyDrive client.\n",
        "    # This only needs to be done once per notebook.\n",
        "    auth.authenticate_user()\n",
        "    gauth = GoogleAuth()\n",
        "    gauth.credentials = GoogleCredentials.get_application_default()\n",
        "    drive = GoogleDrive(gauth)\n",
        "    gDriveAuthorized = True\n",
        "clear_output()\n",
        "print(\"Google drive authorized\")"
      ],
      "execution_count": 3,
      "outputs": [
        {
          "output_type": "stream",
          "text": [
            "Google drive authorized\n"
          ],
          "name": "stdout"
        }
      ]
    },
    {
      "cell_type": "code",
      "metadata": {
        "id": "hMl_7xh1l24r",
        "colab_type": "code",
        "colab": {
          "base_uri": "https://localhost:8080/",
          "height": 354
        },
        "outputId": "9f372988-995f-442b-a17d-c827994febbe"
      },
      "source": [
        "# List files in GDrive\n",
        "drive = GoogleDrive(gauth)\n",
        "print(\"Search query reference:\")\n",
        "print(\"https://developers.google.com/drive/v2/web/search-parameters\", '\\n')\n",
        "\n",
        "listed = drive.ListFile({'q': \"title contains '.*' and 'root' in parents\"}).GetList()\n",
        "for file in listed:\n",
        "    print('file: {},  id: {}'.format(file['title'], file['id']))\n",
        "    filesDictionary[file['title']] = file['id']"
      ],
      "execution_count": 4,
      "outputs": [
        {
          "output_type": "stream",
          "text": [
            "Search query reference:\n",
            "https://developers.google.com/drive/v2/web/search-parameters \n",
            "\n",
            "file: Accessing files,  id: 1EL7rhM7DFRTuDd9DCdc3kPLS1GR7dl_v\n",
            "file: Copy of Accessing files,  id: 1W4sHscj8ssZxTCuBnI29R-c-ww__0L_L\n",
            "file: Colab Notebooks,  id: 1AQGtkheK9BRFo0Odk0aJzyP_-AH4QpdU\n",
            "file: Accessing files,  id: 18k-0crsutkM5-evAlDSKNTvZrm7XSJkR\n",
            "file: Human_Level_Control_through_Deep_Reinforcement_Learning.zip,  id: 1-8ZY8_USe_hURT4jAWvk-Fjp_NVV3XWJ\n",
            "file: Python,  id: 1XXeAMkhcLwutoyLeFqXoomHsRmJl7noE\n",
            "file: Swift,  id: 1-ZqppCTessl49Jp9dZQIwvJoXFoF4Vx2\n",
            "file: credentials.json,  id: 1FI3Jkc8yFV90yP1SjaPF5CWhprsGN2yz\n"
          ],
          "name": "stdout"
        }
      ]
    },
    {
      "cell_type": "code",
      "metadata": {
        "id": "-n9XhvnhKs2m",
        "colab_type": "code",
        "colab": {
          "base_uri": "https://localhost:8080/",
          "height": 53
        },
        "outputId": "6e20cd01-1ccc-4d7a-943d-056eb6af210b"
      },
      "source": [
        "# Create and upload file\n",
        "drive = GoogleDrive(gauth)\n",
        "\n",
        "uploaded = drive.CreateFile({'title': 'Sample.txt'})\n",
        "uploaded.SetContentString('Sample upload file content')\n",
        "uploaded.Upload()\n",
        "print('Uploaded file with ID {}'.format(uploaded.get('id')))\n",
        "print('Uploaded file with Name: {}'.format(uploaded.get('title')))"
      ],
      "execution_count": 5,
      "outputs": [
        {
          "output_type": "stream",
          "text": [
            "Uploaded file with ID 1qBmZJLGy1upNc-C0O4gsQvQ9kr-lI2SU\n",
            "Uploaded file with Name: Sample.txt\n"
          ],
          "name": "stdout"
        }
      ]
    }
  ]
}