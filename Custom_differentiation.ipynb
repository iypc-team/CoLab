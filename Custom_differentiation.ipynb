{
  "nbformat": 4,
  "nbformat_minor": 0,
  "metadata": {
    "colab": {
      "name": "Custom differentiation.ipynb",
      "version": "0.3.2",
      "provenance": [],
      "collapsed_sections": [],
      "include_colab_link": true
    },
    "language_info": {
      "file_extension": ".swift",
      "mimetype": "text/x-swift",
      "name": "swift",
      "version": ""
    },
    "kernelspec": {
      "display_name": "Swift",
      "language": "swift",
      "name": "swift"
    }
  },
  "cells": [
    {
      "cell_type": "markdown",
      "metadata": {
        "id": "view-in-github",
        "colab_type": "text"
      },
      "source": [
        "<a href=\"https://colab.research.google.com/github/iypc-team/CoLab/blob/master/Custom_differentiation.ipynb\" target=\"_parent\"><img src=\"https://colab.research.google.com/assets/colab-badge.svg\" alt=\"Open In Colab\"/></a>"
      ]
    },
    {
      "cell_type": "markdown",
      "metadata": {
        "colab_type": "text",
        "id": "ZloPIuRHn97X"
      },
      "source": [
        "##### Copyright 2018 The TensorFlow Authors. [Licensed under the Apache License, Version 2.0](#scrollTo=Afd8bu4xJOgh)."
      ]
    },
    {
      "cell_type": "code",
      "metadata": {
        "colab_type": "code",
        "id": "tNgCmfUvJNoF",
        "colab": {}
      },
      "source": [
        "#@title Licensed under the Apache License, Version 2.0 (the \"License\"); { display-mode: \"form\" }\n",
        "// Licensed under the Apache License, Version 2.0 (the \"License\");\n",
        "// you may not use this file except in compliance with the License.\n",
        "// You may obtain a copy of the License at\n",
        "//\n",
        "// https://www.apache.org/licenses/LICENSE-2.0\n",
        "//\n",
        "// Unless required by applicable law or agreed to in writing, software\n",
        "// distributed under the License is distributed on an \"AS IS\" BASIS,\n",
        "// WITHOUT WARRANTIES OR CONDITIONS OF ANY KIND, either express or implied.\n",
        "// See the License for the specific language governing permissions and\n",
        "// limitations under the License."
      ],
      "execution_count": 0,
      "outputs": []
    },
    {
      "cell_type": "markdown",
      "metadata": {
        "colab_type": "text",
        "id": "AlvdCHw5JGyx"
      },
      "source": [
        "<table class=\"tfo-notebook-buttons\" align=\"left\">\n",
        "  <td>\n",
        "    <a target=\"_blank\" href=\"https://www.tensorflow.org/swift/tutorials/custom_differentiation\"><img src=\"https://www.tensorflow.org/images/tf_logo_32px.png\" />View on TensorFlow.org</a>\n",
        "  </td>\n",
        "  <td>\n",
        "    <a target=\"_blank\" href=\"https://colab.research.google.com/github/tensorflow/swift/blob/master/docs/site/tutorials/custom_differentiation.ipynb\"><img src=\"https://www.tensorflow.org/images/colab_logo_32px.png\" />Run in Google Colab</a>\n",
        "  </td>\n",
        "  <td>\n",
        "    <a target=\"_blank\" href=\"https://github.com/tensorflow/swift/blob/master/docs/site/tutorials/custom_differentiation.ipynb\"><img src=\"https://www.tensorflow.org/images/GitHub-Mark-32px.png\" />View source on GitHub</a>\n",
        "  </td>\n",
        "</table>"
      ]
    },
    {
      "cell_type": "markdown",
      "metadata": {
        "colab_type": "text",
        "id": "c_1u7JSBMx3x"
      },
      "source": [
        "# Custom differentiation\n",
        "\n",
        "This tutorial will show you how to define your own custom derivatives, perform derivative surgery, and implement your own gradient checkpointing API in just 5 lines of Swift."
      ]
    },
    {
      "cell_type": "markdown",
      "metadata": {
        "colab_type": "text",
        "id": "gHuQo_kCTjFr"
      },
      "source": [
        "## Declaring custom derivatives"
      ]
    },
    {
      "cell_type": "markdown",
      "metadata": {
        "colab_type": "text",
        "id": "LP0gMw56TlvH"
      },
      "source": [
        "You can define custom derivatives for any Swift function that has differentiable parameters and results. By doing that, you can even import a C function and make it differentiable."
      ]
    },
    {
      "cell_type": "code",
      "metadata": {
        "colab_type": "code",
        "id": "j0a8prgZTlEO",
        "outputId": "82303097-9f94-4c12-829d-7a67240bce57",
        "colab": {
          "base_uri": "https://localhost:8080/",
          "height": 109
        }
      },
      "source": [
        "import Glibc\n",
        "\n",
        "func sillyExp(_ x: Float) -> Float {\n",
        "    let 𝑒 = Float(M_E)\n",
        "    print(\"Taking 𝑒(\\(𝑒)) to the power of \\(x)!\")\n",
        "    return pow(𝑒, x)\n",
        "}\n",
        "\n",
        "@differentiating(sillyExp)\n",
        "func sillyDerivative(_ x: Float) -> (value: Float, pullback: (Float) -> Float) {\n",
        "    let y = sillyExp(x)\n",
        "    return (value: y, pullback: { v in v * y })\n",
        "}\n",
        "\n",
        "print(\"exp(3) =\", sillyExp(3))\n",
        "print(\"𝛁exp(3) =\", gradient(of: sillyExp)(3))"
      ],
      "execution_count": 2,
      "outputs": [
        {
          "output_type": "stream",
          "text": [
            "Taking 𝑒(2.7182817) to the power of 3.0!\r\n",
            "exp(3) = 20.085535\r\n",
            "Taking 𝑒(2.7182817) to the power of 3.0!\r\n",
            "𝛁exp(3) = 20.085535\r\n"
          ],
          "name": "stdout"
        }
      ]
    },
    {
      "cell_type": "markdown",
      "metadata": {
        "colab_type": "text",
        "id": "eQPX9r3R5OP-"
      },
      "source": [
        "## Stop derivatives from propagating\n",
        "\n",
        "Commonly known as \"stop gradient\" in machine learning use cases, method [`withoutDerivative()`](https://www.tensorflow.org/swift/api_docs/Protocols/Differentiable#/s:10TensorFlow14DifferentiablePAAE17withoutDerivativexyF) stops derivatives from propagating.\n",
        "\n",
        "Plus, `withoutDerivative()` can sometimes help the Swift compiler with identifying what not to differentiate and producing more efficient derivaitves. When it is detectable that the derivative of a function will always be zero, the Swift compiler will produce a warning. Explicitly using `.withoutDerivative()` silences that warning."
      ]
    },
    {
      "cell_type": "code",
      "metadata": {
        "colab_type": "code",
        "id": "ctRt6vBO5Wle",
        "outputId": "517a81f2-23ee-45e5-e441-12e3bc94c64d",
        "colab": {
          "base_uri": "https://localhost:8080/",
          "height": 71
        }
      },
      "source": [
        "let x: Float = 2.0\n",
        "let y: Float = 3.0\n",
        "gradient(at: x, y) { x, y in\n",
        "    sin(sin(sin(x))) + cos(cos(cos(y))).withoutDerivative()\n",
        "}"
      ],
      "execution_count": 3,
      "outputs": [
        {
          "output_type": "execute_result",
          "data": {
            "text/plain": [
              "▿ 2 elements\n",
              "  - .0 : -0.18009877\n",
              "  - .1 : 0.0\n"
            ]
          },
          "metadata": {
            "tags": []
          },
          "execution_count": 3
        }
      ]
    },
    {
      "cell_type": "markdown",
      "metadata": {
        "colab_type": "text",
        "id": "EeV3wXQ79WS2"
      },
      "source": [
        "## Derivative surgery\n",
        "\n",
        "Method [`withGradient(_:)`](https://www.tensorflow.org/swift/api_docs/Protocols/Differentiable#/s:10TensorFlow14DifferentiablePAAE12withGradientyxy15CotangentVectorQzzcF) makes arbitrary operations (including mutation) run on the gradient at a value during the enclosing function’s backpropagation. \n",
        "\n",
        "Use this to debug or make experimental tweaks to backpropagation."
      ]
    },
    {
      "cell_type": "markdown",
      "metadata": {
        "colab_type": "text",
        "id": "AHV0ryTiD6j8"
      },
      "source": [
        "### It works anywhere"
      ]
    },
    {
      "cell_type": "markdown",
      "metadata": {
        "colab_type": "text",
        "id": "9zKSeUjTmbxq"
      },
      "source": [
        "All differentiation APIs provided by the standard library are defined generically over all types that conform to the `Differentiable` protocol: `Float`, `Double`, `Float80`, SIMD vectors, and even your own types!\n",
        "\n",
        "Read technical document [Differentiable Types](https://github.com/tensorflow/swift/blob/master/docs/DifferentiableTypes.md) for more insights on the `Differentiable` protocol."
      ]
    },
    {
      "cell_type": "code",
      "metadata": {
        "colab_type": "code",
        "id": "eKne7szjD8lr",
        "outputId": "2e45890c-f8d7-4386-948d-e7a6d79e7726",
        "colab": {
          "base_uri": "https://localhost:8080/",
          "height": 91
        }
      },
      "source": [
        "var x: Float = 30\n",
        "x.gradient { x -> Float in\n",
        "    // Print the partial derivative with respect to the result of `sin(x)`.\n",
        "    let a = sin(x).withGradient { print(\"∂+/∂sin = \\($0)\") } \n",
        "    // Force the partial derivative with respect to `x` to be `0.5`.\n",
        "    let b = log(x.withGradient { (dx: inout Float) in\n",
        "        print(\"∂log/∂x = \\(dx), but rewritten to 0.5\");\n",
        "        dx = 0.5\n",
        "    })\n",
        "    return a + b\n",
        "}"
      ],
      "execution_count": 4,
      "outputs": [
        {
          "output_type": "stream",
          "text": [
            "∂log/∂x = 0.033333335, but rewritten to 0.5\r\n",
            "∂+/∂sin = 1.0\r\n"
          ],
          "name": "stdout"
        },
        {
          "output_type": "execute_result",
          "data": {
            "text/plain": [
              "0.65425146\n"
            ]
          },
          "metadata": {
            "tags": []
          },
          "execution_count": 4
        }
      ]
    },
    {
      "cell_type": "markdown",
      "metadata": {
        "colab_type": "text",
        "id": "vmw0gkqlD9xf"
      },
      "source": [
        "### Use it in a neural network module"
      ]
    },
    {
      "cell_type": "markdown",
      "metadata": {
        "colab_type": "text",
        "id": "JCf_OplsWzhW"
      },
      "source": [
        "Just like how we used it in a simple `Float` function, we can use it in any numerical application, like the following neural network built using the [Swift for TensorFlow Deep Learning Library](https://github.com/tensorflow/swift-apis)."
      ]
    },
    {
      "cell_type": "code",
      "metadata": {
        "colab_type": "code",
        "id": "fnSeAbs9-hf3",
        "outputId": "c2d95b56-8677-4d84-b792-b40ce67976a0",
        "colab": {
          "base_uri": "https://localhost:8080/",
          "height": 2357
        }
      },
      "source": [
        "import TensorFlow\n",
        "\n",
        "struct MLP: Layer {\n",
        "    var layer1 = Dense<Float>(inputSize: 2, outputSize: 10, activation: relu)\n",
        "    var layer2 = Dense<Float>(inputSize: 10, outputSize: 1, activation: relu)\n",
        "    \n",
        "    @differentiable\n",
        "    func call(_ input: Tensor<Float>) -> Tensor<Float> {\n",
        "        let h0 = layer1(input).withGradient { print(\"∂L/∂layer1 =\", $0) }\n",
        "        return layer2(h0)\n",
        "    }\n",
        "}\n",
        "\n",
        "var classifier = MLP()\n",
        "let optimizer = SGD(for: classifier, learningRate: 0.02)\n",
        "\n",
        "let x: Tensor<Float> = [[0, 0], [0, 1], [1, 0], [1, 1]]\n",
        "let y: Tensor<Float> = [0, 1, 1, 0]\n",
        "\n",
        "for _ in 0..<10 {\n",
        "    let 𝛁model = classifier.gradient { classifier -> Tensor<Float> in\n",
        "        let ŷ = classifier(x).withGradient { print(\"∂L/∂ŷ =\", $0) }\n",
        "        let loss = (ŷ - y).squared().mean()\n",
        "        print(\"Loss: \\(loss)\")\n",
        "        return loss\n",
        "    }\n",
        "    optimizer.update(&classifier.allDifferentiableVariables, along: 𝛁model)\n",
        "}"
      ],
      "execution_count": 5,
      "outputs": [
        {
          "output_type": "stream",
          "text": [
            "Loss: 0.4698862\r\n",
            "∂L/∂ŷ = [[      -0.25],\r\n",
            " [      -0.25],\r\n",
            " [-0.17996174],\r\n",
            " [      -0.25]]\n",
            "∂L/∂layer1 = [[        0.0,         0.0,         0.0,         0.0,         0.0,         0.0,         0.0,\n",
            "          0.0,         0.0,         0.0],\n",
            " [        0.0,         0.0,         0.0,         0.0,         0.0,         0.0,         0.0,\n",
            "          0.0,         0.0,         0.0],\n",
            " [-0.09966915, -0.07777278,  -0.0486704,  0.09580957,  0.05530572,  0.03366641,  0.09386934,\n",
            "   0.12279869, -0.07178728, 0.013131223],\n",
            " [        0.0,         0.0,         0.0,         0.0,         0.0,         0.0,         0.0,\n",
            "          0.0,         0.0,         0.0]]\n",
            "Loss: 0.46697363\n",
            "∂L/∂ŷ = [[ -0.2473107],\n",
            " [      -0.25],\n",
            " [-0.17553079],\n",
            " [      -0.25]]\n",
            "∂L/∂layer1 = [[  -0.1371563,   -0.1071366,  -0.06688483,    0.1316654,  0.075828776,  0.046069443,\n",
            "    0.12899904,   0.16875492,  -0.09865299,  0.018045457],\n",
            " [         0.0,          0.0,          0.0,          0.0,          0.0,          0.0,\n",
            "           0.0,          0.0,          0.0,          0.0],\n",
            " [-0.097347796,  -0.07604108, -0.047472056,   0.09345058,  0.053820096,  0.032698162,\n",
            "    0.09155813,   0.11977519,  -0.07001977,  0.012807911],\n",
            " [         0.0,          0.0,          0.0,          0.0,          0.0,          0.0,\n",
            "           0.0,          0.0,          0.0,          0.0]]\n",
            "Loss: 0.4611289\n",
            "∂L/∂ŷ = [[-0.24098298],\n",
            " [      -0.25],\n",
            " [-0.16749954],\n",
            " [      -0.25]]\n",
            "∂L/∂layer1 = [[ -0.13383038,  -0.10464518,  -0.06517351,   0.12829658,   0.07372457,  0.044705275,\n",
            "    0.12569846,   0.16443714,  -0.09612884,  0.017583745],\n",
            " [         0.0,          0.0,          0.0,          0.0,          0.0,          0.0,\n",
            "           0.0,          0.0,          0.0,          0.0],\n",
            " [-0.093021214,  -0.07273551, -0.045300014,  0.089174844,   0.05124358,  0.031073203,\n",
            "    0.08736897,   0.11429498,  -0.06681608,  0.012221897],\n",
            " [         0.0,          0.0,          0.0,          0.0,          0.0,          0.0,\n",
            "           0.0,          0.0,          0.0,          0.0]]\n",
            "Loss: 0.45567587\n",
            "∂L/∂ŷ = [[-0.23485923],\n",
            " [      -0.25],\n",
            " [-0.15974051],\n",
            " [      -0.25]]\n",
            "∂L/∂layer1 = [[ -0.13061067,  -0.10222654,  -0.06351735,   0.12503637,   0.07170024,   0.04339783,\n",
            "    0.12250427,   0.16025855,  -0.09368606,  0.017136915],\n",
            " [         0.0,          0.0,          0.0,          0.0,          0.0,          0.0,\n",
            "           0.0,          0.0,          0.0,          0.0],\n",
            " [ -0.08883541,  -0.06952982, -0.043201596,   0.08504402,  0.048767224,  0.029517218,\n",
            "     0.0833218,  0.109000534,  -0.06372097,  0.011655745],\n",
            " [         0.0,          0.0,          0.0,          0.0,          0.0,          0.0,\n",
            "           0.0,          0.0,          0.0,          0.0]]\n",
            "Loss: 0.45058894\n",
            "∂L/∂ŷ = [[  -0.228933],\n",
            " [      -0.25],\n",
            " [-0.15224528],\n",
            " [      -0.25]]\n",
            "∂L/∂layer1 = [[ -0.12749307, -0.099878274,  -0.06191461,   0.12188131,   0.06975227,   0.04214432,\n",
            "    0.11941311,   0.15621473,  -0.09132207,  0.016704496],\n",
            " [         0.0,          0.0,          0.0,          0.0,          0.0,          0.0,\n",
            "           0.0,          0.0,          0.0,          0.0],\n",
            " [ -0.08478558,  -0.06642116, -0.041174524,   0.08105365,   0.04638673,  0.028026864,\n",
            "    0.07941224,   0.10388609, -0.060731106,  0.011108843],\n",
            " [         0.0,          0.0,          0.0,          0.0,          0.0,          0.0,\n",
            "           0.0,          0.0,          0.0,          0.0]]\n",
            "Loss: 0.44584405\n",
            "∂L/∂ŷ = [[-0.22319806],\n",
            " [      -0.25],\n",
            " [ -0.1450057],\n",
            " [      -0.25]]\n",
            "∂L/∂layer1 = [[ -0.12447369,  -0.09759809, -0.060363602,  0.118828095,  0.067877315,   0.04094215,\n",
            "   0.116421714,   0.15230143, -0.089034386,  0.016286036],\n",
            " [         0.0,          0.0,          0.0,          0.0,          0.0,          0.0,\n",
            "           0.0,          0.0,          0.0,          0.0],\n",
            " [ -0.08086717, -0.063406825,  -0.03921659,   0.07719938,  0.044098046,  0.026599001,\n",
            "    0.07563602,   0.09894609, -0.057843216,  0.010580595],\n",
            " [         0.0,          0.0,          0.0,          0.0,          0.0,          0.0,\n",
            "           0.0,          0.0,          0.0,          0.0]]\n",
            "Loss: 0.44141865\n",
            "∂L/∂ŷ = [[-0.21764833],\n",
            " [      -0.25],\n",
            " [-0.13801393],\n",
            " [      -0.25]]\n",
            "∂L/∂layer1 = [[ -0.12154892,  -0.09538384, -0.058862686,   0.11587348,   0.06607223,  0.039788853,\n",
            "    0.11352694,   0.14851451,  -0.08682058,  0.015881091],\n",
            " [         0.0,          0.0,          0.0,          0.0,          0.0,          0.0,\n",
            "           0.0,          0.0,          0.0,          0.0],\n",
            " [ -0.07707591,  -0.06048426, -0.037325673,   0.07347704,  0.041897353,  0.025230683,\n",
            "    0.07198906,   0.09417518, -0.055054177,  0.010070427],\n",
            " [         0.0,          0.0,          0.0,          0.0,          0.0,          0.0,\n",
            "           0.0,          0.0,          0.0,          0.0]]\n",
            "Loss: 0.43729177\n",
            "∂L/∂ŷ = [[-0.21227801],\n",
            " [      -0.25],\n",
            " [-0.13126242],\n",
            " [      -0.25]]\n",
            "∂L/∂layer1 = [[ -0.11871539,   -0.0932335,  -0.05741029,  0.113014385,   0.06433406,   0.03868213,\n",
            "   0.110725746,   0.14485002, -0.084678344, 0.0154892355],\n",
            " [         0.0,          0.0,          0.0,          0.0,          0.0,          0.0,\n",
            "           0.0,          0.0,          0.0,          0.0],\n",
            " [-0.073407836, -0.057651076, -0.035499737,   0.06988261,  0.039781056,  0.023919152,\n",
            "    0.06846742,   0.08956823, -0.052360978,  0.009577792],\n",
            " [         0.0,          0.0,          0.0,          0.0,          0.0,          0.0,\n",
            "           0.0,          0.0,          0.0,          0.0]]\n",
            "Loss: 0.43344378\n",
            "∂L/∂ŷ = [[-0.20708147],\n",
            " [      -0.25],\n",
            " [-0.12474391],\n",
            " [      -0.25]]\n",
            "∂L/∂layer1 = [[-0.115969904,  -0.09114519, -0.056004893,  0.110247806,   0.06265997,  0.037619803,\n",
            "    0.10801519,    0.1413041,  -0.08260543,  0.015110061],\n",
            " [         0.0,          0.0,          0.0,          0.0,          0.0,          0.0,\n",
            "           0.0,          0.0,          0.0,          0.0],\n",
            " [ -0.06985917, -0.054904994, -0.033736814,   0.06641223,   0.03774577,  0.022661813,\n",
            "    0.06506732,   0.08512025, -0.049760725,  0.009102157],\n",
            " [         0.0,          0.0,          0.0,          0.0,          0.0,          0.0,\n",
            "           0.0,          0.0,          0.0,          0.0]]\n",
            "Loss: 0.42985627\n",
            "∂L/∂ŷ = [[-0.20205334],\n",
            " [      -0.25],\n",
            " [-0.11845129],\n",
            " [      -0.25]]\n",
            "∂L/∂layer1 = [[ -0.11330952,  -0.08911711, -0.054645043,   0.10757089,  0.061047353,  0.036599845,\n",
            "    0.10539248,   0.13787311,  -0.08059969,  0.014743174],\n",
            " [         0.0,          0.0,          0.0,          0.0,          0.0,          0.0,\n",
            "           0.0,          0.0,          0.0,          0.0],\n",
            " [-0.066426314, -0.052243814, -0.032034986,   0.06306211,   0.03578826,   0.02145621,\n",
            "    0.06178505,  0.080826424,  -0.04725058,  0.008643005],\n",
            " [         0.0,          0.0,          0.0,          0.0,          0.0,          0.0,\n",
            "           0.0,          0.0,          0.0,          0.0]]\n"
          ],
          "name": "stdout"
        }
      ]
    },
    {
      "cell_type": "markdown",
      "metadata": {
        "colab_type": "text",
        "id": "TzLfTj28gEUD"
      },
      "source": [
        "## Recomputing activations during backpropagation to save memory (checkpointing)\n",
        "\n",
        "Checkpointing is a traditional technique in reverse-mode automatic differentiation for saving memory. Rather than saving large intermediate values in the original computation for computing derivatives, the intermediate values are instead recomputed as needed during backpropagation.\n",
        "\n",
        "This technique has been realized in modern deep learning libraries as well. In Swift, API [`withRecomputationInPullbacks(_:)`](https://www.tensorflow.org/swift/api_docs/Protocols/Differentiable#/s:10TensorFlow14DifferentiablePAAE28withRecomputationInPullbacksyqd__qd__xcAaBRd__lF) enables you to control what to recompute during backpropagation, and it is available on all `Differentiable` types.\n",
        "\n",
        "But today, let us learn how to define our own gradient checkpointing APIs from scratch, in just a few lines of code."
      ]
    },
    {
      "cell_type": "markdown",
      "metadata": {
        "colab_type": "text",
        "id": "5cZe-JbjwMfZ"
      },
      "source": [
        "### Our gradient checkpointing API"
      ]
    },
    {
      "cell_type": "markdown",
      "metadata": {
        "colab_type": "text",
        "id": "606ob1dn2v77"
      },
      "source": [
        "We can define our own gradient checkpointing API, `makeRecomputedInGradient(_:)`, in terms of standard library function [`differentiableFunction(from:)`](https://www.tensorflow.org/swift/api_docs/Functions#/s:10TensorFlow22differentiableFunction4fromq0_x_q_tcq0_5value_15CotangentVectorQz_AEQy_tAEQy0_c8pullbacktx_q_tc_tAA14DifferentiableRzAaJR_AaJR0_r1_lF), which is a shorthand for creating a differentiable function directly from a derivative function (also called a \"vector-Jacobian products (VJP) function\").\n",
        "\n",
        "As we have seen before, the derivative function returns a tuple of the original function's result and a pullback closure. We return `original(x)` in `value:`, and call `pullback(at:in:)` on `original` to evaluate the original function again and get a pullback."
      ]
    },
    {
      "cell_type": "code",
      "metadata": {
        "colab_type": "code",
        "id": "b1uU3tcVwl_1",
        "colab": {}
      },
      "source": [
        "/// Given a differentiable function, returns the same differentiable function except when\n",
        "/// derivatives of this function are being computed. In that case, values in the original function needed\n",
        "/// for computing the derivatives will be recomputed, instead of being captured by the differential or pullback.\n",
        "///\n",
        "/// - Parameter body: The body of the differentiable function.\n",
        "/// - Returns: The same differentiable function whose derivatives, when computed, will recompute\n",
        "///   some values from the original function.\n",
        "func makeRecomputedInGradient<T: Differentiable, U: Differentiable>(\n",
        "    _ original: @escaping @differentiable (T) -> U\n",
        ") -> @differentiable (T) -> U {\n",
        "    return differentiableFunction { x in\n",
        "        (value: original(x), pullback: { v in pullback(at: x, in: original)(v) })\n",
        "    }\n",
        "}"
      ],
      "execution_count": 0,
      "outputs": []
    },
    {
      "cell_type": "markdown",
      "metadata": {
        "colab_type": "text",
        "id": "UbeKj7NEF7zz"
      },
      "source": [
        "### Verify it works"
      ]
    },
    {
      "cell_type": "code",
      "metadata": {
        "colab_type": "code",
        "id": "oee8SXital45",
        "outputId": "6b7d3e20-5945-47e3-a672-c209ba45e26d",
        "colab": {
          "base_uri": "https://localhost:8080/",
          "height": 107
        }
      },
      "source": [
        "let input: Float = 10.0\n",
        "print(\"Running original computation...\")\n",
        "\n",
        "// Differentiable multiplication with checkpointing.\n",
        "let square = makeRecomputedInGradient { (x: Float) -> Float in\n",
        "    print(\"  Computing square...\")\n",
        "    return x * x\n",
        "}\n",
        "\n",
        "// Differentiate `f(x) = (cos(x))^2`.\n",
        "let (output, backprop) = input.valueWithPullback { input -> Float in\n",
        "    return square(cos(input))\n",
        "}\n",
        "print(\"Running backpropagation...\")\n",
        "let grad = backprop(1)\n",
        "print(\"Gradient = \\(grad)\")"
      ],
      "execution_count": 7,
      "outputs": [
        {
          "output_type": "stream",
          "text": [
            "Running original computation...\r\n",
            "  Computing square...\r\n",
            "Running backpropagation...\r\n",
            "  Computing square...\r\n",
            "Gradient = -0.9129453\r\n"
          ],
          "name": "stdout"
        }
      ]
    },
    {
      "cell_type": "markdown",
      "metadata": {
        "colab_type": "text",
        "id": "7SxWsSUqF9Bh"
      },
      "source": [
        "### Extend it to neural network modules\n",
        "\n",
        "In this example, we define a simple convolutional neural network.\n",
        "\n",
        "```swift\n",
        "struct Model: Layer {\n",
        "    var conv = Conv2D<Float>(filterShape: (5, 5, 3, 6))\n",
        "    var maxPool = MaxPool2D<Float>(poolSize: (2, 2), strides: (2, 2))\n",
        "    var flatten = Flatten<Float>()\n",
        "    var dense = Dense<Float>(inputSize: 36 * 6, outputSize: 10)\n",
        "\n",
        "    @differentiable\n",
        "    func call(_ input: Tensor<Float>) -> Tensor<Float> {\n",
        "        return input.sequenced(through: conv, maxPool, flatten, dense)\n",
        "    }\n",
        "}\n",
        "```\n",
        "\n",
        "We want to make activations in the convolution layer (`conv`) be recomputed during backpropagation. However, using `makeRecomputedInGradient(_:)` could make the resulting code look cumbersome, especially when we want to apply layers sequentially using [`sequenced(in:through:_:_:_:_:)`](https://www.tensorflow.org/swift/api_docs/Protocols/Differentiable#/s:10TensorFlow14DifferentiablePAAE9sequenced2in7through____6OutputQyd_3_AA7ContextC_qd__qd_0_qd_1_qd_2_qd_3_t5InputQyd__RszAA5LayerRd__AaMRd_0_AaMRd_1_AaMRd_2_AaMRd_3_AKQyd_0_AGRtd__AKQyd_1_AGRtd_0_AKQyd_2_AGRtd_1_AKQyd_3_AGRtd_2_r3_lF).\n",
        "\n",
        "```swift\n",
        "input.sequenced(in: context, through: conv, maxPool, flatten, dense)\n",
        "```\n",
        "\n",
        "So, why don't we define a **special layer type** that wraps a layer and makes its activations be recomputed during backpropagation? Let's do it."
      ]
    },
    {
      "cell_type": "markdown",
      "metadata": {
        "colab_type": "text",
        "id": "ZP86M5RjP3OG"
      },
      "source": [
        "First, we define a `makeRecomputedInGradient(_:)` function that takes a binary function."
      ]
    },
    {
      "cell_type": "code",
      "metadata": {
        "colab_type": "code",
        "id": "bEm-n5H0QB8s",
        "colab": {}
      },
      "source": [
        "// Same as the previous `makeRecomputedInGradient(_:)`, except it's for binary functions.\n",
        "func makeRecomputedInGradient<T: Differentiable, U: Differentiable, V: Differentiable>(\n",
        "    _ original: @escaping @differentiable (T, U) -> V\n",
        ") -> @differentiable (T, U) -> V {\n",
        "    return differentiableFunction { x, y in\n",
        "        (value: original(x, y), pullback: { v in pullback(at: x, y, in: original)(v) })\n",
        "    }\n",
        "}"
      ],
      "execution_count": 0,
      "outputs": []
    },
    {
      "cell_type": "markdown",
      "metadata": {
        "colab_type": "text",
        "id": "YU6DgqXxP5Nl"
      },
      "source": [
        "Then, we define a generic layer `ActivationDiscarding<Wrapped>`."
      ]
    },
    {
      "cell_type": "code",
      "metadata": {
        "colab_type": "code",
        "id": "ao1r_lIPGeOl",
        "colab": {}
      },
      "source": [
        "/// A layer wrapper that makes the underlying layer's activations be discarded during application\n",
        "/// and recomputed during backpropagation.\n",
        "struct ActivationDiscarding<Wrapped: Layer>: Layer \n",
        "    where Wrapped.AllDifferentiableVariables == Wrapped.CotangentVector {\n",
        "    /// The wrapped layer.\n",
        "    var wrapped: Wrapped\n",
        "\n",
        "    @differentiable\n",
        "    func call(_ input: Wrapped.Input) -> Wrapped.Output {\n",
        "        let apply = makeRecomputedInGradient { (layer: Wrapped, input: Input) -> Wrapped.Output in\n",
        "            print(\"    Applying \\(Wrapped.self) layer...\")\n",
        "            return layer(input)\n",
        "        }\n",
        "        return apply(wrapped, input)\n",
        "    }\n",
        "}"
      ],
      "execution_count": 0,
      "outputs": []
    },
    {
      "cell_type": "markdown",
      "metadata": {
        "colab_type": "text",
        "id": "HqPXwwuTRjmz"
      },
      "source": [
        "Finally, we can add a method on all layers that returns the same layer except its activations are discarded during application and recomputed during backpropagation."
      ]
    },
    {
      "cell_type": "code",
      "metadata": {
        "colab_type": "code",
        "id": "PGgkNnNNR1th",
        "colab": {}
      },
      "source": [
        "extension Layer where AllDifferentiableVariables == CotangentVector {\n",
        "    func discardingActivations() -> ActivationDiscarding<Self> {\n",
        "        return ActivationDiscarding(wrapped: self)\n",
        "    }\n",
        "}"
      ],
      "execution_count": 0,
      "outputs": []
    },
    {
      "cell_type": "markdown",
      "metadata": {
        "colab_type": "text",
        "id": "8PP-NZ9XU5_n"
      },
      "source": [
        "Back in the model, all we have to change is to wrap the convolution layer into the activation-recomputing layer.\n",
        "\n",
        "```swift\n",
        "var conv = Conv2D<Float>(filterShape: (5, 5, 3, 6)).discardingActivations()\n",
        "```"
      ]
    },
    {
      "cell_type": "markdown",
      "metadata": {
        "colab_type": "text",
        "id": "bCwNPtCfSbGi"
      },
      "source": [
        "Now, simply use it in the model!"
      ]
    },
    {
      "cell_type": "code",
      "metadata": {
        "colab_type": "code",
        "id": "gsWGwFjOJ3Md",
        "colab": {}
      },
      "source": [
        "struct Model: Layer {\n",
        "    var conv = Conv2D<Float>(filterShape: (5, 5, 3, 6)).discardingActivations()\n",
        "    var maxPool = MaxPool2D<Float>(poolSize: (2, 2), strides: (2, 2))\n",
        "    var flatten = Flatten<Float>()\n",
        "    var dense = Dense<Float>(inputSize: 36 * 6, outputSize: 10)\n",
        "\n",
        "    @differentiable\n",
        "    func call(_ input: Tensor<Float>) -> Tensor<Float> {\n",
        "        return input.sequenced(through: conv, maxPool, flatten, dense)\n",
        "    }\n",
        "}"
      ],
      "execution_count": 0,
      "outputs": []
    },
    {
      "cell_type": "markdown",
      "metadata": {
        "colab_type": "text",
        "id": "dmFxciU6VYdF"
      },
      "source": [
        "When we run a training loop, we can see that the convolution layer's activations are computed twice: once during layer application, and once during backpropagation."
      ]
    },
    {
      "cell_type": "code",
      "metadata": {
        "colab_type": "code",
        "id": "-x1nYu0uVSPn",
        "outputId": "a7c95585-6ba8-49d1-eba9-efab2d708cb5",
        "colab": {
          "base_uri": "https://localhost:8080/",
          "height": 557
        }
      },
      "source": [
        "// Use random training data.\n",
        "let x = Tensor<Float>(randomNormal: [10, 16, 16, 3])\n",
        "let y = Tensor<Int32>(rangeFrom: 0, to: 10, stride: 1)\n",
        "\n",
        "var model = Model()\n",
        "let opt = SGD(for: model)\n",
        "\n",
        "for i in 1...5 {\n",
        "    print(\"Starting training step \\(i)\")\n",
        "    print(\"  Running original computation...\")\n",
        "    let (logits, backprop) = model.appliedForBackpropagation(to: x)\n",
        "    let (loss, dL_dŷ) = logits.valueWithGradient { logits in\n",
        "        softmaxCrossEntropy(logits: logits, labels: y)\n",
        "    }\n",
        "    print(\"  Loss: \\(loss)\")\n",
        "    print(\"  Running backpropagation...\")\n",
        "    let (dL_dθ, _) = backprop(dL_dŷ)\n",
        "    \n",
        "    opt.update(&model.allDifferentiableVariables, along: dL_dθ)\n",
        "}"
      ],
      "execution_count": 12,
      "outputs": [
        {
          "output_type": "stream",
          "text": [
            "Starting training step 1\r\n",
            "  Running original computation...\r\n",
            "    Applying Conv2D<Float> layer...\n",
            "  Loss: 3.539722\n",
            "  Running backpropagation...\n",
            "    Applying Conv2D<Float> layer...\n",
            "Starting training step 2\n",
            "  Running original computation...\n",
            "    Applying Conv2D<Float> layer...\n",
            "  Loss: 3.1320894\n",
            "  Running backpropagation...\n",
            "    Applying Conv2D<Float> layer...\n",
            "Starting training step 3\n",
            "  Running original computation...\n",
            "    Applying Conv2D<Float> layer...\n",
            "  Loss: 2.8008237\n",
            "  Running backpropagation...\n",
            "    Applying Conv2D<Float> layer...\n",
            "Starting training step 4\n",
            "  Running original computation...\n",
            "    Applying Conv2D<Float> layer...\n",
            "  Loss: 2.5152164\n",
            "  Running backpropagation...\n",
            "    Applying Conv2D<Float> layer...\n",
            "Starting training step 5\n",
            "  Running original computation...\n",
            "    Applying Conv2D<Float> layer...\n",
            "  Loss: 2.26407\n",
            "  Running backpropagation...\n",
            "    Applying Conv2D<Float> layer...\n"
          ],
          "name": "stdout"
        }
      ]
    },
    {
      "cell_type": "markdown",
      "metadata": {
        "colab_type": "text",
        "id": "gzRaZLa_WX0u"
      },
      "source": [
        "Just like that, it is super easy to define generic differentiable programming libraries for different domains."
      ]
    }
  ]
}