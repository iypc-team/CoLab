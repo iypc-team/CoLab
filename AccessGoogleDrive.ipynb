{
  "nbformat": 4,
  "nbformat_minor": 0,
  "metadata": {
    "kernelspec": {
      "display_name": "Python 3 (system-wide)",
      "language": "python",
      "name": "python3"
    },
    "language_info": {
      "codemirror_mode": {
        "name": "ipython",
        "version": 3
      },
      "file_extension": ".py",
      "mimetype": "text/x-python",
      "name": "python",
      "nbconvert_exporter": "python",
      "pygments_lexer": "ipython3",
      "version": "3.6.9"
    },
    "colab": {
      "name": "AccessGoogleDrive.ipynb",
      "provenance": [],
      "private_outputs": true,
      "collapsed_sections": [],
      "include_colab_link": true
    }
  },
  "cells": [
    {
      "cell_type": "markdown",
      "metadata": {
        "id": "view-in-github",
        "colab_type": "text"
      },
      "source": [
        "<a href=\"https://colab.research.google.com/github/iypc-team/CoLab/blob/master/AccessGoogleDrive.ipynb\" target=\"_parent\"><img src=\"https://colab.research.google.com/assets/colab-badge.svg\" alt=\"Open In Colab\"/></a>"
      ]
    },
    {
      "cell_type": "code",
      "metadata": {
        "id": "zHjz9sT6QQ-t",
        "colab_type": "code",
        "colab": {}
      },
      "source": [
        "# %%file ColorUtil.py\n",
        "class ColorUtil:\n",
        "    LITE = '\\033[90m'\n",
        "    HEADER = '\\033[95m'\n",
        "    BLUE = '\\033[94m'\n",
        "    YELLOW = '\\033[93m'\n",
        "    GREEN = '\\033[92m'\n",
        "    RED = '\\033[91m'\n",
        "    WHITE = '\\033[0m'\n",
        "    DARK = '\\033[4m'\n",
        "    UNDERLINE = '\\033[4m'\n",
        "    BOLD = '\\033[1m'\n",
        "\n",
        "    test = '\\033[7m'\n",
        "\n",
        "C = ColorUtil\n",
        "print(f'{C.BLUE}{C.test}OK')\n",
        "print(f'{C.GREEN}OK')"
      ],
      "execution_count": null,
      "outputs": []
    },
    {
      "cell_type": "code",
      "metadata": {
        "id": "MTSyNmijBGJn",
        "colab_type": "code",
        "colab": {}
      },
      "source": [
        "!pip3 install GitPython\n",
        "print(f'{C.GREEN}installed GitPython OK{C.WHITE}\\n')\n",
        "!pip3 install google\n",
        "print(f'{C.GREEN}installed google OK{C.WHITE}\\n')\n",
        "!pip3 install google.colab\n",
        "print(f'{C.GREEN}installed google.colab OK{C.WHITE}\\n')"
      ],
      "execution_count": null,
      "outputs": []
    },
    {
      "cell_type": "code",
      "metadata": {
        "id": "nGNYL60Ne3Tk",
        "colab_type": "code",
        "colab": {}
      },
      "source": [
        "\n",
        "import git, glob, os, pathlib, sys\n",
        "from pathlib import Path\n",
        "from os.path import *\n",
        "from google.colab import drive\n",
        "\n",
        "cwdPath = Path.cwd()\n",
        "\n",
        "allFiles = glob.glob('**', recursive=True)\n",
        "\n",
        "allFilesDict = {}\n",
        "fileCount = 0\n",
        "for fil in sorted(allFiles):\n",
        "    fullPath = Path(realpath(fil))  # PosixPath\n",
        "    if isdir(fullPath):\n",
        "        sys.path.append(str(fullPath))\n",
        "        print(f'\\n{C.BLUE}{fullPath}')\n",
        "    \n",
        "    elif isfile(fullPath):\n",
        "        fileCount += 1\n",
        "        allFilesDict[fileCount] = fullPath\n",
        "        print(f'{C.WHITE}{fileCount}. {fullPath.name}') \n",
        "        "
      ],
      "execution_count": null,
      "outputs": []
    },
    {
      "cell_type": "code",
      "metadata": {
        "id": "4BqlNhPfFM2E",
        "colab_type": "code",
        "colab": {}
      },
      "source": [
        "from google.colab import drive\n",
        "drive.mount('/gdrive')"
      ],
      "execution_count": null,
      "outputs": []
    },
    {
      "cell_type": "code",
      "metadata": {
        "id": "hMmpx9lRalf4",
        "colab_type": "code",
        "colab": {}
      },
      "source": [
        "os.chdir('/gdrive')\n",
        "\n",
        "gdriveFiles = glob.glob('**', recursive=True)\n",
        "\n",
        "gDriveFilesDict = {}\n",
        "fileCount = 0\n",
        "print(f'{C.GREEN}{len(gdriveFiles)} files in {Path.cwd()}')\n",
        "for fil in sorted(gdriveFiles):\n",
        "    fullPath = Path(realpath(fil))\n",
        "    if isdir(fullPath):\n",
        "        print(f'\\n{C.BLUE}{fullPath}')\n",
        "    elif isfile(fullPath):\n",
        "        fileCount += 1\n",
        "        gDriveFilesDict[fileCount] = fullPath\n",
        "        print(f'{C.WHITE}{fileCount}. {fullPath.name}')\n",
        "os.chdir(cwdPath)"
      ],
      "execution_count": null,
      "outputs": []
    },
    {
      "cell_type": "code",
      "metadata": {
        "id": "p5MJKFb0jU5R",
        "colab_type": "code",
        "colab": {}
      },
      "source": [
        "\n",
        "pth = gDriveFilesDict[1]\n",
        "print(f'{pth.name}\\n')\n",
        "with open(pth, 'r') as openFile:\n",
        "    txt = openFile.read()\n",
        "    print(txt)\n",
        "    openFile.close()\n"
      ],
      "execution_count": null,
      "outputs": []
    }
  ]
}