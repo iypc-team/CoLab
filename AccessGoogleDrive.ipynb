{
  "nbformat": 4,
  "nbformat_minor": 0,
  "metadata": {
    "kernelspec": {
      "display_name": "Python 3 (system-wide)",
      "language": "python",
      "name": "python3"
    },
    "language_info": {
      "codemirror_mode": {
        "name": "ipython",
        "version": 3
      },
      "file_extension": ".py",
      "mimetype": "text/x-python",
      "name": "python",
      "nbconvert_exporter": "python",
      "pygments_lexer": "ipython3",
      "version": "3.6.9"
    },
    "colab": {
      "name": "AccessGoogleDrive.ipynb",
      "provenance": [],
      "private_outputs": true,
      "collapsed_sections": [],
      "include_colab_link": true
    }
  },
  "cells": [
    {
      "cell_type": "markdown",
      "metadata": {
        "id": "view-in-github",
        "colab_type": "text"
      },
      "source": [
        "<a href=\"https://colab.research.google.com/github/iypc-team/CoLab/blob/master/AccessGoogleDrive.ipynb\" target=\"_parent\"><img src=\"https://colab.research.google.com/assets/colab-badge.svg\" alt=\"Open In Colab\"/></a>"
      ]
    },
    {
      "cell_type": "code",
      "metadata": {
        "id": "MTSyNmijBGJn",
        "colab_type": "code",
        "colab": {}
      },
      "source": [
        "!pip3 install GitPython"
      ],
      "execution_count": null,
      "outputs": []
    },
    {
      "cell_type": "code",
      "metadata": {
        "id": "zHjz9sT6QQ-t",
        "colab_type": "code",
        "colab": {}
      },
      "source": [
        "\n",
        "class ColorUtil:\n",
        "    LITE = '\\033[96m'\n",
        "    HEADER = '\\033[95m'\n",
        "    BLUE = '\\033[94m'\n",
        "    YELLOW = '\\033[93m'\n",
        "    GREEN = '\\033[92m'\n",
        "    RED = '\\033[91m'\n",
        "    DARK = '\\033[90m'\n",
        "    UNDERLINE = '\\033[4m'\n",
        "    BOLD = '\\033[1m'\n",
        "    WHITE = '\\033[0m'\n",
        "\n",
        "C = ColorUtil"
      ],
      "execution_count": null,
      "outputs": []
    },
    {
      "cell_type": "code",
      "metadata": {
        "id": "t5RjR4E9Rhup",
        "colab_type": "code",
        "colab": {}
      },
      "source": [
        "print(f'{C.WHITE}{txt}')"
      ],
      "execution_count": null,
      "outputs": []
    },
    {
      "cell_type": "code",
      "metadata": {
        "id": "p5MJKFb0jU5R",
        "colab_type": "code",
        "colab": {}
      },
      "source": [
        "pth = gDriveFilesDict[57]\n",
        "print(f'{pth.name}\\n')\n",
        "with open(pth, 'r') as openFile:\n",
        "    txt = openFile.read()\n",
        "    print(txt)\n",
        "    openFile.close()\n"
      ],
      "execution_count": null,
      "outputs": []
    },
    {
      "cell_type": "code",
      "metadata": {
        "id": "nGNYL60Ne3Tk",
        "colab_type": "code",
        "colab": {}
      },
      "source": [
        "\n",
        "import git, glob, os, pathlib, sys\n",
        "from pathlib import Path\n",
        "from os.path import *\n",
        "from google.colab import drive\n",
        "\n",
        "cwdPath = Path.cwd()\n",
        "\n",
        "allFiles = glob.glob('**', recursive=True)\n",
        "\n",
        "allFilesDict = {}\n",
        "fileCount = 0\n",
        "print(f'{cwdPath}')\n",
        "for fil in sorted(allFiles):\n",
        "    fullPath = Path(realpath(fil))  # PosixPath\n",
        "    if isdir(fullPath):\n",
        "        sys.path.append(str(fullPath))\n",
        "        print(f'\\n{fullPath}')\n",
        "    \n",
        "    elif isfile(fullPath):\n",
        "        fileCount += 1\n",
        "        allFilesDict[fileCount] = fullPath\n",
        "        print(f'{fileCount}. {fullPath.name}:\\t{fil.__class__} bytes')\n",
        "        "
      ],
      "execution_count": null,
      "outputs": []
    },
    {
      "cell_type": "code",
      "metadata": {
        "id": "4BqlNhPfFM2E",
        "colab_type": "code",
        "colab": {}
      },
      "source": [
        "from google.colab import drive\n",
        "drive.mount('/gdrive')p"
      ],
      "execution_count": null,
      "outputs": []
    },
    {
      "cell_type": "code",
      "metadata": {
        "id": "hMmpx9lRalf4",
        "colab_type": "code",
        "colab": {}
      },
      "source": [
        "os.chdir('/gdrive')\n",
        "\n",
        "gdriveFiles = glob.glob('**', recursive=True)\n",
        "gDriveFilesDict = {}\n",
        "fileCount = 0\n",
        "for fil in sorted(gdriveFiles):\n",
        "    fullPath = Path(realpath(fil))\n",
        "    if isdir(fullPath):\n",
        "        print(f'\\n{fullPath}')\n",
        "    elif isfile(fullPath):\n",
        "        fileCount += 1\n",
        "        gDriveFilesDict[fileCount] = fullPath\n",
        "        print(f'{fileCount}. {fullPath.name}')\n",
        "\n",
        "\n",
        "    "
      ],
      "execution_count": null,
      "outputs": []
    },
    {
      "cell_type": "code",
      "metadata": {
        "id": "xtxz1JytFIbD",
        "colab_type": "code",
        "colab": {}
      },
      "source": [
        "from google.colab import drive\n",
        "drive.mount('/gdrive')\n",
        "%cd /gdrive"
      ],
      "execution_count": null,
      "outputs": []
    },
    {
      "cell_type": "code",
      "metadata": {
        "id": "zuiI72p4qy07",
        "colab_type": "code",
        "colab": {}
      },
      "source": [
        "# Import PyDrive and associated libraries.\n",
        "# This only needs to be done once per notebook.\n",
        "from pydrive.auth import GoogleAuth\n",
        "from pydrive.drive import GoogleDrive\n",
        "from google.colab import auth\n",
        "from oauth2client.client import GoogleCredentials\n",
        "\n",
        "# Authenticate and create the PyDrive client.\n",
        "# This only needs to be done once per notebook.\n",
        "auth.authenticate_user()\n",
        "gauth = GoogleAuth()\n",
        "gauth.credentials = GoogleCredentials.get_application_default()\n",
        "drive = GoogleDrive(gauth)\n",
        "\n",
        "# Download a file based on its file ID.\n",
        "#\n",
        "# A file ID looks like: laggVyWshwcyP6kEI-y_W3P8D26sz\n",
        "file_id = 'REPLACE_WITH_YOUR_FILE_ID'\n",
        "downloaded = drive.CreateFile({'id': file_id})\n",
        "print('Downloaded content \"{}\"'.format(downloaded.GetContentString()))"
      ],
      "execution_count": null,
      "outputs": []
    },
    {
      "cell_type": "code",
      "metadata": {
        "id": "xT5C8X68u_KH",
        "colab_type": "code",
        "colab": {}
      },
      "source": [
        ""
      ],
      "execution_count": null,
      "outputs": []
    },
    {
      "cell_type": "code",
      "metadata": {
        "id": "B4b9HdDtvLvb",
        "colab_type": "code",
        "colab": {}
      },
      "source": [
        "# Import PyDrive and associated libraries.\n",
        "# This only needs to be done once per notebook.\n",
        "from pydrive.auth import GoogleAuth\n",
        "from pydrive.drive import GoogleDrive\n",
        "from google.colab import auth\n",
        "from oauth2client.client import GoogleCredentials\n",
        "\n",
        "# Authenticate and create the PyDrive client.\n",
        "# This only needs to be done once per notebook.\n",
        "auth.authenticate_user()\n",
        "gauth = GoogleAuth()\n",
        "gauth.credentials = GoogleCredentials.get_application_default()\n",
        "drive = GoogleDrive(gauth)\n",
        "\n",
        "# List .txt files in the root.\n",
        "#\n",
        "# Search query reference:\n",
        "# https://developers.google.com/drive/v2/web/search-parameters\n",
        "fileList = drive.ListFile({'q': \"title contains '*' and 'root' in parents\"}).GetList()\n",
        "for file in fileList:\n",
        "    print('title {}, id {}'.format(file['title'], file['id']))\n",
        "    print(f'{file}\\n')\n"
      ],
      "execution_count": null,
      "outputs": []
    }
  ]
}