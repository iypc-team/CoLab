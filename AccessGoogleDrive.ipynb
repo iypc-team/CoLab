{
  "nbformat": 4,
  "nbformat_minor": 0,
  "metadata": {
    "kernelspec": {
      "display_name": "Python 3 (system-wide)",
      "language": "python",
      "name": "python3"
    },
    "language_info": {
      "codemirror_mode": {
        "name": "ipython",
        "version": 3
      },
      "file_extension": ".py",
      "mimetype": "text/x-python",
      "name": "python",
      "nbconvert_exporter": "python",
      "pygments_lexer": "ipython3",
      "version": "3.6.9"
    },
    "colab": {
      "name": "AccessGoogleDrive.ipynb",
      "provenance": [],
      "private_outputs": true,
      "collapsed_sections": [],
      "include_colab_link": true
    }
  },
  "cells": [
    {
      "cell_type": "markdown",
      "metadata": {
        "id": "view-in-github",
        "colab_type": "text"
      },
      "source": [
        "<a href=\"https://colab.research.google.com/github/iypc-team/CoLab/blob/master/AccessGoogleDrive.ipynb\" target=\"_parent\"><img src=\"https://colab.research.google.com/assets/colab-badge.svg\" alt=\"Open In Colab\"/></a>"
      ]
    },
    {
      "cell_type": "code",
      "metadata": {
        "id": "nGNYL60Ne3Tk",
        "colab_type": "code",
        "colab": {}
      },
      "source": [
        "\n",
        "import glob, os, pathlib\n",
        "from pathlib import Path\n",
        "from os.path import *\n",
        "\n",
        "print(Path.cwd())\n",
        "\n",
        "from google.colab import drive\n",
        "drive.mount('/content/drive')\n",
        "os.chdir(Path.cwd())\n",
        "\n",
        "files = glob.glob('**', recursive=True)\n",
        "files = sorted(files)\n",
        "gDriveFilesDict = {}\n",
        "fileCount = 0\n",
        "for fil in files:\n",
        "    fullPath = os.path.realpath(fil)  # string\n",
        "    posixPath = Path(realpath(fil))   # PosixPath\n",
        "    if isdir(posixPath):\n",
        "        pass\n",
        "    elif isfile(posixPath):\n",
        "        fileCount += 1\n",
        "        gDriveFilesDict[fileCount] = fullPath\n",
        "        print(f'{fileCount}. {posixPath.name}')\n",
        "        # print(f'{posixPath}\\n')"
      ],
      "execution_count": 0,
      "outputs": []
    },
    {
      "cell_type": "code",
      "metadata": {
        "id": "p5MJKFb0jU5R",
        "colab_type": "code",
        "colab": {}
      },
      "source": [
        "pth = gDriveFilesDict[106]\n",
        "print(f'{pth}\\n')\n",
        "with open(pth, 'r') as openFile:\n",
        "    txt = openFile.read()\n",
        "    print(txt)\n"
      ],
      "execution_count": 0,
      "outputs": []
    },
    {
      "cell_type": "code",
      "metadata": {
        "id": "hMmpx9lRalf4",
        "colab_type": "code",
        "colab": {}
      },
      "source": [
        ""
      ],
      "execution_count": 0,
      "outputs": []
    }
  ]
}