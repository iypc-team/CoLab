{
  "nbformat": 4,
  "nbformat_minor": 0,
  "metadata": {
    "kernelspec": {
      "display_name": "Python 3 (system-wide)",
      "language": "python",
      "name": "python3"
    },
    "language_info": {
      "codemirror_mode": {
        "name": "ipython",
        "version": 3
      },
      "file_extension": ".py",
      "mimetype": "text/x-python",
      "name": "python",
      "nbconvert_exporter": "python",
      "pygments_lexer": "ipython3",
      "version": "3.6.9"
    },
    "colab": {
      "name": "AccessGoogleDrive.ipynb",
      "provenance": [],
      "collapsed_sections": [],
      "include_colab_link": true
    }
  },
  "cells": [
    {
      "cell_type": "markdown",
      "metadata": {
        "id": "view-in-github",
        "colab_type": "text"
      },
      "source": [
        "<a href=\"https://colab.research.google.com/github/iypc-team/CoLab/blob/master/AccessGoogleDrive.ipynb\" target=\"_parent\"><img src=\"https://colab.research.google.com/assets/colab-badge.svg\" alt=\"Open In Colab\"/></a>"
      ]
    },
    {
      "cell_type": "code",
      "metadata": {
        "id": "nGNYL60Ne3Tk",
        "colab_type": "code",
        "colab": {
          "base_uri": "https://localhost:8080/",
          "height": 1000
        },
        "outputId": "4b89b0eb-0a5a-4069-d92a-707719d90996"
      },
      "source": [
        "\n",
        "import glob, os, pathlib\n",
        "from pathlib import Path\n",
        "from os.path import *\n",
        "\n",
        "print(Path.cwd())\n",
        "\n",
        "from google.colab import drive\n",
        "drive.mount('/content/drive')\n",
        "os.chdir(Path.cwd())\n",
        "\n",
        "files = glob.glob('**', recursive=True)\n",
        "gDriveFilesDict = {}\n",
        "fileCount = 0\n",
        "for fil in files:\n",
        "    fullPath = os.path.realpath(fil)  # string\n",
        "    posixPath = Path(realpath(fil))   # PosixPath\n",
        "    if isdir(posixPath):\n",
        "        pass\n",
        "    elif isfile(posixPath):\n",
        "        fileCount += 1\n",
        "        gDriveFilesDict[fileCount] = fullPath\n",
        "        print(f'{fileCount}. {posixPath.name}')\n",
        "        # print(f'{posixPath}\\n')"
      ],
      "execution_count": 13,
      "outputs": [
        {
          "output_type": "stream",
          "text": [
            "/content/drive\n",
            "Drive already mounted at /content/drive; to attempt to forcibly remount, call drive.mount(\"/content/drive\", force_remount=True).\n",
            "1. Python_swift.ipynb\n",
            "2. Swift for TensorFlow\n",
            "3. Python_Integration_swift (1).ipynb\n",
            "4. blank_swift.ipynb\n",
            "5. Differentiable_swift (1).ipynb\n",
            "6. Network_swift (1).ipynb\n",
            "7. Downloads_swift.ipynb\n",
            "8. Python_Integration_swift.ipynb\n",
            "9. Network_swift.ipynb\n",
            "10. Celsius-swift.ipynb\n",
            "11. Differentiable_swift.ipynb\n",
            "12. TensorFlow with TPU\n",
            "13. REINFORCE Learning Tutorial.ipynb\n",
            "14. External data: Google Drive\n",
            "15. REINFORCE Tutorial.ipynb\n",
            "16. blank_swift (3).ipynb\n",
            "17. Differentiable_swift (1).ipynb\n",
            "18. blank_swift (2).ipynb\n",
            "19. install_latest_swift.ipynb\n",
            "20. blank_swift (1).ipynb\n",
            "21. blank_swift.ipynb\n",
            "22. Swift import data\n",
            "23. DifferentiableProtocol_swift.ipynb\n",
            "24. Differentiable_swift.ipynb\n",
            "25. Three-Dimensional-Plotting.ipynb\n",
            "26. Accessing GitHub\n",
            "27. Downloads_swift.ipynb\n",
            "28. CartPole-Krohn.ipynb\n",
            "29. Action Recognition on the UCF101 Dataset\n",
            "30. TensorFlow 2.0 with GPU (1)\n",
            "31. keras.ipynb\n",
            "32. Gym_Environment.ipynb\n",
            "33. Requests_Module.ipynb\n",
            "34. Python_Imports.ipynb\n",
            "35. Iterable.ipynb\n",
            "36. 01 Scrape.ipynb\n",
            "37. Copy of 01 Blank Colab\n",
            "38. FrozenLake-2.ipynb\n",
            "39. Copy of Accessing GitHub\n",
            "40. TensorFlow with GPU (1)\n",
            "41. Functional.ipynb\n",
            "42. 02_TensorFlow_with_GPU\n",
            "43. 02 TensorFlow with GPU\n",
            "44. 00 DQN Tutorial.ipynb\n",
            "45. TensorFlow 2.0 with GPU\n",
            "46. Python interoperability.ipynb\n",
            "47. PredictArrayValues.ipynb\n",
            "48. BasicComputerVision.ipynb\n",
            "49. Functional API (1).ipynb\n",
            "50. Functional API.ipynb\n",
            "51. TensorFlow with GPU\n",
            "52. Snippets: Drive\n",
            "53. GDrive (2).ipynb\n",
            "54. GDrive (1).ipynb\n",
            "55. GDrive.ipynb\n",
            "56. Untitled0.ipynb\n",
            "57. Copy of GDrive.ipynb\n",
            "58. Google Cloud Storage\n",
            "59. _Tensor-board.ipynb\n",
            "60. 00 DQN.ipynb\n",
            "61. Classifier_swift.ipynb\n",
            "62. Semantic Dictionaries.ipynb\n",
            "63. TF-GAN on TPUs.ipynb\n",
            "64. TPUs in Colab\n",
            "65. Keras Fashion MNIST.ipynb\n",
            "66. agents.ipynb\n",
            "67. Sonnet 2 on MNIST (1).ipynb\n",
            "68. Sonnet 2 on MNIST.ipynb\n",
            "69. Deep Q Learning.ipynb\n",
            "70. CVUtils .ipynb\n",
            "71. DQNAgent_ sentdex.ipynb\n",
            "72. 00 DQN (10).ipynb\n",
            "73. 00 DQN (9).ipynb\n",
            "74. Netron.ipynb\n",
            "75. 00 DQN (8).ipynb\n",
            "76. A Swift Tour.ipynb\n",
            "77. 00 DQN (7).ipynb\n",
            "78. TorchTest (1).ipynb\n",
            "79. TorchTest.ipynb\n",
            "80. 01 Blank Colab\n",
            "81. Dueling_ddqn_torch (2).ipynb\n",
            "82. Dueling_ddqn_torch (1).ipynb\n",
            "83. Dueling_ddqn_torch.ipynb\n",
            "84. Install_CoreML.ipynb\n",
            "85. 00 DQN (6).ipynb\n",
            "86. DQN with GPU (2)\n",
            "87. DQN with GPU (1)\n",
            "88. DQN with GPU\n",
            "89. 00 DQN (5).ipynb\n",
            "90. 00 DQN (4).ipynb\n",
            "91. GDrive (1).ipynb\n",
            "92. 00 DQN (3).ipynb\n",
            "93. 00 DQN Tutorial (4).ipynb\n",
            "94. 00 DQN (2).ipynb\n",
            "95. 00 cartpole.ipynb\n",
            "96. 00 DQN Tutorial (3).ipynb\n",
            "97. 00 DQN Tutorial (2).ipynb\n",
            "98. 00 DQN Tutorial (1).ipynb\n",
            "99. 00 DQN Tutorial.ipynb\n",
            "100. 00 DQN (1).ipynb\n",
            "101. PrimeNumberGenerator (1).ipynb\n",
            "102. PrimeNumberGenerator.ipynb\n",
            "103. GetUserInput.ipynb\n",
            "104. 00 DQN.ipynb\n",
            "105. iCloud (1).ipynb\n",
            "106. iCloud.ipynb\n",
            "107. GitHubFiles (1).ipynb\n",
            "108. GitHubFiles.ipynb\n",
            "109. Python Notebook.ipynb\n",
            "110. 04 13 2020swift.ipynb\n",
            "111. GDrive.ipynb\n",
            "112. Untitled0.ipynb\n",
            "113. DuelingDeepQNetwork (1).ipynb\n",
            "114. DuelingDeepQNetwork.ipynb\n",
            "115. AccessGoogleDrive (1).ipynb\n",
            "116. AccessGoogleDrive.ipynb\n",
            "117. IMG_0134.JPG\n",
            "118. IMG_0147.JPG\n",
            "119. IMG_0146.JPG\n",
            "120. IMG_0105.JPG\n",
            "121. IMG_0103.JPG\n",
            "122. IMG_0104.JPG\n",
            "123. IMG_0106.JPG\n",
            "124. IMG_0109.JPG\n",
            "125. IMG_0145.JPG\n",
            "126. gAuth.txt\n",
            "127. DuelingDeepQNetwork.ipynb\n",
            "128. ColorUtil.py\n",
            "129. SysPaths.py\n"
          ],
          "name": "stdout"
        }
      ]
    },
    {
      "cell_type": "code",
      "metadata": {
        "id": "p5MJKFb0jU5R",
        "colab_type": "code",
        "colab": {
          "base_uri": "https://localhost:8080/",
          "height": 53
        },
        "outputId": "c4036c28-6e3e-46b0-d27b-07241cb901ad"
      },
      "source": [
        "pth = gDriveFilesDict[130]\n",
        "print(pth)\n",
        "with open(pth, 'r') as openFile:\n",
        "    txt = openFile.read()\n",
        "    print(txt)\n"
      ],
      "execution_count": 10,
      "outputs": [
        {
          "output_type": "stream",
          "text": [
            "/content/drive/My Drive/foo.txt\n",
            "Hello Google Drive!\n"
          ],
          "name": "stdout"
        }
      ]
    },
    {
      "cell_type": "code",
      "metadata": {
        "id": "hMmpx9lRalf4",
        "colab_type": "code",
        "colab": {}
      },
      "source": [
        "os.remove(pth)"
      ],
      "execution_count": 0,
      "outputs": []
    }
  ]
}