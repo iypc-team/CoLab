{
  "nbformat": 4,
  "nbformat_minor": 0,
  "metadata": {
    "colab": {
      "name": "Python Notebook.ipynb",
      "version": "0.3.2",
      "provenance": [],
      "collapsed_sections": [],
      "include_colab_link": true
    },
    "kernelspec": {
      "name": "python3",
      "display_name": "Python 3"
    }
  },
  "cells": [
    {
      "cell_type": "markdown",
      "metadata": {
        "id": "view-in-github",
        "colab_type": "text"
      },
      "source": [
        "<a href=\"https://colab.research.google.com/github/iypc-team/CoLab/blob/master/Python_Notebook.ipynb\" target=\"_parent\"><img src=\"https://colab.research.google.com/assets/colab-badge.svg\" alt=\"Open In Colab\"/></a>"
      ]
    },
    {
      "cell_type": "code",
      "metadata": {
        "id": "ek_52FUZJTSJ",
        "colab_type": "code",
        "colab": {}
      },
      "source": [
        "\n",
        "%pip install pip\n",
        "%pip install tensorflow\n",
        "%pip install numpy\n"
      ],
      "execution_count": 0,
      "outputs": []
    },
    {
      "cell_type": "code",
      "metadata": {
        "id": "V63WZCQ6Jtae",
        "colab_type": "code",
        "outputId": "0da6514a-7478-4780-b9ce-b95b69057c64",
        "colab": {
          "base_uri": "https://localhost:8080/",
          "height": 53
        }
      },
      "source": [
        "\n",
        "from __future__ import  absolute_import, division, print_function, unicode_literals \n",
        "import tensorflow as tf\n",
        "import numpy as np\n",
        "\n",
        "print(\"tensorflow version:\", tf.__version__)\n",
        "print(\"numpy version:\", np.__version__)\n",
        "\n",
        "model = tf.keras.models.Sequential()\n"
      ],
      "execution_count": 2,
      "outputs": [
        {
          "output_type": "stream",
          "text": [
            "tensorflow version: 1.14.0-rc1\n",
            "numpy version: 1.16.4\n"
          ],
          "name": "stdout"
        }
      ]
    },
    {
      "cell_type": "code",
      "metadata": {
        "id": "W0hentlNpqHc",
        "colab_type": "code",
        "colab": {
          "base_uri": "https://localhost:8080/",
          "height": 35
        },
        "outputId": "6c23de55-599a-4610-ee19-3c0342f690cd"
      },
      "source": [
        "model = tf.keras.models.Sequential()\n",
        "\n",
        "print(model.layers)"
      ],
      "execution_count": 4,
      "outputs": [
        {
          "output_type": "stream",
          "text": [
            "[]\n"
          ],
          "name": "stdout"
        }
      ]
    }
  ]
}