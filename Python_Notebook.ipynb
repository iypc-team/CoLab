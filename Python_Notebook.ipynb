{
  "nbformat": 4,
  "nbformat_minor": 0,
  "metadata": {
    "colab": {
      "name": "Python Notebook.ipynb",
      "provenance": [],
      "private_outputs": true,
      "collapsed_sections": [],
      "include_colab_link": true
    },
    "kernelspec": {
      "name": "python3",
      "display_name": "Python 3"
    }
  },
  "cells": [
    {
      "cell_type": "markdown",
      "metadata": {
        "id": "view-in-github",
        "colab_type": "text"
      },
      "source": [
        "<a href=\"https://colab.research.google.com/github/iypc-team/CoLab/blob/master/Python_Notebook.ipynb\" target=\"_parent\"><img src=\"https://colab.research.google.com/assets/colab-badge.svg\" alt=\"Open In Colab\"/></a>"
      ]
    },
    {
      "cell_type": "code",
      "metadata": {
        "id": "ek_52FUZJTSJ",
        "colab_type": "code",
        "colab": {}
      },
      "source": [
        "from __future__ import absolute_import, division, print_function, unicode_literals\n",
        "from IPython.display import clear_output\n",
        "\n",
        "%pip install pip\n",
        "%pip install import_ipynb\n",
        "clear_output()"
      ],
      "execution_count": 0,
      "outputs": []
    },
    {
      "cell_type": "code",
      "metadata": {
        "id": "V63WZCQ6Jtae",
        "colab_type": "code",
        "colab": {}
      },
      "source": [
        "from __future__ import  absolute_import, division, print_function, unicode_literals \n",
        "\n",
        "import import_ipynb\n",
        "\n",
        "import os, glob, pathlib, sys\n",
        "from os.path import *\n",
        "from glob import *\n",
        "from pathlib import Path\n",
        "\n",
        "homePath = Path.home()\n",
        "print(homePath)"
      ],
      "execution_count": 0,
      "outputs": []
    },
    {
      "cell_type": "code",
      "metadata": {
        "id": "hZvJirjYWs83",
        "colab_type": "code",
        "colab": {}
      },
      "source": [
        "filesDict = {}\n",
        "fileCount = 0\n",
        "files = glob('**', recursive=True)\n",
        "for fil in files:\n",
        "    # path = Path(join(homePath, fil))\n",
        "\n",
        "    fileCount += 1\n",
        "    filesDict[fileCount] = fil\n",
        "    print(fileCount, filesDict[fileCount])"
      ],
      "execution_count": 0,
      "outputs": []
    },
    {
      "cell_type": "code",
      "metadata": {
        "id": "Na07J-yreP1t",
        "colab_type": "code",
        "colab": {}
      },
      "source": [
        "fileFromDict = str(filesDict[4])\n",
        "\n",
        "if isfile(fileFromDict):\n",
        "\n",
        "    with open(fileFromDict, 'r') as fi:\n",
        "        text = fi.read()\n",
        "        print(text)"
      ],
      "execution_count": 0,
      "outputs": []
    }
  ]
}