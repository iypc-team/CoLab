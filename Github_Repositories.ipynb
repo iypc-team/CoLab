{
  "nbformat": 4,
  "nbformat_minor": 0,
  "metadata": {
    "colab": {
      "name": "Github_Repositories.ipynb",
      "provenance": [],
      "collapsed_sections": [],
      "include_colab_link": true
    },
    "kernelspec": {
      "display_name": "Python 3",
      "language": "python",
      "name": "python3"
    },
    "language_info": {
      "codemirror_mode": {
        "name": "ipython",
        "version": 3
      },
      "file_extension": ".py",
      "mimetype": "text/x-python",
      "name": "python",
      "nbconvert_exporter": "python",
      "pygments_lexer": "ipython3",
      "version": "3.7.6"
    }
  },
  "cells": [
    {
      "cell_type": "markdown",
      "metadata": {
        "id": "view-in-github",
        "colab_type": "text"
      },
      "source": [
        "<a href=\"https://colab.research.google.com/github/iypc-team/CoLab/blob/master/Github_Repositories.ipynb\" target=\"_parent\"><img src=\"https://colab.research.google.com/assets/colab-badge.svg\" alt=\"Open In Colab\"/></a>"
      ]
    },
    {
      "cell_type": "code",
      "metadata": {
        "colab_type": "code",
        "id": "6CK3OX-_1lFR",
        "colab": {}
      },
      "source": [
        "from __future__ import absolute_import\n",
        "from IPython.display import clear_output\n",
        "%pip install GitPython\n",
        "clear_output()\n",
        "\n",
        "import git, gitdb, os, pathlib, sys\n",
        "from os.path import *\n",
        "import FileUtilities\n",
        "from FileUtilities import *\n",
        "\n",
        "global gr\n",
        "print(f'fu = FileUtilities()')\n",
        "print(f'{C.LITE}{fu.__dir__()}')"
      ],
      "execution_count": null,
      "outputs": []
    },
    {
      "cell_type": "code",
      "metadata": {
        "colab_type": "code",
        "id": "EbrtpsIVd-iI",
        "colab": {}
      },
      "source": [
        "class GithubRepos():\n",
        "    def __dir__(self):\n",
        "        pass\n",
        "        \n",
        "    def __init__(self):\n",
        "        self.remoteList = []\n",
        "        \n",
        "    def getCurrentProjectRepo(self):\n",
        "        currentProjectURL = 'https://github.com/iypc-team/CurrentProject'\n",
        "        localURL = join(fu.cwdPath, basename(currentProjectURL))\n",
        "        print(basename(currentProjectURL))\n",
        "        if not exists(localURL):\n",
        "            currentProjectRepo = git.Repo.clone_from(currentProjectURL, localURL)\n",
        "            self.remoteList.append(currentProjectRepo)\n",
        "        else: print(f'{C.HEADER}{basename(localURL)} already exists')\n",
        "    \n",
        "    def getCoLabRepo(self):\n",
        "        thisRepo = None\n",
        "        colabURL = 'https://github.com/iypc-team/CoLab'\n",
        "        localURL = join(fu.cwdPath, basename(colabURL))\n",
        "        if not exists(localURL):\n",
        "            thisRepo = git.Repo.clone_from(colabURL, localURL)\n",
        "            self.remoteList.append(thisRepo)\n",
        "        else: print(f'{C.GREEN}{thisRepo}')\n",
        "\n",
        "    def listRemotes(self):\n",
        "        print(f'{C.WHITE}Remotes:')\n",
        "        print(f'{C.RED}{self.remoteList}')\n",
        "        for rpo in self.remoteList:\n",
        "            print(rpo)\n",
        "            print(f'{rpo}')\n",
        "            \n",
        "gr = GithubRepos()\n",
        "gr.getCoLabRepo()\n",
        "gr.listRemotes()"
      ],
      "execution_count": null,
      "outputs": []
    },
    {
      "cell_type": "code",
      "metadata": {
        "colab_type": "code",
        "id": "J5UFjfnE8swh",
        "colab": {}
      },
      "source": [
        "for root, dirs, files in os.walk(\".\", topdown=True):\n",
        "    print(f'{C.RED}{root}root')\n",
        "    for name in files:\n",
        "        fileName = basename(os.path.join(root, name))\n",
        "        print(f'{C.WHITE}{fileName}')\n",
        "    for name in dirs:\n",
        "        print(f'{C.BLUE}{os.path.join(root, name)}\\n')"
      ],
      "execution_count": null,
      "outputs": []
    },
    {
      "cell_type": "code",
      "metadata": {
        "colab_type": "code",
        "id": "9yHtWJYSRN7w",
        "colab": {}
      },
      "source": [
        "fu.inspectFile(4)"
      ],
      "execution_count": null,
      "outputs": []
    }
  ]
}