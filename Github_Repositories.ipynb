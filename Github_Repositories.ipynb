{
  "nbformat": 4,
  "nbformat_minor": 0,
  "metadata": {
    "colab": {
      "name": "Github_Repositories.ipynb",
      "provenance": [],
      "collapsed_sections": [],
      "include_colab_link": true
    },
    "kernelspec": {
      "display_name": "Python 3",
      "language": "python",
      "name": "python3"
    },
    "language_info": {
      "codemirror_mode": {
        "name": "ipython",
        "version": 3
      },
      "file_extension": ".py",
      "mimetype": "text/x-python",
      "name": "python",
      "nbconvert_exporter": "python",
      "pygments_lexer": "ipython3",
      "version": "3.7.6"
    },
    "gpuClass": "standard"
  },
  "cells": [
    {
      "cell_type": "markdown",
      "metadata": {
        "id": "view-in-github",
        "colab_type": "text"
      },
      "source": [
        "<a href=\"https://colab.research.google.com/github/iypc-team/CoLab/blob/master/Github_Repositories.ipynb\" target=\"_parent\"><img src=\"https://colab.research.google.com/assets/colab-badge.svg\" alt=\"Open In Colab\"/></a>"
      ]
    },
    {
      "cell_type": "code",
      "source": [
        "from __future__ import absolute_import, print_function\n",
        "import glob, os, shutil, time\n",
        "from os.path import *\n",
        "from google.colab import drive, files\n",
        "\n",
        "contentPath=os.getcwd()\n",
        "filesDictionary={}\n",
        "bullshitPath = join(contentPath,'sample_data')\n",
        "if exists(bullshitPath):\n",
        "    shutil.rmtree(bullshitPath)\n",
        "    \n",
        "drive.mount('/content/drive', force_remount=True)\n",
        "os.chdir('/content/drive/MyDrive/PythonFiles')\n",
        "driveFilesList=glob.glob('**')\n",
        "# print(f'cwd: {os.getcwd()}')\n",
        "%ls -l\n",
        "\n",
        "colorPath = '/content/drive/BashColors.py'\n",
        "sourcePath = '/content/drive/MyDrive/BashColors.py'\n",
        "if not exists(colorPath):\n",
        "    shutil.copy2(sourcePath, contentPath)\n",
        "    from BashColors import C\n",
        "else:\n",
        "    print(f'{basename(colorPath)} exists')\n",
        "    from BashColors import C\n",
        "\n",
        "tpuPath = '/content/drive/FileUtilities.py'\n",
        "sourcePath = '/content/drive/MyDrive/FileUtilities.py'\n",
        "if not exists(tpuPath):\n",
        "    print(tpuPath)\n",
        "    shutil.copy2(sourcePath, contentPath)\n",
        "\n",
        "tziPath = '/content/drive/TZInfo.py'\n",
        "sourcePath = '/content/drive/MyDrive/TZInfo.py'\n",
        "if not exists(tziPath):\n",
        "    print(tziPath)\n",
        "    shutil.copy2(sourcePath, contentPath)\n",
        "\n",
        "os.chdir(contentPath)"
      ],
      "metadata": {
        "id": "BVBnVV8uk9HA"
      },
      "execution_count": null,
      "outputs": []
    },
    {
      "cell_type": "code",
      "metadata": {
        "id": "6CK3OX-_1lFR"
      },
      "source": [
        "from __future__ import absolute_import\n",
        "from IPython.display import clear_output\n",
        "%pip install GitPython\n",
        "clear_output()\n",
        "\n",
        "import git, gitdb, os, pathlib, sys\n",
        "from os.path import *\n",
        "import FileUtilities\n",
        "from FileUtilities import *\n",
        "\n",
        "global ghr\n",
        "print(f'fu = FileUtilities()')\n",
        "print(f'{C.BIBlue}{fu.__dir__()}')"
      ],
      "execution_count": null,
      "outputs": []
    },
    {
      "cell_type": "code",
      "metadata": {
        "id": "EbrtpsIVd-iI"
      },
      "source": [
        "class GithubRepos():\n",
        "    \"\"\" \"\"\"\n",
        "    def __dir__(self):\n",
        "        pass\n",
        "        \n",
        "    def __init__(self):\n",
        "        self.remoteList = []\n",
        "        \n",
        "    def getCurrentProjectRepo(self):\n",
        "        currentProjectURL = 'https://github.com/iypc-team/CurrentProject'\n",
        "        localURL = join(fu.cwdPath, basename(currentProjectURL))\n",
        "        print(basename(currentProjectURL))\n",
        "        if not exists(localURL):\n",
        "            currentProjectRepo = git.Repo.clone_from(currentProjectURL, localURL)\n",
        "            self.remoteList.append(currentProjectRepo)\n",
        "        else: print(f'{C.HEADER}{basename(localURL)} already exists')\n",
        "    \n",
        "    def getCoLabRepo(self):\n",
        "        thisRepo = None\n",
        "        colabURL = 'https://github.com/iypc-team/CoLab'\n",
        "        localURL = join(fu.cwdPath, basename(colabURL))\n",
        "        if not exists(localURL):\n",
        "            thisRepo = git.Repo.clone_from(colabURL, localURL)\n",
        "            self.remoteList.append(thisRepo)\n",
        "        else: print(f'{C.BIWhite}{thisRepo}')\n",
        "\n",
        "    def listRemotes(self):\n",
        "        print(f'{C.BGreen}Remotes:')\n",
        "        print(f'{C.BIPurple}{self.remoteList}')\n",
        "        for rpo in self.remoteList:\n",
        "            print(rpo)\n",
        "            print(f'{rpo}')\n",
        "            \n",
        "ghr = GithubRepos()\n",
        "ghr.getCoLabRepo()\n",
        "ghr.listRemotes()"
      ],
      "execution_count": null,
      "outputs": []
    },
    {
      "cell_type": "code",
      "metadata": {
        "id": "J5UFjfnE8swh"
      },
      "source": [
        "for root, dirs, files in os.walk(\".\", topdown=True):\n",
        "    print(f'{C.BIPurple}{root}root')\n",
        "    for name in files:\n",
        "        fileName = basename(os.path.join(root, name))\n",
        "        print(f'{C.BIWhite}{fileName}')\n",
        "    for name in dirs:\n",
        "        print(f'{C.BIBlue}{os.path.join(root, name)}\\n')"
      ],
      "execution_count": null,
      "outputs": []
    },
    {
      "cell_type": "code",
      "metadata": {
        "id": "9yHtWJYSRN7w"
      },
      "source": [
        "fu.inspectFile(4)"
      ],
      "execution_count": null,
      "outputs": []
    }
  ]
}