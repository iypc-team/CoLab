{
  "nbformat": 4,
  "nbformat_minor": 0,
  "metadata": {
    "colab": {
      "name": "Import_Gym_Box2D.ipynb",
      "private_outputs": true,
      "provenance": [],
      "collapsed_sections": [],
      "machine_shape": "hm",
      "authorship_tag": "ABX9TyO5kWhZNcI/twj8swaE9OSQ",
      "include_colab_link": true
    },
    "kernelspec": {
      "name": "python3",
      "display_name": "Python 3"
    },
    "accelerator": "TPU"
  },
  "cells": [
    {
      "cell_type": "markdown",
      "metadata": {
        "id": "view-in-github",
        "colab_type": "text"
      },
      "source": [
        "<a href=\"https://colab.research.google.com/github/iypc-team/CoLab/blob/master/Import_Gym_Box2D.ipynb\" target=\"_parent\"><img src=\"https://colab.research.google.com/assets/colab-badge.svg\" alt=\"Open In Colab\"/></a>"
      ]
    },
    {
      "cell_type": "code",
      "metadata": {
        "id": "V0zo2feW5WSe"
      },
      "source": [
        "from __future__ import absolute_import\n",
        "import gym\n",
        "try: import Box2D\n",
        "except ModuleNotFoundError as err:\n",
        "    !pip install box2d\n",
        "    import Box2D\n",
        "from Box2D.b2 import *\n",
        "\n",
        "env = gym.make(id='LunarLanderContinuous-v2')\n",
        "print(env.spec)"
      ],
      "execution_count": null,
      "outputs": []
    },
    {
      "cell_type": "code",
      "metadata": {
        "id": "hB3KgIXABsXU"
      },
      "source": [
        "env = gym.make(id='LunarLanderContinuous-v2')\n",
        "print(f'env.spec:\\t   {env.spec}')\n",
        "print(f'env.metadata:\\t   {env.metadata}')\n",
        "print(f'observation_space: {env.observation_space}')"
      ],
      "execution_count": null,
      "outputs": []
    },
    {
      "cell_type": "code",
      "metadata": {
        "id": "F1XpVvp9vn7L"
      },
      "source": [
        "from __future__ import absolute_import\n",
        "import os, time\n",
        "from pathlib import Path\n",
        "from google.colab import drive\n",
        "drive.flush_and_unmount()\n",
        "drive.mount('/content/drive', force_remount=True)\n",
        "os.chdir('/content/drive/My Drive/PythonFiles')\n",
        "print(f'{Path.cwd()}')\n",
        "from BashColors import C\n",
        "from GetTPU import gt as gtp\n",
        "import tensorflow as tf\n",
        "import numpy as np\n"
      ],
      "execution_count": null,
      "outputs": []
    },
    {
      "cell_type": "code",
      "metadata": {
        "id": "sy7LqVOkzOvi"
      },
      "source": [
        "gtp.startTPU(clearOutput=False)\n",
        "tpuStrategy=gtp.tpu_strategy"
      ],
      "execution_count": null,
      "outputs": []
    },
    {
      "cell_type": "code",
      "metadata": {
        "id": "DnamzrouP8rn"
      },
      "source": [
        " # from tensorflow.device import *\n",
        " with tpuStrategy.scope():\n",
        "     %%time\n",
        "     for power in range(0,51):\n",
        "         x=2**power\n",
        "         # print(f'{power}. {x}')\n",
        "with tf.device('CPU:0'):\n",
        "    %%time\n",
        "    for power in range(0,51):\n",
        "        x=2**power\n",
        "        #"
      ],
      "execution_count": null,
      "outputs": []
    },
    {
      "cell_type": "code",
      "metadata": {
        "id": "FgvHZhUdW4Ow"
      },
      "source": [
        "gtp.stopTPU()"
      ],
      "execution_count": null,
      "outputs": []
    }
  ]
}