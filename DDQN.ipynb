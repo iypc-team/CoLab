{
  "nbformat": 4,
  "nbformat_minor": 0,
  "metadata": {
    "colab": {
      "name": "DDQN.ipynb",
      "provenance": [],
      "private_outputs": true,
      "collapsed_sections": [],
      "authorship_tag": "ABX9TyMIwTbnSLO2PDJKI6RX1XhO",
      "include_colab_link": true
    },
    "kernelspec": {
      "name": "python3",
      "display_name": "Python 3"
    }
  },
  "cells": [
    {
      "cell_type": "markdown",
      "metadata": {
        "id": "view-in-github",
        "colab_type": "text"
      },
      "source": [
        "<a href=\"https://colab.research.google.com/github/iypc-team/CoLab/blob/master/DDQN.ipynb\" target=\"_parent\"><img src=\"https://colab.research.google.com/assets/colab-badge.svg\" alt=\"Open In Colab\"/></a>"
      ]
    },
    {
      "cell_type": "code",
      "metadata": {
        "id": "Jc_8b8Y4bXoN",
        "colab_type": "code",
        "colab": {}
      },
      "source": [
        "import tensorflow as tf\n",
        "import tensorflow.keras as keras\n",
        "from tensorflow.keras.optimizers import Adam\n",
        "import numpy as np\n",
        "print(f'Ok')"
      ],
      "execution_count": 0,
      "outputs": []
    },
    {
      "cell_type": "code",
      "metadata": {
        "id": "6jIBh_fTcpuX",
        "colab_type": "code",
        "colab": {}
      },
      "source": [
        "class DuelingDeepQNetwork(keras.Model):\n",
        "    def __init__(self, fc1_dims, fc2_dims, n_actions):\n",
        "        # super(DuelingDeepQNetwork.__init__(self, fc1_dims,fc2_dims,n_actions))\n",
        "        super(DuelingDeepQNetwork, self).__init__()\n",
        "        self.dense1 = keras.layers.Dense(fc1_dims, activation='relu') \n",
        "        self.dense2 = keras.layers.Dense(fc2_dims, activation='relu') \n",
        "        self.V = keras.layers.Dense(1, activation=None)\n",
        "        self.A = keras.layers.Dense(n_actions, activation=None)\n",
        "\n",
        "    def call(self, state):\n",
        "        x = self.dense1(state)\n",
        "        \n",
        "print(f'Ok')"
      ],
      "execution_count": 0,
      "outputs": []
    },
    {
      "cell_type": "code",
      "metadata": {
        "id": "ePT2cHE8z5Sy",
        "colab_type": "code",
        "colab": {}
      },
      "source": [
        "ddqn = DuelingDeepQNetwork(fc1_dims=256,fc2_dims=1024, n_actions=9)"
      ],
      "execution_count": 0,
      "outputs": []
    },
    {
      "cell_type": "code",
      "metadata": {
        "id": "XPwd7aQI3Bwz",
        "colab_type": "code",
        "colab": {}
      },
      "source": [
        "ddqn.V"
      ],
      "execution_count": 0,
      "outputs": []
    }
  ]
}