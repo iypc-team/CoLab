{
  "nbformat": 4,
  "nbformat_minor": 0,
  "metadata": {
    "colab": {
      "name": "GoogleCredentials.ipynb",
      "private_outputs": true,
      "provenance": [],
      "collapsed_sections": [],
      "authorship_tag": "ABX9TyP/FWMLjwvXY+O2E2F+MEQR",
      "include_colab_link": true
    },
    "kernelspec": {
      "name": "python3",
      "display_name": "Python 3"
    },
    "language_info": {
      "name": "python"
    }
  },
  "cells": [
    {
      "cell_type": "markdown",
      "metadata": {
        "id": "view-in-github",
        "colab_type": "text"
      },
      "source": [
        "<a href=\"https://colab.research.google.com/github/iypc-team/CoLab/blob/master/GoogleCredentials.ipynb\" target=\"_parent\"><img src=\"https://colab.research.google.com/assets/colab-badge.svg\" alt=\"Open In Colab\"/></a>"
      ]
    },
    {
      "cell_type": "code",
      "execution_count": null,
      "metadata": {
        "id": "3b6nJnpFfeRw"
      },
      "outputs": [],
      "source": [
        "from __future__ import absolute_import\n",
        "import os, shutil\n",
        "from os.path import *\n",
        "\n",
        "contentPath = os.getcwd()\n",
        "bullshitPath= join(contentPath, 'sample_data')\n",
        "if exists(bullshitPath):\n",
        "    shutil.rmtree\n",
        "\n",
        "# Import PyDrive and associated libraries.\n",
        "# This only needs to be done once per notebook.\n",
        "from pydrive.auth import GoogleAuth\n",
        "from pydrive.drive import GoogleDrive\n",
        "from google.colab import auth\n",
        "from oauth2client.client import GoogleCredentials\n",
        "\n",
        "# Authenticate and create the PyDrive client.\n",
        "# This only needs to be done once per notebook.\n",
        "auth.authenticate_user()\n",
        "gauth = GoogleAuth()\n",
        "gauth.credentials = GoogleCredentials.get_application_default()\n",
        "drive = GoogleDrive(gauth)\n",
        "\n",
        "# List *.* files in the root.\n",
        "#\n",
        "# Search query reference:\n",
        "print('https://developers.google.com/drive/v2/web/search-parameters')\n",
        "listed = drive.ListFile({'q': \"title contains '*.*'\"}).GetList()\n",
        "for file in listed:\n",
        "    pass\n",
        "    fileName=str(file['title'])\n",
        "    print(fileName)\n",
        "    # print('title {}'.format(file['title']))\n",
        "    # print('type {}'.format('mime_type'))\n",
        "    print('title {}, id {}'.format(file['title'], file['id']))\n",
        "    print()\n",
        "\n"
      ]
    }
  ]
}